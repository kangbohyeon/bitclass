{
 "cells": [
  {
   "cell_type": "code",
   "execution_count": 1,
   "id": "44fb58c5",
   "metadata": {},
   "outputs": [],
   "source": [
    "redwine = sc.textFile('/wine/winequality-red.csv',3)"
   ]
  },
  {
   "cell_type": "code",
   "execution_count": 2,
   "id": "6d8f73d3",
   "metadata": {},
   "outputs": [
    {
     "data": {
      "text/plain": [
       "/wine/winequality-red.csv MapPartitionsRDD[1] at textFile at NativeMethodAccessorImpl.java:0"
      ]
     },
     "execution_count": 2,
     "metadata": {},
     "output_type": "execute_result"
    }
   ],
   "source": [
    "redwine.cache()"
   ]
  },
  {
   "cell_type": "code",
   "execution_count": 19,
   "id": "944d672c",
   "metadata": {},
   "outputs": [],
   "source": [
    "redwine_rdd = redwine.map(lambda x:x.split(';'))"
   ]
  },
  {
   "cell_type": "code",
   "execution_count": 20,
   "id": "fc9ece71",
   "metadata": {},
   "outputs": [],
   "source": [
    "redwine_table = redwine_rdd.collect()"
   ]
  },
  {
   "cell_type": "code",
   "execution_count": 21,
   "id": "20a6b727",
   "metadata": {},
   "outputs": [
    {
     "data": {
      "text/plain": [
       "['fixed acidity',\n",
       " 'volatile acidity',\n",
       " 'citric acid',\n",
       " 'residual sugar',\n",
       " 'chlorides',\n",
       " 'free sulfur dioxide',\n",
       " 'total sulfur dioxide',\n",
       " 'density',\n",
       " 'pH',\n",
       " 'sulphates',\n",
       " 'alcohol',\n",
       " 'quality']"
      ]
     },
     "execution_count": 21,
     "metadata": {},
     "output_type": "execute_result"
    }
   ],
   "source": [
    "headers = redwine_table.pop(0)\n",
    "headers = [str(header.replace('\"', '')) for header in headers]\n",
    "headers"
   ]
  },
  {
   "cell_type": "code",
   "execution_count": 22,
   "id": "38ca2e8d",
   "metadata": {},
   "outputs": [],
   "source": [
    "import pandas as pd\n",
    "redwine_df = pd.DataFrame(redwine_table, columns=headers)"
   ]
  },
  {
   "cell_type": "code",
   "execution_count": 23,
   "id": "2fa8c468",
   "metadata": {},
   "outputs": [],
   "source": [
    "train = redwine_df.sample(frac=0.7)\n",
    "test = redwine_df.loc[~redwine_df.index.isin(train.index)]"
   ]
  },
  {
   "cell_type": "code",
   "execution_count": 24,
   "id": "9013676d",
   "metadata": {},
   "outputs": [
    {
     "data": {
      "text/html": [
       "<div>\n",
       "<style scoped>\n",
       "    .dataframe tbody tr th:only-of-type {\n",
       "        vertical-align: middle;\n",
       "    }\n",
       "\n",
       "    .dataframe tbody tr th {\n",
       "        vertical-align: top;\n",
       "    }\n",
       "\n",
       "    .dataframe thead th {\n",
       "        text-align: right;\n",
       "    }\n",
       "</style>\n",
       "<table border=\"1\" class=\"dataframe\">\n",
       "  <thead>\n",
       "    <tr style=\"text-align: right;\">\n",
       "      <th></th>\n",
       "      <th>fixed acidity</th>\n",
       "      <th>volatile acidity</th>\n",
       "      <th>citric acid</th>\n",
       "      <th>residual sugar</th>\n",
       "      <th>chlorides</th>\n",
       "      <th>free sulfur dioxide</th>\n",
       "      <th>total sulfur dioxide</th>\n",
       "      <th>density</th>\n",
       "      <th>pH</th>\n",
       "      <th>sulphates</th>\n",
       "      <th>alcohol</th>\n",
       "      <th>quality</th>\n",
       "    </tr>\n",
       "  </thead>\n",
       "  <tbody>\n",
       "    <tr>\n",
       "      <th>533</th>\n",
       "      <td>10.3</td>\n",
       "      <td>0.27</td>\n",
       "      <td>0.24</td>\n",
       "      <td>2.1</td>\n",
       "      <td>0.072</td>\n",
       "      <td>15</td>\n",
       "      <td>33</td>\n",
       "      <td>0.9956</td>\n",
       "      <td>3.22</td>\n",
       "      <td>0.66</td>\n",
       "      <td>12.8</td>\n",
       "      <td>6</td>\n",
       "    </tr>\n",
       "    <tr>\n",
       "      <th>611</th>\n",
       "      <td>13.2</td>\n",
       "      <td>0.38</td>\n",
       "      <td>0.55</td>\n",
       "      <td>2.7</td>\n",
       "      <td>0.081</td>\n",
       "      <td>5</td>\n",
       "      <td>16</td>\n",
       "      <td>1.0006</td>\n",
       "      <td>2.98</td>\n",
       "      <td>0.54</td>\n",
       "      <td>9.4</td>\n",
       "      <td>5</td>\n",
       "    </tr>\n",
       "    <tr>\n",
       "      <th>580</th>\n",
       "      <td>12.3</td>\n",
       "      <td>0.5</td>\n",
       "      <td>0.49</td>\n",
       "      <td>2.2</td>\n",
       "      <td>0.089</td>\n",
       "      <td>5</td>\n",
       "      <td>14</td>\n",
       "      <td>1.0002</td>\n",
       "      <td>3.19</td>\n",
       "      <td>0.44</td>\n",
       "      <td>9.6</td>\n",
       "      <td>5</td>\n",
       "    </tr>\n",
       "    <tr>\n",
       "      <th>506</th>\n",
       "      <td>10.4</td>\n",
       "      <td>0.24</td>\n",
       "      <td>0.46</td>\n",
       "      <td>1.8</td>\n",
       "      <td>0.075</td>\n",
       "      <td>6</td>\n",
       "      <td>21</td>\n",
       "      <td>0.9976</td>\n",
       "      <td>3.25</td>\n",
       "      <td>1.02</td>\n",
       "      <td>10.8</td>\n",
       "      <td>7</td>\n",
       "    </tr>\n",
       "    <tr>\n",
       "      <th>352</th>\n",
       "      <td>7.7</td>\n",
       "      <td>0.665</td>\n",
       "      <td>0</td>\n",
       "      <td>2.4</td>\n",
       "      <td>0.09</td>\n",
       "      <td>8</td>\n",
       "      <td>19</td>\n",
       "      <td>0.9974</td>\n",
       "      <td>3.27</td>\n",
       "      <td>0.73</td>\n",
       "      <td>9.3</td>\n",
       "      <td>5</td>\n",
       "    </tr>\n",
       "  </tbody>\n",
       "</table>\n",
       "</div>"
      ],
      "text/plain": [
       "    fixed acidity volatile acidity citric acid residual sugar chlorides  \\\n",
       "533          10.3             0.27        0.24            2.1     0.072   \n",
       "611          13.2             0.38        0.55            2.7     0.081   \n",
       "580          12.3              0.5        0.49            2.2     0.089   \n",
       "506          10.4             0.24        0.46            1.8     0.075   \n",
       "352           7.7            0.665           0            2.4      0.09   \n",
       "\n",
       "    free sulfur dioxide total sulfur dioxide density    pH sulphates alcohol  \\\n",
       "533                  15                   33  0.9956  3.22      0.66    12.8   \n",
       "611                   5                   16  1.0006  2.98      0.54     9.4   \n",
       "580                   5                   14  1.0002  3.19      0.44     9.6   \n",
       "506                   6                   21  0.9976  3.25      1.02    10.8   \n",
       "352                   8                   19  0.9974  3.27      0.73     9.3   \n",
       "\n",
       "    quality  \n",
       "533       6  \n",
       "611       5  \n",
       "580       5  \n",
       "506       7  \n",
       "352       5  "
      ]
     },
     "execution_count": 24,
     "metadata": {},
     "output_type": "execute_result"
    }
   ],
   "source": [
    "train.head()"
   ]
  },
  {
   "cell_type": "code",
   "execution_count": 25,
   "id": "d0d37765",
   "metadata": {},
   "outputs": [
    {
     "data": {
      "text/html": [
       "<div>\n",
       "<style scoped>\n",
       "    .dataframe tbody tr th:only-of-type {\n",
       "        vertical-align: middle;\n",
       "    }\n",
       "\n",
       "    .dataframe tbody tr th {\n",
       "        vertical-align: top;\n",
       "    }\n",
       "\n",
       "    .dataframe thead th {\n",
       "        text-align: right;\n",
       "    }\n",
       "</style>\n",
       "<table border=\"1\" class=\"dataframe\">\n",
       "  <thead>\n",
       "    <tr style=\"text-align: right;\">\n",
       "      <th></th>\n",
       "      <th>fixed acidity</th>\n",
       "      <th>volatile acidity</th>\n",
       "      <th>citric acid</th>\n",
       "      <th>residual sugar</th>\n",
       "      <th>chlorides</th>\n",
       "      <th>free sulfur dioxide</th>\n",
       "      <th>total sulfur dioxide</th>\n",
       "      <th>density</th>\n",
       "      <th>pH</th>\n",
       "      <th>sulphates</th>\n",
       "      <th>alcohol</th>\n",
       "      <th>quality</th>\n",
       "    </tr>\n",
       "  </thead>\n",
       "  <tbody>\n",
       "    <tr>\n",
       "      <th>1</th>\n",
       "      <td>7.8</td>\n",
       "      <td>0.88</td>\n",
       "      <td>0</td>\n",
       "      <td>2.6</td>\n",
       "      <td>0.098</td>\n",
       "      <td>25</td>\n",
       "      <td>67</td>\n",
       "      <td>0.9968</td>\n",
       "      <td>3.2</td>\n",
       "      <td>0.68</td>\n",
       "      <td>9.8</td>\n",
       "      <td>5</td>\n",
       "    </tr>\n",
       "    <tr>\n",
       "      <th>2</th>\n",
       "      <td>7.8</td>\n",
       "      <td>0.76</td>\n",
       "      <td>0.04</td>\n",
       "      <td>2.3</td>\n",
       "      <td>0.092</td>\n",
       "      <td>15</td>\n",
       "      <td>54</td>\n",
       "      <td>0.997</td>\n",
       "      <td>3.26</td>\n",
       "      <td>0.65</td>\n",
       "      <td>9.8</td>\n",
       "      <td>5</td>\n",
       "    </tr>\n",
       "    <tr>\n",
       "      <th>8</th>\n",
       "      <td>7.8</td>\n",
       "      <td>0.58</td>\n",
       "      <td>0.02</td>\n",
       "      <td>2</td>\n",
       "      <td>0.073</td>\n",
       "      <td>9</td>\n",
       "      <td>18</td>\n",
       "      <td>0.9968</td>\n",
       "      <td>3.36</td>\n",
       "      <td>0.57</td>\n",
       "      <td>9.5</td>\n",
       "      <td>7</td>\n",
       "    </tr>\n",
       "    <tr>\n",
       "      <th>13</th>\n",
       "      <td>7.8</td>\n",
       "      <td>0.61</td>\n",
       "      <td>0.29</td>\n",
       "      <td>1.6</td>\n",
       "      <td>0.114</td>\n",
       "      <td>9</td>\n",
       "      <td>29</td>\n",
       "      <td>0.9974</td>\n",
       "      <td>3.26</td>\n",
       "      <td>1.56</td>\n",
       "      <td>9.1</td>\n",
       "      <td>5</td>\n",
       "    </tr>\n",
       "    <tr>\n",
       "      <th>17</th>\n",
       "      <td>8.1</td>\n",
       "      <td>0.56</td>\n",
       "      <td>0.28</td>\n",
       "      <td>1.7</td>\n",
       "      <td>0.368</td>\n",
       "      <td>16</td>\n",
       "      <td>56</td>\n",
       "      <td>0.9968</td>\n",
       "      <td>3.11</td>\n",
       "      <td>1.28</td>\n",
       "      <td>9.3</td>\n",
       "      <td>5</td>\n",
       "    </tr>\n",
       "  </tbody>\n",
       "</table>\n",
       "</div>"
      ],
      "text/plain": [
       "   fixed acidity volatile acidity citric acid residual sugar chlorides  \\\n",
       "1            7.8             0.88           0            2.6     0.098   \n",
       "2            7.8             0.76        0.04            2.3     0.092   \n",
       "8            7.8             0.58        0.02              2     0.073   \n",
       "13           7.8             0.61        0.29            1.6     0.114   \n",
       "17           8.1             0.56        0.28            1.7     0.368   \n",
       "\n",
       "   free sulfur dioxide total sulfur dioxide density    pH sulphates alcohol  \\\n",
       "1                   25                   67  0.9968   3.2      0.68     9.8   \n",
       "2                   15                   54   0.997  3.26      0.65     9.8   \n",
       "8                    9                   18  0.9968  3.36      0.57     9.5   \n",
       "13                   9                   29  0.9974  3.26      1.56     9.1   \n",
       "17                  16                   56  0.9968  3.11      1.28     9.3   \n",
       "\n",
       "   quality  \n",
       "1        5  \n",
       "2        5  \n",
       "8        7  \n",
       "13       5  \n",
       "17       5  "
      ]
     },
     "execution_count": 25,
     "metadata": {},
     "output_type": "execute_result"
    }
   ],
   "source": [
    "test.head()"
   ]
  },
  {
   "cell_type": "code",
   "execution_count": 26,
   "id": "390447d4",
   "metadata": {},
   "outputs": [
    {
     "name": "stdout",
     "output_type": "stream",
     "text": [
      "(1119, 12) (480, 12)\n"
     ]
    }
   ],
   "source": [
    "print(train.shape,test.shape)"
   ]
  },
  {
   "cell_type": "code",
   "execution_count": 27,
   "id": "035f5b15",
   "metadata": {},
   "outputs": [],
   "source": [
    "train_x=train.iloc[:,:-1]"
   ]
  },
  {
   "cell_type": "code",
   "execution_count": 28,
   "id": "f12ba90a",
   "metadata": {},
   "outputs": [],
   "source": [
    "train_y=train.iloc[:,-1]"
   ]
  },
  {
   "cell_type": "code",
   "execution_count": 29,
   "id": "4275b4c2",
   "metadata": {},
   "outputs": [],
   "source": [
    "test_x=train.iloc[:,:-1]\n",
    "test_y=train.iloc[:,-1]"
   ]
  },
  {
   "cell_type": "code",
   "execution_count": 30,
   "id": "6e55b87c",
   "metadata": {},
   "outputs": [
    {
     "name": "stderr",
     "output_type": "stream",
     "text": [
      "/home/kbh/.local/lib/python3.6/site-packages/sklearn/neural_network/_multilayer_perceptron.py:617: ConvergenceWarning: Stochastic Optimizer: Maximum iterations (200) reached and the optimization hasn't converged yet.\n",
      "  % self.max_iter, ConvergenceWarning)\n"
     ]
    },
    {
     "data": {
      "text/plain": [
       "MLPClassifier(hidden_layer_sizes=(50, 30))"
      ]
     },
     "execution_count": 30,
     "metadata": {},
     "output_type": "execute_result"
    }
   ],
   "source": [
    "from sklearn.neural_network import MLPClassifier\n",
    "mlp = MLPClassifier(hidden_layer_sizes=(50,30))\n",
    "mlp.fit(train_x, train_y)"
   ]
  },
  {
   "cell_type": "code",
   "execution_count": 31,
   "id": "f59d6c31",
   "metadata": {},
   "outputs": [],
   "source": [
    "pred = mlp.predict(test_x)"
   ]
  },
  {
   "cell_type": "code",
   "execution_count": 32,
   "id": "33b38b82",
   "metadata": {},
   "outputs": [],
   "source": [
    "confusion_matrix = pd.crosstab(test_y,pred,rownames=['True'],\n",
    "                              colnames=['Predicted'],\n",
    "                              margins=True)"
   ]
  },
  {
   "cell_type": "code",
   "execution_count": 33,
   "id": "4741bd3d",
   "metadata": {},
   "outputs": [
    {
     "data": {
      "text/html": [
       "<div>\n",
       "<style scoped>\n",
       "    .dataframe tbody tr th:only-of-type {\n",
       "        vertical-align: middle;\n",
       "    }\n",
       "\n",
       "    .dataframe tbody tr th {\n",
       "        vertical-align: top;\n",
       "    }\n",
       "\n",
       "    .dataframe thead th {\n",
       "        text-align: right;\n",
       "    }\n",
       "</style>\n",
       "<table border=\"1\" class=\"dataframe\">\n",
       "  <thead>\n",
       "    <tr style=\"text-align: right;\">\n",
       "      <th>Predicted</th>\n",
       "      <th>4</th>\n",
       "      <th>5</th>\n",
       "      <th>6</th>\n",
       "      <th>7</th>\n",
       "      <th>All</th>\n",
       "    </tr>\n",
       "    <tr>\n",
       "      <th>True</th>\n",
       "      <th></th>\n",
       "      <th></th>\n",
       "      <th></th>\n",
       "      <th></th>\n",
       "      <th></th>\n",
       "    </tr>\n",
       "  </thead>\n",
       "  <tbody>\n",
       "    <tr>\n",
       "      <th>3</th>\n",
       "      <td>1</td>\n",
       "      <td>6</td>\n",
       "      <td>1</td>\n",
       "      <td>0</td>\n",
       "      <td>8</td>\n",
       "    </tr>\n",
       "    <tr>\n",
       "      <th>4</th>\n",
       "      <td>0</td>\n",
       "      <td>28</td>\n",
       "      <td>7</td>\n",
       "      <td>0</td>\n",
       "      <td>35</td>\n",
       "    </tr>\n",
       "    <tr>\n",
       "      <th>5</th>\n",
       "      <td>0</td>\n",
       "      <td>386</td>\n",
       "      <td>92</td>\n",
       "      <td>1</td>\n",
       "      <td>479</td>\n",
       "    </tr>\n",
       "    <tr>\n",
       "      <th>6</th>\n",
       "      <td>0</td>\n",
       "      <td>159</td>\n",
       "      <td>267</td>\n",
       "      <td>14</td>\n",
       "      <td>440</td>\n",
       "    </tr>\n",
       "    <tr>\n",
       "      <th>7</th>\n",
       "      <td>0</td>\n",
       "      <td>7</td>\n",
       "      <td>103</td>\n",
       "      <td>34</td>\n",
       "      <td>144</td>\n",
       "    </tr>\n",
       "    <tr>\n",
       "      <th>8</th>\n",
       "      <td>0</td>\n",
       "      <td>1</td>\n",
       "      <td>9</td>\n",
       "      <td>3</td>\n",
       "      <td>13</td>\n",
       "    </tr>\n",
       "    <tr>\n",
       "      <th>All</th>\n",
       "      <td>1</td>\n",
       "      <td>587</td>\n",
       "      <td>479</td>\n",
       "      <td>52</td>\n",
       "      <td>1119</td>\n",
       "    </tr>\n",
       "  </tbody>\n",
       "</table>\n",
       "</div>"
      ],
      "text/plain": [
       "Predicted  4    5    6   7   All\n",
       "True                            \n",
       "3          1    6    1   0     8\n",
       "4          0   28    7   0    35\n",
       "5          0  386   92   1   479\n",
       "6          0  159  267  14   440\n",
       "7          0    7  103  34   144\n",
       "8          0    1    9   3    13\n",
       "All        1  587  479  52  1119"
      ]
     },
     "execution_count": 33,
     "metadata": {},
     "output_type": "execute_result"
    }
   ],
   "source": [
    "confusion_matrix"
   ]
  },
  {
   "cell_type": "code",
   "execution_count": 34,
   "id": "4d34058a",
   "metadata": {},
   "outputs": [
    {
     "name": "stdout",
     "output_type": "stream",
     "text": [
      "test score : 0.613941018766756\n"
     ]
    }
   ],
   "source": [
    "print(\"test score : %s\" %mlp.score(test_x,test_y))"
   ]
  },
  {
   "cell_type": "code",
   "execution_count": 35,
   "id": "13f9babf",
   "metadata": {},
   "outputs": [
    {
     "name": "stdout",
     "output_type": "stream",
     "text": [
      "train score : 0.613941018766756\n"
     ]
    }
   ],
   "source": [
    "print(\"train score : %s\" %mlp.score(train_x,train_y))"
   ]
  },
  {
   "cell_type": "code",
   "execution_count": null,
   "id": "d8f148c1",
   "metadata": {},
   "outputs": [],
   "source": []
  }
 ],
 "metadata": {
  "kernelspec": {
   "display_name": "Python 3",
   "language": "python",
   "name": "python3"
  },
  "language_info": {
   "codemirror_mode": {
    "name": "ipython",
    "version": 3
   },
   "file_extension": ".py",
   "mimetype": "text/x-python",
   "name": "python",
   "nbconvert_exporter": "python",
   "pygments_lexer": "ipython3",
   "version": "3.6.8"
  }
 },
 "nbformat": 4,
 "nbformat_minor": 5
}
