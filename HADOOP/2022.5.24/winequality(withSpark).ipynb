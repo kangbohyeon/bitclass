{
 "cells": [
  {
   "cell_type": "code",
   "execution_count": 1,
   "id": "a9b38df9",
   "metadata": {},
   "outputs": [
    {
     "ename": "NameError",
     "evalue": "name 'sc' is not defined",
     "output_type": "error",
     "traceback": [
      "\u001b[1;31m---------------------------------------------------------------------------\u001b[0m",
      "\u001b[1;31mNameError\u001b[0m                                 Traceback (most recent call last)",
      "\u001b[1;32m~\\AppData\\Local\\Temp/ipykernel_5604/2665032857.py\u001b[0m in \u001b[0;36m<module>\u001b[1;34m\u001b[0m\n\u001b[1;32m----> 1\u001b[1;33m \u001b[0mredwine\u001b[0m \u001b[1;33m=\u001b[0m \u001b[0msc\u001b[0m\u001b[1;33m.\u001b[0m\u001b[0mtextFile\u001b[0m\u001b[1;33m(\u001b[0m\u001b[1;34m'wine-quality/winequality-red.csv'\u001b[0m\u001b[1;33m,\u001b[0m \u001b[1;36m3\u001b[0m\u001b[1;33m)\u001b[0m\u001b[1;33m\u001b[0m\u001b[1;33m\u001b[0m\u001b[0m\n\u001b[0m",
      "\u001b[1;31mNameError\u001b[0m: name 'sc' is not defined"
     ]
    }
   ],
   "source": [
    "redwine = sc.textFile('/wine/winequality-red.csv', 3)"
   ]
  },
  {
   "cell_type": "code",
   "execution_count": null,
   "id": "d66baa02",
   "metadata": {},
   "outputs": [],
   "source": [
    "redwine.cache()"
   ]
  },
  {
   "cell_type": "code",
   "execution_count": null,
   "id": "47af7f7a",
   "metadata": {},
   "outputs": [],
   "source": [
    "redwine_rdd = redwine.map(lambda x:x.split(';'))"
   ]
  },
  {
   "cell_type": "code",
   "execution_count": null,
   "id": "967c5357",
   "metadata": {},
   "outputs": [],
   "source": [
    "redwine_table = redwine_rdd.collect()"
   ]
  },
  {
   "cell_type": "code",
   "execution_count": null,
   "id": "8e4ec8e3",
   "metadata": {},
   "outputs": [],
   "source": [
    "headers = redwine_table.pop(0)\n",
    "headers = [str(header.replace('\"', '')) for header in headers]\n",
    "headers"
   ]
  },
  {
   "cell_type": "code",
   "execution_count": null,
   "id": "142c616b",
   "metadata": {},
   "outputs": [],
   "source": [
    "import pandas as pd\n",
    "redwine_df = pd.DataFrame(redwine_table, columns=headers)"
   ]
  },
  {
   "cell_type": "code",
   "execution_count": null,
   "id": "9a934e2c",
   "metadata": {},
   "outputs": [],
   "source": [
    "train = redwine_df.sample(frac=0.7)\n",
    "test = redwine_df.loc[~redwine_df.index.isin(train.index)]"
   ]
  },
  {
   "cell_type": "code",
   "execution_count": null,
   "id": "617b0e9b",
   "metadata": {},
   "outputs": [],
   "source": [
    "train.head()"
   ]
  },
  {
   "cell_type": "code",
   "execution_count": 2,
   "id": "ef763aca",
   "metadata": {},
   "outputs": [
    {
     "ename": "NameError",
     "evalue": "name 'test' is not defined",
     "output_type": "error",
     "traceback": [
      "\u001b[1;31m---------------------------------------------------------------------------\u001b[0m",
      "\u001b[1;31mNameError\u001b[0m                                 Traceback (most recent call last)",
      "\u001b[1;32m~\\AppData\\Local\\Temp/ipykernel_5604/2541137542.py\u001b[0m in \u001b[0;36m<module>\u001b[1;34m\u001b[0m\n\u001b[1;32m----> 1\u001b[1;33m \u001b[0mtest\u001b[0m\u001b[1;33m.\u001b[0m\u001b[0mhead\u001b[0m\u001b[1;33m(\u001b[0m\u001b[1;33m)\u001b[0m\u001b[1;33m\u001b[0m\u001b[1;33m\u001b[0m\u001b[0m\n\u001b[0m",
      "\u001b[1;31mNameError\u001b[0m: name 'test' is not defined"
     ]
    }
   ],
   "source": [
    "test.head()"
   ]
  },
  {
   "cell_type": "code",
   "execution_count": null,
   "id": "5deb7a3d",
   "metadata": {},
   "outputs": [],
   "source": [
    "print(train.shape, test.shape)"
   ]
  },
  {
   "cell_type": "code",
   "execution_count": null,
   "id": "b427c9ef",
   "metadata": {},
   "outputs": [],
   "source": [
    "train_x = train.iloc[:, :-1]\n",
    "train_y = train.iloc[:, -1]"
   ]
  },
  {
   "cell_type": "code",
   "execution_count": null,
   "id": "90756823",
   "metadata": {},
   "outputs": [],
   "source": [
    "test_x = train.iloc[:, :-1]\n",
    "test_y = train.iloc[:, -1]"
   ]
  },
  {
   "cell_type": "code",
   "execution_count": null,
   "id": "29c359ad",
   "metadata": {},
   "outputs": [],
   "source": [
    "from sklearn.neural_network import MLPClassifier\n",
    "mlp = MLPClassifier(hidden_layer_sizes=(50, 30))\n",
    "mlp.fit(train_x, train_y)"
   ]
  },
  {
   "cell_type": "code",
   "execution_count": null,
   "id": "1d551da9",
   "metadata": {},
   "outputs": [],
   "source": [
    "pred = mlp.predict(test_x)"
   ]
  },
  {
   "cell_type": "code",
   "execution_count": null,
   "id": "2506ef66",
   "metadata": {},
   "outputs": [],
   "source": [
    "confusion_matrix = pd.crosstab(test_y, pred,\n",
    "                               rownames=['True'],\n",
    "                               colnames=['Predicted'],\n",
    "                               margins=True)"
   ]
  },
  {
   "cell_type": "code",
   "execution_count": null,
   "id": "470a32a4",
   "metadata": {},
   "outputs": [],
   "source": [
    "confusion_matrix"
   ]
  },
  {
   "cell_type": "code",
   "execution_count": null,
   "id": "32bda548",
   "metadata": {},
   "outputs": [],
   "source": [
    "print(\"Test score: %s\" % mlp.score(test_x, test_y))"
   ]
  },
  {
   "cell_type": "code",
   "execution_count": null,
   "id": "fcebc6d2",
   "metadata": {},
   "outputs": [],
   "source": [
    "print(\"Training score: %s\" % mlp.score(train_x, train_y))"
   ]
  },
  {
   "cell_type": "code",
   "execution_count": null,
   "id": "1a809e62",
   "metadata": {},
   "outputs": [],
   "source": []
  }
 ],
 "metadata": {
  "kernelspec": {
   "display_name": "Python 3 (ipykernel)",
   "language": "python",
   "name": "python3"
  },
  "language_info": {
   "codemirror_mode": {
    "name": "ipython",
    "version": 3
   },
   "file_extension": ".py",
   "mimetype": "text/x-python",
   "name": "python",
   "nbconvert_exporter": "python",
   "pygments_lexer": "ipython3",
   "version": "3.9.7"
  }
 },
 "nbformat": 4,
 "nbformat_minor": 5
}
