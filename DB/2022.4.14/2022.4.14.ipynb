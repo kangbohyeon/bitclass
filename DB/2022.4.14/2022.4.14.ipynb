{
 "cells": [
  {
   "cell_type": "code",
   "execution_count": 7,
   "id": "551346b2-1ab3-43ad-8197-ba44311f25c6",
   "metadata": {},
   "outputs": [],
   "source": [
    "import pymongo\n",
    "\n",
    "import gridfs\n",
    "\n",
    "client = pymongo.MongoClient()\n",
    "db = client.test\n",
    "fs = gridfs.GridFS(db)\n",
    "file_id = fs.put(b\"Hello, world\", filename=\"foo.txt\")\n",
    "fs.list()\n",
    "\n",
    "fs.get(file_id).read()"
   ]
  },
  {
   "cell_type": "code",
   "execution_count": null,
   "id": "071644d9-dedb-4f9f-b4d6-527a6ec74cb2",
   "metadata": {},
   "outputs": [],
   "source": []
  }
 ],
 "metadata": {
  "kernelspec": {
   "display_name": "Python 3 (ipykernel)",
   "language": "python",
   "name": "python3"
  },
  "language_info": {
   "codemirror_mode": {
    "name": "ipython",
    "version": 3
   },
   "file_extension": ".py",
   "mimetype": "text/x-python",
   "name": "python",
   "nbconvert_exporter": "python",
   "pygments_lexer": "ipython3",
   "version": "3.9.7"
  }
 },
 "nbformat": 4,
 "nbformat_minor": 5
}
