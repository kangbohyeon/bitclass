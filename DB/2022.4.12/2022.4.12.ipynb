{
 "cells": [
  {
   "cell_type": "code",
   "execution_count": 1,
   "id": "9c4d8337-4ddd-4e70-936a-bf89c84c1d5e",
   "metadata": {},
   "outputs": [
    {
     "name": "stdout",
     "output_type": "stream",
     "text": [
      "Collecting pymysql\n",
      "  Downloading PyMySQL-1.0.2-py3-none-any.whl (43 kB)\n",
      "Installing collected packages: pymysql\n",
      "Successfully installed pymysql-1.0.2\n"
     ]
    }
   ],
   "source": [
    "! pip install pymysql"
   ]
  },
  {
   "cell_type": "code",
   "execution_count": null,
   "id": "6cedaeb8-4167-4c4c-ac75-35e09e8238df",
   "metadata": {},
   "outputs": [],
   "source": [
    "! conda install pymysql"
   ]
  },
  {
   "cell_type": "code",
   "execution_count": 1,
   "id": "32a961b9-1b9d-456e-abf9-3e15e6fdb149",
   "metadata": {},
   "outputs": [],
   "source": [
    "import pymysql"
   ]
  },
  {
   "cell_type": "code",
   "execution_count": 6,
   "id": "7e2987e7-4ef8-4b95-b4fa-07a2e1f874f2",
   "metadata": {},
   "outputs": [],
   "source": [
    "con = pymysql.connect(host='127.0.0.1',user='root',password='1234',db='sqldb',charset='utf8')"
   ]
  },
  {
   "cell_type": "code",
   "execution_count": 7,
   "id": "8b3e6fb4-a8c2-4bb9-99ea-27fc17a719d3",
   "metadata": {},
   "outputs": [],
   "source": [
    "cur = con.cursor()"
   ]
  },
  {
   "cell_type": "code",
   "execution_count": 8,
   "id": "c55d4ff2-16b6-49ad-ad15-99e656d4a600",
   "metadata": {},
   "outputs": [
    {
     "data": {
      "text/plain": [
       "10"
      ]
     },
     "execution_count": 8,
     "metadata": {},
     "output_type": "execute_result"
    }
   ],
   "source": [
    "sql = \"select * from sqldb.usertb1\"\n",
    "cur.execute(sql)"
   ]
  },
  {
   "cell_type": "code",
   "execution_count": 9,
   "id": "6b8268f9-5c15-4ffc-a1ee-809da0a0a5c0",
   "metadata": {},
   "outputs": [
    {
     "name": "stdout",
     "output_type": "stream",
     "text": [
      "(('BBK', '바비킴', 1973, '서울', '010', '0000000', 176, datetime.date(2013, 5, 5)), ('EJW', '은지원', 1972, '경북', '011', '8888888', 174, datetime.date(2014, 3, 3)), ('JKW', '조관우', 1965, '경기', '018', '9999999', 172, datetime.date(2010, 10, 10)), ('JYP', '조용필', 1950, '경기', '011', '4444444', 166, datetime.date(2009, 4, 4)), ('KBs', '김범수', 1979, '경남', '011', '2222222', 173, datetime.date(2012, 4, 4)), ('KKH', '김경호', 1971, '전남', '019', '3333333', 177, datetime.date(2007, 7, 7)), ('LJB', '임재범', 1963, '서울', '016', '6666666', 182, datetime.date(2009, 9, 9)), ('LSG', '이승기', 1987, '서울', '011', '1111111', 182, datetime.date(2008, 8, 8)), ('SSK', '성시경', 1979, '서울', None, None, 186, datetime.date(2013, 12, 12)), ('YJS', '윤종신', 1969, '경남', None, None, 170, datetime.date(2005, 5, 5)))\n"
     ]
    }
   ],
   "source": [
    "rows = cur.fetchall()\n",
    "print(rows)"
   ]
  },
  {
   "cell_type": "code",
   "execution_count": 10,
   "id": "2c023f88-ac8f-4852-b3be-426eb76c967f",
   "metadata": {},
   "outputs": [
    {
     "data": {
      "text/plain": [
       "tuple"
      ]
     },
     "execution_count": 10,
     "metadata": {},
     "output_type": "execute_result"
    }
   ],
   "source": [
    "type(rows)"
   ]
  },
  {
   "cell_type": "code",
   "execution_count": 11,
   "id": "d1787d50-0552-47a0-881e-18e01d3dc790",
   "metadata": {},
   "outputs": [],
   "source": [
    "con.close()"
   ]
  },
  {
   "cell_type": "code",
   "execution_count": 38,
   "id": "481fe6b2-93ad-4aeb-a630-1c36c471155c",
   "metadata": {},
   "outputs": [
    {
     "name": "stdout",
     "output_type": "stream",
     "text": [
      "사용자ID     사용자이름          이메일           출생연도\n",
      "---------------------------------------------------------------\n",
      "BBK             바비킴            1973              서울\n",
      "EJW             은지원            1972              경북\n",
      "JKW             조관우            1965              경기\n",
      "JYP             조용필            1950              경기\n",
      "KBs             김범수            1979              경남\n",
      "KKH             김경호            1971              전남\n",
      "LJB             임재범            1963              서울\n",
      "LSG             이승기            1987              서울\n",
      "SSK             성시경            1979              서울\n",
      "YJS             윤종신            1969              경남\n"
     ]
    }
   ],
   "source": [
    "import pymysql\n",
    "con, cur = None,None\n",
    "data1,data2,data3,data4 = \"\",\"\",\"\",\"\"\n",
    "row=None\n",
    "\n",
    "con = pymysql.connect(host='127.0.0.1',user='root',password='1234',db='sqldb',charset='utf8')\n",
    "cur=con.cursor()\n",
    "\n",
    "cur.execute(\"select * from usertb1\")\n",
    "print(\"사용자ID     사용자이름          이메일           출생연도\")\n",
    "print(\"---------------------------------------------------------------\")\n",
    "while (True):\n",
    "    row = cur.fetchone()\n",
    "    if row==None:\n",
    "        break\n",
    "    data1 = row[0]\n",
    "    data2 = row[1]\n",
    "    data3 = row[2]\n",
    "    data4 = row[3]\n",
    "    print(\"%s %15s %15s %15s\"%(data1,data2,data3,data4))\n",
    "\n",
    "con.close()"
   ]
  },
  {
   "cell_type": "code",
   "execution_count": 33,
   "id": "6fd9a98e-0d13-4d6e-a454-5edfb239a15a",
   "metadata": {},
   "outputs": [
    {
     "name": "stdout",
     "output_type": "stream",
     "text": [
      "Collecting package metadata (current_repodata.json): ...working... done\n",
      "Solving environment: ...working... done\n",
      "\n",
      "## Package Plan ##\n",
      "\n",
      "  environment location: C:\\Users\\BIT\\anaconda3\\envs\\PythonLecture\n",
      "\n",
      "  added / updated specs:\n",
      "    - pandas\n",
      "\n",
      "\n",
      "The following packages will be downloaded:\n",
      "\n",
      "    package                    |            build\n",
      "    ---------------------------|-----------------\n",
      "    bottleneck-1.3.4           |   py39h080aedc_0         109 KB\n",
      "    numexpr-2.8.1              |   py39hb80d3ca_0         117 KB\n",
      "    numpy-1.21.5               |   py39ha4e8547_0           9 KB\n",
      "    numpy-base-1.21.5          |   py39hc2deb75_0         4.4 MB\n",
      "    pandas-1.4.1               |   py39hd77b12b_1         8.9 MB\n",
      "    ------------------------------------------------------------\n",
      "                                           Total:        13.5 MB\n",
      "\n",
      "The following NEW packages will be INSTALLED:\n",
      "\n",
      "  blas               pkgs/main/win-64::blas-1.0-mkl\n",
      "  bottleneck         pkgs/main/win-64::bottleneck-1.3.4-py39h080aedc_0\n",
      "  intel-openmp       pkgs/main/win-64::intel-openmp-2021.4.0-haa95532_3556\n",
      "  mkl                pkgs/main/win-64::mkl-2021.4.0-haa95532_640\n",
      "  mkl-service        pkgs/main/win-64::mkl-service-2.4.0-py39h2bbff1b_0\n",
      "  mkl_fft            pkgs/main/win-64::mkl_fft-1.3.1-py39h277e83a_0\n",
      "  mkl_random         pkgs/main/win-64::mkl_random-1.2.2-py39hf11a4ad_0\n",
      "  numexpr            pkgs/main/win-64::numexpr-2.8.1-py39hb80d3ca_0\n",
      "  numpy              pkgs/main/win-64::numpy-1.21.5-py39ha4e8547_0\n",
      "  numpy-base         pkgs/main/win-64::numpy-base-1.21.5-py39hc2deb75_0\n",
      "  pandas             pkgs/main/win-64::pandas-1.4.1-py39hd77b12b_1\n",
      "\n",
      "\n",
      "\n",
      "Downloading and Extracting Packages\n",
      "\n",
      "pandas-1.4.1         | 8.9 MB    |            |   0% \n",
      "pandas-1.4.1         | 8.9 MB    | ####3      |  44% \n",
      "pandas-1.4.1         | 8.9 MB    | ########## | 100% \n",
      "pandas-1.4.1         | 8.9 MB    | ########## | 100% \n",
      "\n",
      "numexpr-2.8.1        | 117 KB    |            |   0% \n",
      "numexpr-2.8.1        | 117 KB    | ########## | 100% \n",
      "\n",
      "numpy-base-1.21.5    | 4.4 MB    |            |   0% \n",
      "numpy-base-1.21.5    | 4.4 MB    | ########## | 100% \n",
      "numpy-base-1.21.5    | 4.4 MB    | ########## | 100% \n",
      "\n",
      "bottleneck-1.3.4     | 109 KB    |            |   0% \n",
      "bottleneck-1.3.4     | 109 KB    | ########## | 100% \n",
      "bottleneck-1.3.4     | 109 KB    | ########## | 100% \n",
      "\n",
      "numpy-1.21.5         | 9 KB      |            |   0% \n",
      "numpy-1.21.5         | 9 KB      | ########## | 100% \n",
      "Preparing transaction: ...working... done\n",
      "Verifying transaction: ...working... done\n",
      "Executing transaction: ...working... done\n",
      "^C\n"
     ]
    }
   ],
   "source": [
    "! conda install pandas"
   ]
  },
  {
   "cell_type": "code",
   "execution_count": 81,
   "id": "d59e36d1-32af-4208-86ef-65d81d26989b",
   "metadata": {},
   "outputs": [],
   "source": [
    "import pandas as pd"
   ]
  },
  {
   "cell_type": "code",
   "execution_count": 99,
   "id": "8fa5001b-ee33-4c8e-b5cd-b6e6f098e9dc",
   "metadata": {},
   "outputs": [
    {
     "data": {
      "text/plain": [
       "1"
      ]
     },
     "execution_count": 99,
     "metadata": {},
     "output_type": "execute_result"
    }
   ],
   "source": [
    "import pymysql\n",
    "con = pymysql.connect(host='127.0.0.1',user='root',password='1234',db='sqldb',charset='utf8')\n",
    "cur=con.cursor()\n",
    "#data1 = edt1.get();     data2 = edt2.get();    data3 = edt3.get();    data4 = edt4.get();\n",
    "\n",
    "#sql = \"insert into usertbl values('\" + data1 + \"', '\" + data2 +\"','\"+data3+\"',\"+data4+\")\"\n",
    "sql = \"insert into usertbl values('wea' , 'wooja', 'se', 1992)\"\n",
    "cur.execute(sql)\n"
   ]
  },
  {
   "cell_type": "code",
   "execution_count": 82,
   "id": "90305067-0678-4d8b-8a35-e5b3d3d07da8",
   "metadata": {},
   "outputs": [],
   "source": [
    "import pymysql\n",
    "con, cur = None,None\n",
    "data1,data2,data3,data4 = \"\",\"\",\"\",\"\"\n",
    "row=None\n",
    "\n",
    "con = pymysql.connect(host='127.0.0.1',user='root',password='1234',db='sqldb',charset='utf8')\n",
    "cur=con.cursor()\n",
    "\n",
    "cur.execute(\"select * from usertb1\")\n",
    "row = cur.fetchall()\n",
    "df = pd.DataFrame(row)\n",
    "df\n",
    "con.close()"
   ]
  },
  {
   "cell_type": "code",
   "execution_count": 147,
   "id": "04a7400a-b625-4afc-b215-6a5a12a76d49",
   "metadata": {},
   "outputs": [],
   "source": [
    "import pymysql\n",
    "from tkinter import *\n",
    "from tkinter import messagebox\n",
    "\n",
    "\n",
    "\n",
    "def insertData():\n",
    "    con,cur=None,None\n",
    "    data1,data2,data3,data4 = \"\",\"\",\"\",\"\"\n",
    "    sql=\"\"\n",
    "    \n",
    "    con = pymysql.connect(host='127.0.0.1',user='root',password='1234',db='sqldb',charset='utf8')\n",
    "    cur=con.cursor()\n",
    "    data1 = edt1.get();     data2 = edt2.get();    data3 = edt3.get();    data4 = edt4.get();\n",
    "    try :\n",
    "        sql = \"insert into usertbl values('\" + data1 + \"', '\" + data2 +\"','\"+data3+\"',\"+data4+\")\"\n",
    "        #sql = \"insert into usertbl values(\"woo\" , \"wooja\", \"se\", 1992)\"\n",
    "        cur.execute(sql)\n",
    "    except Exception as e:\n",
    "        messagebox.showerror('오류', '데이터 입력 오류가 발생함', e)\n",
    "    else:\n",
    "        messagebox.showinfo('성공','데이터 입력 성공')\n",
    "    con.commit()\n",
    "    con.close()\n",
    "\n",
    "\n",
    "def selectData():\n",
    "    strData1, strData2, strData3, strData4 = [],[],[],[]\n",
    "    con = pymysql.connect(host='127.0.0.1',user='root',password='1234',db='sqldb',charset='utf8')\n",
    "    cur=con.cursor()\n",
    "    cur.execute(\"select * from usertbl\")\n",
    "    \n",
    "    strData1.append(\"사용자ID\"); strData2.append(\"사용자이름\"); strData3.append(\"주소\"); strData4.append(\"출생년도\")\n",
    "    strData1.append(\"----------\");strData2.append(\"----------\");strData3.append(\"----------\");strData4.append(\"----------\")\n",
    "    while (True):\n",
    "        row = cur.fetchone()\n",
    "        if row==None:\n",
    "            break\n",
    "        strData1.append(row[0])\n",
    "        strData2.append(row[1])\n",
    "        strData3.append(row[2])\n",
    "        strData4.append(row[3])\n",
    "        \n",
    "    listData1.delete(0,listData1.size()-1)\n",
    "    listData2.delete(0,listData2.size()-1)\n",
    "    listData3.delete(0,listData3.size()-1)\n",
    "    listData4.delete(0,listData4.size()-1)\n",
    "    for item1,item2,item3,item4 in zip(strData1, strData2, strData3, strData4):\n",
    "        listData1.insert(END, item1)\n",
    "        listData2.insert(END, item2)\n",
    "        listData3.insert(END, item3)\n",
    "        listData4.insert(END, item4)\n",
    "    con.close()\n",
    "\n",
    "window = Tk()\n",
    "window.geometry(\"600x300\")\n",
    "window.title(\"GUI 데이터 입력\") \n",
    "\n",
    "edtFrame = Frame(window)\n",
    "\n",
    "edtFrame.pack()\n",
    "\n",
    "listFrame = Frame(window)\n",
    "\n",
    "listFrame.pack(side = BOTTOM,fill=BOTH, expand=1)\n",
    "\n",
    "edt1=Entry(edtFrame,width=10)\n",
    "edt2=Entry(edtFrame,width=10)\n",
    "edt3=Entry(edtFrame,width=10)\n",
    "edt4=Entry(edtFrame,width=10)\n",
    "edt1.pack(side=LEFT,padx=10,pady=10)\n",
    "edt2.pack(side=LEFT,padx=10,pady=10)\n",
    "edt3.pack(side=LEFT,padx=10,pady=10)\n",
    "edt4.pack(side=LEFT,padx=10,pady=10)\n",
    "\n",
    "btnInsert = Button(edtFrame, text=\"입력\",command = insertData)\n",
    "btnInsert.pack(side=LEFT,padx=10,pady=10)\n",
    "btnSelect = Button(edtFrame, text=\"조회\",command=selectData)\n",
    "btnSelect.pack(side=LEFT,padx=10,pady=10)\n",
    "\n",
    "listData1=Listbox(listFrame,bg ='yellow');\n",
    "listData1.pack(side=LEFT,fill=BOTH,expand=1)\n",
    "listData2=Listbox(listFrame,bg ='yellow');\n",
    "listData2.pack(side=LEFT,fill=BOTH,expand=1)\n",
    "listData3=Listbox(listFrame,bg ='yellow');\n",
    "listData3.pack(side=LEFT,fill=BOTH,expand=1)\n",
    "listData4=Listbox(listFrame,bg ='yellow');\n",
    "listData4.pack(side=LEFT,fill=BOTH,expand=1)\n",
    "\n",
    "window.mainloop()"
   ]
  },
  {
   "cell_type": "code",
   "execution_count": null,
   "id": "688089a0-36a9-4316-ba21-8ed5bba5abf4",
   "metadata": {},
   "outputs": [],
   "source": []
  }
 ],
 "metadata": {
  "kernelspec": {
   "display_name": "Python 3 (ipykernel)",
   "language": "python",
   "name": "python3"
  },
  "language_info": {
   "codemirror_mode": {
    "name": "ipython",
    "version": 3
   },
   "file_extension": ".py",
   "mimetype": "text/x-python",
   "name": "python",
   "nbconvert_exporter": "python",
   "pygments_lexer": "ipython3",
   "version": "3.9.7"
  }
 },
 "nbformat": 4,
 "nbformat_minor": 5
}
