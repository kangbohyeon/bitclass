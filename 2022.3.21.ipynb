{
 "cells": [
  {
   "cell_type": "markdown",
   "id": "6ea16bef",
   "metadata": {},
   "source": [
    "# Header1\n",
    "## Header2\n",
    "### Header3"
   ]
  },
  {
   "cell_type": "markdown",
   "id": "a9bb3231",
   "metadata": {},
   "source": [
    "목록형\n",
    "\n",
    " - 목록1\n",
    " - 목록2\n",
    " - 목록3\n",
    " \n",
    "목록형2\n",
    " * 목록4\n",
    " * 목록5\n",
    " + 목록6\n",
    " - 목록7"
   ]
  },
  {
   "cell_type": "markdown",
   "id": "932c2197",
   "metadata": {},
   "source": [
    "숫자 목록\n",
    "1. 하나\n",
    "2. 둘\n",
    "3. 셋\n",
    "\n",
    "숫자2\n",
    "\n",
    "1. 하나\n",
    "1. 하나\n",
    "1. 하나\n",
    "1. 하나"
   ]
  },
  {
   "cell_type": "markdown",
   "id": "f73915d8",
   "metadata": {},
   "source": [
    "혼합\n",
    "\n",
    "- 리스트\n",
    "    - 목록1\n",
    "    - 목록2\n",
    "- 리스트2\n",
    "    1. 숫자1\n",
    "    1. 숫자2\n",
    "        + 목록3\n",
    "        + 목록4\n",
    "        "
   ]
  },
  {
   "cell_type": "markdown",
   "id": "69abf2d2",
   "metadata": {},
   "source": [
    "코드 표시!\n",
    "\n",
    "```\n",
    "print(\"안녕하세요 파이썬 프로그래밍 과정!!!\")\n",
    "```"
   ]
  },
  {
   "cell_type": "markdown",
   "id": "b97be142",
   "metadata": {},
   "source": [
    "코드 표시!\n",
    "\n",
    "```python\n",
    "print(\"안녕하세요 파이썬 프로그래밍 과정!!!\")\n",
    "```"
   ]
  },
  {
   "cell_type": "markdown",
   "id": "85f47419",
   "metadata": {},
   "source": [
    "# 이미지 링크!\n",
    "\n",
    "마크다운 방식 :\n",
    "![](https://media.vlpt.us/images/pm1100tm/post/b247a10a-5223-4d8f-8c59-27f9baa2a6e3/python.jpg)"
   ]
  },
  {
   "cell_type": "code",
   "execution_count": 1,
   "id": "232ca323-b264-4331-b9b8-65632f6da9ad",
   "metadata": {},
   "outputs": [
    {
     "name": "stdout",
     "output_type": "stream",
     "text": [
      "![](https://media.vlpt.us/images/pm1100tm/post/b247a10a-5223-4d8f-8c59-27f9baa2a6e3/python.jpg)\n"
     ]
    }
   ],
   "source": [
    "print('![](https://media.vlpt.us/images/pm1100tm/post/b247a10a-5223-4d8f-8c59-27f9baa2a6e3/python.jpg)')"
   ]
  },
  {
   "cell_type": "markdown",
   "id": "36ed32e0",
   "metadata": {},
   "source": [
    "HTML방식\n",
    "\n",
    "<img src='https://media.vlpt.us/images/pm1100tm/post/b247a10a-5223-4d8f-8c59-27f9baa2a6e3/python.jpg'>"
   ]
  },
  {
   "cell_type": "code",
   "execution_count": 5,
   "id": "21f36a2a-ceb4-4aa8-9747-458a641c6f24",
   "metadata": {},
   "outputs": [
    {
     "name": "stdout",
     "output_type": "stream",
     "text": [
      "<img src='https://media.vlpt.us/images/pm1100tm/post/b247a10a-5223-4d8f-8c59-27f9baa2a6e3/python.jpg>\n"
     ]
    }
   ],
   "source": [
    "print(\"<img src='https://media.vlpt.us/images/pm1100tm/post/b247a10a-5223-4d8f-8c59-27f9baa2a6e3/python.jpg>\")"
   ]
  },
  {
   "cell_type": "markdown",
   "id": "ea883481",
   "metadata": {},
   "source": [
    "HTML방식 -이미지 크기 조정!\n",
    "\n",
    "<img src='https://media.vlpt.us/images/pm1100tm/post/b247a10a-5223-4d8f-8c59-27f9baa2a6e3/python.jpg' width=150>"
   ]
  },
  {
   "cell_type": "code",
   "execution_count": 10,
   "id": "7ce639dc-ea3d-4833-b7ef-2c06679fec4a",
   "metadata": {},
   "outputs": [
    {
     "name": "stdout",
     "output_type": "stream",
     "text": [
      "<img src='https://media.vlpt.us/images/pm1100tm/post/b247a10a-5223-4d8f-8c59-27f9baa2a6e3/python.jpg' width=150>\n"
     ]
    }
   ],
   "source": [
    "print(\"<img src='https://media.vlpt.us/images/pm1100tm/post/b247a10a-5223-4d8f-8c59-27f9baa2a6e3/python.jpg' width=150>\")"
   ]
  },
  {
   "attachments": {
    "image-2.png": {
     "image/png": "[encoded data removed]"
    }
   },
   "cell_type": "markdown",
   "id": "165ad67c",
   "metadata": {},
   "source": [
    "raw 방식\n",
    "\n",
    "\n",
    "![image-2.png](attachment:image-2.png)"
   ]
  },
  {
   "cell_type": "code",
   "execution_count": 1,
   "id": "2f99ffbc",
   "metadata": {},
   "outputs": [
    {
     "name": "stdout",
     "output_type": "stream",
     "text": [
      "안녕하세요 파이썬 프로그래밍 과정!!!\n"
     ]
    }
   ],
   "source": [
    "print(\"안녕하세요 파이썬 프로그래밍 과정!!!\")"
   ]
  },
  {
   "cell_type": "code",
   "execution_count": 3,
   "id": "ebb16472",
   "metadata": {},
   "outputs": [
    {
     "name": "stdout",
     "output_type": "stream",
     "text": [
      "안녕하세요 파이썬 프로그래밍 과정!!!\n"
     ]
    }
   ],
   "source": [
    "msg =\"안녕하세요 파이썬 프로그래밍 과정!!!\"\n",
    "print(msg)"
   ]
  },
  {
   "cell_type": "code",
   "execution_count": 1,
   "id": "3edd6562",
   "metadata": {},
   "outputs": [
    {
     "name": "stdout",
     "output_type": "stream",
     "text": [
      "100000000\n"
     ]
    }
   ],
   "source": [
    "print(10000 * 10000)"
   ]
  },
  {
   "cell_type": "code",
   "execution_count": null,
   "id": "2de29d3a",
   "metadata": {},
   "outputs": [],
   "source": []
  },
  {
   "cell_type": "markdown",
   "id": "035ee6c6-41e1-421c-b112-c209013accf0",
   "metadata": {},
   "source": [
    "# 가상환경 만들기 및 제거\n",
    "# base >conda remove -n PythonLecture --all (pythonlecture 가상환경제거)\n",
    "# base >conda env list(가상환경리스트확인)\n",
    "# base >conda create -n PythonLecture python=3.9(pythonlecture 가상에 python3.9버전 설치)\n",
    "# base >conda install jupyterlab(jupyterlab 설치)\n",
    "# base >mkdir Works(Works 파일생성)\n",
    "# base >dir Works(파일확인)\n",
    "# base >jupyter-lab --no-browser Works (jupyterlab 실행)\n"
   ]
  },
  {
   "cell_type": "code",
   "execution_count": 2,
   "id": "0f2adf0b-43c0-4cb8-82cf-bbe819e507ed",
   "metadata": {},
   "outputs": [],
   "source": [
    "a = 100\n",
    "b = 50"
   ]
  },
  {
   "cell_type": "code",
   "execution_count": 4,
   "id": "c74418e1-045d-4d4c-9c5c-c826c2619170",
   "metadata": {},
   "outputs": [],
   "source": [
    "abc = 100"
   ]
  },
  {
   "cell_type": "code",
   "execution_count": 5,
   "id": "13c60c46-2894-4c3e-8705-85cda4f51e7b",
   "metadata": {},
   "outputs": [
    {
     "data": {
      "text/plain": [
       "100"
      ]
     },
     "execution_count": 5,
     "metadata": {},
     "output_type": "execute_result"
    }
   ],
   "source": [
    "abc"
   ]
  },
  {
   "cell_type": "code",
   "execution_count": 7,
   "id": "94ff629b-9e9f-4533-8831-8d83736dac64",
   "metadata": {},
   "outputs": [
    {
     "data": {
      "text/plain": [
       "(100, 50)"
      ]
     },
     "execution_count": 7,
     "metadata": {},
     "output_type": "execute_result"
    }
   ],
   "source": [
    "a, b #튜플 변환"
   ]
  },
  {
   "cell_type": "code",
   "execution_count": 13,
   "id": "f558dec8-9f42-4667-93ce-9bc42ad23b04",
   "metadata": {},
   "outputs": [
    {
     "ename": "SyntaxError",
     "evalue": "invalid syntax (Temp/ipykernel_324/210263012.py, line 1)",
     "output_type": "error",
     "traceback": [
      "\u001b[1;36m  File \u001b[1;32m\"C:\\Users\\BIT\\AppData\\Local\\Temp/ipykernel_324/210263012.py\"\u001b[1;36m, line \u001b[1;32m1\u001b[0m\n\u001b[1;33m    a b\u001b[0m\n\u001b[1;37m      ^\u001b[0m\n\u001b[1;31mSyntaxError\u001b[0m\u001b[1;31m:\u001b[0m invalid syntax\n"
     ]
    }
   ],
   "source": [
    "a b"
   ]
  },
  {
   "cell_type": "code",
   "execution_count": 14,
   "id": "8e7b293a-18f5-4997-ba85-406690a32aff",
   "metadata": {},
   "outputs": [
    {
     "data": {
      "text/plain": [
       "150"
      ]
     },
     "execution_count": 14,
     "metadata": {},
     "output_type": "execute_result"
    }
   ],
   "source": [
    "a + b"
   ]
  },
  {
   "cell_type": "code",
   "execution_count": 15,
   "id": "fcc53a1e-2ddc-4949-b5eb-2453cda181ae",
   "metadata": {},
   "outputs": [
    {
     "data": {
      "text/plain": [
       "50"
      ]
     },
     "execution_count": 15,
     "metadata": {},
     "output_type": "execute_result"
    }
   ],
   "source": [
    "a - b"
   ]
  },
  {
   "cell_type": "code",
   "execution_count": 18,
   "id": "7fe0890d-0d89-4f9a-84bd-2a3bc915091c",
   "metadata": {},
   "outputs": [
    {
     "data": {
      "text/plain": [
       "2"
      ]
     },
     "execution_count": 18,
     "metadata": {},
     "output_type": "execute_result"
    }
   ],
   "source": [
    "a // b"
   ]
  },
  {
   "cell_type": "code",
   "execution_count": 17,
   "id": "6685453b-b954-4eba-86bd-b0e6b227fb69",
   "metadata": {},
   "outputs": [
    {
     "data": {
      "text/plain": [
       "5000"
      ]
     },
     "execution_count": 17,
     "metadata": {},
     "output_type": "execute_result"
    }
   ],
   "source": [
    "a * b"
   ]
  },
  {
   "cell_type": "code",
   "execution_count": 19,
   "id": "080abce4-888e-4e90-8b50-36fdada330aa",
   "metadata": {},
   "outputs": [
    {
     "data": {
      "text/plain": [
       "5000"
      ]
     },
     "execution_count": 19,
     "metadata": {},
     "output_type": "execute_result"
    }
   ],
   "source": [
    "result = a * b\n",
    "result"
   ]
  },
  {
   "cell_type": "code",
   "execution_count": 20,
   "id": "cfbe80b0-0979-4df5-8968-9c24718544f2",
   "metadata": {},
   "outputs": [
    {
     "data": {
      "text/plain": [
       "50000"
      ]
     },
     "execution_count": 20,
     "metadata": {},
     "output_type": "execute_result"
    }
   ],
   "source": [
    "result * 10"
   ]
  },
  {
   "cell_type": "code",
   "execution_count": 21,
   "id": "02d9521d-93f5-4f50-bfa0-c8bc313299af",
   "metadata": {},
   "outputs": [
    {
     "data": {
      "text/plain": [
       "100.0"
      ]
     },
     "execution_count": 21,
     "metadata": {},
     "output_type": "execute_result"
    }
   ],
   "source": [
    "math_score = 100\n",
    "eng_score = 100\n",
    "average = (math_score + eng_score) /2\n",
    "average"
   ]
  },
  {
   "cell_type": "code",
   "execution_count": 35,
   "id": "6070829d-a422-4e3d-bc09-ac7762fe4aab",
   "metadata": {},
   "outputs": [
    {
     "name": "stdout",
     "output_type": "stream",
     "text": [
      "100 + 50 = 150\n",
      "100 - 50 = 50\n",
      "100 / 50 = 2.0\n",
      "100 * 50 = 5000\n"
     ]
    }
   ],
   "source": [
    "a = 100\n",
    "b = 50\n",
    "result = a + b\n",
    "print(a,'+',b,'=',result)\n",
    "result = a - b\n",
    "print(a,'-',b,'=',result)\n",
    "result = a / b\n",
    "print(a,'/',b,'=',result)\n",
    "result = a * b\n",
    "print(a,'*',b,'=',result)"
   ]
  },
  {
   "cell_type": "code",
   "execution_count": 38,
   "id": "5e92f458-922b-4d2c-bb06-1a47a6e63316",
   "metadata": {},
   "outputs": [
    {
     "name": "stdin",
     "output_type": "stream",
     "text": [
      "첫번째 숫자를 입력하세요 : 300\n",
      "두번째 숫자를 입력하세요 : 200\n"
     ]
    },
    {
     "name": "stdout",
     "output_type": "stream",
     "text": [
      "300 + 200 = 500\n",
      "300 - 200 = 100\n",
      "300 / 200 = 1.5\n",
      "300 * 200 = 60000\n"
     ]
    }
   ],
   "source": [
    "a = int(input(\"첫번째 숫자를 입력하세요 :\"))\n",
    "b = int(input(\"두번째 숫자를 입력하세요 :\"))\n",
    "result = a + b\n",
    "print(a,'+',b,'=',result)\n",
    "result = a - b\n",
    "print(a,'-',b,'=',result)\n",
    "result = a / b\n",
    "print(a,'/',b,'=',result)\n",
    "result = a * b\n",
    "print(a,'*',b,'=',result)"
   ]
  },
  {
   "cell_type": "markdown",
   "id": "b741ac49-e44a-4410-9398-ef705ee45c70",
   "metadata": {},
   "source": [
    "# 명령프롬프트에서 py실행\n",
    "# base > cd Downloads\n",
    "# base > Downloads> dir *.py\n",
    "# base > Downloads> python 2022.3.21.py"
   ]
  },
  {
   "cell_type": "code",
   "execution_count": 40,
   "id": "d3687990-f843-49f1-946d-b1e6398147f2",
   "metadata": {},
   "outputs": [
    {
     "name": "stdin",
     "output_type": "stream",
     "text": [
      "숫자1입력: 10\n",
      "숫자2입력: 20\n",
      "숫자3입력: 30\n"
     ]
    },
    {
     "name": "stdout",
     "output_type": "stream",
     "text": [
      "10 + 20 + 30 = 60\n",
      "10 * 20 * 30 = 6000\n"
     ]
    }
   ],
   "source": [
    "#p60 7번\n",
    "n1 = int(input('숫자1입력:'))\n",
    "n2 = int(input('숫자2입력:'))\n",
    "n3 = int(input('숫자3입력:'))\n",
    "print(n1,'+',n2,'+',n3,'=',n1+n2+n3)\n",
    "print(n1,'*',n2,'*',n3,'=',n1*n2*n3)"
   ]
  }
 ],
 "metadata": {
  "kernelspec": {
   "display_name": "Python 3 (ipykernel)",
   "language": "python",
   "name": "python3"
  },
  "language_info": {
   "codemirror_mode": {
    "name": "ipython",
    "version": 3
   },
   "file_extension": ".py",
   "mimetype": "text/x-python",
   "name": "python",
   "nbconvert_exporter": "python",
   "pygments_lexer": "ipython3",
   "version": "3.9.7"
  }
 },
 "nbformat": 4,
 "nbformat_minor": 5
}
