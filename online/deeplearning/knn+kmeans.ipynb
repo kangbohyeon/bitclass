{
  "nbformat": 4,
  "nbformat_minor": 0,
  "metadata": {
    "colab": {
      "name": "knn+kmeans.ipynb",
      "provenance": []
    },
    "kernelspec": {
      "name": "python3",
      "display_name": "Python 3"
    },
    "language_info": {
      "name": "python"
    }
  },
  "cells": [
    {
      "cell_type": "markdown",
      "source": [
        "# knn"
      ],
      "metadata": {
        "id": "quP9LAgO3_iQ"
      }
    },
    {
      "cell_type": "code",
      "execution_count": 2,
      "metadata": {
        "colab": {
          "base_uri": "https://localhost:8080/"
        },
        "id": "ApJyPjP6pwqp",
        "outputId": "3e30f07d-e1a9-411c-a96c-37888614e00b"
      },
      "outputs": [
        {
          "output_type": "stream",
          "name": "stdout",
          "text": [
            "100\n",
            "15\n",
            "3\n",
            "이것은 오렌지\n"
          ]
        }
      ],
      "source": [
        "import random\n",
        "import numpy as np\n",
        "\n",
        "def distance(x,y):\n",
        "  #두 점 사이의의 거리를 구하는 함수\n",
        "  return np.sqrt(pow((x[0]-y[0]),2)+pow((x[1]-y[1]),2))\n",
        "\n",
        "def knn(x,y,k):\n",
        "  result = []\n",
        "  cnt = 0\n",
        "  for i in range(len(y)):\n",
        "    result.append([distance(x,y[i]),y[i][2]])\n",
        "  result.sort()\n",
        "  for i in range(k):\n",
        "    if (result[i][1]==1):\n",
        "      cnt+=1\n",
        "  if (cnt > (k/2)):\n",
        "    print('이것은 귤')\n",
        "  else :\n",
        "    print('이것은 오렌지')\n",
        "\n",
        "#임의의 데이터 생성\n",
        "r = [] # 귤 1\n",
        "b = [] # 오렌지 0\n",
        "for i in range(50):\n",
        "  r.append([random.randint(1,10), random.randint(50,100),1])\n",
        "  b.append([random.randint(7,20), random.randint(80,130),0])\n",
        "  \n",
        "weight = input()\n",
        "size = input()\n",
        "num = input()\n",
        "new= [int(size),int(weight)]\n",
        "\n",
        "knn(new,r+b,int(num))\n"
      ]
    },
    {
      "cell_type": "code",
      "source": [
        "import matplotlib.pyplot as plt\n",
        "rr = np.array(r)\n",
        "bb = np.array(b)\n",
        "for i,j in rr[:,:2]:\n",
        "  plt.plot(i,j,'or')\n",
        "for i,j in bb[:,:2]:\n",
        "  plt.plot(i,j,'ob')\n",
        "plt.plot(int(size), int(weight),'og')\n",
        "plt.show()\n"
      ],
      "metadata": {
        "colab": {
          "base_uri": "https://localhost:8080/",
          "height": 265
        },
        "id": "ozHqqNtu3oyO",
        "outputId": "bfd1da3c-797e-465d-a42a-893f099f8207"
      },
      "execution_count": 3,
      "outputs": [
        {
          "output_type": "display_data",
          "data": {
            "text/plain": [
              "<Figure size 432x288 with 1 Axes>"
            ],
            "image/png": "[encoded data removed]"
          },
          "metadata": {
            "needs_background": "light"
          }
        }
      ]
    },
    {
      "cell_type": "markdown",
      "source": [
        "#k-means"
      ],
      "metadata": {
        "id": "3pDVyKHz4DNR"
      }
    },
    {
      "cell_type": "code",
      "source": [
        "import random\n",
        "import numpy as np\n",
        "import matplotlib.pyplot as plt\n",
        "\n",
        "data =[]\n",
        "for i in range(50):\n",
        "  data.append([random.randint(1,10),random.randint(50,100)])\n",
        "  data.append([random.randint(7,20),random.randint(80,130)])\n",
        "\n",
        "#초기 랜덤 값 2개\n",
        "random_points = [[random.randint(1,20),random.randint(50,130)],\n",
        "                 [random.randint(1,20),random.randint(50,130)]]\n",
        "\n",
        "#데이터와 랜덤 값 그래프\n",
        "for i in data : \n",
        "  plt.plot(i[0],i[1],'o',color='k')\n",
        "  plt.plot(random_points[0][0], random_points[0][1],'x',color='r')\n",
        "  plt.plot(random_points[1][0], random_points[1][1],'x',color='b')                  "
      ],
      "metadata": {
        "colab": {
          "base_uri": "https://localhost:8080/",
          "height": 265
        },
        "id": "JeP3Q3Ku4BVh",
        "outputId": "ca9725bc-e9f1-4f2d-a1d2-da10e62c6e05"
      },
      "execution_count": 4,
      "outputs": [
        {
          "output_type": "display_data",
          "data": {
            "text/plain": [
              "<Figure size 432x288 with 1 Axes>"
            ],
            "image/png": "[encoded data removed]"
          },
          "metadata": {
            "needs_background": "light"
          }
        }
      ]
    },
    {
      "cell_type": "code",
      "source": [
        "#두 영역을 나눌 빈 리스트 생성\n",
        "tmp1 = []\n",
        "tmp2 = []\n",
        "\n",
        "#영역을 나누기 위해 두점사이의 거리를 구하는 함수\n",
        "def dist(x,y):\n",
        "  return np.sqrt((x[0]-y[0])**2 + (x[1]-y[1])**2)\n",
        "\n",
        "#각 랜덤 점과 모든 점들의 거리를 구해 가까운 쪽의 영역으로 추가\n",
        "for i in data:\n",
        "  if(dist(random_points[0],i)> dist(random_points[1],i)):\n",
        "    tmp2.append(i)\n",
        "  else:\n",
        "    tmp1.append(i)\n",
        "\n",
        "for i in tmp1:\n",
        "  plt.plot(i[0],i[1],'o',color='y')\n",
        "\n",
        "for i in tmp2:\n",
        "  plt.plot(i[0],i[1],'o',color='g')\n",
        "  plt.plot(random_points[0][0],random_points[0][1],'x',color='r')\n",
        "  plt.plot(random_points[1][0],random_points[1][1],'x',color='b')"
      ],
      "metadata": {
        "colab": {
          "base_uri": "https://localhost:8080/",
          "height": 265
        },
        "id": "sM80s4CT6VSs",
        "outputId": "5d430c65-c5a7-42d5-dcc0-0039f4a26213"
      },
      "execution_count": 5,
      "outputs": [
        {
          "output_type": "display_data",
          "data": {
            "text/plain": [
              "<Figure size 432x288 with 1 Axes>"
            ],
            "image/png": "[encoded data removed]"
          },
          "metadata": {
            "needs_background": "light"
          }
        }
      ]
    },
    {
      "cell_type": "code",
      "source": [
        "#점 이동\n",
        "sum1 = 0\n",
        "sum2 = 0\n",
        "for i in tmp1:\n",
        "  sum1+=i[0]\n",
        "  sum2+=i[1]\n",
        "\n",
        "new_points = []\n",
        "new_points.append([sum1/len(tmp1),sum2/len(tmp1)])\n",
        "sum1=0\n",
        "sum2=0\n",
        "for i in tmp2:\n",
        "  sum1+=i[0]\n",
        "  sum2+=i[1]\n",
        "new_points.append([sum1/len(tmp2),sum2/len(tmp2)])\n",
        "\n",
        "#새로운 점 그래프\n",
        "for i in tmp1:\n",
        "  plt.plot(i[0],i[1],'o',color='y')\n",
        "for i in tmp2:\n",
        "  plt.plot(i[0],i[1],'o',color='g')\n",
        "\n",
        "plt.plot(new_points[0][0],new_points[0][1],'x',color='r')\n",
        "plt.plot(new_points[1][0],new_points[1][1],'x',color='b')\n"
      ],
      "metadata": {
        "colab": {
          "base_uri": "https://localhost:8080/",
          "height": 282
        },
        "id": "y8FIv8D_7Tm1",
        "outputId": "ec7f5789-58a6-4e82-ae1e-0bb669734c5b"
      },
      "execution_count": 7,
      "outputs": [
        {
          "output_type": "execute_result",
          "data": {
            "text/plain": [
              "[<matplotlib.lines.Line2D at 0x7ff4da41b950>]"
            ]
          },
          "metadata": {},
          "execution_count": 7
        },
        {
          "output_type": "display_data",
          "data": {
            "text/plain": [
              "<Figure size 432x288 with 1 Axes>"
            ],
            "image/png": "[encoded data removed]"
          },
          "metadata": {
            "needs_background": "light"
          }
        }
      ]
    },
    {
      "cell_type": "code",
      "source": [
        "#전체코드\n",
        "def dist(x,y):\n",
        "  return np.sqrt((x[0]-y[0])**2 +(x[1]-y[1])**2)\n",
        "\n",
        "data = []\n",
        "for i in range(50):\n",
        "  data.append([random.randint(1,10),random.randint(50,100)])\n",
        "  data.append([random.randint(7,20),random.randint(80,130)])\n",
        "\n",
        "random_points = [[random.randint(1,20),random.randint(50,130)],\n",
        "                [random.randint(1,20),random.randint(50,130)]]\n",
        "\n",
        "\n",
        "\n",
        "\n",
        "for k in range(10):\n",
        "  tmp1 = []\n",
        "  tmp2 = []\n",
        "  \n",
        "  for i in data:\n",
        "    if(dist(random_points[0],i)> dist(random_points[1],i)):\n",
        "      tmp2.append(i)\n",
        "    else:\n",
        "      tmp1.append(i)\n",
        "\n",
        "  sum1 = 0\n",
        "  sum2 = 0\n",
        "  for i in tmp1:\n",
        "    sum1+=i[0]\n",
        "    sum2+=i[1]\n",
        "\n",
        "  new_points = []\n",
        "  new_points.append([sum1/len(tmp1),sum2/len(tmp1)])\n",
        "\n",
        "  sum1=0\n",
        "  sum2=0\n",
        "  for i in tmp2:\n",
        "    sum1+=i[0]\n",
        "    sum2+=i[1]\n",
        "  new_points.append([sum1/len(tmp2),sum2/len(tmp2)])"
      ],
      "metadata": {
        "id": "NlAf0RFk9OTN"
      },
      "execution_count": 10,
      "outputs": []
    },
    {
      "cell_type": "code",
      "source": [
        "for i in tmp1:\n",
        "  plt.plot(i[0],i[1],'o',color='y')\n",
        "for i in tmp2:\n",
        "  plt.plot(i[0],i[1],'o',color='g')\n",
        "plt.plot(new_points[0][0],new_points[0][1],'x',color='r')\n",
        "plt.plot(new_points[1][0],new_points[1][1],'x',color='b')"
      ],
      "metadata": {
        "colab": {
          "base_uri": "https://localhost:8080/",
          "height": 282
        },
        "id": "jgrXbzQx-DFA",
        "outputId": "0e8c1e2c-b55a-4f15-904d-0068662b6930"
      },
      "execution_count": 12,
      "outputs": [
        {
          "output_type": "execute_result",
          "data": {
            "text/plain": [
              "[<matplotlib.lines.Line2D at 0x7ff4df0c4210>]"
            ]
          },
          "metadata": {},
          "execution_count": 12
        },
        {
          "output_type": "display_data",
          "data": {
            "text/plain": [
              "<Figure size 432x288 with 1 Axes>"
            ],
            "image/png": "[encoded data removed]"
          },
          "metadata": {
            "needs_background": "light"
          }
        }
      ]
    },
    {
      "cell_type": "code",
      "source": [
        ""
      ],
      "metadata": {
        "id": "8OhH2h2Z_FQW"
      },
      "execution_count": null,
      "outputs": []
    }
  ]
}