{
 "cells": [
  {
   "cell_type": "code",
   "execution_count": 3,
   "id": "954da5ca-b446-463b-9cb3-5c27224affd7",
   "metadata": {},
   "outputs": [
    {
     "name": "stdout",
     "output_type": "stream",
     "text": [
      "0\n",
      "0\n",
      "0\n",
      "1\n"
     ]
    }
   ],
   "source": [
    "import numpy as np\n",
    "def AND(x1,x2):\n",
    "    x = np.array([x1,x2])\n",
    "    w = np.array([0.5,0.5])\n",
    "    b = -0.7\n",
    "    tmp = np.sum(w*x) +b\n",
    "    if tmp<=0:\n",
    "        return 0\n",
    "    else :\n",
    "        return 1\n",
    "\n",
    "    \n",
    "print(AND(0,0))\n",
    "print(AND(1,0))\n",
    "print(AND(0,1))\n",
    "print(AND(1,1))"
   ]
  },
  {
   "cell_type": "code",
   "execution_count": 4,
   "id": "e8e91718-2964-4c96-a2fe-67db4723e35c",
   "metadata": {},
   "outputs": [
    {
     "name": "stdout",
     "output_type": "stream",
     "text": [
      "1\n",
      "1\n",
      "1\n",
      "0\n"
     ]
    }
   ],
   "source": [
    "import numpy as np\n",
    "\n",
    "def NAND(x1,x2):\n",
    "    x = np.array([x1,x2])\n",
    "    w = np.array([-0.2,-0.2])\n",
    "    b = 0.3\n",
    "    tmp = np.sum(w*x) + b\n",
    "    if tmp <= 0 :\n",
    "        return 0\n",
    "    else : \n",
    "        return 1\n",
    "    \n",
    "print(NAND(0,0))\n",
    "print(NAND(1,0))\n",
    "print(NAND(0,1))\n",
    "print(NAND(1,1))"
   ]
  },
  {
   "cell_type": "code",
   "execution_count": 5,
   "id": "e12ce556-8063-4efd-b811-7f10805691ee",
   "metadata": {},
   "outputs": [
    {
     "name": "stdout",
     "output_type": "stream",
     "text": [
      "1\n",
      "1\n",
      "1\n",
      "0\n"
     ]
    }
   ],
   "source": [
    "import numpy as np\n",
    "\n",
    "def OR(x1,x2):\n",
    "    x = np.array([x1,x2])\n",
    "    w = np.array([0.7,0.7])\n",
    "    b = -0.1\n",
    "    tmp = np.sum(w*x) + b\n",
    "    if tmp <= 0 :\n",
    "        return 0\n",
    "    else : \n",
    "        return 1\n",
    "    \n",
    "print(NAND(0,0))\n",
    "print(NAND(1,0))\n",
    "print(NAND(0,1))\n",
    "print(NAND(1,1))"
   ]
  },
  {
   "cell_type": "code",
   "execution_count": 6,
   "id": "3a058a06-dfdc-4e89-a613-7565d3e2b20d",
   "metadata": {},
   "outputs": [],
   "source": [
    "import numpy as np\n",
    "\n",
    "def check(x1,x2,y):\n",
    "    while True:\n",
    "        cnt = 0\n",
    "        w1 = np.random.normal()\n",
    "        w2 = np.random.normal()\n",
    "        b = np.random.normal()\n",
    "        for i in range(4):\n",
    "            x = np.array([x1[i],x2[i]])\n",
    "            w = np.array([w1,w2])\n",
    "            tmp = np.sum(w*x) +b\n",
    "            if tmp<=0:\n",
    "                result = 0\n",
    "            else :\n",
    "                result = 1\n",
    "            if y[i] == result:\n",
    "                cnt +=1\n",
    "                \n",
    "        if cnt == 4:\n",
    "            print('w1: ',w1)\n",
    "            print('w2: ',w2)\n",
    "            print('b: ',b)\n",
    "            break"
   ]
  },
  {
   "cell_type": "code",
   "execution_count": 11,
   "id": "9c696d36-2589-4496-92f2-83e79c027bc3",
   "metadata": {},
   "outputs": [],
   "source": [
    "def AND():\n",
    "    x1 = [0,1,0,1]\n",
    "    x2 = [0,0,1,1]\n",
    "    y = [0,0,0,1]\n",
    "    check(x1,x2,y)\n",
    "    \n",
    "def NAND():\n",
    "    x1 = [0,1,0,1]\n",
    "    x2 = [0,0,1,1]\n",
    "    y = [0,0,0,1]\n",
    "    check(x1,x2,y)\n",
    "    \n",
    "def OR():\n",
    "    x1 = [0,1,0,1]\n",
    "    x2 = [0,0,1,1]\n",
    "    y = [0,0,0,1]\n",
    "    check(x1,x2,y)"
   ]
  },
  {
   "cell_type": "code",
   "execution_count": 12,
   "id": "1a52ccd3-adc6-4dea-8d5d-7efc5d5f4417",
   "metadata": {},
   "outputs": [
    {
     "name": "stdout",
     "output_type": "stream",
     "text": [
      "AND\n",
      "w1:  1.161836628944039\n",
      "w2:  0.5619208583204531\n",
      "b:  -1.2324771995457533\n",
      "\n",
      "NAND\n",
      "w1:  0.4513465188420029\n",
      "w2:  0.4816811996605454\n",
      "b:  -0.646705966752041\n",
      "\n",
      "OR\n",
      "w1:  0.7348698665374589\n",
      "w2:  0.7719914683829916\n",
      "b:  -1.2858635053950929\n",
      "\n"
     ]
    }
   ],
   "source": [
    "print('AND')\n",
    "AND()\n",
    "print()\n",
    "print('NAND')\n",
    "NAND()\n",
    "print()\n",
    "print('OR')\n",
    "OR()\n",
    "print()"
   ]
  },
  {
   "cell_type": "code",
   "execution_count": null,
   "id": "91c42350-b5ad-492d-b3f6-c1c0694ba35a",
   "metadata": {},
   "outputs": [],
   "source": []
  }
 ],
 "metadata": {
  "kernelspec": {
   "display_name": "Python 3 (ipykernel)",
   "language": "python",
   "name": "python3"
  },
  "language_info": {
   "codemirror_mode": {
    "name": "ipython",
    "version": 3
   },
   "file_extension": ".py",
   "mimetype": "text/x-python",
   "name": "python",
   "nbconvert_exporter": "python",
   "pygments_lexer": "ipython3",
   "version": "3.9.7"
  }
 },
 "nbformat": 4,
 "nbformat_minor": 5
}
