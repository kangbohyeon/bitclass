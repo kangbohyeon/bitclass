{
 "cells": [
  {
   "cell_type": "markdown",
   "id": "13018291-1a10-40d2-862d-9312038b7ad4",
   "metadata": {},
   "source": [
    "# 리스트!!!"
   ]
  },
  {
   "cell_type": "code",
   "execution_count": 1,
   "id": "0666ac66-9a64-4777-8bea-564776375948",
   "metadata": {},
   "outputs": [],
   "source": [
    "a = ['1', 1, 1000, '파','이','썬']"
   ]
  },
  {
   "cell_type": "code",
   "execution_count": 2,
   "id": "5d8e708d-95c8-437d-a5de-b5c3566b60d0",
   "metadata": {},
   "outputs": [
    {
     "data": {
      "text/plain": [
       "list"
      ]
     },
     "execution_count": 2,
     "metadata": {},
     "output_type": "execute_result"
    }
   ],
   "source": [
    "type(a)"
   ]
  },
  {
   "cell_type": "code",
   "execution_count": 3,
   "id": "ab682285-18a8-4c78-bdd7-d7bd2f67f8e0",
   "metadata": {},
   "outputs": [
    {
     "data": {
      "text/plain": [
       "'1'"
      ]
     },
     "execution_count": 3,
     "metadata": {},
     "output_type": "execute_result"
    }
   ],
   "source": [
    "# index\n",
    "a[0]"
   ]
  },
  {
   "cell_type": "code",
   "execution_count": 6,
   "id": "3814cdcf-c175-4523-95f5-809e778e7bec",
   "metadata": {},
   "outputs": [
    {
     "data": {
      "text/plain": [
       "('이', '썬')"
      ]
     },
     "execution_count": 6,
     "metadata": {},
     "output_type": "execute_result"
    }
   ],
   "source": [
    "a[4], a[5]"
   ]
  },
  {
   "cell_type": "code",
   "execution_count": 7,
   "id": "5b5329e2-7697-4a6d-8525-3ac0bc249387",
   "metadata": {},
   "outputs": [
    {
     "ename": "IndexError",
     "evalue": "list index out of range",
     "output_type": "error",
     "traceback": [
      "\u001b[1;31m---------------------------------------------------------------------------\u001b[0m",
      "\u001b[1;31mIndexError\u001b[0m                                Traceback (most recent call last)",
      "Input \u001b[1;32mIn [7]\u001b[0m, in \u001b[0;36m<cell line: 1>\u001b[1;34m()\u001b[0m\n\u001b[1;32m----> 1\u001b[0m \u001b[43ma\u001b[49m\u001b[43m[\u001b[49m\u001b[38;5;241;43m6\u001b[39;49m\u001b[43m]\u001b[49m\n",
      "\u001b[1;31mIndexError\u001b[0m: list index out of range"
     ]
    }
   ],
   "source": [
    "a[6]"
   ]
  },
  {
   "cell_type": "markdown",
   "id": "ac51cfe7-58a4-4f71-b2ed-bf62db7e5ecf",
   "metadata": {},
   "source": [
    "for in 과 함께 사용!"
   ]
  },
  {
   "cell_type": "code",
   "execution_count": 8,
   "id": "79e36f52-076f-4afd-88d9-86d80e51a121",
   "metadata": {},
   "outputs": [
    {
     "name": "stdout",
     "output_type": "stream",
     "text": [
      "1\n",
      "1\n",
      "1000\n",
      "파\n",
      "이\n",
      "썬\n"
     ]
    }
   ],
   "source": [
    "for i in a:\n",
    "    print(i)"
   ]
  },
  {
   "cell_type": "code",
   "execution_count": 9,
   "id": "1bab22dc-0106-41a8-8c37-d28ff60adb9c",
   "metadata": {},
   "outputs": [],
   "source": [
    "b = [a, 1, 3, 5, 7, 9]"
   ]
  },
  {
   "cell_type": "code",
   "execution_count": 10,
   "id": "91fe5c48-5d94-45a2-8c7f-bd20597a21a3",
   "metadata": {},
   "outputs": [
    {
     "data": {
      "text/plain": [
       "[['1', 1, 1000, '파', '이', '썬'], 1, 3, 5, 7, 9]"
      ]
     },
     "execution_count": 10,
     "metadata": {},
     "output_type": "execute_result"
    }
   ],
   "source": [
    "b"
   ]
  },
  {
   "cell_type": "markdown",
   "id": "0c2f1c59-a545-4737-afd3-cd2b9762bd23",
   "metadata": {},
   "source": [
    "빈 리스트"
   ]
  },
  {
   "cell_type": "code",
   "execution_count": 11,
   "id": "80cf5c36-ef87-4bb0-9329-89b48f363c1a",
   "metadata": {},
   "outputs": [],
   "source": [
    "a = []"
   ]
  },
  {
   "cell_type": "code",
   "execution_count": 12,
   "id": "87e81912-fe80-46da-b0da-d47c316960be",
   "metadata": {},
   "outputs": [
    {
     "data": {
      "text/plain": [
       "list"
      ]
     },
     "execution_count": 12,
     "metadata": {},
     "output_type": "execute_result"
    }
   ],
   "source": [
    "type(a)"
   ]
  },
  {
   "cell_type": "code",
   "execution_count": 13,
   "id": "56c49819-8c95-41b4-a149-2e8096c66da5",
   "metadata": {},
   "outputs": [],
   "source": [
    "a.append(1)\n",
    "a.append('둘')\n",
    "a.append(3)"
   ]
  },
  {
   "cell_type": "code",
   "execution_count": 14,
   "id": "959b9803-9ec2-4021-a0a9-489c6399803e",
   "metadata": {},
   "outputs": [
    {
     "data": {
      "text/plain": [
       "[1, '둘', 3]"
      ]
     },
     "execution_count": 14,
     "metadata": {},
     "output_type": "execute_result"
    }
   ],
   "source": [
    "a"
   ]
  },
  {
   "cell_type": "code",
   "execution_count": 16,
   "id": "f2416c08-af28-4aee-88fc-8fb359c14aaa",
   "metadata": {},
   "outputs": [
    {
     "name": "stdout",
     "output_type": "stream",
     "text": [
      "1\n",
      "둘\n",
      "3\n"
     ]
    }
   ],
   "source": [
    "for i in a:\n",
    "    print(i)"
   ]
  },
  {
   "cell_type": "code",
   "execution_count": 17,
   "id": "bd5a29f3-f8d4-4436-b17c-a8cc07a1a42f",
   "metadata": {},
   "outputs": [
    {
     "data": {
      "text/plain": [
       "1"
      ]
     },
     "execution_count": 17,
     "metadata": {},
     "output_type": "execute_result"
    }
   ],
   "source": [
    "a[0]"
   ]
  },
  {
   "cell_type": "code",
   "execution_count": 18,
   "id": "047ecf9b-261e-40ed-b645-294e65fd50a2",
   "metadata": {},
   "outputs": [
    {
     "name": "stdout",
     "output_type": "stream",
     "text": [
      "1\n",
      "둘\n",
      "3\n"
     ]
    }
   ],
   "source": [
    "for i in range(0,3):\n",
    "    print(a[i])"
   ]
  },
  {
   "cell_type": "code",
   "execution_count": 19,
   "id": "dc97ac1a-f232-42e2-95fe-ac7039279f90",
   "metadata": {},
   "outputs": [
    {
     "data": {
      "text/plain": [
       "3"
      ]
     },
     "execution_count": 19,
     "metadata": {},
     "output_type": "execute_result"
    }
   ],
   "source": [
    "len(a)"
   ]
  },
  {
   "cell_type": "code",
   "execution_count": 20,
   "id": "d11a4f5a-24c9-4ed6-81f3-faea69fcbed0",
   "metadata": {},
   "outputs": [
    {
     "name": "stdout",
     "output_type": "stream",
     "text": [
      "1\n",
      "둘\n",
      "3\n"
     ]
    }
   ],
   "source": [
    "for i in range(0, len(a) ):\n",
    "    print(a[i])"
   ]
  },
  {
   "cell_type": "markdown",
   "id": "090cee7c-c632-4e9f-9c5c-e231cf4ba747",
   "metadata": {},
   "source": [
    "p190 실습 코드"
   ]
  },
  {
   "cell_type": "code",
   "execution_count": 23,
   "id": "cfce42e4-0434-4f80-9b72-af17e4d2c1ab",
   "metadata": {},
   "outputs": [
    {
     "name": "stdin",
     "output_type": "stream",
     "text": [
      "1번째 숫자 :  1\n",
      "2번째 숫자 :  1\n",
      "3번째 숫자 :  1\n",
      "4번째 숫자 :  1\n",
      "5번째 숫자 :  1\n",
      "6번째 숫자 :  1\n",
      "7번째 숫자 :  1\n"
     ]
    },
    {
     "name": "stdout",
     "output_type": "stream",
     "text": [
      "합계 ==> 4\n"
     ]
    }
   ],
   "source": [
    "aa = []\n",
    "for i in range(0, 7) :\n",
    "    aa.append(0)\n",
    "hap = 0\n",
    "\n",
    "# for i in range(0, 4) :\n",
    "for i in range(0, len(aa) ) :\n",
    "    aa[i] = int(input(str(i+1) + \"번째 숫자 : \" ))\n",
    "    hap += aa[i]\n",
    "\n",
    "# hap = aa[0] + aa[1] + aa[2] + aa[3]\n",
    "# 합산을 for 이용해 변경!!!\n",
    "for i in range(0, len(aa) ) :\n",
    "    hap += aa[i]\n",
    "\n",
    "print(\"합계 ==> %d\" % hap)\n"
   ]
  },
  {
   "cell_type": "markdown",
   "id": "84d080ca-2c5a-4102-b9bc-04d3aebc1e52",
   "metadata": {},
   "source": [
    "p192 쪽 실습\n",
    " - 역순으로 된 인덱스!"
   ]
  },
  {
   "cell_type": "code",
   "execution_count": null,
   "id": "8dda732c-f4be-49b6-8139-f2b8278b09e5",
   "metadata": {},
   "outputs": [],
   "source": [
    "aa = []\n",
    "bb = []\n",
    "value = 0\n",
    "\n",
    "for i in range(0, 100) :\n",
    "    aa.append(value\n",
    "\n",
    "for i in range(0, 100) :\n",
    "    bb.append(aa[99 - i]))\n",
    "    value += 2\n",
    "\n",
    "print(\"bb[0]에는 %d이, bb[99]에는 %d이 입력됩니다.\" % (bb[0], bb[99]))"
   ]
  },
  {
   "cell_type": "markdown",
   "id": "71901230-6dac-4597-9577-d0acb19d30b6",
   "metadata": {},
   "source": [
    "### 리스트 인덱싱"
   ]
  },
  {
   "cell_type": "code",
   "execution_count": 24,
   "id": "d13dbf5a-f1c7-4309-ab5b-cbf2b3fe6c56",
   "metadata": {},
   "outputs": [
    {
     "data": {
      "text/plain": [
       "[10, 20, 30, 40]"
      ]
     },
     "execution_count": 24,
     "metadata": {},
     "output_type": "execute_result"
    }
   ],
   "source": [
    "aa = [10, 20, 30, 40 ]\n",
    "aa"
   ]
  },
  {
   "cell_type": "code",
   "execution_count": 27,
   "id": "b7d1e505-1784-49a7-9936-4ee7623ed6fe",
   "metadata": {},
   "outputs": [
    {
     "data": {
      "text/plain": [
       "(10, 30, 20)"
      ]
     },
     "execution_count": 27,
     "metadata": {},
     "output_type": "execute_result"
    }
   ],
   "source": [
    "aa[0], aa[2], aa[1]"
   ]
  },
  {
   "cell_type": "code",
   "execution_count": 29,
   "id": "97cc66d4-1ee1-4216-b4d4-ab8daa453419",
   "metadata": {},
   "outputs": [
    {
     "data": {
      "text/plain": [
       "(40, 30)"
      ]
     },
     "execution_count": 29,
     "metadata": {},
     "output_type": "execute_result"
    }
   ],
   "source": [
    "aa[-1], aa[-2]"
   ]
  },
  {
   "cell_type": "code",
   "execution_count": 30,
   "id": "e04671b5-08aa-473e-8569-bac153f722b7",
   "metadata": {},
   "outputs": [
    {
     "data": {
      "text/plain": [
       "[10]"
      ]
     },
     "execution_count": 30,
     "metadata": {},
     "output_type": "execute_result"
    }
   ],
   "source": [
    "# 인덱스 범위 `start:stop`\n",
    "aa[0:1]    # 끝은 stop - 1"
   ]
  },
  {
   "cell_type": "code",
   "execution_count": 31,
   "id": "fe86cf3d-810b-4df2-80ab-f88e031557eb",
   "metadata": {},
   "outputs": [
    {
     "data": {
      "text/plain": [
       "[20, 30, 40]"
      ]
     },
     "execution_count": 31,
     "metadata": {},
     "output_type": "execute_result"
    }
   ],
   "source": [
    "aa[1:]"
   ]
  },
  {
   "cell_type": "code",
   "execution_count": 33,
   "id": "840a318d-0a83-41bf-b558-10aba9463249",
   "metadata": {},
   "outputs": [
    {
     "data": {
      "text/plain": [
       "[10, 20]"
      ]
     },
     "execution_count": 33,
     "metadata": {},
     "output_type": "execute_result"
    }
   ],
   "source": [
    "aa[:2]"
   ]
  },
  {
   "cell_type": "code",
   "execution_count": 35,
   "id": "3b11d42f-a813-4d0a-96b9-e27b3cae2f0d",
   "metadata": {},
   "outputs": [
    {
     "data": {
      "text/plain": [
       "[10, 20, 30, 40]"
      ]
     },
     "execution_count": 35,
     "metadata": {},
     "output_type": "execute_result"
    }
   ],
   "source": [
    "aa[:]"
   ]
  },
  {
   "cell_type": "code",
   "execution_count": 36,
   "id": "e37c198e-b085-4f51-80fc-dcb8a8a91fc0",
   "metadata": {},
   "outputs": [],
   "source": [
    "_ = aa[:]  # copy!!!"
   ]
  },
  {
   "cell_type": "markdown",
   "id": "0f159e9d-8d05-49e9-bb95-c8f140232aa6",
   "metadata": {},
   "source": [
    "#### in, not in"
   ]
  },
  {
   "cell_type": "code",
   "execution_count": 39,
   "id": "ea147bc9-f64f-4580-a01f-3a7397873c93",
   "metadata": {},
   "outputs": [
    {
     "data": {
      "text/plain": [
       "False"
      ]
     },
     "execution_count": 39,
     "metadata": {},
     "output_type": "execute_result"
    }
   ],
   "source": [
    "11 in aa"
   ]
  },
  {
   "cell_type": "code",
   "execution_count": 40,
   "id": "e5bfc077-7c22-458a-a2e6-2dd46674e697",
   "metadata": {},
   "outputs": [
    {
     "data": {
      "text/plain": [
       "True"
      ]
     },
     "execution_count": 40,
     "metadata": {},
     "output_type": "execute_result"
    }
   ],
   "source": [
    "11 not in aa"
   ]
  },
  {
   "cell_type": "markdown",
   "id": "4b8b4f65-0377-4945-b4fc-f326ed1fa279",
   "metadata": {},
   "source": [
    "### broadcasting!"
   ]
  },
  {
   "cell_type": "code",
   "execution_count": 44,
   "id": "f3746b83-ced7-4af9-b9f3-811801bae6e3",
   "metadata": {},
   "outputs": [
    {
     "data": {
      "text/plain": [
       "([10, 20, 30, 40], [50, 60, 70, 80])"
      ]
     },
     "execution_count": 44,
     "metadata": {},
     "output_type": "execute_result"
    }
   ],
   "source": [
    "a = [10, 20, 30, 40 ]\n",
    "b = [50, 60, 70, 80 ]\n",
    "a, b"
   ]
  },
  {
   "cell_type": "code",
   "execution_count": 46,
   "id": "373d1063-cb00-4a2d-b260-b75edf12e892",
   "metadata": {},
   "outputs": [
    {
     "name": "stdout",
     "output_type": "stream",
     "text": [
      "[10, 20, 30, 40, 10, 20, 30, 40]\n"
     ]
    }
   ],
   "source": [
    "print(a * 2)"
   ]
  },
  {
   "cell_type": "code",
   "execution_count": 47,
   "id": "f1f9b929-e070-412a-bd26-684f1aef596f",
   "metadata": {},
   "outputs": [
    {
     "ename": "TypeError",
     "evalue": "can only concatenate list (not \"int\") to list",
     "output_type": "error",
     "traceback": [
      "\u001b[1;31m---------------------------------------------------------------------------\u001b[0m",
      "\u001b[1;31mTypeError\u001b[0m                                 Traceback (most recent call last)",
      "Input \u001b[1;32mIn [47]\u001b[0m, in \u001b[0;36m<cell line: 1>\u001b[1;34m()\u001b[0m\n\u001b[1;32m----> 1\u001b[0m \u001b[38;5;28mprint\u001b[39m(\u001b[43ma\u001b[49m\u001b[43m \u001b[49m\u001b[38;5;241;43m+\u001b[39;49m\u001b[43m \u001b[49m\u001b[38;5;241;43m2\u001b[39;49m)\n",
      "\u001b[1;31mTypeError\u001b[0m: can only concatenate list (not \"int\") to list"
     ]
    }
   ],
   "source": [
    "print(a + 2)"
   ]
  },
  {
   "cell_type": "code",
   "execution_count": 49,
   "id": "e6f9a3f1-c9ce-459a-af3e-02dc8aba1a41",
   "metadata": {},
   "outputs": [
    {
     "ename": "TypeError",
     "evalue": "unsupported operand type(s) for -: 'list' and 'int'",
     "output_type": "error",
     "traceback": [
      "\u001b[1;31m---------------------------------------------------------------------------\u001b[0m",
      "\u001b[1;31mTypeError\u001b[0m                                 Traceback (most recent call last)",
      "Input \u001b[1;32mIn [49]\u001b[0m, in \u001b[0;36m<cell line: 1>\u001b[1;34m()\u001b[0m\n\u001b[1;32m----> 1\u001b[0m \u001b[43ma\u001b[49m\u001b[43m \u001b[49m\u001b[38;5;241;43m-\u001b[39;49m\u001b[43m \u001b[49m\u001b[38;5;241;43m2\u001b[39;49m\n",
      "\u001b[1;31mTypeError\u001b[0m: unsupported operand type(s) for -: 'list' and 'int'"
     ]
    }
   ],
   "source": [
    "a - 2"
   ]
  },
  {
   "cell_type": "code",
   "execution_count": 50,
   "id": "c78598df-13a5-42f5-87fc-46848cfadf1d",
   "metadata": {},
   "outputs": [
    {
     "data": {
      "text/plain": [
       "[10, 20, 30, 40, 50, 60, 70, 80]"
      ]
     },
     "execution_count": 50,
     "metadata": {},
     "output_type": "execute_result"
    }
   ],
   "source": [
    "a + b"
   ]
  },
  {
   "cell_type": "code",
   "execution_count": 51,
   "id": "703010a5-6e5a-4dd4-a0cc-b9df13210ae6",
   "metadata": {},
   "outputs": [
    {
     "ename": "TypeError",
     "evalue": "can't multiply sequence by non-int of type 'list'",
     "output_type": "error",
     "traceback": [
      "\u001b[1;31m---------------------------------------------------------------------------\u001b[0m",
      "\u001b[1;31mTypeError\u001b[0m                                 Traceback (most recent call last)",
      "Input \u001b[1;32mIn [51]\u001b[0m, in \u001b[0;36m<cell line: 1>\u001b[1;34m()\u001b[0m\n\u001b[1;32m----> 1\u001b[0m \u001b[43ma\u001b[49m\u001b[43m \u001b[49m\u001b[38;5;241;43m*\u001b[39;49m\u001b[43m \u001b[49m\u001b[43mb\u001b[49m\n",
      "\u001b[1;31mTypeError\u001b[0m: can't multiply sequence by non-int of type 'list'"
     ]
    }
   ],
   "source": [
    "a * b"
   ]
  },
  {
   "cell_type": "code",
   "execution_count": null,
   "id": "7cce1029-be76-4cec-b243-354bef1acbc0",
   "metadata": {},
   "outputs": [],
   "source": []
  },
  {
   "cell_type": "markdown",
   "id": "b9287e4b-59da-473b-9d2a-ec0aa5b2e732",
   "metadata": {},
   "source": [
    "step"
   ]
  },
  {
   "cell_type": "code",
   "execution_count": 53,
   "id": "36fe0646-93eb-4bfa-94ca-f334c77ddc81",
   "metadata": {},
   "outputs": [
    {
     "data": {
      "text/plain": [
       "[10, 30, 50, 70]"
      ]
     },
     "execution_count": 53,
     "metadata": {},
     "output_type": "execute_result"
    }
   ],
   "source": [
    "a = [10, 20, 30, 40, 50, 60, 70, 80 ]\n",
    "\n",
    "a[::2]"
   ]
  },
  {
   "cell_type": "code",
   "execution_count": 54,
   "id": "c63b9092-d063-4064-9510-99af49399cc8",
   "metadata": {},
   "outputs": [
    {
     "data": {
      "text/plain": [
       "[80, 60, 40, 20]"
      ]
     },
     "execution_count": 54,
     "metadata": {},
     "output_type": "execute_result"
    }
   ],
   "source": [
    "a[::-2]"
   ]
  },
  {
   "cell_type": "code",
   "execution_count": null,
   "id": "afb9b1f7-7e5b-425d-872c-407f286800d8",
   "metadata": {},
   "outputs": [],
   "source": []
  },
  {
   "cell_type": "markdown",
   "id": "e3418b36-51d7-4132-88df-d03aaa8a2b48",
   "metadata": {},
   "source": [
    "값의 변경\n",
    " - 불변형 자료: string, tuple\n",
    " - 가변형 자료: list, dict"
   ]
  },
  {
   "cell_type": "code",
   "execution_count": null,
   "id": "34996591-335a-4099-affb-caaa03bcfa2a",
   "metadata": {},
   "outputs": [],
   "source": []
  },
  {
   "cell_type": "code",
   "execution_count": null,
   "id": "7c5ef381-f93e-4ddb-9591-ad4ee3e19d70",
   "metadata": {},
   "outputs": [],
   "source": []
  },
  {
   "cell_type": "code",
   "execution_count": null,
   "id": "411e981f-3e34-40ac-8580-60b06802b32f",
   "metadata": {},
   "outputs": [],
   "source": []
  },
  {
   "cell_type": "code",
   "execution_count": null,
   "id": "e16655bc-9df2-4019-9d08-3788000775f3",
   "metadata": {},
   "outputs": [],
   "source": []
  },
  {
   "cell_type": "markdown",
   "id": "de7025be-3308-4689-9030-2bbd5366f897",
   "metadata": {},
   "source": [
    "### `list()` 함수"
   ]
  },
  {
   "cell_type": "code",
   "execution_count": 55,
   "id": "bbcc77e0-fb9d-42be-a01e-850a0a2c439d",
   "metadata": {},
   "outputs": [
    {
     "data": {
      "text/plain": [
       "range(1, 100)"
      ]
     },
     "execution_count": 55,
     "metadata": {},
     "output_type": "execute_result"
    }
   ],
   "source": [
    "for i in range(1, 100):\n",
    "    print(i)"
   ]
  },
  {
   "cell_type": "code",
   "execution_count": 56,
   "id": "4cee823a-d0bf-4545-9e69-79862c86ca16",
   "metadata": {},
   "outputs": [
    {
     "data": {
      "text/plain": [
       "[1, 2, 3, 4, 5]"
      ]
     },
     "execution_count": 56,
     "metadata": {},
     "output_type": "execute_result"
    }
   ],
   "source": [
    "nums = list(range(1, 100))\n",
    "nums[:5]"
   ]
  },
  {
   "cell_type": "code",
   "execution_count": 58,
   "id": "70ce126d-7960-4fe1-980a-216abe81298f",
   "metadata": {},
   "outputs": [
    {
     "data": {
      "text/plain": [
       "\u001b[1;31mInit signature:\u001b[0m \u001b[0mlist\u001b[0m\u001b[1;33m(\u001b[0m\u001b[0miterable\u001b[0m\u001b[1;33m=\u001b[0m\u001b[1;33m(\u001b[0m\u001b[1;33m)\u001b[0m\u001b[1;33m,\u001b[0m \u001b[1;33m/\u001b[0m\u001b[1;33m)\u001b[0m\u001b[1;33m\u001b[0m\u001b[1;33m\u001b[0m\u001b[0m\n",
       "\u001b[1;31mDocstring:\u001b[0m     \n",
       "Built-in mutable sequence.\n",
       "\n",
       "If no argument is given, the constructor creates a new empty list.\n",
       "The argument must be an iterable if specified.\n",
       "\u001b[1;31mType:\u001b[0m           type\n",
       "\u001b[1;31mSubclasses:\u001b[0m     _HashedSeq, StackSummary, DeferredConfigList, _ymd, SList, _ImmutableLineList, FormattedText, NodeList, _ExplodedList, Stack, ...\n"
      ]
     },
     "metadata": {},
     "output_type": "display_data"
    }
   ],
   "source": [
    "list?"
   ]
  },
  {
   "cell_type": "markdown",
   "id": "ef3f5b48-a3d8-46fa-9928-4b31541ebc12",
   "metadata": {},
   "source": [
    "## 리스트 값의 변경"
   ]
  },
  {
   "cell_type": "code",
   "execution_count": 74,
   "id": "7ab7c30c-67f2-46ef-8258-eb5a06babaf1",
   "metadata": {},
   "outputs": [
    {
     "name": "stdout",
     "output_type": "stream",
     "text": [
      "[1, 2, 3, 4, 5, 6, 7, 8, 9]\n"
     ]
    }
   ],
   "source": [
    "a = list( range(1, 10))\n",
    "print(a)"
   ]
  },
  {
   "cell_type": "code",
   "execution_count": 75,
   "id": "15fd1cb3-f256-48c5-ab42-4531b077acd9",
   "metadata": {},
   "outputs": [
    {
     "name": "stdout",
     "output_type": "stream",
     "text": [
      "[1, 2, 300, 4, 5, 6, 7, 8, 9]\n"
     ]
    }
   ],
   "source": [
    "a[2] = 300\n",
    "print(a)"
   ]
  },
  {
   "cell_type": "code",
   "execution_count": 76,
   "id": "90457230-030f-4a6d-bd90-acdd849a9269",
   "metadata": {},
   "outputs": [
    {
     "data": {
      "text/plain": [
       "[2]"
      ]
     },
     "execution_count": 76,
     "metadata": {},
     "output_type": "execute_result"
    }
   ],
   "source": [
    "a[1:2]"
   ]
  },
  {
   "cell_type": "code",
   "execution_count": 77,
   "id": "fa69671d-b515-45ea-becd-5dcf2c7d97ff",
   "metadata": {},
   "outputs": [
    {
     "name": "stdout",
     "output_type": "stream",
     "text": [
      "[1, 200, 201, 300, 4, 5, 6, 7, 8, 9]\n"
     ]
    }
   ],
   "source": [
    "a[1:2] = [200, 201]\n",
    "print(a)"
   ]
  },
  {
   "cell_type": "code",
   "execution_count": 78,
   "id": "38ad97dc-8051-430e-92ac-811f9ac89b3c",
   "metadata": {},
   "outputs": [
    {
     "data": {
      "text/plain": [
       "[200, 201, 300]"
      ]
     },
     "execution_count": 78,
     "metadata": {},
     "output_type": "execute_result"
    }
   ],
   "source": [
    "a[1:4]"
   ]
  },
  {
   "cell_type": "code",
   "execution_count": 79,
   "id": "33075485-8af4-4e81-9f5a-d258007f02c3",
   "metadata": {},
   "outputs": [
    {
     "name": "stdout",
     "output_type": "stream",
     "text": [
      "[1, 200, 201, 300, [200, 201], 5, 6, 7, 8, 9]\n"
     ]
    }
   ],
   "source": [
    "a[4] = [200, 201]\n",
    "print(a)"
   ]
  },
  {
   "cell_type": "code",
   "execution_count": 80,
   "id": "7c73e0ba-c550-4f66-ab29-ae837b41fa4f",
   "metadata": {},
   "outputs": [
    {
     "name": "stdout",
     "output_type": "stream",
     "text": [
      "[1, 200, 201, 300, 5, 6, 7, 8, 9]\n"
     ]
    }
   ],
   "source": [
    "del(a[4])\n",
    "print(a)"
   ]
  },
  {
   "cell_type": "code",
   "execution_count": 81,
   "id": "8bef232b-6471-440d-9ff4-9b3119a05651",
   "metadata": {},
   "outputs": [
    {
     "name": "stdout",
     "output_type": "stream",
     "text": [
      "[1, 200, 201, 6, 7, 8, 9]\n"
     ]
    }
   ],
   "source": [
    "del(a[3:5])\n",
    "print(a)"
   ]
  },
  {
   "cell_type": "code",
   "execution_count": 82,
   "id": "b9697d3c-c8cf-44bb-ad76-290603e61181",
   "metadata": {},
   "outputs": [
    {
     "name": "stdout",
     "output_type": "stream",
     "text": [
      "[[], 200, 201, 6, 7, 8, 9]\n"
     ]
    }
   ],
   "source": [
    "a[0] = []\n",
    "print(a)"
   ]
  },
  {
   "cell_type": "code",
   "execution_count": 83,
   "id": "55754227-c9cd-4930-83d8-74291e76ed43",
   "metadata": {},
   "outputs": [
    {
     "name": "stdout",
     "output_type": "stream",
     "text": [
      "[6, 7, 8, 9]\n"
     ]
    }
   ],
   "source": [
    "a[0:3] = []\n",
    "print(a)"
   ]
  },
  {
   "cell_type": "markdown",
   "id": "069a841a-4fcf-45b1-b3f2-ab61e21b0ffb",
   "metadata": {},
   "source": [
    "## 집계 함수\n",
    " - sum(), max(), min()\n",
    " - len()"
   ]
  },
  {
   "cell_type": "code",
   "execution_count": 91,
   "id": "708e91fa-6057-42a4-8f67-d3a27a3d5575",
   "metadata": {},
   "outputs": [],
   "source": [
    "a = [-100, -5, 9, 999, 777, -678]"
   ]
  },
  {
   "cell_type": "code",
   "execution_count": 92,
   "id": "92e13a52-80f8-4827-9b9b-0bf01160ad86",
   "metadata": {},
   "outputs": [
    {
     "data": {
      "text/plain": [
       "6"
      ]
     },
     "execution_count": 92,
     "metadata": {},
     "output_type": "execute_result"
    }
   ],
   "source": [
    "len(a)"
   ]
  },
  {
   "cell_type": "code",
   "execution_count": 94,
   "id": "33f6acf5-a30b-4b84-ab6e-3f83613404e8",
   "metadata": {},
   "outputs": [
    {
     "name": "stdout",
     "output_type": "stream",
     "text": [
      "1002\n"
     ]
    }
   ],
   "source": [
    "# for 써서 합계!\n",
    "hap = 0\n",
    "for i in a:\n",
    "    hap += i\n",
    "print(hap)"
   ]
  },
  {
   "cell_type": "code",
   "execution_count": 89,
   "id": "06289fb9-8eff-4259-bf35-8415b59eb1d9",
   "metadata": {},
   "outputs": [
    {
     "name": "stdout",
     "output_type": "stream",
     "text": [
      "6\n"
     ]
    }
   ],
   "source": [
    "# for 써서 합계!\n",
    "count = 0\n",
    "for i in a:\n",
    "    count += 1\n",
    "    \n",
    "print(count)"
   ]
  },
  {
   "cell_type": "code",
   "execution_count": 96,
   "id": "7bddffd5-0df3-4e3e-ba1f-bd3846035a2c",
   "metadata": {},
   "outputs": [
    {
     "data": {
      "text/plain": [
       "1002"
      ]
     },
     "execution_count": 96,
     "metadata": {},
     "output_type": "execute_result"
    }
   ],
   "source": [
    "sum(a)"
   ]
  },
  {
   "cell_type": "code",
   "execution_count": 98,
   "id": "cd5afb34-2c85-4381-bb54-5b230768b319",
   "metadata": {},
   "outputs": [
    {
     "data": {
      "text/plain": [
       "-678"
      ]
     },
     "execution_count": 98,
     "metadata": {},
     "output_type": "execute_result"
    }
   ],
   "source": [
    "min(a)"
   ]
  },
  {
   "cell_type": "code",
   "execution_count": 100,
   "id": "47bf5e17-39e6-4cc2-963f-678990b4d1a0",
   "metadata": {},
   "outputs": [
    {
     "data": {
      "text/plain": [
       "999"
      ]
     },
     "execution_count": 100,
     "metadata": {},
     "output_type": "execute_result"
    }
   ],
   "source": [
    "max(a)"
   ]
  },
  {
   "cell_type": "code",
   "execution_count": 102,
   "id": "c7c85496-1182-493d-a206-43e43ac961d7",
   "metadata": {},
   "outputs": [
    {
     "data": {
      "text/plain": [
       "list"
      ]
     },
     "execution_count": 102,
     "metadata": {},
     "output_type": "execute_result"
    }
   ],
   "source": [
    "type(a)"
   ]
  },
  {
   "cell_type": "markdown",
   "id": "81e14e5e-d1ba-4f54-baf0-95aa1aa237f6",
   "metadata": {},
   "source": [
    "### p197 실습 : List 내장함수"
   ]
  },
  {
   "cell_type": "code",
   "execution_count": 103,
   "id": "71e980cb-2653-4ae0-b625-e68b146cdaef",
   "metadata": {},
   "outputs": [],
   "source": [
    "myList = [30, 10, 20]"
   ]
  },
  {
   "cell_type": "code",
   "execution_count": 104,
   "id": "8f5d704d-edb1-4069-9da7-5d62dc4922e0",
   "metadata": {},
   "outputs": [
    {
     "data": {
      "text/plain": [
       "[30, 10, 20, 40]"
      ]
     },
     "execution_count": 104,
     "metadata": {},
     "output_type": "execute_result"
    }
   ],
   "source": [
    "myList.append(40)\n",
    "myList"
   ]
  },
  {
   "cell_type": "code",
   "execution_count": 105,
   "id": "ddc8e52f-f5e5-4171-a72e-2c19032506d5",
   "metadata": {},
   "outputs": [
    {
     "data": {
      "text/plain": [
       "[30, 10, 20]"
      ]
     },
     "execution_count": 105,
     "metadata": {},
     "output_type": "execute_result"
    }
   ],
   "source": [
    "myList.pop()\n",
    "myList"
   ]
  },
  {
   "cell_type": "code",
   "execution_count": 106,
   "id": "6d96a061-3815-47d0-8aa5-795071e1fefe",
   "metadata": {},
   "outputs": [],
   "source": [
    "myList.sort()"
   ]
  },
  {
   "cell_type": "code",
   "execution_count": 107,
   "id": "12063079-23d7-4199-9ee5-718b46029977",
   "metadata": {},
   "outputs": [
    {
     "data": {
      "text/plain": [
       "[10, 20, 30]"
      ]
     },
     "execution_count": 107,
     "metadata": {},
     "output_type": "execute_result"
    }
   ],
   "source": [
    "myList"
   ]
  },
  {
   "cell_type": "code",
   "execution_count": 108,
   "id": "f0eaf9b7-c26b-4576-ac3f-6ca18be0a60f",
   "metadata": {},
   "outputs": [],
   "source": [
    "myList.reverse()"
   ]
  },
  {
   "cell_type": "code",
   "execution_count": 109,
   "id": "52b271f1-58e9-4543-b4d0-8cae48f3f930",
   "metadata": {},
   "outputs": [
    {
     "data": {
      "text/plain": [
       "[30, 20, 10]"
      ]
     },
     "execution_count": 109,
     "metadata": {},
     "output_type": "execute_result"
    }
   ],
   "source": [
    "myList"
   ]
  },
  {
   "cell_type": "code",
   "execution_count": 110,
   "id": "3cb20a76-e50c-488a-b4ac-cd2d04104b27",
   "metadata": {},
   "outputs": [
    {
     "data": {
      "text/plain": [
       "[30, 20, 222, 10]"
      ]
     },
     "execution_count": 110,
     "metadata": {},
     "output_type": "execute_result"
    }
   ],
   "source": [
    "myList.insert(2, 222)\n",
    "myList"
   ]
  },
  {
   "cell_type": "code",
   "execution_count": 111,
   "id": "5db7e792-eefc-4d00-837c-976427e231ec",
   "metadata": {},
   "outputs": [
    {
     "data": {
      "text/plain": [
       "[30, 20, 222, 10, 77, 88, 77]"
      ]
     },
     "execution_count": 111,
     "metadata": {},
     "output_type": "execute_result"
    }
   ],
   "source": [
    "myList.extend([77,88,77])\n",
    "myList"
   ]
  },
  {
   "cell_type": "code",
   "execution_count": 114,
   "id": "9968a290-e97f-4a6f-ae9f-20b326f85891",
   "metadata": {},
   "outputs": [
    {
     "data": {
      "text/plain": [
       "2"
      ]
     },
     "execution_count": 114,
     "metadata": {},
     "output_type": "execute_result"
    }
   ],
   "source": [
    "myList.count(77)"
   ]
  },
  {
   "cell_type": "code",
   "execution_count": 115,
   "id": "b1ace99a-0f5e-4f08-9fbd-e60f5fa385f7",
   "metadata": {},
   "outputs": [
    {
     "data": {
      "text/plain": [
       "[30, 20, 222, 10, 88, 77]"
      ]
     },
     "execution_count": 115,
     "metadata": {},
     "output_type": "execute_result"
    }
   ],
   "source": [
    "myList.remove(77)\n",
    "myList"
   ]
  },
  {
   "cell_type": "markdown",
   "id": "8136f202-3756-46c2-a010-5a2e04d37cfb",
   "metadata": {},
   "source": [
    "## sorted vs list.sort()"
   ]
  },
  {
   "cell_type": "code",
   "execution_count": 116,
   "id": "09a5379b-42e0-4d46-b6a1-d4a875fd0729",
   "metadata": {},
   "outputs": [],
   "source": [
    "myList = [30, 10, 20]"
   ]
  },
  {
   "cell_type": "code",
   "execution_count": 117,
   "id": "2548e29f-e5f5-434e-b2c9-eaba814e09d0",
   "metadata": {},
   "outputs": [
    {
     "data": {
      "text/plain": [
       "[10, 20, 30]"
      ]
     },
     "execution_count": 117,
     "metadata": {},
     "output_type": "execute_result"
    }
   ],
   "source": [
    "sorted(myList)"
   ]
  },
  {
   "cell_type": "code",
   "execution_count": 118,
   "id": "dcf7a11a-6356-4765-95a1-6fb2578fcb9f",
   "metadata": {},
   "outputs": [
    {
     "data": {
      "text/plain": [
       "[30, 10, 20]"
      ]
     },
     "execution_count": 118,
     "metadata": {},
     "output_type": "execute_result"
    }
   ],
   "source": [
    "myList"
   ]
  },
  {
   "cell_type": "code",
   "execution_count": 119,
   "id": "3557b489-4efe-4106-b7a3-baf461760e5d",
   "metadata": {},
   "outputs": [],
   "source": [
    "myList.sort()"
   ]
  },
  {
   "cell_type": "code",
   "execution_count": 120,
   "id": "af22efd0-a50c-401e-815a-ee1689f5434c",
   "metadata": {},
   "outputs": [
    {
     "data": {
      "text/plain": [
       "[10, 20, 30]"
      ]
     },
     "execution_count": 120,
     "metadata": {},
     "output_type": "execute_result"
    }
   ],
   "source": [
    "myList"
   ]
  },
  {
   "cell_type": "markdown",
   "id": "2687db30-7a2d-48a1-b1e1-29f82b884154",
   "metadata": {},
   "source": [
    "## 2차원 리스트"
   ]
  },
  {
   "cell_type": "code",
   "execution_count": 121,
   "id": "aaf82e3f-3233-4e0b-ae9f-bbf0eee6a242",
   "metadata": {},
   "outputs": [],
   "source": [
    "a = [[1,2,3,4],\n",
    "    [5,6,7,8],\n",
    "    [9,10,11,12]]"
   ]
  },
  {
   "cell_type": "code",
   "execution_count": 122,
   "id": "91be93a2-a3b6-4ad7-9dc0-f58dcb07f780",
   "metadata": {},
   "outputs": [
    {
     "data": {
      "text/plain": [
       "3"
      ]
     },
     "execution_count": 122,
     "metadata": {},
     "output_type": "execute_result"
    }
   ],
   "source": [
    "len(a)"
   ]
  },
  {
   "cell_type": "code",
   "execution_count": 123,
   "id": "06d336d5-a091-44d7-9edd-b678d2542a26",
   "metadata": {},
   "outputs": [
    {
     "data": {
      "text/plain": [
       "([1, 2, 3, 4], [5, 6, 7, 8], [[5, 6, 7, 8], [9, 10, 11, 12]])"
      ]
     },
     "execution_count": 123,
     "metadata": {},
     "output_type": "execute_result"
    }
   ],
   "source": [
    "a[0], a[1], a[1:3]"
   ]
  },
  {
   "cell_type": "code",
   "execution_count": 124,
   "id": "b1e1423f-2b90-4c09-9a2c-b43d5a3f453a",
   "metadata": {},
   "outputs": [
    {
     "data": {
      "text/plain": [
       "2"
      ]
     },
     "execution_count": 124,
     "metadata": {},
     "output_type": "execute_result"
    }
   ],
   "source": [
    "a[0][1]"
   ]
  },
  {
   "cell_type": "code",
   "execution_count": 126,
   "id": "c4277486-7982-479d-8089-fcc44af8a98e",
   "metadata": {},
   "outputs": [],
   "source": [
    "a = []"
   ]
  },
  {
   "cell_type": "code",
   "execution_count": 127,
   "id": "b318a169-72bf-4704-b8a4-96c38a765bdf",
   "metadata": {},
   "outputs": [
    {
     "data": {
      "text/plain": [
       "[[1, 2, 3, 4], [1, 2, 3, 4], [1, 2, 3, 4]]"
      ]
     },
     "execution_count": 127,
     "metadata": {},
     "output_type": "execute_result"
    }
   ],
   "source": [
    "a.append([1,2,3,4])\n",
    "a.append([1,2,3,4])\n",
    "a.append([1,2,3,4])\n",
    "a"
   ]
  },
  {
   "cell_type": "markdown",
   "id": "a5dabe63-6de4-4319-964d-3b4990183310",
   "metadata": {},
   "source": [
    "# 튜플!"
   ]
  },
  {
   "cell_type": "code",
   "execution_count": 128,
   "id": "1e501d63-6146-4793-9b31-b9deebe47aff",
   "metadata": {},
   "outputs": [
    {
     "data": {
      "text/plain": [
       "(1, 2, 3, 4, 5)"
      ]
     },
     "execution_count": 128,
     "metadata": {},
     "output_type": "execute_result"
    }
   ],
   "source": [
    "tt1 = (1,2,3,4,5)\n",
    "tt1"
   ]
  },
  {
   "cell_type": "code",
   "execution_count": 130,
   "id": "c3831b5c-b27b-4491-8e4e-2350fa5b2447",
   "metadata": {},
   "outputs": [
    {
     "data": {
      "text/plain": [
       "tuple"
      ]
     },
     "execution_count": 130,
     "metadata": {},
     "output_type": "execute_result"
    }
   ],
   "source": [
    "type(tt1)"
   ]
  },
  {
   "cell_type": "code",
   "execution_count": 129,
   "id": "635d74fb-e610-4494-83dd-d6e54469ad87",
   "metadata": {},
   "outputs": [
    {
     "data": {
      "text/plain": [
       "(0, 10, 5)"
      ]
     },
     "execution_count": 129,
     "metadata": {},
     "output_type": "execute_result"
    }
   ],
   "source": [
    "a, b, c = 0, 10, 5\n",
    "a, b, c"
   ]
  },
  {
   "cell_type": "code",
   "execution_count": 131,
   "id": "3de904fb-552b-41fa-bb25-e9735260fed4",
   "metadata": {},
   "outputs": [
    {
     "data": {
      "text/plain": [
       "()"
      ]
     },
     "execution_count": 131,
     "metadata": {},
     "output_type": "execute_result"
    }
   ],
   "source": [
    "tt1 = ()\n",
    "tt1"
   ]
  },
  {
   "cell_type": "code",
   "execution_count": 132,
   "id": "9423cf96-69b7-4cb6-a3ac-cf765d22e633",
   "metadata": {},
   "outputs": [
    {
     "data": {
      "text/plain": [
       "(10, 20, 30)"
      ]
     },
     "execution_count": 132,
     "metadata": {},
     "output_type": "execute_result"
    }
   ],
   "source": [
    "tt2 = 10, 20, 30\n",
    "tt2"
   ]
  },
  {
   "cell_type": "code",
   "execution_count": 133,
   "id": "5df880ed-b880-4529-9a45-d2bfd8634354",
   "metadata": {},
   "outputs": [
    {
     "data": {
      "text/plain": [
       "10"
      ]
     },
     "execution_count": 133,
     "metadata": {},
     "output_type": "execute_result"
    }
   ],
   "source": [
    "tt2 = 10\n",
    "tt2"
   ]
  },
  {
   "cell_type": "code",
   "execution_count": 134,
   "id": "8cc7f09e-e6ad-4fd7-8f2d-844b5e83088d",
   "metadata": {},
   "outputs": [
    {
     "data": {
      "text/plain": [
       "(10,)"
      ]
     },
     "execution_count": 134,
     "metadata": {},
     "output_type": "execute_result"
    }
   ],
   "source": [
    "tt2 = 10,\n",
    "tt2"
   ]
  },
  {
   "cell_type": "markdown",
   "id": "ba3dc460-028a-41fd-ab68-2fb3dbe1ec15",
   "metadata": {},
   "source": [
    "불변형!!!"
   ]
  },
  {
   "cell_type": "code",
   "execution_count": 138,
   "id": "ac8c71f1-8012-454e-833e-fc5e2b9731d2",
   "metadata": {},
   "outputs": [
    {
     "data": {
      "text/plain": [
       "(10, 20, 30, 40, 50, 60, 70)"
      ]
     },
     "execution_count": 138,
     "metadata": {},
     "output_type": "execute_result"
    }
   ],
   "source": [
    "tt2 = 10, 20, 30, 40, 50, 60 , 70\n",
    "tt2"
   ]
  },
  {
   "cell_type": "code",
   "execution_count": 139,
   "id": "0c320146-69a5-476b-8e21-65cda7e4b398",
   "metadata": {},
   "outputs": [
    {
     "data": {
      "text/plain": [
       "(10, 30)"
      ]
     },
     "execution_count": 139,
     "metadata": {},
     "output_type": "execute_result"
    }
   ],
   "source": [
    "tt2[0], tt2[2]"
   ]
  },
  {
   "cell_type": "code",
   "execution_count": 141,
   "id": "29868057-0904-43e4-9dcd-a8a6c66db975",
   "metadata": {},
   "outputs": [
    {
     "data": {
      "text/plain": [
       "(30, 40, 50)"
      ]
     },
     "execution_count": 141,
     "metadata": {},
     "output_type": "execute_result"
    }
   ],
   "source": [
    "tt2[2:5]"
   ]
  },
  {
   "cell_type": "code",
   "execution_count": 142,
   "id": "5239a67f-7e8d-4d03-bff6-8c957f19d5e6",
   "metadata": {},
   "outputs": [
    {
     "data": {
      "text/plain": [
       "50"
      ]
     },
     "execution_count": 142,
     "metadata": {},
     "output_type": "execute_result"
    }
   ],
   "source": [
    "tt2[-3]"
   ]
  },
  {
   "cell_type": "code",
   "execution_count": 143,
   "id": "2c846586-6861-4ee8-9c30-bd1c0c55736f",
   "metadata": {},
   "outputs": [
    {
     "data": {
      "text/plain": [
       "(10, 20, 30, 40, 50)"
      ]
     },
     "execution_count": 143,
     "metadata": {},
     "output_type": "execute_result"
    }
   ],
   "source": [
    "tt2[:-2]"
   ]
  },
  {
   "cell_type": "code",
   "execution_count": 144,
   "id": "bb6e9314-74b3-4e7e-b713-251b48f420e9",
   "metadata": {},
   "outputs": [
    {
     "data": {
      "text/plain": [
       "(60, 70)"
      ]
     },
     "execution_count": 144,
     "metadata": {},
     "output_type": "execute_result"
    }
   ],
   "source": [
    "tt2[-2:]"
   ]
  },
  {
   "cell_type": "code",
   "execution_count": 145,
   "id": "e9593e8e-fdfe-413a-a702-824d8e9e406d",
   "metadata": {},
   "outputs": [
    {
     "ename": "TypeError",
     "evalue": "'tuple' object does not support item assignment",
     "output_type": "error",
     "traceback": [
      "\u001b[1;31m---------------------------------------------------------------------------\u001b[0m",
      "\u001b[1;31mTypeError\u001b[0m                                 Traceback (most recent call last)",
      "Input \u001b[1;32mIn [145]\u001b[0m, in \u001b[0;36m<cell line: 1>\u001b[1;34m()\u001b[0m\n\u001b[1;32m----> 1\u001b[0m tt2[\u001b[38;5;241m0\u001b[39m] \u001b[38;5;241m=\u001b[39m \u001b[38;5;241m1000\u001b[39m\n",
      "\u001b[1;31mTypeError\u001b[0m: 'tuple' object does not support item assignment"
     ]
    }
   ],
   "source": [
    "tt2[0] = 1000"
   ]
  },
  {
   "cell_type": "code",
   "execution_count": 146,
   "id": "76376877-44f7-49cf-8cf1-7b27f9f62523",
   "metadata": {},
   "outputs": [
    {
     "ename": "TypeError",
     "evalue": "'tuple' object does not support item assignment",
     "output_type": "error",
     "traceback": [
      "\u001b[1;31m---------------------------------------------------------------------------\u001b[0m",
      "\u001b[1;31mTypeError\u001b[0m                                 Traceback (most recent call last)",
      "Input \u001b[1;32mIn [146]\u001b[0m, in \u001b[0;36m<cell line: 1>\u001b[1;34m()\u001b[0m\n\u001b[1;32m----> 1\u001b[0m tt2[\u001b[38;5;241m1\u001b[39m:\u001b[38;5;241m2\u001b[39m] \u001b[38;5;241m=\u001b[39m (\u001b[38;5;241m10\u001b[39m, \u001b[38;5;241m20\u001b[39m)\n\u001b[0;32m      2\u001b[0m tt2\n",
      "\u001b[1;31mTypeError\u001b[0m: 'tuple' object does not support item assignment"
     ]
    }
   ],
   "source": [
    "tt2[1:2] = (10, 20)\n",
    "tt2"
   ]
  },
  {
   "cell_type": "code",
   "execution_count": 147,
   "id": "0813c34c-c3c0-4eb0-a55e-b4ce368760e9",
   "metadata": {},
   "outputs": [
    {
     "ename": "TypeError",
     "evalue": "'tuple' object doesn't support item deletion",
     "output_type": "error",
     "traceback": [
      "\u001b[1;31m---------------------------------------------------------------------------\u001b[0m",
      "\u001b[1;31mTypeError\u001b[0m                                 Traceback (most recent call last)",
      "Input \u001b[1;32mIn [147]\u001b[0m, in \u001b[0;36m<cell line: 1>\u001b[1;34m()\u001b[0m\n\u001b[1;32m----> 1\u001b[0m \u001b[38;5;28;01mdel\u001b[39;00m(tt2[\u001b[38;5;241m1\u001b[39m])\n",
      "\u001b[1;31mTypeError\u001b[0m: 'tuple' object doesn't support item deletion"
     ]
    }
   ],
   "source": [
    "del(tt2[1])"
   ]
  },
  {
   "cell_type": "code",
   "execution_count": 148,
   "id": "35c5bd32-cef9-4d5f-9c04-54183597e597",
   "metadata": {},
   "outputs": [],
   "source": [
    "del(tt2)"
   ]
  },
  {
   "cell_type": "markdown",
   "id": "6e137a9a-303f-46da-8552-b4c0dbe9423d",
   "metadata": {},
   "source": [
    "브로드캐스팅!"
   ]
  },
  {
   "cell_type": "code",
   "execution_count": 149,
   "id": "d21aee2b-8fb4-4e50-9f89-b83d1ae1f214",
   "metadata": {},
   "outputs": [],
   "source": [
    "tt2 = ('A', 'B')\n",
    "tt1 = (10, 20, 30, 40)"
   ]
  },
  {
   "cell_type": "code",
   "execution_count": 150,
   "id": "34e5c13b-20da-4471-b8d2-4959129d72f1",
   "metadata": {},
   "outputs": [
    {
     "ename": "TypeError",
     "evalue": "can only concatenate tuple (not \"int\") to tuple",
     "output_type": "error",
     "traceback": [
      "\u001b[1;31m---------------------------------------------------------------------------\u001b[0m",
      "\u001b[1;31mTypeError\u001b[0m                                 Traceback (most recent call last)",
      "Input \u001b[1;32mIn [150]\u001b[0m, in \u001b[0;36m<cell line: 1>\u001b[1;34m()\u001b[0m\n\u001b[1;32m----> 1\u001b[0m \u001b[43mtt2\u001b[49m\u001b[43m \u001b[49m\u001b[38;5;241;43m+\u001b[39;49m\u001b[43m \u001b[49m\u001b[38;5;241;43m2\u001b[39;49m\n",
      "\u001b[1;31mTypeError\u001b[0m: can only concatenate tuple (not \"int\") to tuple"
     ]
    }
   ],
   "source": [
    "tt2 + 2"
   ]
  },
  {
   "cell_type": "code",
   "execution_count": 151,
   "id": "2ae5acfd-313c-4d6a-bb37-530bf62a476e",
   "metadata": {},
   "outputs": [
    {
     "data": {
      "text/plain": [
       "('A', 'B', 'A', 'B')"
      ]
     },
     "execution_count": 151,
     "metadata": {},
     "output_type": "execute_result"
    }
   ],
   "source": [
    "tt2 * 2"
   ]
  },
  {
   "cell_type": "code",
   "execution_count": 152,
   "id": "8ca45239-59f2-4c29-b58b-ceba1b28cb47",
   "metadata": {},
   "outputs": [
    {
     "data": {
      "text/plain": [
       "('A', 'B', 10, 20, 30, 40)"
      ]
     },
     "execution_count": 152,
     "metadata": {},
     "output_type": "execute_result"
    }
   ],
   "source": [
    "tt2 + tt1"
   ]
  },
  {
   "cell_type": "code",
   "execution_count": 153,
   "id": "48ebfd8a-226e-4ae2-a3f8-cce333338575",
   "metadata": {},
   "outputs": [
    {
     "data": {
      "text/plain": [
       "(1, 2, 3, 4, 5, 6, 7, 8, 9)"
      ]
     },
     "execution_count": 153,
     "metadata": {},
     "output_type": "execute_result"
    }
   ],
   "source": [
    "tt2 = tuple(range(1, 10))\n",
    "tt2"
   ]
  },
  {
   "cell_type": "markdown",
   "id": "2dfb9fba-5f5f-488a-bbce-626065512dec",
   "metadata": {},
   "source": [
    "# 리스트 <-> 튜플 변환\n",
    " - list()\n",
    " - tuple()"
   ]
  },
  {
   "cell_type": "code",
   "execution_count": 154,
   "id": "78c39f9b-28fd-456e-99ea-dea80dc775a2",
   "metadata": {},
   "outputs": [],
   "source": [
    "li = [1,2,3,4,5]\n",
    "t1 = (-9, -8, -7, -6)"
   ]
  },
  {
   "cell_type": "code",
   "execution_count": 155,
   "id": "4cdf11b1-ba7c-4cda-857e-25d3159d6627",
   "metadata": {},
   "outputs": [
    {
     "data": {
      "text/plain": [
       "(1, 2, 3, 4, 5)"
      ]
     },
     "execution_count": 155,
     "metadata": {},
     "output_type": "execute_result"
    }
   ],
   "source": [
    "tuple(li)"
   ]
  },
  {
   "cell_type": "code",
   "execution_count": 156,
   "id": "2ef53769-2288-47d9-b9cb-c2ea65bd2937",
   "metadata": {},
   "outputs": [
    {
     "data": {
      "text/plain": [
       "[-9, -8, -7, -6]"
      ]
     },
     "execution_count": 156,
     "metadata": {},
     "output_type": "execute_result"
    }
   ],
   "source": [
    "list(t1)"
   ]
  },
  {
   "cell_type": "markdown",
   "id": "5f3fb052-104c-4fe1-83e7-ae9afe6efe60",
   "metadata": {},
   "source": [
    "# 딕셔너리"
   ]
  },
  {
   "cell_type": "code",
   "execution_count": 157,
   "id": "4b52cdea-5c27-430b-b2df-6bbfa5ba66ff",
   "metadata": {},
   "outputs": [
    {
     "data": {
      "text/plain": [
       "(list, tuple)"
      ]
     },
     "execution_count": 157,
     "metadata": {},
     "output_type": "execute_result"
    }
   ],
   "source": [
    "li = []\n",
    "t1 = ()\n",
    "type(li), type(t1)"
   ]
  },
  {
   "cell_type": "code",
   "execution_count": 158,
   "id": "e50b8a6f-5700-446e-950d-9f86edfce254",
   "metadata": {},
   "outputs": [
    {
     "data": {
      "text/plain": [
       "dict"
      ]
     },
     "execution_count": 158,
     "metadata": {},
     "output_type": "execute_result"
    }
   ],
   "source": [
    "dic1 = {}\n",
    "type(dic1)"
   ]
  },
  {
   "cell_type": "code",
   "execution_count": 160,
   "id": "16402e3a-e12d-4707-a78c-294426b48f84",
   "metadata": {},
   "outputs": [
    {
     "data": {
      "text/plain": [
       "{1: 'a', 2: 'b', 3: 'c'}"
      ]
     },
     "execution_count": 160,
     "metadata": {},
     "output_type": "execute_result"
    }
   ],
   "source": [
    "dic1 = {1:'a', 2:'b', 3:'c'}\n",
    "dic1"
   ]
  },
  {
   "cell_type": "code",
   "execution_count": 161,
   "id": "88f9da7b-6760-44bb-bf55-8694c142545e",
   "metadata": {},
   "outputs": [
    {
     "data": {
      "text/plain": [
       "'a'"
      ]
     },
     "execution_count": 161,
     "metadata": {},
     "output_type": "execute_result"
    }
   ],
   "source": [
    "dic1[1]"
   ]
  },
  {
   "cell_type": "code",
   "execution_count": 162,
   "id": "3d387271-273a-46cb-9d17-17c22dec0f2d",
   "metadata": {},
   "outputs": [
    {
     "data": {
      "text/plain": [
       "{'a': 123, 'b': 234, 'c': 456}"
      ]
     },
     "execution_count": 162,
     "metadata": {},
     "output_type": "execute_result"
    }
   ],
   "source": [
    "dic1 = {'a': 123, 'b': 234, 'c':456}\n",
    "dic1"
   ]
  },
  {
   "cell_type": "code",
   "execution_count": 163,
   "id": "c4eddcb5-b37c-4653-af4b-e8eb9d5364b2",
   "metadata": {},
   "outputs": [
    {
     "data": {
      "text/plain": [
       "123"
      ]
     },
     "execution_count": 163,
     "metadata": {},
     "output_type": "execute_result"
    }
   ],
   "source": [
    "dic1['a']"
   ]
  },
  {
   "cell_type": "markdown",
   "id": "389befd8-8a72-4c01-8d8e-0940b7af7df7",
   "metadata": {},
   "source": [
    "학생 정보"
   ]
  },
  {
   "cell_type": "code",
   "execution_count": 164,
   "id": "beb445bb-3e14-4e14-9744-a3c64b8a051e",
   "metadata": {},
   "outputs": [
    {
     "data": {
      "text/plain": [
       "{'학번': 1000, '이름': '홍길동', '학과': '컴공'}"
      ]
     },
     "execution_count": 164,
     "metadata": {},
     "output_type": "execute_result"
    }
   ],
   "source": [
    "student1 = {'학번': 1000, '이름':'홍길동', '학과': '컴공'}\n",
    "student1"
   ]
  },
  {
   "cell_type": "code",
   "execution_count": 165,
   "id": "49b67864-f9bb-4302-84a6-a588ba9c6d97",
   "metadata": {},
   "outputs": [
    {
     "data": {
      "text/plain": [
       "1000"
      ]
     },
     "execution_count": 165,
     "metadata": {},
     "output_type": "execute_result"
    }
   ],
   "source": [
    "student1['학번']"
   ]
  },
  {
   "cell_type": "code",
   "execution_count": 166,
   "id": "83f6390c-ce0a-4e68-83bf-7ce857b5152e",
   "metadata": {},
   "outputs": [
    {
     "data": {
      "text/plain": [
       "{'학번': 1000, '이름': '홍길동', '학과': '컴공', '연락처': '000-222--3333'}"
      ]
     },
     "execution_count": 166,
     "metadata": {},
     "output_type": "execute_result"
    }
   ],
   "source": [
    "student1['연락처'] = '000-222--3333'\n",
    "student1"
   ]
  },
  {
   "cell_type": "code",
   "execution_count": 167,
   "id": "87b26f31-a7ac-493b-8333-5124f11c414d",
   "metadata": {},
   "outputs": [
    {
     "data": {
      "text/plain": [
       "{'학번': 1000, '이름': '홍길동', '학과': '컴공', '연락처': ''}"
      ]
     },
     "execution_count": 167,
     "metadata": {},
     "output_type": "execute_result"
    }
   ],
   "source": [
    "student1['연락처'] = ''\n",
    "student1"
   ]
  },
  {
   "cell_type": "code",
   "execution_count": 168,
   "id": "bd100df6-c211-4e11-ab2f-9b584fa7bc66",
   "metadata": {},
   "outputs": [],
   "source": [
    "del student1['연락처']"
   ]
  },
  {
   "cell_type": "code",
   "execution_count": 169,
   "id": "22008cae-c8a0-49aa-bc8a-6aa3ff6fbea5",
   "metadata": {},
   "outputs": [
    {
     "data": {
      "text/plain": [
       "{'학번': 1000, '이름': '홍길동', '학과': '컴공'}"
      ]
     },
     "execution_count": 169,
     "metadata": {},
     "output_type": "execute_result"
    }
   ],
   "source": [
    "student1"
   ]
  },
  {
   "cell_type": "code",
   "execution_count": 170,
   "id": "ed3b93d5-b513-4ed0-9387-05a5f6246e98",
   "metadata": {},
   "outputs": [
    {
     "ename": "KeyError",
     "evalue": "'주소'",
     "output_type": "error",
     "traceback": [
      "\u001b[1;31m---------------------------------------------------------------------------\u001b[0m",
      "\u001b[1;31mKeyError\u001b[0m                                  Traceback (most recent call last)",
      "Input \u001b[1;32mIn [170]\u001b[0m, in \u001b[0;36m<cell line: 1>\u001b[1;34m()\u001b[0m\n\u001b[1;32m----> 1\u001b[0m \u001b[43mstudent1\u001b[49m\u001b[43m[\u001b[49m\u001b[38;5;124;43m'\u001b[39;49m\u001b[38;5;124;43m주소\u001b[39;49m\u001b[38;5;124;43m'\u001b[39;49m\u001b[43m]\u001b[49m\n",
      "\u001b[1;31mKeyError\u001b[0m: '주소'"
     ]
    }
   ],
   "source": [
    "student1['주소']"
   ]
  },
  {
   "cell_type": "code",
   "execution_count": 171,
   "id": "c4f40dae-e56b-4041-b0bf-a4427b86719d",
   "metadata": {},
   "outputs": [],
   "source": [
    "student1.get('주소')"
   ]
  },
  {
   "cell_type": "code",
   "execution_count": 172,
   "id": "6f8a21e7-567d-457b-a04c-86024df628ea",
   "metadata": {},
   "outputs": [
    {
     "data": {
      "text/plain": [
       "dict_keys(['학번', '이름', '학과'])"
      ]
     },
     "execution_count": 172,
     "metadata": {},
     "output_type": "execute_result"
    }
   ],
   "source": [
    "student1.keys()"
   ]
  },
  {
   "cell_type": "code",
   "execution_count": 173,
   "id": "4463ad9f-a4d3-4db3-b43b-f4181ec46b57",
   "metadata": {},
   "outputs": [
    {
     "data": {
      "text/plain": [
       "dict_values([1000, '홍길동', '컴공'])"
      ]
     },
     "execution_count": 173,
     "metadata": {},
     "output_type": "execute_result"
    }
   ],
   "source": [
    "student1.values()"
   ]
  },
  {
   "cell_type": "code",
   "execution_count": 174,
   "id": "fb43b77e-0c3f-4a7e-a6fb-da8659f5ec45",
   "metadata": {},
   "outputs": [
    {
     "data": {
      "text/plain": [
       "dict_items([('학번', 1000), ('이름', '홍길동'), ('학과', '컴공')])"
      ]
     },
     "execution_count": 174,
     "metadata": {},
     "output_type": "execute_result"
    }
   ],
   "source": [
    "student1.items()"
   ]
  },
  {
   "cell_type": "code",
   "execution_count": 175,
   "id": "7e7d8ba5-d2cd-40cb-b36f-1af1de2a2310",
   "metadata": {},
   "outputs": [
    {
     "data": {
      "text/plain": [
       "False"
      ]
     },
     "execution_count": 175,
     "metadata": {},
     "output_type": "execute_result"
    }
   ],
   "source": [
    "'홍길동' in student1"
   ]
  },
  {
   "cell_type": "code",
   "execution_count": 176,
   "id": "f960da6d-eaa7-4338-918e-82ef97ee66bf",
   "metadata": {},
   "outputs": [
    {
     "data": {
      "text/plain": [
       "True"
      ]
     },
     "execution_count": 176,
     "metadata": {},
     "output_type": "execute_result"
    }
   ],
   "source": [
    "'이름' in student1"
   ]
  },
  {
   "cell_type": "code",
   "execution_count": 177,
   "id": "aec462c2-5b20-45b1-989e-de2420d37f9e",
   "metadata": {},
   "outputs": [
    {
     "name": "stdout",
     "output_type": "stream",
     "text": [
      "1000\n",
      "홍길동\n",
      "컴공\n"
     ]
    }
   ],
   "source": [
    "for key in student1.keys():\n",
    "    print(student1[key])"
   ]
  },
  {
   "cell_type": "code",
   "execution_count": null,
   "id": "681e208a-bfd3-4363-b023-fcd2b5360a40",
   "metadata": {},
   "outputs": [],
   "source": [
    "a, b = 1, 2"
   ]
  },
  {
   "cell_type": "code",
   "execution_count": 180,
   "id": "16b35810-814c-4e07-95f6-422a66ba73fb",
   "metadata": {},
   "outputs": [
    {
     "name": "stdout",
     "output_type": "stream",
     "text": [
      "학번 1000\n",
      "이름 홍길동\n",
      "학과 컴공\n"
     ]
    }
   ],
   "source": [
    "for k, v in student1.items():\n",
    "    # print(student1[k])\n",
    "    print(k, v)"
   ]
  },
  {
   "cell_type": "code",
   "execution_count": null,
   "id": "983c05ee-814e-48de-8aea-dc6243e6f832",
   "metadata": {},
   "outputs": [],
   "source": []
  },
  {
   "cell_type": "markdown",
   "id": "89b57fc9-841d-4545-a8d2-17625144d82e",
   "metadata": {},
   "source": [
    "# 세트"
   ]
  },
  {
   "cell_type": "code",
   "execution_count": 181,
   "id": "37074f19-c0a8-4829-a3d0-e2fade3932f8",
   "metadata": {},
   "outputs": [
    {
     "data": {
      "text/plain": [
       "{1, 2, 3, 43}"
      ]
     },
     "execution_count": 181,
     "metadata": {},
     "output_type": "execute_result"
    }
   ],
   "source": [
    "s1 = {1,2,3,43,3,3,3,3}\n",
    "s1"
   ]
  },
  {
   "cell_type": "code",
   "execution_count": 182,
   "id": "169f1230-0ca1-4891-972a-285a432a2915",
   "metadata": {},
   "outputs": [
    {
     "data": {
      "text/plain": [
       "{}"
      ]
     },
     "execution_count": 182,
     "metadata": {},
     "output_type": "execute_result"
    }
   ],
   "source": [
    "s2 = {}\n",
    "s2"
   ]
  },
  {
   "cell_type": "code",
   "execution_count": 183,
   "id": "1d753ac9-d395-421b-bb49-fc5ffeed6b0a",
   "metadata": {},
   "outputs": [
    {
     "data": {
      "text/plain": [
       "dict"
      ]
     },
     "execution_count": 183,
     "metadata": {},
     "output_type": "execute_result"
    }
   ],
   "source": [
    "type(s2)"
   ]
  },
  {
   "cell_type": "code",
   "execution_count": 184,
   "id": "c852ae8d-9306-4065-ad4d-7cc15c4e6efe",
   "metadata": {},
   "outputs": [
    {
     "data": {
      "text/plain": [
       "set()"
      ]
     },
     "execution_count": 184,
     "metadata": {},
     "output_type": "execute_result"
    }
   ],
   "source": [
    "s2 = set()\n",
    "s2"
   ]
  },
  {
   "cell_type": "code",
   "execution_count": 185,
   "id": "969ea538-4d78-4d48-98db-aab1c89aef33",
   "metadata": {},
   "outputs": [
    {
     "data": {
      "text/plain": [
       "set"
      ]
     },
     "execution_count": 185,
     "metadata": {},
     "output_type": "execute_result"
    }
   ],
   "source": [
    "type(s2)"
   ]
  },
  {
   "cell_type": "code",
   "execution_count": 186,
   "id": "77aee6ae-2d12-49b4-83d2-dabf014f7cf9",
   "metadata": {},
   "outputs": [],
   "source": [
    "s1 = {1,2,3,4,5}\n",
    "s2 = {4,5,6,7}"
   ]
  },
  {
   "cell_type": "code",
   "execution_count": 187,
   "id": "a505abaf-2951-4da2-b61b-da81f7382bb8",
   "metadata": {},
   "outputs": [
    {
     "data": {
      "text/plain": [
       "{4, 5}"
      ]
     },
     "execution_count": 187,
     "metadata": {},
     "output_type": "execute_result"
    }
   ],
   "source": [
    "s1 & s2   #교"
   ]
  },
  {
   "cell_type": "code",
   "execution_count": 188,
   "id": "375ca7f6-2feb-4d72-a87b-4012d3fc02de",
   "metadata": {},
   "outputs": [
    {
     "data": {
      "text/plain": [
       "{1, 2, 3, 4, 5, 6, 7}"
      ]
     },
     "execution_count": 188,
     "metadata": {},
     "output_type": "execute_result"
    }
   ],
   "source": [
    "s1 | s2   #합"
   ]
  },
  {
   "cell_type": "code",
   "execution_count": 189,
   "id": "9b0d4486-946b-4b66-8e10-217861b2490f",
   "metadata": {},
   "outputs": [
    {
     "data": {
      "text/plain": [
       "{1, 2, 3}"
      ]
     },
     "execution_count": 189,
     "metadata": {},
     "output_type": "execute_result"
    }
   ],
   "source": [
    "s1 - s2"
   ]
  },
  {
   "cell_type": "code",
   "execution_count": 190,
   "id": "3cdd7eab-6cce-4155-8f7a-25ffc0b179c3",
   "metadata": {},
   "outputs": [
    {
     "data": {
      "text/plain": [
       "{1, 2, 3, 6, 7}"
      ]
     },
     "execution_count": 190,
     "metadata": {},
     "output_type": "execute_result"
    }
   ],
   "source": [
    "s1 ^ s2"
   ]
  },
  {
   "cell_type": "code",
   "execution_count": null,
   "id": "b0b5d7e0-62ba-46b2-a4a9-4a12a6a7c2ff",
   "metadata": {},
   "outputs": [],
   "source": [
    "s1.intersection"
   ]
  },
  {
   "cell_type": "code",
   "execution_count": 192,
   "id": "87ee0cee-ef49-40f0-a9b6-5101c8271189",
   "metadata": {},
   "outputs": [
    {
     "ename": "TypeError",
     "evalue": "unsupported operand type(s) for +: 'set' and 'set'",
     "output_type": "error",
     "traceback": [
      "\u001b[1;31m---------------------------------------------------------------------------\u001b[0m",
      "\u001b[1;31mTypeError\u001b[0m                                 Traceback (most recent call last)",
      "Input \u001b[1;32mIn [192]\u001b[0m, in \u001b[0;36m<cell line: 1>\u001b[1;34m()\u001b[0m\n\u001b[1;32m----> 1\u001b[0m \u001b[43ms1\u001b[49m\u001b[43m \u001b[49m\u001b[38;5;241;43m+\u001b[39;49m\u001b[43m \u001b[49m\u001b[43ms2\u001b[49m\n",
      "\u001b[1;31mTypeError\u001b[0m: unsupported operand type(s) for +: 'set' and 'set'"
     ]
    }
   ],
   "source": [
    "s1 + s2"
   ]
  },
  {
   "cell_type": "code",
   "execution_count": 193,
   "id": "8eb9f94f-0262-4b28-a615-89319c5c345e",
   "metadata": {},
   "outputs": [
    {
     "ename": "TypeError",
     "evalue": "unsupported operand type(s) for *: 'set' and 'int'",
     "output_type": "error",
     "traceback": [
      "\u001b[1;31m---------------------------------------------------------------------------\u001b[0m",
      "\u001b[1;31mTypeError\u001b[0m                                 Traceback (most recent call last)",
      "Input \u001b[1;32mIn [193]\u001b[0m, in \u001b[0;36m<cell line: 1>\u001b[1;34m()\u001b[0m\n\u001b[1;32m----> 1\u001b[0m \u001b[43ms1\u001b[49m\u001b[43m \u001b[49m\u001b[38;5;241;43m*\u001b[39;49m\u001b[43m \u001b[49m\u001b[38;5;241;43m2\u001b[39;49m\n",
      "\u001b[1;31mTypeError\u001b[0m: unsupported operand type(s) for *: 'set' and 'int'"
     ]
    }
   ],
   "source": [
    "s1 * 2"
   ]
  },
  {
   "cell_type": "markdown",
   "id": "ae7679a9-2129-40e0-a8b5-5db4596bb37e",
   "metadata": {},
   "source": [
    "# 컴프리헨션"
   ]
  },
  {
   "cell_type": "code",
   "execution_count": 194,
   "id": "c6d8c868-d31b-46c0-84ef-1006b91b6571",
   "metadata": {},
   "outputs": [
    {
     "data": {
      "text/plain": [
       "[2, 4, 6, 8, 10]"
      ]
     },
     "execution_count": 194,
     "metadata": {},
     "output_type": "execute_result"
    }
   ],
   "source": [
    "[num * 2 for num in range(1, 6)]"
   ]
  },
  {
   "cell_type": "code",
   "execution_count": 195,
   "id": "2c984056-3178-4baa-b054-f478589ccef4",
   "metadata": {},
   "outputs": [
    {
     "data": {
      "text/plain": [
       "[2, 4, 6, 8, 10]"
      ]
     },
     "execution_count": 195,
     "metadata": {},
     "output_type": "execute_result"
    }
   ],
   "source": [
    "numlist = [num * 2 for num in range(1, 6)]\n",
    "numlist"
   ]
  },
  {
   "cell_type": "code",
   "execution_count": 196,
   "id": "64dfb2cf-6b82-44f2-9e08-7d582d325e78",
   "metadata": {},
   "outputs": [
    {
     "data": {
      "text/plain": [
       "list"
      ]
     },
     "execution_count": 196,
     "metadata": {},
     "output_type": "execute_result"
    }
   ],
   "source": [
    "type(numlist)"
   ]
  },
  {
   "cell_type": "code",
   "execution_count": 198,
   "id": "2be64732-a99b-4b81-9595-68cdf258271c",
   "metadata": {},
   "outputs": [
    {
     "data": {
      "text/plain": [
       "[3, 6, 9, 12, 15, 18]"
      ]
     },
     "execution_count": 198,
     "metadata": {},
     "output_type": "execute_result"
    }
   ],
   "source": [
    "[num for num in range(1, 21) if num % 3 == 0]"
   ]
  },
  {
   "cell_type": "code",
   "execution_count": 199,
   "id": "a1113ae3-f84b-4f84-8323-7aef9a5995a3",
   "metadata": {},
   "outputs": [],
   "source": [
    "food = ['1','2','3','4','5']\n",
    "side = [-1, -2,-3]"
   ]
  },
  {
   "cell_type": "code",
   "execution_count": 200,
   "id": "9b1a495e-0c32-4829-b145-67bf520c4873",
   "metadata": {},
   "outputs": [
    {
     "name": "stdout",
     "output_type": "stream",
     "text": [
      "1 -1\n",
      "2 -2\n",
      "3 -3\n"
     ]
    }
   ],
   "source": [
    "for f, s in zip(food, side):\n",
    "    print(f, s)"
   ]
  },
  {
   "cell_type": "code",
   "execution_count": 201,
   "id": "d9a92b3e-a81c-4bb0-a1c4-b9b4c8691315",
   "metadata": {},
   "outputs": [
    {
     "data": {
      "text/plain": [
       "<zip at 0x2333f959340>"
      ]
     },
     "execution_count": 201,
     "metadata": {},
     "output_type": "execute_result"
    }
   ],
   "source": [
    "zip(food, side)"
   ]
  },
  {
   "cell_type": "markdown",
   "id": "7274e959-8e2a-4336-9ba8-d1a00c4fc055",
   "metadata": {},
   "source": [
    "# 복사: 얕은복사/깊은복사\n",
    " - copy by value\n",
    " - copy by reference"
   ]
  },
  {
   "cell_type": "code",
   "execution_count": 203,
   "id": "28e9099c-63fd-4bbd-ab09-46e0d4d0c496",
   "metadata": {},
   "outputs": [],
   "source": [
    "li = [1,2,3,4]\n",
    "li2 = li"
   ]
  },
  {
   "cell_type": "code",
   "execution_count": 204,
   "id": "66cd6710-6e14-436b-9a39-b2504b0869b3",
   "metadata": {},
   "outputs": [
    {
     "data": {
      "text/plain": [
       "[1, 2, 3, 4]"
      ]
     },
     "execution_count": 204,
     "metadata": {},
     "output_type": "execute_result"
    }
   ],
   "source": [
    "li"
   ]
  },
  {
   "cell_type": "code",
   "execution_count": 205,
   "id": "694c0df2-6f06-4ded-83fe-9f22f8db9437",
   "metadata": {},
   "outputs": [
    {
     "data": {
      "text/plain": [
       "[1, 2, 3, 4]"
      ]
     },
     "execution_count": 205,
     "metadata": {},
     "output_type": "execute_result"
    }
   ],
   "source": [
    "li2"
   ]
  },
  {
   "cell_type": "code",
   "execution_count": 206,
   "id": "acf62f1b-ba7b-43cf-bc6a-be8b48b0ac13",
   "metadata": {},
   "outputs": [
    {
     "data": {
      "text/plain": [
       "2419134879744"
      ]
     },
     "execution_count": 206,
     "metadata": {},
     "output_type": "execute_result"
    }
   ],
   "source": [
    "id(li)"
   ]
  },
  {
   "cell_type": "code",
   "execution_count": 207,
   "id": "6f6a5fe4-b3f8-48fb-b187-02da041414d9",
   "metadata": {},
   "outputs": [
    {
     "data": {
      "text/plain": [
       "2419134879744"
      ]
     },
     "execution_count": 207,
     "metadata": {},
     "output_type": "execute_result"
    }
   ],
   "source": [
    "id(li2)"
   ]
  },
  {
   "cell_type": "markdown",
   "id": "bb3dc03c-2aca-4303-94a1-2fe4dcfadbd3",
   "metadata": {},
   "source": [
    "p217 쪽 얕은복사 문제"
   ]
  },
  {
   "cell_type": "code",
   "execution_count": 144,
   "id": "3ded0f0b-f5dd-4094-8c71-bdeea344f4ff",
   "metadata": {},
   "outputs": [],
   "source": [
    "oldlist = ['A', 'B', 'C']\n",
    "newlist = oldlist"
   ]
  },
  {
   "cell_type": "code",
   "execution_count": 145,
   "id": "f6171cf6-3092-4242-aaa1-7c3d9228bf5d",
   "metadata": {},
   "outputs": [
    {
     "data": {
      "text/plain": [
       "(1753826276672, 1753826276672)"
      ]
     },
     "execution_count": 145,
     "metadata": {},
     "output_type": "execute_result"
    }
   ],
   "source": [
    "id(oldlist), id(newlist)"
   ]
  },
  {
   "cell_type": "code",
   "execution_count": 146,
   "id": "f3c04790-0e2f-411a-b52f-f8f48803f5fb",
   "metadata": {},
   "outputs": [
    {
     "data": {
      "text/plain": [
       "['A', 'B', 'C', 'DD']"
      ]
     },
     "execution_count": 146,
     "metadata": {},
     "output_type": "execute_result"
    }
   ],
   "source": [
    "oldlist.append('DD')\n",
    "oldlist"
   ]
  },
  {
   "cell_type": "code",
   "execution_count": 147,
   "id": "70408171-9a64-41d9-8a69-479c98c38be8",
   "metadata": {},
   "outputs": [
    {
     "data": {
      "text/plain": [
       "['A', 'B', 'C', 'DD']"
      ]
     },
     "execution_count": 147,
     "metadata": {},
     "output_type": "execute_result"
    }
   ],
   "source": [
    "newlist"
   ]
  },
  {
   "cell_type": "code",
   "execution_count": 148,
   "id": "a8d80c6f-c279-4dc9-a1da-4448adb4bf1a",
   "metadata": {},
   "outputs": [],
   "source": [
    "del newlist[1]"
   ]
  },
  {
   "cell_type": "code",
   "execution_count": 149,
   "id": "67c5ec64-71fa-4089-8288-8bc28de4c235",
   "metadata": {},
   "outputs": [
    {
     "data": {
      "text/plain": [
       "['A', 'C', 'DD']"
      ]
     },
     "execution_count": 149,
     "metadata": {},
     "output_type": "execute_result"
    }
   ],
   "source": [
    "oldlist"
   ]
  },
  {
   "cell_type": "markdown",
   "id": "64e7d02e-fb51-45ab-a9b9-2e0922dfe388",
   "metadata": {},
   "source": [
    "copy by reference 문제 회피\n",
    " - deep copy\n",
    " \n",
    "새로운 객체 id를 만드게!!!"
   ]
  },
  {
   "cell_type": "code",
   "execution_count": 150,
   "id": "3f3ade89-d9e2-495c-b662-32694fe5f846",
   "metadata": {},
   "outputs": [],
   "source": [
    "newlist = oldlist[:]"
   ]
  },
  {
   "cell_type": "code",
   "execution_count": 151,
   "id": "6de48a0a-d1ce-411f-aa9b-e32049365b76",
   "metadata": {},
   "outputs": [
    {
     "data": {
      "text/plain": [
       "(1753826276672, 1753826185728)"
      ]
     },
     "execution_count": 151,
     "metadata": {},
     "output_type": "execute_result"
    }
   ],
   "source": [
    "id(oldlist), id(newlist)"
   ]
  },
  {
   "cell_type": "code",
   "execution_count": 152,
   "id": "46acf30b-566e-4fb6-b682-e9ef8b8f8f28",
   "metadata": {},
   "outputs": [],
   "source": [
    "del newlist[0]"
   ]
  },
  {
   "cell_type": "code",
   "execution_count": 153,
   "id": "58de499d-89f5-4d6f-bc1f-f1105ca3e295",
   "metadata": {},
   "outputs": [
    {
     "data": {
      "text/plain": [
       "(['A', 'C', 'DD'], ['C', 'DD'])"
      ]
     },
     "execution_count": 153,
     "metadata": {},
     "output_type": "execute_result"
    }
   ],
   "source": [
    "oldlist, newlist"
   ]
  },
  {
   "cell_type": "code",
   "execution_count": 154,
   "id": "e2722781-d770-4fa0-bfe7-55e65d2e9763",
   "metadata": {},
   "outputs": [],
   "source": [
    "newlist = oldlist.copy()"
   ]
  },
  {
   "cell_type": "code",
   "execution_count": 155,
   "id": "9f81e349-0f56-47d0-9c03-a8b4f08c6fa1",
   "metadata": {},
   "outputs": [
    {
     "data": {
      "text/plain": [
       "(1753826276672, 1753826244288)"
      ]
     },
     "execution_count": 155,
     "metadata": {},
     "output_type": "execute_result"
    }
   ],
   "source": [
    "id(oldlist), id(newlist)"
   ]
  },
  {
   "cell_type": "code",
   "execution_count": null,
   "id": "c34d3189-1f56-4df7-853a-387d90a767ac",
   "metadata": {},
   "outputs": [],
   "source": []
  },
  {
   "cell_type": "markdown",
   "id": "3c45058a-a8db-4ecb-97de-7724dc980773",
   "metadata": {},
   "source": [
    "p224 4번"
   ]
  },
  {
   "cell_type": "code",
   "execution_count": 1,
   "id": "b2104952-95ce-4d3a-9474-ace237a1265c",
   "metadata": {},
   "outputs": [
    {
     "name": "stdout",
     "output_type": "stream",
     "text": [
      "[4, 3, 2, 1]\n"
     ]
    }
   ],
   "source": [
    "a1 = [1,2,3,4]\n",
    "a2 = []\n",
    "# 역순\n",
    "for i in range(3, -1, -1):\n",
    "    a2.append(a1[i])\n",
    "    \n",
    "print(a2)"
   ]
  },
  {
   "cell_type": "markdown",
   "id": "052a986f-2c32-4ced-8a59-a470f1d2affc",
   "metadata": {},
   "source": [
    "random 모듈"
   ]
  },
  {
   "cell_type": "code",
   "execution_count": 2,
   "id": "cf9f8e2c-2ad8-40f8-9237-c985f7a48a9b",
   "metadata": {},
   "outputs": [],
   "source": [
    "import random"
   ]
  },
  {
   "cell_type": "code",
   "execution_count": 40,
   "id": "00caf7de-a85b-4606-8bcb-10679649e4af",
   "metadata": {},
   "outputs": [
    {
     "data": {
      "text/plain": [
       "0.37885755614369143"
      ]
     },
     "execution_count": 40,
     "metadata": {},
     "output_type": "execute_result"
    }
   ],
   "source": [
    "random.random()"
   ]
  },
  {
   "cell_type": "code",
   "execution_count": 74,
   "id": "00e4d2e0-eaa1-4b27-8db1-741a3aeb5bda",
   "metadata": {},
   "outputs": [
    {
     "data": {
      "text/plain": [
       "\u001b[1;31mSignature:\u001b[0m \u001b[0mrandom\u001b[0m\u001b[1;33m.\u001b[0m\u001b[0mrandint\u001b[0m\u001b[1;33m(\u001b[0m\u001b[0ma\u001b[0m\u001b[1;33m,\u001b[0m \u001b[0mb\u001b[0m\u001b[1;33m)\u001b[0m\u001b[1;33m\u001b[0m\u001b[1;33m\u001b[0m\u001b[0m\n",
       "\u001b[1;31mDocstring:\u001b[0m\n",
       "Return random integer in range [a, b], including both end points.\n",
       "        \n",
       "\u001b[1;31mFile:\u001b[0m      c:\\users\\bit\\anaconda3\\envs\\lecture\\lib\\random.py\n",
       "\u001b[1;31mType:\u001b[0m      method\n"
      ]
     },
     "metadata": {},
     "output_type": "display_data"
    }
   ],
   "source": [
    "random.randint()"
   ]
  },
  {
   "cell_type": "code",
   "execution_count": 91,
   "id": "90c3de5f-d3da-46b5-a905-ff9aeab53b2e",
   "metadata": {},
   "outputs": [
    {
     "data": {
      "text/plain": [
       "22"
      ]
     },
     "execution_count": 91,
     "metadata": {},
     "output_type": "execute_result"
    }
   ],
   "source": [
    "random.randrange(1, 100)"
   ]
  },
  {
   "cell_type": "code",
   "execution_count": 92,
   "id": "273a5bb0-c41c-4f4e-a196-5a854c06a235",
   "metadata": {},
   "outputs": [],
   "source": [
    "a = ['e', 'd', 'a', 'c', 'b']"
   ]
  },
  {
   "cell_type": "code",
   "execution_count": 136,
   "id": "fbc9cf39-617b-4402-adc6-9eb773ee095d",
   "metadata": {},
   "outputs": [
    {
     "data": {
      "text/plain": [
       "'b'"
      ]
     },
     "execution_count": 136,
     "metadata": {},
     "output_type": "execute_result"
    }
   ],
   "source": [
    "random.choice(a)"
   ]
  },
  {
   "cell_type": "markdown",
   "id": "45ba831a-5c92-4fbb-9da2-b57e9984b1c6",
   "metadata": {},
   "source": [
    "p178 9번 문제"
   ]
  },
  {
   "cell_type": "code",
   "execution_count": 143,
   "id": "6cabbe40-1228-4afb-8d5a-72bf8e0f8162",
   "metadata": {},
   "outputs": [
    {
     "name": "stdout",
     "output_type": "stream",
     "text": [
      "97063\n"
     ]
    }
   ],
   "source": [
    "hap = 0\n",
    "for i in range(3333, 9999, 1) :\n",
    "    if i % 1234 == 0 :\n",
    "        hap += i\n",
    "    if hap+i > 100000 :\n",
    "        break\n",
    "print (hap)"
   ]
  },
  {
   "cell_type": "code",
   "execution_count": null,
   "id": "d0dda12d-7e47-466f-92d6-bda87a4471cc",
   "metadata": {},
   "outputs": [],
   "source": [
    "hap = 0\n",
    "for i in range(3333, 9999, 1) :\n",
    "    if i % 1234 != 0 :\n",
    "        continue\n",
    "    if hap+i > 100000 :\n",
    "        break\n",
    "    hap += i\n",
    "print (hap)"
   ]
  }
 ],
 "metadata": {
  "kernelspec": {
   "display_name": "Python 3 (ipykernel)",
   "language": "python",
   "name": "python3"
  },
  "language_info": {
   "codemirror_mode": {
    "name": "ipython",
    "version": 3
   },
   "file_extension": ".py",
   "mimetype": "text/x-python",
   "name": "python",
   "nbconvert_exporter": "python",
   "pygments_lexer": "ipython3",
   "version": "3.9.7"
  }
 },
 "nbformat": 4,
 "nbformat_minor": 5
}
