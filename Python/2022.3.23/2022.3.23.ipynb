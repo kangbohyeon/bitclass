{
 "cells": [
  {
   "cell_type": "markdown",
   "id": "e610e7e9-69ad-40ba-acc3-d3ce09f4a3fa",
   "metadata": {},
   "source": [
    "# P81"
   ]
  },
  {
   "cell_type": "code",
   "execution_count": null,
   "id": "8743c386-b5da-4735-a6d6-c5bac37c49b8",
   "metadata": {},
   "outputs": [],
   "source": []
  },
  {
   "cell_type": "code",
   "execution_count": 9,
   "id": "2fa69dc4-6c4a-4e0c-a25c-50f16f8ee223",
   "metadata": {},
   "outputs": [
    {
     "name": "stdin",
     "output_type": "stream",
     "text": [
      "입력 진수 결정(16/10/8/2) :  5\n",
      "값 입력 :  265\n"
     ]
    },
    {
     "name": "stdout",
     "output_type": "stream",
     "text": [
      "16,10,8,2 숫자 중 하나만 입력하세요 : \n"
     ]
    }
   ],
   "source": [
    "#숫자만 들어올경우\n",
    "sel = int(input(\"입력 진수 결정(16/10/8/2) : \"))\n",
    "num = input(\"값 입력 : \")\n",
    "\n",
    "if sel == 16 :\n",
    "    num10 = int(num, 16)\n",
    "elif sel == 10 :\n",
    "    num10 = int(num, 10)\n",
    "elif sel == 8 :\n",
    "    num10 = int(num, 8)\n",
    "elif sel == 2 :\n",
    "    num10 = int(num, 2)\n",
    "else :\n",
    "    print(\"16,10,8,2 숫자 중 하나만 입력하세요 \")\n",
    "    \n",
    "#print(\"16진수 ==> \", hex(num10))\n",
    "#print(\"10진수 ==> \", num10)\n",
    "#print(\" 8진수 ==> \", oct(num10))\n",
    "#print(\" 2진수 ==> \", bin(num10))\n"
   ]
  },
  {
   "cell_type": "code",
   "execution_count": 11,
   "id": "904d4149-21b4-4cd3-a35c-e67e80d8ae82",
   "metadata": {},
   "outputs": [
    {
     "name": "stdin",
     "output_type": "stream",
     "text": [
      "입력 진수 결정(16/10/8/2) :  a\n"
     ]
    },
    {
     "name": "stdout",
     "output_type": "stream",
     "text": [
      "문자열\n"
     ]
    },
    {
     "name": "stdin",
     "output_type": "stream",
     "text": [
      "값 입력 :  12\n"
     ]
    }
   ],
   "source": [
    "#문자도 들어올경우\n",
    "sel = input(\"입력 진수 결정(16/10/8/2) : \")\n",
    "if type(sel)==str:\n",
    "    print('문자열')\n",
    "else :\n",
    "    sel = int(sel)\n",
    "num = input(\"값 입력 : \")"
   ]
  },
  {
   "cell_type": "code",
   "execution_count": null,
   "id": "f4a8f0e3-2dbd-48cf-88f6-40e1e7b311b7",
   "metadata": {},
   "outputs": [],
   "source": [
    "if sel == 16 :\n",
    "    num10 = int(num, 16)\n",
    "elif sel == 10 :\n",
    "    num10 = int(num, 10)\n",
    "elif sel == 8 :\n",
    "    num10 = int(num, 8)\n",
    "elif sel == 2 :\n",
    "    num10 = int(num, 2)\n",
    "else :\n",
    "    print(\"16,10,8,2 숫자 중 하나만 입력하세요 \")\n",
    "    \n",
    "#print(\"16진수 ==> \", hex(num10))\n",
    "#print(\"10진수 ==> \", num10)\n",
    "#print(\" 8진수 ==> \", oct(num10))\n",
    "#print(\" 2진수 ==> \", bin(num10))"
   ]
  },
  {
   "cell_type": "markdown",
   "id": "ce6321be-7c63-48a1-a001-fae10323b2e9",
   "metadata": {},
   "source": [
    "# P93"
   ]
  },
  {
   "cell_type": "code",
   "execution_count": 12,
   "id": "1f87e314-0fae-4405-9fd0-7d3ffb645dc2",
   "metadata": {},
   "outputs": [
    {
     "data": {
      "text/plain": [
       "\u001b[1;31mDocstring:\u001b[0m\n",
       "getsizeof(object [, default]) -> int\n",
       "\n",
       "Return the size of object in bytes.\n",
       "\u001b[1;31mType:\u001b[0m      builtin_function_or_method\n"
      ]
     },
     "metadata": {},
     "output_type": "display_data"
    }
   ],
   "source": [
    "import sys\n",
    "sys.getsizeof?"
   ]
  },
  {
   "cell_type": "code",
   "execution_count": 13,
   "id": "5192869c-d700-4a8c-b525-f27bac5e88b2",
   "metadata": {},
   "outputs": [],
   "source": [
    "# 내장함수 help()"
   ]
  },
  {
   "cell_type": "code",
   "execution_count": 14,
   "id": "7e9be9bb-032a-4ea8-a243-02c4c215852c",
   "metadata": {},
   "outputs": [
    {
     "name": "stdout",
     "output_type": "stream",
     "text": [
      "Help on built-in function getsizeof in module sys:\n",
      "\n",
      "getsizeof(...)\n",
      "    getsizeof(object [, default]) -> int\n",
      "    \n",
      "    Return the size of object in bytes.\n",
      "\n"
     ]
    }
   ],
   "source": [
    "help(sys.getsizeof)"
   ]
  },
  {
   "cell_type": "code",
   "execution_count": 15,
   "id": "d8bd02f1-6571-47b4-a0af-7ff872216016",
   "metadata": {},
   "outputs": [
    {
     "data": {
      "text/plain": [
       "\u001b[1;31mSignature:\u001b[0m \u001b[0meval\u001b[0m\u001b[1;33m(\u001b[0m\u001b[0msource\u001b[0m\u001b[1;33m,\u001b[0m \u001b[0mglobals\u001b[0m\u001b[1;33m=\u001b[0m\u001b[1;32mNone\u001b[0m\u001b[1;33m,\u001b[0m \u001b[0mlocals\u001b[0m\u001b[1;33m=\u001b[0m\u001b[1;32mNone\u001b[0m\u001b[1;33m,\u001b[0m \u001b[1;33m/\u001b[0m\u001b[1;33m)\u001b[0m\u001b[1;33m\u001b[0m\u001b[1;33m\u001b[0m\u001b[0m\n",
       "\u001b[1;31mDocstring:\u001b[0m\n",
       "Evaluate the given source in the context of globals and locals.\n",
       "\n",
       "The source may be a string representing a Python expression\n",
       "or a code object as returned by compile().\n",
       "The globals must be a dictionary and locals can be any mapping,\n",
       "defaulting to the current globals and locals.\n",
       "If only globals is given, locals defaults to it.\n",
       "\u001b[1;31mType:\u001b[0m      builtin_function_or_method\n"
      ]
     },
     "metadata": {},
     "output_type": "display_data"
    }
   ],
   "source": [
    "eval?"
   ]
  },
  {
   "cell_type": "code",
   "execution_count": 16,
   "id": "a05e3db7-3bd5-42a4-9f60-3163b1c1fa64",
   "metadata": {},
   "outputs": [
    {
     "data": {
      "text/plain": [
       "3.3"
      ]
     },
     "execution_count": 16,
     "metadata": {},
     "output_type": "execute_result"
    }
   ],
   "source": [
    "eval(\"1+2+3/10\")"
   ]
  },
  {
   "cell_type": "markdown",
   "id": "5efec852-df64-4fb1-b9f0-87693974cedd",
   "metadata": {},
   "source": [
    "# Chapter 6\n",
    "    + 반복!"
   ]
  },
  {
   "cell_type": "code",
   "execution_count": 19,
   "id": "3102a003-d4d4-4fac-acfc-dc47c41aad6f",
   "metadata": {},
   "outputs": [
    {
     "name": "stdout",
     "output_type": "stream",
     "text": [
      "안녕하세요... 0\n",
      "안녕하세요... 1\n",
      "안녕하세요... 2\n"
     ]
    }
   ],
   "source": [
    "for i in range( 0, 3, 1):\n",
    "    print('안녕하세요...',i)"
   ]
  },
  {
   "cell_type": "code",
   "execution_count": 20,
   "id": "d0bb4495-6a2f-47c3-94d4-817f6fe35476",
   "metadata": {},
   "outputs": [
    {
     "name": "stdout",
     "output_type": "stream",
     "text": [
      "안녕하세요... 0\n",
      "안녕하세요... 2\n",
      "안녕하세요... 4\n",
      "안녕하세요... 6\n",
      "안녕하세요... 8\n"
     ]
    }
   ],
   "source": [
    "for i in range( 0, 10, 2):\n",
    "    print('안녕하세요...',i)"
   ]
  },
  {
   "cell_type": "code",
   "execution_count": 21,
   "id": "245ceb52-aac9-4091-b26b-3f7affae7e27",
   "metadata": {},
   "outputs": [
    {
     "name": "stdout",
     "output_type": "stream",
     "text": [
      "안녕하세요... 20\n",
      "안녕하세요... 22\n",
      "안녕하세요... 24\n",
      "안녕하세요... 26\n",
      "안녕하세요... 28\n",
      "안녕하세요... 30\n",
      "안녕하세요... 32\n",
      "안녕하세요... 34\n",
      "안녕하세요... 36\n",
      "안녕하세요... 38\n",
      "안녕하세요... 40\n",
      "안녕하세요... 42\n",
      "안녕하세요... 44\n",
      "안녕하세요... 46\n",
      "안녕하세요... 48\n"
     ]
    }
   ],
   "source": [
    "for i in range( 20, 50, 2):\n",
    "    print('안녕하세요...',i)"
   ]
  },
  {
   "cell_type": "markdown",
   "id": "5c8b2d18-6f89-4a69-94bf-353855ee0cde",
   "metadata": {},
   "source": [
    "range()"
   ]
  },
  {
   "cell_type": "code",
   "execution_count": 22,
   "id": "6395010a-9c27-4b0a-862c-beb334a644a0",
   "metadata": {},
   "outputs": [
    {
     "data": {
      "text/plain": [
       "range(0, 5)"
      ]
     },
     "execution_count": 22,
     "metadata": {},
     "output_type": "execute_result"
    }
   ],
   "source": [
    "range(0,5,1)"
   ]
  },
  {
   "cell_type": "code",
   "execution_count": 23,
   "id": "9c1619f2-e516-416e-aa2d-8f5355a89193",
   "metadata": {},
   "outputs": [
    {
     "data": {
      "text/plain": [
       "list"
      ]
     },
     "execution_count": 23,
     "metadata": {},
     "output_type": "execute_result"
    }
   ],
   "source": [
    "type([0,1,3,5,9,10])"
   ]
  },
  {
   "cell_type": "code",
   "execution_count": 24,
   "id": "f9eb5fa6-23b4-49a3-92c6-1642d9003a26",
   "metadata": {},
   "outputs": [
    {
     "data": {
      "text/plain": [
       "list"
      ]
     },
     "execution_count": 24,
     "metadata": {},
     "output_type": "execute_result"
    }
   ],
   "source": [
    "type(['하나',100,0,-0.914,range(1,3,1)])"
   ]
  },
  {
   "cell_type": "code",
   "execution_count": 25,
   "id": "75b3e7af-edbb-48e1-84df-edfa698fbcf5",
   "metadata": {},
   "outputs": [
    {
     "name": "stdout",
     "output_type": "stream",
     "text": [
      "0\n",
      "1\n",
      "3\n",
      "5\n",
      "9\n",
      "10\n"
     ]
    }
   ],
   "source": [
    "#리스트\n",
    "for i in [0,1,3,5,9,10]:\n",
    "    print(i)"
   ]
  },
  {
   "cell_type": "code",
   "execution_count": 26,
   "id": "b24644d3-0367-4ac4-97c9-cb53db161980",
   "metadata": {},
   "outputs": [
    {
     "name": "stdout",
     "output_type": "stream",
     "text": [
      "하나\n",
      "100\n",
      "0\n",
      "-0.914\n",
      "range(1, 3)\n"
     ]
    }
   ],
   "source": [
    "for i in ['하나',100,0,-0.914,range(1,3,1)]:\n",
    "    print(i)"
   ]
  },
  {
   "cell_type": "code",
   "execution_count": 27,
   "id": "2ae5427d-413a-4ec8-b6e8-1aef6b9725cc",
   "metadata": {},
   "outputs": [
    {
     "name": "stdout",
     "output_type": "stream",
     "text": [
      "0 : 안녕하세요? for문을 공부 중입니다.\n",
      "1 : 안녕하세요? for문을 공부 중입니다.\n",
      "2 : 안녕하세요? for문을 공부 중입니다.\n"
     ]
    }
   ],
   "source": [
    "for i in range(0,3,1):\n",
    "    print(\"%d : 안녕하세요? for문을 공부 중입니다.\"%i)"
   ]
  },
  {
   "cell_type": "code",
   "execution_count": 28,
   "id": "93df2ba1-adf6-4465-bf5a-22b093385b3b",
   "metadata": {},
   "outputs": [
    {
     "name": "stdout",
     "output_type": "stream",
     "text": [
      "0 : 안녕하세요? for문을 공부 중입니다.\n",
      "1 : 안녕하세요? for문을 공부 중입니다.\n",
      "2 : 안녕하세요? for문을 공부 중입니다.\n"
     ]
    }
   ],
   "source": [
    "for i in range(0,3,1):\n",
    "    print(f\"{i} : 안녕하세요? for문을 공부 중입니다.\")"
   ]
  },
  {
   "cell_type": "code",
   "execution_count": 33,
   "id": "6f107deb-ed56-4f8e-9f6e-5ea8dfa88b4e",
   "metadata": {},
   "outputs": [
    {
     "name": "stdout",
     "output_type": "stream",
     "text": [
      "0 : 안녕하세요? for문을 공부 중입니다.\n",
      "1 : 안녕하세요? for문을 공부 중입니다.\n",
      "2 : 안녕하세요? for문을 공부 중입니다.\n"
     ]
    }
   ],
   "source": [
    "for i in range(0,3,1):\n",
    "    print(\"{0:d} : 안녕하세요? for문을 공부 중입니다.\".format(i))"
   ]
  },
  {
   "cell_type": "code",
   "execution_count": 34,
   "id": "23f26be9-7d00-439d-80c7-748f42d1039f",
   "metadata": {},
   "outputs": [
    {
     "name": "stdout",
     "output_type": "stream",
     "text": [
      "0.000000 : 안녕하세요? for문을 공부 중입니다.\n",
      "1.000000 : 안녕하세요? for문을 공부 중입니다.\n",
      "2.000000 : 안녕하세요? for문을 공부 중입니다.\n"
     ]
    }
   ],
   "source": [
    "for i in range(0,3,1):\n",
    "    print(\"{0:f} : 안녕하세요? for문을 공부 중입니다.\".format(i))"
   ]
  },
  {
   "cell_type": "code",
   "execution_count": 35,
   "id": "21b49ff7-d6c3-49e6-8436-8db6526999c7",
   "metadata": {},
   "outputs": [
    {
     "name": "stdout",
     "output_type": "stream",
     "text": [
      "안녕하세요 5\n",
      "안녕하세요 4\n",
      "안녕하세요 3\n",
      "안녕하세요 2\n",
      "안녕하세요 1\n",
      "안녕하세요 0\n",
      "안녕하세요 -1\n",
      "안녕하세요 -2\n",
      "안녕하세요 -3\n",
      "안녕하세요 -4\n"
     ]
    }
   ],
   "source": [
    "for i in range(5, -5, -1):\n",
    "    print('안녕하세요',i)"
   ]
  },
  {
   "cell_type": "code",
   "execution_count": 38,
   "id": "d03f53c9-336d-4aa8-8e1e-314e0dfe7921",
   "metadata": {},
   "outputs": [
    {
     "name": "stdout",
     "output_type": "stream",
     "text": [
      "3 2 1 0 -1 "
     ]
    }
   ],
   "source": [
    "for i in range(3,-2,-1):\n",
    "    print('%d' %i ,end=' ')"
   ]
  },
  {
   "cell_type": "code",
   "execution_count": 39,
   "id": "ecb67eed-39d8-4f94-85d0-ee405c75e0c6",
   "metadata": {},
   "outputs": [
    {
     "data": {
      "text/plain": [
       "\u001b[1;31mDocstring:\u001b[0m\n",
       "print(value, ..., sep=' ', end='\\n', file=sys.stdout, flush=False)\n",
       "\n",
       "Prints the values to a stream, or to sys.stdout by default.\n",
       "Optional keyword arguments:\n",
       "file:  a file-like object (stream); defaults to the current sys.stdout.\n",
       "sep:   string inserted between values, default a space.\n",
       "end:   string appended after the last value, default a newline.\n",
       "flush: whether to forcibly flush the stream.\n",
       "\u001b[1;31mType:\u001b[0m      builtin_function_or_method\n"
      ]
     },
     "metadata": {},
     "output_type": "display_data"
    }
   ],
   "source": [
    "print?"
   ]
  },
  {
   "cell_type": "code",
   "execution_count": 41,
   "id": "2f97c1cf-9374-42a6-a4c9-7bb7703867d6",
   "metadata": {},
   "outputs": [
    {
     "name": "stdout",
     "output_type": "stream",
     "text": [
      "1에서 10까지의 합계 : 55\n"
     ]
    }
   ],
   "source": [
    "sum = 0\n",
    "for i in range(1,11,1):\n",
    "    sum+=i\n",
    "print(\"1에서 10까지의 합계 : %d\"%sum)"
   ]
  },
  {
   "cell_type": "code",
   "execution_count": 42,
   "id": "475e8550-6057-46b2-b3dd-b7ae7960bfcb",
   "metadata": {},
   "outputs": [
    {
     "name": "stdout",
     "output_type": "stream",
     "text": [
      "187500\n"
     ]
    }
   ],
   "source": [
    "#홀수\n",
    "hap = 0\n",
    "\n",
    "for i in range(501,1000,2):\n",
    "    hap += i\n",
    "print(hap)"
   ]
  },
  {
   "cell_type": "code",
   "execution_count": 44,
   "id": "171e557c-f76e-49fe-8c29-6ccea9c68205",
   "metadata": {},
   "outputs": [
    {
     "name": "stdout",
     "output_type": "stream",
     "text": [
      "188250\n"
     ]
    }
   ],
   "source": [
    "#짝수\n",
    "hap = 0\n",
    "\n",
    "for i in range(500,1001,2):\n",
    "    hap += i\n",
    "print(hap)"
   ]
  },
  {
   "cell_type": "code",
   "execution_count": 43,
   "id": "3a1f5955-b5ee-4b39-8e86-07f568f2134c",
   "metadata": {},
   "outputs": [
    {
     "name": "stdout",
     "output_type": "stream",
     "text": [
      "735\n"
     ]
    }
   ],
   "source": [
    "#7의배수\n",
    "hap = 0\n",
    "\n",
    "for i in range(0,101):\n",
    "    if i %7==0:\n",
    "        hap+=i\n",
    "print(hap)"
   ]
  },
  {
   "cell_type": "code",
   "execution_count": 48,
   "id": "7139b4f3-0222-4045-b6b0-78320cb3dea8",
   "metadata": {},
   "outputs": [
    {
     "name": "stdin",
     "output_type": "stream",
     "text": [
      " 100\n"
     ]
    },
    {
     "name": "stdout",
     "output_type": "stream",
     "text": [
      "5050\n"
     ]
    }
   ],
   "source": [
    "hap = 0\n",
    "N = int(input())\n",
    "for i in range(1,N+1,1):\n",
    "    hap+=i\n",
    "print(hap)"
   ]
  },
  {
   "cell_type": "code",
   "execution_count": 50,
   "id": "979520b3-cc68-451d-a7a3-f80c62cfa5bf",
   "metadata": {},
   "outputs": [
    {
     "name": "stdin",
     "output_type": "stream",
     "text": [
      "시작값을 입력하세요 :  2\n",
      "끝값을 입력하세요 :  300\n",
      "증가값을 입력하세요 :  3\n"
     ]
    },
    {
     "name": "stdout",
     "output_type": "stream",
     "text": [
      " 2에서 300까지 3씩 증가시킨 값의 합계 : 15050\n"
     ]
    }
   ],
   "source": [
    "hap = 0\n",
    "\n",
    "n1 = int(input('시작값을 입력하세요 : '))\n",
    "n2 = int(input('끝값을 입력하세요 : '))\n",
    "n3 = int(input('증가값을 입력하세요 : '))\n",
    "\n",
    "for i in range(n1,n2+1,n3):\n",
    "    hap+=i\n",
    "    \n",
    "print(f\" {n1}에서 {n2}까지 {n3}씩 증가시킨 값의 합계 : {hap}\")"
   ]
  },
  {
   "cell_type": "code",
   "execution_count": 52,
   "id": "0fcad85f-90ae-4a0d-ab27-defc6efcd0a4",
   "metadata": {},
   "outputs": [
    {
     "name": "stdout",
     "output_type": "stream",
     "text": [
      "2 X 1 = 2\n",
      "2 X 2 = 4\n",
      "2 X 3 = 6\n",
      "2 X 4 = 8\n",
      "2 X 5 = 10\n",
      "2 X 6 = 12\n",
      "2 X 7 = 14\n",
      "2 X 8 = 16\n",
      "2 X 9 = 18\n",
      "\n",
      "3 X 1 = 3\n",
      "3 X 2 = 6\n",
      "3 X 3 = 9\n",
      "3 X 4 = 12\n",
      "3 X 5 = 15\n",
      "3 X 6 = 18\n",
      "3 X 7 = 21\n",
      "3 X 8 = 24\n",
      "3 X 9 = 27\n",
      "\n",
      "4 X 1 = 4\n",
      "4 X 2 = 8\n",
      "4 X 3 = 12\n",
      "4 X 4 = 16\n",
      "4 X 5 = 20\n",
      "4 X 6 = 24\n",
      "4 X 7 = 28\n",
      "4 X 8 = 32\n",
      "4 X 9 = 36\n",
      "\n",
      "5 X 1 = 5\n",
      "5 X 2 = 10\n",
      "5 X 3 = 15\n",
      "5 X 4 = 20\n",
      "5 X 5 = 25\n",
      "5 X 6 = 30\n",
      "5 X 7 = 35\n",
      "5 X 8 = 40\n",
      "5 X 9 = 45\n",
      "\n",
      "6 X 1 = 6\n",
      "6 X 2 = 12\n",
      "6 X 3 = 18\n",
      "6 X 4 = 24\n",
      "6 X 5 = 30\n",
      "6 X 6 = 36\n",
      "6 X 7 = 42\n",
      "6 X 8 = 48\n",
      "6 X 9 = 54\n",
      "\n",
      "7 X 1 = 7\n",
      "7 X 2 = 14\n",
      "7 X 3 = 21\n",
      "7 X 4 = 28\n",
      "7 X 5 = 35\n",
      "7 X 6 = 42\n",
      "7 X 7 = 49\n",
      "7 X 8 = 56\n",
      "7 X 9 = 63\n",
      "\n",
      "8 X 1 = 8\n",
      "8 X 2 = 16\n",
      "8 X 3 = 24\n",
      "8 X 4 = 32\n",
      "8 X 5 = 40\n",
      "8 X 6 = 48\n",
      "8 X 7 = 56\n",
      "8 X 8 = 64\n",
      "8 X 9 = 72\n",
      "\n",
      "9 X 1 = 9\n",
      "9 X 2 = 18\n",
      "9 X 3 = 27\n",
      "9 X 4 = 36\n",
      "9 X 5 = 45\n",
      "9 X 6 = 54\n",
      "9 X 7 = 63\n",
      "9 X 8 = 72\n",
      "9 X 9 = 81\n",
      "\n"
     ]
    }
   ],
   "source": [
    "for i in range(2,10):\n",
    "    for j in range(1,10):\n",
    "        print(f\"{i} X {j} = {i*j}\")\n",
    "    print()"
   ]
  },
  {
   "cell_type": "code",
   "execution_count": 71,
   "id": "8aa2689c-c059-4306-8921-ea600495dd0b",
   "metadata": {},
   "outputs": [
    {
     "name": "stdout",
     "output_type": "stream",
     "text": [
      "2 X 1 = 2\t3 X 1 = 3\t4 X 1 = 4\t5 X 1 = 5\t6 X 1 = 6\t7 X 1 = 7\t8 X 1 = 8\t9 X 1 = 9\t\n",
      "2 X 2 = 4\t3 X 2 = 6\t4 X 2 = 8\t5 X 2 = 10\t6 X 2 = 12\t7 X 2 = 14\t8 X 2 = 16\t9 X 2 = 18\t\n",
      "2 X 3 = 6\t3 X 3 = 9\t4 X 3 = 12\t5 X 3 = 15\t6 X 3 = 18\t7 X 3 = 21\t8 X 3 = 24\t9 X 3 = 27\t\n",
      "2 X 4 = 8\t3 X 4 = 12\t4 X 4 = 16\t5 X 4 = 20\t6 X 4 = 24\t7 X 4 = 28\t8 X 4 = 32\t9 X 4 = 36\t\n",
      "2 X 5 = 10\t3 X 5 = 15\t4 X 5 = 20\t5 X 5 = 25\t6 X 5 = 30\t7 X 5 = 35\t8 X 5 = 40\t9 X 5 = 45\t\n",
      "2 X 6 = 12\t3 X 6 = 18\t4 X 6 = 24\t5 X 6 = 30\t6 X 6 = 36\t7 X 6 = 42\t8 X 6 = 48\t9 X 6 = 54\t\n",
      "2 X 7 = 14\t3 X 7 = 21\t4 X 7 = 28\t5 X 7 = 35\t6 X 7 = 42\t7 X 7 = 49\t8 X 7 = 56\t9 X 7 = 63\t\n",
      "2 X 8 = 16\t3 X 8 = 24\t4 X 8 = 32\t5 X 8 = 40\t6 X 8 = 48\t7 X 8 = 56\t8 X 8 = 64\t9 X 8 = 72\t\n",
      "2 X 9 = 18\t3 X 9 = 27\t4 X 9 = 36\t5 X 9 = 45\t6 X 9 = 54\t7 X 9 = 63\t8 X 9 = 72\t9 X 9 = 81\t\n"
     ]
    }
   ],
   "source": [
    "for i in range(1,10):\n",
    "    for j in range(2,10):\n",
    "        print(f\"{j} X {i} = {i*j}\",end='\\t')\n",
    "    print()"
   ]
  },
  {
   "cell_type": "code",
   "execution_count": 68,
   "id": "b1b6a851-fae8-47d3-ba46-18fc5e89388c",
   "metadata": {},
   "outputs": [
    {
     "name": "stdout",
     "output_type": "stream",
     "text": [
      "*\n",
      "**\n",
      "***\n",
      "****\n",
      "*****\n"
     ]
    }
   ],
   "source": [
    "for i in range(1,6):\n",
    "    for j in range(1,i+1):\n",
    "        print('*',end='')\n",
    "    print()"
   ]
  },
  {
   "cell_type": "markdown",
   "id": "56e7fa50-c4cf-4b60-83aa-35b4989ef497",
   "metadata": {},
   "source": []
  },
  {
   "cell_type": "markdown",
   "id": "99a297c3-0371-4cf4-8b2b-a887760e99cb",
   "metadata": {},
   "source": [
    "# while ()"
   ]
  },
  {
   "cell_type": "code",
   "execution_count": 73,
   "id": "de1dab8a-eb0c-4d35-9c7e-80eaae997002",
   "metadata": {},
   "outputs": [
    {
     "name": "stdout",
     "output_type": "stream",
     "text": [
      "0\n",
      "1\n",
      "2\n"
     ]
    }
   ],
   "source": [
    "i = 0\n",
    "while i<3:\n",
    "    print(i)\n",
    "    i+=1"
   ]
  },
  {
   "cell_type": "code",
   "execution_count": 74,
   "id": "707807c5-1ffa-4e60-9082-99b28f8ce7fc",
   "metadata": {},
   "outputs": [
    {
     "name": "stdout",
     "output_type": "stream",
     "text": [
      "55\n"
     ]
    }
   ],
   "source": [
    "hap = 0\n",
    "i = 1\n",
    "\n",
    "while i <11:\n",
    "    hap+=i\n",
    "    i+=1\n",
    "print(hap)"
   ]
  },
  {
   "cell_type": "code",
   "execution_count": 78,
   "id": "ee1e8d1a-9990-44de-b951-68e9d232a1ac",
   "metadata": {
    "collapsed": true,
    "jupyter": {
     "outputs_hidden": true
    },
    "tags": []
   },
   "outputs": [
    {
     "name": "stdin",
     "output_type": "stream",
     "text": [
      "계산할 첫번째 수를 입력하세요 :  22\n",
      "계산할 두번째 수를 입력하세요 :  33\n",
      "계산할 연산자를 입력하세요 :  *\n"
     ]
    },
    {
     "name": "stdout",
     "output_type": "stream",
     "text": [
      "22 * 33 = 726\n"
     ]
    },
    {
     "ename": "KeyboardInterrupt",
     "evalue": "Interrupted by user",
     "output_type": "error",
     "traceback": [
      "\u001b[1;31m---------------------------------------------------------------------------\u001b[0m",
      "\u001b[1;31mKeyboardInterrupt\u001b[0m                         Traceback (most recent call last)",
      "\u001b[1;32m~\\AppData\\Local\\Temp/ipykernel_4064/3138872542.py\u001b[0m in \u001b[0;36m<module>\u001b[1;34m\u001b[0m\n\u001b[0;32m      1\u001b[0m \u001b[1;32mwhile\u001b[0m \u001b[1;32mTrue\u001b[0m\u001b[1;33m:\u001b[0m\u001b[1;33m\u001b[0m\u001b[1;33m\u001b[0m\u001b[0m\n\u001b[1;32m----> 2\u001b[1;33m     \u001b[0ma\u001b[0m \u001b[1;33m=\u001b[0m \u001b[0mint\u001b[0m\u001b[1;33m(\u001b[0m\u001b[0minput\u001b[0m\u001b[1;33m(\u001b[0m\u001b[1;34m\"계산할 첫번째 수를 입력하세요 : \"\u001b[0m\u001b[1;33m)\u001b[0m\u001b[1;33m)\u001b[0m\u001b[1;33m\u001b[0m\u001b[1;33m\u001b[0m\u001b[0m\n\u001b[0m\u001b[0;32m      3\u001b[0m     \u001b[0mb\u001b[0m \u001b[1;33m=\u001b[0m \u001b[0mint\u001b[0m\u001b[1;33m(\u001b[0m\u001b[0minput\u001b[0m\u001b[1;33m(\u001b[0m\u001b[1;34m\"계산할 두번째 수를 입력하세요 : \"\u001b[0m\u001b[1;33m)\u001b[0m\u001b[1;33m)\u001b[0m\u001b[1;33m\u001b[0m\u001b[1;33m\u001b[0m\u001b[0m\n\u001b[0;32m      4\u001b[0m     \u001b[0mch\u001b[0m \u001b[1;33m=\u001b[0m \u001b[0minput\u001b[0m\u001b[1;33m(\u001b[0m\u001b[1;34m\"계산할 연산자를 입력하세요 : \"\u001b[0m\u001b[1;33m)\u001b[0m\u001b[1;33m\u001b[0m\u001b[1;33m\u001b[0m\u001b[0m\n\u001b[0;32m      5\u001b[0m \u001b[1;33m\u001b[0m\u001b[0m\n",
      "\u001b[1;32m~\\anaconda3\\lib\\site-packages\\ipykernel\\kernelbase.py\u001b[0m in \u001b[0;36mraw_input\u001b[1;34m(self, prompt)\u001b[0m\n\u001b[0;32m   1004\u001b[0m                 \u001b[1;34m\"raw_input was called, but this frontend does not support input requests.\"\u001b[0m\u001b[1;33m\u001b[0m\u001b[1;33m\u001b[0m\u001b[0m\n\u001b[0;32m   1005\u001b[0m             )\n\u001b[1;32m-> 1006\u001b[1;33m         return self._input_request(\n\u001b[0m\u001b[0;32m   1007\u001b[0m             \u001b[0mstr\u001b[0m\u001b[1;33m(\u001b[0m\u001b[0mprompt\u001b[0m\u001b[1;33m)\u001b[0m\u001b[1;33m,\u001b[0m\u001b[1;33m\u001b[0m\u001b[1;33m\u001b[0m\u001b[0m\n\u001b[0;32m   1008\u001b[0m             \u001b[0mself\u001b[0m\u001b[1;33m.\u001b[0m\u001b[0m_parent_ident\u001b[0m\u001b[1;33m[\u001b[0m\u001b[1;34m\"shell\"\u001b[0m\u001b[1;33m]\u001b[0m\u001b[1;33m,\u001b[0m\u001b[1;33m\u001b[0m\u001b[1;33m\u001b[0m\u001b[0m\n",
      "\u001b[1;32m~\\anaconda3\\lib\\site-packages\\ipykernel\\kernelbase.py\u001b[0m in \u001b[0;36m_input_request\u001b[1;34m(self, prompt, ident, parent, password)\u001b[0m\n\u001b[0;32m   1049\u001b[0m             \u001b[1;32mexcept\u001b[0m \u001b[0mKeyboardInterrupt\u001b[0m\u001b[1;33m:\u001b[0m\u001b[1;33m\u001b[0m\u001b[1;33m\u001b[0m\u001b[0m\n\u001b[0;32m   1050\u001b[0m                 \u001b[1;31m# re-raise KeyboardInterrupt, to truncate traceback\u001b[0m\u001b[1;33m\u001b[0m\u001b[1;33m\u001b[0m\u001b[0m\n\u001b[1;32m-> 1051\u001b[1;33m                 \u001b[1;32mraise\u001b[0m \u001b[0mKeyboardInterrupt\u001b[0m\u001b[1;33m(\u001b[0m\u001b[1;34m\"Interrupted by user\"\u001b[0m\u001b[1;33m)\u001b[0m \u001b[1;32mfrom\u001b[0m \u001b[1;32mNone\u001b[0m\u001b[1;33m\u001b[0m\u001b[1;33m\u001b[0m\u001b[0m\n\u001b[0m\u001b[0;32m   1052\u001b[0m             \u001b[1;32mexcept\u001b[0m \u001b[0mException\u001b[0m\u001b[1;33m:\u001b[0m\u001b[1;33m\u001b[0m\u001b[1;33m\u001b[0m\u001b[0m\n\u001b[0;32m   1053\u001b[0m                 \u001b[0mself\u001b[0m\u001b[1;33m.\u001b[0m\u001b[0mlog\u001b[0m\u001b[1;33m.\u001b[0m\u001b[0mwarning\u001b[0m\u001b[1;33m(\u001b[0m\u001b[1;34m\"Invalid Message:\"\u001b[0m\u001b[1;33m,\u001b[0m \u001b[0mexc_info\u001b[0m\u001b[1;33m=\u001b[0m\u001b[1;32mTrue\u001b[0m\u001b[1;33m)\u001b[0m\u001b[1;33m\u001b[0m\u001b[1;33m\u001b[0m\u001b[0m\n",
      "\u001b[1;31mKeyboardInterrupt\u001b[0m: Interrupted by user"
     ]
    }
   ],
   "source": [
    "while True:\n",
    "    a = int(input(\"계산할 첫번째 수를 입력하세요 : \"))\n",
    "    b = int(input(\"계산할 두번째 수를 입력하세요 : \"))\n",
    "    ch = input(\"계산할 연산자를 입력하세요 : \")\n",
    "    \n",
    "    if ch =='+':\n",
    "        print(f\"{a} + {b} = {a+b}\")\n",
    "    elif ch =='-': \n",
    "        print(f\"{a} - {b} = {a-b}\")\n",
    "    elif ch =='*':\n",
    "        print(f\"{a} * {b} = {a*b}\")\n",
    "    elif ch =='/':\n",
    "        print(f\"{a} / {b} = {a/b}\")\n",
    "    elif ch =='//':\n",
    "        print(f\"{a} // {b} = {a//b}\")\n",
    "    elif ch =='**':\n",
    "        print(f\"{a} ** {b} = {a**b}\")\n",
    "    elif ch =='%':\n",
    "        print(f\"{a} % {b} = {a%b}\")"
   ]
  },
  {
   "cell_type": "markdown",
   "id": "8cab87e7-b3a5-4ba6-90b8-e0ed99c602e0",
   "metadata": {},
   "source": [
    "break"
   ]
  },
  {
   "cell_type": "code",
   "execution_count": 82,
   "id": "46da0516-cea7-4773-b0fd-c9d0b3ecfd72",
   "metadata": {},
   "outputs": [
    {
     "name": "stdout",
     "output_type": "stream",
     "text": [
      "for 1 times:\n"
     ]
    }
   ],
   "source": [
    "for i in range(1,100):\n",
    "    print(\"for %d times:\"%i)\n",
    "    break"
   ]
  },
  {
   "cell_type": "code",
   "execution_count": 83,
   "id": "b6ca26ab-1dc5-4280-9d8a-a5eeac49d981",
   "metadata": {},
   "outputs": [
    {
     "name": "stdout",
     "output_type": "stream",
     "text": [
      "while\n"
     ]
    }
   ],
   "source": [
    "while True:\n",
    "    print(\"while\")\n",
    "    break"
   ]
  },
  {
   "cell_type": "markdown",
   "id": "ecdcb591-9d57-4002-9071-1b674deb87e1",
   "metadata": {},
   "source": [
    "주석\n",
    "\n",
    "    - 한줄 주석 : #\n",
    "    \n",
    "    - 블럭(범위, 여러줄) 주석x\n",
    "    \n",
    "        - 대체 : \"\"\" \"\"\""
   ]
  },
  {
   "cell_type": "code",
   "execution_count": 84,
   "id": "8fba5560-a414-43aa-a442-a970060fea0e",
   "metadata": {},
   "outputs": [
    {
     "name": "stdin",
     "output_type": "stream",
     "text": [
      "더할 첫 번째 수를 입력하세요 :  1\n",
      "더할 두 번째 수를 입력하세요 :  2\n"
     ]
    },
    {
     "name": "stdout",
     "output_type": "stream",
     "text": [
      "1 + 2 = 3\n"
     ]
    },
    {
     "name": "stdin",
     "output_type": "stream",
     "text": [
      "더할 첫 번째 수를 입력하세요 :  0\n"
     ]
    },
    {
     "name": "stdout",
     "output_type": "stream",
     "text": [
      "0을 입력해 반복문을 탈출했습니다\n"
     ]
    }
   ],
   "source": [
    "hap = 0\n",
    "a, b = 0, 0\n",
    "\n",
    "while True :\n",
    "     a = int(input(\"더할 첫 번째 수를 입력하세요 : \"))\n",
    "     if a == 0 :\n",
    "          break\n",
    "     b = int(input(\"더할 두 번째 수를 입력하세요 : \"))\n",
    "     hap = a + b\n",
    "     print(\"%d + %d = %d\" % (a, b, hap))\n",
    "\n",
    "print(\"0을 입력해 반복문을 탈출했습니다\")\n"
   ]
  },
  {
   "cell_type": "code",
   "execution_count": 85,
   "id": "88a2c781-f924-4764-86d7-4f02f6636e98",
   "metadata": {},
   "outputs": [
    {
     "name": "stdout",
     "output_type": "stream",
     "text": [
      "안녕하세요 11 1\n",
      "안녕하세요 12 1\n",
      "안녕하세요 13 1\n",
      "안녕하세요 14 1\n",
      "안녕하세요 11 2\n",
      "안녕하세요 12 2\n",
      "안녕하세요 13 2\n",
      "안녕하세요 14 2\n",
      "안녕하세요 11 3\n",
      "안녕하세요 12 3\n",
      "안녕하세요 13 3\n",
      "안녕하세요 14 3\n",
      "안녕하세요 11 4\n",
      "안녕하세요 12 4\n",
      "안녕하세요 13 4\n",
      "안녕하세요 14 4\n"
     ]
    }
   ],
   "source": [
    "# 중첩반복문 과 break\n",
    "\n",
    "for i in range(1,5,1):\n",
    "    for j in range(11,16,1):\n",
    "        print('안녕하세요',j,i)\n",
    "        if j ==14:\n",
    "            break"
   ]
  },
  {
   "cell_type": "markdown",
   "id": "ba6c4a4d-ceda-4f72-9df4-6cfa673d7f21",
   "metadata": {},
   "source": [
    "# continue   "
   ]
  },
  {
   "cell_type": "code",
   "execution_count": 93,
   "id": "b1d7a05c-9f44-4749-a6dc-201ff6071b23",
   "metadata": {},
   "outputs": [
    {
     "name": "stdout",
     "output_type": "stream",
     "text": [
      "for 1 times:\n",
      "for 2 times:\n",
      "for 4 times:\n",
      "for 5 times:\n",
      "for 7 times:\n",
      "for 8 times:\n",
      "for 10 times:\n",
      "for 11 times:\n",
      "for 13 times:\n",
      "for 14 times:\n",
      "for 16 times:\n",
      "for 17 times:\n",
      "for 19 times:\n",
      "for 20 times:\n",
      "for 22 times:\n",
      "for 23 times:\n",
      "for 25 times:\n",
      "for 26 times:\n",
      "for 28 times:\n",
      "for 29 times:\n",
      "for 31 times:\n",
      "for 32 times:\n",
      "for 34 times:\n",
      "for 35 times:\n",
      "for 37 times:\n",
      "for 38 times:\n",
      "for 40 times:\n",
      "for 41 times:\n",
      "for 43 times:\n",
      "for 44 times:\n",
      "for 46 times:\n",
      "for 47 times:\n",
      "for 49 times:\n",
      "for 50 times:\n",
      "for 52 times:\n",
      "for 53 times:\n",
      "for 55 times:\n",
      "for 56 times:\n",
      "for 58 times:\n",
      "for 59 times:\n",
      "for 61 times:\n",
      "for 62 times:\n",
      "for 64 times:\n",
      "for 65 times:\n",
      "for 67 times:\n",
      "for 68 times:\n",
      "for 70 times:\n",
      "for 71 times:\n",
      "for 73 times:\n",
      "for 74 times:\n",
      "for 76 times:\n",
      "for 77 times:\n",
      "for 79 times:\n",
      "for 80 times:\n",
      "for 82 times:\n",
      "for 83 times:\n",
      "for 85 times:\n",
      "for 86 times:\n",
      "for 88 times:\n",
      "for 89 times:\n",
      "for 91 times:\n",
      "for 92 times:\n",
      "for 94 times:\n",
      "for 95 times:\n",
      "for 97 times:\n",
      "for 98 times:\n"
     ]
    }
   ],
   "source": [
    "for i in range(1,100):\n",
    "    if (i%3==0):\n",
    "        continue\n",
    "    print(\"for %d times:\"%i)"
   ]
  },
  {
   "cell_type": "markdown",
   "id": "594ef311-6c27-446e-b85c-ad97addf617d",
   "metadata": {},
   "source": [
    "# Chapter 7"
   ]
  },
  {
   "cell_type": "code",
   "execution_count": 100,
   "id": "475bad37-81cb-4abd-ac05-8438a477dadf",
   "metadata": {},
   "outputs": [
    {
     "data": {
      "text/plain": [
       "list"
      ]
     },
     "execution_count": 100,
     "metadata": {},
     "output_type": "execute_result"
    }
   ],
   "source": [
    "a = ['1' , 1, 1000, '파', '아', '썬']\n",
    "type(a)"
   ]
  },
  {
   "cell_type": "code",
   "execution_count": 101,
   "id": "4732110a-1eb5-435b-9975-01d7f81e4117",
   "metadata": {},
   "outputs": [
    {
     "data": {
      "text/plain": [
       "'1'"
      ]
     },
     "execution_count": 101,
     "metadata": {},
     "output_type": "execute_result"
    }
   ],
   "source": [
    "# index\n",
    "a[0]"
   ]
  },
  {
   "cell_type": "code",
   "execution_count": 103,
   "id": "27e724b7-03a2-41ca-a844-e6dd31264ccc",
   "metadata": {},
   "outputs": [
    {
     "data": {
      "text/plain": [
       "('아', '썬')"
      ]
     },
     "execution_count": 103,
     "metadata": {},
     "output_type": "execute_result"
    }
   ],
   "source": [
    "a[4],a[5]"
   ]
  },
  {
   "cell_type": "code",
   "execution_count": 104,
   "id": "a7a9a430-c6ba-492f-8e65-41ced28e97e2",
   "metadata": {},
   "outputs": [
    {
     "ename": "IndexError",
     "evalue": "list index out of range",
     "output_type": "error",
     "traceback": [
      "\u001b[1;31m---------------------------------------------------------------------------\u001b[0m",
      "\u001b[1;31mIndexError\u001b[0m                                Traceback (most recent call last)",
      "\u001b[1;32m~\\AppData\\Local\\Temp/ipykernel_4064/510490795.py\u001b[0m in \u001b[0;36m<module>\u001b[1;34m\u001b[0m\n\u001b[1;32m----> 1\u001b[1;33m \u001b[0ma\u001b[0m\u001b[1;33m[\u001b[0m\u001b[1;36m6\u001b[0m\u001b[1;33m]\u001b[0m\u001b[1;33m\u001b[0m\u001b[1;33m\u001b[0m\u001b[0m\n\u001b[0m",
      "\u001b[1;31mIndexError\u001b[0m: list index out of range"
     ]
    }
   ],
   "source": [
    "a[6]"
   ]
  },
  {
   "cell_type": "markdown",
   "id": "297e45ba-4591-4a68-8ca8-eea85afabfeb",
   "metadata": {},
   "source": [
    "for in 과 함께 사용!"
   ]
  },
  {
   "cell_type": "code",
   "execution_count": 108,
   "id": "2d44ec15-b228-4276-8efb-0599d82693a6",
   "metadata": {},
   "outputs": [
    {
     "name": "stdout",
     "output_type": "stream",
     "text": [
      "1\n",
      "1\n",
      "1000\n",
      "파\n",
      "아\n",
      "썬\n"
     ]
    }
   ],
   "source": [
    "for i in a:\n",
    "    print(i)"
   ]
  },
  {
   "cell_type": "code",
   "execution_count": 109,
   "id": "0f6f4a50-43b7-497e-9246-c29c6ec5780a",
   "metadata": {},
   "outputs": [],
   "source": [
    "b = [a, 1, 5, 7, 9]"
   ]
  },
  {
   "cell_type": "code",
   "execution_count": 110,
   "id": "ee89a976-2c66-4b26-9dd3-78b7e69e3afe",
   "metadata": {},
   "outputs": [
    {
     "data": {
      "text/plain": [
       "[['1', 1, 1000, '파', '아', '썬'], 1, 5, 7, 9]"
      ]
     },
     "execution_count": 110,
     "metadata": {},
     "output_type": "execute_result"
    }
   ],
   "source": [
    "b"
   ]
  },
  {
   "cell_type": "code",
   "execution_count": 116,
   "id": "bfc2b7b8-b334-4702-af80-70920e825010",
   "metadata": {},
   "outputs": [],
   "source": [
    "a = []"
   ]
  },
  {
   "cell_type": "code",
   "execution_count": 117,
   "id": "b81919da-2bd9-4d28-bf6f-05a902b4ab63",
   "metadata": {},
   "outputs": [
    {
     "data": {
      "text/plain": [
       "list"
      ]
     },
     "execution_count": 117,
     "metadata": {},
     "output_type": "execute_result"
    }
   ],
   "source": [
    "type(a)"
   ]
  },
  {
   "cell_type": "code",
   "execution_count": 118,
   "id": "7db0f0ab-f826-4827-a6f9-b6eb46399739",
   "metadata": {},
   "outputs": [],
   "source": [
    "a.append(1)\n",
    "a.append('들')\n",
    "a.append(3)"
   ]
  },
  {
   "cell_type": "code",
   "execution_count": 119,
   "id": "c5e16742-2abd-409d-934d-a723ee7dd498",
   "metadata": {},
   "outputs": [
    {
     "data": {
      "text/plain": [
       "[1, '들', 3]"
      ]
     },
     "execution_count": 119,
     "metadata": {},
     "output_type": "execute_result"
    }
   ],
   "source": [
    "a"
   ]
  },
  {
   "cell_type": "code",
   "execution_count": 120,
   "id": "721689fb-ffaa-454d-88a1-ba31fe557491",
   "metadata": {},
   "outputs": [
    {
     "name": "stdout",
     "output_type": "stream",
     "text": [
      "1\n",
      "들\n",
      "3\n"
     ]
    }
   ],
   "source": [
    "for i in a:\n",
    "    print(i)"
   ]
  },
  {
   "cell_type": "code",
   "execution_count": 125,
   "id": "c6b21f3e-7ccc-4206-8cb1-ecf025c048e5",
   "metadata": {},
   "outputs": [
    {
     "name": "stdout",
     "output_type": "stream",
     "text": [
      "1\n",
      "들\n",
      "3\n"
     ]
    }
   ],
   "source": [
    "for i in range(0,3):\n",
    "    print(a[i])"
   ]
  },
  {
   "cell_type": "code",
   "execution_count": 127,
   "id": "a0584d74-6902-40a4-bbfc-7b6f751d786f",
   "metadata": {},
   "outputs": [
    {
     "data": {
      "text/plain": [
       "3"
      ]
     },
     "execution_count": 127,
     "metadata": {},
     "output_type": "execute_result"
    }
   ],
   "source": [
    "len(a)"
   ]
  },
  {
   "cell_type": "code",
   "execution_count": 128,
   "id": "35a49979-dd7c-4759-89a1-7932672a7f81",
   "metadata": {},
   "outputs": [
    {
     "name": "stdout",
     "output_type": "stream",
     "text": [
      "1\n",
      "들\n",
      "3\n"
     ]
    }
   ],
   "source": [
    "for i in range(0,len(a)):\n",
    "    print(a[i])"
   ]
  },
  {
   "cell_type": "code",
   "execution_count": 130,
   "id": "751144bc-f8c3-4944-8fdd-f0abf0c2c893",
   "metadata": {},
   "outputs": [
    {
     "name": "stdin",
     "output_type": "stream",
     "text": [
      "1번째 숫자: 10\n",
      "2번째 숫자: 20\n",
      "3번째 숫자: 30\n",
      "4번째 숫자: 40\n"
     ]
    },
    {
     "name": "stdout",
     "output_type": "stream",
     "text": [
      "합계 ==> 100\n"
     ]
    }
   ],
   "source": [
    "aa= []\n",
    "for i in range(0,4):\n",
    "    aa.append(0)\n",
    "\n",
    "hap=0\n",
    "\n",
    "for i in range(0,len(aa)):\n",
    "    aa[i]=int(input(str(i+1) +\"번째 숫자:\"))\n",
    "\n",
    "for i in range(0,len(aa)):\n",
    "    hap += aa[i]\n",
    "    \n",
    "print(\"합계 ==> %d\" %hap)"
   ]
  },
  {
   "cell_type": "code",
   "execution_count": 131,
   "id": "8a059a0a-97be-43c2-9700-418651e20723",
   "metadata": {},
   "outputs": [
    {
     "name": "stdout",
     "output_type": "stream",
     "text": [
      "bb[0]에는 198이, bb[99]에는 0이 입력됩니다.\n"
     ]
    }
   ],
   "source": [
    "aa = []\n",
    "bb = []\n",
    "value = 0\n",
    "\n",
    "for i in range(0, 100) :\n",
    "    aa.append(value)\n",
    "    value += 2\n",
    "\n",
    "for i in range(0, 100) :\n",
    "    bb.append(aa[99 - i])\n",
    "\n",
    "print(\"bb[0]에는 %d이, bb[99]에는 %d이 입력됩니다.\" % (bb[0], bb[99]))\n"
   ]
  },
  {
   "cell_type": "code",
   "execution_count": 137,
   "id": "955c197a-254a-4fa2-839e-1d017bb10a07",
   "metadata": {},
   "outputs": [
    {
     "data": {
      "text/plain": [
       "99"
      ]
     },
     "execution_count": 137,
     "metadata": {},
     "output_type": "execute_result"
    }
   ],
   "source": [
    "bb.index(0)"
   ]
  },
  {
   "cell_type": "code",
   "execution_count": 138,
   "id": "0bb4405b-f097-461e-9f22-f78180780eb4",
   "metadata": {},
   "outputs": [
    {
     "data": {
      "text/plain": [
       "0"
      ]
     },
     "execution_count": 138,
     "metadata": {},
     "output_type": "execute_result"
    }
   ],
   "source": [
    "bb.index(198)"
   ]
  },
  {
   "cell_type": "markdown",
   "id": "d690139b-459f-4af6-82bd-9cc1c3f0a3e8",
   "metadata": {},
   "source": [
    "# 리스트 인덱싱"
   ]
  },
  {
   "cell_type": "code",
   "execution_count": 141,
   "id": "c32b2b35-234c-4d6c-b2a3-1edff14d6e13",
   "metadata": {},
   "outputs": [
    {
     "data": {
      "text/plain": [
       "[10, 20, 30, 40]"
      ]
     },
     "execution_count": 141,
     "metadata": {},
     "output_type": "execute_result"
    }
   ],
   "source": [
    "aa = [10, 20 ,30 , 40]\n",
    "aa"
   ]
  },
  {
   "cell_type": "code",
   "execution_count": 143,
   "id": "a38572e0-6c31-4a0c-bbe1-88bd6be36304",
   "metadata": {},
   "outputs": [
    {
     "data": {
      "text/plain": [
       "(10, 30, 20)"
      ]
     },
     "execution_count": 143,
     "metadata": {},
     "output_type": "execute_result"
    }
   ],
   "source": [
    "aa[0], aa[2], aa[1]"
   ]
  },
  {
   "cell_type": "code",
   "execution_count": 144,
   "id": "20beb122-2161-41ff-9ee5-2bb171cb7127",
   "metadata": {},
   "outputs": [
    {
     "data": {
      "text/plain": [
       "(40, 30)"
      ]
     },
     "execution_count": 144,
     "metadata": {},
     "output_type": "execute_result"
    }
   ],
   "source": [
    "aa[-1], aa[-2]"
   ]
  },
  {
   "cell_type": "code",
   "execution_count": 145,
   "id": "7bf70569-fab0-4687-858b-3c6ebc0b7ff2",
   "metadata": {},
   "outputs": [
    {
     "data": {
      "text/plain": [
       "[10]"
      ]
     },
     "execution_count": 145,
     "metadata": {},
     "output_type": "execute_result"
    }
   ],
   "source": [
    "#인덱스 범위 'start:stop=len-1'\n",
    "aa[0:1]"
   ]
  },
  {
   "cell_type": "code",
   "execution_count": 146,
   "id": "e3124111-b0e1-4c23-943c-d086c339fbd0",
   "metadata": {},
   "outputs": [
    {
     "data": {
      "text/plain": [
       "[20, 30, 40]"
      ]
     },
     "execution_count": 146,
     "metadata": {},
     "output_type": "execute_result"
    }
   ],
   "source": [
    "aa[1:]"
   ]
  },
  {
   "cell_type": "code",
   "execution_count": 147,
   "id": "9ad3db6f-582c-4d91-970c-2d57afa93632",
   "metadata": {},
   "outputs": [
    {
     "data": {
      "text/plain": [
       "[10, 20]"
      ]
     },
     "execution_count": 147,
     "metadata": {},
     "output_type": "execute_result"
    }
   ],
   "source": [
    "aa[:2]"
   ]
  },
  {
   "cell_type": "code",
   "execution_count": 148,
   "id": "2a03d437-55c3-4ee1-bb63-ac065edc2e99",
   "metadata": {},
   "outputs": [
    {
     "data": {
      "text/plain": [
       "[10, 20, 30, 40]"
      ]
     },
     "execution_count": 148,
     "metadata": {},
     "output_type": "execute_result"
    }
   ],
   "source": [
    "aa[:]"
   ]
  },
  {
   "cell_type": "markdown",
   "id": "46dc2482-c95a-4d31-8de7-1b552d8b3f6c",
   "metadata": {},
   "source": [
    "broadcasting!"
   ]
  },
  {
   "cell_type": "code",
   "execution_count": 149,
   "id": "94ef5f18-f310-463e-8768-319470405da1",
   "metadata": {},
   "outputs": [
    {
     "data": {
      "text/plain": [
       "([10, 20, 30, 40], [50, 60, 70, 80])"
      ]
     },
     "execution_count": 149,
     "metadata": {},
     "output_type": "execute_result"
    }
   ],
   "source": [
    "a = [10,20,30,40]\n",
    "b = [50,60,70,80]\n",
    "a, b"
   ]
  },
  {
   "cell_type": "code",
   "execution_count": 150,
   "id": "7e4b7992-d2eb-4ae5-b402-16931e32efb3",
   "metadata": {},
   "outputs": [
    {
     "name": "stdout",
     "output_type": "stream",
     "text": [
      "[10, 20, 30, 40, 10, 20, 30, 40]\n"
     ]
    }
   ],
   "source": [
    "print(a*2)"
   ]
  },
  {
   "cell_type": "code",
   "execution_count": 151,
   "id": "34fbfca1-ddd2-4430-aa01-ced9e70884c9",
   "metadata": {},
   "outputs": [
    {
     "ename": "TypeError",
     "evalue": "can only concatenate list (not \"int\") to list",
     "output_type": "error",
     "traceback": [
      "\u001b[1;31m---------------------------------------------------------------------------\u001b[0m",
      "\u001b[1;31mTypeError\u001b[0m                                 Traceback (most recent call last)",
      "\u001b[1;32m~\\AppData\\Local\\Temp/ipykernel_4064/3408826377.py\u001b[0m in \u001b[0;36m<module>\u001b[1;34m\u001b[0m\n\u001b[1;32m----> 1\u001b[1;33m \u001b[0mprint\u001b[0m\u001b[1;33m(\u001b[0m\u001b[0ma\u001b[0m\u001b[1;33m+\u001b[0m\u001b[1;36m2\u001b[0m\u001b[1;33m)\u001b[0m\u001b[1;33m\u001b[0m\u001b[1;33m\u001b[0m\u001b[0m\n\u001b[0m",
      "\u001b[1;31mTypeError\u001b[0m: can only concatenate list (not \"int\") to list"
     ]
    }
   ],
   "source": [
    "print(a+2)"
   ]
  },
  {
   "cell_type": "code",
   "execution_count": 152,
   "id": "5ac846c8-2643-4cab-b7ac-d0904affc7e4",
   "metadata": {},
   "outputs": [
    {
     "ename": "TypeError",
     "evalue": "unsupported operand type(s) for -: 'list' and 'int'",
     "output_type": "error",
     "traceback": [
      "\u001b[1;31m---------------------------------------------------------------------------\u001b[0m",
      "\u001b[1;31mTypeError\u001b[0m                                 Traceback (most recent call last)",
      "\u001b[1;32m~\\AppData\\Local\\Temp/ipykernel_4064/356503124.py\u001b[0m in \u001b[0;36m<module>\u001b[1;34m\u001b[0m\n\u001b[1;32m----> 1\u001b[1;33m \u001b[0mprint\u001b[0m\u001b[1;33m(\u001b[0m\u001b[0ma\u001b[0m\u001b[1;33m-\u001b[0m\u001b[1;36m2\u001b[0m\u001b[1;33m)\u001b[0m\u001b[1;33m\u001b[0m\u001b[1;33m\u001b[0m\u001b[0m\n\u001b[0m",
      "\u001b[1;31mTypeError\u001b[0m: unsupported operand type(s) for -: 'list' and 'int'"
     ]
    }
   ],
   "source": [
    "print(a-2)"
   ]
  },
  {
   "cell_type": "code",
   "execution_count": 153,
   "id": "a6ea88ed-f1d0-4aea-ad05-314a526eaf43",
   "metadata": {},
   "outputs": [
    {
     "name": "stdout",
     "output_type": "stream",
     "text": [
      "[10, 20, 30, 40, 10, 20, 30, 40]\n"
     ]
    }
   ],
   "source": [
    "print(a+a)"
   ]
  },
  {
   "cell_type": "code",
   "execution_count": 154,
   "id": "fcb4ccfa-82ca-4c4b-a752-af55db58ba65",
   "metadata": {},
   "outputs": [
    {
     "data": {
      "text/plain": [
       "[10, 20, 30, 40, 50, 60, 70, 80]"
      ]
     },
     "execution_count": 154,
     "metadata": {},
     "output_type": "execute_result"
    }
   ],
   "source": [
    "a+b"
   ]
  },
  {
   "cell_type": "code",
   "execution_count": 155,
   "id": "e7161897-1078-4ebe-9948-a9d89a0f6513",
   "metadata": {},
   "outputs": [
    {
     "ename": "TypeError",
     "evalue": "can't multiply sequence by non-int of type 'list'",
     "output_type": "error",
     "traceback": [
      "\u001b[1;31m---------------------------------------------------------------------------\u001b[0m",
      "\u001b[1;31mTypeError\u001b[0m                                 Traceback (most recent call last)",
      "\u001b[1;32m~\\AppData\\Local\\Temp/ipykernel_4064/937666681.py\u001b[0m in \u001b[0;36m<module>\u001b[1;34m\u001b[0m\n\u001b[1;32m----> 1\u001b[1;33m \u001b[0ma\u001b[0m \u001b[1;33m*\u001b[0m \u001b[0mb\u001b[0m\u001b[1;33m\u001b[0m\u001b[1;33m\u001b[0m\u001b[0m\n\u001b[0m",
      "\u001b[1;31mTypeError\u001b[0m: can't multiply sequence by non-int of type 'list'"
     ]
    }
   ],
   "source": [
    "a * b"
   ]
  },
  {
   "cell_type": "markdown",
   "id": "f67978ac-44e4-4cf8-abb6-17275330774b",
   "metadata": {},
   "source": [
    "step"
   ]
  },
  {
   "cell_type": "code",
   "execution_count": 156,
   "id": "3df03e01-faea-49c9-af2b-2432fe60f635",
   "metadata": {},
   "outputs": [
    {
     "data": {
      "text/plain": [
       "[10, 30]"
      ]
     },
     "execution_count": 156,
     "metadata": {},
     "output_type": "execute_result"
    }
   ],
   "source": [
    "a[::2]"
   ]
  },
  {
   "cell_type": "code",
   "execution_count": 157,
   "id": "132f42a7-b352-4b7b-ab9f-682a551d259c",
   "metadata": {},
   "outputs": [
    {
     "data": {
      "text/plain": [
       "[40, 20]"
      ]
     },
     "execution_count": 157,
     "metadata": {},
     "output_type": "execute_result"
    }
   ],
   "source": [
    "a[::-2]"
   ]
  },
  {
   "cell_type": "code",
   "execution_count": 189,
   "id": "559f73c6-e496-43dd-8443-7a18d7159e6a",
   "metadata": {},
   "outputs": [
    {
     "data": {
      "text/plain": [
       "[10, 20, 30, 40]"
      ]
     },
     "execution_count": 189,
     "metadata": {},
     "output_type": "execute_result"
    }
   ],
   "source": [
    "a[0:len(a):1]"
   ]
  },
  {
   "cell_type": "code",
   "execution_count": 205,
   "id": "277bd2dd-13d0-48ff-891b-ae1a005169d8",
   "metadata": {},
   "outputs": [
    {
     "data": {
      "text/plain": [
       "[]"
      ]
     },
     "execution_count": 205,
     "metadata": {},
     "output_type": "execute_result"
    }
   ],
   "source": [
    "a[len(a):0:1]"
   ]
  },
  {
   "cell_type": "code",
   "execution_count": 206,
   "id": "c3027647-0e9c-44b7-907a-22f1e3b6959c",
   "metadata": {},
   "outputs": [
    {
     "data": {
      "text/plain": [
       "\u001b[1;31mInit signature:\u001b[0m \u001b[0mlist\u001b[0m\u001b[1;33m(\u001b[0m\u001b[0miterable\u001b[0m\u001b[1;33m=\u001b[0m\u001b[1;33m(\u001b[0m\u001b[1;33m)\u001b[0m\u001b[1;33m,\u001b[0m \u001b[1;33m/\u001b[0m\u001b[1;33m)\u001b[0m\u001b[1;33m\u001b[0m\u001b[1;33m\u001b[0m\u001b[0m\n",
       "\u001b[1;31mDocstring:\u001b[0m     \n",
       "Built-in mutable sequence.\n",
       "\n",
       "If no argument is given, the constructor creates a new empty list.\n",
       "The argument must be an iterable if specified.\n",
       "\u001b[1;31mType:\u001b[0m           type\n",
       "\u001b[1;31mSubclasses:\u001b[0m     _HashedSeq, StackSummary, DeferredConfigList, SList, _ImmutableLineList, FormattedText, NodeList, _ExplodedList, Stack, _Accumulator, ...\n"
      ]
     },
     "metadata": {},
     "output_type": "display_data"
    }
   ],
   "source": [
    "list?"
   ]
  },
  {
   "cell_type": "markdown",
   "id": "ef93abaa-07e6-4a51-8c56-300c7651d45b",
   "metadata": {},
   "source": [
    "## 리스트 값의 변경"
   ]
  },
  {
   "cell_type": "code",
   "execution_count": 215,
   "id": "e7c48b66-c866-49f8-9423-a1d3206d92d2",
   "metadata": {},
   "outputs": [
    {
     "name": "stdout",
     "output_type": "stream",
     "text": [
      "[1, 2, 3, 4, 5, 6, 7, 8, 9]\n"
     ]
    }
   ],
   "source": [
    "a = list(range(1,10))\n",
    "print(a)"
   ]
  },
  {
   "cell_type": "code",
   "execution_count": 216,
   "id": "272e637d-9d32-43d7-948c-50ebb5811188",
   "metadata": {},
   "outputs": [
    {
     "name": "stdout",
     "output_type": "stream",
     "text": [
      "[1, 2, 300, 4, 5, 6, 7, 8, 9]\n"
     ]
    },
    {
     "data": {
      "text/plain": [
       "9"
      ]
     },
     "execution_count": 216,
     "metadata": {},
     "output_type": "execute_result"
    }
   ],
   "source": [
    "a[2] = 300\n",
    "print(a)\n",
    "len(a)"
   ]
  },
  {
   "cell_type": "code",
   "execution_count": 217,
   "id": "1de3c14c-3f51-45c7-9776-852680877d41",
   "metadata": {},
   "outputs": [
    {
     "name": "stdout",
     "output_type": "stream",
     "text": [
      "[1, 200, 201, 300, 4, 5, 6, 7, 8, 9]\n"
     ]
    }
   ],
   "source": [
    "a[1:2] = [200,201]\n",
    "print(a)"
   ]
  },
  {
   "cell_type": "code",
   "execution_count": 219,
   "id": "5a68364a-c335-40a3-b60f-6fbed5b3ef0c",
   "metadata": {},
   "outputs": [
    {
     "data": {
      "text/plain": [
       "[200, 201]"
      ]
     },
     "execution_count": 219,
     "metadata": {},
     "output_type": "execute_result"
    }
   ],
   "source": [
    "a[1:3]"
   ]
  },
  {
   "cell_type": "code",
   "execution_count": 222,
   "id": "0851f6c0-8452-44cd-bcbc-1a53a7f03e6a",
   "metadata": {},
   "outputs": [
    {
     "data": {
      "text/plain": [
       "[1, 200, 201, 300, 4, 5, 6, 7]"
      ]
     },
     "execution_count": 222,
     "metadata": {},
     "output_type": "execute_result"
    }
   ],
   "source": [
    "a[:-2]"
   ]
  },
  {
   "cell_type": "code",
   "execution_count": 223,
   "id": "6ce46bc4-781e-4cf0-ad21-5c9b578410a9",
   "metadata": {},
   "outputs": [
    {
     "data": {
      "text/plain": [
       "[1, 200, 201, 300, 4, 5, 6, 7]"
      ]
     },
     "execution_count": 223,
     "metadata": {},
     "output_type": "execute_result"
    }
   ],
   "source": [
    "a[:-2:]"
   ]
  },
  {
   "cell_type": "code",
   "execution_count": 224,
   "id": "2c0ee9df-3d4a-4049-8e9d-e4769db5ab75",
   "metadata": {},
   "outputs": [
    {
     "name": "stdout",
     "output_type": "stream",
     "text": [
      "[1, 200, 201, 300, [200, 201], 5, 6, 7, 8, 9]\n"
     ]
    }
   ],
   "source": [
    "a[4] = [200,201]\n",
    "print(a)"
   ]
  },
  {
   "cell_type": "code",
   "execution_count": 225,
   "id": "8ecb5c12-fd1a-4f25-a989-cca5eeb43d35",
   "metadata": {},
   "outputs": [
    {
     "name": "stdout",
     "output_type": "stream",
     "text": [
      "[1, 200, 201, 300, 5, 6, 7, 8, 9]\n"
     ]
    }
   ],
   "source": [
    "del(a[4])\n",
    "print(a)"
   ]
  },
  {
   "cell_type": "code",
   "execution_count": 227,
   "id": "9e951ab8-a3a5-4af9-b070-af42379c1640",
   "metadata": {},
   "outputs": [
    {
     "data": {
      "text/plain": [
       "[1, 200, 201, 300, 5, 6, 7, 8, 9, [1, 2]]"
      ]
     },
     "execution_count": 227,
     "metadata": {},
     "output_type": "execute_result"
    }
   ],
   "source": [
    "a.append([1,2])\n",
    "a"
   ]
  },
  {
   "cell_type": "code",
   "execution_count": 228,
   "id": "9500edda-5f43-46be-a917-c35b244a12a4",
   "metadata": {},
   "outputs": [],
   "source": [
    "del(a[9])"
   ]
  },
  {
   "cell_type": "code",
   "execution_count": 230,
   "id": "061e35e3-a255-4272-a282-57f6f24999da",
   "metadata": {},
   "outputs": [
    {
     "data": {
      "text/plain": [
       "[1, 200, 201, 300, 5, 6, 7, 8, 9]"
      ]
     },
     "execution_count": 230,
     "metadata": {},
     "output_type": "execute_result"
    }
   ],
   "source": [
    "a"
   ]
  },
  {
   "cell_type": "code",
   "execution_count": 231,
   "id": "904192df-7036-4d6c-9c9a-ead96cb9f384",
   "metadata": {},
   "outputs": [
    {
     "name": "stdout",
     "output_type": "stream",
     "text": [
      "[[], 200, 201, 300, 5, 6, 7, 8, 9]\n"
     ]
    }
   ],
   "source": [
    "a[0] = []\n",
    "print(a)"
   ]
  },
  {
   "cell_type": "markdown",
   "id": "42e8f849-2902-4167-8f95-d95196e49545",
   "metadata": {},
   "source": [
    "## 집계 함수\n",
    "    - sum(),mean(),max(),min(),count()\n",
    "    - len()"
   ]
  },
  {
   "cell_type": "code",
   "execution_count": 237,
   "id": "1cd84139-9f58-43f8-913f-53d45b19ad58",
   "metadata": {},
   "outputs": [
    {
     "data": {
      "text/plain": [
       "7"
      ]
     },
     "execution_count": 237,
     "metadata": {},
     "output_type": "execute_result"
    }
   ],
   "source": [
    "a = [10, -5, 9, 999, 888, 777, -678]\n",
    "len(a)"
   ]
  },
  {
   "cell_type": "code",
   "execution_count": 240,
   "id": "78d0ed0b-46a1-4883-ac67-38d68164c5c8",
   "metadata": {},
   "outputs": [
    {
     "name": "stdout",
     "output_type": "stream",
     "text": [
      "2000\n"
     ]
    }
   ],
   "source": [
    "hap = 0\n",
    "for i in a :\n",
    "    hap += i\n",
    "print(hap)"
   ]
  },
  {
   "cell_type": "code",
   "execution_count": 239,
   "id": "e74463e9-12d7-4369-b715-bce9a97ea07b",
   "metadata": {},
   "outputs": [],
   "source": [
    "del(sum)"
   ]
  },
  {
   "cell_type": "code",
   "execution_count": 241,
   "id": "e6b1cf7a-5472-44fb-9fc8-56443811f0fb",
   "metadata": {},
   "outputs": [
    {
     "data": {
      "text/plain": [
       "2000"
      ]
     },
     "execution_count": 241,
     "metadata": {},
     "output_type": "execute_result"
    }
   ],
   "source": [
    "sum(a)"
   ]
  },
  {
   "cell_type": "code",
   "execution_count": 242,
   "id": "7069f523-7d0f-43fd-b1ea-15a0d002f3c0",
   "metadata": {},
   "outputs": [
    {
     "data": {
      "text/plain": [
       "-678"
      ]
     },
     "execution_count": 242,
     "metadata": {},
     "output_type": "execute_result"
    }
   ],
   "source": [
    "min(a)"
   ]
  },
  {
   "cell_type": "code",
   "execution_count": 243,
   "id": "b832d43a-ba3e-458f-88f6-42690b1d6a00",
   "metadata": {},
   "outputs": [
    {
     "data": {
      "text/plain": [
       "999"
      ]
     },
     "execution_count": 243,
     "metadata": {},
     "output_type": "execute_result"
    }
   ],
   "source": [
    "max(a)"
   ]
  },
  {
   "cell_type": "code",
   "execution_count": 247,
   "id": "2011b5ef-a2d5-446c-aeb1-a6d8f2251bb7",
   "metadata": {},
   "outputs": [
    {
     "name": "stdout",
     "output_type": "stream",
     "text": [
      "Help on list object:\n",
      "\n",
      "class list(object)\n",
      " |  list(iterable=(), /)\n",
      " |  \n",
      " |  Built-in mutable sequence.\n",
      " |  \n",
      " |  If no argument is given, the constructor creates a new empty list.\n",
      " |  The argument must be an iterable if specified.\n",
      " |  \n",
      " |  Methods defined here:\n",
      " |  \n",
      " |  __add__(self, value, /)\n",
      " |      Return self+value.\n",
      " |  \n",
      " |  __contains__(self, key, /)\n",
      " |      Return key in self.\n",
      " |  \n",
      " |  __delitem__(self, key, /)\n",
      " |      Delete self[key].\n",
      " |  \n",
      " |  __eq__(self, value, /)\n",
      " |      Return self==value.\n",
      " |  \n",
      " |  __ge__(self, value, /)\n",
      " |      Return self>=value.\n",
      " |  \n",
      " |  __getattribute__(self, name, /)\n",
      " |      Return getattr(self, name).\n",
      " |  \n",
      " |  __getitem__(...)\n",
      " |      x.__getitem__(y) <==> x[y]\n",
      " |  \n",
      " |  __gt__(self, value, /)\n",
      " |      Return self>value.\n",
      " |  \n",
      " |  __iadd__(self, value, /)\n",
      " |      Implement self+=value.\n",
      " |  \n",
      " |  __imul__(self, value, /)\n",
      " |      Implement self*=value.\n",
      " |  \n",
      " |  __init__(self, /, *args, **kwargs)\n",
      " |      Initialize self.  See help(type(self)) for accurate signature.\n",
      " |  \n",
      " |  __iter__(self, /)\n",
      " |      Implement iter(self).\n",
      " |  \n",
      " |  __le__(self, value, /)\n",
      " |      Return self<=value.\n",
      " |  \n",
      " |  __len__(self, /)\n",
      " |      Return len(self).\n",
      " |  \n",
      " |  __lt__(self, value, /)\n",
      " |      Return self<value.\n",
      " |  \n",
      " |  __mul__(self, value, /)\n",
      " |      Return self*value.\n",
      " |  \n",
      " |  __ne__(self, value, /)\n",
      " |      Return self!=value.\n",
      " |  \n",
      " |  __repr__(self, /)\n",
      " |      Return repr(self).\n",
      " |  \n",
      " |  __reversed__(self, /)\n",
      " |      Return a reverse iterator over the list.\n",
      " |  \n",
      " |  __rmul__(self, value, /)\n",
      " |      Return value*self.\n",
      " |  \n",
      " |  __setitem__(self, key, value, /)\n",
      " |      Set self[key] to value.\n",
      " |  \n",
      " |  __sizeof__(self, /)\n",
      " |      Return the size of the list in memory, in bytes.\n",
      " |  \n",
      " |  append(self, object, /)\n",
      " |      Append object to the end of the list.\n",
      " |  \n",
      " |  clear(self, /)\n",
      " |      Remove all items from list.\n",
      " |  \n",
      " |  copy(self, /)\n",
      " |      Return a shallow copy of the list.\n",
      " |  \n",
      " |  count(self, value, /)\n",
      " |      Return number of occurrences of value.\n",
      " |  \n",
      " |  extend(self, iterable, /)\n",
      " |      Extend list by appending elements from the iterable.\n",
      " |  \n",
      " |  index(self, value, start=0, stop=9223372036854775807, /)\n",
      " |      Return first index of value.\n",
      " |      \n",
      " |      Raises ValueError if the value is not present.\n",
      " |  \n",
      " |  insert(self, index, object, /)\n",
      " |      Insert object before index.\n",
      " |  \n",
      " |  pop(self, index=-1, /)\n",
      " |      Remove and return item at index (default last).\n",
      " |      \n",
      " |      Raises IndexError if list is empty or index is out of range.\n",
      " |  \n",
      " |  remove(self, value, /)\n",
      " |      Remove first occurrence of value.\n",
      " |      \n",
      " |      Raises ValueError if the value is not present.\n",
      " |  \n",
      " |  reverse(self, /)\n",
      " |      Reverse *IN PLACE*.\n",
      " |  \n",
      " |  sort(self, /, *, key=None, reverse=False)\n",
      " |      Sort the list in ascending order and return None.\n",
      " |      \n",
      " |      The sort is in-place (i.e. the list itself is modified) and stable (i.e. the\n",
      " |      order of two equal elements is maintained).\n",
      " |      \n",
      " |      If a key function is given, apply it once to each list item and sort them,\n",
      " |      ascending or descending, according to their function values.\n",
      " |      \n",
      " |      The reverse flag can be set to sort in descending order.\n",
      " |  \n",
      " |  ----------------------------------------------------------------------\n",
      " |  Class methods defined here:\n",
      " |  \n",
      " |  __class_getitem__(...) from builtins.type\n",
      " |      See PEP 585\n",
      " |  \n",
      " |  ----------------------------------------------------------------------\n",
      " |  Static methods defined here:\n",
      " |  \n",
      " |  __new__(*args, **kwargs) from builtins.type\n",
      " |      Create and return a new object.  See help(type) for accurate signature.\n",
      " |  \n",
      " |  ----------------------------------------------------------------------\n",
      " |  Data and other attributes defined here:\n",
      " |  \n",
      " |  __hash__ = None\n",
      "\n"
     ]
    }
   ],
   "source": [
    "help (a)"
   ]
  },
  {
   "cell_type": "markdown",
   "id": "93299db9-b5ca-4683-a649-46d8fe5734f0",
   "metadata": {},
   "source": [
    "# 리스트 내장함수"
   ]
  },
  {
   "cell_type": "code",
   "execution_count": 248,
   "id": "968dc345-61a6-43f6-a925-e2c322e6cac4",
   "metadata": {},
   "outputs": [],
   "source": [
    "myList = [30,10, 20]"
   ]
  },
  {
   "cell_type": "code",
   "execution_count": 249,
   "id": "6b78e220-3606-4ecd-bf30-617e159a8226",
   "metadata": {},
   "outputs": [
    {
     "data": {
      "text/plain": [
       "[30, 10, 20, 40]"
      ]
     },
     "execution_count": 249,
     "metadata": {},
     "output_type": "execute_result"
    }
   ],
   "source": [
    "myList.append(40)\n",
    "myList"
   ]
  },
  {
   "cell_type": "code",
   "execution_count": 255,
   "id": "f9c979d7-6303-4f03-932e-e19d99704627",
   "metadata": {},
   "outputs": [
    {
     "data": {
      "text/plain": [
       "[30, 10, 20]"
      ]
     },
     "execution_count": 255,
     "metadata": {},
     "output_type": "execute_result"
    }
   ],
   "source": [
    "myList.pop()\n",
    "myList"
   ]
  },
  {
   "cell_type": "code",
   "execution_count": 256,
   "id": "41594ce2-ef95-4737-841b-41e465737056",
   "metadata": {},
   "outputs": [
    {
     "data": {
      "text/plain": [
       "[10, 20, 30]"
      ]
     },
     "execution_count": 256,
     "metadata": {},
     "output_type": "execute_result"
    }
   ],
   "source": [
    "myList.sort()\n",
    "myList"
   ]
  },
  {
   "cell_type": "code",
   "execution_count": 257,
   "id": "97fba7e2-4386-4090-a14c-f538535804ae",
   "metadata": {},
   "outputs": [
    {
     "data": {
      "text/plain": [
       "[30, 20, 10]"
      ]
     },
     "execution_count": 257,
     "metadata": {},
     "output_type": "execute_result"
    }
   ],
   "source": [
    "myList.reverse()\n",
    "myList"
   ]
  },
  {
   "cell_type": "code",
   "execution_count": 258,
   "id": "aa6d02f8-a1d7-4892-90c6-3660c1ecdbf9",
   "metadata": {},
   "outputs": [
    {
     "data": {
      "text/plain": [
       "[30, 20, 222, 10]"
      ]
     },
     "execution_count": 258,
     "metadata": {},
     "output_type": "execute_result"
    }
   ],
   "source": [
    "myList.insert(2,222)\n",
    "myList"
   ]
  },
  {
   "cell_type": "code",
   "execution_count": 260,
   "id": "06e912c8-8df3-491a-b9d0-46493a920edd",
   "metadata": {},
   "outputs": [],
   "source": [
    "myList.extend([77,88,77])"
   ]
  },
  {
   "cell_type": "code",
   "execution_count": 261,
   "id": "37c7382f-850c-404f-992a-14c285d944d2",
   "metadata": {},
   "outputs": [
    {
     "data": {
      "text/plain": [
       "[30, 20, 222, 10, 77, 88, 77]"
      ]
     },
     "execution_count": 261,
     "metadata": {},
     "output_type": "execute_result"
    }
   ],
   "source": [
    "myList"
   ]
  },
  {
   "cell_type": "code",
   "execution_count": 262,
   "id": "9b21ebb1-a7cb-4667-b67d-1889dc9ee397",
   "metadata": {},
   "outputs": [
    {
     "data": {
      "text/plain": [
       "1"
      ]
     },
     "execution_count": 262,
     "metadata": {},
     "output_type": "execute_result"
    }
   ],
   "source": [
    "myList.count(10)"
   ]
  },
  {
   "cell_type": "code",
   "execution_count": 263,
   "id": "51744fc7-078b-4a2e-b38b-48eb38ff491e",
   "metadata": {},
   "outputs": [
    {
     "data": {
      "text/plain": [
       "[30, 20, 222, 10, 88, 77]"
      ]
     },
     "execution_count": 263,
     "metadata": {},
     "output_type": "execute_result"
    }
   ],
   "source": [
    "myList.remove(77)\n",
    "myList"
   ]
  },
  {
   "cell_type": "markdown",
   "id": "6d8c3037-b4dd-498a-95e3-f9137609a387",
   "metadata": {},
   "source": [
    "# sorted() vs list.sort()"
   ]
  },
  {
   "cell_type": "code",
   "execution_count": 264,
   "id": "1cb61818-3840-4002-9fda-50753112ecae",
   "metadata": {},
   "outputs": [
    {
     "data": {
      "text/plain": [
       "[10, 20, 30]"
      ]
     },
     "execution_count": 264,
     "metadata": {},
     "output_type": "execute_result"
    }
   ],
   "source": [
    "myList = [30, 10, 20]\n",
    "sorted(myList)"
   ]
  },
  {
   "cell_type": "code",
   "execution_count": 265,
   "id": "b377e809-bd1c-4611-9b6b-a4db71d0eb05",
   "metadata": {},
   "outputs": [
    {
     "data": {
      "text/plain": [
       "[10, 20, 30]"
      ]
     },
     "execution_count": 265,
     "metadata": {},
     "output_type": "execute_result"
    }
   ],
   "source": [
    "newList = sorted(myList)\n",
    "newList"
   ]
  },
  {
   "cell_type": "code",
   "execution_count": 266,
   "id": "31bf8fef-b7d6-44f8-bfcc-262933c12c68",
   "metadata": {},
   "outputs": [
    {
     "data": {
      "text/plain": [
       "[30, 10, 20]"
      ]
     },
     "execution_count": 266,
     "metadata": {},
     "output_type": "execute_result"
    }
   ],
   "source": [
    "myList"
   ]
  },
  {
   "cell_type": "markdown",
   "id": "0178f636-28ad-4bc2-8a21-b9f59b1c8e27",
   "metadata": {},
   "source": [
    "## 2차원 리스트"
   ]
  },
  {
   "cell_type": "code",
   "execution_count": 267,
   "id": "f1e24093-035a-4b2b-a206-033616693cbb",
   "metadata": {},
   "outputs": [],
   "source": [
    "a =[[1,2,3,4]\n",
    "   ,[5,6,7,8]\n",
    "    ,[9,10,11,12]\n",
    "   ]"
   ]
  },
  {
   "cell_type": "code",
   "execution_count": 268,
   "id": "3b302f25-b123-4be7-93a1-009684d942bf",
   "metadata": {},
   "outputs": [
    {
     "data": {
      "text/plain": [
       "3"
      ]
     },
     "execution_count": 268,
     "metadata": {},
     "output_type": "execute_result"
    }
   ],
   "source": [
    "len(a)"
   ]
  },
  {
   "cell_type": "code",
   "execution_count": 270,
   "id": "1971662d-7122-44e4-af20-2075aab3b933",
   "metadata": {},
   "outputs": [
    {
     "data": {
      "text/plain": [
       "([1, 2, 3, 4], [5, 6, 7, 8], [[5, 6, 7, 8], [9, 10, 11, 12]])"
      ]
     },
     "execution_count": 270,
     "metadata": {},
     "output_type": "execute_result"
    }
   ],
   "source": [
    "a[0], a[1],a[1:3]"
   ]
  },
  {
   "cell_type": "code",
   "execution_count": 271,
   "id": "c06e0a5c-a62d-4efd-92dd-8485219e0888",
   "metadata": {},
   "outputs": [
    {
     "data": {
      "text/plain": [
       "2"
      ]
     },
     "execution_count": 271,
     "metadata": {},
     "output_type": "execute_result"
    }
   ],
   "source": [
    "a[0][1]"
   ]
  },
  {
   "cell_type": "code",
   "execution_count": 291,
   "id": "71bf6fd9-2bec-4a00-a5ac-b764d9d8ad05",
   "metadata": {},
   "outputs": [
    {
     "name": "stdout",
     "output_type": "stream",
     "text": [
      "  1   2   3   4 \n",
      "  5   6   7   8 \n",
      "  9  10  11  12 \n"
     ]
    }
   ],
   "source": [
    "list1 = []\n",
    "list2 = []\n",
    "value = 1\n",
    "for i in range(0, 3) :\n",
    "    for k in range(0, 4):\n",
    "        list1.append(value)\n",
    "        value+=1\n",
    "    list2.append(list1)\n",
    "    list1=[]\n",
    "    \n",
    "for i in range(0,3):\n",
    "    for k in range(0,4):\n",
    "        print(\"%3d\" %list2[i][k],end= \" \")\n",
    "    print()"
   ]
  },
  {
   "cell_type": "code",
   "execution_count": 297,
   "id": "655900ce-e045-4f39-9827-89481d54923f",
   "metadata": {},
   "outputs": [
    {
     "name": "stdout",
     "output_type": "stream",
     "text": [
      "  0   3   6   9  12 \n",
      " 15  18  21  24  27 \n",
      " 30  33  36  39  42 \n",
      " 45  48  51  54  57 \n"
     ]
    }
   ],
   "source": [
    "list1 = []\n",
    "list2 = []\n",
    "value = 0\n",
    "for i in range(0, 4) :\n",
    "    for k in range(0, 5):\n",
    "        list1.append(value)\n",
    "        value+=3\n",
    "    list2.append(list1)\n",
    "    list1=[]\n",
    "    \n",
    "for i in range(0,4):\n",
    "    for k in range(0,5):\n",
    "        print(\"%3d\" %list2[i][k],end= \" \")\n",
    "    print()"
   ]
  },
  {
   "cell_type": "markdown",
   "id": "4cebf87a-fa52-4bc7-b9ba-734d1bf023c4",
   "metadata": {},
   "source": [
    "# 튜플"
   ]
  },
  {
   "cell_type": "code",
   "execution_count": 298,
   "id": "4f63e344-61b2-4ba4-a153-98d88109652b",
   "metadata": {},
   "outputs": [
    {
     "data": {
      "text/plain": [
       "(1, 2, 3, 4, 5)"
      ]
     },
     "execution_count": 298,
     "metadata": {},
     "output_type": "execute_result"
    }
   ],
   "source": [
    "tt1 = (1,2,3,4,5)\n",
    "tt1"
   ]
  },
  {
   "cell_type": "code",
   "execution_count": 299,
   "id": "938c186f-fc06-4612-a9fb-16246bd337f7",
   "metadata": {},
   "outputs": [
    {
     "data": {
      "text/plain": [
       "tuple"
      ]
     },
     "execution_count": 299,
     "metadata": {},
     "output_type": "execute_result"
    }
   ],
   "source": [
    "type(tt1)"
   ]
  },
  {
   "cell_type": "code",
   "execution_count": 302,
   "id": "80fc46cf-d702-41f7-b9f8-2daa44e5a859",
   "metadata": {},
   "outputs": [
    {
     "data": {
      "text/plain": [
       "()"
      ]
     },
     "execution_count": 302,
     "metadata": {},
     "output_type": "execute_result"
    }
   ],
   "source": [
    "tt1 = ()\n",
    "tt1"
   ]
  },
  {
   "cell_type": "code",
   "execution_count": 303,
   "id": "3e2b9bd5-73f5-417b-b87c-22a7b4102131",
   "metadata": {},
   "outputs": [
    {
     "data": {
      "text/plain": [
       "tuple"
      ]
     },
     "execution_count": 303,
     "metadata": {},
     "output_type": "execute_result"
    }
   ],
   "source": [
    "type(tt1)"
   ]
  },
  {
   "cell_type": "code",
   "execution_count": 304,
   "id": "6652a6f0-e922-42ca-a342-ab20707402d6",
   "metadata": {},
   "outputs": [
    {
     "data": {
      "text/plain": [
       "(10, 20, 30)"
      ]
     },
     "execution_count": 304,
     "metadata": {},
     "output_type": "execute_result"
    }
   ],
   "source": [
    "tt2 = 10, 20 ,30\n",
    "tt2"
   ]
  },
  {
   "cell_type": "code",
   "execution_count": 307,
   "id": "aa83e6aa-5b16-461d-bebb-f0315f6c0532",
   "metadata": {},
   "outputs": [
    {
     "data": {
      "text/plain": [
       "10"
      ]
     },
     "execution_count": 307,
     "metadata": {},
     "output_type": "execute_result"
    }
   ],
   "source": [
    "tt2 = 10\n",
    "tt2"
   ]
  },
  {
   "cell_type": "code",
   "execution_count": 308,
   "id": "2161c81a-872f-480f-a43a-c93661a8ad00",
   "metadata": {},
   "outputs": [
    {
     "data": {
      "text/plain": [
       "(10,)"
      ]
     },
     "execution_count": 308,
     "metadata": {},
     "output_type": "execute_result"
    }
   ],
   "source": [
    "tt2 = 10,\n",
    "tt2"
   ]
  },
  {
   "cell_type": "code",
   "execution_count": 311,
   "id": "37381bcc-94b9-429a-a607-e77c1a0d55d8",
   "metadata": {},
   "outputs": [
    {
     "data": {
      "text/plain": [
       "(10, 20, 30, 40, 50, 60, 70)"
      ]
     },
     "execution_count": 311,
     "metadata": {},
     "output_type": "execute_result"
    }
   ],
   "source": [
    "tt2 = 10, 20, 30, 40 , 50 , 60, 70\n",
    "tt2"
   ]
  },
  {
   "cell_type": "code",
   "execution_count": 310,
   "id": "741b56c4-2feb-4f9b-be44-8a6f8e17569f",
   "metadata": {},
   "outputs": [
    {
     "data": {
      "text/plain": [
       "(10, 30)"
      ]
     },
     "execution_count": 310,
     "metadata": {},
     "output_type": "execute_result"
    }
   ],
   "source": [
    "tt2[0], tt2[2]"
   ]
  },
  {
   "cell_type": "code",
   "execution_count": 312,
   "id": "e5d168ff-2cda-4fac-af2d-0ee9fdc2507f",
   "metadata": {},
   "outputs": [
    {
     "data": {
      "text/plain": [
       "(30, 40, 50)"
      ]
     },
     "execution_count": 312,
     "metadata": {},
     "output_type": "execute_result"
    }
   ],
   "source": [
    "tt2[2:5]"
   ]
  },
  {
   "cell_type": "code",
   "execution_count": 313,
   "id": "563a7651-1ca2-4df3-8d03-1d30ab779597",
   "metadata": {},
   "outputs": [
    {
     "data": {
      "text/plain": [
       "50"
      ]
     },
     "execution_count": 313,
     "metadata": {},
     "output_type": "execute_result"
    }
   ],
   "source": [
    "tt2[-3]"
   ]
  },
  {
   "cell_type": "code",
   "execution_count": 314,
   "id": "d425701d-0ce2-4281-8505-c794b7d80024",
   "metadata": {},
   "outputs": [
    {
     "data": {
      "text/plain": [
       "(60, 70)"
      ]
     },
     "execution_count": 314,
     "metadata": {},
     "output_type": "execute_result"
    }
   ],
   "source": [
    "tt2[-2:]"
   ]
  },
  {
   "cell_type": "code",
   "execution_count": 315,
   "id": "883fd384-a763-493c-ae58-19adf06c588b",
   "metadata": {},
   "outputs": [
    {
     "ename": "TypeError",
     "evalue": "'tuple' object does not support item assignment",
     "output_type": "error",
     "traceback": [
      "\u001b[1;31m---------------------------------------------------------------------------\u001b[0m",
      "\u001b[1;31mTypeError\u001b[0m                                 Traceback (most recent call last)",
      "\u001b[1;32m~\\AppData\\Local\\Temp/ipykernel_4064/380061504.py\u001b[0m in \u001b[0;36m<module>\u001b[1;34m\u001b[0m\n\u001b[1;32m----> 1\u001b[1;33m \u001b[0mtt2\u001b[0m\u001b[1;33m[\u001b[0m\u001b[1;36m0\u001b[0m\u001b[1;33m]\u001b[0m\u001b[1;33m=\u001b[0m\u001b[1;36m100\u001b[0m\u001b[1;33m\u001b[0m\u001b[1;33m\u001b[0m\u001b[0m\n\u001b[0m",
      "\u001b[1;31mTypeError\u001b[0m: 'tuple' object does not support item assignment"
     ]
    }
   ],
   "source": [
    "tt2[0]=100"
   ]
  },
  {
   "cell_type": "code",
   "execution_count": 316,
   "id": "a018be0b-026c-4e31-8e6f-039e394d3544",
   "metadata": {},
   "outputs": [
    {
     "ename": "TypeError",
     "evalue": "'tuple' object does not support item assignment",
     "output_type": "error",
     "traceback": [
      "\u001b[1;31m---------------------------------------------------------------------------\u001b[0m",
      "\u001b[1;31mTypeError\u001b[0m                                 Traceback (most recent call last)",
      "\u001b[1;32m~\\AppData\\Local\\Temp/ipykernel_4064/2358882887.py\u001b[0m in \u001b[0;36m<module>\u001b[1;34m\u001b[0m\n\u001b[1;32m----> 1\u001b[1;33m \u001b[0mtt2\u001b[0m\u001b[1;33m[\u001b[0m\u001b[1;36m1\u001b[0m\u001b[1;33m:\u001b[0m\u001b[1;36m2\u001b[0m\u001b[1;33m]\u001b[0m \u001b[1;33m=\u001b[0m \u001b[1;33m(\u001b[0m\u001b[1;36m10\u001b[0m\u001b[1;33m,\u001b[0m\u001b[1;36m20\u001b[0m\u001b[1;33m)\u001b[0m\u001b[1;33m\u001b[0m\u001b[1;33m\u001b[0m\u001b[0m\n\u001b[0m\u001b[0;32m      2\u001b[0m \u001b[0mtt2\u001b[0m\u001b[1;33m\u001b[0m\u001b[1;33m\u001b[0m\u001b[0m\n",
      "\u001b[1;31mTypeError\u001b[0m: 'tuple' object does not support item assignment"
     ]
    }
   ],
   "source": [
    "tt2[1:2] = (10,20)\n",
    "tt2"
   ]
  },
  {
   "cell_type": "markdown",
   "id": "d1566cfb-c6b8-431c-8afd-966a6f72ec59",
   "metadata": {},
   "source": [
    "브로드캐스팅!"
   ]
  },
  {
   "cell_type": "code",
   "execution_count": 317,
   "id": "9ce325f9-c601-4dc0-8b2b-e87f1c5767df",
   "metadata": {},
   "outputs": [],
   "source": [
    "tt2 = ('a', 'b')\n",
    "tt1 = (10,20,30,40)"
   ]
  },
  {
   "cell_type": "code",
   "execution_count": 318,
   "id": "69222eb1-48cc-4086-9fdd-e2c643a630e2",
   "metadata": {},
   "outputs": [
    {
     "ename": "TypeError",
     "evalue": "can only concatenate tuple (not \"int\") to tuple",
     "output_type": "error",
     "traceback": [
      "\u001b[1;31m---------------------------------------------------------------------------\u001b[0m",
      "\u001b[1;31mTypeError\u001b[0m                                 Traceback (most recent call last)",
      "\u001b[1;32m~\\AppData\\Local\\Temp/ipykernel_4064/3363798814.py\u001b[0m in \u001b[0;36m<module>\u001b[1;34m\u001b[0m\n\u001b[1;32m----> 1\u001b[1;33m \u001b[0mtt2\u001b[0m \u001b[1;33m+\u001b[0m \u001b[1;36m2\u001b[0m\u001b[1;33m\u001b[0m\u001b[1;33m\u001b[0m\u001b[0m\n\u001b[0m",
      "\u001b[1;31mTypeError\u001b[0m: can only concatenate tuple (not \"int\") to tuple"
     ]
    }
   ],
   "source": [
    "tt2 + 2"
   ]
  },
  {
   "cell_type": "code",
   "execution_count": 319,
   "id": "461478b2-18d6-45bf-bdae-8e19fb4e2d4b",
   "metadata": {},
   "outputs": [
    {
     "data": {
      "text/plain": [
       "('a', 'b', 'a', 'b')"
      ]
     },
     "execution_count": 319,
     "metadata": {},
     "output_type": "execute_result"
    }
   ],
   "source": [
    "tt2 * 2"
   ]
  },
  {
   "cell_type": "code",
   "execution_count": 321,
   "id": "76c92847-bbcc-4121-a630-74f8589ebef2",
   "metadata": {},
   "outputs": [
    {
     "data": {
      "text/plain": [
       "('a', 'b', 10, 20, 30, 40)"
      ]
     },
     "execution_count": 321,
     "metadata": {},
     "output_type": "execute_result"
    }
   ],
   "source": [
    "tt2 + tt1"
   ]
  },
  {
   "cell_type": "code",
   "execution_count": 322,
   "id": "0029efb3-2348-4521-a018-2136ed6ab473",
   "metadata": {},
   "outputs": [
    {
     "data": {
      "text/plain": [
       "(1, 2, 3, 4, 5, 6, 7, 8, 9)"
      ]
     },
     "execution_count": 322,
     "metadata": {},
     "output_type": "execute_result"
    }
   ],
   "source": [
    "tt2 = tuple(range(1,10))\n",
    "tt2"
   ]
  },
  {
   "cell_type": "markdown",
   "id": "42df91d2-ad1f-47bc-b9a6-cdb7b4f1b617",
   "metadata": {},
   "source": [
    "# 리스트 <-> 튜플 변환\n",
    "    + list()\n",
    "    + tuple()"
   ]
  },
  {
   "cell_type": "code",
   "execution_count": 323,
   "id": "3b2c6509-d2a6-4df6-955d-dbb76e36c633",
   "metadata": {},
   "outputs": [],
   "source": [
    "li = [1,2,3,4,5]\n",
    "ti = (-9,-8,-7,-6)"
   ]
  },
  {
   "cell_type": "code",
   "execution_count": 324,
   "id": "7a63973e-42a2-4bf4-acd4-5ff879f4b639",
   "metadata": {},
   "outputs": [
    {
     "data": {
      "text/plain": [
       "(1, 2, 3, 4, 5)"
      ]
     },
     "execution_count": 324,
     "metadata": {},
     "output_type": "execute_result"
    }
   ],
   "source": [
    "tuple(li)"
   ]
  },
  {
   "cell_type": "code",
   "execution_count": 325,
   "id": "c6666e95-0029-4af0-87e0-d40780823d89",
   "metadata": {},
   "outputs": [
    {
     "data": {
      "text/plain": [
       "[-9, -8, -7, -6]"
      ]
     },
     "execution_count": 325,
     "metadata": {},
     "output_type": "execute_result"
    }
   ],
   "source": [
    "list(ti)"
   ]
  },
  {
   "cell_type": "markdown",
   "id": "18e7da2a-898f-474d-9f9c-b4e3bee2b34c",
   "metadata": {},
   "source": [
    "# 딕셔너리"
   ]
  },
  {
   "cell_type": "code",
   "execution_count": 326,
   "id": "14cf3db8-b66b-4812-9fb5-15f72b044539",
   "metadata": {},
   "outputs": [
    {
     "data": {
      "text/plain": [
       "dict"
      ]
     },
     "execution_count": 326,
     "metadata": {},
     "output_type": "execute_result"
    }
   ],
   "source": [
    "dic1 = {}\n",
    "type(dic1)"
   ]
  },
  {
   "cell_type": "code",
   "execution_count": 327,
   "id": "5de023b6-a9ac-4ea4-8f75-c88d706541f2",
   "metadata": {},
   "outputs": [
    {
     "data": {
      "text/plain": [
       "{1: 'a', 2: 'b', 3: 'c'}"
      ]
     },
     "execution_count": 327,
     "metadata": {},
     "output_type": "execute_result"
    }
   ],
   "source": [
    "dic1 = {1:'a', 2:'b', 3:'c'}\n",
    "dic1"
   ]
  },
  {
   "cell_type": "code",
   "execution_count": 330,
   "id": "fa65e047-6ac0-4ecc-a451-6d3dddc11e72",
   "metadata": {},
   "outputs": [],
   "source": [
    "dic2 = {'a': 123, 'b':456, 'c':789}"
   ]
  },
  {
   "cell_type": "code",
   "execution_count": 334,
   "id": "dd13c681-4851-4f10-99b0-050ba5ce914c",
   "metadata": {},
   "outputs": [
    {
     "data": {
      "text/plain": [
       "123"
      ]
     },
     "execution_count": 334,
     "metadata": {},
     "output_type": "execute_result"
    }
   ],
   "source": [
    "dic2['a']"
   ]
  },
  {
   "cell_type": "code",
   "execution_count": 335,
   "id": "2ad92133-fcff-422d-9ebe-26bae76010c5",
   "metadata": {},
   "outputs": [
    {
     "data": {
      "text/plain": [
       "{'학번': 1000, '이름': '홍길동', '학과': '컴퓨터학과'}"
      ]
     },
     "execution_count": 335,
     "metadata": {},
     "output_type": "execute_result"
    }
   ],
   "source": [
    "student1 = {'학번' : 1000, '이름':'홍길동','학과':'컴퓨터학과'}\n",
    "student1"
   ]
  },
  {
   "cell_type": "code",
   "execution_count": 336,
   "id": "21acaa42-8748-4916-ba92-70b1aeb09467",
   "metadata": {},
   "outputs": [
    {
     "data": {
      "text/plain": [
       "{'학번': 1000, '이름': '홍길동', '학과': '컴퓨터학과', '연락처': '010-1111-2222'}"
      ]
     },
     "execution_count": 336,
     "metadata": {},
     "output_type": "execute_result"
    }
   ],
   "source": [
    "student1['연락처']='010-1111-2222'\n",
    "student1"
   ]
  },
  {
   "cell_type": "code",
   "execution_count": 337,
   "id": "1089cd9b-07ec-4a8d-8a13-1bcb1fc0e23f",
   "metadata": {},
   "outputs": [
    {
     "data": {
      "text/plain": [
       "{'학번': 1000, '이름': '홍길동', '학과': '파이썬', '연락처': '010-1111-2222'}"
      ]
     },
     "execution_count": 337,
     "metadata": {},
     "output_type": "execute_result"
    }
   ],
   "source": [
    "student1['학과']='파이썬'\n",
    "student1"
   ]
  },
  {
   "cell_type": "code",
   "execution_count": 339,
   "id": "adc2c230-f2d0-4567-af8c-0e0895a95f0a",
   "metadata": {},
   "outputs": [
    {
     "data": {
      "text/plain": [
       "{'학번': 1000, '이름': '홍길동', '연락처': '010-1111-2222'}"
      ]
     },
     "execution_count": 339,
     "metadata": {},
     "output_type": "execute_result"
    }
   ],
   "source": [
    "del(student1['학과'])\n",
    "student1"
   ]
  },
  {
   "cell_type": "code",
   "execution_count": 340,
   "id": "21a3cb4c-f6e1-487d-b9fa-1d1d73a16eb1",
   "metadata": {},
   "outputs": [
    {
     "data": {
      "text/plain": [
       "{'학번': 2000, '이름': '홍길동', '학과': '컴퓨터학과'}"
      ]
     },
     "execution_count": 340,
     "metadata": {},
     "output_type": "execute_result"
    }
   ],
   "source": [
    "student1 = {'학번' : 1000, '이름':'홍길동','학과':'컴퓨터학과','학번':2000}\n",
    "student1"
   ]
  },
  {
   "cell_type": "code",
   "execution_count": 342,
   "id": "7d285b17-ea20-41a1-830e-abc3974c1676",
   "metadata": {},
   "outputs": [
    {
     "ename": "KeyError",
     "evalue": "'주소'",
     "output_type": "error",
     "traceback": [
      "\u001b[1;31m---------------------------------------------------------------------------\u001b[0m",
      "\u001b[1;31mKeyError\u001b[0m                                  Traceback (most recent call last)",
      "\u001b[1;32m~\\AppData\\Local\\Temp/ipykernel_4064/4148728907.py\u001b[0m in \u001b[0;36m<module>\u001b[1;34m\u001b[0m\n\u001b[1;32m----> 1\u001b[1;33m \u001b[0mstudent1\u001b[0m\u001b[1;33m[\u001b[0m\u001b[1;34m'주소'\u001b[0m\u001b[1;33m]\u001b[0m\u001b[1;33m\u001b[0m\u001b[1;33m\u001b[0m\u001b[0m\n\u001b[0m",
      "\u001b[1;31mKeyError\u001b[0m: '주소'"
     ]
    }
   ],
   "source": [
    "student1['주소']"
   ]
  },
  {
   "cell_type": "code",
   "execution_count": 344,
   "id": "601389c8-463d-4b1d-8f85-033a482920ff",
   "metadata": {},
   "outputs": [
    {
     "data": {
      "text/plain": [
       "'컴퓨터학과'"
      ]
     },
     "execution_count": 344,
     "metadata": {},
     "output_type": "execute_result"
    }
   ],
   "source": [
    "student1.get('학과')"
   ]
  },
  {
   "cell_type": "code",
   "execution_count": 345,
   "id": "90f271c7-121c-4e44-943d-70c8c0c9941d",
   "metadata": {},
   "outputs": [],
   "source": [
    "student1.get('주소')"
   ]
  },
  {
   "cell_type": "code",
   "execution_count": 347,
   "id": "47f9c1ea-42f7-412c-a7e5-dece7eab6273",
   "metadata": {},
   "outputs": [
    {
     "data": {
      "text/plain": [
       "dict_keys(['학번', '이름', '학과'])"
      ]
     },
     "execution_count": 347,
     "metadata": {},
     "output_type": "execute_result"
    }
   ],
   "source": [
    "student1.keys()"
   ]
  },
  {
   "cell_type": "code",
   "execution_count": 348,
   "id": "49181048-781f-425d-827b-81afe5d440a4",
   "metadata": {},
   "outputs": [
    {
     "data": {
      "text/plain": [
       "dict_values([2000, '홍길동', '컴퓨터학과'])"
      ]
     },
     "execution_count": 348,
     "metadata": {},
     "output_type": "execute_result"
    }
   ],
   "source": [
    "student1.values()"
   ]
  },
  {
   "cell_type": "code",
   "execution_count": 349,
   "id": "0435ac72-f168-48d5-ab1d-144f5f038ed0",
   "metadata": {},
   "outputs": [
    {
     "data": {
      "text/plain": [
       "dict_values"
      ]
     },
     "execution_count": 349,
     "metadata": {},
     "output_type": "execute_result"
    }
   ],
   "source": [
    "type(student1.values())"
   ]
  },
  {
   "cell_type": "code",
   "execution_count": 350,
   "id": "f222f83b-ed1e-47da-bc32-322a6f6172a3",
   "metadata": {},
   "outputs": [
    {
     "data": {
      "text/plain": [
       "dict_keys"
      ]
     },
     "execution_count": 350,
     "metadata": {},
     "output_type": "execute_result"
    }
   ],
   "source": [
    "type(student1.keys())"
   ]
  },
  {
   "cell_type": "code",
   "execution_count": 351,
   "id": "6ec1099d-cd13-4e9b-b888-82e87ad21ffc",
   "metadata": {},
   "outputs": [
    {
     "data": {
      "text/plain": [
       "dict_items([('학번', 2000), ('이름', '홍길동'), ('학과', '컴퓨터학과')])"
      ]
     },
     "execution_count": 351,
     "metadata": {},
     "output_type": "execute_result"
    }
   ],
   "source": [
    "student1.items()"
   ]
  },
  {
   "cell_type": "code",
   "execution_count": 352,
   "id": "d90fd8d9-90e5-4e6c-8e6a-cdbf83d18247",
   "metadata": {},
   "outputs": [
    {
     "data": {
      "text/plain": [
       "False"
      ]
     },
     "execution_count": 352,
     "metadata": {},
     "output_type": "execute_result"
    }
   ],
   "source": [
    "'홍길동' in student1"
   ]
  },
  {
   "cell_type": "code",
   "execution_count": 353,
   "id": "a36e228b-e0c5-480f-b5de-6f8735e2c8e9",
   "metadata": {},
   "outputs": [
    {
     "data": {
      "text/plain": [
       "True"
      ]
     },
     "execution_count": 353,
     "metadata": {},
     "output_type": "execute_result"
    }
   ],
   "source": [
    "'이름' in student1"
   ]
  },
  {
   "cell_type": "code",
   "execution_count": 354,
   "id": "18223a00-5913-4adb-8ff1-3c4fad0fc0c8",
   "metadata": {},
   "outputs": [
    {
     "name": "stdout",
     "output_type": "stream",
     "text": [
      "2000\n",
      "홍길동\n",
      "컴퓨터학과\n"
     ]
    }
   ],
   "source": [
    "for key in student1.keys():\n",
    "    print(student1[key])"
   ]
  },
  {
   "cell_type": "code",
   "execution_count": 360,
   "id": "c18b04b0-ba36-4176-bcdc-49d450e5c59b",
   "metadata": {},
   "outputs": [
    {
     "name": "stdout",
     "output_type": "stream",
     "text": [
      "학번 2000\n",
      "이름 홍길동\n",
      "학과 컴퓨터학과\n"
     ]
    }
   ],
   "source": [
    "for k, v in student1.items():\n",
    "    #print(student1[k])\n",
    "    print(k, v)"
   ]
  },
  {
   "cell_type": "code",
   "execution_count": 361,
   "id": "fd00bf35-5277-48c2-ac33-079062cd5ae7",
   "metadata": {},
   "outputs": [
    {
     "name": "stdin",
     "output_type": "stream",
     "text": [
      "['떡볶이', '짜장면', '라면', '피자', '맥주', '치킨', '삼겹살'] 중 좋아하는 음식은? 라면\n"
     ]
    },
    {
     "name": "stdout",
     "output_type": "stream",
     "text": [
      "<라면> 궁합 음식은 <김치>입니다.\n"
     ]
    },
    {
     "name": "stdin",
     "output_type": "stream",
     "text": [
      "['떡볶이', '짜장면', '라면', '피자', '맥주', '치킨', '삼겹살'] 중 좋아하는 음식은? 치킨\n"
     ]
    },
    {
     "name": "stdout",
     "output_type": "stream",
     "text": [
      "<치킨> 궁합 음식은 <치킨무>입니다.\n"
     ]
    },
    {
     "name": "stdin",
     "output_type": "stream",
     "text": [
      "['떡볶이', '짜장면', '라면', '피자', '맥주', '치킨', '삼겹살'] 중 좋아하는 음식은? 무\n"
     ]
    },
    {
     "name": "stdout",
     "output_type": "stream",
     "text": [
      "그런 음식이 없습니다. 확인해 보세요.\n"
     ]
    },
    {
     "name": "stdin",
     "output_type": "stream",
     "text": [
      "['떡볶이', '짜장면', '라면', '피자', '맥주', '치킨', '삼겹살'] 중 좋아하는 음식은? 끝\n"
     ]
    }
   ],
   "source": [
    "## 변수 선언 부분 ##\n",
    "foods = {\"떡볶이\":\"오뎅\", \n",
    "            \"짜장면\":\"단무지\",\n",
    "            \"라면\":\"김치\",\n",
    "            \"피자\":\"피클\",b\n",
    "            \"맥주\":\"땅콩\",\n",
    "            \"치킨\":\"치킨무\",\n",
    "            \"삼겹살\":\"상추\" };\n",
    "\n",
    "## 메인 코드 부분 ##\n",
    "while (True) :\n",
    "    myfood = input(str(list(foods.keys())) + \" 중 좋아하는 음식은?\")\n",
    "    if myfood in foods :\n",
    "        print(\"<%s> 궁합 음식은 <%s>입니다.\" % (myfood, foods.get(myfood)))\n",
    "    elif myfood == \"끝\" :\n",
    "        break\n",
    "    else :\n",
    "        print(\"그런 음식이 없습니다. 확인해 보세요.\")\n"
   ]
  },
  {
   "cell_type": "code",
   "execution_count": 362,
   "id": "36cf7cec-a346-41fd-a8cf-0238e497b278",
   "metadata": {},
   "outputs": [
    {
     "name": "stdin",
     "output_type": "stream",
     "text": [
      "['닭', '개', '곰', '고등어', '명태', '말', '호랑이'] 중 새끼 이름을 알고 싶은 동물은? 닭\n"
     ]
    },
    {
     "name": "stdout",
     "output_type": "stream",
     "text": [
      "<닭>의 새끼는 <오뎅>입니다.\n"
     ]
    },
    {
     "name": "stdin",
     "output_type": "stream",
     "text": [
      "['닭', '개', '곰', '고등어', '명태', '말', '호랑이'] 중 새끼 이름을 알고 싶은 동물은? 곰\n"
     ]
    },
    {
     "name": "stdout",
     "output_type": "stream",
     "text": [
      "<곰>의 새끼는 <김치>입니다.\n"
     ]
    },
    {
     "name": "stdin",
     "output_type": "stream",
     "text": [
      "['닭', '개', '곰', '고등어', '명태', '말', '호랑이'] 중 새끼 이름을 알고 싶은 동물은? 이\n"
     ]
    },
    {
     "name": "stdout",
     "output_type": "stream",
     "text": [
      "그런 동물이 없습니다. 확인해 보세요.\n"
     ]
    },
    {
     "name": "stdin",
     "output_type": "stream",
     "text": [
      "['닭', '개', '곰', '고등어', '명태', '말', '호랑이'] 중 새끼 이름을 알고 싶은 동물은? 끝\n"
     ]
    }
   ],
   "source": [
    "## 변수 선언 부분 ##\n",
    "foods = {\"닭\":\"오뎅\", \n",
    "            \"개\":\"단무지\",\n",
    "            \"곰\":\"김치\",\n",
    "            \"고등어\":\"피클\",\n",
    "            \"명태\":\"땅콩\",\n",
    "            \"말\":\"치킨무\",\n",
    "            \"호랑이\":\"상추\" };\n",
    "\n",
    "## 메인 코드 부분 ##\n",
    "while (True) :\n",
    "    myfood = input(str(list(foods.keys())) + \" 중 새끼 이름을 알고 싶은 동물은?\")\n",
    "    if myfood in foods :\n",
    "        print(\"<%s>의 새끼는 <%s>입니다.\" % (myfood, foods.get(myfood)))\n",
    "    elif myfood == \"끝\" :\n",
    "        break\n",
    "    else :\n",
    "        print(\"그런 동물이 없습니다. 확인해 보세요.\")\n"
   ]
  },
  {
   "cell_type": "code",
   "execution_count": 376,
   "id": "45b2ee62-8cd4-4597-bf48-5addc1bb8dff",
   "metadata": {},
   "outputs": [
    {
     "name": "stdin",
     "output_type": "stream",
     "text": [
      "['떡볶이', '짜장면', '라면', '피자', '맥주', '치킨', '삼겹살']중 좋아하는 음식은? 라면\n"
     ]
    },
    {
     "name": "stdout",
     "output_type": "stream",
     "text": [
      "<라면> 궁합 음식은 <김치>\n"
     ]
    },
    {
     "name": "stdin",
     "output_type": "stream",
     "text": [
      "['떡볶이', '짜장면', '라면', '피자', '맥주', '치킨', '삼겹살']중 좋아하는 음식은? 무\n"
     ]
    },
    {
     "name": "stdout",
     "output_type": "stream",
     "text": [
      "그런음식없습니다\n"
     ]
    },
    {
     "name": "stdin",
     "output_type": "stream",
     "text": [
      "['떡볶이', '짜장면', '라면', '피자', '맥주', '치킨', '삼겹살']중 좋아하는 음식은? 끝\n"
     ]
    }
   ],
   "source": [
    "## 변수 선언 부분 ##\n",
    "foods = {\"떡볶이\":\"오뎅\", \n",
    "            \"짜장면\":\"단무지\",\n",
    "            \"라면\":\"김치\",\n",
    "            \"피자\":\"피클\",\n",
    "            \"맥주\":\"땅콩\",\n",
    "            \"치킨\":\"치킨무\",\n",
    "            \"삼겹살\":\"상추\" };\n",
    "\n",
    "while True:\n",
    "    foodname = input(str(list(foods.keys()))+'중 좋아하는 음식은?')\n",
    "    if foodname in foods :\n",
    "        print(f\"<{foodname}> 궁합 음식은 <{foods[foodname]}>\")\n",
    "    elif foodname =='끝':\n",
    "        break\n",
    "    else:\n",
    "        print('그런음식없습니다')\n"
   ]
  },
  {
   "cell_type": "code",
   "execution_count": null,
   "id": "d69a08d8-d10d-4814-81cc-bfd6c5b64c8e",
   "metadata": {},
   "outputs": [],
   "source": []
  },
  {
   "cell_type": "markdown",
   "id": "c90866bf-adf1-4290-918d-e34c64bfbd1f",
   "metadata": {},
   "source": [
    "# 세트"
   ]
  },
  {
   "cell_type": "code",
   "execution_count": 378,
   "id": "e06cf618-3c69-4843-97f3-84f5b8312791",
   "metadata": {},
   "outputs": [
    {
     "data": {
      "text/plain": [
       "{1, 2, 3}"
      ]
     },
     "execution_count": 378,
     "metadata": {},
     "output_type": "execute_result"
    }
   ],
   "source": [
    "s1 ={ 1,2,3, 3,3,3,3,}\n",
    "s1"
   ]
  },
  {
   "cell_type": "code",
   "execution_count": 379,
   "id": "edbb1a70-1f67-4657-a81c-b48324da5d7d",
   "metadata": {},
   "outputs": [],
   "source": [
    "s2 =set()"
   ]
  },
  {
   "cell_type": "code",
   "execution_count": 380,
   "id": "b2d30cb3-9d8e-4cdf-9720-ff3820daacaf",
   "metadata": {},
   "outputs": [
    {
     "data": {
      "text/plain": [
       "set()"
      ]
     },
     "execution_count": 380,
     "metadata": {},
     "output_type": "execute_result"
    }
   ],
   "source": [
    "s2"
   ]
  },
  {
   "cell_type": "code",
   "execution_count": 381,
   "id": "c8dbbba2-665b-4e78-ba58-6821c199e2d6",
   "metadata": {},
   "outputs": [
    {
     "data": {
      "text/plain": [
       "{'1', '2'}"
      ]
     },
     "execution_count": 381,
     "metadata": {},
     "output_type": "execute_result"
    }
   ],
   "source": [
    "seli = ['1','1','2']\n",
    "set(seli)"
   ]
  },
  {
   "cell_type": "code",
   "execution_count": 385,
   "id": "c5f16b7f-333f-4fb7-b9d3-65e12a563157",
   "metadata": {},
   "outputs": [
    {
     "data": {
      "text/plain": [
       "{1, 2, 3, 6, 7}"
      ]
     },
     "execution_count": 385,
     "metadata": {},
     "output_type": "execute_result"
    }
   ],
   "source": [
    "mySet1 = {1,2,3,4,5}\n",
    "mySet2 = {4, 5, 6, 7}\n",
    "mySet1 & mySet2\n",
    "mySet1 | mySet2\n",
    "mySet1 - mySet2\n",
    "mySet1 ^ mySet2\n",
    "mySet1.intersection(mySet2)\n",
    "mySet1.union(mySet2)\n",
    "mySet1.difference(mySet2)\n",
    "mySet1.symmetric_difference(mySet2)"
   ]
  },
  {
   "cell_type": "markdown",
   "id": "7545bd66-57e0-423d-9486-76d11636b1dc",
   "metadata": {},
   "source": [
    "# 컴프리헨션"
   ]
  },
  {
   "cell_type": "code",
   "execution_count": 386,
   "id": "98898781-99a7-4db4-89f9-1fcfe2b45e37",
   "metadata": {},
   "outputs": [
    {
     "data": {
      "text/plain": [
       "[2, 4, 6, 8, 10]"
      ]
     },
     "execution_count": 386,
     "metadata": {},
     "output_type": "execute_result"
    }
   ],
   "source": [
    "mylist = [num*2 for num in range(1,6)]\n",
    "mylist"
   ]
  },
  {
   "cell_type": "code",
   "execution_count": 391,
   "id": "e3fe687f-e31e-42f2-88ae-118ed1ef83de",
   "metadata": {},
   "outputs": [
    {
     "data": {
      "text/plain": [
       "[4, 8]"
      ]
     },
     "execution_count": 391,
     "metadata": {},
     "output_type": "execute_result"
    }
   ],
   "source": [
    "mylist = [num for num in range(1,6) if num%2==0]\n",
    "mylist"
   ]
  },
  {
   "cell_type": "code",
   "execution_count": 392,
   "id": "360f55e2-41bc-4763-a4d4-503c547e7d4c",
   "metadata": {},
   "outputs": [
    {
     "name": "stdout",
     "output_type": "stream",
     "text": [
      "1 -1\n",
      "2 -2\n",
      "3 -3\n"
     ]
    }
   ],
   "source": [
    "foods = ['1','2','3','4','5']\n",
    "side = [-1,-2,-3]\n",
    "for f, s in zip(foods,side):\n",
    "    print(f, s)"
   ]
  },
  {
   "cell_type": "code",
   "execution_count": 396,
   "id": "8cecb1a9-e852-4d4a-b192-9840e94fd5f7",
   "metadata": {},
   "outputs": [
    {
     "name": "stdout",
     "output_type": "stream",
     "text": [
      "[('1', -1), ('2', -2), ('3', -3)]\n",
      "{'1': -1, '2': -2, '3': -3}\n",
      "<class 'list'>\n",
      "<class 'dict'>\n"
     ]
    }
   ],
   "source": [
    "foods = ['1','2','3','4','5']\n",
    "side = [-1,-2,-3]\n",
    "tuplist=list(zip(foods,side))\n",
    "dic=dict(zip(foods,side))\n",
    "print(tuplist)\n",
    "print(dic)\n",
    "print(type(tuplist))\n",
    "print(type(dic))"
   ]
  },
  {
   "cell_type": "markdown",
   "id": "0d7b2833-815d-403b-9270-1e507756f6b6",
   "metadata": {},
   "source": [
    "# 복사 : 얕은 복사/깊은복사\n",
    "    - copy by value\n",
    "    - copy by reference"
   ]
  },
  {
   "cell_type": "code",
   "execution_count": 402,
   "id": "6920b6a1-9a1a-4132-a514-734dc331f705",
   "metadata": {},
   "outputs": [
    {
     "name": "stdout",
     "output_type": "stream",
     "text": [
      "1833363806784\n",
      "1833363806784\n",
      "['짜장면', '탕수육', '군만두']\n",
      "['짜장면', '탕수육', '군만두']\n"
     ]
    }
   ],
   "source": [
    "oldlist=['짜장면', '탕수육', '군만두']\n",
    "newlist=oldlist\n",
    "print(id(newlist))\n",
    "print(id(oldlist))\n",
    "print(newlist)\n",
    "print(oldlist)"
   ]
  },
  {
   "cell_type": "code",
   "execution_count": 403,
   "id": "760e9ed5-ecd7-4ab0-b699-aa1a5454649e",
   "metadata": {},
   "outputs": [
    {
     "name": "stdout",
     "output_type": "stream",
     "text": [
      "1833363806784\n",
      "1833363806784\n",
      "1833363806784\n",
      "1833363806784\n",
      "['짬뽕', '탕수육', '군만두', '깐풍기']\n",
      "['짬뽕', '탕수육', '군만두', '깐풍기']\n"
     ]
    }
   ],
   "source": [
    "oldlist[0]='짬뽕'\n",
    "print(id(newlist))\n",
    "print(id(oldlist))\n",
    "oldlist.append('깐풍기')\n",
    "print(id(newlist))\n",
    "print(id(oldlist))\n",
    "print(newlist)\n",
    "print(oldlist)"
   ]
  },
  {
   "cell_type": "code",
   "execution_count": 404,
   "id": "dfab06d3-e7ee-46a7-8765-778c319fed09",
   "metadata": {},
   "outputs": [
    {
     "name": "stdout",
     "output_type": "stream",
     "text": [
      "1833368175488\n",
      "1833368177856\n"
     ]
    }
   ],
   "source": [
    "a = [1,2,3,4]\n",
    "b = [1,2,3,4]\n",
    "print(id(a))\n",
    "print(id(b))\n"
   ]
  },
  {
   "cell_type": "code",
   "execution_count": null,
   "id": "140382a2-8f24-4f80-8253-bd1e063ba4c4",
   "metadata": {},
   "outputs": [],
   "source": []
  },
  {
   "cell_type": "code",
   "execution_count": 420,
   "id": "973ef8f0-0314-4251-8b13-8d9a9b2e770d",
   "metadata": {},
   "outputs": [
    {
     "name": "stdout",
     "output_type": "stream",
     "text": [
      "[1, 2, 3]\n",
      "[1, 2]\n"
     ]
    }
   ],
   "source": [
    "a = []\n",
    "a.append(1) #스택삽입\n",
    "a.append(2)\n",
    "a.append(3)\n",
    "print(a)\n",
    "a.pop()       #스택 삭제\n",
    "print(a)"
   ]
  },
  {
   "cell_type": "code",
   "execution_count": 424,
   "id": "c01e2500-8c5a-45f8-9b48-012ccf0e71bb",
   "metadata": {},
   "outputs": [
    {
     "name": "stdout",
     "output_type": "stream",
     "text": [
      "[1, 2, 3]\n",
      "[2, 3]\n"
     ]
    }
   ],
   "source": [
    "b = []\n",
    "b.append(1)       #삽입\n",
    "b.append(2)      \n",
    "b.append(3)      \n",
    "print(b)\n",
    "#del(b[0])          # 삭제\n",
    "b.pop(0)\n",
    "print(b)"
   ]
  },
  {
   "cell_type": "code",
   "execution_count": null,
   "id": "8ab7fd2a-ce4b-4296-aa59-44f8cb425d53",
   "metadata": {},
   "outputs": [],
   "source": []
  }
 ],
 "metadata": {
  "kernelspec": {
   "display_name": "Python 3 (ipykernel)",
   "language": "python",
   "name": "python3"
  },
  "language_info": {
   "codemirror_mode": {
    "name": "ipython",
    "version": 3
   },
   "file_extension": ".py",
   "mimetype": "text/x-python",
   "name": "python",
   "nbconvert_exporter": "python",
   "pygments_lexer": "ipython3",
   "version": "3.9.7"
  }
 },
 "nbformat": 4,
 "nbformat_minor": 5
}
