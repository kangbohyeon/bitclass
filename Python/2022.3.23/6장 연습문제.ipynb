{
 "cells": [
  {
   "cell_type": "code",
   "execution_count": null,
   "id": "ec538fe5-1d02-468b-b320-f6cb54b798b0",
   "metadata": {},
   "outputs": [],
   "source": [
    "#1\n",
    "# for 변수 in range(시작값,끝값+1,증가값)"
   ]
  },
  {
   "cell_type": "code",
   "execution_count": 1,
   "id": "f8a17165-f0b0-450f-902a-8a50c02e8e4b",
   "metadata": {},
   "outputs": [],
   "source": [
    "#2 -4번"
   ]
  },
  {
   "cell_type": "code",
   "execution_count": 14,
   "id": "43c574f8-e320-485b-873b-37a5adf0285d",
   "metadata": {},
   "outputs": [
    {
     "name": "stdout",
     "output_type": "stream",
     "text": [
      "5\n",
      "4\n",
      "3\n",
      "2\n",
      "1\n",
      "0\n"
     ]
    }
   ],
   "source": [
    "#3 -4번\n",
    "for i in range(5,-1,-1):\n",
    "    print(\"%d\"%i)"
   ]
  },
  {
   "cell_type": "code",
   "execution_count": 3,
   "id": "792723cd-a53b-4995-814f-d0479b097843",
   "metadata": {},
   "outputs": [
    {
     "name": "stdout",
     "output_type": "stream",
     "text": [
      "99700\n"
     ]
    }
   ],
   "source": [
    "#4-4번\n",
    "hap = 0\n",
    "for i in range(1,1001,5):\n",
    "    hap+=i\n",
    "print(hap)"
   ]
  },
  {
   "cell_type": "code",
   "execution_count": 17,
   "id": "1a502251-2d16-47af-91a9-6567f093054f",
   "metadata": {},
   "outputs": [
    {
     "name": "stdout",
     "output_type": "stream",
     "text": [
      "15 X 9 = 135\n",
      "15 X 8 = 120\n",
      "15 X 7 = 105\n",
      "15 X 6 = 90\n",
      "15 X 5 = 75\n",
      "15 X 4 = 60\n",
      "15 X 3 = 45\n",
      "15 X 2 = 30\n",
      "15 X 1 = 15\n"
     ]
    }
   ],
   "source": [
    "#5\n",
    "dan = 15\n",
    "for i in range(9,0,-1):\n",
    "    print(f\"{dan} X {i} = {dan*i}\")"
   ]
  },
  {
   "cell_type": "code",
   "execution_count": 6,
   "id": "1618d592-dfca-43fb-ae48-f308cd82c600",
   "metadata": {},
   "outputs": [
    {
     "name": "stdout",
     "output_type": "stream",
     "text": [
      "쿡북~\n",
      "쿡북~\n",
      "쿡북~\n",
      "쿡북~\n",
      "쿡북~\n",
      "쿡북~\n",
      "쿡북~\n",
      "쿡북~\n",
      "쿡북~\n",
      "쿡북~\n",
      "쿡북~\n",
      "쿡북~\n",
      "쿡북~\n",
      "쿡북~\n",
      "쿡북~\n",
      "쿡북~\n",
      "쿡북~\n",
      "쿡북~\n",
      "쿡북~\n",
      "쿡북~\n",
      "쿡북~\n",
      "쿡북~\n",
      "쿡북~\n",
      "쿡북~\n",
      "24\n"
     ]
    }
   ],
   "source": [
    "#6\n",
    "count =0\n",
    "for i in range(4):\n",
    "    for j in range(3):\n",
    "        for k in range(2):\n",
    "            print(\"쿡북~\")\n",
    "            count+=1\n",
    "print(count)"
   ]
  },
  {
   "cell_type": "code",
   "execution_count": 4,
   "id": "e46f05e0-918a-486f-bd48-2da73a1a754c",
   "metadata": {},
   "outputs": [],
   "source": [
    "#7 -3번"
   ]
  },
  {
   "cell_type": "code",
   "execution_count": 19,
   "id": "73a26628-c673-4675-9071-23c02adf7eeb",
   "metadata": {},
   "outputs": [
    {
     "name": "stdout",
     "output_type": "stream",
     "text": [
      "23088\n"
     ]
    }
   ],
   "source": [
    "#8-1\n",
    "#for\n",
    "hap =0\n",
    "for n in range(1234,4568):\n",
    "    if n%444==0:\n",
    "        hap +=n\n",
    "\n",
    "print(hap)"
   ]
  },
  {
   "cell_type": "code",
   "execution_count": 20,
   "id": "ed7afde5-b914-4a68-887a-5935851f670c",
   "metadata": {},
   "outputs": [
    {
     "name": "stdout",
     "output_type": "stream",
     "text": [
      "23088\n"
     ]
    }
   ],
   "source": [
    "# 8-2\n",
    "hap =0\n",
    "i=1234\n",
    "while True:\n",
    "    if i%444==0:\n",
    "        hap+=i\n",
    "    if i==4567:\n",
    "        break\n",
    "    i+=1\n",
    "print(hap)"
   ]
  },
  {
   "cell_type": "code",
   "execution_count": 21,
   "id": "2f285162-dcbb-4553-9caa-70b3c26d275b",
   "metadata": {},
   "outputs": [
    {
     "name": "stdout",
     "output_type": "stream",
     "text": [
      "23088\n"
     ]
    }
   ],
   "source": [
    "# 8-3\n",
    "hap = 0\n",
    "i = 1234\n",
    "\n",
    "while i<4568:\n",
    "    if i%444==0:\n",
    "        hap+=i\n",
    "    i+=1\n",
    "print(hap)"
   ]
  },
  {
   "cell_type": "code",
   "execution_count": 9,
   "id": "6932b499-86c9-4a09-81bb-53622538360d",
   "metadata": {},
   "outputs": [
    {
     "name": "stdout",
     "output_type": "stream",
     "text": [
      "40722\n"
     ]
    }
   ],
   "source": [
    "# 9\n",
    "hap =0\n",
    "for i in range(3333,10000):\n",
    "    if hap+i>100000:\n",
    "        break\n",
    "    if i%1234!=0:\n",
    "        continue\n",
    "    hap+=i\n",
    "print(hap)"
   ]
  },
  {
   "cell_type": "code",
   "execution_count": 34,
   "id": "d342b578-ce08-4c2d-8d45-fb043b787a90",
   "metadata": {},
   "outputs": [
    {
     "name": "stdin",
     "output_type": "stream",
     "text": [
      "숫자를 여러 개 입력하세요:  5914\n"
     ]
    },
    {
     "name": "stdout",
     "output_type": "stream",
     "text": [
      "★ ★ ★ ★ ★ ★ ★ ★ ★ ★ \n",
      "★ ★ ★ ★ ★ ★ ★ ★ ★ ★ ★ ★ ★ ★ ★ ★ ★ ★ \n",
      "★ ★ \n",
      "★ ★ ★ ★ ★ ★ ★ ★ \n"
     ]
    }
   ],
   "source": [
    "# 10\n",
    "n = input('숫자를 여러 개 입력하세요: ')\n",
    "for i in n:\n",
    "    a = int(i)*2\n",
    "    for j in range(a):\n",
    "        print('\\u2605',end=' ')\n",
    "    print()"
   ]
  },
  {
   "cell_type": "code",
   "execution_count": 4,
   "id": "a2c116e4-cb17-4deb-9b56-74ac13b207d8",
   "metadata": {},
   "outputs": [
    {
     "name": "stdout",
     "output_type": "stream",
     "text": [
      "3 5 7 11 13 17 19 23 29 31 37 41 43 47 53 59 61 67 71 73 79 83 89 97 "
     ]
    }
   ],
   "source": [
    "# 11\n",
    "for i in range(3,101):\n",
    "    flag=0\n",
    "    for j in range(2,i):\n",
    "        if i%j==0:\n",
    "            flag=1\n",
    "            break\n",
    "    if flag==0:\n",
    "        print(i,end=' ')"
   ]
  },
  {
   "cell_type": "code",
   "execution_count": null,
   "id": "43854061-2484-4f54-ace3-e2606585cad8",
   "metadata": {},
   "outputs": [],
   "source": []
  }
 ],
 "metadata": {
  "kernelspec": {
   "display_name": "Python 3 (ipykernel)",
   "language": "python",
   "name": "python3"
  },
  "language_info": {
   "codemirror_mode": {
    "name": "ipython",
    "version": 3
   },
   "file_extension": ".py",
   "mimetype": "text/x-python",
   "name": "python",
   "nbconvert_exporter": "python",
   "pygments_lexer": "ipython3",
   "version": "3.9.7"
  }
 },
 "nbformat": 4,
 "nbformat_minor": 5
}
