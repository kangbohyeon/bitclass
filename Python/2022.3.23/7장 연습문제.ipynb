{
 "cells": [
  {
   "cell_type": "markdown",
   "id": "dbe1fe52-47b5-49b3-aeed-7c5a3023afef",
   "metadata": {},
   "source": [
    "# 스택\n",
    "<img src = 'https://t1.daumcdn.net/cfile/tistory/99BF11415AB4C98120?download'>\n",
    "\n",
    "    - 스택은 push와 pop이라는 기능을 가지고 있습니다.\n",
    "\n",
    "    - 스택 자료구조는 말 그대로, 쌓아 올리는 것과 같은 자료구조\n",
    "\n",
    "    - push은 item을 쌓아올리는 기능이고, pop은 쌓여져 있는 item에서 제일 위의 것을 꺼내는 작업\n",
    "\n",
    "    - 스택 자료구조는 Last In First Out(LIFO)\n",
    "\n",
    "\n"
   ]
  },
  {
   "cell_type": "code",
   "execution_count": 420,
   "id": "d22fb20b-e6ec-4355-804d-c8196bcbf91c",
   "metadata": {},
   "outputs": [
    {
     "name": "stdout",
     "output_type": "stream",
     "text": [
      "[1, 2, 3]\n",
      "[1, 2]\n"
     ]
    }
   ],
   "source": [
    "a = []\n",
    "a.append(1) #스택삽입\n",
    "a.append(2)\n",
    "a.append(3)\n",
    "print(a)\n",
    "a.pop()       #스택 삭제\n",
    "print(a)"
   ]
  },
  {
   "cell_type": "markdown",
   "id": "90834ac0-aa7d-47d8-adc1-de034885e3e3",
   "metadata": {},
   "source": [
    "# 큐\n",
    "<img src=https://t1.daumcdn.net/cfile/tistory/9967AB505AB4D2251C?download>\n",
    "\n",
    "- FIFO(first in first out)\n",
    "- 큐 자료구조는 위의 그림과 같이 요소(item)을 삽입하는 Enqueue 기능과 요소를 빼내는 Dequeue 기능이 있습니다.\n"
   ]
  },
  {
   "cell_type": "code",
   "execution_count": 424,
   "id": "c5990ab9-612d-40dc-b063-b106c92439f0",
   "metadata": {},
   "outputs": [
    {
     "name": "stdout",
     "output_type": "stream",
     "text": [
      "[1, 2, 3]\n",
      "[2, 3]\n"
     ]
    }
   ],
   "source": [
    "b = []\n",
    "b.append(1)       #삽입\n",
    "b.append(2)      \n",
    "b.append(3)      \n",
    "print(b)\n",
    "#del(b[0])          # 삭제\n",
    "b.pop(0)\n",
    "print(b)"
   ]
  }
 ],
 "metadata": {
  "kernelspec": {
   "display_name": "Python 3 (ipykernel)",
   "language": "python",
   "name": "python3"
  },
  "language_info": {
   "codemirror_mode": {
    "name": "ipython",
    "version": 3
   },
   "file_extension": ".py",
   "mimetype": "text/x-python",
   "name": "python",
   "nbconvert_exporter": "python",
   "pygments_lexer": "ipython3",
   "version": "3.9.7"
  }
 },
 "nbformat": 4,
 "nbformat_minor": 5
}
