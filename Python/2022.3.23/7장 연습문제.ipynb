{
 "cells": [
  {
   "cell_type": "markdown",
   "id": "dbe1fe52-47b5-49b3-aeed-7c5a3023afef",
   "metadata": {},
   "source": [
    "# 스택\n",
    "<img src = 'https://t1.daumcdn.net/cfile/tistory/99BF11415AB4C98120?download'>\n",
    "\n",
    "    - 스택은 push와 pop이라는 기능을 가지고 있습니다.\n",
    "\n",
    "    - 스택 자료구조는 말 그대로, 쌓아 올리는 것과 같은 자료구조\n",
    "\n",
    "    - push은 item을 쌓아올리는 기능이고, pop은 쌓여져 있는 item에서 제일 위의 것을 꺼내는 작업\n",
    "\n",
    "    - 스택 자료구조는 Last In First Out(LIFO)\n",
    "\n",
    "\n"
   ]
  },
  {
   "cell_type": "code",
   "execution_count": 420,
   "id": "d22fb20b-e6ec-4355-804d-c8196bcbf91c",
   "metadata": {},
   "outputs": [
    {
     "name": "stdout",
     "output_type": "stream",
     "text": [
      "[1, 2, 3]\n",
      "[1, 2]\n"
     ]
    }
   ],
   "source": [
    "a = []\n",
    "a.append(1) #스택삽입\n",
    "a.append(2)\n",
    "a.append(3)\n",
    "print(a)\n",
    "a.pop()       #스택 삭제\n",
    "print(a)"
   ]
  },
  {
   "cell_type": "markdown",
   "id": "90834ac0-aa7d-47d8-adc1-de034885e3e3",
   "metadata": {},
   "source": [
    "# 큐\n",
    "<img src=https://t1.daumcdn.net/cfile/tistory/9967AB505AB4D2251C?download>\n",
    "\n",
    "- FIFO(first in first out)\n",
    "- 큐 자료구조는 위의 그림과 같이 요소(item)을 삽입하는 Enqueue 기능과 요소를 빼내는 Dequeue 기능이 있습니다.\n"
   ]
  },
  {
   "cell_type": "code",
   "execution_count": 3,
   "id": "c5990ab9-612d-40dc-b063-b106c92439f0",
   "metadata": {},
   "outputs": [
    {
     "name": "stdout",
     "output_type": "stream",
     "text": [
      "[1, 2, 3]\n",
      "[2, 3]\n"
     ]
    }
   ],
   "source": [
    "b = []\n",
    "b.append(1)       #삽입\n",
    "b.append(2)      \n",
    "b.append(3)      \n",
    "print(b)\n",
    "#del(b[0])          # 삭제\n",
    "b.pop(0)\n",
    "print(b)"
   ]
  },
  {
   "cell_type": "code",
   "execution_count": 43,
   "id": "ffb19c1d-e8d2-4c6b-b774-095b31085c1a",
   "metadata": {},
   "outputs": [],
   "source": [
    "#1 -2번"
   ]
  },
  {
   "cell_type": "code",
   "execution_count": 43,
   "id": "48cc59a1-7e7b-40a0-8bfd-bbc5df4f8d81",
   "metadata": {},
   "outputs": [
    {
     "data": {
      "text/plain": [
       "8"
      ]
     },
     "execution_count": 43,
     "metadata": {},
     "output_type": "execute_result"
    }
   ],
   "source": [
    "import random\n",
    "random.randrange(1,10)"
   ]
  },
  {
   "cell_type": "code",
   "execution_count": 3,
   "id": "14760317-7485-4693-b390-868aae623fb6",
   "metadata": {},
   "outputs": [
    {
     "name": "stdout",
     "output_type": "stream",
     "text": [
      "[1, 75, 6, 20, 46, 90, 35, 96, 1, 57]\n",
      "427\n"
     ]
    }
   ],
   "source": [
    "#2\n",
    "import random\n",
    "nn = []\n",
    "for _ in range(10):\n",
    "    num=random.randrange(1,100)\n",
    "    nn.append(num)\n",
    "hap = 0\n",
    "for i in range(10):\n",
    "    num =nn[i]\n",
    "    hap += num\n",
    "print(hap)"
   ]
  },
  {
   "cell_type": "code",
   "execution_count": null,
   "id": "51767de0-a83e-4dcc-9b92-004a1967d16a",
   "metadata": {},
   "outputs": [],
   "source": [
    "#3 -1,2,3,4번"
   ]
  },
  {
   "cell_type": "code",
   "execution_count": 1,
   "id": "395d6eae-fa0e-4964-ac1f-fc4e007af305",
   "metadata": {
    "tags": []
   },
   "outputs": [
    {
     "name": "stdout",
     "output_type": "stream",
     "text": [
      "[1, 2, 3, 4]\n",
      "[4, 3, 2, 1]\n"
     ]
    }
   ],
   "source": [
    "#4 -2번\n",
    "ary1=[1,2,3,4]\n",
    "ary2=[]\n",
    "for i in range(3,-1,-1):\n",
    "    ary2.append(ary1[i])\n",
    "print(ary1)\n",
    "print(ary2)\n"
   ]
  },
  {
   "cell_type": "code",
   "execution_count": 16,
   "id": "4e759a3e-a73c-4291-8a76-5d358cb453b4",
   "metadata": {},
   "outputs": [],
   "source": [
    "#5\n",
    "nn = [100,200,300,400,500]\n",
    "\n",
    "# 1. nn[4] = 500\n",
    "# 2. nn[-1] = 500\n",
    "# 3. nn[-2] = 400\n",
    "# 4. nn[1:4] = [200, 300, 400]\n",
    "# 5. nn[0:1] = [100]\n",
    "# 6. nn[2:-1] = [300, 400]\n",
    "# 7. nn[0:2] = [100, 200]\n",
    "# 8. nn[::-1] = [500 ,400 ,300 ,200 ,100]\n",
    "# 9. nn[::-2] = [500 ,300 ,100]"
   ]
  },
  {
   "cell_type": "code",
   "execution_count": 23,
   "id": "4743a53c-5afb-4749-9a86-68fb66b77e50",
   "metadata": {},
   "outputs": [],
   "source": [
    "#6\n",
    "nn = [100,200,300,400,500]\n",
    "#1. nn[1]=777 => [100,777,300,400,500]\n",
    "#2. nn[1]= =>[444,555] [100,[444,555],300,400,500]\n",
    "#3. nn[1:4]=[444,555] => [100,444,555,500]\n",
    "#4. nn[2:]=[] => [100,200]"
   ]
  },
  {
   "cell_type": "code",
   "execution_count": 25,
   "id": "3eff3802-3ec1-4136-b4be-dd2c8833b4d5",
   "metadata": {},
   "outputs": [],
   "source": [
    "#7\n",
    "#1.len()\n",
    "#2.extend()\n",
    "#3.pop()\n",
    "#4.index()\n",
    "#5.count()"
   ]
  },
  {
   "cell_type": "code",
   "execution_count": 26,
   "id": "1eb3684e-bdcb-4d45-a9cb-2f5422a12176",
   "metadata": {},
   "outputs": [],
   "source": [
    "#8 -2번"
   ]
  },
  {
   "cell_type": "code",
   "execution_count": 31,
   "id": "1a3c77a7-62b2-4540-a6c6-47ef7672cd32",
   "metadata": {},
   "outputs": [],
   "source": [
    "#9\n",
    "myList =[[1,2,3,4],[5,6,7,8],[9,10,11,12]]\n",
    "#1 myList[0][1] = 2\n",
    "#1 myList[1][3] = 8\n",
    "#1 myList[2] = [9,10,11,12]"
   ]
  },
  {
   "cell_type": "code",
   "execution_count": 35,
   "id": "ed04acac-bc2a-4eac-8a87-4a1aefc2bac9",
   "metadata": {},
   "outputs": [],
   "source": [
    "#10 -4,5"
   ]
  },
  {
   "cell_type": "code",
   "execution_count": 36,
   "id": "a204d00a-cf44-428d-a52c-e187f751ee0c",
   "metadata": {},
   "outputs": [],
   "source": [
    "#11 -5"
   ]
  },
  {
   "cell_type": "code",
   "execution_count": 37,
   "id": "b001966b-c50c-4b05-9dd6-2167b824bc7e",
   "metadata": {},
   "outputs": [],
   "source": [
    "#12 \n",
    "# 1 - 나\n",
    "# 2 - 다\n",
    "# 3 - 가\n",
    "# 4 - 라"
   ]
  },
  {
   "cell_type": "code",
   "execution_count": 38,
   "id": "36d7511e-4518-47fb-8858-479c22cdcab8",
   "metadata": {},
   "outputs": [],
   "source": [
    "#13 - 1,5"
   ]
  },
  {
   "cell_type": "code",
   "execution_count": 6,
   "id": "d87d137c-ca98-4707-9e92-4afd4b60805a",
   "metadata": {},
   "outputs": [
    {
     "data": {
      "text/plain": [
       "([1, 2, 3, 4], [1, 2, 3, 4])"
      ]
     },
     "execution_count": 6,
     "metadata": {},
     "output_type": "execute_result"
    }
   ],
   "source": [
    "oldlist = [1,2,3,4]\n",
    "newlist= []\n",
    "newlist[:]=oldlist\n",
    "newlist,oldlist"
   ]
  },
  {
   "cell_type": "code",
   "execution_count": 5,
   "id": "aecfd287-ad90-4b20-b5ea-d506c5aca36d",
   "metadata": {},
   "outputs": [
    {
     "data": {
      "text/plain": [
       "(2512759422464, 2512758661184)"
      ]
     },
     "execution_count": 5,
     "metadata": {},
     "output_type": "execute_result"
    }
   ],
   "source": [
    "id(newlist), id(oldlist)"
   ]
  },
  {
   "cell_type": "code",
   "execution_count": 43,
   "id": "133dd85b-e4da-4aa0-900a-0b76893505ec",
   "metadata": {},
   "outputs": [],
   "source": [
    "#14 [[2,4],[3,6]]"
   ]
  }
 ],
 "metadata": {
  "kernelspec": {
   "display_name": "Python 3 (ipykernel)",
   "language": "python",
   "name": "python3"
  },
  "language_info": {
   "codemirror_mode": {
    "name": "ipython",
    "version": 3
   },
   "file_extension": ".py",
   "mimetype": "text/x-python",
   "name": "python",
   "nbconvert_exporter": "python",
   "pygments_lexer": "ipython3",
   "version": "3.9.7"
  }
 },
 "nbformat": 4,
 "nbformat_minor": 5
}
