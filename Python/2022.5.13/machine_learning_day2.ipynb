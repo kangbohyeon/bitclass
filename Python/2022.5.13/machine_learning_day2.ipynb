{
  "nbformat": 4,
  "nbformat_minor": 0,
  "metadata": {
    "colab": {
      "name": " machine_learning_day2.ipynb",
      "provenance": [],
      "collapsed_sections": [
        "dxuRPjfYwKjm",
        "CKFjB2o4Oa9W"
      ]
    },
    "kernelspec": {
      "name": "python3",
      "display_name": "Python 3"
    },
    "language_info": {
      "name": "python"
    }
  },
  "cells": [
    {
      "cell_type": "markdown",
      "source": [
        "# k-최근접 이웃회귀\n",
        "\n",
        "KNN을 활용할하기기 꺼려지는는 상황"
      ],
      "metadata": {
        "id": "dxuRPjfYwKjm"
      }
    },
    {
      "cell_type": "code",
      "execution_count": null,
      "metadata": {
        "colab": {
          "base_uri": "https://localhost:8080/",
          "height": 1000
        },
        "id": "3dB6KRJsvJLY",
        "outputId": "93940b8f-d05b-4c70-e494-7246003fa22c"
      },
      "outputs": [
        {
          "output_type": "execute_result",
          "data": {
            "text/plain": [
              "    Species  Weight  Length1  Length2  Length3   Height   Width\n",
              "72    Perch     5.9      7.5      8.4      8.8   2.1120  1.4080\n",
              "73    Perch    32.0     12.5     13.7     14.7   3.5280  1.9992\n",
              "74    Perch    40.0     13.8     15.0     16.0   3.8240  2.4320\n",
              "75    Perch    51.5     15.0     16.2     17.2   4.5924  2.6316\n",
              "76    Perch    70.0     15.7     17.4     18.5   4.5880  2.9415\n",
              "77    Perch   100.0     16.2     18.0     19.2   5.2224  3.3216\n",
              "78    Perch    78.0     16.8     18.7     19.4   5.1992  3.1234\n",
              "79    Perch    80.0     17.2     19.0     20.2   5.6358  3.0502\n",
              "80    Perch    85.0     17.8     19.6     20.8   5.1376  3.0368\n",
              "81    Perch    85.0     18.2     20.0     21.0   5.0820  2.7720\n",
              "82    Perch   110.0     19.0     21.0     22.5   5.6925  3.5550\n",
              "83    Perch   115.0     19.0     21.0     22.5   5.9175  3.3075\n",
              "84    Perch   125.0     19.0     21.0     22.5   5.6925  3.6675\n",
              "85    Perch   130.0     19.3     21.3     22.8   6.3840  3.5340\n",
              "86    Perch   120.0     20.0     22.0     23.5   6.1100  3.4075\n",
              "87    Perch   120.0     20.0     22.0     23.5   5.6400  3.5250\n",
              "88    Perch   130.0     20.0     22.0     23.5   6.1100  3.5250\n",
              "89    Perch   135.0     20.0     22.0     23.5   5.8750  3.5250\n",
              "90    Perch   110.0     20.0     22.0     23.5   5.5225  3.9950\n",
              "91    Perch   130.0     20.5     22.5     24.0   5.8560  3.6240\n",
              "92    Perch   150.0     20.5     22.5     24.0   6.7920  3.6240\n",
              "93    Perch   145.0     20.7     22.7     24.2   5.9532  3.6300\n",
              "94    Perch   150.0     21.0     23.0     24.5   5.2185  3.6260\n",
              "95    Perch   170.0     21.5     23.5     25.0   6.2750  3.7250\n",
              "96    Perch   225.0     22.0     24.0     25.5   7.2930  3.7230\n",
              "97    Perch   145.0     22.0     24.0     25.5   6.3750  3.8250\n",
              "98    Perch   188.0     22.6     24.6     26.2   6.7334  4.1658\n",
              "99    Perch   180.0     23.0     25.0     26.5   6.4395  3.6835\n",
              "100   Perch   197.0     23.5     25.6     27.0   6.5610  4.2390\n",
              "101   Perch   218.0     25.0     26.5     28.0   7.1680  4.1440\n",
              "102   Perch   300.0     25.2     27.3     28.7   8.3230  5.1373\n",
              "103   Perch   260.0     25.4     27.5     28.9   7.1672  4.3350\n",
              "104   Perch   265.0     25.4     27.5     28.9   7.0516  4.3350\n",
              "105   Perch   250.0     25.4     27.5     28.9   7.2828  4.5662\n",
              "106   Perch   250.0     25.9     28.0     29.4   7.8204  4.2042\n",
              "107   Perch   300.0     26.9     28.7     30.1   7.5852  4.6354\n",
              "108   Perch   320.0     27.8     30.0     31.6   7.6156  4.7716\n",
              "109   Perch   514.0     30.5     32.8     34.0  10.0300  6.0180\n",
              "110   Perch   556.0     32.0     34.5     36.5  10.2565  6.3875\n",
              "111   Perch   840.0     32.5     35.0     37.3  11.4884  7.7957\n",
              "112   Perch   685.0     34.0     36.5     39.0  10.8810  6.8640\n",
              "113   Perch   700.0     34.0     36.0     38.3  10.6091  6.7408\n",
              "114   Perch   700.0     34.5     37.0     39.4  10.8350  6.2646\n",
              "115   Perch   690.0     34.6     37.0     39.3  10.5717  6.3666\n",
              "116   Perch   900.0     36.5     39.0     41.4  11.1366  7.4934\n",
              "117   Perch   650.0     36.5     39.0     41.4  11.1366  6.0030\n",
              "118   Perch   820.0     36.6     39.0     41.3  12.4313  7.3514\n",
              "119   Perch   850.0     36.9     40.0     42.3  11.9286  7.1064\n",
              "120   Perch   900.0     37.0     40.0     42.5  11.7300  7.2250\n",
              "121   Perch  1015.0     37.0     40.0     42.4  12.3808  7.4624\n",
              "122   Perch   820.0     37.1     40.0     42.5  11.1350  6.6300\n",
              "123   Perch  1100.0     39.0     42.0     44.6  12.8002  6.8684\n",
              "124   Perch  1000.0     39.8     43.0     45.2  11.9328  7.2772\n",
              "125   Perch  1100.0     40.1     43.0     45.5  12.5125  7.4165\n",
              "126   Perch  1000.0     40.2     43.5     46.0  12.6040  8.1420\n",
              "127   Perch  1000.0     41.1     44.0     46.6  12.4888  7.5958"
            ],
            "text/html": [
              "\n",
              "  <div id=\"df-d913d1a3-9e14-4dcb-b7d8-e19a3f88ea60\">\n",
              "    <div class=\"colab-df-container\">\n",
              "      <div>\n",
              "<style scoped>\n",
              "    .dataframe tbody tr th:only-of-type {\n",
              "        vertical-align: middle;\n",
              "    }\n",
              "\n",
              "    .dataframe tbody tr th {\n",
              "        vertical-align: top;\n",
              "    }\n",
              "\n",
              "    .dataframe thead th {\n",
              "        text-align: right;\n",
              "    }\n",
              "</style>\n",
              "<table border=\"1\" class=\"dataframe\">\n",
              "  <thead>\n",
              "    <tr style=\"text-align: right;\">\n",
              "      <th></th>\n",
              "      <th>Species</th>\n",
              "      <th>Weight</th>\n",
              "      <th>Length1</th>\n",
              "      <th>Length2</th>\n",
              "      <th>Length3</th>\n",
              "      <th>Height</th>\n",
              "      <th>Width</th>\n",
              "    </tr>\n",
              "  </thead>\n",
              "  <tbody>\n",
              "    <tr>\n",
              "      <th>72</th>\n",
              "      <td>Perch</td>\n",
              "      <td>5.9</td>\n",
              "      <td>7.5</td>\n",
              "      <td>8.4</td>\n",
              "      <td>8.8</td>\n",
              "      <td>2.1120</td>\n",
              "      <td>1.4080</td>\n",
              "    </tr>\n",
              "    <tr>\n",
              "      <th>73</th>\n",
              "      <td>Perch</td>\n",
              "      <td>32.0</td>\n",
              "      <td>12.5</td>\n",
              "      <td>13.7</td>\n",
              "      <td>14.7</td>\n",
              "      <td>3.5280</td>\n",
              "      <td>1.9992</td>\n",
              "    </tr>\n",
              "    <tr>\n",
              "      <th>74</th>\n",
              "      <td>Perch</td>\n",
              "      <td>40.0</td>\n",
              "      <td>13.8</td>\n",
              "      <td>15.0</td>\n",
              "      <td>16.0</td>\n",
              "      <td>3.8240</td>\n",
              "      <td>2.4320</td>\n",
              "    </tr>\n",
              "    <tr>\n",
              "      <th>75</th>\n",
              "      <td>Perch</td>\n",
              "      <td>51.5</td>\n",
              "      <td>15.0</td>\n",
              "      <td>16.2</td>\n",
              "      <td>17.2</td>\n",
              "      <td>4.5924</td>\n",
              "      <td>2.6316</td>\n",
              "    </tr>\n",
              "    <tr>\n",
              "      <th>76</th>\n",
              "      <td>Perch</td>\n",
              "      <td>70.0</td>\n",
              "      <td>15.7</td>\n",
              "      <td>17.4</td>\n",
              "      <td>18.5</td>\n",
              "      <td>4.5880</td>\n",
              "      <td>2.9415</td>\n",
              "    </tr>\n",
              "    <tr>\n",
              "      <th>77</th>\n",
              "      <td>Perch</td>\n",
              "      <td>100.0</td>\n",
              "      <td>16.2</td>\n",
              "      <td>18.0</td>\n",
              "      <td>19.2</td>\n",
              "      <td>5.2224</td>\n",
              "      <td>3.3216</td>\n",
              "    </tr>\n",
              "    <tr>\n",
              "      <th>78</th>\n",
              "      <td>Perch</td>\n",
              "      <td>78.0</td>\n",
              "      <td>16.8</td>\n",
              "      <td>18.7</td>\n",
              "      <td>19.4</td>\n",
              "      <td>5.1992</td>\n",
              "      <td>3.1234</td>\n",
              "    </tr>\n",
              "    <tr>\n",
              "      <th>79</th>\n",
              "      <td>Perch</td>\n",
              "      <td>80.0</td>\n",
              "      <td>17.2</td>\n",
              "      <td>19.0</td>\n",
              "      <td>20.2</td>\n",
              "      <td>5.6358</td>\n",
              "      <td>3.0502</td>\n",
              "    </tr>\n",
              "    <tr>\n",
              "      <th>80</th>\n",
              "      <td>Perch</td>\n",
              "      <td>85.0</td>\n",
              "      <td>17.8</td>\n",
              "      <td>19.6</td>\n",
              "      <td>20.8</td>\n",
              "      <td>5.1376</td>\n",
              "      <td>3.0368</td>\n",
              "    </tr>\n",
              "    <tr>\n",
              "      <th>81</th>\n",
              "      <td>Perch</td>\n",
              "      <td>85.0</td>\n",
              "      <td>18.2</td>\n",
              "      <td>20.0</td>\n",
              "      <td>21.0</td>\n",
              "      <td>5.0820</td>\n",
              "      <td>2.7720</td>\n",
              "    </tr>\n",
              "    <tr>\n",
              "      <th>82</th>\n",
              "      <td>Perch</td>\n",
              "      <td>110.0</td>\n",
              "      <td>19.0</td>\n",
              "      <td>21.0</td>\n",
              "      <td>22.5</td>\n",
              "      <td>5.6925</td>\n",
              "      <td>3.5550</td>\n",
              "    </tr>\n",
              "    <tr>\n",
              "      <th>83</th>\n",
              "      <td>Perch</td>\n",
              "      <td>115.0</td>\n",
              "      <td>19.0</td>\n",
              "      <td>21.0</td>\n",
              "      <td>22.5</td>\n",
              "      <td>5.9175</td>\n",
              "      <td>3.3075</td>\n",
              "    </tr>\n",
              "    <tr>\n",
              "      <th>84</th>\n",
              "      <td>Perch</td>\n",
              "      <td>125.0</td>\n",
              "      <td>19.0</td>\n",
              "      <td>21.0</td>\n",
              "      <td>22.5</td>\n",
              "      <td>5.6925</td>\n",
              "      <td>3.6675</td>\n",
              "    </tr>\n",
              "    <tr>\n",
              "      <th>85</th>\n",
              "      <td>Perch</td>\n",
              "      <td>130.0</td>\n",
              "      <td>19.3</td>\n",
              "      <td>21.3</td>\n",
              "      <td>22.8</td>\n",
              "      <td>6.3840</td>\n",
              "      <td>3.5340</td>\n",
              "    </tr>\n",
              "    <tr>\n",
              "      <th>86</th>\n",
              "      <td>Perch</td>\n",
              "      <td>120.0</td>\n",
              "      <td>20.0</td>\n",
              "      <td>22.0</td>\n",
              "      <td>23.5</td>\n",
              "      <td>6.1100</td>\n",
              "      <td>3.4075</td>\n",
              "    </tr>\n",
              "    <tr>\n",
              "      <th>87</th>\n",
              "      <td>Perch</td>\n",
              "      <td>120.0</td>\n",
              "      <td>20.0</td>\n",
              "      <td>22.0</td>\n",
              "      <td>23.5</td>\n",
              "      <td>5.6400</td>\n",
              "      <td>3.5250</td>\n",
              "    </tr>\n",
              "    <tr>\n",
              "      <th>88</th>\n",
              "      <td>Perch</td>\n",
              "      <td>130.0</td>\n",
              "      <td>20.0</td>\n",
              "      <td>22.0</td>\n",
              "      <td>23.5</td>\n",
              "      <td>6.1100</td>\n",
              "      <td>3.5250</td>\n",
              "    </tr>\n",
              "    <tr>\n",
              "      <th>89</th>\n",
              "      <td>Perch</td>\n",
              "      <td>135.0</td>\n",
              "      <td>20.0</td>\n",
              "      <td>22.0</td>\n",
              "      <td>23.5</td>\n",
              "      <td>5.8750</td>\n",
              "      <td>3.5250</td>\n",
              "    </tr>\n",
              "    <tr>\n",
              "      <th>90</th>\n",
              "      <td>Perch</td>\n",
              "      <td>110.0</td>\n",
              "      <td>20.0</td>\n",
              "      <td>22.0</td>\n",
              "      <td>23.5</td>\n",
              "      <td>5.5225</td>\n",
              "      <td>3.9950</td>\n",
              "    </tr>\n",
              "    <tr>\n",
              "      <th>91</th>\n",
              "      <td>Perch</td>\n",
              "      <td>130.0</td>\n",
              "      <td>20.5</td>\n",
              "      <td>22.5</td>\n",
              "      <td>24.0</td>\n",
              "      <td>5.8560</td>\n",
              "      <td>3.6240</td>\n",
              "    </tr>\n",
              "    <tr>\n",
              "      <th>92</th>\n",
              "      <td>Perch</td>\n",
              "      <td>150.0</td>\n",
              "      <td>20.5</td>\n",
              "      <td>22.5</td>\n",
              "      <td>24.0</td>\n",
              "      <td>6.7920</td>\n",
              "      <td>3.6240</td>\n",
              "    </tr>\n",
              "    <tr>\n",
              "      <th>93</th>\n",
              "      <td>Perch</td>\n",
              "      <td>145.0</td>\n",
              "      <td>20.7</td>\n",
              "      <td>22.7</td>\n",
              "      <td>24.2</td>\n",
              "      <td>5.9532</td>\n",
              "      <td>3.6300</td>\n",
              "    </tr>\n",
              "    <tr>\n",
              "      <th>94</th>\n",
              "      <td>Perch</td>\n",
              "      <td>150.0</td>\n",
              "      <td>21.0</td>\n",
              "      <td>23.0</td>\n",
              "      <td>24.5</td>\n",
              "      <td>5.2185</td>\n",
              "      <td>3.6260</td>\n",
              "    </tr>\n",
              "    <tr>\n",
              "      <th>95</th>\n",
              "      <td>Perch</td>\n",
              "      <td>170.0</td>\n",
              "      <td>21.5</td>\n",
              "      <td>23.5</td>\n",
              "      <td>25.0</td>\n",
              "      <td>6.2750</td>\n",
              "      <td>3.7250</td>\n",
              "    </tr>\n",
              "    <tr>\n",
              "      <th>96</th>\n",
              "      <td>Perch</td>\n",
              "      <td>225.0</td>\n",
              "      <td>22.0</td>\n",
              "      <td>24.0</td>\n",
              "      <td>25.5</td>\n",
              "      <td>7.2930</td>\n",
              "      <td>3.7230</td>\n",
              "    </tr>\n",
              "    <tr>\n",
              "      <th>97</th>\n",
              "      <td>Perch</td>\n",
              "      <td>145.0</td>\n",
              "      <td>22.0</td>\n",
              "      <td>24.0</td>\n",
              "      <td>25.5</td>\n",
              "      <td>6.3750</td>\n",
              "      <td>3.8250</td>\n",
              "    </tr>\n",
              "    <tr>\n",
              "      <th>98</th>\n",
              "      <td>Perch</td>\n",
              "      <td>188.0</td>\n",
              "      <td>22.6</td>\n",
              "      <td>24.6</td>\n",
              "      <td>26.2</td>\n",
              "      <td>6.7334</td>\n",
              "      <td>4.1658</td>\n",
              "    </tr>\n",
              "    <tr>\n",
              "      <th>99</th>\n",
              "      <td>Perch</td>\n",
              "      <td>180.0</td>\n",
              "      <td>23.0</td>\n",
              "      <td>25.0</td>\n",
              "      <td>26.5</td>\n",
              "      <td>6.4395</td>\n",
              "      <td>3.6835</td>\n",
              "    </tr>\n",
              "    <tr>\n",
              "      <th>100</th>\n",
              "      <td>Perch</td>\n",
              "      <td>197.0</td>\n",
              "      <td>23.5</td>\n",
              "      <td>25.6</td>\n",
              "      <td>27.0</td>\n",
              "      <td>6.5610</td>\n",
              "      <td>4.2390</td>\n",
              "    </tr>\n",
              "    <tr>\n",
              "      <th>101</th>\n",
              "      <td>Perch</td>\n",
              "      <td>218.0</td>\n",
              "      <td>25.0</td>\n",
              "      <td>26.5</td>\n",
              "      <td>28.0</td>\n",
              "      <td>7.1680</td>\n",
              "      <td>4.1440</td>\n",
              "    </tr>\n",
              "    <tr>\n",
              "      <th>102</th>\n",
              "      <td>Perch</td>\n",
              "      <td>300.0</td>\n",
              "      <td>25.2</td>\n",
              "      <td>27.3</td>\n",
              "      <td>28.7</td>\n",
              "      <td>8.3230</td>\n",
              "      <td>5.1373</td>\n",
              "    </tr>\n",
              "    <tr>\n",
              "      <th>103</th>\n",
              "      <td>Perch</td>\n",
              "      <td>260.0</td>\n",
              "      <td>25.4</td>\n",
              "      <td>27.5</td>\n",
              "      <td>28.9</td>\n",
              "      <td>7.1672</td>\n",
              "      <td>4.3350</td>\n",
              "    </tr>\n",
              "    <tr>\n",
              "      <th>104</th>\n",
              "      <td>Perch</td>\n",
              "      <td>265.0</td>\n",
              "      <td>25.4</td>\n",
              "      <td>27.5</td>\n",
              "      <td>28.9</td>\n",
              "      <td>7.0516</td>\n",
              "      <td>4.3350</td>\n",
              "    </tr>\n",
              "    <tr>\n",
              "      <th>105</th>\n",
              "      <td>Perch</td>\n",
              "      <td>250.0</td>\n",
              "      <td>25.4</td>\n",
              "      <td>27.5</td>\n",
              "      <td>28.9</td>\n",
              "      <td>7.2828</td>\n",
              "      <td>4.5662</td>\n",
              "    </tr>\n",
              "    <tr>\n",
              "      <th>106</th>\n",
              "      <td>Perch</td>\n",
              "      <td>250.0</td>\n",
              "      <td>25.9</td>\n",
              "      <td>28.0</td>\n",
              "      <td>29.4</td>\n",
              "      <td>7.8204</td>\n",
              "      <td>4.2042</td>\n",
              "    </tr>\n",
              "    <tr>\n",
              "      <th>107</th>\n",
              "      <td>Perch</td>\n",
              "      <td>300.0</td>\n",
              "      <td>26.9</td>\n",
              "      <td>28.7</td>\n",
              "      <td>30.1</td>\n",
              "      <td>7.5852</td>\n",
              "      <td>4.6354</td>\n",
              "    </tr>\n",
              "    <tr>\n",
              "      <th>108</th>\n",
              "      <td>Perch</td>\n",
              "      <td>320.0</td>\n",
              "      <td>27.8</td>\n",
              "      <td>30.0</td>\n",
              "      <td>31.6</td>\n",
              "      <td>7.6156</td>\n",
              "      <td>4.7716</td>\n",
              "    </tr>\n",
              "    <tr>\n",
              "      <th>109</th>\n",
              "      <td>Perch</td>\n",
              "      <td>514.0</td>\n",
              "      <td>30.5</td>\n",
              "      <td>32.8</td>\n",
              "      <td>34.0</td>\n",
              "      <td>10.0300</td>\n",
              "      <td>6.0180</td>\n",
              "    </tr>\n",
              "    <tr>\n",
              "      <th>110</th>\n",
              "      <td>Perch</td>\n",
              "      <td>556.0</td>\n",
              "      <td>32.0</td>\n",
              "      <td>34.5</td>\n",
              "      <td>36.5</td>\n",
              "      <td>10.2565</td>\n",
              "      <td>6.3875</td>\n",
              "    </tr>\n",
              "    <tr>\n",
              "      <th>111</th>\n",
              "      <td>Perch</td>\n",
              "      <td>840.0</td>\n",
              "      <td>32.5</td>\n",
              "      <td>35.0</td>\n",
              "      <td>37.3</td>\n",
              "      <td>11.4884</td>\n",
              "      <td>7.7957</td>\n",
              "    </tr>\n",
              "    <tr>\n",
              "      <th>112</th>\n",
              "      <td>Perch</td>\n",
              "      <td>685.0</td>\n",
              "      <td>34.0</td>\n",
              "      <td>36.5</td>\n",
              "      <td>39.0</td>\n",
              "      <td>10.8810</td>\n",
              "      <td>6.8640</td>\n",
              "    </tr>\n",
              "    <tr>\n",
              "      <th>113</th>\n",
              "      <td>Perch</td>\n",
              "      <td>700.0</td>\n",
              "      <td>34.0</td>\n",
              "      <td>36.0</td>\n",
              "      <td>38.3</td>\n",
              "      <td>10.6091</td>\n",
              "      <td>6.7408</td>\n",
              "    </tr>\n",
              "    <tr>\n",
              "      <th>114</th>\n",
              "      <td>Perch</td>\n",
              "      <td>700.0</td>\n",
              "      <td>34.5</td>\n",
              "      <td>37.0</td>\n",
              "      <td>39.4</td>\n",
              "      <td>10.8350</td>\n",
              "      <td>6.2646</td>\n",
              "    </tr>\n",
              "    <tr>\n",
              "      <th>115</th>\n",
              "      <td>Perch</td>\n",
              "      <td>690.0</td>\n",
              "      <td>34.6</td>\n",
              "      <td>37.0</td>\n",
              "      <td>39.3</td>\n",
              "      <td>10.5717</td>\n",
              "      <td>6.3666</td>\n",
              "    </tr>\n",
              "    <tr>\n",
              "      <th>116</th>\n",
              "      <td>Perch</td>\n",
              "      <td>900.0</td>\n",
              "      <td>36.5</td>\n",
              "      <td>39.0</td>\n",
              "      <td>41.4</td>\n",
              "      <td>11.1366</td>\n",
              "      <td>7.4934</td>\n",
              "    </tr>\n",
              "    <tr>\n",
              "      <th>117</th>\n",
              "      <td>Perch</td>\n",
              "      <td>650.0</td>\n",
              "      <td>36.5</td>\n",
              "      <td>39.0</td>\n",
              "      <td>41.4</td>\n",
              "      <td>11.1366</td>\n",
              "      <td>6.0030</td>\n",
              "    </tr>\n",
              "    <tr>\n",
              "      <th>118</th>\n",
              "      <td>Perch</td>\n",
              "      <td>820.0</td>\n",
              "      <td>36.6</td>\n",
              "      <td>39.0</td>\n",
              "      <td>41.3</td>\n",
              "      <td>12.4313</td>\n",
              "      <td>7.3514</td>\n",
              "    </tr>\n",
              "    <tr>\n",
              "      <th>119</th>\n",
              "      <td>Perch</td>\n",
              "      <td>850.0</td>\n",
              "      <td>36.9</td>\n",
              "      <td>40.0</td>\n",
              "      <td>42.3</td>\n",
              "      <td>11.9286</td>\n",
              "      <td>7.1064</td>\n",
              "    </tr>\n",
              "    <tr>\n",
              "      <th>120</th>\n",
              "      <td>Perch</td>\n",
              "      <td>900.0</td>\n",
              "      <td>37.0</td>\n",
              "      <td>40.0</td>\n",
              "      <td>42.5</td>\n",
              "      <td>11.7300</td>\n",
              "      <td>7.2250</td>\n",
              "    </tr>\n",
              "    <tr>\n",
              "      <th>121</th>\n",
              "      <td>Perch</td>\n",
              "      <td>1015.0</td>\n",
              "      <td>37.0</td>\n",
              "      <td>40.0</td>\n",
              "      <td>42.4</td>\n",
              "      <td>12.3808</td>\n",
              "      <td>7.4624</td>\n",
              "    </tr>\n",
              "    <tr>\n",
              "      <th>122</th>\n",
              "      <td>Perch</td>\n",
              "      <td>820.0</td>\n",
              "      <td>37.1</td>\n",
              "      <td>40.0</td>\n",
              "      <td>42.5</td>\n",
              "      <td>11.1350</td>\n",
              "      <td>6.6300</td>\n",
              "    </tr>\n",
              "    <tr>\n",
              "      <th>123</th>\n",
              "      <td>Perch</td>\n",
              "      <td>1100.0</td>\n",
              "      <td>39.0</td>\n",
              "      <td>42.0</td>\n",
              "      <td>44.6</td>\n",
              "      <td>12.8002</td>\n",
              "      <td>6.8684</td>\n",
              "    </tr>\n",
              "    <tr>\n",
              "      <th>124</th>\n",
              "      <td>Perch</td>\n",
              "      <td>1000.0</td>\n",
              "      <td>39.8</td>\n",
              "      <td>43.0</td>\n",
              "      <td>45.2</td>\n",
              "      <td>11.9328</td>\n",
              "      <td>7.2772</td>\n",
              "    </tr>\n",
              "    <tr>\n",
              "      <th>125</th>\n",
              "      <td>Perch</td>\n",
              "      <td>1100.0</td>\n",
              "      <td>40.1</td>\n",
              "      <td>43.0</td>\n",
              "      <td>45.5</td>\n",
              "      <td>12.5125</td>\n",
              "      <td>7.4165</td>\n",
              "    </tr>\n",
              "    <tr>\n",
              "      <th>126</th>\n",
              "      <td>Perch</td>\n",
              "      <td>1000.0</td>\n",
              "      <td>40.2</td>\n",
              "      <td>43.5</td>\n",
              "      <td>46.0</td>\n",
              "      <td>12.6040</td>\n",
              "      <td>8.1420</td>\n",
              "    </tr>\n",
              "    <tr>\n",
              "      <th>127</th>\n",
              "      <td>Perch</td>\n",
              "      <td>1000.0</td>\n",
              "      <td>41.1</td>\n",
              "      <td>44.0</td>\n",
              "      <td>46.6</td>\n",
              "      <td>12.4888</td>\n",
              "      <td>7.5958</td>\n",
              "    </tr>\n",
              "  </tbody>\n",
              "</table>\n",
              "</div>\n",
              "      <button class=\"colab-df-convert\" onclick=\"convertToInteractive('df-d913d1a3-9e14-4dcb-b7d8-e19a3f88ea60')\"\n",
              "              title=\"Convert this dataframe to an interactive table.\"\n",
              "              style=\"display:none;\">\n",
              "        \n",
              "  <svg xmlns=\"http://www.w3.org/2000/svg\" height=\"24px\"viewBox=\"0 0 24 24\"\n",
              "       width=\"24px\">\n",
              "    <path d=\"M0 0h24v24H0V0z\" fill=\"none\"/>\n",
              "    <path d=\"M18.56 5.44l.94 2.06.94-2.06 2.06-.94-2.06-.94-.94-2.06-.94 2.06-2.06.94zm-11 1L8.5 8.5l.94-2.06 2.06-.94-2.06-.94L8.5 2.5l-.94 2.06-2.06.94zm10 10l.94 2.06.94-2.06 2.06-.94-2.06-.94-.94-2.06-.94 2.06-2.06.94z\"/><path d=\"M17.41 7.96l-1.37-1.37c-.4-.4-.92-.59-1.43-.59-.52 0-1.04.2-1.43.59L10.3 9.45l-7.72 7.72c-.78.78-.78 2.05 0 2.83L4 21.41c.39.39.9.59 1.41.59.51 0 1.02-.2 1.41-.59l7.78-7.78 2.81-2.81c.8-.78.8-2.07 0-2.86zM5.41 20L4 18.59l7.72-7.72 1.47 1.35L5.41 20z\"/>\n",
              "  </svg>\n",
              "      </button>\n",
              "      \n",
              "  <style>\n",
              "    .colab-df-container {\n",
              "      display:flex;\n",
              "      flex-wrap:wrap;\n",
              "      gap: 12px;\n",
              "    }\n",
              "\n",
              "    .colab-df-convert {\n",
              "      background-color: #E8F0FE;\n",
              "      border: none;\n",
              "      border-radius: 50%;\n",
              "      cursor: pointer;\n",
              "      display: none;\n",
              "      fill: #1967D2;\n",
              "      height: 32px;\n",
              "      padding: 0 0 0 0;\n",
              "      width: 32px;\n",
              "    }\n",
              "\n",
              "    .colab-df-convert:hover {\n",
              "      background-color: #E2EBFA;\n",
              "      box-shadow: 0px 1px 2px rgba(60, 64, 67, 0.3), 0px 1px 3px 1px rgba(60, 64, 67, 0.15);\n",
              "      fill: #174EA6;\n",
              "    }\n",
              "\n",
              "    [theme=dark] .colab-df-convert {\n",
              "      background-color: #3B4455;\n",
              "      fill: #D2E3FC;\n",
              "    }\n",
              "\n",
              "    [theme=dark] .colab-df-convert:hover {\n",
              "      background-color: #434B5C;\n",
              "      box-shadow: 0px 1px 3px 1px rgba(0, 0, 0, 0.15);\n",
              "      filter: drop-shadow(0px 1px 2px rgba(0, 0, 0, 0.3));\n",
              "      fill: #FFFFFF;\n",
              "    }\n",
              "  </style>\n",
              "\n",
              "      <script>\n",
              "        const buttonEl =\n",
              "          document.querySelector('#df-d913d1a3-9e14-4dcb-b7d8-e19a3f88ea60 button.colab-df-convert');\n",
              "        buttonEl.style.display =\n",
              "          google.colab.kernel.accessAllowed ? 'block' : 'none';\n",
              "\n",
              "        async function convertToInteractive(key) {\n",
              "          const element = document.querySelector('#df-d913d1a3-9e14-4dcb-b7d8-e19a3f88ea60');\n",
              "          const dataTable =\n",
              "            await google.colab.kernel.invokeFunction('convertToInteractive',\n",
              "                                                     [key], {});\n",
              "          if (!dataTable) return;\n",
              "\n",
              "          const docLinkHtml = 'Like what you see? Visit the ' +\n",
              "            '<a target=\"_blank\" href=https://colab.research.google.com/notebooks/data_table.ipynb>data table notebook</a>'\n",
              "            + ' to learn more about interactive tables.';\n",
              "          element.innerHTML = '';\n",
              "          dataTable['output_type'] = 'display_data';\n",
              "          await google.colab.output.renderOutput(dataTable, element);\n",
              "          const docLink = document.createElement('div');\n",
              "          docLink.innerHTML = docLinkHtml;\n",
              "          element.appendChild(docLink);\n",
              "        }\n",
              "      </script>\n",
              "    </div>\n",
              "  </div>\n",
              "  "
            ]
          },
          "metadata": {},
          "execution_count": 4
        }
      ],
      "source": [
        "import pandas as pd\n",
        "path = '/content/drive/MyDrive/Fish.csv'\n",
        "df = pd.read_csv(path)\n",
        "perch_df = df[df['Species'] == 'Perch']\n",
        "perch_df"
      ]
    },
    {
      "cell_type": "code",
      "source": [
        "length = perch_df['Length2']\n",
        "weight = perch_df['Weight']\n",
        "perch_length = length.to_numpy()\n",
        "perch_weigth = weight.to_numpy()"
      ],
      "metadata": {
        "id": "1HQSpNkPvWDZ"
      },
      "execution_count": null,
      "outputs": []
    },
    {
      "cell_type": "code",
      "source": [
        "from sklearn.model_selection import train_test_split\n",
        "train_input, test_input, train_target, test_target = train_test_split(perch_length,perch_weigth)"
      ],
      "metadata": {
        "id": "a7ls1SNBxuWP"
      },
      "execution_count": null,
      "outputs": []
    },
    {
      "cell_type": "code",
      "source": [
        "train_input.shape"
      ],
      "metadata": {
        "colab": {
          "base_uri": "https://localhost:8080/"
        },
        "id": "boC99FU7yLWN",
        "outputId": "5fb1638c-b165-44f2-d081-d6ca9c7b33da"
      },
      "execution_count": null,
      "outputs": [
        {
          "output_type": "execute_result",
          "data": {
            "text/plain": [
              "(42,)"
            ]
          },
          "metadata": {},
          "execution_count": 7
        }
      ]
    },
    {
      "cell_type": "code",
      "source": [
        "train_input = train_input.reshape(-1,1) # 독립립 변수수 목록은은 2차원원 배열열 구조로 변경\n",
        "test_input = test_input.reshape(-1,1)\n",
        "train_input.shape"
      ],
      "metadata": {
        "colab": {
          "base_uri": "https://localhost:8080/"
        },
        "id": "_sGTcid3yQZg",
        "outputId": "cb8e1baa-9033-4480-cdae-50d00ab2ed4d"
      },
      "execution_count": null,
      "outputs": [
        {
          "output_type": "execute_result",
          "data": {
            "text/plain": [
              "(42, 1)"
            ]
          },
          "metadata": {},
          "execution_count": 8
        }
      ]
    },
    {
      "cell_type": "code",
      "source": [
        "from sklearn.neighbors import KNeighborsRegressor\n",
        "kn = KNeighborsRegressor(n_neighbors=3) # 모델 생성\n",
        "kn.fit(train_input,train_target) #학습\n",
        "pval = kn.predict([[50]]) # 예측해\n",
        "print(\"예측 값 :\", pval)"
      ],
      "metadata": {
        "colab": {
          "base_uri": "https://localhost:8080/"
        },
        "id": "KHBhvDSEyZfu",
        "outputId": "2e026679-269e-402b-b96c-b5bf837d8011"
      },
      "execution_count": null,
      "outputs": [
        {
          "output_type": "stream",
          "name": "stdout",
          "text": [
            "예측 값 : [1000.]\n"
          ]
        }
      ]
    },
    {
      "cell_type": "code",
      "source": [
        "import matplotlib.pyplot as plt"
      ],
      "metadata": {
        "id": "jw64Y-ZByvO9"
      },
      "execution_count": null,
      "outputs": []
    },
    {
      "cell_type": "code",
      "source": [
        "print(kn.kneighbors([[50]]))"
      ],
      "metadata": {
        "colab": {
          "base_uri": "https://localhost:8080/"
        },
        "id": "iGdBzVxAzDj-",
        "outputId": "a921da84-0ebb-4ef9-c93f-513044dd81e2"
      },
      "execution_count": null,
      "outputs": [
        {
          "output_type": "stream",
          "name": "stdout",
          "text": [
            "(array([[6. , 6.5, 7. ]]), array([[ 1, 28, 15]]))\n"
          ]
        }
      ]
    },
    {
      "cell_type": "code",
      "source": [
        "distances, indexes = kn.kneighbors([[50]])\n",
        "plt.scatter(train_input[indexes],train_target[indexes],label='neighbors', marker='D',color='r')\n",
        "plt.scatter(50,1000,label='test data', marker='^',color='g')\n",
        "plt.scatter(train_input,train_target,label = 'train data',color='b',marker='.')\n",
        "plt.xlabel('length')\n",
        "plt.ylabel('weight')\n",
        "plt.legend()\n",
        "plt.show()"
      ],
      "metadata": {
        "colab": {
          "base_uri": "https://localhost:8080/",
          "height": 279
        },
        "id": "QBeZwI7wzVXm",
        "outputId": "307a9720-3bb0-4da1-ede0-546c2c68aee3"
      },
      "execution_count": null,
      "outputs": [
        {
          "output_type": "display_data",
          "data": {
            "text/plain": [
              "<Figure size 432x288 with 1 Axes>"
            ],
            "image/png": "[encoded data removed]"
          },
          "metadata": {
            "needs_background": "light"
          }
        }
      ]
    },
    {
      "cell_type": "code",
      "source": [
        "pval = kn.predict([[100]]) # 예측해\n",
        "print(\"예측 값 :\", pval)"
      ],
      "metadata": {
        "colab": {
          "base_uri": "https://localhost:8080/"
        },
        "id": "sSP94m1k0SCT",
        "outputId": "beb27e70-05cb-40f9-bce5-a329a06dff17"
      },
      "execution_count": null,
      "outputs": [
        {
          "output_type": "stream",
          "name": "stdout",
          "text": [
            "예측 값 : [1000.]\n"
          ]
        }
      ]
    },
    {
      "cell_type": "code",
      "source": [
        "distances, indexes = kn.kneighbors([[100]])\n",
        "plt.scatter(train_input[indexes],train_target[indexes],label= 'neighbors', marker='D',color='r')\n",
        "plt.scatter(100,1000,label='test data', marker='^',color='g')\n",
        "plt.scatter(train_input,train_target,label = 'train data',color='b',marker='.')\n",
        "plt.xlabel('length')\n",
        "plt.ylabel('weight')\n",
        "plt.legend()\n",
        "plt.show()"
      ],
      "metadata": {
        "colab": {
          "base_uri": "https://localhost:8080/",
          "height": 279
        },
        "id": "lvPmPZxC1UWv",
        "outputId": "55daec55-42a4-48e6-c133-aeb9c7bf1e31"
      },
      "execution_count": null,
      "outputs": [
        {
          "output_type": "display_data",
          "data": {
            "text/plain": [
              "<Figure size 432x288 with 1 Axes>"
            ],
            "image/png": "[encoded data removed]"
          },
          "metadata": {
            "needs_background": "light"
          }
        }
      ]
    },
    {
      "cell_type": "markdown",
      "source": [
        "# 선형 회귀"
      ],
      "metadata": {
        "id": "g5D2hk7q_wNK"
      }
    },
    {
      "cell_type": "code",
      "source": [
        "from sklearn.linear_model import LinearRegression\n",
        "lr = LinearRegression() # 모델 생성\n",
        "lr.fit(train_input,train_target) #공부해\n",
        "p_val = lr.predict([[50],[100]])\n",
        "print(p_val)"
      ],
      "metadata": {
        "colab": {
          "base_uri": "https://localhost:8080/"
        },
        "id": "4ULezZ5y1dEx",
        "outputId": "4bf7a9a5-aaa2-4be5-c8df-5e7033114123"
      },
      "execution_count": null,
      "outputs": [
        {
          "output_type": "stream",
          "name": "stdout",
          "text": [
            "[1205.63419214 3054.53162054]\n"
          ]
        }
      ]
    },
    {
      "cell_type": "code",
      "source": [
        "p_val2 = kn.predict([[50],[100]])\n",
        "print(p_val2)"
      ],
      "metadata": {
        "colab": {
          "base_uri": "https://localhost:8080/"
        },
        "id": "6jNt6MLL22AQ",
        "outputId": "258b901b-f13c-4703-e226-e0891771fc50"
      },
      "execution_count": null,
      "outputs": [
        {
          "output_type": "stream",
          "name": "stdout",
          "text": [
            "[1000. 1000.]\n"
          ]
        }
      ]
    },
    {
      "cell_type": "code",
      "source": [
        "print(\"가중치(기울기):\", lr.coef_,\"편향:\",lr.intercept_)"
      ],
      "metadata": {
        "colab": {
          "base_uri": "https://localhost:8080/"
        },
        "id": "MvXRZHFE27-l",
        "outputId": "c3104f74-e776-403f-b5aa-3af4fa4b5c60"
      },
      "execution_count": null,
      "outputs": [
        {
          "output_type": "stream",
          "name": "stdout",
          "text": [
            "가중치(기울기): [36.97794857] 편향: -643.2632362552656\n"
          ]
        }
      ]
    },
    {
      "cell_type": "code",
      "source": [
        "print(50*lr.coef_+lr.intercept_)\n",
        "print(p_val[0])"
      ],
      "metadata": {
        "colab": {
          "base_uri": "https://localhost:8080/"
        },
        "id": "7rcaHrxa3YqX",
        "outputId": "9dc629c7-4bf9-41df-d87f-af25cf6a556b"
      },
      "execution_count": null,
      "outputs": [
        {
          "output_type": "stream",
          "name": "stdout",
          "text": [
            "[1205.63419214]\n",
            "1205.6341921437152\n"
          ]
        }
      ]
    },
    {
      "cell_type": "code",
      "source": [
        "plt.scatter([50,100],p_val,label='test data', marker='^',color='g')\n",
        "plt.scatter([50,100],[1000,1000],label='knn', marker='^',color='m')\n",
        "plt.scatter(train_input,train_target,label = 'train data',color='b',marker='.')\n",
        "plt.plot([0,120],[0*lr.coef_+lr.intercept_, 120*lr.coef_+lr.intercept_],label='fun')\n",
        "plt.xlabel('length')\n",
        "plt.ylabel('weight')\n",
        "plt.legend()\n",
        "plt.show()"
      ],
      "metadata": {
        "colab": {
          "base_uri": "https://localhost:8080/",
          "height": 283
        },
        "id": "rvfl5Q1p3fV9",
        "outputId": "2a229702-f214-404f-e62a-7efe956ef6eb"
      },
      "execution_count": null,
      "outputs": [
        {
          "output_type": "display_data",
          "data": {
            "text/plain": [
              "<Figure size 432x288 with 1 Axes>"
            ],
            "image/png": "[encoded data removed]"
          },
          "metadata": {
            "needs_background": "light"
          }
        }
      ]
    },
    {
      "cell_type": "markdown",
      "source": [
        "w = l * w + b\n",
        "\n",
        "무게 길이 가중치 편향\n",
        "\n",
        "y = wx + b(단항회귀)\n",
        "\n",
        "y = w_1x_1 + w_2x_2+ ...+b (다항회귀)\n"
      ],
      "metadata": {
        "id": "yaRoUoua7hBk"
      }
    },
    {
      "cell_type": "markdown",
      "source": [
        "가상의 데이터를 만들어서 선형회귀를 해보자\n",
        "\n",
        "y = 2x+3에 가까운 데이터"
      ],
      "metadata": {
        "id": "dbZmlXfM8HwI"
      }
    },
    {
      "cell_type": "code",
      "source": [
        "import numpy as np\n",
        "input = [x for x in range(-100,100,5)]\n",
        "target = [(2+np.random.uniform(-0.5,0.5))*x+(3+np.random.randint(-3,3)) for x in input]\n",
        "plt.plot(input[:],target,'.')\n",
        "plt.xlim(-200,200)\n",
        "plt.ylim(-200,200)\n",
        "plt.vlines(0,-200,200)\n",
        "plt.hlines(0,-200,200)\n",
        "plt.show()"
      ],
      "metadata": {
        "colab": {
          "base_uri": "https://localhost:8080/",
          "height": 269
        },
        "id": "8ND8xOuQ4L-9",
        "outputId": "11438b37-659b-46de-944f-1ee9464b5db8"
      },
      "execution_count": null,
      "outputs": [
        {
          "output_type": "display_data",
          "data": {
            "text/plain": [
              "<Figure size 432x288 with 1 Axes>"
            ],
            "image/png": "[encoded data removed]"
          },
          "metadata": {
            "needs_background": "light"
          }
        }
      ]
    },
    {
      "cell_type": "code",
      "source": [
        "input_data = np.array(input).reshape(-1,1)\n",
        "input_data.shape"
      ],
      "metadata": {
        "colab": {
          "base_uri": "https://localhost:8080/"
        },
        "id": "xDmHT5OL_tjX",
        "outputId": "3b828040-4d24-4a9b-865b-379d3d5ddf4a"
      },
      "execution_count": null,
      "outputs": [
        {
          "output_type": "execute_result",
          "data": {
            "text/plain": [
              "(40, 1)"
            ]
          },
          "metadata": {},
          "execution_count": 21
        }
      ]
    },
    {
      "cell_type": "code",
      "source": [
        "target_data = np.array(target)"
      ],
      "metadata": {
        "id": "EVVqruXeBbfl"
      },
      "execution_count": null,
      "outputs": []
    },
    {
      "cell_type": "code",
      "source": [
        "target_data"
      ],
      "metadata": {
        "colab": {
          "base_uri": "https://localhost:8080/"
        },
        "id": "Xp_4cjW6Bd0O",
        "outputId": "2738391a-00bc-4553-c167-5b34bd7aeecb"
      },
      "execution_count": null,
      "outputs": [
        {
          "output_type": "execute_result",
          "data": {
            "text/plain": [
              "array([-158.5941707 , -223.16949037, -142.07359259, -139.8449559 ,\n",
              "       -166.62700125, -134.00611084, -165.23850041, -153.00062224,\n",
              "       -135.77710121,  -87.57736265, -114.51766079,  -81.47343093,\n",
              "        -82.83383915,  -84.71018089,  -71.87606387,  -55.96455561,\n",
              "        -36.15688268,  -29.05555832,  -17.70984811,   -9.40710818,\n",
              "          3.        ,   11.65714414,   23.56541757,   33.50107075,\n",
              "         48.87977829,   51.03173116,   56.91211958,   81.32379763,\n",
              "         84.43652351,   86.53693403,  116.9676955 ,  133.04848582,\n",
              "        152.78861277,  161.9016616 ,  170.15620484,  164.9915647 ,\n",
              "        166.30350404,  162.64247632,  154.62123874,  147.93604139])"
            ]
          },
          "metadata": {},
          "execution_count": 23
        }
      ]
    },
    {
      "cell_type": "code",
      "source": [
        "lr = LinearRegression()\n",
        "lr.fit(input_data,target_data)\n",
        "print(f\"편향 :{lr.coef_[0]:.2f} 기울기:{lr.intercept_:.2f}\")"
      ],
      "metadata": {
        "colab": {
          "base_uri": "https://localhost:8080/"
        },
        "id": "-1LOm3VlBfHR",
        "outputId": "8cf4f915-a04e-4803-ca7e-72850e9eb8d9"
      },
      "execution_count": null,
      "outputs": [
        {
          "output_type": "stream",
          "name": "stdout",
          "text": [
            "편향 :2.00 기울기:3.08\n"
          ]
        }
      ]
    },
    {
      "cell_type": "code",
      "source": [
        "print(type(lr.coef_))\n",
        "print(type(lr.intercept_))"
      ],
      "metadata": {
        "colab": {
          "base_uri": "https://localhost:8080/"
        },
        "id": "2A1DNbK8CMJ3",
        "outputId": "dc8bcc6d-a6fc-4e37-c5e6-d0ce541a6e7b"
      },
      "execution_count": null,
      "outputs": [
        {
          "output_type": "stream",
          "name": "stdout",
          "text": [
            "<class 'numpy.ndarray'>\n",
            "<class 'numpy.float64'>\n"
          ]
        }
      ]
    },
    {
      "cell_type": "code",
      "source": [
        "input = [x for x in range(-100,100,5)]\n",
        "target = [(2+np.random.uniform(-0.5,0.5))*x+(3+np.random.randint(-3,3)) for x in input]\n",
        "plt.plot(input[:],target,'.')\n",
        "plt.plot([-200,200],[-200*lr.coef_+lr.intercept_,200*lr.coef_+lr.intercept_])\n",
        "plt.xlim(-200,200)\n",
        "plt.ylim(-200,200)\n",
        "plt.vlines(0,-200,200)\n",
        "plt.hlines(0,-200,200)\n",
        "plt.show()"
      ],
      "metadata": {
        "colab": {
          "base_uri": "https://localhost:8080/",
          "height": 269
        },
        "id": "IP82tgCUB378",
        "outputId": "d2a3580c-fa32-4a48-bb39-9f836e1aa61d"
      },
      "execution_count": null,
      "outputs": [
        {
          "output_type": "display_data",
          "data": {
            "text/plain": [
              "<Figure size 432x288 with 1 Axes>"
            ],
            "image/png": "[encoded data removed]"
          },
          "metadata": {
            "needs_background": "light"
          }
        }
      ]
    },
    {
      "cell_type": "markdown",
      "source": [
        "y = 2xx+3x+5"
      ],
      "metadata": {
        "id": "9aswsbdSCsOg"
      }
    },
    {
      "cell_type": "code",
      "source": [
        "x = [np.random.randint(-200,200) for _ in range(50)]\n",
        "\n",
        "#target = [(2+np.random.uniform(-0.5,0.5))*x+(3+np.random.randint(-3,3)) for x in input]\n",
        "target = [2*x*x + 3*x +5 +np.random.randint(-10,10) for x in input]\n",
        "plt.plot(input,target,'.')\n",
        "# plt.xlim(-200,200)\n",
        "# plt.ylim(-200,200)\n",
        "# plt.vlines(0,-200,0000)\n",
        "#plt.hlines(0,-200,200)\n",
        "plt.show()"
      ],
      "metadata": {
        "colab": {
          "base_uri": "https://localhost:8080/",
          "height": 265
        },
        "id": "hyLJYShaCH-a",
        "outputId": "3c5ca456-7471-40a7-e27e-c80d25217ad2"
      },
      "execution_count": null,
      "outputs": [
        {
          "output_type": "display_data",
          "data": {
            "text/plain": [
              "<Figure size 432x288 with 1 Axes>"
            ],
            "image/png": "[encoded data removed]"
          },
          "metadata": {
            "needs_background": "light"
          }
        }
      ]
    },
    {
      "cell_type": "code",
      "source": [
        "input_arr = np.array(input).reshape(-1,1)\n",
        "lr = LinearRegression()\n",
        "lr.fit(input_arr,target)\n",
        "x = [np.random.randint(-200,200) for _ in range(50)]\n",
        "\n",
        "p_val = lr.predict(input_arr)\n",
        "target = [2*x*x + 3*x +5 +np.random.randint(-10,10) for x in input]\n",
        "plt.plot(input,target,'.')\n",
        "plt.plot([-200,200],[-200*lr.coef_+lr.intercept_,200*lr.coef_+lr.intercept_],'r:')\n",
        "plt.scatter(input,p_val,color='m')\n",
        "\n",
        "plt.show()"
      ],
      "metadata": {
        "colab": {
          "base_uri": "https://localhost:8080/",
          "height": 265
        },
        "id": "zThHrhE5Ek-c",
        "outputId": "e8062bb3-f3ee-4dd3-f357-36b61acf3b92"
      },
      "execution_count": null,
      "outputs": [
        {
          "output_type": "display_data",
          "data": {
            "text/plain": [
              "<Figure size 432x288 with 1 Axes>"
            ],
            "image/png": "[encoded data removed]"
          },
          "metadata": {
            "needs_background": "light"
          }
        }
      ]
    },
    {
      "cell_type": "code",
      "source": [
        "input_2_arr=np.array(input_arr).reshape(-1,1)\n",
        "input_total = [[x,x*x] for x in input]"
      ],
      "metadata": {
        "id": "zoQOtDKgFhFL"
      },
      "execution_count": null,
      "outputs": []
    },
    {
      "cell_type": "code",
      "source": [
        "print(np.array(input_total).shape)\n",
        "# print(input_total.shape)\n",
        "print(len(target))"
      ],
      "metadata": {
        "colab": {
          "base_uri": "https://localhost:8080/"
        },
        "id": "35aZ4upUJ9WM",
        "outputId": "f93072f2-7d8e-421d-9ff1-ca18ab628663"
      },
      "execution_count": null,
      "outputs": [
        {
          "output_type": "stream",
          "name": "stdout",
          "text": [
            "(40, 2)\n",
            "40\n"
          ]
        }
      ]
    },
    {
      "cell_type": "code",
      "source": [
        "lr = LinearRegression()\n",
        "lr.fit(input_total,target)\n",
        "p_val2 = lr.predict(input_total)\n",
        "plt.plot(input,target,'.',color='g')\n",
        "plt.scatter(input,p_val2,color='m')\n",
        "plt.show()"
      ],
      "metadata": {
        "colab": {
          "base_uri": "https://localhost:8080/",
          "height": 265
        },
        "id": "93Az9zo3GQpP",
        "outputId": "9855e307-839c-42d1-cc56-fe0d439f08d5"
      },
      "execution_count": null,
      "outputs": [
        {
          "output_type": "display_data",
          "data": {
            "text/plain": [
              "<Figure size 432x288 with 1 Axes>"
            ],
            "image/png": "[encoded data removed]"
          },
          "metadata": {
            "needs_background": "light"
          }
        }
      ]
    },
    {
      "cell_type": "code",
      "source": [
        "print(type(train_input))"
      ],
      "metadata": {
        "colab": {
          "base_uri": "https://localhost:8080/"
        },
        "id": "U5n1Xh5cKfFk",
        "outputId": "80a30cc4-a68f-4341-ad00-5da5b4159119"
      },
      "execution_count": null,
      "outputs": [
        {
          "output_type": "stream",
          "name": "stdout",
          "text": [
            "<class 'numpy.ndarray'>\n"
          ]
        }
      ]
    },
    {
      "cell_type": "code",
      "source": [
        "print(train_input.shape)"
      ],
      "metadata": {
        "colab": {
          "base_uri": "https://localhost:8080/"
        },
        "id": "6sBQMIwYKtjV",
        "outputId": "b052cc0f-c510-4cb5-b1cb-1083c8df269b"
      },
      "execution_count": null,
      "outputs": [
        {
          "output_type": "stream",
          "name": "stdout",
          "text": [
            "(42, 3)\n"
          ]
        }
      ]
    },
    {
      "cell_type": "code",
      "source": [
        "lr = LinearRegression()\n",
        "lr.fit(train_input,train_target)\n",
        "p_val = lr.predict([[2],[10],[50],[100]])\n",
        "print(\"예측 : \",p_val)"
      ],
      "metadata": {
        "colab": {
          "base_uri": "https://localhost:8080/",
          "height": 358
        },
        "id": "1SAqzXpYKvII",
        "outputId": "4f5fb405-f0e1-4bb0-c085-a9ffbf3fb3da"
      },
      "execution_count": null,
      "outputs": [
        {
          "output_type": "error",
          "ename": "ValueError",
          "evalue": "ignored",
          "traceback": [
            "\u001b[0;31m---------------------------------------------------------------------------\u001b[0m",
            "\u001b[0;31mValueError\u001b[0m                                Traceback (most recent call last)",
            "\u001b[0;32m<ipython-input-50-7ed8eea9b83e>\u001b[0m in \u001b[0;36m<module>\u001b[0;34m()\u001b[0m\n\u001b[1;32m      1\u001b[0m \u001b[0mlr\u001b[0m \u001b[0;34m=\u001b[0m \u001b[0mLinearRegression\u001b[0m\u001b[0;34m(\u001b[0m\u001b[0;34m)\u001b[0m\u001b[0;34m\u001b[0m\u001b[0;34m\u001b[0m\u001b[0m\n\u001b[1;32m      2\u001b[0m \u001b[0mlr\u001b[0m\u001b[0;34m.\u001b[0m\u001b[0mfit\u001b[0m\u001b[0;34m(\u001b[0m\u001b[0mtrain_input\u001b[0m\u001b[0;34m,\u001b[0m\u001b[0mtrain_target\u001b[0m\u001b[0;34m)\u001b[0m\u001b[0;34m\u001b[0m\u001b[0;34m\u001b[0m\u001b[0m\n\u001b[0;32m----> 3\u001b[0;31m \u001b[0mp_val\u001b[0m \u001b[0;34m=\u001b[0m \u001b[0mlr\u001b[0m\u001b[0;34m.\u001b[0m\u001b[0mpredict\u001b[0m\u001b[0;34m(\u001b[0m\u001b[0;34m[\u001b[0m\u001b[0;34m[\u001b[0m\u001b[0;36m2\u001b[0m\u001b[0;34m]\u001b[0m\u001b[0;34m,\u001b[0m\u001b[0;34m[\u001b[0m\u001b[0;36m10\u001b[0m\u001b[0;34m]\u001b[0m\u001b[0;34m,\u001b[0m\u001b[0;34m[\u001b[0m\u001b[0;36m50\u001b[0m\u001b[0;34m]\u001b[0m\u001b[0;34m,\u001b[0m\u001b[0;34m[\u001b[0m\u001b[0;36m100\u001b[0m\u001b[0;34m]\u001b[0m\u001b[0;34m]\u001b[0m\u001b[0;34m)\u001b[0m\u001b[0;34m\u001b[0m\u001b[0;34m\u001b[0m\u001b[0m\n\u001b[0m\u001b[1;32m      4\u001b[0m \u001b[0mprint\u001b[0m\u001b[0;34m(\u001b[0m\u001b[0;34m\"예측 : \"\u001b[0m\u001b[0;34m,\u001b[0m\u001b[0mp_val\u001b[0m\u001b[0;34m)\u001b[0m\u001b[0;34m\u001b[0m\u001b[0;34m\u001b[0m\u001b[0m\n",
            "\u001b[0;32m/usr/local/lib/python3.7/dist-packages/sklearn/linear_model/_base.py\u001b[0m in \u001b[0;36mpredict\u001b[0;34m(self, X)\u001b[0m\n\u001b[1;32m    360\u001b[0m             \u001b[0mReturns\u001b[0m \u001b[0mpredicted\u001b[0m \u001b[0mvalues\u001b[0m\u001b[0;34m.\u001b[0m\u001b[0;34m\u001b[0m\u001b[0;34m\u001b[0m\u001b[0m\n\u001b[1;32m    361\u001b[0m         \"\"\"\n\u001b[0;32m--> 362\u001b[0;31m         \u001b[0;32mreturn\u001b[0m \u001b[0mself\u001b[0m\u001b[0;34m.\u001b[0m\u001b[0m_decision_function\u001b[0m\u001b[0;34m(\u001b[0m\u001b[0mX\u001b[0m\u001b[0;34m)\u001b[0m\u001b[0;34m\u001b[0m\u001b[0;34m\u001b[0m\u001b[0m\n\u001b[0m\u001b[1;32m    363\u001b[0m \u001b[0;34m\u001b[0m\u001b[0m\n\u001b[1;32m    364\u001b[0m     \u001b[0m_preprocess_data\u001b[0m \u001b[0;34m=\u001b[0m \u001b[0mstaticmethod\u001b[0m\u001b[0;34m(\u001b[0m\u001b[0m_preprocess_data\u001b[0m\u001b[0;34m)\u001b[0m\u001b[0;34m\u001b[0m\u001b[0;34m\u001b[0m\u001b[0m\n",
            "\u001b[0;32m/usr/local/lib/python3.7/dist-packages/sklearn/linear_model/_base.py\u001b[0m in \u001b[0;36m_decision_function\u001b[0;34m(self, X)\u001b[0m\n\u001b[1;32m    343\u001b[0m         \u001b[0mcheck_is_fitted\u001b[0m\u001b[0;34m(\u001b[0m\u001b[0mself\u001b[0m\u001b[0;34m)\u001b[0m\u001b[0;34m\u001b[0m\u001b[0;34m\u001b[0m\u001b[0m\n\u001b[1;32m    344\u001b[0m \u001b[0;34m\u001b[0m\u001b[0m\n\u001b[0;32m--> 345\u001b[0;31m         \u001b[0mX\u001b[0m \u001b[0;34m=\u001b[0m \u001b[0mself\u001b[0m\u001b[0;34m.\u001b[0m\u001b[0m_validate_data\u001b[0m\u001b[0;34m(\u001b[0m\u001b[0mX\u001b[0m\u001b[0;34m,\u001b[0m \u001b[0maccept_sparse\u001b[0m\u001b[0;34m=\u001b[0m\u001b[0;34m[\u001b[0m\u001b[0;34m\"csr\"\u001b[0m\u001b[0;34m,\u001b[0m \u001b[0;34m\"csc\"\u001b[0m\u001b[0;34m,\u001b[0m \u001b[0;34m\"coo\"\u001b[0m\u001b[0;34m]\u001b[0m\u001b[0;34m,\u001b[0m \u001b[0mreset\u001b[0m\u001b[0;34m=\u001b[0m\u001b[0;32mFalse\u001b[0m\u001b[0;34m)\u001b[0m\u001b[0;34m\u001b[0m\u001b[0;34m\u001b[0m\u001b[0m\n\u001b[0m\u001b[1;32m    346\u001b[0m         \u001b[0;32mreturn\u001b[0m \u001b[0msafe_sparse_dot\u001b[0m\u001b[0;34m(\u001b[0m\u001b[0mX\u001b[0m\u001b[0;34m,\u001b[0m \u001b[0mself\u001b[0m\u001b[0;34m.\u001b[0m\u001b[0mcoef_\u001b[0m\u001b[0;34m.\u001b[0m\u001b[0mT\u001b[0m\u001b[0;34m,\u001b[0m \u001b[0mdense_output\u001b[0m\u001b[0;34m=\u001b[0m\u001b[0;32mTrue\u001b[0m\u001b[0;34m)\u001b[0m \u001b[0;34m+\u001b[0m \u001b[0mself\u001b[0m\u001b[0;34m.\u001b[0m\u001b[0mintercept_\u001b[0m\u001b[0;34m\u001b[0m\u001b[0;34m\u001b[0m\u001b[0m\n\u001b[1;32m    347\u001b[0m \u001b[0;34m\u001b[0m\u001b[0m\n",
            "\u001b[0;32m/usr/local/lib/python3.7/dist-packages/sklearn/base.py\u001b[0m in \u001b[0;36m_validate_data\u001b[0;34m(self, X, y, reset, validate_separately, **check_params)\u001b[0m\n\u001b[1;32m    583\u001b[0m \u001b[0;34m\u001b[0m\u001b[0m\n\u001b[1;32m    584\u001b[0m         \u001b[0;32mif\u001b[0m \u001b[0;32mnot\u001b[0m \u001b[0mno_val_X\u001b[0m \u001b[0;32mand\u001b[0m \u001b[0mcheck_params\u001b[0m\u001b[0;34m.\u001b[0m\u001b[0mget\u001b[0m\u001b[0;34m(\u001b[0m\u001b[0;34m\"ensure_2d\"\u001b[0m\u001b[0;34m,\u001b[0m \u001b[0;32mTrue\u001b[0m\u001b[0;34m)\u001b[0m\u001b[0;34m:\u001b[0m\u001b[0;34m\u001b[0m\u001b[0;34m\u001b[0m\u001b[0m\n\u001b[0;32m--> 585\u001b[0;31m             \u001b[0mself\u001b[0m\u001b[0;34m.\u001b[0m\u001b[0m_check_n_features\u001b[0m\u001b[0;34m(\u001b[0m\u001b[0mX\u001b[0m\u001b[0;34m,\u001b[0m \u001b[0mreset\u001b[0m\u001b[0;34m=\u001b[0m\u001b[0mreset\u001b[0m\u001b[0;34m)\u001b[0m\u001b[0;34m\u001b[0m\u001b[0;34m\u001b[0m\u001b[0m\n\u001b[0m\u001b[1;32m    586\u001b[0m \u001b[0;34m\u001b[0m\u001b[0m\n\u001b[1;32m    587\u001b[0m         \u001b[0;32mreturn\u001b[0m \u001b[0mout\u001b[0m\u001b[0;34m\u001b[0m\u001b[0;34m\u001b[0m\u001b[0m\n",
            "\u001b[0;32m/usr/local/lib/python3.7/dist-packages/sklearn/base.py\u001b[0m in \u001b[0;36m_check_n_features\u001b[0;34m(self, X, reset)\u001b[0m\n\u001b[1;32m    399\u001b[0m         \u001b[0;32mif\u001b[0m \u001b[0mn_features\u001b[0m \u001b[0;34m!=\u001b[0m \u001b[0mself\u001b[0m\u001b[0;34m.\u001b[0m\u001b[0mn_features_in_\u001b[0m\u001b[0;34m:\u001b[0m\u001b[0;34m\u001b[0m\u001b[0;34m\u001b[0m\u001b[0m\n\u001b[1;32m    400\u001b[0m             raise ValueError(\n\u001b[0;32m--> 401\u001b[0;31m                 \u001b[0;34mf\"X has {n_features} features, but {self.__class__.__name__} \"\u001b[0m\u001b[0;34m\u001b[0m\u001b[0;34m\u001b[0m\u001b[0m\n\u001b[0m\u001b[1;32m    402\u001b[0m                 \u001b[0;34mf\"is expecting {self.n_features_in_} features as input.\"\u001b[0m\u001b[0;34m\u001b[0m\u001b[0;34m\u001b[0m\u001b[0m\n\u001b[1;32m    403\u001b[0m             )\n",
            "\u001b[0;31mValueError\u001b[0m: X has 1 features, but LinearRegression is expecting 3 features as input."
          ]
        }
      ]
    },
    {
      "cell_type": "markdown",
      "source": [
        "## 다항 회귀"
      ],
      "metadata": {
        "id": "49CJe2neKrYy"
      }
    },
    {
      "cell_type": "code",
      "source": [
        "perch_length = perch_df['Length2'].to_numpy()\n",
        "perch_weigth = perch_df['Weight'].to_numpy()\n",
        "pl2 = [[x,x*x] for x in perch_length]\n",
        "lr = LinearRegression()\n",
        "lr.fit(pl2,perch_weigth)"
      ],
      "metadata": {
        "colab": {
          "base_uri": "https://localhost:8080/"
        },
        "id": "Alnesq0kKzx0",
        "outputId": "8573fb0d-4a97-4239-996b-047ae45f4080"
      },
      "execution_count": null,
      "outputs": [
        {
          "output_type": "execute_result",
          "data": {
            "text/plain": [
              "LinearRegression()"
            ]
          },
          "metadata": {},
          "execution_count": 51
        }
      ]
    },
    {
      "cell_type": "code",
      "source": [
        "test2 = [[x,x*x] for x in range(0,100)]\n",
        "p_val2 = lr.predict(test2)"
      ],
      "metadata": {
        "id": "7S1KaLl3Lj5Y"
      },
      "execution_count": null,
      "outputs": []
    },
    {
      "cell_type": "code",
      "source": [
        "plt.scatter(perch_length,perch_weigth,label='actual')\n",
        "plt.scatter(range(0,100),p_val2,label='predict',marker='.')\n",
        "plt.legend()\n",
        "plt.show()"
      ],
      "metadata": {
        "colab": {
          "base_uri": "https://localhost:8080/",
          "height": 265
        },
        "id": "EBXP9b5hMAAK",
        "outputId": "331ad58b-7992-43a4-b11c-92b8a11eba93"
      },
      "execution_count": null,
      "outputs": [
        {
          "output_type": "display_data",
          "data": {
            "text/plain": [
              "<Figure size 432x288 with 1 Axes>"
            ],
            "image/png": "[encoded data removed]"
          },
          "metadata": {
            "needs_background": "light"
          }
        }
      ]
    },
    {
      "cell_type": "markdown",
      "source": [
        "weigth = -22.41 * length + 1.02* length*length + 131.6452"
      ],
      "metadata": {
        "id": "7nUhDuKdNWUV"
      }
    },
    {
      "cell_type": "code",
      "source": [
        "print(lr.coef_,lr.intercept_)"
      ],
      "metadata": {
        "colab": {
          "base_uri": "https://localhost:8080/"
        },
        "id": "cxGM_5GTMMqr",
        "outputId": "bf04e132-7dca-437f-f1d8-03effcbd018c"
      },
      "execution_count": null,
      "outputs": [
        {
          "output_type": "stream",
          "name": "stdout",
          "text": [
            "[-6.99868668] 6653.203283302064\n"
          ]
        }
      ]
    },
    {
      "cell_type": "markdown",
      "source": [
        "#특성성 공학과 규제"
      ],
      "metadata": {
        "id": "CKFjB2o4Oa9W"
      }
    },
    {
      "cell_type": "markdown",
      "source": [
        "## 사이킷런의 변환기\n",
        "y = w1*x1*x1 + w2*x1*x2 + w3*x1+w4*x2*x2 + w5*x2 + b\n",
        "\n",
        "[x1,x2,x1*x2, x1 * x1, x2*x2]\n"
      ],
      "metadata": {
        "id": "bjRKajeHVnAL"
      }
    },
    {
      "cell_type": "code",
      "source": [
        "perch_full =perch_df[['Length2','Height','Width']].to_numpy()\n",
        "print(perch_full)"
      ],
      "metadata": {
        "colab": {
          "base_uri": "https://localhost:8080/"
        },
        "id": "75ooE1n4NM85",
        "outputId": "25acebab-0558-4f99-85eb-2eac7d38f4e2"
      },
      "execution_count": null,
      "outputs": [
        {
          "output_type": "stream",
          "name": "stdout",
          "text": [
            "[[ 8.4     2.112   1.408 ]\n",
            " [13.7     3.528   1.9992]\n",
            " [15.      3.824   2.432 ]\n",
            " [16.2     4.5924  2.6316]\n",
            " [17.4     4.588   2.9415]\n",
            " [18.      5.2224  3.3216]\n",
            " [18.7     5.1992  3.1234]\n",
            " [19.      5.6358  3.0502]\n",
            " [19.6     5.1376  3.0368]\n",
            " [20.      5.082   2.772 ]\n",
            " [21.      5.6925  3.555 ]\n",
            " [21.      5.9175  3.3075]\n",
            " [21.      5.6925  3.6675]\n",
            " [21.3     6.384   3.534 ]\n",
            " [22.      6.11    3.4075]\n",
            " [22.      5.64    3.525 ]\n",
            " [22.      6.11    3.525 ]\n",
            " [22.      5.875   3.525 ]\n",
            " [22.      5.5225  3.995 ]\n",
            " [22.5     5.856   3.624 ]\n",
            " [22.5     6.792   3.624 ]\n",
            " [22.7     5.9532  3.63  ]\n",
            " [23.      5.2185  3.626 ]\n",
            " [23.5     6.275   3.725 ]\n",
            " [24.      7.293   3.723 ]\n",
            " [24.      6.375   3.825 ]\n",
            " [24.6     6.7334  4.1658]\n",
            " [25.      6.4395  3.6835]\n",
            " [25.6     6.561   4.239 ]\n",
            " [26.5     7.168   4.144 ]\n",
            " [27.3     8.323   5.1373]\n",
            " [27.5     7.1672  4.335 ]\n",
            " [27.5     7.0516  4.335 ]\n",
            " [27.5     7.2828  4.5662]\n",
            " [28.      7.8204  4.2042]\n",
            " [28.7     7.5852  4.6354]\n",
            " [30.      7.6156  4.7716]\n",
            " [32.8    10.03    6.018 ]\n",
            " [34.5    10.2565  6.3875]\n",
            " [35.     11.4884  7.7957]\n",
            " [36.5    10.881   6.864 ]\n",
            " [36.     10.6091  6.7408]\n",
            " [37.     10.835   6.2646]\n",
            " [37.     10.5717  6.3666]\n",
            " [39.     11.1366  7.4934]\n",
            " [39.     11.1366  6.003 ]\n",
            " [39.     12.4313  7.3514]\n",
            " [40.     11.9286  7.1064]\n",
            " [40.     11.73    7.225 ]\n",
            " [40.     12.3808  7.4624]\n",
            " [40.     11.135   6.63  ]\n",
            " [42.     12.8002  6.8684]\n",
            " [43.     11.9328  7.2772]\n",
            " [43.     12.5125  7.4165]\n",
            " [43.5    12.604   8.142 ]\n",
            " [44.     12.4888  7.5958]]\n"
          ]
        }
      ]
    },
    {
      "cell_type": "code",
      "source": [
        "perch_weigth"
      ],
      "metadata": {
        "id": "H45JOZFTQX1B",
        "colab": {
          "base_uri": "https://localhost:8080/"
        },
        "outputId": "92b71c4e-0732-4db3-a734-2ea560f6a689"
      },
      "execution_count": null,
      "outputs": [
        {
          "output_type": "execute_result",
          "data": {
            "text/plain": [
              "array([   5.9,   32. ,   40. ,   51.5,   70. ,  100. ,   78. ,   80. ,\n",
              "         85. ,   85. ,  110. ,  115. ,  125. ,  130. ,  120. ,  120. ,\n",
              "        130. ,  135. ,  110. ,  130. ,  150. ,  145. ,  150. ,  170. ,\n",
              "        225. ,  145. ,  188. ,  180. ,  197. ,  218. ,  300. ,  260. ,\n",
              "        265. ,  250. ,  250. ,  300. ,  320. ,  514. ,  556. ,  840. ,\n",
              "        685. ,  700. ,  700. ,  690. ,  900. ,  650. ,  820. ,  850. ,\n",
              "        900. , 1015. ,  820. , 1100. , 1000. , 1100. , 1000. , 1000. ])"
            ]
          },
          "metadata": {},
          "execution_count": 32
        }
      ]
    },
    {
      "cell_type": "code",
      "source": [
        "train_input,test_input,train_target,test_target = train_test_split(perch_full,perch_weigth)"
      ],
      "metadata": {
        "id": "qHfPYeCrPph3"
      },
      "execution_count": null,
      "outputs": []
    },
    {
      "cell_type": "code",
      "source": [
        "from sklearn.preprocessing import PolynomialFeatures"
      ],
      "metadata": {
        "id": "ZvuiQBsSQWhf"
      },
      "execution_count": null,
      "outputs": []
    },
    {
      "cell_type": "code",
      "source": [
        "poly = PolynomialFeatures()\n",
        "poly.fit([[2,3]])\n",
        "print(poly.transform([[2,3]]))\n",
        "print(poly.fit_transform([[2,3]]))\n",
        "# [1,x1,x2,x1*x1,x1*x2,x2*x2]"
      ],
      "metadata": {
        "colab": {
          "base_uri": "https://localhost:8080/"
        },
        "id": "O8mNnamSQnDS",
        "outputId": "4de63df1-a550-43d2-ca4f-4ce427f0dcb0"
      },
      "execution_count": null,
      "outputs": [
        {
          "output_type": "stream",
          "name": "stdout",
          "text": [
            "[[1. 2. 3. 4. 6. 9.]]\n",
            "[[1. 2. 3. 4. 6. 9.]]\n"
          ]
        }
      ]
    },
    {
      "cell_type": "code",
      "source": [
        "poly = PolynomialFeatures(degree=3)\n",
        "poly.fit([[2,3]])\n",
        "print(poly.transform([[2,3]]))\n",
        "# [1,x1,x2,x1*x1,x1*x2,x2*x2, x1*x1*x1,x1*x1*x2,x1*x2*x2,x2*x2*x2 ]"
      ],
      "metadata": {
        "colab": {
          "base_uri": "https://localhost:8080/"
        },
        "id": "ptHKVktrQw4K",
        "outputId": "0e765d75-9682-4208-9a65-f0f9f53fdc20"
      },
      "execution_count": null,
      "outputs": [
        {
          "output_type": "stream",
          "name": "stdout",
          "text": [
            "[[ 1.  2.  3.  4.  6.  9.  8. 12. 18. 27.]]\n"
          ]
        }
      ]
    },
    {
      "cell_type": "code",
      "source": [
        "poly = PolynomialFeatures(include_bias=False)\n",
        "poly.fit([[2,3]])\n",
        "print(poly.transform([[2,3]]))\n",
        "#[x1,x2,x1*x1,x1*x2,x2*x2]"
      ],
      "metadata": {
        "colab": {
          "base_uri": "https://localhost:8080/"
        },
        "id": "bCuvFx5PRQLz",
        "outputId": "31583a11-9eac-4474-a72c-567b36b55e89"
      },
      "execution_count": null,
      "outputs": [
        {
          "output_type": "stream",
          "name": "stdout",
          "text": [
            "[[2. 3. 4. 6. 9.]]\n"
          ]
        }
      ]
    },
    {
      "cell_type": "code",
      "source": [
        "poly = PolynomialFeatures(degree=3,include_bias=False)\n",
        "poly.fit([[2,3]])\n",
        "print(poly.transform([[2,3]]))\n",
        "# [x1,x2,x1*x1,x1*x2,x2*x2, x1*x1*x1,x1*x1*x2,x1*x2*x2,x2*x2*x2 ]"
      ],
      "metadata": {
        "colab": {
          "base_uri": "https://localhost:8080/"
        },
        "id": "nuzL6LDwRsjK",
        "outputId": "9784d563-0b97-4382-b967-371094fdc5d6"
      },
      "execution_count": null,
      "outputs": [
        {
          "output_type": "stream",
          "name": "stdout",
          "text": [
            "[[ 2.  3.  4.  6.  9.  8. 12. 18. 27.]]\n"
          ]
        }
      ]
    },
    {
      "cell_type": "code",
      "source": [
        "print(poly.get_feature_names())"
      ],
      "metadata": {
        "colab": {
          "base_uri": "https://localhost:8080/"
        },
        "id": "dFjdg6gaR0wo",
        "outputId": "7e5ebc92-6d49-4c37-c3dc-8807e1549657"
      },
      "execution_count": null,
      "outputs": [
        {
          "output_type": "stream",
          "name": "stdout",
          "text": [
            "['x0', 'x1', 'x0^2', 'x0 x1', 'x1^2', 'x0^3', 'x0^2 x1', 'x0 x1^2', 'x1^3']\n"
          ]
        },
        {
          "output_type": "stream",
          "name": "stderr",
          "text": [
            "/usr/local/lib/python3.7/dist-packages/sklearn/utils/deprecation.py:87: FutureWarning: Function get_feature_names is deprecated; get_feature_names is deprecated in 1.0 and will be removed in 1.2. Please use get_feature_names_out instead.\n",
            "  warnings.warn(msg, category=FutureWarning)\n"
          ]
        }
      ]
    },
    {
      "cell_type": "code",
      "source": [
        "print(train_input.shape)"
      ],
      "metadata": {
        "colab": {
          "base_uri": "https://localhost:8080/"
        },
        "id": "yqdUJiLVSUbd",
        "outputId": "b694a991-3dfb-4713-f029-be4cee8407db"
      },
      "execution_count": null,
      "outputs": [
        {
          "output_type": "stream",
          "name": "stdout",
          "text": [
            "(42, 3)\n"
          ]
        }
      ]
    },
    {
      "cell_type": "code",
      "source": [
        "poly = PolynomialFeatures(include_bias =False)"
      ],
      "metadata": {
        "id": "Y2IGWSoGgces"
      },
      "execution_count": null,
      "outputs": []
    },
    {
      "cell_type": "code",
      "source": [
        "poly.fit([[1,2,3]])\n",
        "train_poly=poly.transform(train_input)\n",
        "test_poly = poly.transform(test_input)\n",
        "print(train_poly.shape)"
      ],
      "metadata": {
        "colab": {
          "base_uri": "https://localhost:8080/"
        },
        "id": "RS09rlimnNBw",
        "outputId": "b8f86c50-f025-4ff8-a3fb-43e74bffb4d8"
      },
      "execution_count": null,
      "outputs": [
        {
          "output_type": "stream",
          "name": "stdout",
          "text": [
            "(42, 9)\n"
          ]
        }
      ]
    },
    {
      "cell_type": "code",
      "source": [
        "lr = LinearRegression()\n",
        "lr.fit(train_poly,train_target)\n",
        "print(lr.score(train_poly,train_target))\n",
        "print(lr.score(test_poly,test_target))"
      ],
      "metadata": {
        "colab": {
          "base_uri": "https://localhost:8080/"
        },
        "id": "6-wNLl0dnf4J",
        "outputId": "4ead6612-8644-429f-a14f-55160da51607"
      },
      "execution_count": null,
      "outputs": [
        {
          "output_type": "stream",
          "name": "stdout",
          "text": [
            "0.9937832279830631\n",
            "0.9611684974457295\n"
          ]
        }
      ]
    },
    {
      "cell_type": "code",
      "source": [
        "poly5 = PolynomialFeatures(include_bias =False,degree=5)\n",
        "poly5.fit([[1,2,3]])\n",
        "train_poly5=poly5.transform(train_input)\n",
        "test_poly5 = poly5.transform(test_input)\n",
        "print(train_poly5.shape)"
      ],
      "metadata": {
        "colab": {
          "base_uri": "https://localhost:8080/"
        },
        "id": "YqhDMWKPoH59",
        "outputId": "85fe856d-da6c-4d1a-e122-c08c2e03ae67"
      },
      "execution_count": null,
      "outputs": [
        {
          "output_type": "stream",
          "name": "stdout",
          "text": [
            "(42, 55)\n"
          ]
        }
      ]
    },
    {
      "cell_type": "code",
      "source": [
        "lr = LinearRegression()\n",
        "lr.fit(train_poly5,train_target)\n",
        "print(lr.score(train_poly5,train_target))\n",
        "print(lr.score(test_poly5,test_target))"
      ],
      "metadata": {
        "colab": {
          "base_uri": "https://localhost:8080/"
        },
        "id": "ANyhJh3BpFHj",
        "outputId": "3dc5040e-05fb-49ac-e0d8-2ccfb475d780"
      },
      "execution_count": null,
      "outputs": [
        {
          "output_type": "stream",
          "name": "stdout",
          "text": [
            "0.9999999999999285\n",
            "-2376.2530502462505\n"
          ]
        }
      ]
    },
    {
      "cell_type": "markdown",
      "source": [
        "언더핏 굿핏 오버핏\n",
        "\n",
        "언더핏에서 굿핏갈때 : 학습데이터증가, 학습양 증가, 특성수를 증가\n",
        "\n",
        "\n",
        "스케일 조정방법 : \n",
        "\n",
        "min max scaler\n",
        "\n",
        "stander scaler"
      ],
      "metadata": {
        "id": "RU6z-48pqel9"
      }
    },
    {
      "cell_type": "code",
      "source": [
        "from sklearn.preprocessing import StandardScaler\n",
        "ss = StandardScaler()\n",
        "ss.fit([[1,2],[1,2],[2,3],[3,4],[3,1]])\n",
        "print(ss.transform([[1,2],[1,2],[2,3],[3,4],[3,1]]))\n",
        "\n",
        "#train_scaled = ss.transform(train_poly)\n",
        "#test_scaled = ss.transform(test_poly)"
      ],
      "metadata": {
        "colab": {
          "base_uri": "https://localhost:8080/"
        },
        "id": "HSOmEKtspJEz",
        "outputId": "85258cfc-f406-4010-dbcc-3d1ceade73f9"
      },
      "execution_count": null,
      "outputs": [
        {
          "output_type": "stream",
          "name": "stdout",
          "text": [
            "[[-1.11803399 -0.39223227]\n",
            " [-1.11803399 -0.39223227]\n",
            " [ 0.          0.58834841]\n",
            " [ 1.11803399  1.56892908]\n",
            " [ 1.11803399 -1.37281295]]\n"
          ]
        }
      ]
    },
    {
      "cell_type": "code",
      "source": [
        "a = np.array([1,1,2,3,3])\n",
        "print(a.mean(),a.std())"
      ],
      "metadata": {
        "colab": {
          "base_uri": "https://localhost:8080/"
        },
        "id": "ZjDhF2Hzrn-X",
        "outputId": "6b75cfde-faaa-4364-8917-9c5dde03f390"
      },
      "execution_count": null,
      "outputs": [
        {
          "output_type": "stream",
          "name": "stdout",
          "text": [
            "2.0 0.8944271909999159\n"
          ]
        }
      ]
    },
    {
      "cell_type": "code",
      "source": [
        "print((a-2.0/0.89))"
      ],
      "metadata": {
        "colab": {
          "base_uri": "https://localhost:8080/"
        },
        "id": "DdT-KxnVsUHd",
        "outputId": "5cc8da34-472b-45be-d283-671ad3f70faf"
      },
      "execution_count": null,
      "outputs": [
        {
          "output_type": "stream",
          "name": "stdout",
          "text": [
            "[-1.24719101 -1.24719101 -0.24719101  0.75280899  0.75280899]\n"
          ]
        }
      ]
    },
    {
      "cell_type": "code",
      "source": [
        "ss = StandardScaler()\n",
        "ss.fit(train_poly)\n",
        "train_scaled = ss.transform(train_poly)\n",
        "test_scaled = ss.transform(test_poly)"
      ],
      "metadata": {
        "id": "AR23FprSsYET"
      },
      "execution_count": null,
      "outputs": []
    },
    {
      "cell_type": "code",
      "source": [
        "lr = LinearRegression()\n",
        "lr.fit(train_scaled,train_target)\n",
        "print(lr.coef_)"
      ],
      "metadata": {
        "colab": {
          "base_uri": "https://localhost:8080/"
        },
        "id": "N82CUZQxuH6o",
        "outputId": "fc3e6956-5070-4e19-ee8a-2904815c0bfc"
      },
      "execution_count": null,
      "outputs": [
        {
          "output_type": "stream",
          "name": "stdout",
          "text": [
            "[  -37.30935822   132.46431534  -333.4220277   1017.3579942\n",
            " -2964.94889647  1236.12757302  1659.43737937  -270.53547262\n",
            "  -101.18636748]\n"
          ]
        }
      ]
    },
    {
      "cell_type": "markdown",
      "source": [
        "y = 1.2x1 -160x2 -38x3 +970x1*x1 -2600x1x2 + 716x1x3 + 2093x2*x2 - 738x2*x3 + 83x3*x3"
      ],
      "metadata": {
        "id": "PIqi5I5mvYJS"
      }
    },
    {
      "cell_type": "markdown",
      "source": [
        "## 릿지와 라쏘 차이 \n",
        "릿지는 계수를 제곱한 값을 기준으로 규제\n",
        "\n",
        "라쏘는 계수의 절댓값을 기준으로 규제\n",
        "\n",
        "일반적으로 릿지를 선호, 라쏘는 계수의 크기를 0으로 만들수잇음"
      ],
      "metadata": {
        "id": "9FcKYywfW3y_"
      }
    },
    {
      "cell_type": "markdown",
      "source": [
        "## 릿지 회귀"
      ],
      "metadata": {
        "id": "bwwrs3FnVUEs"
      }
    },
    {
      "cell_type": "code",
      "source": [
        "from sklearn.linear_model import Ridge\n",
        "ridge = Ridge()\n",
        "ridge.fit(train_scaled,train_target)\n",
        "print(ridge.coef_)"
      ],
      "metadata": {
        "colab": {
          "base_uri": "https://localhost:8080/"
        },
        "id": "xhsBa1l4udCE",
        "outputId": "13a1294e-71f6-4be5-fc87-1e2c7a8a6177"
      },
      "execution_count": null,
      "outputs": [
        {
          "output_type": "stream",
          "name": "stdout",
          "text": [
            "[-28.15797719 -37.19639207 -27.17365532  71.36295978  67.15903263\n",
            "  75.78479294  63.58909271  71.19331204  76.76701513]\n"
          ]
        }
      ]
    },
    {
      "cell_type": "code",
      "source": [
        "print(ridge.score(train_scaled,train_target))\n",
        "print(ridge.score(test_scaled,test_target))"
      ],
      "metadata": {
        "colab": {
          "base_uri": "https://localhost:8080/"
        },
        "id": "Lojg3PuL1fIL",
        "outputId": "ab108318-64cb-4d38-9f48-f7f8bafb951e"
      },
      "execution_count": null,
      "outputs": [
        {
          "output_type": "stream",
          "name": "stdout",
          "text": [
            "0.9900979890874545\n",
            "0.9733290322532152\n"
          ]
        }
      ]
    },
    {
      "cell_type": "markdown",
      "source": [
        "## 라쏘 회귀"
      ],
      "metadata": {
        "id": "QdcIAxayVXiF"
      }
    },
    {
      "cell_type": "code",
      "source": [
        "from sklearn.linear_model import Lasso\n",
        "lasso = Lasso()\n",
        "lasso.fit(train_scaled,train_target)\n",
        "print(lasso.coef_)"
      ],
      "metadata": {
        "colab": {
          "base_uri": "https://localhost:8080/"
        },
        "id": "k42fi2pZ1ycT",
        "outputId": "2e7d39b5-eecf-4d96-fb0c-7e43a24ab1ac"
      },
      "execution_count": null,
      "outputs": [
        {
          "output_type": "stream",
          "name": "stdout",
          "text": [
            "[-30.87063037 -24.6951465  -61.38499202  49.60761674 100.93317906\n",
            " 119.55435799   0.         103.29676799  76.95312778]\n"
          ]
        },
        {
          "output_type": "stream",
          "name": "stderr",
          "text": [
            "/usr/local/lib/python3.7/dist-packages/sklearn/linear_model/_coordinate_descent.py:648: ConvergenceWarning: Objective did not converge. You might want to increase the number of iterations, check the scale of the features or consider increasing regularisation. Duality gap: 6.934e+02, tolerance: 4.768e+02\n",
            "  coef_, l1_reg, l2_reg, X, y, max_iter, tol, rng, random, positive\n"
          ]
        }
      ]
    },
    {
      "cell_type": "code",
      "source": [
        "print(lasso.score(train_scaled,train_target))\n",
        "print(lasso.score(test_scaled,test_target))"
      ],
      "metadata": {
        "colab": {
          "base_uri": "https://localhost:8080/"
        },
        "id": "QoPFqW6M2SBx",
        "outputId": "4f848bbd-e48b-4aaa-f065-48880e0965ab"
      },
      "execution_count": null,
      "outputs": [
        {
          "output_type": "stream",
          "name": "stdout",
          "text": [
            "0.9911347178678193\n",
            "0.9704674397833427\n"
          ]
        }
      ]
    },
    {
      "cell_type": "markdown",
      "source": [
        "## 하이퍼 파라미터 값을 그라디언트하게 전달하면서 적절한 값을 찾아라"
      ],
      "metadata": {
        "id": "w-KUjzZQ3mqS"
      }
    },
    {
      "cell_type": "code",
      "source": [
        "train_score = []\n",
        "test_score = []\n",
        "alpha_list = [0.001,0.01,0.1,1,10,100]\n",
        "for alpha in alpha_list:\n",
        "  ridge = Ridge(alpha=alpha)\n",
        "  ridge.fit(train_scaled,train_target)\n",
        "  train_score.append(ridge.score(train_scaled,train_target))\n",
        "  test_score.append(ridge.score(test_scaled,test_target))\n",
        "print(train_score, test_score)"
      ],
      "metadata": {
        "colab": {
          "base_uri": "https://localhost:8080/"
        },
        "id": "75ymJCsn2mxw",
        "outputId": "29a7a71c-8700-4c35-babb-e2928e66da23"
      },
      "execution_count": null,
      "outputs": [
        {
          "output_type": "stream",
          "name": "stdout",
          "text": [
            "[0.9933970877363184, 0.9931674493708741, 0.9927467286497654, 0.9900979890874545, 0.9781647380077239, 0.9300921925506602] [0.9634622092999225, 0.9662857542767261, 0.9704623245373128, 0.9733290322532152, 0.9713292763307427, 0.9281106854199004]\n"
          ]
        }
      ]
    },
    {
      "cell_type": "code",
      "source": [
        "plt.plot(np.log10(alpha_list),train_score,label='train score')\n",
        "plt.plot(np.log10(alpha_list),test_score,label='test score')\n",
        "plt.show()"
      ],
      "metadata": {
        "colab": {
          "base_uri": "https://localhost:8080/",
          "height": 265
        },
        "id": "dDnjhBzb4Xb0",
        "outputId": "4a594932-911a-49fc-dad0-456e92a18436"
      },
      "execution_count": null,
      "outputs": [
        {
          "output_type": "display_data",
          "data": {
            "text/plain": [
              "<Figure size 432x288 with 1 Axes>"
            ],
            "image/png": "[encoded data removed]"
          },
          "metadata": {
            "needs_background": "light"
          }
        }
      ]
    },
    {
      "cell_type": "code",
      "source": [
        "ridge = Ridge(alpha=0.1)\n",
        "ridge.fit(train_scaled,train_target)\n",
        "print(ridge.score(train_scaled, train_target))\n",
        "print(ridge.score(test_scaled, test_target))"
      ],
      "metadata": {
        "colab": {
          "base_uri": "https://localhost:8080/"
        },
        "id": "keqGeDuJ5imD",
        "outputId": "6c3faa38-3d58-4035-bc4e-a7d07d35ae57"
      },
      "execution_count": null,
      "outputs": [
        {
          "output_type": "stream",
          "name": "stdout",
          "text": [
            "0.9927467286497654\n",
            "0.9704623245373128\n"
          ]
        }
      ]
    },
    {
      "cell_type": "code",
      "source": [
        "plt.plot(np.log10(alpha_list),train_score,label='train score')\n",
        "plt.plot(np.log10(alpha_list),test_score,label='test score')\n",
        "plt.show()"
      ],
      "metadata": {
        "colab": {
          "base_uri": "https://localhost:8080/",
          "height": 265
        },
        "id": "Tqjpoi7H5pQb",
        "outputId": "c0fa56b5-9df0-43b6-e282-93706b69ba0e"
      },
      "execution_count": null,
      "outputs": [
        {
          "output_type": "display_data",
          "data": {
            "text/plain": [
              "<Figure size 432x288 with 1 Axes>"
            ],
            "image/png": "[encoded data removed]"
          },
          "metadata": {
            "needs_background": "light"
          }
        }
      ]
    },
    {
      "cell_type": "code",
      "source": [
        "train_score = []\n",
        "test_score = []\n",
        "alpha_list = [0.001,0.01,0.1,1,10,100]\n",
        "for alpha in alpha_list:\n",
        "  lasso = Lasso(alpha=alpha,max_iter=1000000)\n",
        "  lasso.fit(train_scaled,train_target)\n",
        "  train_score.append(lasso.score(train_scaled,train_target))\n",
        "  test_score.append(lasso.score(test_scaled,test_target))\n",
        "print(train_score, test_score)"
      ],
      "metadata": {
        "colab": {
          "base_uri": "https://localhost:8080/"
        },
        "id": "9z7qUO5h6Qv6",
        "outputId": "35d28b4b-b614-4423-9a1f-922b7c38e19f"
      },
      "execution_count": null,
      "outputs": [
        {
          "output_type": "stream",
          "name": "stdout",
          "text": [
            "[0.9937734434857655, 0.9933766771506926, 0.9931226655308973, 0.9912987411441608, 0.9838225619332032, 0.8962272443564296] [0.9614209804362267, 0.9634969467362857, 0.9647405249349263, 0.9681839284401869, 0.9684751312067448, 0.8790584437779148]\n"
          ]
        }
      ]
    },
    {
      "cell_type": "code",
      "source": [
        "plt.plot(np.log10(alpha_list),train_score,label='train score')\n",
        "plt.plot(np.log10(alpha_list),test_score,label='test score')\n",
        "plt.show()"
      ],
      "metadata": {
        "colab": {
          "base_uri": "https://localhost:8080/",
          "height": 265
        },
        "id": "ARBvMRbd7YLa",
        "outputId": "a48429f4-5e91-4c85-b1f9-680a4a110506"
      },
      "execution_count": null,
      "outputs": [
        {
          "output_type": "display_data",
          "data": {
            "text/plain": [
              "<Figure size 432x288 with 1 Axes>"
            ],
            "image/png": "[encoded data removed]"
          },
          "metadata": {
            "needs_background": "light"
          }
        }
      ]
    },
    {
      "cell_type": "code",
      "source": [
        "lasso = Lasso(alpha=1, max_iter=1000000)\n",
        "lasso.fit(train_scaled,train_target)\n",
        "print(lasso.score(train_scaled,train_target))\n",
        "print(lasso.score(test_scaled,test_target))"
      ],
      "metadata": {
        "colab": {
          "base_uri": "https://localhost:8080/"
        },
        "id": "dWEn3DHb7d9N",
        "outputId": "50e5a0d9-3b57-43b0-e65b-46495c37d7c3"
      },
      "execution_count": null,
      "outputs": [
        {
          "output_type": "stream",
          "name": "stdout",
          "text": [
            "0.9912987411441608\n",
            "0.9681839284401869\n"
          ]
        }
      ]
    },
    {
      "cell_type": "markdown",
      "source": [
        "# 경사하강법"
      ],
      "metadata": {
        "id": "CLZBOT7EAxMP"
      }
    },
    {
      "cell_type": "code",
      "source": [
        "import numpy as np\n",
        "import matplotlib.pyplot as plt\n",
        "ex = [2,4,7,1,9,6]\n",
        "ex_ys = [8,11,24,5,30,20]\n",
        "ex_xs = [[x] for x in ex] # 독립변수 형태로 변환\n",
        "plt.figure(figsize=(4,4))\n",
        "plt.plot(ex,ex_ys,'.')\n",
        "plt.xlim(0,30)\n",
        "plt.ylim(0,30)\n",
        "plt.show()"
      ],
      "metadata": {
        "colab": {
          "base_uri": "https://localhost:8080/",
          "height": 269
        },
        "id": "YzYRnrgX8O-r",
        "outputId": "74196db6-2e73-4bf0-83b7-0b7a310c21c8"
      },
      "execution_count": null,
      "outputs": [
        {
          "output_type": "display_data",
          "data": {
            "text/plain": [
              "<Figure size 288x288 with 1 Axes>"
            ],
            "image/png": "[encoded data removed]"
          },
          "metadata": {
            "needs_background": "light"
          }
        }
      ]
    },
    {
      "cell_type": "code",
      "source": [
        "plt.figure(figsize=(4,4))\n",
        "plt.plot(ex,ex_ys,'.')\n",
        "plt.plot([0,30],[2*0+2,30*2+2],label='y=2x+2')\n",
        "plt.plot([0,30],[3*0+2,30*3+2],label='y=3x+2')\n",
        "plt.plot([0,30],[4*0+2,30*4+2],label='y=4x+2')\n",
        "plt.legend()\n",
        "plt.xlim(0,30)\n",
        "plt.ylim(0,30)\n",
        "plt.show()"
      ],
      "metadata": {
        "colab": {
          "base_uri": "https://localhost:8080/",
          "height": 269
        },
        "id": "BdZ330dOAvOt",
        "outputId": "9ef7512c-91a3-4663-83de-7cd2a22b72b2"
      },
      "execution_count": null,
      "outputs": [
        {
          "output_type": "display_data",
          "data": {
            "text/plain": [
              "<Figure size 288x288 with 1 Axes>"
            ],
            "image/png": "[encoded data removed]"
          },
          "metadata": {
            "needs_background": "light"
          }
        }
      ]
    },
    {
      "cell_type": "markdown",
      "source": [
        "mse = y-yp\n",
        "\n",
        "    = y - w_px + b_p\n",
        "\n"
      ],
      "metadata": {
        "id": "ECaFKEoVE2-Z"
      }
    },
    {
      "cell_type": "code",
      "source": [
        "def mae(yp,y):\n",
        "  return np.mean(np.abs(yp-y))\n",
        "def mse(yp,y):\n",
        "  return np.mean(sum(yp-y)**2)"
      ],
      "metadata": {
        "id": "UOwc1KPjBhir"
      },
      "execution_count": null,
      "outputs": []
    },
    {
      "cell_type": "code",
      "source": [
        "yp=np.array([1,2,9])\n",
        "ya=np.array([2,3,4])\n",
        "print(mae(yp,ya),mse(yp,ya))"
      ],
      "metadata": {
        "colab": {
          "base_uri": "https://localhost:8080/"
        },
        "id": "8eAjcRi5CFGy",
        "outputId": "a8929be8-8533-489b-e76d-801edb72bf0d"
      },
      "execution_count": null,
      "outputs": [
        {
          "output_type": "stream",
          "name": "stdout",
          "text": [
            "2.3333333333333335 9.0\n"
          ]
        }
      ]
    },
    {
      "cell_type": "code",
      "source": [
        "ex_arr = np.array(ex)\n",
        "ey_arr = np.array(ex_ys)\n",
        "mses = []\n",
        "for w in np.arange(-2,5,0.1):\n",
        "  yp = w*ex_arr+2\n",
        "  mses.append(mse(yp,ey_arr))\n",
        "print(mses)\n",
        "print(np.argmin(mses))\n",
        "#print(len(mses))\n",
        "print(mses[50])\n",
        "# yp1 = 2*ex_arr + 2\n",
        "# mses.append(mse(yp1,ey_arr))\n",
        "# yp2 = 3*ex_arr +2\n",
        "# mses.append(mse(yp2,ey_arr))\n",
        "# yp3 = 4*ex_arr +2\n",
        "# mses.append(mse(yp3,ey_arr))\n",
        "# print(mses)"
      ],
      "metadata": {
        "colab": {
          "base_uri": "https://localhost:8080/"
        },
        "id": "1KXzQcsjCPWn",
        "outputId": "c4b83a4c-937c-46e5-cc4a-b60b05ccf159"
      },
      "execution_count": null,
      "outputs": [
        {
          "output_type": "stream",
          "name": "stdout",
          "text": [
            "[20736.0, 19909.21, 19099.239999999998, 18306.089999999997, 17529.760000000002, 16770.25, 16027.559999999998, 15301.689999999993, 14592.639999999996, 13900.409999999994, 13224.999999999993, 12566.409999999996, 11924.639999999994, 11299.68999999999, 10691.559999999996, 10100.249999999995, 9525.759999999991, 8968.089999999993, 8427.239999999993, 7903.209999999994, 7395.99999999999, 6905.609999999992, 6432.039999999992, 5975.289999999991, 5535.359999999992, 5112.249999999992, 4705.959999999992, 4316.489999999991, 3943.8399999999906, 3588.0099999999907, 3248.999999999991, 2926.8099999999918, 2621.4399999999914, 2332.889999999992, 2061.159999999992, 1806.2499999999927, 1568.1599999999928, 1346.8899999999928, 1142.4399999999935, 954.8099999999938, 783.9999999999942, 630.0099999999952, 492.8399999999951, 372.48999999999523, 268.9599999999962, 182.24999999999721, 112.35999999999754, 59.28999999999794, 23.039999999998813, 3.6099999999995696, 1.0000000000002611, 15.210000000001125, 46.24000000000182, 94.0900000000024, 158.76000000000343, 240.2500000000048, 338.56000000000546, 453.6900000000058, 585.6400000000074, 734.410000000009, 900.0000000000092, 1082.4100000000096, 1281.640000000011, 1497.6900000000135, 1730.5600000000138, 1980.2500000000139, 2246.7600000000166, 2530.090000000019, 2830.2400000000184, 3147.2100000000187]\n",
            "50\n",
            "1.0000000000002611\n"
          ]
        }
      ]
    },
    {
      "cell_type": "code",
      "source": [
        "plt.plot(np.arange(-2,5,0.1),mses)\n",
        "plt.xlabel('w')\n",
        "plt.ylabel('mse')\n",
        "plt.show()"
      ],
      "metadata": {
        "colab": {
          "base_uri": "https://localhost:8080/",
          "height": 279
        },
        "id": "W_NiVUkbDnAx",
        "outputId": "e510fddb-6bca-480a-cc98-8dbcaa7039a6"
      },
      "execution_count": null,
      "outputs": [
        {
          "output_type": "display_data",
          "data": {
            "text/plain": [
              "<Figure size 432x288 with 1 Axes>"
            ],
            "image/png": "[encoded data removed]"
          },
          "metadata": {
            "needs_background": "light"
          }
        }
      ]
    },
    {
      "cell_type": "code",
      "source": [
        "def gradient(ys,xs,w,b):\n",
        "  yp = w*xs + b\n",
        "  error = ys-yp\n",
        "  wd = -(2/len(xs))*sum(xs*error)\n",
        "  bd = -(2/len(xs))*sum(error)\n",
        "  return wd,bd"
      ],
      "metadata": {
        "id": "P8Vr1aiMEkKh"
      },
      "execution_count": null,
      "outputs": []
    },
    {
      "cell_type": "code",
      "source": [
        "def gradient_descent(xs,ys,lr=0.001,epochs=1000):\n",
        "  wphl = [] #학습 과정에서의 가중치와 편향을 보관\n",
        "  wp = np.random.uniform(-1,1) # 초기 가중치를 랜덤하게 설정\n",
        "  bp = np.random.uniform(-1,1) # 초기 편향을 랜덤하게 설정\n",
        "  for epoch in range(epochs) : # epoch == 학습할 수\n",
        "    wd,bd = gradient(ys,xs,wp,bp)#가중치와 편향의 기울기를 계산\n",
        "    wp = wp-(wd*lr)\n",
        "    bp = bp -(bd*lr)\n",
        "    wphl.append([wp,bp])\n",
        "  return wp,bp,wphl #가중치 ,편향, 히스토리 반환"
      ],
      "metadata": {
        "id": "4TkcKU_VIMbC"
      },
      "execution_count": null,
      "outputs": []
    },
    {
      "cell_type": "code",
      "source": [
        "wp,bp,wphl = gradient_descent(ex_arr,ey_arr)\n",
        "for epoch, (wb,bd) in enumerate(wphl) : \n",
        "  print(f\"epoch:{epoch:04d} w:{wb:10.2f} b:{bd:10.2f}\")"
      ],
      "metadata": {
        "id": "JZX7GeNuKDaa"
      },
      "execution_count": null,
      "outputs": []
    },
    {
      "cell_type": "code",
      "source": [
        "min_val = min(min(ex_arr),min(ey_arr))\n",
        "max_val = max(max(ex_arr),max(ey_arr))\n",
        "\n",
        "for epoch, (wb,bd) in enumerate(wphl):\n",
        "  plt.figure(figsize =(4,4))\n",
        "  plt.plot(ex_arr,ey_arr,'.',label='actual')\n",
        "  sx = min_val\n",
        "  sy = wb * sx +bd \n",
        "  ex = max_val\n",
        "  ey = wb*ex + bd\n",
        "  plt.plot([sx,ex],[sy,ey],label=f'epoch:{epoch} y = {wb:.2f}x+{bd:.2f}')\n",
        "  plt.xlim(min_val,max_val)\n",
        "  plt.ylim(min_val,max_val)\n",
        "  plt.legend()\n",
        "  plt.show()\n",
        "  if epoch == 200:\n",
        "    break"
      ],
      "metadata": {
        "id": "e78myYWtK1sp"
      },
      "execution_count": null,
      "outputs": []
    },
    {
      "cell_type": "code",
      "source": [
        ""
      ],
      "metadata": {
        "id": "d5feMZWjLzFh"
      },
      "execution_count": null,
      "outputs": []
    }
  ]
}