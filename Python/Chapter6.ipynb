{
 "cells": [
  {
   "cell_type": "markdown",
   "id": "4e1e3586-450b-491d-a040-9d73065f6a53",
   "metadata": {},
   "source": [
    "# Chapter 6\n",
    "\n",
    " - 반복!"
   ]
  },
  {
   "cell_type": "code",
   "execution_count": 2,
   "id": "acfd332d-b89d-4976-aedd-0fa318940f47",
   "metadata": {},
   "outputs": [
    {
     "name": "stdout",
     "output_type": "stream",
     "text": [
      "안녕하세요.... 0\n",
      "안녕하세요.... 2\n",
      "안녕하세요.... 4\n",
      "안녕하세요.... 6\n",
      "안녕하세요.... 8\n"
     ]
    }
   ],
   "source": [
    "for i in range(0, 10, 2):\n",
    "    print('안녕하세요....', i)"
   ]
  },
  {
   "cell_type": "code",
   "execution_count": 3,
   "id": "900bcc86-0041-4443-a880-64d109d742a6",
   "metadata": {},
   "outputs": [
    {
     "name": "stdout",
     "output_type": "stream",
     "text": [
      "안녕하세요.... 20\n",
      "안녕하세요.... 22\n",
      "안녕하세요.... 24\n",
      "안녕하세요.... 26\n",
      "안녕하세요.... 28\n",
      "안녕하세요.... 30\n",
      "안녕하세요.... 32\n",
      "안녕하세요.... 34\n",
      "안녕하세요.... 36\n",
      "안녕하세요.... 38\n",
      "안녕하세요.... 40\n",
      "안녕하세요.... 42\n",
      "안녕하세요.... 44\n",
      "안녕하세요.... 46\n",
      "안녕하세요.... 48\n"
     ]
    }
   ],
   "source": [
    "for i in range(20, 50, 2):\n",
    "    print('안녕하세요....', i)"
   ]
  },
  {
   "cell_type": "code",
   "execution_count": null,
   "id": "fc20cf03-ec3f-4dee-864d-0e3517db488a",
   "metadata": {},
   "outputs": [],
   "source": []
  },
  {
   "cell_type": "markdown",
   "id": "e6254a66-8c57-4e1a-96b2-8b2e08d29044",
   "metadata": {},
   "source": [
    "range()"
   ]
  },
  {
   "cell_type": "code",
   "execution_count": 4,
   "id": "ef8b969e-e02f-4ad9-bee1-3aaec15a788c",
   "metadata": {},
   "outputs": [
    {
     "data": {
      "text/plain": [
       "range(0, 5)"
      ]
     },
     "execution_count": 4,
     "metadata": {},
     "output_type": "execute_result"
    }
   ],
   "source": [
    "range(0, 5, 1)"
   ]
  },
  {
   "cell_type": "code",
   "execution_count": 5,
   "id": "598eb1ed-aca3-4bce-83be-8b8797f1d54f",
   "metadata": {},
   "outputs": [
    {
     "data": {
      "text/plain": [
       "range"
      ]
     },
     "execution_count": 5,
     "metadata": {},
     "output_type": "execute_result"
    }
   ],
   "source": [
    "type(range(0, 5, 1))"
   ]
  },
  {
   "cell_type": "code",
   "execution_count": 6,
   "id": "a99d2d00-b4d5-48eb-93bd-8282573d70b6",
   "metadata": {},
   "outputs": [
    {
     "data": {
      "text/plain": [
       "list"
      ]
     },
     "execution_count": 6,
     "metadata": {},
     "output_type": "execute_result"
    }
   ],
   "source": [
    "type([0, 1, 3, 5, 9, 10])"
   ]
  },
  {
   "cell_type": "code",
   "execution_count": 7,
   "id": "38bb794c-de17-4c19-b4c6-cd7e0084ce39",
   "metadata": {},
   "outputs": [
    {
     "data": {
      "text/plain": [
       "list"
      ]
     },
     "execution_count": 7,
     "metadata": {},
     "output_type": "execute_result"
    }
   ],
   "source": [
    "type(['하나', 100, -0.934, range(1,3,1)])"
   ]
  },
  {
   "cell_type": "code",
   "execution_count": 8,
   "id": "47cccf02-d124-40c7-a401-c9f7fab1594f",
   "metadata": {},
   "outputs": [
    {
     "name": "stdout",
     "output_type": "stream",
     "text": [
      "0\n",
      "1\n",
      "3\n",
      "5\n",
      "9\n",
      "10\n"
     ]
    }
   ],
   "source": [
    "# 리스트\n",
    "for i in [0, 1, 3, 5, 9, 10]:\n",
    "    print(i)"
   ]
  },
  {
   "cell_type": "code",
   "execution_count": 9,
   "id": "5a634fa5-45a3-459c-b3b6-b89dff81eaba",
   "metadata": {},
   "outputs": [
    {
     "name": "stdout",
     "output_type": "stream",
     "text": [
      "하나\n",
      "100\n",
      "-0.934\n",
      "range(1, 3)\n"
     ]
    }
   ],
   "source": [
    "for i in ['하나', 100, -0.934, range(1,3,1)]:\n",
    "    print(i)"
   ]
  },
  {
   "cell_type": "markdown",
   "id": "65846f9a-b3f2-40c7-ab33-ddc83e1e3c04",
   "metadata": {},
   "source": [
    "형식화 문자열."
   ]
  },
  {
   "cell_type": "code",
   "execution_count": 12,
   "id": "524f7089-2ba1-4f4e-8cf6-536b36d10dbf",
   "metadata": {},
   "outputs": [
    {
     "name": "stdout",
     "output_type": "stream",
     "text": [
      "안녕하세요... 1\n",
      "안녕하세요... 1\n",
      "안녕하세요... 1\n",
      "안녕하세요... 2\n",
      "안녕하세요... 2\n",
      "안녕하세요... 2\n",
      "안녕하세요... 3\n",
      "안녕하세요... 3\n",
      "안녕하세요... 3\n"
     ]
    }
   ],
   "source": [
    "for i in range(1, 4, 1):\n",
    "    print(f'안녕하세요... {i}')\n",
    "    print('안녕하세요... {}'.format(i))\n",
    "    print('안녕하세요... %d' % i)"
   ]
  },
  {
   "cell_type": "markdown",
   "id": "74c1550f-497f-4516-a980-bb170cdea60d",
   "metadata": {},
   "source": [
    "던더~ (`_`)"
   ]
  },
  {
   "cell_type": "code",
   "execution_count": 13,
   "id": "91259a7d-7a64-4fed-9413-f45ac2fa2114",
   "metadata": {},
   "outputs": [
    {
     "name": "stdout",
     "output_type": "stream",
     "text": [
      "안녕하세요... \n",
      "안녕하세요... \n",
      "안녕하세요... \n"
     ]
    }
   ],
   "source": [
    "for _ in range(1, 4, 1):\n",
    "    print('안녕하세요... ')"
   ]
  },
  {
   "cell_type": "markdown",
   "id": "2a37dcb3-84c0-45b5-a455-85aa81ab122b",
   "metadata": {},
   "source": [
    "내림차순..."
   ]
  },
  {
   "cell_type": "code",
   "execution_count": 14,
   "id": "2ce97889-d69c-4a3c-b191-34e3ba0bd8e8",
   "metadata": {},
   "outputs": [
    {
     "name": "stdout",
     "output_type": "stream",
     "text": [
      "안녕하세요...  5\n",
      "안녕하세요...  4\n",
      "안녕하세요...  3\n",
      "안녕하세요...  2\n",
      "안녕하세요...  1\n",
      "안녕하세요...  0\n",
      "안녕하세요...  -1\n",
      "안녕하세요...  -2\n",
      "안녕하세요...  -3\n",
      "안녕하세요...  -4\n"
     ]
    }
   ],
   "source": [
    "for i in range(5, -5, -1):\n",
    "    print('안녕하세요... ', i)"
   ]
  },
  {
   "cell_type": "markdown",
   "id": "1a8798a0-029d-4e9b-891c-3328586a361f",
   "metadata": {},
   "source": [
    "줄바꿈(carrage return, line feed)\n",
    " - `\\n` : "
   ]
  },
  {
   "cell_type": "code",
   "execution_count": 15,
   "id": "11183ddc-f7e0-469f-86d3-419efb6fbd4d",
   "metadata": {},
   "outputs": [
    {
     "name": "stdout",
     "output_type": "stream",
     "text": [
      "3 \n",
      "2 \n",
      "1 \n",
      "0 \n",
      "-1 \n"
     ]
    }
   ],
   "source": [
    "for i in range(3, -2, -1):\n",
    "    print('%d ' % i)"
   ]
  },
  {
   "cell_type": "code",
   "execution_count": 16,
   "id": "40a0e634-c4ab-49d2-a26f-6f9a7968d7f7",
   "metadata": {},
   "outputs": [
    {
     "name": "stdout",
     "output_type": "stream",
     "text": [
      "3 2 1 0 -1 "
     ]
    }
   ],
   "source": [
    "for i in range(3, -2, -1):\n",
    "    print('%d ' % i, end=\"\")"
   ]
  },
  {
   "cell_type": "code",
   "execution_count": 17,
   "id": "54fff376-fa5f-4117-8597-7f0bf569a9be",
   "metadata": {},
   "outputs": [
    {
     "data": {
      "text/plain": [
       "\u001b[1;31mDocstring:\u001b[0m\n",
       "print(value, ..., sep=' ', end='\\n', file=sys.stdout, flush=False)\n",
       "\n",
       "Prints the values to a stream, or to sys.stdout by default.\n",
       "Optional keyword arguments:\n",
       "file:  a file-like object (stream); defaults to the current sys.stdout.\n",
       "sep:   string inserted between values, default a space.\n",
       "end:   string appended after the last value, default a newline.\n",
       "flush: whether to forcibly flush the stream.\n",
       "\u001b[1;31mType:\u001b[0m      builtin_function_or_method\n"
      ]
     },
     "metadata": {},
     "output_type": "display_data"
    }
   ],
   "source": [
    "print?"
   ]
  },
  {
   "cell_type": "code",
   "execution_count": null,
   "id": "89587bf1-a393-4302-8127-d04b92ed8b60",
   "metadata": {},
   "outputs": [],
   "source": [
    "print(1,2,3,4,5,)"
   ]
  },
  {
   "cell_type": "code",
   "execution_count": 18,
   "id": "935bfe23-a7dd-4b37-bc2b-eb56162c4014",
   "metadata": {},
   "outputs": [
    {
     "name": "stdout",
     "output_type": "stream",
     "text": [
      "3 \t2 \t1 \t0 \t-1 \t"
     ]
    }
   ],
   "source": [
    "for i in range(3, -2, -1):\n",
    "    print('%d ' % i, end=\"\\t\")"
   ]
  },
  {
   "cell_type": "code",
   "execution_count": null,
   "id": "e36d1d73-1a30-4bbb-847c-1401b68526cb",
   "metadata": {},
   "outputs": [],
   "source": []
  },
  {
   "cell_type": "markdown",
   "id": "7fa028a2-185b-4130-8394-d9ab672b2c78",
   "metadata": {},
   "source": [
    "## p153 실습"
   ]
  },
  {
   "cell_type": "code",
   "execution_count": 21,
   "id": "c592a2aa-2bae-49ba-9fc5-b97ce112e7ea",
   "metadata": {},
   "outputs": [
    {
     "ename": "NameError",
     "evalue": "name 'hap' is not defined",
     "output_type": "error",
     "traceback": [
      "\u001b[1;31m---------------------------------------------------------------------------\u001b[0m",
      "\u001b[1;31mNameError\u001b[0m                                 Traceback (most recent call last)",
      "Input \u001b[1;32mIn [21]\u001b[0m, in \u001b[0;36m<cell line: 1>\u001b[1;34m()\u001b[0m\n\u001b[1;32m----> 1\u001b[0m \u001b[43mhap\u001b[49m\n",
      "\u001b[1;31mNameError\u001b[0m: name 'hap' is not defined"
     ]
    }
   ],
   "source": [
    "hap"
   ]
  },
  {
   "cell_type": "code",
   "execution_count": 19,
   "id": "401edb13-d100-463c-a09d-03c43a0c878c",
   "metadata": {},
   "outputs": [
    {
     "ename": "NameError",
     "evalue": "name 'hap' is not defined",
     "output_type": "error",
     "traceback": [
      "\u001b[1;31m---------------------------------------------------------------------------\u001b[0m",
      "\u001b[1;31mNameError\u001b[0m                                 Traceback (most recent call last)",
      "Input \u001b[1;32mIn [19]\u001b[0m, in \u001b[0;36m<cell line: 3>\u001b[1;34m()\u001b[0m\n\u001b[0;32m      1\u001b[0m i \u001b[38;5;241m=\u001b[39m \u001b[38;5;241m0\u001b[39m\n\u001b[0;32m      3\u001b[0m \u001b[38;5;28;01mfor\u001b[39;00m i \u001b[38;5;129;01min\u001b[39;00m \u001b[38;5;28mrange\u001b[39m(\u001b[38;5;241m1\u001b[39m, \u001b[38;5;241m11\u001b[39m, \u001b[38;5;241m1\u001b[39m) :\n\u001b[1;32m----> 4\u001b[0m      hap \u001b[38;5;241m=\u001b[39m \u001b[43mhap\u001b[49m \u001b[38;5;241m+\u001b[39m i\n\u001b[0;32m      6\u001b[0m \u001b[38;5;28mprint\u001b[39m(\u001b[38;5;124m\"\u001b[39m\u001b[38;5;124m1에서 10까지의 합계 : \u001b[39m\u001b[38;5;132;01m%d\u001b[39;00m\u001b[38;5;124m\"\u001b[39m \u001b[38;5;241m%\u001b[39m hap)\n",
      "\u001b[1;31mNameError\u001b[0m: name 'hap' is not defined"
     ]
    }
   ],
   "source": [
    "i = 0\n",
    "# 1부터 10까지 합산!!!!\n",
    "for i in range(1, 11, 1) :\n",
    "     hap = hap + i\n",
    "\n",
    "print(\"1에서 10까지의 합계 : %d\" % hap)"
   ]
  },
  {
   "cell_type": "code",
   "execution_count": 22,
   "id": "e80aba8e-57f9-4ead-b097-0857108367c4",
   "metadata": {},
   "outputs": [
    {
     "name": "stdout",
     "output_type": "stream",
     "text": [
      "1에서 10까지의 합계 : 55\n"
     ]
    }
   ],
   "source": [
    "i = 0\n",
    "hap = 0\n",
    "\n",
    "# 1부터 10까지 합산!!!!\n",
    "for i in range(1, 11, 1) :\n",
    "     hap = hap + i\n",
    "    # 복합연산자: +=\n",
    "\n",
    "print(\"1에서 10까지의 합계 : %d\" % hap)"
   ]
  },
  {
   "cell_type": "markdown",
   "id": "0ca3a513-9896-4c9e-bc87-a5ba2c31e927",
   "metadata": {},
   "source": [
    "## p154 홀수의 합 구하는 실습\n",
    "\n",
    " - for 이용"
   ]
  },
  {
   "cell_type": "code",
   "execution_count": 23,
   "id": "4640b931-e4f9-40cc-ae9b-f125cb1930e7",
   "metadata": {},
   "outputs": [
    {
     "name": "stdout",
     "output_type": "stream",
     "text": [
      "1과 20 사이에 있는 홀수의 합계 : 100\n"
     ]
    }
   ],
   "source": [
    "i, hap = 0, 0\n",
    "\n",
    "for i in range(1, 20, 2) :\n",
    "     hap = hap + i\n",
    "\n",
    "print(\"1과 20 사이에 있는 홀수의 합계 : %d\" % hap)"
   ]
  },
  {
   "cell_type": "markdown",
   "id": "9b19b360-d348-4c58-a53a-1b107c9cbfbb",
   "metadata": {},
   "source": [
    "짝수의 합 구하는 실습"
   ]
  },
  {
   "cell_type": "code",
   "execution_count": 24,
   "id": "eaa56403-8964-4bef-94a1-8f4c94be48c7",
   "metadata": {},
   "outputs": [
    {
     "name": "stdout",
     "output_type": "stream",
     "text": [
      "1과 20 사이에 있는 짝수의 합계 : 90\n"
     ]
    }
   ],
   "source": [
    "i, hap = 0, 0\n",
    "\n",
    "for i in range(0, 20, 2) :\n",
    "     hap = hap + i\n",
    "\n",
    "print(\"1과 20 사이에 있는 짝수의 합계 : %d\" % hap)"
   ]
  },
  {
   "cell_type": "markdown",
   "id": "c833ce88-55f2-4be8-a28c-d06c715e3b23",
   "metadata": {},
   "source": [
    "## 중첩 for"
   ]
  },
  {
   "cell_type": "code",
   "execution_count": 29,
   "id": "e11d5862-a696-4dd4-873a-192cc9530fad",
   "metadata": {},
   "outputs": [
    {
     "name": "stdout",
     "output_type": "stream",
     "text": [
      "안녕하세요:  11 1\n",
      "안녕하세요:  12 1\n",
      "안녕하세요:  13 1\n",
      "안녕하세요:  14 1\n",
      "안녕하세요:  15 1\n",
      "안녕하세요:  11 2\n",
      "안녕하세요:  12 2\n",
      "안녕하세요:  13 2\n",
      "안녕하세요:  14 2\n",
      "안녕하세요:  15 2\n",
      "안녕하세요:  11 3\n",
      "안녕하세요:  12 3\n",
      "안녕하세요:  13 3\n",
      "안녕하세요:  14 3\n",
      "안녕하세요:  15 3\n",
      "안녕하세요:  11 4\n",
      "안녕하세요:  12 4\n",
      "안녕하세요:  13 4\n",
      "안녕하세요:  14 4\n",
      "안녕하세요:  15 4\n"
     ]
    }
   ],
   "source": [
    "for i in range(1, 5, 1):\n",
    "    for j in range(11, 16, 1):\n",
    "        print('안녕하세요: ', j, i)"
   ]
  },
  {
   "cell_type": "markdown",
   "id": "fdea3067-90d3-4bf6-a417-010b255b5196",
   "metadata": {},
   "source": [
    "## 별 그리기!!!\n",
    "\n",
    "for 반복문으로 피라미드(삼각형) 그려보세요.\n",
    "\n",
    "```\n",
    "*\n",
    "**\n",
    "***\n",
    "****\n",
    "*****\n",
    "```"
   ]
  },
  {
   "cell_type": "code",
   "execution_count": 30,
   "id": "0030558f-daf4-41d4-873c-23b5e2bd381a",
   "metadata": {},
   "outputs": [
    {
     "name": "stdout",
     "output_type": "stream",
     "text": [
      "*\n",
      "**\n",
      "***\n",
      "****\n",
      "*****\n"
     ]
    }
   ],
   "source": [
    "# 삼각형\n",
    "for i in range(1, 6):\n",
    "    for j in range(1, i+1):\n",
    "        print('*', end='')\n",
    "    print()"
   ]
  },
  {
   "cell_type": "markdown",
   "id": "2791a427-36c7-4aa6-ad28-4628b6a7297d",
   "metadata": {},
   "source": [
    "# while"
   ]
  },
  {
   "cell_type": "code",
   "execution_count": 32,
   "id": "dad5d185-7574-4e28-91bf-2c7d33f868f2",
   "metadata": {},
   "outputs": [
    {
     "name": "stdout",
     "output_type": "stream",
     "text": [
      "0\n",
      "1\n",
      "2\n"
     ]
    }
   ],
   "source": [
    "i = 0\n",
    "\n",
    "while i < 3:\n",
    "    print(i)\n",
    "    i += 1   # break 되는 조건!!!"
   ]
  },
  {
   "cell_type": "code",
   "execution_count": 34,
   "id": "3e2a6274-ef8a-4ad0-9a7e-3e77917b697c",
   "metadata": {},
   "outputs": [
    {
     "name": "stdout",
     "output_type": "stream",
     "text": [
      "1\n",
      "2\n",
      "3\n"
     ]
    }
   ],
   "source": [
    "for i in range(1, 4):\n",
    "    print(i)"
   ]
  },
  {
   "cell_type": "markdown",
   "id": "3f77b593-7788-4f0d-9cb6-079e3de6012f",
   "metadata": {},
   "source": [
    "p167 계산기"
   ]
  },
  {
   "cell_type": "code",
   "execution_count": null,
   "id": "831ac65d-168c-4330-94b5-14e2fbec7279",
   "metadata": {},
   "outputs": [],
   "source": [
    "ch = \"\"\n",
    "a, b = 0, 0\n",
    "\n",
    "while True :\n",
    "        a = int(input(\"계산할 첫 번째 수를 입력하세요 : \"))\n",
    "        b = int(input(\"계산할 두 번째 수를 입력하세요 : \"))\n",
    "        ch = input(\"계산할 연산자를 입력하세요 : \")\n",
    "\n",
    "        if (ch == \"+\") :\n",
    "                print(\"%d + %d = %d\" % (a, b, a + b))\n",
    "        elif (ch == \"-\") :\n",
    "                print(\"%d - %d = %d\" % (a, b, a - b))\n",
    "        elif (ch == \"*\") :\n",
    "                print(\"%d * %d = %d\" % (a, b, a * b))\n",
    "        elif (ch == \"/\") :\n",
    "                print(\"%d / %d = %5.2f\" % (a, b, a / b))\n",
    "        elif (ch == \"%\") :\n",
    "                print(\"%d %% %d = %d\" % (a, b, a % b))\n",
    "        elif (ch == \"//\") :\n",
    "                print(\"%d // %d = %d\" % (a, b, a // b))\n",
    "        elif (ch == \"**\") :\n",
    "                print(\"%d ** %d = %d\" % (a, b, a ** b))\n",
    "        else :\n",
    "                print(\"연산자를 잘못 입력했습니다\")\n"
   ]
  },
  {
   "cell_type": "code",
   "execution_count": null,
   "id": "1a2257f6-0012-41b5-9a41-259af1127508",
   "metadata": {},
   "outputs": [],
   "source": []
  },
  {
   "cell_type": "markdown",
   "id": "c8b9b4b9-c0fc-4a8a-b2eb-fbae757b92ad",
   "metadata": {},
   "source": [
    "## break"
   ]
  },
  {
   "cell_type": "code",
   "execution_count": 36,
   "id": "51835552-f168-46a9-aee1-197b9a15491e",
   "metadata": {},
   "outputs": [],
   "source": [
    "for i in range(1, 100):\n",
    "    \n",
    "    break\n",
    "    \n",
    "    print(\"for %d times:\" % i)\n"
   ]
  },
  {
   "cell_type": "code",
   "execution_count": 37,
   "id": "fbda29f6-f987-4681-92d5-2ebf717137f7",
   "metadata": {},
   "outputs": [
    {
     "name": "stdout",
     "output_type": "stream",
     "text": [
      "while ...\n"
     ]
    }
   ],
   "source": [
    "while True:\n",
    "    \n",
    "    print(\"while ...\")\n",
    "\n",
    "    break"
   ]
  },
  {
   "cell_type": "markdown",
   "id": "7d9f3fd1-d8b0-45e7-9bdd-0f77051cd301",
   "metadata": {},
   "source": [
    "p169 코드 실습"
   ]
  },
  {
   "cell_type": "markdown",
   "id": "15a82ee6-fb42-4802-9b5a-fce2967d7f79",
   "metadata": {},
   "source": [
    "주석:\n",
    " - 한 줄 주석: `#`\n",
    " - 블럭(범위, 여러 줄) 주석 X\n",
    "     - 대체: `\"\"\" \"\"\"`"
   ]
  },
  {
   "cell_type": "code",
   "execution_count": 40,
   "id": "978a3d57-8aaf-4610-b504-e462c72c5181",
   "metadata": {},
   "outputs": [],
   "source": [
    "t = \"\"\"안녕하세요.\n",
    "반갑슴니다...\n",
    "\"\"\""
   ]
  },
  {
   "cell_type": "code",
   "execution_count": 41,
   "id": "acde3a2c-f72e-4fdc-be45-15f3150a4805",
   "metadata": {},
   "outputs": [
    {
     "data": {
      "text/plain": [
       "'안녕하세요.\\n반갑슴니다...\\n'"
      ]
     },
     "execution_count": 41,
     "metadata": {},
     "output_type": "execute_result"
    }
   ],
   "source": [
    "t"
   ]
  },
  {
   "cell_type": "code",
   "execution_count": null,
   "id": "a3e0852d-4440-4d26-994b-0bb29eaded62",
   "metadata": {},
   "outputs": [
    {
     "ename": "SyntaxError",
     "evalue": "EOL while scanning string literal (3957777496.py, line 1)",
     "output_type": "error",
     "traceback": [
      "\u001b[1;36m  Input \u001b[1;32mIn [42]\u001b[1;36m\u001b[0m\n\u001b[1;33m    t = \"안녕하세요.\u001b[0m\n\u001b[1;37m               ^\u001b[0m\n\u001b[1;31mSyntaxError\u001b[0m\u001b[1;31m:\u001b[0m EOL while scanning string literal\n"
     ]
    }
   ],
   "source": [
    "t = \"안녕하세요.\n",
    "반삽니다...\n",
    "\""
   ]
  },
  {
   "cell_type": "code",
   "execution_count": 39,
   "id": "c6a104c0-c616-4eda-a590-5d82745678a2",
   "metadata": {},
   "outputs": [
    {
     "name": "stdin",
     "output_type": "stream",
     "text": [
      "더할 첫 번째 수를 입력하세요 :  10\n"
     ]
    },
    {
     "name": "stdout",
     "output_type": "stream",
     "text": [
      "문자가 입력됐습니다. 끝냅니다..\n",
      "0을 입력해 반복문을 탈출했습니다\n"
     ]
    }
   ],
   "source": [
    "hap = 0\n",
    "a, b = 0, 0\n",
    "\n",
    "while True :\n",
    "    a = int(input(\"더할 첫 번째 수를 입력하세요 : \"))\n",
    "    if a == 0 :\n",
    "        print(\"0이 입력됐습니다.. 끝냅니다..\")\n",
    "        break\n",
    "        \n",
    "    b = int(input(\"더할 두 번째 수를 입력하세요 : \"))\n",
    "    hap = a + b\n",
    "    print(\"%d + %d = %d\" % (a, b, hap))\n",
    "\n",
    "print(\"0을 입력해 반복문을 탈출했습니다\")"
   ]
  },
  {
   "cell_type": "code",
   "execution_count": 44,
   "id": "34428d9f-b96b-467e-9ee0-338f7792dbfc",
   "metadata": {},
   "outputs": [
    {
     "name": "stdout",
     "output_type": "stream",
     "text": [
      "안녕하세요:  11 1\n",
      "안녕하세요:  12 1\n",
      "안녕하세요:  13 1\n",
      "안녕하세요:  14 1\n",
      "안녕하세요:  11 2\n",
      "안녕하세요:  12 2\n",
      "안녕하세요:  13 2\n",
      "안녕하세요:  14 2\n",
      "안녕하세요:  11 3\n",
      "안녕하세요:  12 3\n",
      "안녕하세요:  13 3\n",
      "안녕하세요:  14 3\n",
      "안녕하세요:  11 4\n",
      "안녕하세요:  12 4\n",
      "안녕하세요:  13 4\n",
      "안녕하세요:  14 4\n"
     ]
    }
   ],
   "source": [
    "# 중첩반복문과 break\n",
    "\n",
    "for i in range(1, 5, 1):\n",
    "    \n",
    "    # break.\n",
    "    \n",
    "    for j in range(11, 16, 1):\n",
    "        print('안녕하세요: ', j, i)\n",
    "        if j == 14:\n",
    "            break\n",
    "            \n",
    "    # break"
   ]
  },
  {
   "cell_type": "markdown",
   "id": "accc8c80-051e-4ea0-9bc9-0cf166f14382",
   "metadata": {},
   "source": [
    "## continue"
   ]
  },
  {
   "cell_type": "code",
   "execution_count": 45,
   "id": "1942eb58-0db8-4261-b514-e7bb4c8b68a1",
   "metadata": {},
   "outputs": [
    {
     "name": "stdout",
     "output_type": "stream",
     "text": [
      "for 1 times:\n",
      "for 2 times:\n",
      "for 4 times:\n",
      "for 5 times:\n",
      "for 7 times:\n",
      "for 8 times:\n",
      "for 10 times:\n",
      "for 11 times:\n",
      "for 13 times:\n",
      "for 14 times:\n",
      "for 16 times:\n",
      "for 17 times:\n",
      "for 19 times:\n",
      "for 20 times:\n",
      "for 22 times:\n",
      "for 23 times:\n",
      "for 25 times:\n",
      "for 26 times:\n",
      "for 28 times:\n",
      "for 29 times:\n",
      "for 31 times:\n",
      "for 32 times:\n",
      "for 34 times:\n",
      "for 35 times:\n",
      "for 37 times:\n",
      "for 38 times:\n",
      "for 40 times:\n",
      "for 41 times:\n",
      "for 43 times:\n",
      "for 44 times:\n",
      "for 46 times:\n",
      "for 47 times:\n",
      "for 49 times:\n",
      "for 50 times:\n",
      "for 52 times:\n",
      "for 53 times:\n",
      "for 55 times:\n",
      "for 56 times:\n",
      "for 58 times:\n",
      "for 59 times:\n",
      "for 61 times:\n",
      "for 62 times:\n",
      "for 64 times:\n",
      "for 65 times:\n",
      "for 67 times:\n",
      "for 68 times:\n",
      "for 70 times:\n",
      "for 71 times:\n",
      "for 73 times:\n",
      "for 74 times:\n",
      "for 76 times:\n",
      "for 77 times:\n",
      "for 79 times:\n",
      "for 80 times:\n",
      "for 82 times:\n",
      "for 83 times:\n",
      "for 85 times:\n",
      "for 86 times:\n",
      "for 88 times:\n",
      "for 89 times:\n",
      "for 91 times:\n",
      "for 92 times:\n",
      "for 94 times:\n",
      "for 95 times:\n",
      "for 97 times:\n",
      "for 98 times:\n"
     ]
    }
   ],
   "source": [
    "for i in range(1, 100):\n",
    "    if i % 3 == 0:\n",
    "        continue\n",
    "    print(\"for %d times:\" % i)"
   ]
  },
  {
   "cell_type": "markdown",
   "id": "0be64955-ce69-48bd-834e-0cde9e3629f7",
   "metadata": {},
   "source": [
    "## p177 쪽 연습문제 :\n",
    " - 6번:\n",
    " - 8번: while 수정."
   ]
  },
  {
   "cell_type": "code",
   "execution_count": 46,
   "id": "c23c0bbc-27b0-4b76-be84-b7d414f7a53d",
   "metadata": {},
   "outputs": [
    {
     "name": "stdout",
     "output_type": "stream",
     "text": [
      "쿡북~\n",
      "쿡북~\n",
      "쿡북~\n",
      "쿡북~\n",
      "쿡북~\n",
      "쿡북~\n",
      "쿡북~\n",
      "쿡북~\n",
      "쿡북~\n",
      "쿡북~\n",
      "쿡북~\n",
      "쿡북~\n",
      "쿡북~\n",
      "쿡북~\n",
      "쿡북~\n",
      "쿡북~\n",
      "쿡북~\n",
      "쿡북~\n",
      "쿡북~\n",
      "쿡북~\n",
      "쿡북~\n",
      "쿡북~\n",
      "쿡북~\n",
      "쿡북~\n"
     ]
    }
   ],
   "source": [
    "for i in range(4):\n",
    "    for j in range(3):\n",
    "        for k in range(2):\n",
    "            print(\"쿡북~\")"
   ]
  },
  {
   "cell_type": "code",
   "execution_count": 47,
   "id": "38cb0a31-02f8-4bb1-8c90-8cd2f57adf11",
   "metadata": {},
   "outputs": [
    {
     "name": "stdout",
     "output_type": "stream",
     "text": [
      "23088\n"
     ]
    }
   ],
   "source": [
    "hap = 0\n",
    "n = 1234\n",
    "\n",
    "while n < 4568 :\n",
    "    if n % 444 == 0 :\n",
    "        hap += n\n",
    "    n += 1\n",
    "print(hap)"
   ]
  }
 ],
 "metadata": {
  "kernelspec": {
   "display_name": "Python 3 (ipykernel)",
   "language": "python",
   "name": "python3"
  },
  "language_info": {
   "codemirror_mode": {
    "name": "ipython",
    "version": 3
   },
   "file_extension": ".py",
   "mimetype": "text/x-python",
   "name": "python",
   "nbconvert_exporter": "python",
   "pygments_lexer": "ipython3",
   "version": "3.9.7"
  }
 },
 "nbformat": 4,
 "nbformat_minor": 5
}
