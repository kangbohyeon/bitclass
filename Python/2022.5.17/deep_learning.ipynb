{
  "nbformat": 4,
  "nbformat_minor": 0,
  "metadata": {
    "colab": {
      "name": "deep_learning.ipynb",
      "provenance": []
    },
    "kernelspec": {
      "name": "python3",
      "display_name": "Python 3"
    },
    "language_info": {
      "name": "python"
    }
  },
  "cells": [
    {
      "cell_type": "code",
      "execution_count": 1,
      "metadata": {
        "colab": {
          "base_uri": "https://localhost:8080/"
        },
        "id": "74gj_varAREg",
        "outputId": "d9606182-8ecb-4070-daaf-ee7e79f193b9"
      },
      "outputs": [
        {
          "output_type": "stream",
          "name": "stdout",
          "text": [
            "Downloading data from https://storage.googleapis.com/tensorflow/tf-keras-datasets/train-labels-idx1-ubyte.gz\n",
            "32768/29515 [=================================] - 0s 0us/step\n",
            "40960/29515 [=========================================] - 0s 0us/step\n",
            "Downloading data from https://storage.googleapis.com/tensorflow/tf-keras-datasets/train-images-idx3-ubyte.gz\n",
            "26427392/26421880 [==============================] - 0s 0us/step\n",
            "26435584/26421880 [==============================] - 0s 0us/step\n",
            "Downloading data from https://storage.googleapis.com/tensorflow/tf-keras-datasets/t10k-labels-idx1-ubyte.gz\n",
            "16384/5148 [===============================================================================================] - 0s 0us/step\n",
            "Downloading data from https://storage.googleapis.com/tensorflow/tf-keras-datasets/t10k-images-idx3-ubyte.gz\n",
            "4423680/4422102 [==============================] - 0s 0us/step\n",
            "4431872/4422102 [==============================] - 0s 0us/step\n",
            "Epoch 1/5\n",
            "1500/1500 [==============================] - 6s 4ms/step - loss: 0.6114 - accuracy: 0.7906\n",
            "Epoch 2/5\n",
            "1500/1500 [==============================] - 4s 3ms/step - loss: 0.4794 - accuracy: 0.8382\n",
            "Epoch 3/5\n",
            "1500/1500 [==============================] - 3s 2ms/step - loss: 0.4585 - accuracy: 0.8468\n",
            "Epoch 4/5\n",
            "1500/1500 [==============================] - 3s 2ms/step - loss: 0.4454 - accuracy: 0.8513\n",
            "Epoch 5/5\n",
            "1500/1500 [==============================] - 2s 2ms/step - loss: 0.4390 - accuracy: 0.8532\n",
            "375/375 [==============================] - 1s 1ms/step - loss: 0.4418 - accuracy: 0.8546\n",
            "[0.4417567253112793, 0.8545833230018616]\n"
          ]
        }
      ],
      "source": [
        "#케라스 다중분류\n",
        "import tensorflow as tf\n",
        "from tensorflow import keras\n",
        "from sklearn.model_selection import train_test_split\n",
        "(train_input,train_target) , (test_input,test_target) = keras.datasets.fashion_mnist.load_data()\n",
        "train_scaled = train_input/255.0 #min-max 변환 (값-최솟값)/(최댓값-최솟값)\n",
        "train_scaled = train_scaled.reshape(-1,28*28)\n",
        "train_scaled, val_scaled, train_target, val_target = train_test_split(train_scaled,train_target,test_size=0.2)\n",
        "dense = keras.layers.Dense(10,activation='softmax',input_shape=(784,))\n",
        "#dense = keras.layers.Dense(10,activation='sigmoid',input_shape=(784,))\n",
        "#activation 미지정시 활성화함수 사용안하는거임\n",
        "model = keras.Sequential(dense)\n",
        "model.compile(loss='sparse_categorical_crossentropy',metrics='accuracy')\n",
        "#model.compile(loss='sparse_binary_crossentropy',metrics='accuracy')\n",
        "#model.summary()\n",
        "model.fit(train_scaled,train_target,epochs=5)\n",
        "print(model.evaluate(val_scaled,val_target))"
      ]
    },
    {
      "cell_type": "code",
      "source": [
        ""
      ],
      "metadata": {
        "id": "ZkT0Z3LcAxpM"
      },
      "execution_count": null,
      "outputs": []
    },
    {
      "cell_type": "code",
      "source": [
        "#2개의층\n",
        "from tensorflow import keras\n",
        "from sklearn.model_selection import train_test_split\n",
        "(train_input,train_target) , (test_input,test_target) = keras.datasets.fashion_mnist.load_data()\n",
        "\n",
        "train_scaled = train_input/255.0 #min-max 변환 (값-최솟값)/(최댓값-최솟값)\n",
        "train_scaled = train_scaled.reshape(-1,28*28)\n",
        "train_scaled, val_scaled, train_target, val_target = train_test_split(train_scaled,train_target,test_size=0.2)\n",
        "\n",
        "dense1 = keras.layers.Dense(100,activation='sigmoid',input_shape=(784,))\n",
        "dense2 = keras.layers.Dense(10,activation='softmax')\n",
        "model = keras.Sequential([dense1,dense2])\n",
        "\n",
        "model.compile(loss='sparse_categorical_crossentropy',metrics='accuracy')\n",
        "\n",
        "model.fit(train_scaled,train_target,epochs=5)\n",
        "print(model.evaluate(val_scaled,val_target))"
      ],
      "metadata": {
        "colab": {
          "base_uri": "https://localhost:8080/"
        },
        "id": "G2veCoAGLdRH",
        "outputId": "7f16eb13-bf9f-489b-b74c-c8210be5a8d8"
      },
      "execution_count": 2,
      "outputs": [
        {
          "output_type": "stream",
          "name": "stdout",
          "text": [
            "Epoch 1/5\n",
            "1500/1500 [==============================] - 5s 3ms/step - loss: 0.5615 - accuracy: 0.8092\n",
            "Epoch 2/5\n",
            "1500/1500 [==============================] - 4s 3ms/step - loss: 0.4091 - accuracy: 0.8534\n",
            "Epoch 3/5\n",
            "1500/1500 [==============================] - 5s 3ms/step - loss: 0.3762 - accuracy: 0.8643\n",
            "Epoch 4/5\n",
            "1500/1500 [==============================] - 5s 3ms/step - loss: 0.3546 - accuracy: 0.8732\n",
            "Epoch 5/5\n",
            "1500/1500 [==============================] - 5s 3ms/step - loss: 0.3368 - accuracy: 0.8796\n",
            "375/375 [==============================] - 1s 2ms/step - loss: 0.3425 - accuracy: 0.8742\n",
            "[0.34248465299606323, 0.8742499947547913]\n"
          ]
        }
      ]
    },
    {
      "cell_type": "code",
      "source": [
        "#2개의층 - relu함수\n",
        "from tensorflow import keras\n",
        "from sklearn.model_selection import train_test_split\n",
        "(train_input,train_target) , (test_input,test_target) = keras.datasets.fashion_mnist.load_data()\n",
        "\n",
        "train_scaled = train_input/255.0 #min-max 변환 (값-최솟값)/(최댓값-최솟값)\n",
        "\n",
        "train_scaled, val_scaled, train_target, val_target = train_test_split(train_scaled,train_target,test_size=0.2)\n",
        "\n",
        "model = keras.Sequential()\n",
        "model.add(keras.layers.Flatten(input_shape=(28,28)))\n",
        "model.add(keras.layers.Dense(100,activation='relu'))\n",
        "model.add(keras.layers.Dense(100,activation='softmax'))\n",
        "\n",
        "model.compile(loss='sparse_categorical_crossentropy',metrics='accuracy')\n",
        "model.fit(train_scaled,train_target,epochs=5)\n",
        "print(model.evaluate(val_scaled,val_target))"
      ],
      "metadata": {
        "colab": {
          "base_uri": "https://localhost:8080/"
        },
        "id": "tSVfO-ZrLrMC",
        "outputId": "d8af3ca7-bbc7-4828-ce21-a27f4c84eac2"
      },
      "execution_count": 4,
      "outputs": [
        {
          "output_type": "stream",
          "name": "stdout",
          "text": [
            "Epoch 1/5\n",
            "1500/1500 [==============================] - 6s 3ms/step - loss: 0.5614 - accuracy: 0.8072\n",
            "Epoch 2/5\n",
            "1500/1500 [==============================] - 5s 3ms/step - loss: 0.3986 - accuracy: 0.8570\n",
            "Epoch 3/5\n",
            "1500/1500 [==============================] - 5s 3ms/step - loss: 0.3592 - accuracy: 0.8699\n",
            "Epoch 4/5\n",
            "1500/1500 [==============================] - 5s 3ms/step - loss: 0.3369 - accuracy: 0.8790\n",
            "Epoch 5/5\n",
            "1500/1500 [==============================] - 5s 3ms/step - loss: 0.3218 - accuracy: 0.8851\n",
            "375/375 [==============================] - 1s 2ms/step - loss: 0.3464 - accuracy: 0.8832\n",
            "[0.3463885486125946, 0.8832499980926514]\n"
          ]
        }
      ]
    },
    {
      "cell_type": "code",
      "source": [
        "#옵티마이저 -relu, adam\n",
        "from tensorflow import keras\n",
        "from sklearn.model_selection import train_test_split\n",
        "(train_input,train_target) , (test_input,test_target) = keras.datasets.fashion_mnist.load_data()\n",
        "\n",
        "train_scaled = train_input/255.0 #min-max 변환 (값-최솟값)/(최댓값-최솟값)\n",
        "\n",
        "train_scaled, val_scaled, train_target, val_target = train_test_split(train_scaled,train_target,test_size=0.2)\n",
        "\n",
        "model = keras.Sequential()\n",
        "model.add(keras.layers.Flatten(input_shape=(28,28)))\n",
        "model.add(keras.layers.Dense(100,activation='relu'))\n",
        "model.add(keras.layers.Dense(100,activation='softmax'))\n",
        "\n",
        "model.compile(optimizer='adam',loss='sparse_categorical_crossentropy',metrics='accuracy')\n",
        "\n",
        "model.fit(train_scaled,train_target,epochs=5)\n",
        "\n",
        "print(model.evaluate(val_scaled,val_target))"
      ],
      "metadata": {
        "id": "LSq6P6eogjTu"
      },
      "execution_count": null,
      "outputs": []
    },
    {
      "cell_type": "code",
      "source": [
        "#옵티마이저 -relu, adagrad\n",
        "from tensorflow import keras\n",
        "from sklearn.model_selection import train_test_split\n",
        "(train_input,train_target) , (test_input,test_target) = keras.datasets.fashion_mnist.load_data()\n",
        "\n",
        "train_scaled = train_input/255.0 #min-max 변환 (값-최솟값)/(최댓값-최솟값)\n",
        "\n",
        "train_scaled, val_scaled, train_target, val_target = train_test_split(train_scaled,train_target,test_size=0.2)\n",
        "\n",
        "model = keras.Sequential()\n",
        "model.add(keras.layers.Flatten(input_shape=(28,28)))\n",
        "model.add(keras.layers.Dense(100,activation='relu'))\n",
        "model.add(keras.layers.Dense(100,activation='softmax'))\n",
        "\n",
        "model.compile(optimizer='adagrad',loss='sparse_categorical_crossentropy',metrics='accuracy')\n",
        "\n",
        "model.fit(train_scaled,train_target,epochs=5)\n",
        "\n",
        "print(model.evaluate(val_scaled,val_target))"
      ],
      "metadata": {
        "id": "EDJJ_Q-XkpS6"
      },
      "execution_count": null,
      "outputs": []
    },
    {
      "cell_type": "code",
      "source": [
        "#옵티마이저 -relu, rmsprop\n",
        "from tensorflow import keras\n",
        "from sklearn.model_selection import train_test_split\n",
        "(train_input,train_target) , (test_input,test_target) = keras.datasets.fashion_mnist.load_data()\n",
        "\n",
        "train_scaled = train_input/255.0 #min-max 변환 (값-최솟값)/(최댓값-최솟값)\n",
        "\n",
        "train_scaled, val_scaled, train_target, val_target = train_test_split(train_scaled,train_target,test_size=0.2)\n",
        "\n",
        "model = keras.Sequential()\n",
        "model.add(keras.layers.Flatten(input_shape=(28,28)))\n",
        "model.add(keras.layers.Dense(100,activation='relu'))\n",
        "model.add(keras.layers.Dense(100,activation='softmax'))\n",
        "\n",
        "model.compile(optimizer='rmsprop',loss='sparse_categorical_crossentropy',metrics='accuracy')\n",
        "\n",
        "model.fit(train_scaled,train_target,epochs=5)\n",
        "\n",
        "print(model.evaluate(val_scaled,val_target))"
      ],
      "metadata": {
        "id": "UZrImIxykqPC"
      },
      "execution_count": null,
      "outputs": []
    },
    {
      "cell_type": "code",
      "source": [
        ""
      ],
      "metadata": {
        "id": "U-Hp71ecmQ8l"
      },
      "execution_count": null,
      "outputs": []
    },
    {
      "cell_type": "code",
      "source": [
        "def model_fn(a_layer=None):\n",
        "  model = keras.Sequential()\n",
        "  model.add(keras.layers.Flatten(input_shape=(28,28)))\n",
        "  model.add(keras.layers.Dense(100,activation='relu'))\n",
        "  if a_layer:\n",
        "    model.add(a_layer)\n",
        "  model.add(keras.layers.Dense(10,activation='softmax'))\n",
        "  return model"
      ],
      "metadata": {
        "id": "KAKTG0MUmRNd"
      },
      "execution_count": 14,
      "outputs": []
    },
    {
      "cell_type": "code",
      "source": [
        "#손실 곡선\n",
        "import matplotlib.pyplot as plt\n",
        "from tensorflow import keras\n",
        "from sklearn.model_selection import train_test_split\n",
        "(train_input,train_target) , (test_input,test_target) = keras.datasets.fashion_mnist.load_data()\n",
        "\n",
        "train_scaled = train_input/255.0 #min-max 변환 (값-최솟값)/(최댓값-최솟값)\n",
        "\n",
        "train_scaled, val_scaled, train_target, val_target = train_test_split(train_scaled,train_target,test_size=0.2)\n",
        "\n",
        "model = model_fn()\n",
        "\n",
        "model.compile(loss='sparse_categorical_crossentropy',metrics='accuracy')\n",
        "\n",
        "his = model.fit(train_scaled,train_target,epochs=5)\n",
        "\n",
        "print(his.history.keys())\n",
        "\n",
        "plt.plot(his.history['loss'])\n",
        "plt.xlabel('epoch')\n",
        "plt.ylabel('loss')\n",
        "plt.show()"
      ],
      "metadata": {
        "colab": {
          "base_uri": "https://localhost:8080/",
          "height": 466
        },
        "id": "r5PdRcvGmG_H",
        "outputId": "886b5a61-8592-49fb-d7fd-6dba5de6f75a"
      },
      "execution_count": 15,
      "outputs": [
        {
          "output_type": "stream",
          "name": "stdout",
          "text": [
            "Epoch 1/5\n",
            "1500/1500 [==============================] - 6s 4ms/step - loss: 0.5277 - accuracy: 0.8121\n",
            "Epoch 2/5\n",
            "1500/1500 [==============================] - 6s 4ms/step - loss: 0.3891 - accuracy: 0.8595\n",
            "Epoch 3/5\n",
            "1500/1500 [==============================] - 5s 4ms/step - loss: 0.3555 - accuracy: 0.8715\n",
            "Epoch 4/5\n",
            "1500/1500 [==============================] - 5s 4ms/step - loss: 0.3349 - accuracy: 0.8810\n",
            "Epoch 5/5\n",
            "1500/1500 [==============================] - 7s 5ms/step - loss: 0.3203 - accuracy: 0.8861\n",
            "dict_keys(['loss', 'accuracy'])\n"
          ]
        },
        {
          "output_type": "display_data",
          "data": {
            "text/plain": [
              "<Figure size 432x288 with 1 Axes>"
            ],
            "image/png": "[encoded data removed]"
          },
          "metadata": {
            "needs_background": "light"
          }
        }
      ]
    },
    {
      "cell_type": "code",
      "source": [
        "plt.plot(his.history['accuracy'])\n",
        "plt.xlabel('epoch')\n",
        "plt.ylabel('accuracy')\n",
        "plt.show()"
      ],
      "metadata": {
        "colab": {
          "base_uri": "https://localhost:8080/",
          "height": 279
        },
        "id": "VKQsNtLPnX5p",
        "outputId": "90ff213f-9bca-4543-cfb3-b6fc5ed8bbb0"
      },
      "execution_count": 16,
      "outputs": [
        {
          "output_type": "display_data",
          "data": {
            "text/plain": [
              "<Figure size 432x288 with 1 Axes>"
            ],
            "image/png": "[encoded data removed]"
          },
          "metadata": {
            "needs_background": "light"
          }
        }
      ]
    },
    {
      "cell_type": "code",
      "source": [
        ""
      ],
      "metadata": {
        "id": "bJ4gWhXKnfFx"
      },
      "execution_count": null,
      "outputs": []
    },
    {
      "cell_type": "code",
      "source": [
        "#손실곡선\n",
        "mode = model_fn()\n",
        "\n",
        "model.compile(loss='sparse_categorical_crossentropy',metrics='accuracy')\n",
        "\n",
        "history = model.fit(train_scaled,train_target,epochs=20,validation_data=(val_scaled,val_target))\n"
      ],
      "metadata": {
        "colab": {
          "base_uri": "https://localhost:8080/"
        },
        "id": "c-5CxkaMo_5w",
        "outputId": "2f6d7b7b-70cd-4806-afd5-dabfc44ca9ac"
      },
      "execution_count": 17,
      "outputs": [
        {
          "output_type": "stream",
          "name": "stdout",
          "text": [
            "Epoch 1/20\n",
            "1500/1500 [==============================] - 8s 4ms/step - loss: 0.3124 - accuracy: 0.8881 - val_loss: 0.3814 - val_accuracy: 0.8763\n",
            "Epoch 2/20\n",
            "1500/1500 [==============================] - 5s 4ms/step - loss: 0.3033 - accuracy: 0.8920 - val_loss: 0.4041 - val_accuracy: 0.8708\n",
            "Epoch 3/20\n",
            "1500/1500 [==============================] - 8s 5ms/step - loss: 0.2959 - accuracy: 0.8967 - val_loss: 0.4014 - val_accuracy: 0.8723\n",
            "Epoch 4/20\n",
            "1500/1500 [==============================] - 10s 7ms/step - loss: 0.2864 - accuracy: 0.9004 - val_loss: 0.3720 - val_accuracy: 0.8838\n",
            "Epoch 5/20\n",
            "1500/1500 [==============================] - 11s 7ms/step - loss: 0.2811 - accuracy: 0.9018 - val_loss: 0.3822 - val_accuracy: 0.8827\n",
            "Epoch 6/20\n",
            "1500/1500 [==============================] - 9s 6ms/step - loss: 0.2739 - accuracy: 0.9036 - val_loss: 0.4630 - val_accuracy: 0.8612\n",
            "Epoch 7/20\n",
            "1500/1500 [==============================] - 6s 4ms/step - loss: 0.2691 - accuracy: 0.9059 - val_loss: 0.4100 - val_accuracy: 0.8773\n",
            "Epoch 8/20\n",
            "1500/1500 [==============================] - 6s 4ms/step - loss: 0.2642 - accuracy: 0.9084 - val_loss: 0.4398 - val_accuracy: 0.8726\n",
            "Epoch 9/20\n",
            "1500/1500 [==============================] - 6s 4ms/step - loss: 0.2569 - accuracy: 0.9109 - val_loss: 0.4119 - val_accuracy: 0.8859\n",
            "Epoch 10/20\n",
            "1500/1500 [==============================] - 6s 4ms/step - loss: 0.2521 - accuracy: 0.9126 - val_loss: 0.4188 - val_accuracy: 0.8854\n",
            "Epoch 11/20\n",
            "1500/1500 [==============================] - 6s 4ms/step - loss: 0.2495 - accuracy: 0.9142 - val_loss: 0.4464 - val_accuracy: 0.8780\n",
            "Epoch 12/20\n",
            "1500/1500 [==============================] - 7s 4ms/step - loss: 0.2408 - accuracy: 0.9170 - val_loss: 0.4396 - val_accuracy: 0.8835\n",
            "Epoch 13/20\n",
            "1500/1500 [==============================] - 7s 4ms/step - loss: 0.2407 - accuracy: 0.9160 - val_loss: 0.4464 - val_accuracy: 0.8857\n",
            "Epoch 14/20\n",
            "1500/1500 [==============================] - 6s 4ms/step - loss: 0.2371 - accuracy: 0.9184 - val_loss: 0.4940 - val_accuracy: 0.8808\n",
            "Epoch 15/20\n",
            "1500/1500 [==============================] - 5s 4ms/step - loss: 0.2312 - accuracy: 0.9215 - val_loss: 0.4794 - val_accuracy: 0.8833\n",
            "Epoch 16/20\n",
            "1500/1500 [==============================] - 5s 4ms/step - loss: 0.2279 - accuracy: 0.9224 - val_loss: 0.5450 - val_accuracy: 0.8724\n",
            "Epoch 17/20\n",
            "1500/1500 [==============================] - 6s 4ms/step - loss: 0.2271 - accuracy: 0.9226 - val_loss: 0.4776 - val_accuracy: 0.8854\n",
            "Epoch 18/20\n",
            "1500/1500 [==============================] - 6s 4ms/step - loss: 0.2223 - accuracy: 0.9244 - val_loss: 0.5100 - val_accuracy: 0.8777\n",
            "Epoch 19/20\n",
            "1500/1500 [==============================] - 7s 5ms/step - loss: 0.2193 - accuracy: 0.9255 - val_loss: 0.4985 - val_accuracy: 0.8844\n",
            "Epoch 20/20\n",
            "1500/1500 [==============================] - 6s 4ms/step - loss: 0.2177 - accuracy: 0.9270 - val_loss: 0.5748 - val_accuracy: 0.8771\n"
          ]
        }
      ]
    },
    {
      "cell_type": "code",
      "source": [
        "print(history.history.keys())"
      ],
      "metadata": {
        "colab": {
          "base_uri": "https://localhost:8080/"
        },
        "id": "2Rv5NRNMsOjj",
        "outputId": "99a84a51-90a8-4e87-ace1-f1b18ac47eb1"
      },
      "execution_count": 18,
      "outputs": [
        {
          "output_type": "stream",
          "name": "stdout",
          "text": [
            "dict_keys(['loss', 'accuracy', 'val_loss', 'val_accuracy'])\n"
          ]
        }
      ]
    },
    {
      "cell_type": "code",
      "source": [
        "plt.plot(history.history['loss'])\n",
        "plt.plot(history.history['val_loss'])\n",
        "plt.xlabel('epoch')\n",
        "plt.ylabel('loss')\n",
        "plt.legend(['train','val'])\n",
        "plt.show()"
      ],
      "metadata": {
        "colab": {
          "base_uri": "https://localhost:8080/",
          "height": 279
        },
        "id": "0rgmTHU3sXPW",
        "outputId": "c0d77ce5-6888-4227-f0eb-5e3b2e7cf517"
      },
      "execution_count": 23,
      "outputs": [
        {
          "output_type": "display_data",
          "data": {
            "text/plain": [
              "<Figure size 432x288 with 1 Axes>"
            ],
            "image/png": "[encoded data removed]"
          },
          "metadata": {
            "needs_background": "light"
          }
        }
      ]
    },
    {
      "cell_type": "code",
      "source": [
        "#손실곡선 -adam\n",
        "mode = model_fn()\n",
        "\n",
        "model.compile(optimizer='adam',loss='sparse_categorical_crossentropy',metrics='accuracy')\n",
        "\n",
        "history = model.fit(train_scaled,train_target,epochs=20,validation_data=(val_scaled,val_target))\n"
      ],
      "metadata": {
        "colab": {
          "base_uri": "https://localhost:8080/"
        },
        "id": "15ER1ZantEBx",
        "outputId": "467b4e4e-bc21-4dbe-a2ab-8242cc3aa104"
      },
      "execution_count": 24,
      "outputs": [
        {
          "output_type": "stream",
          "name": "stdout",
          "text": [
            "Epoch 1/20\n",
            "1500/1500 [==============================] - 8s 5ms/step - loss: 0.2232 - accuracy: 0.9215 - val_loss: 0.4872 - val_accuracy: 0.8732\n",
            "Epoch 2/20\n",
            "1500/1500 [==============================] - 7s 5ms/step - loss: 0.2016 - accuracy: 0.9271 - val_loss: 0.4978 - val_accuracy: 0.8687\n",
            "Epoch 3/20\n",
            "1500/1500 [==============================] - 6s 4ms/step - loss: 0.2009 - accuracy: 0.9281 - val_loss: 0.5052 - val_accuracy: 0.8784\n",
            "Epoch 4/20\n",
            "1500/1500 [==============================] - 5s 3ms/step - loss: 0.1941 - accuracy: 0.9287 - val_loss: 0.4698 - val_accuracy: 0.8803\n",
            "Epoch 5/20\n",
            "1500/1500 [==============================] - 8s 5ms/step - loss: 0.1878 - accuracy: 0.9301 - val_loss: 0.4515 - val_accuracy: 0.8786\n",
            "Epoch 6/20\n",
            "1500/1500 [==============================] - 7s 4ms/step - loss: 0.1781 - accuracy: 0.9333 - val_loss: 0.4523 - val_accuracy: 0.8847\n",
            "Epoch 7/20\n",
            "1500/1500 [==============================] - 5s 3ms/step - loss: 0.1773 - accuracy: 0.9332 - val_loss: 0.4522 - val_accuracy: 0.8811\n",
            "Epoch 8/20\n",
            "1500/1500 [==============================] - 6s 4ms/step - loss: 0.1728 - accuracy: 0.9362 - val_loss: 0.5080 - val_accuracy: 0.8773\n",
            "Epoch 9/20\n",
            "1500/1500 [==============================] - 5s 4ms/step - loss: 0.1656 - accuracy: 0.9381 - val_loss: 0.4579 - val_accuracy: 0.8856\n",
            "Epoch 10/20\n",
            "1500/1500 [==============================] - 6s 4ms/step - loss: 0.1632 - accuracy: 0.9388 - val_loss: 0.4771 - val_accuracy: 0.8846\n",
            "Epoch 11/20\n",
            "1500/1500 [==============================] - 6s 4ms/step - loss: 0.1624 - accuracy: 0.9399 - val_loss: 0.4610 - val_accuracy: 0.8867\n",
            "Epoch 12/20\n",
            "1500/1500 [==============================] - 5s 4ms/step - loss: 0.1569 - accuracy: 0.9415 - val_loss: 0.4739 - val_accuracy: 0.8808\n",
            "Epoch 13/20\n",
            "1500/1500 [==============================] - 5s 4ms/step - loss: 0.1546 - accuracy: 0.9431 - val_loss: 0.5024 - val_accuracy: 0.8782\n",
            "Epoch 14/20\n",
            "1500/1500 [==============================] - 6s 4ms/step - loss: 0.1481 - accuracy: 0.9446 - val_loss: 0.4887 - val_accuracy: 0.8872\n",
            "Epoch 15/20\n",
            "1500/1500 [==============================] - 5s 4ms/step - loss: 0.1484 - accuracy: 0.9444 - val_loss: 0.4827 - val_accuracy: 0.8867\n",
            "Epoch 16/20\n",
            "1500/1500 [==============================] - 6s 4ms/step - loss: 0.1444 - accuracy: 0.9465 - val_loss: 0.4745 - val_accuracy: 0.8898\n",
            "Epoch 17/20\n",
            "1500/1500 [==============================] - 5s 4ms/step - loss: 0.1376 - accuracy: 0.9482 - val_loss: 0.4815 - val_accuracy: 0.8842\n",
            "Epoch 18/20\n",
            "1500/1500 [==============================] - 5s 3ms/step - loss: 0.1418 - accuracy: 0.9471 - val_loss: 0.4952 - val_accuracy: 0.8857\n",
            "Epoch 19/20\n",
            "1500/1500 [==============================] - 5s 3ms/step - loss: 0.1351 - accuracy: 0.9503 - val_loss: 0.4984 - val_accuracy: 0.8843\n",
            "Epoch 20/20\n",
            "1500/1500 [==============================] - 5s 3ms/step - loss: 0.1328 - accuracy: 0.9501 - val_loss: 0.5189 - val_accuracy: 0.8745\n"
          ]
        }
      ]
    },
    {
      "cell_type": "code",
      "source": [
        "plt.plot(history.history['loss'])\n",
        "plt.plot(history.history['val_loss'])\n",
        "plt.xlabel('epoch')\n",
        "plt.ylabel('loss')\n",
        "plt.legend(['train','val'])\n",
        "plt.show()"
      ],
      "metadata": {
        "colab": {
          "base_uri": "https://localhost:8080/",
          "height": 279
        },
        "id": "B12NDtvLttv5",
        "outputId": "52c9b2c5-2a5a-450b-b33d-daf6dec63b2e"
      },
      "execution_count": 25,
      "outputs": [
        {
          "output_type": "display_data",
          "data": {
            "text/plain": [
              "<Figure size 432x288 with 1 Axes>"
            ],
            "image/png": "[encoded data removed]"
          },
          "metadata": {
            "needs_background": "light"
          }
        }
      ]
    },
    {
      "cell_type": "code",
      "source": [
        "# 드롭아웃\n",
        "from sklearn import metrics\n",
        "import matplotlib.pyplot as plt\n",
        "from tensorflow import keras\n",
        "from sklearn.model_selection import train_test_split\n",
        "(train_input,train_target) , (test_input,test_target) = keras.datasets.fashion_mnist.load_data()\n",
        "\n",
        "train_scaled = train_input/255.0 #min-max 변환 (값-최솟값)/(최댓값-최솟값)\n",
        "\n",
        "train_scaled, val_scaled, train_target, val_target = train_test_split(train_scaled,train_target,test_size=0.2)\n",
        "\n",
        "model = model_fn(keras.layers.Dropout(0.3))\n",
        "\n",
        "model.compile(optimizer='adam',loss='sparse_categorical_crossentropy',metrics='accuracy')\n",
        "history = model.fit(train_scaled,train_target,epochs=20,validation_data=(val_scaled,val_target))\n",
        "\n",
        "#model.summary()"
      ],
      "metadata": {
        "colab": {
          "base_uri": "https://localhost:8080/"
        },
        "id": "x5PJ8KoOt00x",
        "outputId": "60d96b55-9179-4c01-86b8-865b5ae4ea72"
      },
      "execution_count": 27,
      "outputs": [
        {
          "output_type": "stream",
          "name": "stdout",
          "text": [
            "Epoch 1/20\n",
            "1500/1500 [==============================] - 6s 4ms/step - loss: 0.5832 - accuracy: 0.7930 - val_loss: 0.4431 - val_accuracy: 0.8388\n",
            "Epoch 2/20\n",
            "1500/1500 [==============================] - 6s 4ms/step - loss: 0.4373 - accuracy: 0.8443 - val_loss: 0.3986 - val_accuracy: 0.8513\n",
            "Epoch 3/20\n",
            "1500/1500 [==============================] - 6s 4ms/step - loss: 0.4035 - accuracy: 0.8533 - val_loss: 0.3722 - val_accuracy: 0.8635\n",
            "Epoch 4/20\n",
            "1500/1500 [==============================] - 5s 3ms/step - loss: 0.3811 - accuracy: 0.8601 - val_loss: 0.3711 - val_accuracy: 0.8658\n",
            "Epoch 5/20\n",
            "1500/1500 [==============================] - 7s 5ms/step - loss: 0.3638 - accuracy: 0.8674 - val_loss: 0.3571 - val_accuracy: 0.8707\n",
            "Epoch 6/20\n",
            "1500/1500 [==============================] - 5s 3ms/step - loss: 0.3536 - accuracy: 0.8708 - val_loss: 0.3465 - val_accuracy: 0.8734\n",
            "Epoch 7/20\n",
            "1500/1500 [==============================] - 8s 5ms/step - loss: 0.3428 - accuracy: 0.8733 - val_loss: 0.3423 - val_accuracy: 0.8748\n",
            "Epoch 8/20\n",
            "1500/1500 [==============================] - 5s 3ms/step - loss: 0.3341 - accuracy: 0.8765 - val_loss: 0.3409 - val_accuracy: 0.8761\n",
            "Epoch 9/20\n",
            "1500/1500 [==============================] - 5s 3ms/step - loss: 0.3271 - accuracy: 0.8791 - val_loss: 0.3455 - val_accuracy: 0.8759\n",
            "Epoch 10/20\n",
            "1500/1500 [==============================] - 5s 3ms/step - loss: 0.3212 - accuracy: 0.8810 - val_loss: 0.3313 - val_accuracy: 0.8775\n",
            "Epoch 11/20\n",
            "1500/1500 [==============================] - 5s 3ms/step - loss: 0.3154 - accuracy: 0.8819 - val_loss: 0.3300 - val_accuracy: 0.8785\n",
            "Epoch 12/20\n",
            "1500/1500 [==============================] - 5s 3ms/step - loss: 0.3078 - accuracy: 0.8863 - val_loss: 0.3376 - val_accuracy: 0.8775\n",
            "Epoch 13/20\n",
            "1500/1500 [==============================] - 5s 3ms/step - loss: 0.3035 - accuracy: 0.8867 - val_loss: 0.3383 - val_accuracy: 0.8793\n",
            "Epoch 14/20\n",
            "1500/1500 [==============================] - 5s 3ms/step - loss: 0.2972 - accuracy: 0.8888 - val_loss: 0.3359 - val_accuracy: 0.8811\n",
            "Epoch 15/20\n",
            "1500/1500 [==============================] - 5s 3ms/step - loss: 0.2966 - accuracy: 0.8889 - val_loss: 0.3252 - val_accuracy: 0.8857\n",
            "Epoch 16/20\n",
            "1500/1500 [==============================] - 5s 3ms/step - loss: 0.2897 - accuracy: 0.8909 - val_loss: 0.3354 - val_accuracy: 0.8850\n",
            "Epoch 17/20\n",
            "1500/1500 [==============================] - 5s 3ms/step - loss: 0.2857 - accuracy: 0.8941 - val_loss: 0.3272 - val_accuracy: 0.8857\n",
            "Epoch 18/20\n",
            "1500/1500 [==============================] - 5s 3ms/step - loss: 0.2812 - accuracy: 0.8935 - val_loss: 0.3326 - val_accuracy: 0.8863\n",
            "Epoch 19/20\n",
            "1500/1500 [==============================] - 5s 3ms/step - loss: 0.2770 - accuracy: 0.8956 - val_loss: 0.3350 - val_accuracy: 0.8811\n",
            "Epoch 20/20\n",
            "1500/1500 [==============================] - 5s 4ms/step - loss: 0.2764 - accuracy: 0.8954 - val_loss: 0.3295 - val_accuracy: 0.8838\n"
          ]
        }
      ]
    },
    {
      "cell_type": "code",
      "source": [
        "plt.plot(history.history['loss'])\n",
        "plt.plot(history.history['val_loss'])\n",
        "plt.xlabel('epoch')\n",
        "plt.ylabel('loss')\n",
        "plt.legend(['train','val'])\n",
        "plt.show()"
      ],
      "metadata": {
        "colab": {
          "base_uri": "https://localhost:8080/",
          "height": 279
        },
        "id": "SRaAD1O0vSHT",
        "outputId": "5cd87896-cfdd-44fc-bad8-bc057a0889cf"
      },
      "execution_count": 28,
      "outputs": [
        {
          "output_type": "display_data",
          "data": {
            "text/plain": [
              "<Figure size 432x288 with 1 Axes>"
            ],
            "image/png": "[encoded data removed]"
          },
          "metadata": {
            "needs_background": "light"
          }
        }
      ]
    },
    {
      "cell_type": "code",
      "source": [
        ""
      ],
      "metadata": {
        "id": "WvdTGNKwwDKN"
      },
      "execution_count": null,
      "outputs": []
    }
  ]
}