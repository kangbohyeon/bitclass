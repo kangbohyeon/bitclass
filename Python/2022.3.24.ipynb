{
 "cells": [
  {
   "cell_type": "code",
   "execution_count": 43,
   "id": "a8935686-d0de-4dee-9725-d0198217449e",
   "metadata": {},
   "outputs": [
    {
     "data": {
      "text/plain": [
       "8"
      ]
     },
     "execution_count": 43,
     "metadata": {},
     "output_type": "execute_result"
    }
   ],
   "source": [
    "import random\n",
    "random.randrange(1,10)"
   ]
  },
  {
   "cell_type": "code",
   "execution_count": 46,
   "id": "30ab5fba-941b-47de-a448-d1c9fa99eef8",
   "metadata": {},
   "outputs": [
    {
     "ename": "TypeError",
     "evalue": "choice() missing 1 required positional argument: 'seq'",
     "output_type": "error",
     "traceback": [
      "\u001b[1;31m---------------------------------------------------------------------------\u001b[0m",
      "\u001b[1;31mTypeError\u001b[0m                                 Traceback (most recent call last)",
      "\u001b[1;32m~\\AppData\\Local\\Temp/ipykernel_3288/1802519305.py\u001b[0m in \u001b[0;36m<module>\u001b[1;34m\u001b[0m\n\u001b[1;32m----> 1\u001b[1;33m \u001b[0mrandom\u001b[0m\u001b[1;33m.\u001b[0m\u001b[0mchoice\u001b[0m\u001b[1;33m(\u001b[0m\u001b[1;33m)\u001b[0m\u001b[1;33m\u001b[0m\u001b[1;33m\u001b[0m\u001b[0m\n\u001b[0m",
      "\u001b[1;31mTypeError\u001b[0m: choice() missing 1 required positional argument: 'seq'"
     ]
    }
   ],
   "source": [
    "random.choice()"
   ]
  },
  {
   "cell_type": "code",
   "execution_count": 45,
   "id": "b77254dc-de04-4bec-8892-3896598f48ae",
   "metadata": {},
   "outputs": [
    {
     "data": {
      "text/plain": [
       "\u001b[1;31mSignature:\u001b[0m \u001b[0mrandom\u001b[0m\u001b[1;33m.\u001b[0m\u001b[0mrandrange\u001b[0m\u001b[1;33m(\u001b[0m\u001b[0mstart\u001b[0m\u001b[1;33m,\u001b[0m \u001b[0mstop\u001b[0m\u001b[1;33m=\u001b[0m\u001b[1;32mNone\u001b[0m\u001b[1;33m,\u001b[0m \u001b[0mstep\u001b[0m\u001b[1;33m=\u001b[0m\u001b[1;36m1\u001b[0m\u001b[1;33m)\u001b[0m\u001b[1;33m\u001b[0m\u001b[1;33m\u001b[0m\u001b[0m\n",
       "\u001b[1;31mDocstring:\u001b[0m\n",
       "Choose a random item from range(start, stop[, step]).\n",
       "\n",
       "This fixes the problem with randint() which includes the\n",
       "endpoint; in Python this is usually not what you want.\n",
       "\u001b[1;31mFile:\u001b[0m      c:\\users\\bit\\anaconda3\\lib\\random.py\n",
       "\u001b[1;31mType:\u001b[0m      method\n"
      ]
     },
     "metadata": {},
     "output_type": "display_data"
    }
   ],
   "source": [
    "random.randrange?"
   ]
  },
  {
   "cell_type": "code",
   "execution_count": null,
   "id": "839aa0ed-4f04-4e9e-ab86-94b47c4bc894",
   "metadata": {},
   "outputs": [],
   "source": []
  },
  {
   "cell_type": "code",
   "execution_count": 1,
   "id": "ac97ac71-4678-41de-bf97-4e4f13952ff5",
   "metadata": {},
   "outputs": [],
   "source": [
    "oldlist = ['A', 'B', 'C']\n",
    "newlist= oldlist"
   ]
  },
  {
   "cell_type": "code",
   "execution_count": 2,
   "id": "0e598e49-2dbf-4298-a707-5008d508addc",
   "metadata": {},
   "outputs": [
    {
     "data": {
      "text/plain": [
       "(1181102740992, 1181102740992)"
      ]
     },
     "execution_count": 2,
     "metadata": {},
     "output_type": "execute_result"
    }
   ],
   "source": [
    "id(oldlist), id(newlist)"
   ]
  },
  {
   "cell_type": "code",
   "execution_count": 3,
   "id": "8d658eea-ac96-4a01-b50c-9dd894a8df68",
   "metadata": {},
   "outputs": [],
   "source": [
    "a=b=2"
   ]
  },
  {
   "cell_type": "code",
   "execution_count": 4,
   "id": "33d5bf58-92df-46d1-aecf-9300e2c60a7e",
   "metadata": {},
   "outputs": [
    {
     "data": {
      "text/plain": [
       "(1181022710096, 1181022710096)"
      ]
     },
     "execution_count": 4,
     "metadata": {},
     "output_type": "execute_result"
    }
   ],
   "source": [
    "id(a), id(b)"
   ]
  },
  {
   "cell_type": "markdown",
   "id": "2c48507b-4006-4a47-84a1-7e429628c7fd",
   "metadata": {},
   "source": [
    "copy by reference 문제 회피\n",
    "- deep copy\n",
    "     \n",
    "\n",
    "새로운 객체id를 만드게~~"
   ]
  },
  {
   "cell_type": "code",
   "execution_count": 5,
   "id": "9e82ee02-c86a-4f76-805a-d04c68272814",
   "metadata": {},
   "outputs": [],
   "source": [
    "newlist = oldlist[:]"
   ]
  },
  {
   "cell_type": "code",
   "execution_count": 6,
   "id": "43a98e25-6292-4bf2-93d7-0c680fd60f44",
   "metadata": {},
   "outputs": [
    {
     "data": {
      "text/plain": [
       "(1181102740992, 1181101984896)"
      ]
     },
     "execution_count": 6,
     "metadata": {},
     "output_type": "execute_result"
    }
   ],
   "source": [
    "id(oldlist), id (newlist)"
   ]
  },
  {
   "cell_type": "code",
   "execution_count": 7,
   "id": "995e68ac-cac5-4802-93ce-f337dfa42429",
   "metadata": {},
   "outputs": [],
   "source": [
    "del newlist[0]"
   ]
  },
  {
   "cell_type": "code",
   "execution_count": 8,
   "id": "42c203df-f93e-4d13-ac0b-8afa80acf545",
   "metadata": {},
   "outputs": [
    {
     "data": {
      "text/plain": [
       "(['A', 'B', 'C'], ['B', 'C'])"
      ]
     },
     "execution_count": 8,
     "metadata": {},
     "output_type": "execute_result"
    }
   ],
   "source": [
    "oldlist, newlist"
   ]
  },
  {
   "cell_type": "code",
   "execution_count": 9,
   "id": "270e75a4-8384-49b4-ab0d-41f9528411ab",
   "metadata": {},
   "outputs": [],
   "source": [
    "newlist = oldlist.copy()"
   ]
  },
  {
   "cell_type": "code",
   "execution_count": 10,
   "id": "48de6c57-9205-4c94-8f2c-ecda06fd6351",
   "metadata": {},
   "outputs": [
    {
     "data": {
      "text/plain": [
       "(1181102678528, 1181102740992)"
      ]
     },
     "execution_count": 10,
     "metadata": {},
     "output_type": "execute_result"
    }
   ],
   "source": [
    "id(newlist), id(oldlist)"
   ]
  },
  {
   "cell_type": "code",
   "execution_count": null,
   "id": "9064b53f-4cb2-48db-8e3f-d27bca8dcfc6",
   "metadata": {},
   "outputs": [],
   "source": []
  },
  {
   "cell_type": "markdown",
   "id": "3ea93473-b81c-42ac-93c6-bbd184d735de",
   "metadata": {},
   "source": [
    "# Chapter8 문자열\n",
    "\n",
    "    - 불변형\n",
    "    - 인덱스 가능\n",
    "    - str 클래스에서 다양한 문자열 함수"
   ]
  },
  {
   "cell_type": "code",
   "execution_count": 11,
   "id": "37d662b2-242f-4df2-8763-dd9b4f0d8e83",
   "metadata": {},
   "outputs": [
    {
     "data": {
      "text/plain": [
       "str"
      ]
     },
     "execution_count": 11,
     "metadata": {},
     "output_type": "execute_result"
    }
   ],
   "source": [
    "type('문자')"
   ]
  },
  {
   "cell_type": "code",
   "execution_count": 12,
   "id": "c6822bbd-7568-4bab-8de1-9f23f1672887",
   "metadata": {},
   "outputs": [
    {
     "data": {
      "text/plain": [
       "'안녕하세요 파이썬'"
      ]
     },
     "execution_count": 12,
     "metadata": {},
     "output_type": "execute_result"
    }
   ],
   "source": [
    "s = \"안녕하세요 파이썬\"\n",
    "s"
   ]
  },
  {
   "cell_type": "code",
   "execution_count": 22,
   "id": "e02fb12d-065c-417c-a9fa-08637fb0ed62",
   "metadata": {},
   "outputs": [
    {
     "data": {
      "text/plain": [
       "'썬이파 요세하녕안'"
      ]
     },
     "execution_count": 22,
     "metadata": {},
     "output_type": "execute_result"
    }
   ],
   "source": [
    "s[len(s)::-1]"
   ]
  },
  {
   "cell_type": "code",
   "execution_count": 23,
   "id": "6e105458-97f5-4e84-ad39-5f3d11dea9f4",
   "metadata": {},
   "outputs": [
    {
     "data": {
      "text/plain": [
       "'안녕파이썬'"
      ]
     },
     "execution_count": 23,
     "metadata": {},
     "output_type": "execute_result"
    }
   ],
   "source": [
    "'안녕' + '파이썬'"
   ]
  },
  {
   "cell_type": "code",
   "execution_count": 25,
   "id": "ef3e6244-cf9a-4e2a-b925-e60b299daf9e",
   "metadata": {},
   "outputs": [
    {
     "data": {
      "text/plain": [
       "'안녕안녕안녕'"
      ]
     },
     "execution_count": 25,
     "metadata": {},
     "output_type": "execute_result"
    }
   ],
   "source": [
    "'안녕' * 3"
   ]
  },
  {
   "cell_type": "code",
   "execution_count": 26,
   "id": "ec16f5ce-13aa-4c17-bd78-e5fbedc5369f",
   "metadata": {},
   "outputs": [
    {
     "ename": "TypeError",
     "evalue": "can only concatenate str (not \"int\") to str",
     "output_type": "error",
     "traceback": [
      "\u001b[1;31m---------------------------------------------------------------------------\u001b[0m",
      "\u001b[1;31mTypeError\u001b[0m                                 Traceback (most recent call last)",
      "\u001b[1;32m~\\AppData\\Local\\Temp/ipykernel_9424/3056633407.py\u001b[0m in \u001b[0;36m<module>\u001b[1;34m\u001b[0m\n\u001b[1;32m----> 1\u001b[1;33m \u001b[1;34m'안녕'\u001b[0m \u001b[1;33m+\u001b[0m \u001b[1;36m2\u001b[0m\u001b[1;33m\u001b[0m\u001b[1;33m\u001b[0m\u001b[0m\n\u001b[0m",
      "\u001b[1;31mTypeError\u001b[0m: can only concatenate str (not \"int\") to str"
     ]
    }
   ],
   "source": [
    "'안녕' + 2"
   ]
  },
  {
   "cell_type": "code",
   "execution_count": 29,
   "id": "8fdb7872-67a9-4944-b3b2-d43a6d473aba",
   "metadata": {},
   "outputs": [],
   "source": [
    "a = '안녕'+ str(2)\n",
    "b = '안녕'+ '2'"
   ]
  },
  {
   "cell_type": "code",
   "execution_count": 30,
   "id": "1b8461e4-71bc-45e7-ac2e-09dca399269b",
   "metadata": {},
   "outputs": [
    {
     "data": {
      "text/plain": [
       "(str, str)"
      ]
     },
     "execution_count": 30,
     "metadata": {},
     "output_type": "execute_result"
    }
   ],
   "source": [
    "type(a), type(b)"
   ]
  },
  {
   "cell_type": "code",
   "execution_count": 41,
   "id": "3f3aea5b-76b6-4410-a90a-4ca43b1287de",
   "metadata": {},
   "outputs": [
    {
     "name": "stdin",
     "output_type": "stream",
     "text": [
      "문자열을 입력하세요 :  파이썬\n"
     ]
    },
    {
     "name": "stdout",
     "output_type": "stream",
     "text": [
      "3\n",
      "썬 이 파 "
     ]
    }
   ],
   "source": [
    "n = input(\"문자열을 입력하세요 : \")\n",
    "n_size = len(n)\n",
    "print(n_size)\n",
    "\n",
    "for i in range(n_size-1,-1,-1):\n",
    "    print(n[i], end=' ')"
   ]
  },
  {
   "cell_type": "markdown",
   "id": "d2f662ce-4df3-4fe1-85af-a30fa20a5eba",
   "metadata": {},
   "source": [
    "## 객체\n",
    "\n",
    "객체(object)지향 프로그램\n",
    "\n",
    "객체란?\n",
    "\n",
    "    - 이름\n",
    "    - 속성 : 상태 값 / 현재의 상태 유지!\n",
    "    - 행위 : 상태를 변경할 수 있는 함수/매서드"
   ]
  },
  {
   "cell_type": "code",
   "execution_count": 42,
   "id": "e2a6094a-56a0-41c4-92f9-4b8bc5ac6817",
   "metadata": {},
   "outputs": [],
   "source": [
    "import random # 모듈!"
   ]
  },
  {
   "cell_type": "code",
   "execution_count": 43,
   "id": "ee0a9571-86ac-40c9-8224-4d0934aa3547",
   "metadata": {},
   "outputs": [
    {
     "data": {
      "text/plain": [
       "0.1407000228764561"
      ]
     },
     "execution_count": 43,
     "metadata": {},
     "output_type": "execute_result"
    }
   ],
   "source": [
    "# 모듈의 이름! -> 객체\n",
    "# dot로 접근 : 속성, 함수(매서드)\n",
    "random.random()"
   ]
  },
  {
   "cell_type": "markdown",
   "id": "01e5f881-0c3b-41a4-9142-1c2b4d987191",
   "metadata": {},
   "source": [
    "# 문자열 클래스"
   ]
  },
  {
   "cell_type": "code",
   "execution_count": 44,
   "id": "651a0af7-4dce-4e61-acf8-80260577c85d",
   "metadata": {},
   "outputs": [
    {
     "data": {
      "text/plain": [
       "'hello'"
      ]
     },
     "execution_count": 44,
     "metadata": {},
     "output_type": "execute_result"
    }
   ],
   "source": [
    "\"hello\""
   ]
  },
  {
   "cell_type": "code",
   "execution_count": 45,
   "id": "fe72b85d-f5f2-4794-b3d9-77efda3d7938",
   "metadata": {},
   "outputs": [],
   "source": [
    "ss = ' hello Python'"
   ]
  },
  {
   "cell_type": "code",
   "execution_count": 46,
   "id": "c9c1cbe1-3683-4636-b0df-038fccb3d2b4",
   "metadata": {},
   "outputs": [
    {
     "data": {
      "text/plain": [
       "(' HELLO PYTHON', ' hello python')"
      ]
     },
     "execution_count": 46,
     "metadata": {},
     "output_type": "execute_result"
    }
   ],
   "source": [
    "ss.upper(), ss.lower()"
   ]
  },
  {
   "cell_type": "code",
   "execution_count": 47,
   "id": "22a01cf9-5c05-434c-a24e-77ba3522b4ba",
   "metadata": {},
   "outputs": [
    {
     "data": {
      "text/plain": [
       "' HELLO pYTHON'"
      ]
     },
     "execution_count": 47,
     "metadata": {},
     "output_type": "execute_result"
    }
   ],
   "source": [
    "ss.swapcase()"
   ]
  },
  {
   "cell_type": "code",
   "execution_count": 48,
   "id": "58039cb5-4d92-4184-ac63-86ee569fbcca",
   "metadata": {},
   "outputs": [],
   "source": [
    "ss = '파이썬 공부는 즐겁습니다. 물론 공부가 재미있지는 않죠!'"
   ]
  },
  {
   "cell_type": "code",
   "execution_count": 49,
   "id": "c25a8659-d763-4b99-abd4-7452228a712b",
   "metadata": {},
   "outputs": [
    {
     "data": {
      "text/plain": [
       "31"
      ]
     },
     "execution_count": 49,
     "metadata": {},
     "output_type": "execute_result"
    }
   ],
   "source": [
    "len(ss)"
   ]
  },
  {
   "cell_type": "code",
   "execution_count": 50,
   "id": "13ccd0af-38a3-4467-a3a2-da51df24bad2",
   "metadata": {},
   "outputs": [
    {
     "data": {
      "text/plain": [
       "2"
      ]
     },
     "execution_count": 50,
     "metadata": {},
     "output_type": "execute_result"
    }
   ],
   "source": [
    "ss.count('공부')"
   ]
  },
  {
   "cell_type": "code",
   "execution_count": 52,
   "id": "ae7dbda8-238d-46ff-8580-4e06a50a67ad",
   "metadata": {},
   "outputs": [
    {
     "data": {
      "text/plain": [
       "13"
      ]
     },
     "execution_count": 52,
     "metadata": {},
     "output_type": "execute_result"
    }
   ],
   "source": [
    "ss.index('.')"
   ]
  },
  {
   "cell_type": "code",
   "execution_count": 53,
   "id": "0792d141-7c59-416f-b305-a5595e8d6f64",
   "metadata": {},
   "outputs": [
    {
     "data": {
      "text/plain": [
       "4"
      ]
     },
     "execution_count": 53,
     "metadata": {},
     "output_type": "execute_result"
    }
   ],
   "source": [
    "ss.find('공부')"
   ]
  },
  {
   "cell_type": "code",
   "execution_count": 55,
   "id": "5dcabea9-42de-4ad3-9433-f09e7222ddbc",
   "metadata": {},
   "outputs": [
    {
     "data": {
      "text/plain": [
       "18"
      ]
     },
     "execution_count": 55,
     "metadata": {},
     "output_type": "execute_result"
    }
   ],
   "source": [
    "ss.rfind('공부')"
   ]
  },
  {
   "cell_type": "code",
   "execution_count": 56,
   "id": "2395cb4d-b06b-4b81-ac37-a47ea872b3ba",
   "metadata": {},
   "outputs": [
    {
     "data": {
      "text/plain": [
       "18"
      ]
     },
     "execution_count": 56,
     "metadata": {},
     "output_type": "execute_result"
    }
   ],
   "source": [
    "ss.find('공부',5)"
   ]
  },
  {
   "cell_type": "code",
   "execution_count": 61,
   "id": "b89463b6-abc3-4db9-97d6-8d0aa3296311",
   "metadata": {},
   "outputs": [
    {
     "data": {
      "text/plain": [
       "'공부는 즐겁습니다. 물론 공부가 재미있지는 않죠!'"
      ]
     },
     "execution_count": 61,
     "metadata": {},
     "output_type": "execute_result"
    }
   ],
   "source": [
    "ss[ss.find('공부'):]"
   ]
  },
  {
   "cell_type": "code",
   "execution_count": 67,
   "id": "925713d3-cd64-4195-96a0-4b4fd278571d",
   "metadata": {},
   "outputs": [
    {
     "data": {
      "text/plain": [
       "'공부는 즐겁습니다. 물론'"
      ]
     },
     "execution_count": 67,
     "metadata": {},
     "output_type": "execute_result"
    }
   ],
   "source": [
    "ss[ss.find('공부'):ss.rfind('공부')-1]"
   ]
  },
  {
   "cell_type": "code",
   "execution_count": 70,
   "id": "3dd75fc1-f4f5-406d-90a4-27037b7ce5b9",
   "metadata": {},
   "outputs": [
    {
     "data": {
      "text/plain": [
       "(True, False)"
      ]
     },
     "execution_count": 70,
     "metadata": {},
     "output_type": "execute_result"
    }
   ],
   "source": [
    "ss.startswith('파이썬'), ss.endswith('공부')"
   ]
  },
  {
   "cell_type": "code",
   "execution_count": 74,
   "id": "6df7a8f6-c259-433a-af38-b9b5d683532d",
   "metadata": {},
   "outputs": [
    {
     "name": "stdin",
     "output_type": "stream",
     "text": [
      "입력 문자열 ==>  파이썬 열공중~~\n"
     ]
    },
    {
     "name": "stdout",
     "output_type": "stream",
     "text": [
      "출력 문자열 ==> (파이썬 열공중~~)"
     ]
    }
   ],
   "source": [
    "ss = input(\"입력 문자열 ==> \")\n",
    "print(\"출력 문자열 ==> \", end = '')\n",
    "\n",
    "if ss.startswith('(') == False :\n",
    "     print(\"(\", end = '')\n",
    "\n",
    "print(ss, end = '')\n",
    "\n",
    "if ss.endswith(')') == False :\n",
    "     print(\")\", end = '')\n"
   ]
  },
  {
   "cell_type": "code",
   "execution_count": 75,
   "id": "b540b59e-079b-4d81-a1bc-5fe9860b3aba",
   "metadata": {},
   "outputs": [],
   "source": [
    "ss = ' 파이썬 '"
   ]
  },
  {
   "cell_type": "code",
   "execution_count": 76,
   "id": "e9310093-75a5-41d6-9b17-d23e49a3ebaa",
   "metadata": {},
   "outputs": [
    {
     "data": {
      "text/plain": [
       "'파이썬'"
      ]
     },
     "execution_count": 76,
     "metadata": {},
     "output_type": "execute_result"
    }
   ],
   "source": [
    "ss.strip()"
   ]
  },
  {
   "cell_type": "code",
   "execution_count": 77,
   "id": "fb03d53d-8ea7-430a-b585-6fceca9b0b2c",
   "metadata": {},
   "outputs": [
    {
     "data": {
      "text/plain": [
       "' 파이썬'"
      ]
     },
     "execution_count": 77,
     "metadata": {},
     "output_type": "execute_result"
    }
   ],
   "source": [
    "ss.rstrip()"
   ]
  },
  {
   "cell_type": "code",
   "execution_count": 78,
   "id": "bbe1c801-258f-4da4-a345-d7eef21fa978",
   "metadata": {},
   "outputs": [
    {
     "data": {
      "text/plain": [
       "'파이썬'"
      ]
     },
     "execution_count": 78,
     "metadata": {},
     "output_type": "execute_result"
    }
   ],
   "source": [
    "ss.lstrip()"
   ]
  },
  {
   "cell_type": "code",
   "execution_count": 84,
   "id": "9e0ceb9b-a4e5-43d4-9c41-c39da77ee36b",
   "metadata": {},
   "outputs": [
    {
     "name": "stdout",
     "output_type": "stream",
     "text": [
      "파---이---썬\n",
      "파<<이>>썬\n"
     ]
    }
   ],
   "source": [
    "ss = '---파---이---썬---'\n",
    "print(ss.strip('-'))\n",
    "ss = '<<<파<<이>>썬>>>'\n",
    "print(ss.strip('<>'))"
   ]
  },
  {
   "cell_type": "code",
   "execution_count": 86,
   "id": "8a1881c2-88cb-4688-bc49-2c9338a1ee39",
   "metadata": {},
   "outputs": [
    {
     "name": "stdout",
     "output_type": "stream",
     "text": [
      "원래 문자열 ==> [   한글 Python 프로그래밍   ]\n",
      "공백 삭제 문자열 ==> [한글Python프로그래밍]\n"
     ]
    }
   ],
   "source": [
    "inStr = \"   한글 Python 프로그래밍   \"\n",
    "outStr = \"\"\n",
    "\n",
    "for i in range(0, len(inStr)) :\n",
    "     if inStr[i] != ' ' :\n",
    "          outStr += inStr[i]\n",
    "\n",
    "print(\"원래 문자열 ==> \" + '[' + inStr + ']')\n",
    "print(\"공백 삭제 문자열 ==> \" + '[' + outStr + ']')\n"
   ]
  },
  {
   "cell_type": "code",
   "execution_count": 87,
   "id": "99e9e5ea-498a-4de4-a1b3-6c67dfec3416",
   "metadata": {},
   "outputs": [
    {
     "name": "stdout",
     "output_type": "stream",
     "text": [
      "원래 문자열 ==> [<<<파<<이>>썬>>>]\n",
      "공백 삭제 문자열 ==> [파이썬]\n"
     ]
    }
   ],
   "source": [
    "inStr = \"<<<파<<이>>썬>>>\"\n",
    "outStr = \"\"\n",
    "\n",
    "for i in range(0, len(inStr)) :\n",
    "     if inStr[i] != '<' and inStr[i] !='>' :\n",
    "          outStr += inStr[i]\n",
    "\n",
    "print(\"원래 문자열 ==> \" + '[' + inStr + ']')\n",
    "print(\"공백 삭제 문자열 ==> \" + '[' + outStr + ']')\n"
   ]
  },
  {
   "cell_type": "code",
   "execution_count": 88,
   "id": "2741a932-88dc-4cea-a2bf-8705f5b861fa",
   "metadata": {},
   "outputs": [
    {
     "data": {
      "text/plain": [
       "'열심히 Python 공부 중~~'"
      ]
     },
     "execution_count": 88,
     "metadata": {},
     "output_type": "execute_result"
    }
   ],
   "source": [
    "ss = '열심히 파이썬 공부 중~~'\n",
    "ss.replace('파이썬','Python')"
   ]
  },
  {
   "cell_type": "code",
   "execution_count": 89,
   "id": "a7639ad8-486e-4166-95ee-2bf6d240c8af",
   "metadata": {},
   "outputs": [
    {
     "name": "stdin",
     "output_type": "stream",
     "text": [
      "입력 문자열 ==>  it cookbook for python\n"
     ]
    },
    {
     "name": "stdout",
     "output_type": "stream",
     "text": [
      "출력 문자열 ==> it c$$kb$$k f$r pyth$n"
     ]
    }
   ],
   "source": [
    "ss = input(\"입력 문자열 ==> \")\n",
    "\n",
    "print(\"출력 문자열 ==> \", end = '')\n",
    "for i in range(0, len(ss)) :\n",
    "     if ss[i] != 'o' :\n",
    "          print(ss[i], end = '')\n",
    "     else :\n",
    "          print('$', end = '')\n"
   ]
  },
  {
   "cell_type": "code",
   "execution_count": 90,
   "id": "ad3b2ce0-ddc8-4a3e-82b8-1b9cfb95146a",
   "metadata": {},
   "outputs": [
    {
     "name": "stdout",
     "output_type": "stream",
     "text": [
      "it c$$kb$$k f$r pyth$n\n"
     ]
    }
   ],
   "source": [
    "print(ss.replace('o','$'))"
   ]
  },
  {
   "cell_type": "code",
   "execution_count": 95,
   "id": "32a5cf71-e4db-401b-b16d-15319fab0fca",
   "metadata": {},
   "outputs": [
    {
     "name": "stdout",
     "output_type": "stream",
     "text": [
      "Python을 열심히 공부 중\n",
      "하나:둘:셋\n",
      "하나\n",
      "둘\n",
      "셋\n"
     ]
    },
    {
     "data": {
      "text/plain": [
       "'파%이%썬'"
      ]
     },
     "execution_count": 95,
     "metadata": {},
     "output_type": "execute_result"
    }
   ],
   "source": [
    "ss = 'Python을 열심히 공부 중'\n",
    "ss.split()\n",
    "print(ss)\n",
    "ss = '하나:둘:셋'\n",
    "ss.split(':')\n",
    "print(ss, sep='\\n')\n",
    "ss= '하나\\n둘\\n셋'\n",
    "ss.splitlines()\n",
    "print(ss)\n",
    "ss = '%'\n",
    "ss.join('파이썬')"
   ]
  },
  {
   "cell_type": "code",
   "execution_count": 96,
   "id": "70bb912a-d693-4bf3-b2e7-7e525ded2750",
   "metadata": {},
   "outputs": [
    {
     "name": "stdin",
     "output_type": "stream",
     "text": [
      "날짜(연/월/일) 입력 ==>  2019/12/31\n"
     ]
    },
    {
     "name": "stdout",
     "output_type": "stream",
     "text": [
      "입력한 날짜의 10년 후 ==> 2029년12월31일\n"
     ]
    }
   ],
   "source": [
    "ss = input(\"날짜(연/월/일) 입력 ==> \")\n",
    "\n",
    "ssList = ss.split('/')\n",
    "\n",
    "print(\"입력한 날짜의 10년 후 ==> \", end = '')\n",
    "print(str(int(ssList[0]) + 10) + \"년\", end = '')\n",
    "print(ssList[1] + \"월\", end = '')\n",
    "print(ssList[2] + \"일\")\n"
   ]
  },
  {
   "cell_type": "code",
   "execution_count": null,
   "id": "bb1d9cd8-092f-45de-b55d-fb4a29ecacfd",
   "metadata": {},
   "outputs": [],
   "source": []
  },
  {
   "cell_type": "markdown",
   "id": "ff79dc0c-598b-456e-ae63-1662bfeefaed",
   "metadata": {},
   "source": [
    "map()"
   ]
  },
  {
   "cell_type": "code",
   "execution_count": 97,
   "id": "2e370f97-77ef-435c-9800-05448d121aeb",
   "metadata": {},
   "outputs": [
    {
     "data": {
      "text/plain": [
       "['1', '3', '2', '4']"
      ]
     },
     "execution_count": 97,
     "metadata": {},
     "output_type": "execute_result"
    }
   ],
   "source": [
    "list(map(str,[1,3,2,4]))"
   ]
  },
  {
   "cell_type": "code",
   "execution_count": 98,
   "id": "ffc1bd55-99aa-4f13-b300-d351699a7232",
   "metadata": {},
   "outputs": [
    {
     "data": {
      "text/plain": [
       "[1.0, 3.0, 2.0, 4.0]"
      ]
     },
     "execution_count": 98,
     "metadata": {},
     "output_type": "execute_result"
    }
   ],
   "source": [
    "list(map(float,[1,3,2,4]))"
   ]
  },
  {
   "cell_type": "code",
   "execution_count": 99,
   "id": "303d5cda-3d9d-48dd-985a-f87739a8cabe",
   "metadata": {},
   "outputs": [
    {
     "data": {
      "text/plain": [
       "[1, 3, 2, 4]"
      ]
     },
     "execution_count": 99,
     "metadata": {},
     "output_type": "execute_result"
    }
   ],
   "source": [
    "list(map(int,[1,3,2,4]))"
   ]
  },
  {
   "cell_type": "code",
   "execution_count": 100,
   "id": "6f273ea3-0196-463d-9739-3a04c18a27e8",
   "metadata": {},
   "outputs": [
    {
     "data": {
      "text/plain": [
       "'   파이썬    '"
      ]
     },
     "execution_count": 100,
     "metadata": {},
     "output_type": "execute_result"
    }
   ],
   "source": [
    "ss = '파이썬'\n",
    "ss.center(10)"
   ]
  },
  {
   "cell_type": "code",
   "execution_count": 101,
   "id": "bd1a07a7-e40a-447e-891f-4b6da7fee6c5",
   "metadata": {},
   "outputs": [
    {
     "data": {
      "text/plain": [
       "'---파이썬----'"
      ]
     },
     "execution_count": 101,
     "metadata": {},
     "output_type": "execute_result"
    }
   ],
   "source": [
    "ss.center(10,'-')"
   ]
  },
  {
   "cell_type": "code",
   "execution_count": 102,
   "id": "6802e0a2-2f88-483d-9ee6-9a909381f045",
   "metadata": {},
   "outputs": [
    {
     "data": {
      "text/plain": [
       "'파이썬       '"
      ]
     },
     "execution_count": 102,
     "metadata": {},
     "output_type": "execute_result"
    }
   ],
   "source": [
    "ss.ljust(10)"
   ]
  },
  {
   "cell_type": "code",
   "execution_count": 103,
   "id": "6bd2291e-aa4b-421d-80c2-1e640c50b256",
   "metadata": {},
   "outputs": [
    {
     "data": {
      "text/plain": [
       "'       파이썬'"
      ]
     },
     "execution_count": 103,
     "metadata": {},
     "output_type": "execute_result"
    }
   ],
   "source": [
    "ss.rjust(10)"
   ]
  },
  {
   "cell_type": "code",
   "execution_count": 107,
   "id": "462d70e4-5fdb-455a-beb3-c4d15703e522",
   "metadata": {},
   "outputs": [
    {
     "data": {
      "text/plain": [
       "'0000000파이썬'"
      ]
     },
     "execution_count": 107,
     "metadata": {},
     "output_type": "execute_result"
    }
   ],
   "source": [
    "ss.zfill(10)"
   ]
  },
  {
   "cell_type": "code",
   "execution_count": 108,
   "id": "68db4362-6410-480b-b215-2efa6575e83b",
   "metadata": {},
   "outputs": [
    {
     "data": {
      "text/plain": [
       "True"
      ]
     },
     "execution_count": 108,
     "metadata": {},
     "output_type": "execute_result"
    }
   ],
   "source": [
    "'1234'.isdigit()"
   ]
  },
  {
   "cell_type": "code",
   "execution_count": 109,
   "id": "bc7f1ab5-eb86-458e-9b03-fb1e0651d1e5",
   "metadata": {},
   "outputs": [
    {
     "data": {
      "text/plain": [
       "True"
      ]
     },
     "execution_count": 109,
     "metadata": {},
     "output_type": "execute_result"
    }
   ],
   "source": [
    "'abcd'.isalpha()"
   ]
  },
  {
   "cell_type": "code",
   "execution_count": 110,
   "id": "c4f7ba45-cfa9-484e-9790-9b5113c4187d",
   "metadata": {},
   "outputs": [
    {
     "data": {
      "text/plain": [
       "True"
      ]
     },
     "execution_count": 110,
     "metadata": {},
     "output_type": "execute_result"
    }
   ],
   "source": [
    "'abc123'.isalnum()"
   ]
  },
  {
   "cell_type": "code",
   "execution_count": 111,
   "id": "26b56ec4-3555-4ce8-9f8f-e3aeac136b5f",
   "metadata": {},
   "outputs": [
    {
     "data": {
      "text/plain": [
       "True"
      ]
     },
     "execution_count": 111,
     "metadata": {},
     "output_type": "execute_result"
    }
   ],
   "source": [
    "'abcd'.islower()"
   ]
  },
  {
   "cell_type": "code",
   "execution_count": 112,
   "id": "c8d36ffd-c1bc-4df2-bae1-4f38d6ee8034",
   "metadata": {},
   "outputs": [
    {
     "data": {
      "text/plain": [
       "True"
      ]
     },
     "execution_count": 112,
     "metadata": {},
     "output_type": "execute_result"
    }
   ],
   "source": [
    "'ABCD'.isupper()"
   ]
  },
  {
   "cell_type": "code",
   "execution_count": 117,
   "id": "b4e67527-a4da-4c58-a43f-b5976052c693",
   "metadata": {},
   "outputs": [
    {
     "data": {
      "text/plain": [
       "True"
      ]
     },
     "execution_count": 117,
     "metadata": {},
     "output_type": "execute_result"
    }
   ],
   "source": [
    "'파이썬'.isalnum()"
   ]
  },
  {
   "cell_type": "code",
   "execution_count": 114,
   "id": "868fb3c0-d05d-45f5-980c-09664e90b89a",
   "metadata": {},
   "outputs": [
    {
     "data": {
      "text/plain": [
       "True"
      ]
     },
     "execution_count": 114,
     "metadata": {},
     "output_type": "execute_result"
    }
   ],
   "source": [
    "' '.isspace()"
   ]
  },
  {
   "cell_type": "code",
   "execution_count": 115,
   "id": "40f74f92-69c7-451a-a2fa-104546d7f0a1",
   "metadata": {},
   "outputs": [
    {
     "data": {
      "text/plain": [
       "False"
      ]
     },
     "execution_count": 115,
     "metadata": {},
     "output_type": "execute_result"
    }
   ],
   "source": [
    "'123abc'.isdigit()"
   ]
  },
  {
   "cell_type": "code",
   "execution_count": 120,
   "id": "d61cb108-dbaf-4e6b-b8b4-545307fce12e",
   "metadata": {},
   "outputs": [
    {
     "name": "stdin",
     "output_type": "stream",
     "text": [
      "문자열 입력 : abc123\n"
     ]
    },
    {
     "name": "stdout",
     "output_type": "stream",
     "text": [
      "글자+숫자\n"
     ]
    }
   ],
   "source": [
    "n = input('문자열 입력 :')\n",
    "if n.isdigit() == True:\n",
    "    print('숫자')\n",
    "elif n.isalpha()==True:\n",
    "    print('글자')\n",
    "elif n.isalnum()==True:\n",
    "    print('글자+숫자')\n",
    "else:\n",
    "      print('모름')"
   ]
  },
  {
   "cell_type": "code",
   "execution_count": 121,
   "id": "a004d110-5653-4f47-836c-1aed7e93b1c0",
   "metadata": {},
   "outputs": [
    {
     "name": "stdin",
     "output_type": "stream",
     "text": [
      "어떤 커피 드릴까요?(1:보통, 2:설탕, 3:블랙) 2\n"
     ]
    },
    {
     "name": "stdout",
     "output_type": "stream",
     "text": [
      "\n",
      "#1. (자동으로) 뜨거운 물을 준비한다.\n",
      "#2. (자동으로) 종이컵을 준비한다.\n",
      "#3. (자동으로) 설탕커피를 탄다.\n",
      "#4. (자동으로) 물을 붓는다.\n",
      "#5. (자동으로) 스푼으로 젓는다.\n",
      "\n",
      "손님~ 커피 여기 있습니다.\n"
     ]
    }
   ],
   "source": [
    "## 전역 변수 선언 부분 ##\n",
    "coffee = 0\n",
    "\n",
    "## 함수 선언 부분 ##\n",
    "def coffee_machine(button) :\n",
    "     print()\n",
    "     print(\"#1. (자동으로) 뜨거운 물을 준비한다.\");\n",
    "     print(\"#2. (자동으로) 종이컵을 준비한다.\");\n",
    "\n",
    "     if button == 1 :\n",
    "          print(\"#3. (자동으로) 보통커피를 탄다.\")\n",
    "     elif button == 2 :\n",
    "          print(\"#3. (자동으로) 설탕커피를 탄다.\")\n",
    "     elif button == 3 :\n",
    "          print(\"#3. (자동으로) 블랙커피를 탄다.\")\n",
    "     else :\n",
    "          print(\"#3. (자동으로) 아무거나 탄다.\\n\")\n",
    "\n",
    "     print(\"#4. (자동으로) 물을 붓는다.\");\n",
    "     print(\"#5. (자동으로) 스푼으로 젓는다.\");\n",
    "     print()\n",
    "\n",
    "## 메인 코드 부분 ##\n",
    "coffee = int(input(\"어떤 커피 드릴까요?(1:보통, 2:설탕, 3:블랙)\"))\n",
    "coffee_machine(coffee)\n",
    "print(\"손님~ 커피 여기 있습니다.\");\n"
   ]
  },
  {
   "cell_type": "code",
   "execution_count": 123,
   "id": "c3c7af2b-ab10-40b5-ac80-ef99e6d78540",
   "metadata": {},
   "outputs": [
    {
     "name": "stdin",
     "output_type": "stream",
     "text": [
      "A손님, 어떤 커피 드릴까요?(1:보통, 2:설탕, 3:블랙) 2\n"
     ]
    },
    {
     "name": "stdout",
     "output_type": "stream",
     "text": [
      "\n",
      "#1. (자동으로) 뜨거운 물을 준비한다.\n",
      "#2. (자동으로) 종이컵을 준비한다.\n",
      "#3. (자동으로) 설탕커피를 탄다.\n",
      "#4. (자동으로) 물을 붓는다.\n",
      "#5. (자동으로) 스푼으로 젓는다.\n",
      "\n",
      "A손님~ 커피 여기 있습니다.\n"
     ]
    },
    {
     "name": "stdin",
     "output_type": "stream",
     "text": [
      "B손님, 어떤 커피 드릴까요?(1:보통, 2:설탕, 3:블랙) 3\n"
     ]
    },
    {
     "name": "stdout",
     "output_type": "stream",
     "text": [
      "\n",
      "#1. (자동으로) 뜨거운 물을 준비한다.\n",
      "#2. (자동으로) 종이컵을 준비한다.\n",
      "#3. (자동으로) 블랙커피를 탄다.\n",
      "#4. (자동으로) 물을 붓는다.\n",
      "#5. (자동으로) 스푼으로 젓는다.\n",
      "\n",
      "B손님~ 커피 여기 있습니다.\n"
     ]
    },
    {
     "name": "stdin",
     "output_type": "stream",
     "text": [
      "C손님, 어떤 커피 드릴까요?(1:보통, 2:설탕, 3:블랙) 1\n"
     ]
    },
    {
     "name": "stdout",
     "output_type": "stream",
     "text": [
      "\n",
      "#1. (자동으로) 뜨거운 물을 준비한다.\n",
      "#2. (자동으로) 종이컵을 준비한다.\n",
      "#3. (자동으로) 보통커피를 탄다.\n",
      "#4. (자동으로) 물을 붓는다.\n",
      "#5. (자동으로) 스푼으로 젓는다.\n",
      "\n",
      "C손님~ 커피 여기 있습니다.\n"
     ]
    }
   ],
   "source": [
    "## 전역 변수 선언 부분 ##\n",
    "coffee = 0\n",
    "\n",
    "## 함수 선언 부분 ##\n",
    "def coffee_machine(button) :\n",
    "     print()\n",
    "     print(\"#1. (자동으로) 뜨거운 물을 준비한다.\");\n",
    "     print(\"#2. (자동으로) 종이컵을 준비한다.\");\n",
    "\n",
    "     if button == 1 :\n",
    "          print(\"#3. (자동으로) 보통커피를 탄다.\")\n",
    "     elif button == 2 :\n",
    "          print(\"#3. (자동으로) 설탕커피를 탄다.\")\n",
    "     elif button == 3 :\n",
    "          print(\"#3. (자동으로) 블랙커피를 탄다.\")\n",
    "     else :\n",
    "          print(\"#3. (자동으로) 아무거나 탄다.\\n\")\n",
    "\n",
    "     print(\"#4. (자동으로) 물을 붓는다.\");\n",
    "     print(\"#5. (자동으로) 스푼으로 젓는다.\");\n",
    "     print()\n",
    "\n",
    "## 메인 코드 부분 ##\n",
    "coffee = int(input(\"A손님, 어떤 커피 드릴까요?(1:보통, 2:설탕, 3:블랙)\"))\n",
    "coffee_machine(coffee)\n",
    "print(\"A손님~ 커피 여기 있습니다.\")\n",
    "\n",
    "coffee = int(input(\"B손님, 어떤 커피 드릴까요?(1:보통, 2:설탕, 3:블랙)\"))\n",
    "coffee_machine(coffee)\n",
    "print(\"B손님~ 커피 여기 있습니다.\")\n",
    "\n",
    "coffee = int(input(\"C손님, 어떤 커피 드릴까요?(1:보통, 2:설탕, 3:블랙)\"))\n",
    "coffee_machine(coffee)\n",
    "print(\"C손님~ 커피 여기 있습니다.\")\n"
   ]
  },
  {
   "cell_type": "code",
   "execution_count": 124,
   "id": "ede1ba6c-d98f-451b-b15d-d1e5286be0b9",
   "metadata": {},
   "outputs": [],
   "source": [
    "def plus(v1, v2):\n",
    "    print(v1+v2)\n",
    "\n",
    "def plus2(v1,v2):\n",
    "    return v1+v2"
   ]
  },
  {
   "cell_type": "code",
   "execution_count": 125,
   "id": "fc3786ab-1afd-4730-a366-340d63498cbf",
   "metadata": {},
   "outputs": [
    {
     "name": "stdout",
     "output_type": "stream",
     "text": [
      "4\n"
     ]
    }
   ],
   "source": [
    "plus(2,2)"
   ]
  },
  {
   "cell_type": "code",
   "execution_count": 127,
   "id": "ca0cbc41-3bef-472e-8c88-8451752f61f4",
   "metadata": {},
   "outputs": [
    {
     "data": {
      "text/plain": [
       "5"
      ]
     },
     "execution_count": 127,
     "metadata": {},
     "output_type": "execute_result"
    }
   ],
   "source": [
    "plus2(2,3)"
   ]
  },
  {
   "cell_type": "code",
   "execution_count": 128,
   "id": "2fc36083-ddb1-496c-baeb-272fcba9cf84",
   "metadata": {},
   "outputs": [
    {
     "name": "stdout",
     "output_type": "stream",
     "text": [
      "5\n"
     ]
    }
   ],
   "source": [
    "r = plus(2,3)\n",
    "r"
   ]
  },
  {
   "cell_type": "code",
   "execution_count": 129,
   "id": "85f3f806-b225-4ca5-a30a-5f8ca6596f4a",
   "metadata": {},
   "outputs": [
    {
     "data": {
      "text/plain": [
       "\u001b[1;31mSignature:\u001b[0m \u001b[0mplus2\u001b[0m\u001b[1;33m(\u001b[0m\u001b[0mv1\u001b[0m\u001b[1;33m,\u001b[0m \u001b[0mv2\u001b[0m\u001b[1;33m)\u001b[0m\u001b[1;33m\u001b[0m\u001b[1;33m\u001b[0m\u001b[0m\n",
       "\u001b[1;31mDocstring:\u001b[0m <no docstring>\n",
       "\u001b[1;31mFile:\u001b[0m      c:\\users\\bit\\appdata\\local\\temp\\ipykernel_9424\\3532642996.py\n",
       "\u001b[1;31mType:\u001b[0m      function\n"
      ]
     },
     "metadata": {},
     "output_type": "display_data"
    }
   ],
   "source": [
    "plus2?"
   ]
  },
  {
   "cell_type": "code",
   "execution_count": 130,
   "id": "b1c98d5e-78f1-4b21-9fb9-0cabb358cc51",
   "metadata": {},
   "outputs": [
    {
     "data": {
      "text/plain": [
       "\u001b[1;31mSignature:\u001b[0m \u001b[0mplus2\u001b[0m\u001b[1;33m(\u001b[0m\u001b[0mv1\u001b[0m\u001b[1;33m,\u001b[0m \u001b[0mv2\u001b[0m\u001b[1;33m)\u001b[0m\u001b[1;33m\u001b[0m\u001b[1;33m\u001b[0m\u001b[0m\n",
       "\u001b[1;31mDocstring:\u001b[0m <no docstring>\n",
       "\u001b[1;31mSource:\u001b[0m   \n",
       "\u001b[1;32mdef\u001b[0m \u001b[0mplus2\u001b[0m\u001b[1;33m(\u001b[0m\u001b[0mv1\u001b[0m\u001b[1;33m,\u001b[0m\u001b[0mv2\u001b[0m\u001b[1;33m)\u001b[0m\u001b[1;33m:\u001b[0m\u001b[1;33m\n",
       "\u001b[0m    \u001b[1;32mreturn\u001b[0m \u001b[0mv1\u001b[0m\u001b[1;33m+\u001b[0m\u001b[0mv2\u001b[0m\u001b[1;33m\u001b[0m\u001b[1;33m\u001b[0m\u001b[0m\n",
       "\u001b[1;31mFile:\u001b[0m      c:\\users\\bit\\appdata\\local\\temp\\ipykernel_9424\\3532642996.py\n",
       "\u001b[1;31mType:\u001b[0m      function\n"
      ]
     },
     "metadata": {},
     "output_type": "display_data"
    }
   ],
   "source": [
    "plus2??"
   ]
  },
  {
   "cell_type": "code",
   "execution_count": 131,
   "id": "b01a9bcc-1ca1-48be-b612-02703f9fc23b",
   "metadata": {},
   "outputs": [
    {
     "name": "stdout",
     "output_type": "stream",
     "text": [
      "100과 200의 plus() 함수 결과는 300\n"
     ]
    }
   ],
   "source": [
    "## 함수 선언 부분 ##\n",
    "def plus( v1, v2) :\n",
    "     result = 0\n",
    "     result = v1 + v2\n",
    "     return result\n",
    "\n",
    "## 전역 변수 선언 부분 ##\n",
    "hap = 0\n",
    "\n",
    "## 메인 코드 부분 ##\n",
    "hap = plus(100, 200)\n",
    "print(\"100과 200의 plus() 함수 결과는 %d\" % hap)\n"
   ]
  },
  {
   "cell_type": "code",
   "execution_count": 133,
   "id": "62c3d0ab-682a-403d-b96d-a5dc408d9b93",
   "metadata": {},
   "outputs": [
    {
     "data": {
      "text/plain": [
       "<function __main__.mycalc()>"
      ]
     },
     "execution_count": 133,
     "metadata": {},
     "output_type": "execute_result"
    }
   ],
   "source": [
    "def mycalc():\n",
    "    return calc\n",
    "mm = ycalc()"
   ]
  },
  {
   "cell_type": "markdown",
   "id": "ec03666a-20e0-4381-aa98-efe4782c7e10",
   "metadata": {},
   "source": [
    "# 전역변수 지역변수"
   ]
  },
  {
   "cell_type": "code",
   "execution_count": 136,
   "id": "23aad715-e1ba-4780-a868-3bd5500d77af",
   "metadata": {},
   "outputs": [
    {
     "name": "stdout",
     "output_type": "stream",
     "text": [
      "10\n",
      "20\n"
     ]
    }
   ],
   "source": [
    "a = 20\n",
    "def f1():\n",
    "    a= 10\n",
    "    print(a)\n",
    "f1()\n",
    "print(a)"
   ]
  },
  {
   "cell_type": "code",
   "execution_count": 139,
   "id": "d7b6ef89-1b07-4b8a-976c-00c979aaa080",
   "metadata": {},
   "outputs": [],
   "source": [
    "a = 20\n",
    "def f1():\n",
    "    a= 10\n",
    "    #print(a)\n",
    "    print(locals())"
   ]
  },
  {
   "cell_type": "code",
   "execution_count": 140,
   "id": "97613d1f-bad9-4994-b4de-a76b1149d711",
   "metadata": {},
   "outputs": [
    {
     "name": "stdout",
     "output_type": "stream",
     "text": [
      "{'a': 10}\n"
     ]
    }
   ],
   "source": [
    "f1()"
   ]
  },
  {
   "cell_type": "code",
   "execution_count": 143,
   "id": "0f070f9a-9513-4e55-97c0-cde179a2970c",
   "metadata": {},
   "outputs": [],
   "source": [
    "def f2():\n",
    "    print(a)"
   ]
  },
  {
   "cell_type": "code",
   "execution_count": 144,
   "id": "89da3e9e-d64e-4a5c-a602-bb2fa9af7ef8",
   "metadata": {},
   "outputs": [
    {
     "name": "stdout",
     "output_type": "stream",
     "text": [
      "20\n"
     ]
    }
   ],
   "source": [
    "f2()"
   ]
  },
  {
   "cell_type": "code",
   "execution_count": 142,
   "id": "8edd46d4-c2db-4fc3-8352-18b9dce794df",
   "metadata": {},
   "outputs": [],
   "source": [
    "#globals()"
   ]
  },
  {
   "cell_type": "code",
   "execution_count": 145,
   "id": "4cafb29a-bfa7-4ad8-86b6-a05cb4675a6e",
   "metadata": {},
   "outputs": [
    {
     "name": "stdout",
     "output_type": "stream",
     "text": [
      "func1()에서 a값 10\n",
      "func2()에서 a값 10\n"
     ]
    }
   ],
   "source": [
    "## 함수 선언 부분 ##\n",
    "def func1() :\n",
    "     global a     # 이 함수 안에서 a는 전역 변수\n",
    "     a = 10\n",
    "     print(\"func1()에서 a값 %d\" % a)\n",
    "\n",
    "def func2() :\n",
    "     print(\"func2()에서 a값 %d\" % a)\n",
    "\n",
    "## 함수 변수 선언 부분 ##\n",
    "a = 20           # 전역 변수\n",
    "\n",
    "## 메인 코드 부분 ##\n",
    "func1()\n",
    "func2()\n"
   ]
  },
  {
   "cell_type": "code",
   "execution_count": 146,
   "id": "00f6d61e-86b1-46b2-b2e2-821ad71b7f8a",
   "metadata": {},
   "outputs": [],
   "source": [
    "def f3():\n",
    "    global a # 로컬에서 a라는 전역변수를 그대로 사용~\n",
    "    a = 30\n",
    "    print(a)"
   ]
  },
  {
   "cell_type": "code",
   "execution_count": 147,
   "id": "b8d306db-caf4-45c1-8f2f-4008e0085d70",
   "metadata": {},
   "outputs": [
    {
     "name": "stdout",
     "output_type": "stream",
     "text": [
      "30\n"
     ]
    }
   ],
   "source": [
    "f3()"
   ]
  },
  {
   "cell_type": "code",
   "execution_count": 148,
   "id": "7d0ff9a8-38af-4a2c-8fac-9d61e464b95a",
   "metadata": {},
   "outputs": [
    {
     "data": {
      "text/plain": [
       "30"
      ]
     },
     "execution_count": 148,
     "metadata": {},
     "output_type": "execute_result"
    }
   ],
   "source": [
    "a"
   ]
  },
  {
   "cell_type": "code",
   "execution_count": 154,
   "id": "ab51f7d3-8fb7-4600-a5db-a294a60d13cc",
   "metadata": {},
   "outputs": [
    {
     "name": "stdout",
     "output_type": "stream",
     "text": [
      "1\n"
     ]
    }
   ],
   "source": [
    "def faa(a):\n",
    "    a+=1\n",
    "    print(1)\n",
    "    \n",
    "#print(faa(1))\n",
    "faa(1)"
   ]
  },
  {
   "cell_type": "code",
   "execution_count": 155,
   "id": "dfd58d63-1999-406e-ae7d-010f534cee35",
   "metadata": {},
   "outputs": [
    {
     "name": "stdout",
     "output_type": "stream",
     "text": [
      "func1()에서 돌려준 값 ==> 100\n",
      "반환값이 없는 함수 실행\n"
     ]
    }
   ],
   "source": [
    "## 함수 선언 부분 ##\n",
    "def func1() :\n",
    "     result = 100\n",
    "     return result\n",
    "\n",
    "def func2() :\n",
    "     print(\"반환값이 없는 함수 실행\")\n",
    "\t\n",
    "## 전역 변수 선언 부분 ##\n",
    "hap = 0\n",
    "\n",
    "## 메인 코드 부분 ##\n",
    "hap = func1()\n",
    "print(\"func1()에서 돌려준 값 ==> %d\" % hap)\n",
    "func2()\n"
   ]
  },
  {
   "cell_type": "code",
   "execution_count": 156,
   "id": "81a6bb54-07ec-4e4d-9568-1d2dc4b69eb0",
   "metadata": {},
   "outputs": [
    {
     "name": "stdout",
     "output_type": "stream",
     "text": [
      "multi()에서 돌려준 값 ==> 300, -100\n"
     ]
    }
   ],
   "source": [
    "## 함수 선언 부분 ##\n",
    "def multi(v1, v2) :\n",
    "     retList=[]       # 반환할 리스트\n",
    "     res1 = v1 + v2\n",
    "     res2 = v1 - v2\n",
    "     retList.append(res1)\n",
    "     retList.append(res2)\n",
    "     return retList\n",
    "\t\n",
    "## 전역 변수 선언 부분 ##\n",
    "myList = []\n",
    "hap, sub = 0, 0\n",
    "\n",
    "## 메인 코드 부분 ##\n",
    "myList = multi(100, 200)\n",
    "hap = myList[0]\n",
    "sub = myList[1]\n",
    "print(\"multi()에서 돌려준 값 ==> %d, %d\" % (hap, sub))\n"
   ]
  },
  {
   "cell_type": "markdown",
   "id": "33be63a7-afb0-4098-bfab-4813ab0090d6",
   "metadata": {},
   "source": [
    "pass"
   ]
  },
  {
   "cell_type": "code",
   "execution_count": 157,
   "id": "9dbcf010-4b57-40f0-80dd-9d3372a1772f",
   "metadata": {},
   "outputs": [],
   "source": [
    "def f1():\n",
    "    pass"
   ]
  },
  {
   "cell_type": "code",
   "execution_count": 158,
   "id": "4fc43ce8-896e-466b-8c2b-9b1826382ec6",
   "metadata": {},
   "outputs": [],
   "source": [
    "f1()"
   ]
  },
  {
   "cell_type": "code",
   "execution_count": 159,
   "id": "a391fbde-e613-4148-97ab-4465e1a747e2",
   "metadata": {},
   "outputs": [],
   "source": [
    "if True:\n",
    "    pass\n",
    "else:\n",
    "    print('end')"
   ]
  },
  {
   "cell_type": "markdown",
   "id": "ce2d810d-4bd0-4e25-b69d-46247c5fa02c",
   "metadata": {},
   "source": [
    "# 매개변수 전달"
   ]
  },
  {
   "cell_type": "code",
   "execution_count": 163,
   "id": "a42ada52-8c30-47d7-82b5-3dedbd5853f3",
   "metadata": {},
   "outputs": [],
   "source": [
    "def f1(v1, v2) :\n",
    "     result = 0\n",
    "     result = v1 + v2\n",
    "     return result"
   ]
  },
  {
   "cell_type": "code",
   "execution_count": 168,
   "id": "885e4996-8e99-497d-827c-1963128d21bd",
   "metadata": {},
   "outputs": [],
   "source": [
    "def f2(v1, v2, v3) :\n",
    "     result = 0\n",
    "     result = v1 + v2 + v3\n",
    "     return result"
   ]
  },
  {
   "cell_type": "code",
   "execution_count": 169,
   "id": "9253d95c-a670-4639-b21a-49c380069f71",
   "metadata": {},
   "outputs": [
    {
     "data": {
      "text/plain": [
       "30"
      ]
     },
     "execution_count": 169,
     "metadata": {},
     "output_type": "execute_result"
    }
   ],
   "source": [
    "f1(10,20)"
   ]
  },
  {
   "cell_type": "code",
   "execution_count": 170,
   "id": "b8aad32b-05b6-407b-9d95-2bd41dcba436",
   "metadata": {},
   "outputs": [
    {
     "ename": "TypeError",
     "evalue": "f2() missing 1 required positional argument: 'v3'",
     "output_type": "error",
     "traceback": [
      "\u001b[1;31m---------------------------------------------------------------------------\u001b[0m",
      "\u001b[1;31mTypeError\u001b[0m                                 Traceback (most recent call last)",
      "\u001b[1;32m~\\AppData\\Local\\Temp/ipykernel_9424/3377845787.py\u001b[0m in \u001b[0;36m<module>\u001b[1;34m\u001b[0m\n\u001b[1;32m----> 1\u001b[1;33m \u001b[0mf2\u001b[0m\u001b[1;33m(\u001b[0m\u001b[1;36m1\u001b[0m\u001b[1;33m,\u001b[0m\u001b[1;36m2\u001b[0m\u001b[1;33m)\u001b[0m\u001b[1;33m\u001b[0m\u001b[1;33m\u001b[0m\u001b[0m\n\u001b[0m",
      "\u001b[1;31mTypeError\u001b[0m: f2() missing 1 required positional argument: 'v3'"
     ]
    }
   ],
   "source": [
    "f2(1,2)"
   ]
  },
  {
   "cell_type": "markdown",
   "id": "3d68c65a-b106-4b88-8d42-062b0c86a4ad",
   "metadata": {},
   "source": [
    "매개변수 기본값"
   ]
  },
  {
   "cell_type": "code",
   "execution_count": 177,
   "id": "a1c202ef-57bd-41f1-9164-d52a5f1a5418",
   "metadata": {},
   "outputs": [],
   "source": [
    "def f3(v1,v2,v3=0): #매개변수 값이 전달이 안되면 기본값!!\n",
    "    return v1+v2+v3"
   ]
  },
  {
   "cell_type": "code",
   "execution_count": 178,
   "id": "a4648624-c3df-46ef-85b3-5594ca088b13",
   "metadata": {},
   "outputs": [
    {
     "data": {
      "text/plain": [
       "3"
      ]
     },
     "execution_count": 178,
     "metadata": {},
     "output_type": "execute_result"
    }
   ],
   "source": [
    "f3(1,2)"
   ]
  },
  {
   "cell_type": "code",
   "execution_count": 179,
   "id": "990bc8fc-b9dc-4e49-9eda-cd9eb0525b86",
   "metadata": {},
   "outputs": [
    {
     "data": {
      "text/plain": [
       "8"
      ]
     },
     "execution_count": 179,
     "metadata": {},
     "output_type": "execute_result"
    }
   ],
   "source": [
    "f3(v1=1,v2=3,v3=4)"
   ]
  },
  {
   "cell_type": "code",
   "execution_count": 180,
   "id": "aae90815-d34c-4e7b-9487-15c3f1342921",
   "metadata": {},
   "outputs": [
    {
     "data": {
      "text/plain": [
       "4"
      ]
     },
     "execution_count": 180,
     "metadata": {},
     "output_type": "execute_result"
    }
   ],
   "source": [
    "f3(v1=1,v2=3)"
   ]
  },
  {
   "cell_type": "code",
   "execution_count": 181,
   "id": "5f072ef0-982e-40e8-bb18-14de1f4db4f4",
   "metadata": {},
   "outputs": [
    {
     "ename": "TypeError",
     "evalue": "f3() missing 1 required positional argument: 'v2'",
     "output_type": "error",
     "traceback": [
      "\u001b[1;31m---------------------------------------------------------------------------\u001b[0m",
      "\u001b[1;31mTypeError\u001b[0m                                 Traceback (most recent call last)",
      "\u001b[1;32m~\\AppData\\Local\\Temp/ipykernel_9424/3204579469.py\u001b[0m in \u001b[0;36m<module>\u001b[1;34m\u001b[0m\n\u001b[1;32m----> 1\u001b[1;33m \u001b[0mf3\u001b[0m\u001b[1;33m(\u001b[0m\u001b[0mv1\u001b[0m\u001b[1;33m=\u001b[0m\u001b[1;36m1\u001b[0m\u001b[1;33m,\u001b[0m\u001b[0mv3\u001b[0m\u001b[1;33m=\u001b[0m\u001b[1;36m3\u001b[0m\u001b[1;33m)\u001b[0m\u001b[1;33m\u001b[0m\u001b[1;33m\u001b[0m\u001b[0m\n\u001b[0m",
      "\u001b[1;31mTypeError\u001b[0m: f3() missing 1 required positional argument: 'v2'"
     ]
    }
   ],
   "source": [
    "f3(v1=1,v3=3)"
   ]
  },
  {
   "cell_type": "code",
   "execution_count": 182,
   "id": "567c07fb-6cb3-43c7-a123-480ce72905f0",
   "metadata": {},
   "outputs": [
    {
     "data": {
      "text/plain": [
       "6"
      ]
     },
     "execution_count": 182,
     "metadata": {},
     "output_type": "execute_result"
    }
   ],
   "source": [
    "f3(v1=1,v3=3,v2=2)"
   ]
  },
  {
   "cell_type": "markdown",
   "id": "cfe8c61b-8621-4755-9797-5c34ef9f4d84",
   "metadata": {},
   "source": [
    "*, ** 매개변수"
   ]
  },
  {
   "cell_type": "code",
   "execution_count": 183,
   "id": "67c836ea-7fc4-470b-8ff5-1ebad44d8015",
   "metadata": {},
   "outputs": [],
   "source": [
    "def f4(*v):\n",
    "    result = 0\n",
    "    for n in v:\n",
    "        result+=n\n",
    "    return result"
   ]
  },
  {
   "cell_type": "code",
   "execution_count": 184,
   "id": "6338f722-faed-46a6-87bd-0fe1060371e2",
   "metadata": {},
   "outputs": [
    {
     "data": {
      "text/plain": [
       "<function __main__.f4(*v)>"
      ]
     },
     "execution_count": 184,
     "metadata": {},
     "output_type": "execute_result"
    }
   ],
   "source": [
    "f4"
   ]
  },
  {
   "cell_type": "code",
   "execution_count": 185,
   "id": "503e4e6f-f7c2-4c02-971f-9e2cf1315357",
   "metadata": {},
   "outputs": [
    {
     "data": {
      "text/plain": [
       "6"
      ]
     },
     "execution_count": 185,
     "metadata": {},
     "output_type": "execute_result"
    }
   ],
   "source": [
    "f4(1,2,3)"
   ]
  },
  {
   "cell_type": "code",
   "execution_count": 186,
   "id": "9c922d77-1c2b-48ac-b320-83f54ec8dacc",
   "metadata": {},
   "outputs": [
    {
     "data": {
      "text/plain": [
       "1"
      ]
     },
     "execution_count": 186,
     "metadata": {},
     "output_type": "execute_result"
    }
   ],
   "source": [
    "f4(1)"
   ]
  },
  {
   "cell_type": "markdown",
   "id": "c2d46905-aa78-4631-9c3f-db7abeac8337",
   "metadata": {},
   "source": [
    "딕셔너리 매개변수"
   ]
  },
  {
   "cell_type": "code",
   "execution_count": 187,
   "id": "16356e0c-dcda-4de5-9bdf-d7cca6eb2f03",
   "metadata": {},
   "outputs": [],
   "source": [
    "def f5(**v): #dict\n",
    "    for k in v.keys():\n",
    "        print(k,v[k])"
   ]
  },
  {
   "cell_type": "code",
   "execution_count": 188,
   "id": "b0242feb-a353-4e68-8ec8-3a2d308874db",
   "metadata": {},
   "outputs": [
    {
     "name": "stdout",
     "output_type": "stream",
     "text": [
      "v1 1\n",
      "v2 3\n",
      "v3 0\n"
     ]
    }
   ],
   "source": [
    "f5(v1=1,v2=3,v3=0)"
   ]
  },
  {
   "cell_type": "code",
   "execution_count": 189,
   "id": "4b5c7f5b-b295-4b3c-bc0d-94a30864c4f2",
   "metadata": {},
   "outputs": [
    {
     "ename": "TypeError",
     "evalue": "f5() takes 0 positional arguments but 3 were given",
     "output_type": "error",
     "traceback": [
      "\u001b[1;31m---------------------------------------------------------------------------\u001b[0m",
      "\u001b[1;31mTypeError\u001b[0m                                 Traceback (most recent call last)",
      "\u001b[1;32m~\\AppData\\Local\\Temp/ipykernel_9424/1950320784.py\u001b[0m in \u001b[0;36m<module>\u001b[1;34m\u001b[0m\n\u001b[1;32m----> 1\u001b[1;33m \u001b[0mf5\u001b[0m\u001b[1;33m(\u001b[0m\u001b[1;36m1\u001b[0m\u001b[1;33m,\u001b[0m\u001b[1;36m2\u001b[0m\u001b[1;33m,\u001b[0m\u001b[1;36m3\u001b[0m\u001b[1;33m)\u001b[0m\u001b[1;33m\u001b[0m\u001b[1;33m\u001b[0m\u001b[0m\n\u001b[0m",
      "\u001b[1;31mTypeError\u001b[0m: f5() takes 0 positional arguments but 3 were given"
     ]
    }
   ],
   "source": [
    "f5(1,2,3)"
   ]
  },
  {
   "cell_type": "markdown",
   "id": "ce4460d5-da33-4fa3-8b02-3cd048bf768a",
   "metadata": {},
   "source": [
    "가변형 인자 & 딕셔너리 인자"
   ]
  },
  {
   "cell_type": "code",
   "execution_count": 192,
   "id": "b248a80b-3f86-441c-ae87-b12e299cf9fd",
   "metadata": {},
   "outputs": [],
   "source": [
    "def myfunction(*args,**kwergs):\n",
    "    print('args:',args)\n",
    "    print('kwargs:',kwergs)"
   ]
  },
  {
   "cell_type": "code",
   "execution_count": 193,
   "id": "bc1d1921-7f9d-4ed1-8387-b802a2b51c27",
   "metadata": {},
   "outputs": [
    {
     "name": "stdout",
     "output_type": "stream",
     "text": [
      "args: ()\n",
      "kwargs: {}\n"
     ]
    }
   ],
   "source": [
    "myfunction()"
   ]
  },
  {
   "cell_type": "code",
   "execution_count": 194,
   "id": "0229ef38-b73a-4b40-95fd-0ea94659068a",
   "metadata": {},
   "outputs": [
    {
     "name": "stdout",
     "output_type": "stream",
     "text": [
      "args: (1,)\n",
      "kwargs: {}\n"
     ]
    }
   ],
   "source": [
    "myfunction(1)"
   ]
  },
  {
   "cell_type": "code",
   "execution_count": 195,
   "id": "0463d856-15c0-4be5-b7b9-535494c34e71",
   "metadata": {},
   "outputs": [
    {
     "name": "stdout",
     "output_type": "stream",
     "text": [
      "args: ()\n",
      "kwargs: {'a': 3}\n"
     ]
    }
   ],
   "source": [
    "myfunction(a=3)"
   ]
  },
  {
   "cell_type": "code",
   "execution_count": 196,
   "id": "8b7a8c30-2e90-42e9-8e41-42b885e74355",
   "metadata": {},
   "outputs": [
    {
     "name": "stdout",
     "output_type": "stream",
     "text": [
      "args: (1, 2, 3)\n",
      "kwargs: {'a': 3}\n"
     ]
    }
   ],
   "source": [
    "myfunction(1,2,3,a=3)"
   ]
  },
  {
   "cell_type": "code",
   "execution_count": 197,
   "id": "3104a065-fd85-4557-b5bf-10a0ccb56e33",
   "metadata": {},
   "outputs": [
    {
     "ename": "SyntaxError",
     "evalue": "positional argument follows keyword argument (Temp/ipykernel_9424/434704.py, line 1)",
     "output_type": "error",
     "traceback": [
      "\u001b[1;36m  File \u001b[1;32m\"C:\\Users\\BIT\\AppData\\Local\\Temp/ipykernel_9424/434704.py\"\u001b[1;36m, line \u001b[1;32m1\u001b[0m\n\u001b[1;33m    myfunction(a=3,1,2,3)\u001b[0m\n\u001b[1;37m                        ^\u001b[0m\n\u001b[1;31mSyntaxError\u001b[0m\u001b[1;31m:\u001b[0m positional argument follows keyword argument\n"
     ]
    }
   ],
   "source": [
    "myfunction(a=3,1,2,3)"
   ]
  },
  {
   "cell_type": "code",
   "execution_count": 202,
   "id": "d6d33713-feed-4f48-8c80-a5dc2ba7f691",
   "metadata": {},
   "outputs": [
    {
     "name": "stdout",
     "output_type": "stream",
     "text": [
      "[42, 89, 28, 6, 30, 38]\n"
     ]
    }
   ],
   "source": [
    "import random\n",
    "def getNumber():\n",
    "    return random.randint(1,100)\n",
    "\n",
    "a = []\n",
    "n = 0\n",
    "\n",
    "while True:\n",
    "    n = getNumber()\n",
    "    if a.count(n) ==0 :\n",
    "        a.append(n)\n",
    "    \n",
    "    \n",
    "    if len(a)== 6:\n",
    "        break\n",
    "print(a)"
   ]
  },
  {
   "cell_type": "markdown",
   "id": "5bb3be2e-7f8d-46e5-be97-ac733c7cc4b2",
   "metadata": {},
   "source": [
    "# 모듈"
   ]
  },
  {
   "cell_type": "code",
   "execution_count": 5,
   "id": "398b58a1-a260-4db3-b62d-ec2c193d03e3",
   "metadata": {},
   "outputs": [
    {
     "name": "stdout",
     "output_type": "stream",
     "text": [
      "Module1.py의 func1()이 호출됨.\n",
      "Module1.py의 func2()가 호출됨.\n",
      "Module1.py의 func3()이 호출됨.\n"
     ]
    },
    {
     "data": {
      "text/plain": [
       "<module 'Module1' from 'C:\\\\Users\\\\BIT\\\\Works\\\\Module1.py'>"
      ]
     },
     "execution_count": 5,
     "metadata": {},
     "output_type": "execute_result"
    }
   ],
   "source": [
    "import Module1\n",
    "Module1.func1()\n",
    "Module1.func2()\n",
    "Module1.func3()\n",
    "Module1"
   ]
  },
  {
   "cell_type": "code",
   "execution_count": 6,
   "id": "7687a9eb-7eaa-4c11-9837-4a8405050d09",
   "metadata": {},
   "outputs": [
    {
     "data": {
      "text/plain": [
       "module"
      ]
     },
     "execution_count": 6,
     "metadata": {},
     "output_type": "execute_result"
    }
   ],
   "source": [
    "type(Module1)"
   ]
  },
  {
   "cell_type": "code",
   "execution_count": 7,
   "id": "adf046c4-ba42-44a7-b794-b26ae37c99c8",
   "metadata": {},
   "outputs": [
    {
     "data": {
      "text/plain": [
       "3.14"
      ]
     },
     "execution_count": 7,
     "metadata": {},
     "output_type": "execute_result"
    }
   ],
   "source": [
    "Module1.PI"
   ]
  },
  {
   "cell_type": "code",
   "execution_count": 8,
   "id": "0b5d98d9-8a96-43c6-b490-7899373e8ab3",
   "metadata": {},
   "outputs": [],
   "source": [
    "# 모듈 안의 특정한 객체만 가져올때!!"
   ]
  },
  {
   "cell_type": "code",
   "execution_count": 9,
   "id": "0fa159fe-8f1a-4b8e-b755-ce9553f9a2d7",
   "metadata": {},
   "outputs": [],
   "source": [
    "from Module1 import func1, func2"
   ]
  },
  {
   "cell_type": "code",
   "execution_count": 10,
   "id": "f63cdd2f-ff98-4ce8-9625-079b25210454",
   "metadata": {},
   "outputs": [
    {
     "name": "stdout",
     "output_type": "stream",
     "text": [
      "Module1.py의 func1()이 호출됨.\n"
     ]
    }
   ],
   "source": [
    "func1()"
   ]
  },
  {
   "cell_type": "code",
   "execution_count": 12,
   "id": "76160217-ab89-424f-8d48-8482f1d92285",
   "metadata": {},
   "outputs": [
    {
     "name": "stdout",
     "output_type": "stream",
     "text": [
      "Module1.py의 func2()가 호출됨.\n"
     ]
    }
   ],
   "source": [
    "func2()"
   ]
  },
  {
   "cell_type": "markdown",
   "id": "5aae70d3-c3c0-429b-b7c2-914f8154efe8",
   "metadata": {},
   "source": [
    "# Module2 테스트"
   ]
  },
  {
   "cell_type": "code",
   "execution_count": 13,
   "id": "4e783574-c3b1-4ccb-92dc-95c341fb75ad",
   "metadata": {},
   "outputs": [
    {
     "name": "stdout",
     "output_type": "stream",
     "text": [
      " C 드라이브의 볼륨에는 이름이 없습니다.\n",
      " 볼륨 일련 번호: F8D1-01D8\n",
      "\n",
      " C:\\Users\\BIT\\Works 디렉터리\n",
      "\n",
      "2022-03-24  오후 03:08               232 Module1.py\n",
      "2022-03-24  오후 03:19                56 Module2.py\n",
      "               2개 파일                 288 바이트\n",
      "               0개 디렉터리  93,767,110,656 바이트 남음\n"
     ]
    }
   ],
   "source": [
    "%ls *.py "
   ]
  },
  {
   "cell_type": "code",
   "execution_count": 14,
   "id": "8f40efcf-00fb-4a97-a148-0f813369ddb7",
   "metadata": {},
   "outputs": [
    {
     "name": "stdout",
     "output_type": "stream",
     "text": [
      "Module2 --> func1()\n"
     ]
    }
   ],
   "source": [
    "!python Module2.py"
   ]
  },
  {
   "cell_type": "code",
   "execution_count": 15,
   "id": "5884959b-6fad-43bd-8bb5-3933dc9df07a",
   "metadata": {},
   "outputs": [
    {
     "name": "stdout",
     "output_type": "stream",
     "text": [
      "Module2 --> func1()\n"
     ]
    }
   ],
   "source": [
    "#다른사람.\n",
    "import Module2"
   ]
  },
  {
   "cell_type": "markdown",
   "id": "4422ae86-e78d-479d-b8cf-8f88669861bb",
   "metadata": {},
   "source": [
    "p86쪽  '__main__' "
   ]
  },
  {
   "cell_type": "markdown",
   "id": "ea6c3ba4-086a-4442-850d-add5bd9f5c9d",
   "metadata": {},
   "source": [
    "# '__main__' 적용\n",
    "    - c/java 컴파일러 언어 -> start point!!!\n",
    "        - 시작하는 함수\n",
    "    - startpoint 대체\n",
    "    - 모듈의 테스트 코드"
   ]
  },
  {
   "cell_type": "code",
   "execution_count": 19,
   "id": "25ae2d8e-3452-4183-93f5-6740627e94a7",
   "metadata": {},
   "outputs": [
    {
     "name": "stdout",
     "output_type": "stream",
     "text": [
      "Module3 --> func1()\n"
     ]
    }
   ],
   "source": [
    "!python Module3.py"
   ]
  },
  {
   "cell_type": "code",
   "execution_count": 20,
   "id": "1d751a1c-62fa-48a2-a342-04024788a393",
   "metadata": {},
   "outputs": [],
   "source": [
    "import Module3"
   ]
  },
  {
   "cell_type": "code",
   "execution_count": 21,
   "id": "fca06da8-e07a-4239-9c36-56b5570dfa98",
   "metadata": {},
   "outputs": [
    {
     "name": "stdout",
     "output_type": "stream",
     "text": [
      "('_abc', '_ast', '_bisect', '_blake2', '_codecs', '_codecs_cn', '_codecs_hk', '_codecs_iso2022', '_codecs_jp', '_codecs_kr', '_codecs_tw', '_collections', '_contextvars', '_csv', '_datetime', '_functools', '_heapq', '_imp', '_io', '_json', '_locale', '_lsprof', '_md5', '_multibytecodec', '_opcode', '_operator', '_peg_parser', '_pickle', '_random', '_sha1', '_sha256', '_sha3', '_sha512', '_signal', '_sre', '_stat', '_statistics', '_string', '_struct', '_symtable', '_thread', '_tracemalloc', '_warnings', '_weakref', '_winapi', '_xxsubinterpreters', 'array', 'atexit', 'audioop', 'binascii', 'builtins', 'cmath', 'errno', 'faulthandler', 'gc', 'itertools', 'marshal', 'math', 'mmap', 'msvcrt', 'nt', 'parser', 'sys', 'time', 'winreg', 'xxsubtype', 'zlib')\n"
     ]
    }
   ],
   "source": [
    "import sys\n",
    "print(sys.builtin_module_names)"
   ]
  },
  {
   "cell_type": "code",
   "execution_count": 26,
   "id": "07dc1fa4-f47a-4c76-8798-98812285b397",
   "metadata": {},
   "outputs": [
    {
     "ename": "NameError",
     "evalue": "name 'random' is not defined",
     "output_type": "error",
     "traceback": [
      "\u001b[1;31m---------------------------------------------------------------------------\u001b[0m",
      "\u001b[1;31mNameError\u001b[0m                                 Traceback (most recent call last)",
      "\u001b[1;32m~\\AppData\\Local\\Temp/ipykernel_4420/1668193267.py\u001b[0m in \u001b[0;36m<module>\u001b[1;34m\u001b[0m\n\u001b[1;32m----> 1\u001b[1;33m \u001b[0mdir\u001b[0m\u001b[1;33m(\u001b[0m\u001b[0mrandom\u001b[0m\u001b[1;33m)\u001b[0m\u001b[1;33m\u001b[0m\u001b[1;33m\u001b[0m\u001b[0m\n\u001b[0m",
      "\u001b[1;31mNameError\u001b[0m: name 'random' is not defined"
     ]
    }
   ],
   "source": [
    "dir(random)"
   ]
  },
  {
   "cell_type": "code",
   "execution_count": 35,
   "id": "e24696f2-468a-4610-acc0-b6e6d92ea8cd",
   "metadata": {},
   "outputs": [
    {
     "name": "stdout",
     "output_type": "stream",
     "text": [
      "[6, 9, 10, 14, 17, 22]\n"
     ]
    }
   ],
   "source": [
    "import LottoModule\n",
    "a = []\n",
    "n = 0\n",
    "while True:\n",
    "    n = LottoModule.getNumber()\n",
    "    if a.count(n) ==0 :\n",
    "        a.append(n)\n",
    "    \n",
    "    \n",
    "    if len(a)== 6:\n",
    "        break\n",
    "\n",
    "print(sorted(a))"
   ]
  },
  {
   "cell_type": "markdown",
   "id": "556b0ea0-adb4-4492-a1cf-d2d756f0af95",
   "metadata": {},
   "source": [
    "# 패키지"
   ]
  },
  {
   "cell_type": "code",
   "execution_count": 39,
   "id": "3426c1ed-714c-4f9d-9b31-09621eff1a9d",
   "metadata": {},
   "outputs": [],
   "source": [
    "import mypackage.Module3"
   ]
  },
  {
   "cell_type": "code",
   "execution_count": 40,
   "id": "53f18d88-15da-4a06-99f1-c07e8f248fdd",
   "metadata": {},
   "outputs": [
    {
     "name": "stdout",
     "output_type": "stream",
     "text": [
      "Module3 --> func1()\n"
     ]
    }
   ],
   "source": [
    "mypackage.Module3.func1()"
   ]
  },
  {
   "cell_type": "code",
   "execution_count": 41,
   "id": "34adeae5-525d-42d1-9b0f-704bd06ca57b",
   "metadata": {},
   "outputs": [],
   "source": [
    "from mypackage import Module3"
   ]
  },
  {
   "cell_type": "code",
   "execution_count": 44,
   "id": "d01840e1-a319-4a19-b383-3de2fe12424b",
   "metadata": {},
   "outputs": [
    {
     "data": {
      "text/plain": [
       "<function mypackage.Module3.func1()>"
      ]
     },
     "execution_count": 44,
     "metadata": {},
     "output_type": "execute_result"
    }
   ],
   "source": [
    "Module3.func1"
   ]
  },
  {
   "cell_type": "markdown",
   "id": "c6c42325-2602-4615-81af-7abaae56750b",
   "metadata": {},
   "source": [
    "## Lambda 함수\n",
    "lambda 키워 --> 이름이 없는 함수를 만든다"
   ]
  },
  {
   "cell_type": "code",
   "execution_count": 53,
   "id": "0bbb5a98-0ced-4821-9d87-5af8ed859fcb",
   "metadata": {},
   "outputs": [],
   "source": [
    "hap2 = lambda x, y: x+y"
   ]
  },
  {
   "cell_type": "code",
   "execution_count": 47,
   "id": "f18db2ab-5474-491f-84e9-9fc84a451a81",
   "metadata": {},
   "outputs": [
    {
     "data": {
      "text/plain": [
       "function"
      ]
     },
     "execution_count": 47,
     "metadata": {},
     "output_type": "execute_result"
    }
   ],
   "source": [
    "type(hap2)"
   ]
  },
  {
   "cell_type": "code",
   "execution_count": 48,
   "id": "c0def871-bc57-4b7a-a30f-0f6fa8f6b139",
   "metadata": {},
   "outputs": [
    {
     "data": {
      "text/plain": [
       "<function __main__.<lambda>(x, y)>"
      ]
     },
     "execution_count": 48,
     "metadata": {},
     "output_type": "execute_result"
    }
   ],
   "source": [
    "hap2"
   ]
  },
  {
   "cell_type": "code",
   "execution_count": 54,
   "id": "04351b85-1e11-4031-9ae7-2fdd113d0ca7",
   "metadata": {},
   "outputs": [
    {
     "ename": "TypeError",
     "evalue": "<lambda>() missing 2 required positional arguments: 'x' and 'y'",
     "output_type": "error",
     "traceback": [
      "\u001b[1;31m---------------------------------------------------------------------------\u001b[0m",
      "\u001b[1;31mTypeError\u001b[0m                                 Traceback (most recent call last)",
      "\u001b[1;32m~\\AppData\\Local\\Temp/ipykernel_9356/981518544.py\u001b[0m in \u001b[0;36m<module>\u001b[1;34m\u001b[0m\n\u001b[1;32m----> 1\u001b[1;33m \u001b[0mhap2\u001b[0m\u001b[1;33m(\u001b[0m\u001b[1;33m)\u001b[0m\u001b[1;33m\u001b[0m\u001b[1;33m\u001b[0m\u001b[0m\n\u001b[0m",
      "\u001b[1;31mTypeError\u001b[0m: <lambda>() missing 2 required positional arguments: 'x' and 'y'"
     ]
    }
   ],
   "source": [
    "hap2()"
   ]
  },
  {
   "cell_type": "code",
   "execution_count": 49,
   "id": "56ccf85c-e726-4725-af9d-e23880af4970",
   "metadata": {},
   "outputs": [
    {
     "data": {
      "text/plain": [
       "300"
      ]
     },
     "execution_count": 49,
     "metadata": {},
     "output_type": "execute_result"
    }
   ],
   "source": [
    "hap2(100,200)"
   ]
  },
  {
   "cell_type": "code",
   "execution_count": null,
   "id": "310057ae-2966-4a61-9017-fdcfe9943ff3",
   "metadata": {},
   "outputs": [],
   "source": []
  },
  {
   "cell_type": "code",
   "execution_count": 55,
   "id": "3ee0dae5-4a97-46c2-8a54-d26d6e250ae5",
   "metadata": {},
   "outputs": [],
   "source": [
    "hap2 = lambda x=10, y=20: x+y"
   ]
  },
  {
   "cell_type": "code",
   "execution_count": 56,
   "id": "1bd61a39-1cda-43bb-bb1e-8041c5543427",
   "metadata": {},
   "outputs": [
    {
     "data": {
      "text/plain": [
       "30"
      ]
     },
     "execution_count": 56,
     "metadata": {},
     "output_type": "execute_result"
    }
   ],
   "source": [
    "hap2()"
   ]
  },
  {
   "cell_type": "code",
   "execution_count": 57,
   "id": "27fd11a9-6ba0-458a-bd7b-a305ca25279f",
   "metadata": {},
   "outputs": [
    {
     "name": "stdout",
     "output_type": "stream",
     "text": [
      "[11, 12, 13, 14, 15]\n"
     ]
    }
   ],
   "source": [
    "li = [1, 2, 3, 4, 5]\n",
    "\n",
    "result = list(map(lambda x: x+10, li))\n",
    "print(result)"
   ]
  },
  {
   "cell_type": "markdown",
   "id": "e20ad2b4-5a36-478a-a830-4d5740836b93",
   "metadata": {},
   "source": [
    "# 재귀함수"
   ]
  },
  {
   "cell_type": "code",
   "execution_count": null,
   "id": "2dce8334-951f-4d13-bb76-3b02432f7e49",
   "metadata": {},
   "outputs": [],
   "source": [
    "def selfcall():\n",
    "    print('hello',end='')\n",
    "    selfcall()\n",
    "selfcall()"
   ]
  },
  {
   "cell_type": "code",
   "execution_count": 1,
   "id": "f62fb335-af64-4fbf-bb3d-9918fff20623",
   "metadata": {},
   "outputs": [
    {
     "name": "stdout",
     "output_type": "stream",
     "text": [
      "24\n",
      "3628800\n"
     ]
    }
   ],
   "source": [
    "def factorial(num):\n",
    "    if num <=1:\n",
    "        return num\n",
    "    else :\n",
    "        return num * factorial(num -1)\n",
    "print(factorial(4))\n",
    "print(factorial(10))\n"
   ]
  },
  {
   "cell_type": "markdown",
   "id": "0cb87c17-0161-4c6c-a60f-416ec5ac84dd",
   "metadata": {},
   "source": [
    "- 자동차 클래스의 개념을 실제 코드로 구현\n",
    "- 자동차의 속성은 지금까지 사용한 변수처럼 생성(필드)\n",
    "- 자동차의 기능은 지금까지 사용한 함수형식으로 구현\n",
    "- 클래스 안에서 구현된 함수는 함수라고 하지 않고 메서드라고함\n"
   ]
  },
  {
   "cell_type": "code",
   "execution_count": 21,
   "id": "2983acfb-9a86-45e8-a64a-58f14500dc89",
   "metadata": {},
   "outputs": [],
   "source": [
    "class  Car :\n",
    "    #속성\n",
    "    color = \"\"\n",
    "    speed = 0\n",
    "    \n",
    "    #메서드\n",
    "    def  upSpeed(self, value) :\n",
    "        self.speed += value\n",
    "    \n",
    "    def  downSpeed(self, value) :\n",
    "        self.speed -= value\n",
    "\n",
    "    def print():\n",
    "        print(\"Car class\")"
   ]
  },
  {
   "cell_type": "code",
   "execution_count": 14,
   "id": "6b7cbb14-70d1-4159-95c9-7067e76f230a",
   "metadata": {},
   "outputs": [
    {
     "data": {
      "text/plain": [
       "__main__.Car"
      ]
     },
     "execution_count": 14,
     "metadata": {},
     "output_type": "execute_result"
    }
   ],
   "source": [
    "Car"
   ]
  },
  {
   "cell_type": "code",
   "execution_count": 15,
   "id": "dce7ddb9-ecf4-48b9-a3dc-b24bf97c163c",
   "metadata": {},
   "outputs": [
    {
     "data": {
      "text/plain": [
       "type"
      ]
     },
     "execution_count": 15,
     "metadata": {},
     "output_type": "execute_result"
    }
   ],
   "source": [
    "type(Car)"
   ]
  },
  {
   "cell_type": "code",
   "execution_count": 22,
   "id": "8a07bb45-2e9f-4976-ac1f-dc73fa6ee9c3",
   "metadata": {},
   "outputs": [],
   "source": [
    "myclass1=Car()\n",
    "myclass2=Car()\n",
    "myclass3=Car()"
   ]
  },
  {
   "cell_type": "code",
   "execution_count": 20,
   "id": "59e3b5db-7b5f-48f7-8f6c-1408d535a68a",
   "metadata": {},
   "outputs": [
    {
     "data": {
      "text/plain": [
       "__main__.Car"
      ]
     },
     "execution_count": 20,
     "metadata": {},
     "output_type": "execute_result"
    }
   ],
   "source": [
    "type(myclass1)"
   ]
  },
  {
   "cell_type": "code",
   "execution_count": 23,
   "id": "4c5b6d61-566b-4602-8071-6c5c18d9a25b",
   "metadata": {},
   "outputs": [],
   "source": [
    "myclass1.color='red'\n",
    "myclass1.speed = 0\n",
    "myclass2.color='blue'\n",
    "myclass2.speed = 0\n",
    "myclass3.color='yellow'\n",
    "myclass3.speed = 0"
   ]
  },
  {
   "cell_type": "code",
   "execution_count": 24,
   "id": "a0f786af-fe0d-458a-8a7e-9e34c9dc6ef0",
   "metadata": {},
   "outputs": [
    {
     "name": "stdout",
     "output_type": "stream",
     "text": [
      "red\n"
     ]
    }
   ],
   "source": [
    "print(myclass1.color)"
   ]
  },
  {
   "cell_type": "code",
   "execution_count": 31,
   "id": "7e5b1a7c-fbae-4570-b347-9200122e0266",
   "metadata": {},
   "outputs": [
    {
     "name": "stdout",
     "output_type": "stream",
     "text": [
      "자동차1의 색상은 red이며, 현재 속도는 150km입니다.\n"
     ]
    }
   ],
   "source": [
    "myclass1.upSpeed(30)\n",
    "print(\"자동차1의 색상은 %s이며, 현재 속도는 %dkm입니다.\" %(myclass1.color,myclass1.speed))"
   ]
  },
  {
   "cell_type": "code",
   "execution_count": 32,
   "id": "bae2b760-f5be-4b13-b133-d425a11675d6",
   "metadata": {
    "tags": []
   },
   "outputs": [
    {
     "name": "stdout",
     "output_type": "stream",
     "text": [
      "자동차2의 색상은 blue이며, 현재 속도는 120km입니다.\n"
     ]
    }
   ],
   "source": [
    "myclass2.upSpeed(60)\n",
    "print(\"자동차2의 색상은 %s이며, 현재 속도는 %dkm입니다.\" %(myclass2.color,myclass2.speed))"
   ]
  },
  {
   "cell_type": "code",
   "execution_count": 33,
   "id": "e0b9035a-8b31-470c-9059-d8d99cc0e069",
   "metadata": {
    "tags": []
   },
   "outputs": [
    {
     "name": "stdout",
     "output_type": "stream",
     "text": [
      "자동차3의 색상은 yellow이며, 현재 속도는 0km입니다.\n"
     ]
    }
   ],
   "source": [
    "myclass3.upSpeed(0)\n",
    "print(\"자동차3의 색상은 %s이며, 현재 속도는 %dkm입니다.\" %(myclass3.color,myclass3.speed))"
   ]
  },
  {
   "cell_type": "markdown",
   "id": "5d40fef4-19d6-442f-8709-bbd72c8c9143",
   "metadata": {},
   "source": [
    "생성자의 개념 : 인스턴스를 생성하면서 필드값을 초기화시키는함수\n",
    "생성자의 기본\n",
    "- 생성자의 기본형태 :'__init__()'라는 이름"
   ]
  },
  {
   "cell_type": "code",
   "execution_count": 40,
   "id": "54fefb1f-8ffe-421a-9df5-de1cac368aac",
   "metadata": {},
   "outputs": [],
   "source": [
    "class  Car :\n",
    "    #속성 필드\n",
    "    # color = \"\"\n",
    "    # speed = 0\n",
    "    \n",
    "    #생성자\n",
    "    def __init__(self):\n",
    "        self.color = 'red'\n",
    "        self.speed = 0\n",
    "        \n",
    "    #메서드\n",
    "    def  upSpeed(self, value) :\n",
    "        self.speed += value\n",
    "    \n",
    "    def  downSpeed(self, value) :\n",
    "        self.speed -= value\n",
    "\n",
    "    def print():\n",
    "        print(\"Car class\")"
   ]
  },
  {
   "cell_type": "code",
   "execution_count": 38,
   "id": "e70f251b-c790-4ab9-9408-ea8d4303909b",
   "metadata": {},
   "outputs": [],
   "source": [
    "car1 = Car()\n",
    "car2 = Car()"
   ]
  },
  {
   "cell_type": "code",
   "execution_count": 39,
   "id": "45c5aa76-2114-423c-bdd4-ff86abc00c29",
   "metadata": {},
   "outputs": [
    {
     "data": {
      "text/plain": [
       "('red', 0, 'red', 0)"
      ]
     },
     "execution_count": 39,
     "metadata": {},
     "output_type": "execute_result"
    }
   ],
   "source": [
    "car1.color, car1.speed, car2.color, car.speed"
   ]
  },
  {
   "cell_type": "code",
   "execution_count": null,
   "id": "1b32cb1a-96a6-467b-9123-897e63c937c8",
   "metadata": {},
   "outputs": [],
   "source": []
  },
  {
   "cell_type": "markdown",
   "id": "004502da-dfff-4497-bf31-8cc6bcbe0577",
   "metadata": {},
   "source": [
    "매개변수가 있는 생성자"
   ]
  },
  {
   "cell_type": "code",
   "execution_count": 52,
   "id": "7643810f-9530-49aa-9b3b-6fc888fd4b51",
   "metadata": {},
   "outputs": [],
   "source": [
    "class  Car :\n",
    "    #속성 필드\n",
    "    color = \"\"\n",
    "    speed = 0\n",
    "    \n",
    "    #생성자\n",
    "    def __init__(self,v1,v2):\n",
    "        self.color = v1\n",
    "        self.speed = v2\n",
    "        \n",
    "    #메서드\n",
    "    def  upSpeed(self, value) :\n",
    "        self.speed += value\n",
    "    \n",
    "    def  downSpeed(self, value) :\n",
    "        self.speed -= value\n",
    "\n",
    "    def print(self):\n",
    "        print(self.color,self.speed)"
   ]
  },
  {
   "cell_type": "code",
   "execution_count": 53,
   "id": "ab360675-b849-4bb2-9096-6d55e9e5dea8",
   "metadata": {},
   "outputs": [
    {
     "name": "stdout",
     "output_type": "stream",
     "text": [
      "red 10\n",
      "blue 20\n"
     ]
    }
   ],
   "source": [
    "car1=Car('red',10)\n",
    "car2=Car('blue',20)\n",
    "car1.print()\n",
    "car2.print()"
   ]
  },
  {
   "cell_type": "markdown",
   "id": "54b653b8-fa80-4ebc-a39f-a3cbf76fb528",
   "metadata": {},
   "source": [
    "인스턴스 변수/클래스 변수(파이썬)\n"
   ]
  },
  {
   "cell_type": "code",
   "execution_count": 55,
   "id": "3cc60146-7d0a-4a26-aa91-5a8e951c0b66",
   "metadata": {},
   "outputs": [],
   "source": [
    "class  Car :\n",
    "    #속성 필드\n",
    "    color = \"\"\n",
    "    speed = 0\n",
    "    count = 0 #클래스 변수(영역)\n",
    "    \n",
    "    #생성자\n",
    "    def __init__(self):\n",
    "        Car.count += 1\n",
    "    #메서드\n",
    "    def  upSpeed(self, value) :\n",
    "        self.speed += value\n",
    "    \n",
    "    def  downSpeed(self, value) :\n",
    "        self.speed -= value\n",
    "\n",
    "    def print(self):\n",
    "        print(self.color,self.speed)"
   ]
  },
  {
   "cell_type": "code",
   "execution_count": 60,
   "id": "d942682a-e173-4264-99b7-cc8812c3c285",
   "metadata": {},
   "outputs": [],
   "source": [
    "car1 = Car()\n",
    "car1.speed = 30\n",
    "car1.color = 'red'"
   ]
  },
  {
   "cell_type": "code",
   "execution_count": 61,
   "id": "a0971ad7-f94a-4a03-958f-ed37db5aec10",
   "metadata": {},
   "outputs": [
    {
     "data": {
      "text/plain": [
       "30"
      ]
     },
     "execution_count": 61,
     "metadata": {},
     "output_type": "execute_result"
    }
   ],
   "source": [
    "car1.speed"
   ]
  },
  {
   "cell_type": "code",
   "execution_count": 62,
   "id": "3965bae8-1986-4430-8a7e-1d7e7e6c87f7",
   "metadata": {},
   "outputs": [
    {
     "data": {
      "text/plain": [
       "2"
      ]
     },
     "execution_count": 62,
     "metadata": {},
     "output_type": "execute_result"
    }
   ],
   "source": [
    "Car.count"
   ]
  },
  {
   "cell_type": "code",
   "execution_count": 63,
   "id": "e1fc87ec-70a5-4ef3-a830-0bba455fc7c0",
   "metadata": {},
   "outputs": [],
   "source": [
    "car2= Car()\n",
    "car2.speed = 60\n",
    "car.color='blue'"
   ]
  },
  {
   "cell_type": "code",
   "execution_count": 64,
   "id": "bf8d2aa5-f703-44c1-9a6d-833fb5c83bf4",
   "metadata": {},
   "outputs": [
    {
     "data": {
      "text/plain": [
       "3"
      ]
     },
     "execution_count": 64,
     "metadata": {},
     "output_type": "execute_result"
    }
   ],
   "source": [
    "car2.count"
   ]
  },
  {
   "cell_type": "code",
   "execution_count": 65,
   "id": "43c66adf-1442-4d94-b36f-a90c66909118",
   "metadata": {},
   "outputs": [
    {
     "data": {
      "text/plain": [
       "3"
      ]
     },
     "execution_count": 65,
     "metadata": {},
     "output_type": "execute_result"
    }
   ],
   "source": [
    "Car.count"
   ]
  },
  {
   "cell_type": "code",
   "execution_count": 69,
   "id": "6f1f40ec-7c2d-4de8-a947-babb68ee7b8a",
   "metadata": {},
   "outputs": [
    {
     "data": {
      "text/plain": [
       "1000"
      ]
     },
     "execution_count": 69,
     "metadata": {},
     "output_type": "execute_result"
    }
   ],
   "source": [
    "car2.count = 1000\n",
    "car2.count"
   ]
  },
  {
   "cell_type": "code",
   "execution_count": 67,
   "id": "c3c81180-7597-49e3-a5fc-9f57a695be92",
   "metadata": {},
   "outputs": [
    {
     "data": {
      "text/plain": [
       "3"
      ]
     },
     "execution_count": 67,
     "metadata": {},
     "output_type": "execute_result"
    }
   ],
   "source": [
    "car1.count"
   ]
  },
  {
   "cell_type": "code",
   "execution_count": 68,
   "id": "f940de6f-5f28-4943-935e-38465271f0d4",
   "metadata": {},
   "outputs": [
    {
     "data": {
      "text/plain": [
       "3"
      ]
     },
     "execution_count": 68,
     "metadata": {},
     "output_type": "execute_result"
    }
   ],
   "source": [
    "Car.count"
   ]
  },
  {
   "cell_type": "markdown",
   "id": "750d28b2-6ba8-4287-bf54-8b7b61682d9e",
   "metadata": {},
   "source": [
    "상속"
   ]
  },
  {
   "cell_type": "code",
   "execution_count": 72,
   "id": "8f18b09a-da95-4212-b4be-8e426430e8d8",
   "metadata": {},
   "outputs": [],
   "source": [
    "## 클래스 선언 부분 ##\n",
    "class  Car :\n",
    "    speed = 0\n",
    "    def upSpeed(self,value):\n",
    "        self.speed+=value\n",
    "        print('super class',self.speed)\n",
    "        \n",
    "class Sedan(Car) :\n",
    "    def method(self,v):\n",
    "        self.speed+=v\n",
    "        \n",
    "        if self.speed>150:\n",
    "            self.speed=150\n",
    "\n",
    "class Truck(Car):\n",
    "    pass\n"
   ]
  },
  {
   "cell_type": "code",
   "execution_count": 73,
   "id": "bd89e39a-edaa-4a48-be7c-265f11bf8415",
   "metadata": {},
   "outputs": [],
   "source": [
    "truck1 = Truck()\n",
    "sedan1 = Sedan()"
   ]
  },
  {
   "cell_type": "code",
   "execution_count": 75,
   "id": "30ed6562-33ec-48b7-b712-530e4f12e128",
   "metadata": {},
   "outputs": [
    {
     "name": "stdout",
     "output_type": "stream",
     "text": [
      "super class 100\n"
     ]
    }
   ],
   "source": [
    "truck1.upSpeed(100)"
   ]
  },
  {
   "cell_type": "code",
   "execution_count": null,
   "id": "6b04f29d-1118-441b-bfe1-cba275a9da3b",
   "metadata": {},
   "outputs": [],
   "source": []
  }
 ],
 "metadata": {
  "kernelspec": {
   "display_name": "Python 3 (ipykernel)",
   "language": "python",
   "name": "python3"
  },
  "language_info": {
   "codemirror_mode": {
    "name": "ipython",
    "version": 3
   },
   "file_extension": ".py",
   "mimetype": "text/x-python",
   "name": "python",
   "nbconvert_exporter": "python",
   "pygments_lexer": "ipython3",
   "version": "3.9.7"
  }
 },
 "nbformat": 4,
 "nbformat_minor": 5
}
