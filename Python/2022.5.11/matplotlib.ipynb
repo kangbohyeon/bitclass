{
  "nbformat": 4,
  "nbformat_minor": 0,
  "metadata": {
    "colab": {
      "name": "matplotlib.ipynb",
      "provenance": []
    },
    "kernelspec": {
      "name": "python3",
      "display_name": "Python 3"
    },
    "language_info": {
      "name": "python"
    }
  },
  "cells": [
    {
      "cell_type": "markdown",
      "source": [
        "#plot\n",
        "plot([x], y, [fmt], *, data=None, **kwargs)\n",
        "\n",
        "plot([x], y, [fmt], [x2], y2, [fmt2], ..., **kwargs)"
      ],
      "metadata": {
        "id": "-DifNfQUcj01"
      }
    },
    {
      "cell_type": "code",
      "execution_count": 3,
      "metadata": {
        "colab": {
          "base_uri": "https://localhost:8080/",
          "height": 226
        },
        "id": "Hf3HS25acOhr",
        "outputId": "d1028216-b7eb-4164-e242-01dc6b90ba4b"
      },
      "outputs": [
        {
          "output_type": "display_data",
          "data": {
            "text/plain": [
              "<Figure size 288x216 with 1 Axes>"
            ],
            "image/png": "[encoded data removed]"
          },
          "metadata": {
            "needs_background": "light"
          }
        }
      ],
      "source": [
        "import matplotlib.pyplot as plt\n",
        "plt.rc('font', family='NanumBarunGothic')\n",
        "plt.figure(figsize=(4,3))\n",
        "plt.plot([4,2,3,6])\n",
        "plt.title(\"y values\")\n",
        "plt.show()"
      ]
    },
    {
      "cell_type": "code",
      "source": [
        "import matplotlib.pyplot as plt\n",
        "plt.rc('font', family='NanumBarunGothic')\n",
        "plt.figure(figsize=(4,3))\n",
        "plt.plot([1,2,9,10],[4,2,3,6])\n",
        "plt.title(\"x and y values\")\n",
        "plt.show()"
      ],
      "metadata": {
        "colab": {
          "base_uri": "https://localhost:8080/",
          "height": 226
        },
        "id": "jdCZZsWOd3_B",
        "outputId": "e5ad720b-c8e5-4b73-88ab-823413434582"
      },
      "execution_count": 4,
      "outputs": [
        {
          "output_type": "display_data",
          "data": {
            "text/plain": [
              "<Figure size 288x216 with 1 Axes>"
            ],
            "image/png": "[encoded data removed]"
          },
          "metadata": {
            "needs_background": "light"
          }
        }
      ]
    },
    {
      "cell_type": "markdown",
      "source": [
        "#fmt = '[marker][line][color]'\n",
        "marker 점의 위치에 표시할 도형\n",
        "\n",
        "line 점과 점사이의 연결 선 형태\n",
        "\n",
        "color 색상"
      ],
      "metadata": {
        "id": "ajJlrgsKfgx3"
      }
    },
    {
      "cell_type": "code",
      "source": [
        "import matplotlib.pyplot as plt\n",
        "plt.rc('font', family='NanumBarunGothic')\n",
        "plt.figure(figsize=(4,3))\n",
        "plt.plot([1,2],[1,1],'.',label='1 .')\n",
        "plt.plot([1,2],[2,2],'o',label='2 o')\n",
        "plt.plot([1,2],[3,3],'*',label='3 *')\n",
        "plt.title(\"marker\")\n",
        "plt.legend(loc='upper center')\n",
        "plt.show()"
      ],
      "metadata": {
        "colab": {
          "base_uri": "https://localhost:8080/",
          "height": 226
        },
        "id": "-PP48SOIfYhv",
        "outputId": "2f05cc65-4d14-4206-db83-44684a9b0d7e"
      },
      "execution_count": 11,
      "outputs": [
        {
          "output_type": "display_data",
          "data": {
            "text/plain": [
              "<Figure size 288x216 with 1 Axes>"
            ],
            "image/png": "[encoded data removed]"
          },
          "metadata": {
            "needs_background": "light"
          }
        }
      ]
    },
    {
      "cell_type": "code",
      "source": [
        "import matplotlib.pyplot as plt\n",
        "plt.rc('font', family='NanumBarunGothic')\n",
        "plt.figure(figsize=(4,3))\n",
        "plt.plot([1,2],[1,1],'.-',label='1 .-')\n",
        "plt.plot([1,2],[2,2],'o--',label='2 o--')\n",
        "plt.plot([1,2],[3,3],'*-.',label='3 *-.')\n",
        "plt.title(\"marker and line style\")\n",
        "plt.legend(loc='upper center')\n",
        "plt.show()"
      ],
      "metadata": {
        "colab": {
          "base_uri": "https://localhost:8080/",
          "height": 226
        },
        "id": "KfooXCjMgE1M",
        "outputId": "dac5ba73-a64f-4092-c4af-ef9abad52661"
      },
      "execution_count": 13,
      "outputs": [
        {
          "output_type": "display_data",
          "data": {
            "text/plain": [
              "<Figure size 288x216 with 1 Axes>"
            ],
            "image/png": "[encoded data removed]"
          },
          "metadata": {
            "needs_background": "light"
          }
        }
      ]
    },
    {
      "cell_type": "code",
      "source": [
        "import matplotlib.pyplot as plt\n",
        "plt.rc('font', family='NanumBarunGothic')\n",
        "plt.figure(figsize=(4,3))\n",
        "plt.plot([1,2],[1,1],'.-r',label='1 .-r')\n",
        "plt.plot([1,2],[2,2],'o--b',label='2 o--b')\n",
        "plt.plot([1,2],[3,3],'*-.m',label='3 *-.m')\n",
        "plt.title(\"marker and line style and color\")\n",
        "plt.legend(loc='upper center')\n",
        "plt.show()"
      ],
      "metadata": {
        "colab": {
          "base_uri": "https://localhost:8080/",
          "height": 226
        },
        "id": "zYmERbRAgmRg",
        "outputId": "8aba4bf5-b8d7-4062-bb96-5936253a3744"
      },
      "execution_count": 14,
      "outputs": [
        {
          "output_type": "display_data",
          "data": {
            "text/plain": [
              "<Figure size 288x216 with 1 Axes>"
            ],
            "image/png": "[encoded data removed]"
          },
          "metadata": {
            "needs_background": "light"
          }
        }
      ]
    },
    {
      "cell_type": "code",
      "source": [
        "import matplotlib.pyplot as plt\n",
        "plt.rc('font', family='NanumBarunGothic')\n",
        "plt.figure(figsize=(4,3))\n",
        "plt.plot([1,2],[1,1],'.-',color='purple',label='1 .-')\n",
        "plt.plot([1,2],[2,2],'o--',color='#7F7F00',label='2 o--')\n",
        "plt.plot([1,2],[3,3],'*-.',color='r',label='3 *-.')\n",
        "plt.title(\"use color option\")\n",
        "plt.legend(loc='upper center')\n",
        "plt.show()"
      ],
      "metadata": {
        "colab": {
          "base_uri": "https://localhost:8080/",
          "height": 226
        },
        "id": "rR_82_6eg1tG",
        "outputId": "466aede4-9abd-4e54-d0b3-6f2e6210a8fe"
      },
      "execution_count": 16,
      "outputs": [
        {
          "output_type": "display_data",
          "data": {
            "text/plain": [
              "<Figure size 288x216 with 1 Axes>"
            ],
            "image/png": "[encoded data removed]"
          },
          "metadata": {
            "needs_background": "light"
          }
        }
      ]
    },
    {
      "cell_type": "markdown",
      "source": [
        "#scatter\n",
        "matplotlib.pyplot.scatter(x, y, s=None, c=None, marker=None, cmap=None,\n",
        "\n",
        " norm=None, vmin=None, vmax=None, alpha=None, linewidths=None, *, \n",
        " \n",
        " edgecolors=None, plotnonfinite=False, data=None, **kwargs)[source]#\n",
        "\n"
      ],
      "metadata": {
        "id": "TRO--HZ4i1_d"
      }
    },
    {
      "cell_type": "code",
      "source": [
        "import matplotlib.pyplot as plt\n",
        "plt.rc('font', family='NanumBarunGothic')\n",
        "plt.figure(figsize=(4,3))\n",
        "plt.scatter([1,2],[1,1],label='first')\n",
        "plt.scatter([1,2],[1,1],[1,8],label='second')\n",
        "plt.title(\"scatter\")\n",
        "plt.legend()\n",
        "plt.show()"
      ],
      "metadata": {
        "colab": {
          "base_uri": "https://localhost:8080/",
          "height": 226
        },
        "id": "qfLOkOqqh7dd",
        "outputId": "c701e446-3dc1-4431-df74-8669bd2d0b68"
      },
      "execution_count": 17,
      "outputs": [
        {
          "output_type": "display_data",
          "data": {
            "text/plain": [
              "<Figure size 288x216 with 1 Axes>"
            ],
            "image/png": "[encoded data removed]"
          },
          "metadata": {
            "needs_background": "light"
          }
        }
      ]
    },
    {
      "cell_type": "code",
      "source": [
        "import pandas as pd\n",
        "temp = [25.2, 35.7,45.2]\n",
        "sales = [1000,2000,2500]\n",
        "dict_data = {\"temp\" : temp, \"sales\":sales}\n",
        "df = pd.DataFrame(dict_data,columns = ['temp','sales'])\n",
        "df"
      ],
      "metadata": {
        "colab": {
          "base_uri": "https://localhost:8080/",
          "height": 142
        },
        "id": "skjA3BHnjTOa",
        "outputId": "27c90c0d-efcb-4e60-8a8b-0c14a8d27a8a"
      },
      "execution_count": 22,
      "outputs": [
        {
          "output_type": "execute_result",
          "data": {
            "text/plain": [
              "   temp  sales\n",
              "0  25.2   1000\n",
              "1  35.7   2000\n",
              "2  45.2   2500"
            ],
            "text/html": [
              "\n",
              "  <div id=\"df-00e1e588-debe-4cfc-9a10-d83071f7c26a\">\n",
              "    <div class=\"colab-df-container\">\n",
              "      <div>\n",
              "<style scoped>\n",
              "    .dataframe tbody tr th:only-of-type {\n",
              "        vertical-align: middle;\n",
              "    }\n",
              "\n",
              "    .dataframe tbody tr th {\n",
              "        vertical-align: top;\n",
              "    }\n",
              "\n",
              "    .dataframe thead th {\n",
              "        text-align: right;\n",
              "    }\n",
              "</style>\n",
              "<table border=\"1\" class=\"dataframe\">\n",
              "  <thead>\n",
              "    <tr style=\"text-align: right;\">\n",
              "      <th></th>\n",
              "      <th>temp</th>\n",
              "      <th>sales</th>\n",
              "    </tr>\n",
              "  </thead>\n",
              "  <tbody>\n",
              "    <tr>\n",
              "      <th>0</th>\n",
              "      <td>25.2</td>\n",
              "      <td>1000</td>\n",
              "    </tr>\n",
              "    <tr>\n",
              "      <th>1</th>\n",
              "      <td>35.7</td>\n",
              "      <td>2000</td>\n",
              "    </tr>\n",
              "    <tr>\n",
              "      <th>2</th>\n",
              "      <td>45.2</td>\n",
              "      <td>2500</td>\n",
              "    </tr>\n",
              "  </tbody>\n",
              "</table>\n",
              "</div>\n",
              "      <button class=\"colab-df-convert\" onclick=\"convertToInteractive('df-00e1e588-debe-4cfc-9a10-d83071f7c26a')\"\n",
              "              title=\"Convert this dataframe to an interactive table.\"\n",
              "              style=\"display:none;\">\n",
              "        \n",
              "  <svg xmlns=\"http://www.w3.org/2000/svg\" height=\"24px\"viewBox=\"0 0 24 24\"\n",
              "       width=\"24px\">\n",
              "    <path d=\"M0 0h24v24H0V0z\" fill=\"none\"/>\n",
              "    <path d=\"M18.56 5.44l.94 2.06.94-2.06 2.06-.94-2.06-.94-.94-2.06-.94 2.06-2.06.94zm-11 1L8.5 8.5l.94-2.06 2.06-.94-2.06-.94L8.5 2.5l-.94 2.06-2.06.94zm10 10l.94 2.06.94-2.06 2.06-.94-2.06-.94-.94-2.06-.94 2.06-2.06.94z\"/><path d=\"M17.41 7.96l-1.37-1.37c-.4-.4-.92-.59-1.43-.59-.52 0-1.04.2-1.43.59L10.3 9.45l-7.72 7.72c-.78.78-.78 2.05 0 2.83L4 21.41c.39.39.9.59 1.41.59.51 0 1.02-.2 1.41-.59l7.78-7.78 2.81-2.81c.8-.78.8-2.07 0-2.86zM5.41 20L4 18.59l7.72-7.72 1.47 1.35L5.41 20z\"/>\n",
              "  </svg>\n",
              "      </button>\n",
              "      \n",
              "  <style>\n",
              "    .colab-df-container {\n",
              "      display:flex;\n",
              "      flex-wrap:wrap;\n",
              "      gap: 12px;\n",
              "    }\n",
              "\n",
              "    .colab-df-convert {\n",
              "      background-color: #E8F0FE;\n",
              "      border: none;\n",
              "      border-radius: 50%;\n",
              "      cursor: pointer;\n",
              "      display: none;\n",
              "      fill: #1967D2;\n",
              "      height: 32px;\n",
              "      padding: 0 0 0 0;\n",
              "      width: 32px;\n",
              "    }\n",
              "\n",
              "    .colab-df-convert:hover {\n",
              "      background-color: #E2EBFA;\n",
              "      box-shadow: 0px 1px 2px rgba(60, 64, 67, 0.3), 0px 1px 3px 1px rgba(60, 64, 67, 0.15);\n",
              "      fill: #174EA6;\n",
              "    }\n",
              "\n",
              "    [theme=dark] .colab-df-convert {\n",
              "      background-color: #3B4455;\n",
              "      fill: #D2E3FC;\n",
              "    }\n",
              "\n",
              "    [theme=dark] .colab-df-convert:hover {\n",
              "      background-color: #434B5C;\n",
              "      box-shadow: 0px 1px 3px 1px rgba(0, 0, 0, 0.15);\n",
              "      filter: drop-shadow(0px 1px 2px rgba(0, 0, 0, 0.3));\n",
              "      fill: #FFFFFF;\n",
              "    }\n",
              "  </style>\n",
              "\n",
              "      <script>\n",
              "        const buttonEl =\n",
              "          document.querySelector('#df-00e1e588-debe-4cfc-9a10-d83071f7c26a button.colab-df-convert');\n",
              "        buttonEl.style.display =\n",
              "          google.colab.kernel.accessAllowed ? 'block' : 'none';\n",
              "\n",
              "        async function convertToInteractive(key) {\n",
              "          const element = document.querySelector('#df-00e1e588-debe-4cfc-9a10-d83071f7c26a');\n",
              "          const dataTable =\n",
              "            await google.colab.kernel.invokeFunction('convertToInteractive',\n",
              "                                                     [key], {});\n",
              "          if (!dataTable) return;\n",
              "\n",
              "          const docLinkHtml = 'Like what you see? Visit the ' +\n",
              "            '<a target=\"_blank\" href=https://colab.research.google.com/notebooks/data_table.ipynb>data table notebook</a>'\n",
              "            + ' to learn more about interactive tables.';\n",
              "          element.innerHTML = '';\n",
              "          dataTable['output_type'] = 'display_data';\n",
              "          await google.colab.output.renderOutput(dataTable, element);\n",
              "          const docLink = document.createElement('div');\n",
              "          docLink.innerHTML = docLinkHtml;\n",
              "          element.appendChild(docLink);\n",
              "        }\n",
              "      </script>\n",
              "    </div>\n",
              "  </div>\n",
              "  "
            ]
          },
          "metadata": {},
          "execution_count": 22
        }
      ]
    },
    {
      "cell_type": "code",
      "source": [
        "df.plot.scatter(x='temp',y='sales')\n",
        "plt.show()"
      ],
      "metadata": {
        "colab": {
          "base_uri": "https://localhost:8080/",
          "height": 279
        },
        "id": "ot6n8UAfkD1C",
        "outputId": "6415b04f-ecf0-4e42-913f-424806a3875b"
      },
      "execution_count": 26,
      "outputs": [
        {
          "output_type": "display_data",
          "data": {
            "text/plain": [
              "<Figure size 432x288 with 1 Axes>"
            ],
            "image/png": "[encoded data removed]"
          },
          "metadata": {
            "needs_background": "light"
          }
        }
      ]
    },
    {
      "cell_type": "code",
      "source": [
        "xs = [x/10 for x in range(-50,50)] # -5~5 step : 0.1\n",
        "ys = [2*x**2+3 for x in xs] # y=2x^2 + 3\n",
        "plt.plot(xs,ys,label='y=2xx+3')\n",
        "plt.xlim(-10,10)\n",
        "plt.ylim(0,60)\n",
        "plt.vlines(0,0,50)\n",
        "plt.legend(loc='lower left')\n",
        "plt.show()"
      ],
      "metadata": {
        "colab": {
          "base_uri": "https://localhost:8080/",
          "height": 337
        },
        "id": "XzFMIwPrkrCs",
        "outputId": "5f38ad8a-ba8d-450a-b255-fbac52d50d46"
      },
      "execution_count": 38,
      "outputs": [
        {
          "output_type": "stream",
          "name": "stderr",
          "text": [
            "/usr/local/lib/python3.7/dist-packages/matplotlib/backends/backend_agg.py:214: RuntimeWarning: Glyph 8722 missing from current font.\n",
            "  font.set_text(s, 0.0, flags=flags)\n",
            "/usr/local/lib/python3.7/dist-packages/matplotlib/backends/backend_agg.py:183: RuntimeWarning: Glyph 8722 missing from current font.\n",
            "  font.set_text(s, 0, flags=flags)\n"
          ]
        },
        {
          "output_type": "display_data",
          "data": {
            "text/plain": [
              "<Figure size 432x288 with 1 Axes>"
            ],
            "image/png": "[encoded data removed]"
          },
          "metadata": {
            "needs_background": "light"
          }
        }
      ]
    },
    {
      "cell_type": "code",
      "source": [
        "xs = [x/10 for x in range(-50,50)] # -5~5 step : 0.1\n",
        "ys = [2*x**2+3 for x in xs] # y=2x^2 + 3\n",
        "ys2 = [2*x+1 for x in xs] # y=2x + 1\n",
        "ys3 = [2*x**2+1 for x in xs] # y=2x^2 + 1\n",
        "plt.plot(xs,ys,label='y=2xx+3')\n",
        "plt.plot(xs,ys2,label='y=2x+1')\n",
        "plt.plot(xs,ys3,label='y=2x^2+1')\n",
        "plt.xlim(-10,10)\n",
        "plt.ylim(0,60)\n",
        "plt.vlines(0,0,50)\n",
        "plt.legend(loc='lower left')\n",
        "plt.show()"
      ],
      "metadata": {
        "colab": {
          "base_uri": "https://localhost:8080/",
          "height": 337
        },
        "id": "72zMDZs8ppKh",
        "outputId": "45abf944-884b-43a2-d6a2-5afab4b5b10d"
      },
      "execution_count": 42,
      "outputs": [
        {
          "output_type": "stream",
          "name": "stderr",
          "text": [
            "/usr/local/lib/python3.7/dist-packages/matplotlib/backends/backend_agg.py:214: RuntimeWarning: Glyph 8722 missing from current font.\n",
            "  font.set_text(s, 0.0, flags=flags)\n",
            "/usr/local/lib/python3.7/dist-packages/matplotlib/backends/backend_agg.py:183: RuntimeWarning: Glyph 8722 missing from current font.\n",
            "  font.set_text(s, 0, flags=flags)\n"
          ]
        },
        {
          "output_type": "display_data",
          "data": {
            "text/plain": [
              "<Figure size 432x288 with 1 Axes>"
            ],
            "image/png": "[encoded data removed]"
          },
          "metadata": {
            "needs_background": "light"
          }
        }
      ]
    },
    {
      "cell_type": "code",
      "source": [
        "plt.plot(xs,ys) # 디폴트 figure (figure(1))에 그려줌\n",
        "plt.figure(2) # 이번엔 그림을 그릴 figure를 선택\n",
        "plt.plot(xs,ys2)\n",
        "plt.figure(3)\n",
        "plt.plot(xs,ys3)\n",
        "plt.show()"
      ],
      "metadata": {
        "colab": {
          "base_uri": "https://localhost:8080/",
          "height": 829
        },
        "id": "rUJE3a50rx-W",
        "outputId": "d43bef03-0429-4366-9df1-bbf0cd103483"
      },
      "execution_count": 45,
      "outputs": [
        {
          "output_type": "stream",
          "name": "stderr",
          "text": [
            "/usr/local/lib/python3.7/dist-packages/matplotlib/backends/backend_agg.py:214: RuntimeWarning: Glyph 8722 missing from current font.\n",
            "  font.set_text(s, 0.0, flags=flags)\n",
            "/usr/local/lib/python3.7/dist-packages/matplotlib/backends/backend_agg.py:183: RuntimeWarning: Glyph 8722 missing from current font.\n",
            "  font.set_text(s, 0, flags=flags)\n"
          ]
        },
        {
          "output_type": "display_data",
          "data": {
            "text/plain": [
              "<Figure size 432x288 with 1 Axes>"
            ],
            "image/png": "[encoded data removed]"
          },
          "metadata": {
            "needs_background": "light"
          }
        },
        {
          "output_type": "display_data",
          "data": {
            "text/plain": [
              "<Figure size 432x288 with 1 Axes>"
            ],
            "image/png": "[encoded data removed]"
          },
          "metadata": {
            "needs_background": "light"
          }
        },
        {
          "output_type": "display_data",
          "data": {
            "text/plain": [
              "<Figure size 432x288 with 1 Axes>"
            ],
            "image/png": "[encoded data removed]"
          },
          "metadata": {
            "needs_background": "light"
          }
        }
      ]
    },
    {
      "cell_type": "code",
      "source": [
        "plt.subplot(2,2,1)\n",
        "plt.plot(xs,ys)\n",
        "plt.subplot(2,2,2)\n",
        "plt.plot(xs,ys2)\n",
        "plt.subplot(2,2,3)\n",
        "plt.plot(xs,ys3)\n",
        "plt.subplot(2,2,4)\n",
        "plt.legend()\n",
        "plt.show()"
      ],
      "metadata": {
        "colab": {
          "base_uri": "https://localhost:8080/",
          "height": 350
        },
        "id": "0HWROLn4tCU9",
        "outputId": "e61f9323-862f-4bcf-fe10-7bb79c25df5e"
      },
      "execution_count": 49,
      "outputs": [
        {
          "output_type": "stream",
          "name": "stderr",
          "text": [
            "No handles with labels found to put in legend.\n",
            "/usr/local/lib/python3.7/dist-packages/matplotlib/backends/backend_agg.py:214: RuntimeWarning: Glyph 8722 missing from current font.\n",
            "  font.set_text(s, 0.0, flags=flags)\n",
            "/usr/local/lib/python3.7/dist-packages/matplotlib/backends/backend_agg.py:183: RuntimeWarning: Glyph 8722 missing from current font.\n",
            "  font.set_text(s, 0, flags=flags)\n"
          ]
        },
        {
          "output_type": "display_data",
          "data": {
            "text/plain": [
              "<Figure size 432x288 with 4 Axes>"
            ],
            "image/png": "[encoded data removed]"
          },
          "metadata": {
            "needs_background": "light"
          }
        }
      ]
    },
    {
      "cell_type": "markdown",
      "source": [
        "# bar\n",
        "\n",
        "matplotlib.pyplot.bar(x, height, width=0.8, bottom=None, *, align='center', data=None, **kwargs)[source]"
      ],
      "metadata": {
        "id": "4-yQ2UYQvkzi"
      }
    },
    {
      "cell_type": "code",
      "source": [
        "plt.bar(['a','b','c'],[80,90,75])\n",
        "plt.show()"
      ],
      "metadata": {
        "colab": {
          "base_uri": "https://localhost:8080/",
          "height": 265
        },
        "id": "dowD7QYntncd",
        "outputId": "e463c045-1940-425c-bc0c-e5c44ee2781c"
      },
      "execution_count": 53,
      "outputs": [
        {
          "output_type": "display_data",
          "data": {
            "text/plain": [
              "<Figure size 432x288 with 1 Axes>"
            ],
            "image/png": "[encoded data removed]"
          },
          "metadata": {
            "needs_background": "light"
          }
        }
      ]
    },
    {
      "cell_type": "code",
      "source": [
        "city =['서울','인천','대전','대구','울산','부산','광주']\n",
        "\n",
        "lat = [37.56, 37.45, 36.35, 35.87, 35.53, 35.18, 35.16]\n",
        "lon = [126.97, 126.70, 127.38,128.60,129.31,129.07,126.85]\n",
        "pop_den = [16154,2751,2839,2790,1099,4454,2995]\n",
        "plt.bar(city,pop_den)\n",
        "plt.show()"
      ],
      "metadata": {
        "colab": {
          "base_uri": "https://localhost:8080/",
          "height": 265
        },
        "id": "ZkIcrJZ1vbVs",
        "outputId": "74dcd280-268b-43f1-a909-08fecf7780f3"
      },
      "execution_count": 94,
      "outputs": [
        {
          "output_type": "display_data",
          "data": {
            "text/plain": [
              "<Figure size 432x288 with 1 Axes>"
            ],
            "image/png": "[encoded data removed]"
          },
          "metadata": {
            "needs_background": "light"
          }
        }
      ]
    },
    {
      "cell_type": "code",
      "source": [
        "ids = ['m01','m02','m03','m04']\n",
        "ex = [27,35,40,33]\n",
        "plt.bar(ids,ex)\n",
        "plt.grid(True)\n",
        "plt.show()"
      ],
      "metadata": {
        "colab": {
          "base_uri": "https://localhost:8080/",
          "height": 265
        },
        "id": "p63vfIC7v4gv",
        "outputId": "89d95c50-d94e-4f42-b3e1-cd35d79c6370"
      },
      "execution_count": 65,
      "outputs": [
        {
          "output_type": "display_data",
          "data": {
            "text/plain": [
              "<Figure size 432x288 with 1 Axes>"
            ],
            "image/png": "[encoded data removed]"
          },
          "metadata": {
            "needs_background": "light"
          }
        }
      ]
    },
    {
      "cell_type": "code",
      "source": [
        "ids = ['m01','m02','m03','m04']\n",
        "ex = [27,35,40,33]\n",
        "idns = [1,2,3,4]\n",
        "plt.bar(idns,ex)\n",
        "plt.grid(True)\n",
        "plt.show()"
      ],
      "metadata": {
        "colab": {
          "base_uri": "https://localhost:8080/",
          "height": 265
        },
        "id": "m0ucmioT4x83",
        "outputId": "d8bbfbf8-5d6c-48b6-8357-84bf437ccf28"
      },
      "execution_count": 69,
      "outputs": [
        {
          "output_type": "display_data",
          "data": {
            "text/plain": [
              "<Figure size 432x288 with 1 Axes>"
            ],
            "image/png": "[encoded data removed]"
          },
          "metadata": {
            "needs_background": "light"
          }
        }
      ]
    },
    {
      "cell_type": "code",
      "source": [
        "import numpy as np\n",
        "ids = ['m01','m02','m03','m04']\n",
        "ex = [27,35,40,33]\n",
        "idns = np.array([1,2,3,4])\n",
        "cids = idns.astype(str)\n",
        "plt.bar(cids,ex)\n",
        "plt.grid(True)\n",
        "plt.show()"
      ],
      "metadata": {
        "colab": {
          "base_uri": "https://localhost:8080/",
          "height": 265
        },
        "id": "RGSYzMpb31kM",
        "outputId": "67f60431-022b-4ac3-bf76-76b5e508b898"
      },
      "execution_count": 68,
      "outputs": [
        {
          "output_type": "display_data",
          "data": {
            "text/plain": [
              "<Figure size 432x288 with 1 Axes>"
            ],
            "image/png": "[encoded data removed]"
          },
          "metadata": {
            "needs_background": "light"
          }
        }
      ]
    },
    {
      "cell_type": "code",
      "source": [
        "import numpy as np\n",
        "ids = ['m01','m02','m03','m04']\n",
        "ex = [27,35,40,33]\n",
        "idns = np.array([1,2,3,4])\n",
        "cids = idns.astype(str)\n",
        "plt.bar(cids,ex,color=['r','g','b','m'],width=0.6)\n",
        "#plt.grid(True)\n",
        "plt.show()"
      ],
      "metadata": {
        "colab": {
          "base_uri": "https://localhost:8080/",
          "height": 265
        },
        "id": "73o2h1434m9n",
        "outputId": "e303777e-88f5-4ed6-a82e-701fee2e7f1b"
      },
      "execution_count": 71,
      "outputs": [
        {
          "output_type": "display_data",
          "data": {
            "text/plain": [
              "<Figure size 432x288 with 1 Axes>"
            ],
            "image/png": "[encoded data removed]"
          },
          "metadata": {
            "needs_background": "light"
          }
        }
      ]
    },
    {
      "cell_type": "code",
      "source": [
        "import numpy as np\n",
        "ids = ['m01','m02','m03','m04']\n",
        "ex = [27,35,40,33] #운동 전\n",
        "af = [35,40,45,38] #운동 후\n",
        "bw=0.4\n",
        "idns = np.array([1,2,3,4])\n",
        "cids = idns.astype(str)\n",
        "plt.bar(idns,ex,color=['r','r','r','r'],width=bw,align='edge',label='before')\n",
        "plt.bar(idns+bw,af,color=['b','b','b','b'],width=bw,align='edge',label='after')\n",
        "plt.xticks(idns+bw,cids)\n",
        "plt.legend()\n",
        "#plt.grid(True)\n",
        "plt.show()"
      ],
      "metadata": {
        "colab": {
          "base_uri": "https://localhost:8080/",
          "height": 265
        },
        "id": "tbtl9Dxz5dhE",
        "outputId": "051b7074-bfc5-4729-b1ef-d3cf1f374e66"
      },
      "execution_count": 81,
      "outputs": [
        {
          "output_type": "display_data",
          "data": {
            "text/plain": [
              "<Figure size 432x288 with 1 Axes>"
            ],
            "image/png": "[encoded data removed]"
          },
          "metadata": {
            "needs_background": "light"
          }
        }
      ]
    },
    {
      "cell_type": "code",
      "source": [
        ""
      ],
      "metadata": {
        "colab": {
          "base_uri": "https://localhost:8080/",
          "height": 232
        },
        "id": "LpfcTQ8Z6DDv",
        "outputId": "0462f0ec-6b41-457a-8098-221310a5f70b"
      },
      "execution_count": 84,
      "outputs": [
        {
          "output_type": "error",
          "ename": "TypeError",
          "evalue": "ignored",
          "traceback": [
            "\u001b[0;31m---------------------------------------------------------------------------\u001b[0m",
            "\u001b[0;31mTypeError\u001b[0m                                 Traceback (most recent call last)",
            "\u001b[0;32m<ipython-input-84-eb7b4b89b061>\u001b[0m in \u001b[0;36m<module>\u001b[0;34m()\u001b[0m\n\u001b[1;32m      6\u001b[0m \u001b[0midns\u001b[0m \u001b[0;34m=\u001b[0m \u001b[0mnp\u001b[0m\u001b[0;34m.\u001b[0m\u001b[0marray\u001b[0m\u001b[0;34m(\u001b[0m\u001b[0;34m[\u001b[0m\u001b[0;36m1\u001b[0m\u001b[0;34m,\u001b[0m\u001b[0;36m2\u001b[0m\u001b[0;34m,\u001b[0m\u001b[0;36m3\u001b[0m\u001b[0;34m,\u001b[0m\u001b[0;36m4\u001b[0m\u001b[0;34m]\u001b[0m\u001b[0;34m)\u001b[0m\u001b[0;34m\u001b[0m\u001b[0;34m\u001b[0m\u001b[0m\n\u001b[1;32m      7\u001b[0m \u001b[0mcids\u001b[0m \u001b[0;34m=\u001b[0m \u001b[0midns\u001b[0m\u001b[0;34m.\u001b[0m\u001b[0mastype\u001b[0m\u001b[0;34m(\u001b[0m\u001b[0mstr\u001b[0m\u001b[0;34m)\u001b[0m\u001b[0;34m\u001b[0m\u001b[0;34m\u001b[0m\u001b[0m\n\u001b[0;32m----> 8\u001b[0;31m \u001b[0mplt\u001b[0m\u001b[0;34m.\u001b[0m\u001b[0mbarh\u001b[0m\u001b[0;34m(\u001b[0m\u001b[0midns\u001b[0m\u001b[0;34m,\u001b[0m\u001b[0mex\u001b[0m\u001b[0;34m,\u001b[0m\u001b[0mcolor\u001b[0m\u001b[0;34m=\u001b[0m\u001b[0;34m[\u001b[0m\u001b[0;34m'r'\u001b[0m\u001b[0;34m,\u001b[0m\u001b[0;34m'r'\u001b[0m\u001b[0;34m,\u001b[0m\u001b[0;34m'r'\u001b[0m\u001b[0;34m,\u001b[0m\u001b[0;34m'r'\u001b[0m\u001b[0;34m]\u001b[0m\u001b[0;34m,\u001b[0m\u001b[0mwidth\u001b[0m\u001b[0;34m=\u001b[0m\u001b[0mbw\u001b[0m\u001b[0;34m,\u001b[0m\u001b[0malign\u001b[0m\u001b[0;34m=\u001b[0m\u001b[0;34m'edge'\u001b[0m\u001b[0;34m,\u001b[0m\u001b[0mlabel\u001b[0m\u001b[0;34m=\u001b[0m\u001b[0;34m'before'\u001b[0m\u001b[0;34m)\u001b[0m\u001b[0;34m\u001b[0m\u001b[0;34m\u001b[0m\u001b[0m\n\u001b[0m\u001b[1;32m      9\u001b[0m \u001b[0mplt\u001b[0m\u001b[0;34m.\u001b[0m\u001b[0mbarh\u001b[0m\u001b[0;34m(\u001b[0m\u001b[0midns\u001b[0m\u001b[0;34m+\u001b[0m\u001b[0mbw\u001b[0m\u001b[0;34m,\u001b[0m\u001b[0maf\u001b[0m\u001b[0;34m,\u001b[0m\u001b[0mcolor\u001b[0m\u001b[0;34m=\u001b[0m\u001b[0;34m[\u001b[0m\u001b[0;34m'b'\u001b[0m\u001b[0;34m,\u001b[0m\u001b[0;34m'b'\u001b[0m\u001b[0;34m,\u001b[0m\u001b[0;34m'b'\u001b[0m\u001b[0;34m,\u001b[0m\u001b[0;34m'b'\u001b[0m\u001b[0;34m]\u001b[0m\u001b[0;34m,\u001b[0m\u001b[0mwidth\u001b[0m\u001b[0;34m=\u001b[0m\u001b[0mbw\u001b[0m\u001b[0;34m,\u001b[0m\u001b[0malign\u001b[0m\u001b[0;34m=\u001b[0m\u001b[0;34m'edge'\u001b[0m\u001b[0;34m,\u001b[0m\u001b[0mlabel\u001b[0m\u001b[0;34m=\u001b[0m\u001b[0;34m'after'\u001b[0m\u001b[0;34m)\u001b[0m\u001b[0;34m\u001b[0m\u001b[0;34m\u001b[0m\u001b[0m\n\u001b[1;32m     10\u001b[0m \u001b[0mplt\u001b[0m\u001b[0;34m.\u001b[0m\u001b[0mxticks\u001b[0m\u001b[0;34m(\u001b[0m\u001b[0midns\u001b[0m\u001b[0;34m+\u001b[0m\u001b[0mbw\u001b[0m\u001b[0;34m,\u001b[0m\u001b[0mcids\u001b[0m\u001b[0;34m)\u001b[0m\u001b[0;34m\u001b[0m\u001b[0;34m\u001b[0m\u001b[0m\n",
            "\u001b[0;31mTypeError\u001b[0m: barh() got multiple values for argument 'width'"
          ]
        }
      ]
    },
    {
      "cell_type": "code",
      "source": [
        "import numpy as np\n",
        "ids = ['m01','m02','m03','m04']\n",
        "ex = [27,35,40,33]\n",
        "idns = np.array([1,2,3,4])\n",
        "cids = idns.astype(str)\n",
        "#plt.bar(cids,ex,color=['r','g','b','m'],edgecolor=['r','g','m','r'])\n",
        "#plt.grid(True)\n",
        "plt.bar(cids,ex,linewidth=4,edgecolor='r')\n",
        "plt.show()"
      ],
      "metadata": {
        "colab": {
          "base_uri": "https://localhost:8080/",
          "height": 265
        },
        "id": "DCS5R2KE9Emf",
        "outputId": "cb79392f-2320-4040-ead4-2aeead7ba2cf"
      },
      "execution_count": 87,
      "outputs": [
        {
          "output_type": "display_data",
          "data": {
            "text/plain": [
              "<Figure size 432x288 with 1 Axes>"
            ],
            "image/png": "[encoded data removed]"
          },
          "metadata": {
            "needs_background": "light"
          }
        }
      ]
    },
    {
      "cell_type": "code",
      "source": [
        "import numpy as np\n",
        "ids = ['m01','m02','m03','m04']\n",
        "ex = [27,35,40,33]\n",
        "idns = np.array([1,2,3,4])\n",
        "cids = idns.astype(str)\n",
        "#plt.bar(cids,ex,color=['r','g','b','m'],edgecolor=['r','g','m','r'])\n",
        "#plt.grid(True)\n",
        "plt.bar(cids,ex,linewidth=4,edgecolor='r',yerr = [1,2,3,2])\n",
        "plt.show()"
      ],
      "metadata": {
        "colab": {
          "base_uri": "https://localhost:8080/",
          "height": 265
        },
        "id": "TmuY0MNo9dRU",
        "outputId": "bb460dd7-aadf-4e10-c029-2ca91f95724c"
      },
      "execution_count": 88,
      "outputs": [
        {
          "output_type": "display_data",
          "data": {
            "text/plain": [
              "<Figure size 432x288 with 1 Axes>"
            ],
            "image/png": "[encoded data removed]"
          },
          "metadata": {
            "needs_background": "light"
          }
        }
      ]
    },
    {
      "cell_type": "code",
      "source": [
        "import numpy as np\n",
        "ids = ['m01','m02','m03','m04']\n",
        "ex = [27,35,40,33]\n",
        "idns = np.array([1,2,3,4])\n",
        "cids = idns.astype(str)\n",
        "#plt.bar(cids,ex,color=['r','g','b','m'],edgecolor=['r','g','m','r'])\n",
        "#plt.grid(True)\n",
        "plt.bar(cids,ex,linewidth=4,edgecolor='r',yerr = [1,2,3,2],capsize=3)\n",
        "plt.show()"
      ],
      "metadata": {
        "colab": {
          "base_uri": "https://localhost:8080/",
          "height": 265
        },
        "id": "iXCdd0PP98YA",
        "outputId": "a54b6a23-8d86-4f8a-ffea-dc51e6c52bd7"
      },
      "execution_count": 92,
      "outputs": [
        {
          "output_type": "display_data",
          "data": {
            "text/plain": [
              "<Figure size 432x288 with 1 Axes>"
            ],
            "image/png": "[encoded data removed]"
          },
          "metadata": {
            "needs_background": "light"
          }
        }
      ]
    },
    {
      "cell_type": "code",
      "source": [
        "ex_xs = [[2],[4],[7],[1],[9],[6]]\n",
        "ex_ys = [8,11,24,5,30,20]\n",
        "plt.plot(ex_xs[:],ex_ys,'o',label='example data')\n",
        "plt.legend()\n",
        "plt.xlim(0,30)\n",
        "plt.ylim(0,30)\n",
        "plt.show()"
      ],
      "metadata": {
        "colab": {
          "base_uri": "https://localhost:8080/",
          "height": 269
        },
        "id": "f7Q25_m2Thuv",
        "outputId": "7b82aa08-7365-4a27-e6e0-beed1291fbf8"
      },
      "execution_count": 96,
      "outputs": [
        {
          "output_type": "display_data",
          "data": {
            "text/plain": [
              "<Figure size 432x288 with 1 Axes>"
            ],
            "image/png": "[encoded data removed]"
          },
          "metadata": {
            "needs_background": "light"
          }
        }
      ]
    },
    {
      "cell_type": "code",
      "source": [
        "ex_xs = [[2],[4],[7],[1],[9],[6]]\n",
        "ex_ys = [8,11,24,5,30,20]\n",
        "plt.plot(ex_xs[:],ex_ys,'o',label='example data')\n",
        "plt.plot([0,30],[2*0+2,2*30+2],label='y=2x+2')\n",
        "plt.plot([0,30],[3*0+2,3*30+2],label='y=3x+2')\n",
        "plt.plot([0,30],[4*0+2,4*30+2],label='y=4x+2')\n",
        "plt.legend()\n",
        "plt.xlim(0,30)\n",
        "plt.ylim(0,30)\n",
        "plt.show()"
      ],
      "metadata": {
        "colab": {
          "base_uri": "https://localhost:8080/",
          "height": 269
        },
        "id": "HLVfkvjS-Ql3",
        "outputId": "83d77d89-4ffb-4969-b0b9-0ece829832b7"
      },
      "execution_count": 101,
      "outputs": [
        {
          "output_type": "display_data",
          "data": {
            "text/plain": [
              "<Figure size 432x288 with 1 Axes>"
            ],
            "image/png": "[encoded data removed]"
          },
          "metadata": {
            "needs_background": "light"
          }
        }
      ]
    },
    {
      "cell_type": "code",
      "source": [
        "def mse(yp,y):\n",
        "  return np.mean(sum(yp-y)**2)"
      ],
      "metadata": {
        "id": "cwjIGhAJVpSb"
      },
      "execution_count": 114,
      "outputs": []
    },
    {
      "cell_type": "code",
      "source": [
        "import numpy as np\n",
        "b = 2\n",
        "mses = [] #mse를 보관할 컬렉션\n",
        "wpl = np.arange(-10,10,0.5) #조사할 기울기(-10에서 10까지 step:0.5)\n",
        "for wp in wpl : #기울기마다\n",
        "  yp = wp * np.array(ex_xs)+b\n",
        "  mses.append(mse(yp,ex_ys))"
      ],
      "metadata": {
        "id": "MNqLV8teV4gA"
      },
      "execution_count": 115,
      "outputs": []
    },
    {
      "cell_type": "code",
      "source": [
        "mi = np.array(mses).argmin()\n",
        "plt.plot(wpl,mses,'.')\n",
        "plt.plot(wpl[mi],mses[mi],'or')\n",
        "plt.show()"
      ],
      "metadata": {
        "colab": {
          "base_uri": "https://localhost:8080/",
          "height": 333
        },
        "id": "20hCxrweXMjJ",
        "outputId": "1dcf8040-5c39-4d51-bea0-43b58542b834"
      },
      "execution_count": 117,
      "outputs": [
        {
          "output_type": "stream",
          "name": "stderr",
          "text": [
            "/usr/local/lib/python3.7/dist-packages/matplotlib/backends/backend_agg.py:214: RuntimeWarning: Glyph 8722 missing from current font.\n",
            "  font.set_text(s, 0.0, flags=flags)\n",
            "/usr/local/lib/python3.7/dist-packages/matplotlib/backends/backend_agg.py:183: RuntimeWarning: Glyph 8722 missing from current font.\n",
            "  font.set_text(s, 0, flags=flags)\n"
          ]
        },
        {
          "output_type": "display_data",
          "data": {
            "text/plain": [
              "<Figure size 432x288 with 1 Axes>"
            ],
            "image/png": "[encoded data removed]"
          },
          "metadata": {
            "needs_background": "light"
          }
        }
      ]
    },
    {
      "cell_type": "markdown",
      "source": [
        "#PIE\n",
        "matplotlib.pyplot.pie(x, explode=None, labels=None, colors=None, autopct=None, pctdistance=0.6, shadow=False, labeldistance=1.1, startangle=0, radius=1, counterclock=True, wedgeprops=None, textprops=None, center=(0, 0), frame=False, rotatelabels=False, *, normalize=True, data=None)[source]"
      ],
      "metadata": {
        "id": "V-u9dB08__Wr"
      }
    },
    {
      "cell_type": "code",
      "source": [
        "plt.pie([19,20,90,7])\n",
        "plt.show()"
      ],
      "metadata": {
        "colab": {
          "base_uri": "https://localhost:8080/",
          "height": 248
        },
        "id": "8mMsTXn3ZywI",
        "outputId": "5e2791c3-4f02-4fd6-f951-396b0abcf515"
      },
      "execution_count": 118,
      "outputs": [
        {
          "output_type": "display_data",
          "data": {
            "text/plain": [
              "<Figure size 432x288 with 1 Axes>"
            ],
            "image/png": "[encoded data removed]"
          },
          "metadata": {}
        }
      ]
    },
    {
      "cell_type": "code",
      "source": [
        "plt.pie([19,20,90,7],explode=[0,0,0,1])\n",
        "plt.show()"
      ],
      "metadata": {
        "colab": {
          "base_uri": "https://localhost:8080/",
          "height": 248
        },
        "id": "QgRaQZLla0mu",
        "outputId": "eebfc2ee-0923-4a7d-db27-a4ccf3f7ef6f"
      },
      "execution_count": 120,
      "outputs": [
        {
          "output_type": "display_data",
          "data": {
            "text/plain": [
              "<Figure size 432x288 with 1 Axes>"
            ],
            "image/png": "[encoded data removed]"
          },
          "metadata": {}
        }
      ]
    },
    {
      "cell_type": "code",
      "source": [
        "plt.pie([19,20,90,7],labels= ['a','b','c','d'],colors=['r','g','k','m'])\n",
        "plt.show()"
      ],
      "metadata": {
        "colab": {
          "base_uri": "https://localhost:8080/",
          "height": 248
        },
        "id": "UAg6MS96a4wG",
        "outputId": "7c5106ee-eea2-4f1e-ae06-a74e1b8324a4"
      },
      "execution_count": 126,
      "outputs": [
        {
          "output_type": "display_data",
          "data": {
            "text/plain": [
              "<Figure size 432x288 with 1 Axes>"
            ],
            "image/png": "[encoded data removed]"
          },
          "metadata": {}
        }
      ]
    },
    {
      "cell_type": "code",
      "source": [
        "plt.pie([19,20,90,7],labels= ['a','b','c','d'],colors=['r','g','y','m'],autopct=\"%.2f%%\")\n",
        "plt.show()"
      ],
      "metadata": {
        "colab": {
          "base_uri": "https://localhost:8080/",
          "height": 248
        },
        "id": "Qa8m3-XhbLWu",
        "outputId": "4b541fd7-6c0c-419b-b18f-c05921c18fac"
      },
      "execution_count": 129,
      "outputs": [
        {
          "output_type": "display_data",
          "data": {
            "text/plain": [
              "<Figure size 432x288 with 1 Axes>"
            ],
            "image/png": "[encoded data removed]"
          },
          "metadata": {}
        }
      ]
    },
    {
      "cell_type": "code",
      "source": [
        "plt.pie([19,20,90,7],colors=['r','g','y','m'],autopct=\"%.2f%%\",pctdistance=0.8)\n",
        "plt.show()"
      ],
      "metadata": {
        "colab": {
          "base_uri": "https://localhost:8080/",
          "height": 248
        },
        "id": "cw49msj4cqPT",
        "outputId": "a0a226c6-1d61-45d4-892d-0c7cd9229b13"
      },
      "execution_count": 130,
      "outputs": [
        {
          "output_type": "display_data",
          "data": {
            "text/plain": [
              "<Figure size 432x288 with 1 Axes>"
            ],
            "image/png": "[encoded data removed]"
          },
          "metadata": {}
        }
      ]
    },
    {
      "cell_type": "code",
      "source": [
        "plt.pie([19,20,90,7],colors=['r','g','y','m'],autopct=\"%.2f%%\",startangle=90)\n",
        "plt.show()"
      ],
      "metadata": {
        "colab": {
          "base_uri": "https://localhost:8080/",
          "height": 248
        },
        "id": "RdINnV24dU3Z",
        "outputId": "f3afd11a-49de-49c8-87e4-35460ab89eda"
      },
      "execution_count": 134,
      "outputs": [
        {
          "output_type": "display_data",
          "data": {
            "text/plain": [
              "<Figure size 432x288 with 1 Axes>"
            ],
            "image/png": "[encoded data removed]"
          },
          "metadata": {}
        }
      ]
    },
    {
      "cell_type": "code",
      "source": [
        "plt.pie([19,20,90,7],colors=['r','g','y','m'],autopct=\"%.2f%%\",counterclock=False)\n",
        "plt.show()"
      ],
      "metadata": {
        "colab": {
          "base_uri": "https://localhost:8080/",
          "height": 248
        },
        "id": "iTqQMJBEhAH2",
        "outputId": "d760b783-6fdd-44d5-dbcb-957443919ec5"
      },
      "execution_count": 135,
      "outputs": [
        {
          "output_type": "display_data",
          "data": {
            "text/plain": [
              "<Figure size 432x288 with 1 Axes>"
            ],
            "image/png": "[encoded data removed]"
          },
          "metadata": {}
        }
      ]
    },
    {
      "cell_type": "markdown",
      "source": [
        "#hist\n",
        "matplotlib.pyplot.hist(x, bins=None, range=None, density=False, weights=None, cumulative=False, bottom=None, histtype='bar', align='mid', orientation='vertical', rwidth=None, log=False, color=None, label=None, stacked=False, *, data=None, **kwargs)"
      ],
      "metadata": {
        "id": "ELcvb6e2h5f-"
      }
    },
    {
      "cell_type": "code",
      "source": [
        "xs = [np.random.randint(1,7) for _ in range(1000)]\n",
        "b = plt.hist(xs)\n",
        "\n",
        "plt.hist(xs,bins=[1,2,3,4,5,6,7])\n",
        "plt.show()\n",
        "print(b)"
      ],
      "metadata": {
        "colab": {
          "base_uri": "https://localhost:8080/",
          "height": 282
        },
        "id": "ySx5207Ahqp1",
        "outputId": "4c094789-9963-46b7-a3a2-032746620168"
      },
      "execution_count": 142,
      "outputs": [
        {
          "output_type": "display_data",
          "data": {
            "text/plain": [
              "<Figure size 432x288 with 1 Axes>"
            ],
            "image/png": "[encoded data removed]"
          },
          "metadata": {
            "needs_background": "light"
          }
        },
        {
          "output_type": "stream",
          "name": "stdout",
          "text": [
            "(array([161.,   0., 157.,   0., 161.,   0., 155.,   0., 186., 180.]), array([1. , 1.5, 2. , 2.5, 3. , 3.5, 4. , 4.5, 5. , 5.5, 6. ]), <a list of 10 Patch objects>)\n"
          ]
        }
      ]
    },
    {
      "cell_type": "markdown",
      "source": [
        "# 1. 총 인원수, 생존자수, 사망자수는 몇명인가?"
      ],
      "metadata": {
        "id": "vRVQu933m5GT"
      }
    },
    {
      "cell_type": "code",
      "source": [
        "import pandas as pd\n",
        "path = '/content/drive/MyDrive/train_titanic.csv'\n",
        "data = pd.read_csv(path)\n",
        "data"
      ],
      "metadata": {
        "colab": {
          "base_uri": "https://localhost:8080/",
          "height": 976
        },
        "id": "qdvh3-ltiTv-",
        "outputId": "3af7c5a5-f1c8-46bb-a0df-5e4d4a7a9133"
      },
      "execution_count": 146,
      "outputs": [
        {
          "output_type": "execute_result",
          "data": {
            "text/plain": [
              "     PassengerId  Survived  Pclass  \\\n",
              "0              1         0       3   \n",
              "1              2         1       1   \n",
              "2              3         1       3   \n",
              "3              4         1       1   \n",
              "4              5         0       3   \n",
              "..           ...       ...     ...   \n",
              "886          887         0       2   \n",
              "887          888         1       1   \n",
              "888          889         0       3   \n",
              "889          890         1       1   \n",
              "890          891         0       3   \n",
              "\n",
              "                                                  Name     Sex   Age  SibSp  \\\n",
              "0                              Braund, Mr. Owen Harris    male  22.0      1   \n",
              "1    Cumings, Mrs. John Bradley (Florence Briggs Th...  female  38.0      1   \n",
              "2                               Heikkinen, Miss. Laina  female  26.0      0   \n",
              "3         Futrelle, Mrs. Jacques Heath (Lily May Peel)  female  35.0      1   \n",
              "4                             Allen, Mr. William Henry    male  35.0      0   \n",
              "..                                                 ...     ...   ...    ...   \n",
              "886                              Montvila, Rev. Juozas    male  27.0      0   \n",
              "887                       Graham, Miss. Margaret Edith  female  19.0      0   \n",
              "888           Johnston, Miss. Catherine Helen \"Carrie\"  female   NaN      1   \n",
              "889                              Behr, Mr. Karl Howell    male  26.0      0   \n",
              "890                                Dooley, Mr. Patrick    male  32.0      0   \n",
              "\n",
              "     Parch            Ticket     Fare Cabin Embarked  \n",
              "0        0         A/5 21171   7.2500   NaN        S  \n",
              "1        0          PC 17599  71.2833   C85        C  \n",
              "2        0  STON/O2. 3101282   7.9250   NaN        S  \n",
              "3        0            113803  53.1000  C123        S  \n",
              "4        0            373450   8.0500   NaN        S  \n",
              "..     ...               ...      ...   ...      ...  \n",
              "886      0            211536  13.0000   NaN        S  \n",
              "887      0            112053  30.0000   B42        S  \n",
              "888      2        W./C. 6607  23.4500   NaN        S  \n",
              "889      0            111369  30.0000  C148        C  \n",
              "890      0            370376   7.7500   NaN        Q  \n",
              "\n",
              "[891 rows x 12 columns]"
            ],
            "text/html": [
              "\n",
              "  <div id=\"df-b6b3caf2-4bff-4e1f-ae2b-320b071785b5\">\n",
              "    <div class=\"colab-df-container\">\n",
              "      <div>\n",
              "<style scoped>\n",
              "    .dataframe tbody tr th:only-of-type {\n",
              "        vertical-align: middle;\n",
              "    }\n",
              "\n",
              "    .dataframe tbody tr th {\n",
              "        vertical-align: top;\n",
              "    }\n",
              "\n",
              "    .dataframe thead th {\n",
              "        text-align: right;\n",
              "    }\n",
              "</style>\n",
              "<table border=\"1\" class=\"dataframe\">\n",
              "  <thead>\n",
              "    <tr style=\"text-align: right;\">\n",
              "      <th></th>\n",
              "      <th>PassengerId</th>\n",
              "      <th>Survived</th>\n",
              "      <th>Pclass</th>\n",
              "      <th>Name</th>\n",
              "      <th>Sex</th>\n",
              "      <th>Age</th>\n",
              "      <th>SibSp</th>\n",
              "      <th>Parch</th>\n",
              "      <th>Ticket</th>\n",
              "      <th>Fare</th>\n",
              "      <th>Cabin</th>\n",
              "      <th>Embarked</th>\n",
              "    </tr>\n",
              "  </thead>\n",
              "  <tbody>\n",
              "    <tr>\n",
              "      <th>0</th>\n",
              "      <td>1</td>\n",
              "      <td>0</td>\n",
              "      <td>3</td>\n",
              "      <td>Braund, Mr. Owen Harris</td>\n",
              "      <td>male</td>\n",
              "      <td>22.0</td>\n",
              "      <td>1</td>\n",
              "      <td>0</td>\n",
              "      <td>A/5 21171</td>\n",
              "      <td>7.2500</td>\n",
              "      <td>NaN</td>\n",
              "      <td>S</td>\n",
              "    </tr>\n",
              "    <tr>\n",
              "      <th>1</th>\n",
              "      <td>2</td>\n",
              "      <td>1</td>\n",
              "      <td>1</td>\n",
              "      <td>Cumings, Mrs. John Bradley (Florence Briggs Th...</td>\n",
              "      <td>female</td>\n",
              "      <td>38.0</td>\n",
              "      <td>1</td>\n",
              "      <td>0</td>\n",
              "      <td>PC 17599</td>\n",
              "      <td>71.2833</td>\n",
              "      <td>C85</td>\n",
              "      <td>C</td>\n",
              "    </tr>\n",
              "    <tr>\n",
              "      <th>2</th>\n",
              "      <td>3</td>\n",
              "      <td>1</td>\n",
              "      <td>3</td>\n",
              "      <td>Heikkinen, Miss. Laina</td>\n",
              "      <td>female</td>\n",
              "      <td>26.0</td>\n",
              "      <td>0</td>\n",
              "      <td>0</td>\n",
              "      <td>STON/O2. 3101282</td>\n",
              "      <td>7.9250</td>\n",
              "      <td>NaN</td>\n",
              "      <td>S</td>\n",
              "    </tr>\n",
              "    <tr>\n",
              "      <th>3</th>\n",
              "      <td>4</td>\n",
              "      <td>1</td>\n",
              "      <td>1</td>\n",
              "      <td>Futrelle, Mrs. Jacques Heath (Lily May Peel)</td>\n",
              "      <td>female</td>\n",
              "      <td>35.0</td>\n",
              "      <td>1</td>\n",
              "      <td>0</td>\n",
              "      <td>113803</td>\n",
              "      <td>53.1000</td>\n",
              "      <td>C123</td>\n",
              "      <td>S</td>\n",
              "    </tr>\n",
              "    <tr>\n",
              "      <th>4</th>\n",
              "      <td>5</td>\n",
              "      <td>0</td>\n",
              "      <td>3</td>\n",
              "      <td>Allen, Mr. William Henry</td>\n",
              "      <td>male</td>\n",
              "      <td>35.0</td>\n",
              "      <td>0</td>\n",
              "      <td>0</td>\n",
              "      <td>373450</td>\n",
              "      <td>8.0500</td>\n",
              "      <td>NaN</td>\n",
              "      <td>S</td>\n",
              "    </tr>\n",
              "    <tr>\n",
              "      <th>...</th>\n",
              "      <td>...</td>\n",
              "      <td>...</td>\n",
              "      <td>...</td>\n",
              "      <td>...</td>\n",
              "      <td>...</td>\n",
              "      <td>...</td>\n",
              "      <td>...</td>\n",
              "      <td>...</td>\n",
              "      <td>...</td>\n",
              "      <td>...</td>\n",
              "      <td>...</td>\n",
              "      <td>...</td>\n",
              "    </tr>\n",
              "    <tr>\n",
              "      <th>886</th>\n",
              "      <td>887</td>\n",
              "      <td>0</td>\n",
              "      <td>2</td>\n",
              "      <td>Montvila, Rev. Juozas</td>\n",
              "      <td>male</td>\n",
              "      <td>27.0</td>\n",
              "      <td>0</td>\n",
              "      <td>0</td>\n",
              "      <td>211536</td>\n",
              "      <td>13.0000</td>\n",
              "      <td>NaN</td>\n",
              "      <td>S</td>\n",
              "    </tr>\n",
              "    <tr>\n",
              "      <th>887</th>\n",
              "      <td>888</td>\n",
              "      <td>1</td>\n",
              "      <td>1</td>\n",
              "      <td>Graham, Miss. Margaret Edith</td>\n",
              "      <td>female</td>\n",
              "      <td>19.0</td>\n",
              "      <td>0</td>\n",
              "      <td>0</td>\n",
              "      <td>112053</td>\n",
              "      <td>30.0000</td>\n",
              "      <td>B42</td>\n",
              "      <td>S</td>\n",
              "    </tr>\n",
              "    <tr>\n",
              "      <th>888</th>\n",
              "      <td>889</td>\n",
              "      <td>0</td>\n",
              "      <td>3</td>\n",
              "      <td>Johnston, Miss. Catherine Helen \"Carrie\"</td>\n",
              "      <td>female</td>\n",
              "      <td>NaN</td>\n",
              "      <td>1</td>\n",
              "      <td>2</td>\n",
              "      <td>W./C. 6607</td>\n",
              "      <td>23.4500</td>\n",
              "      <td>NaN</td>\n",
              "      <td>S</td>\n",
              "    </tr>\n",
              "    <tr>\n",
              "      <th>889</th>\n",
              "      <td>890</td>\n",
              "      <td>1</td>\n",
              "      <td>1</td>\n",
              "      <td>Behr, Mr. Karl Howell</td>\n",
              "      <td>male</td>\n",
              "      <td>26.0</td>\n",
              "      <td>0</td>\n",
              "      <td>0</td>\n",
              "      <td>111369</td>\n",
              "      <td>30.0000</td>\n",
              "      <td>C148</td>\n",
              "      <td>C</td>\n",
              "    </tr>\n",
              "    <tr>\n",
              "      <th>890</th>\n",
              "      <td>891</td>\n",
              "      <td>0</td>\n",
              "      <td>3</td>\n",
              "      <td>Dooley, Mr. Patrick</td>\n",
              "      <td>male</td>\n",
              "      <td>32.0</td>\n",
              "      <td>0</td>\n",
              "      <td>0</td>\n",
              "      <td>370376</td>\n",
              "      <td>7.7500</td>\n",
              "      <td>NaN</td>\n",
              "      <td>Q</td>\n",
              "    </tr>\n",
              "  </tbody>\n",
              "</table>\n",
              "<p>891 rows × 12 columns</p>\n",
              "</div>\n",
              "      <button class=\"colab-df-convert\" onclick=\"convertToInteractive('df-b6b3caf2-4bff-4e1f-ae2b-320b071785b5')\"\n",
              "              title=\"Convert this dataframe to an interactive table.\"\n",
              "              style=\"display:none;\">\n",
              "        \n",
              "  <svg xmlns=\"http://www.w3.org/2000/svg\" height=\"24px\"viewBox=\"0 0 24 24\"\n",
              "       width=\"24px\">\n",
              "    <path d=\"M0 0h24v24H0V0z\" fill=\"none\"/>\n",
              "    <path d=\"M18.56 5.44l.94 2.06.94-2.06 2.06-.94-2.06-.94-.94-2.06-.94 2.06-2.06.94zm-11 1L8.5 8.5l.94-2.06 2.06-.94-2.06-.94L8.5 2.5l-.94 2.06-2.06.94zm10 10l.94 2.06.94-2.06 2.06-.94-2.06-.94-.94-2.06-.94 2.06-2.06.94z\"/><path d=\"M17.41 7.96l-1.37-1.37c-.4-.4-.92-.59-1.43-.59-.52 0-1.04.2-1.43.59L10.3 9.45l-7.72 7.72c-.78.78-.78 2.05 0 2.83L4 21.41c.39.39.9.59 1.41.59.51 0 1.02-.2 1.41-.59l7.78-7.78 2.81-2.81c.8-.78.8-2.07 0-2.86zM5.41 20L4 18.59l7.72-7.72 1.47 1.35L5.41 20z\"/>\n",
              "  </svg>\n",
              "      </button>\n",
              "      \n",
              "  <style>\n",
              "    .colab-df-container {\n",
              "      display:flex;\n",
              "      flex-wrap:wrap;\n",
              "      gap: 12px;\n",
              "    }\n",
              "\n",
              "    .colab-df-convert {\n",
              "      background-color: #E8F0FE;\n",
              "      border: none;\n",
              "      border-radius: 50%;\n",
              "      cursor: pointer;\n",
              "      display: none;\n",
              "      fill: #1967D2;\n",
              "      height: 32px;\n",
              "      padding: 0 0 0 0;\n",
              "      width: 32px;\n",
              "    }\n",
              "\n",
              "    .colab-df-convert:hover {\n",
              "      background-color: #E2EBFA;\n",
              "      box-shadow: 0px 1px 2px rgba(60, 64, 67, 0.3), 0px 1px 3px 1px rgba(60, 64, 67, 0.15);\n",
              "      fill: #174EA6;\n",
              "    }\n",
              "\n",
              "    [theme=dark] .colab-df-convert {\n",
              "      background-color: #3B4455;\n",
              "      fill: #D2E3FC;\n",
              "    }\n",
              "\n",
              "    [theme=dark] .colab-df-convert:hover {\n",
              "      background-color: #434B5C;\n",
              "      box-shadow: 0px 1px 3px 1px rgba(0, 0, 0, 0.15);\n",
              "      filter: drop-shadow(0px 1px 2px rgba(0, 0, 0, 0.3));\n",
              "      fill: #FFFFFF;\n",
              "    }\n",
              "  </style>\n",
              "\n",
              "      <script>\n",
              "        const buttonEl =\n",
              "          document.querySelector('#df-b6b3caf2-4bff-4e1f-ae2b-320b071785b5 button.colab-df-convert');\n",
              "        buttonEl.style.display =\n",
              "          google.colab.kernel.accessAllowed ? 'block' : 'none';\n",
              "\n",
              "        async function convertToInteractive(key) {\n",
              "          const element = document.querySelector('#df-b6b3caf2-4bff-4e1f-ae2b-320b071785b5');\n",
              "          const dataTable =\n",
              "            await google.colab.kernel.invokeFunction('convertToInteractive',\n",
              "                                                     [key], {});\n",
              "          if (!dataTable) return;\n",
              "\n",
              "          const docLinkHtml = 'Like what you see? Visit the ' +\n",
              "            '<a target=\"_blank\" href=https://colab.research.google.com/notebooks/data_table.ipynb>data table notebook</a>'\n",
              "            + ' to learn more about interactive tables.';\n",
              "          element.innerHTML = '';\n",
              "          dataTable['output_type'] = 'display_data';\n",
              "          await google.colab.output.renderOutput(dataTable, element);\n",
              "          const docLink = document.createElement('div');\n",
              "          docLink.innerHTML = docLinkHtml;\n",
              "          element.appendChild(docLink);\n",
              "        }\n",
              "      </script>\n",
              "    </div>\n",
              "  </div>\n",
              "  "
            ]
          },
          "metadata": {},
          "execution_count": 146
        }
      ]
    },
    {
      "cell_type": "code",
      "source": [
        "s_data = data['Survived']\n",
        "s_data.value_counts()"
      ],
      "metadata": {
        "colab": {
          "base_uri": "https://localhost:8080/"
        },
        "id": "oIzvdfqXmt1-",
        "outputId": "053d1c63-c589-43c9-90da-4cda531d6dc2"
      },
      "execution_count": 147,
      "outputs": [
        {
          "output_type": "execute_result",
          "data": {
            "text/plain": [
              "0    549\n",
              "1    342\n",
              "Name: Survived, dtype: int64"
            ]
          },
          "metadata": {},
          "execution_count": 147
        }
      ]
    },
    {
      "cell_type": "code",
      "source": [
        "vc = s_data.value_counts()\n",
        "plt.pie(vc.values, labels=[f\"dead{vc[0]}\",f\"alive{vc[1]}\"],autopct=\"%.2f%%\")\n",
        "plt.show()"
      ],
      "metadata": {
        "colab": {
          "base_uri": "https://localhost:8080/",
          "height": 248
        },
        "id": "gjSvS1kvnGQy",
        "outputId": "e9405159-b812-48fb-b875-e7f8605529f6"
      },
      "execution_count": 155,
      "outputs": [
        {
          "output_type": "display_data",
          "data": {
            "text/plain": [
              "<Figure size 432x288 with 1 Axes>"
            ],
            "image/png": "[encoded data removed]"
          },
          "metadata": {}
        }
      ]
    },
    {
      "cell_type": "markdown",
      "source": [
        "2. 결측 데이터가 있는 컬럼들을 조사하시오."
      ],
      "metadata": {
        "id": "NowIppcKoJfr"
      }
    },
    {
      "cell_type": "code",
      "source": [
        "data.info()"
      ],
      "metadata": {
        "colab": {
          "base_uri": "https://localhost:8080/"
        },
        "id": "Tu8KEyODnamf",
        "outputId": "37d5f09a-80ce-4bc6-bd1c-1c88eed98d32"
      },
      "execution_count": 156,
      "outputs": [
        {
          "output_type": "stream",
          "name": "stdout",
          "text": [
            "<class 'pandas.core.frame.DataFrame'>\n",
            "RangeIndex: 891 entries, 0 to 890\n",
            "Data columns (total 12 columns):\n",
            " #   Column       Non-Null Count  Dtype  \n",
            "---  ------       --------------  -----  \n",
            " 0   PassengerId  891 non-null    int64  \n",
            " 1   Survived     891 non-null    int64  \n",
            " 2   Pclass       891 non-null    int64  \n",
            " 3   Name         891 non-null    object \n",
            " 4   Sex          891 non-null    object \n",
            " 5   Age          714 non-null    float64\n",
            " 6   SibSp        891 non-null    int64  \n",
            " 7   Parch        891 non-null    int64  \n",
            " 8   Ticket       891 non-null    object \n",
            " 9   Fare         891 non-null    float64\n",
            " 10  Cabin        204 non-null    object \n",
            " 11  Embarked     889 non-null    object \n",
            "dtypes: float64(2), int64(5), object(5)\n",
            "memory usage: 83.7+ KB\n"
          ]
        }
      ]
    },
    {
      "cell_type": "markdown",
      "source": [
        "3. pclass의 종류에 따른 분포를 나타내시오.\n",
        "\n",
        "  pclass 종류에 따른 생존 유무를 비교하시오."
      ],
      "metadata": {
        "id": "7ERl_YbMoud0"
      }
    },
    {
      "cell_type": "code",
      "source": [
        "p_data = data['Pclass']\n",
        "pvc = p_data.value_counts().sort_index()\n",
        "plt.pie(pvc.values,labels = pvc.index, autopct=\"%.2f%%\")\n",
        "plt.title(\"Pclass\")\n",
        "plt.show()"
      ],
      "metadata": {
        "colab": {
          "base_uri": "https://localhost:8080/",
          "height": 263
        },
        "id": "YN0Y0SbroSzw",
        "outputId": "ac5e618a-b9f5-4211-aefe-33ebdc5dc921"
      },
      "execution_count": 161,
      "outputs": [
        {
          "output_type": "display_data",
          "data": {
            "text/plain": [
              "<Figure size 432x288 with 1 Axes>"
            ],
            "image/png": "[encoded data removed]"
          },
          "metadata": {}
        }
      ]
    },
    {
      "cell_type": "code",
      "source": [
        "pvc = p_data.value_counts().sort_index()\n",
        "#print(len(p_data.unique()))\n",
        "pc_alive_arr = np.zeros(3)\n",
        "pc_dead_arr = np.zeros(3)\n",
        "for index in range(len(p_data)):\n",
        "  pi = p_data[index]-1 # 클래스 번호 - 1을 배열의 인덱스로 사용\n",
        "  if s_data[index] == 0 :\n",
        "    pc_dead_arr[pi]+=1\n",
        "  else :\n",
        "    pc_alive_arr+=1\n",
        "pc_alive_arr,pc_dead_arr"
      ],
      "metadata": {
        "colab": {
          "base_uri": "https://localhost:8080/"
        },
        "id": "7GIigMjApJ-e",
        "outputId": "cc4b6f02-b724-4402-f45e-e4dc8e8f2815"
      },
      "execution_count": 166,
      "outputs": [
        {
          "output_type": "execute_result",
          "data": {
            "text/plain": [
              "(array([342., 342., 342.]), array([ 80.,  97., 372.]))"
            ]
          },
          "metadata": {},
          "execution_count": 166
        }
      ]
    },
    {
      "cell_type": "code",
      "source": [
        "plt.bar(['1','2','3'],pc_alive_arr)\n",
        "plt.bar(['1','2','3'],pc_dead_arr,bottom=pc_alive_arr)\n",
        "for i in range(3):\n",
        "  plt.annotate(str(pc_alive_arr[i]),(i-0.12,40))\n",
        "  plt.annotate(str(pc_dead_arr[i]),(i-0.12,pc_alive_arr[i]+40))\n",
        "plt.show()"
      ],
      "metadata": {
        "colab": {
          "base_uri": "https://localhost:8080/",
          "height": 265
        },
        "id": "bXxDOug3qHFR",
        "outputId": "691912b4-8938-4822-954d-6aac418199b2"
      },
      "execution_count": 209,
      "outputs": [
        {
          "output_type": "display_data",
          "data": {
            "text/plain": [
              "<Figure size 432x288 with 1 Axes>"
            ],
            "image/png": "[encoded data removed]"
          },
          "metadata": {
            "needs_background": "light"
          }
        }
      ]
    },
    {
      "cell_type": "markdown",
      "source": [
        "4. Name에 부르는 호칭(Mr,Mrs,Miss,Master,Dr,ETC)에 따라 분포와 생존 비율을 분석하시오."
      ],
      "metadata": {
        "id": "U800uETmw2hK"
      }
    },
    {
      "cell_type": "code",
      "source": [
        "n_data = data['Name']\n",
        "name_values = ['Mr','Mrs','Miss','Master','Dr','ETC']\n",
        "def get_name_index(name):\n",
        "  _,s = name.split(',')\n",
        "  sarr = s.split('.')\n",
        "  lfrag = sarr[0].replace(' ','')\n",
        "  for index in range(5):\n",
        "    if lfrag == name_values[index]:\n",
        "      return index\n",
        "  return 5\n",
        "for  n in n_data:\n",
        "  print(get_name_index(n),n)"
      ],
      "metadata": {
        "colab": {
          "base_uri": "https://localhost:8080/"
        },
        "id": "sATBmmxwrgcN",
        "outputId": "98d0f966-64bf-410c-ba9e-9e5d85b7b35d"
      },
      "execution_count": 211,
      "outputs": [
        {
          "output_type": "stream",
          "name": "stdout",
          "text": [
            "0 Braund, Mr. Owen Harris\n",
            "1 Cumings, Mrs. John Bradley (Florence Briggs Thayer)\n",
            "2 Heikkinen, Miss. Laina\n",
            "1 Futrelle, Mrs. Jacques Heath (Lily May Peel)\n",
            "0 Allen, Mr. William Henry\n",
            "0 Moran, Mr. James\n",
            "0 McCarthy, Mr. Timothy J\n",
            "3 Palsson, Master. Gosta Leonard\n",
            "1 Johnson, Mrs. Oscar W (Elisabeth Vilhelmina Berg)\n",
            "1 Nasser, Mrs. Nicholas (Adele Achem)\n",
            "2 Sandstrom, Miss. Marguerite Rut\n",
            "2 Bonnell, Miss. Elizabeth\n",
            "0 Saundercock, Mr. William Henry\n",
            "0 Andersson, Mr. Anders Johan\n",
            "2 Vestrom, Miss. Hulda Amanda Adolfina\n",
            "1 Hewlett, Mrs. (Mary D Kingcome) \n",
            "3 Rice, Master. Eugene\n",
            "0 Williams, Mr. Charles Eugene\n",
            "1 Vander Planke, Mrs. Julius (Emelia Maria Vandemoortele)\n",
            "1 Masselmani, Mrs. Fatima\n",
            "0 Fynney, Mr. Joseph J\n",
            "0 Beesley, Mr. Lawrence\n",
            "2 McGowan, Miss. Anna \"Annie\"\n",
            "0 Sloper, Mr. William Thompson\n",
            "2 Palsson, Miss. Torborg Danira\n",
            "1 Asplund, Mrs. Carl Oscar (Selma Augusta Emilia Johansson)\n",
            "0 Emir, Mr. Farred Chehab\n",
            "0 Fortune, Mr. Charles Alexander\n",
            "2 O'Dwyer, Miss. Ellen \"Nellie\"\n",
            "0 Todoroff, Mr. Lalio\n",
            "5 Uruchurtu, Don. Manuel E\n",
            "1 Spencer, Mrs. William Augustus (Marie Eugenie)\n",
            "2 Glynn, Miss. Mary Agatha\n",
            "0 Wheadon, Mr. Edward H\n",
            "0 Meyer, Mr. Edgar Joseph\n",
            "0 Holverson, Mr. Alexander Oskar\n",
            "0 Mamee, Mr. Hanna\n",
            "0 Cann, Mr. Ernest Charles\n",
            "2 Vander Planke, Miss. Augusta Maria\n",
            "2 Nicola-Yarred, Miss. Jamila\n",
            "1 Ahlin, Mrs. Johan (Johanna Persdotter Larsson)\n",
            "1 Turpin, Mrs. William John Robert (Dorothy Ann Wonnacott)\n",
            "0 Kraeff, Mr. Theodor\n",
            "2 Laroche, Miss. Simonne Marie Anne Andree\n",
            "2 Devaney, Miss. Margaret Delia\n",
            "0 Rogers, Mr. William John\n",
            "0 Lennon, Mr. Denis\n",
            "2 O'Driscoll, Miss. Bridget\n",
            "0 Samaan, Mr. Youssef\n",
            "1 Arnold-Franchi, Mrs. Josef (Josefine Franchi)\n",
            "3 Panula, Master. Juha Niilo\n",
            "0 Nosworthy, Mr. Richard Cater\n",
            "1 Harper, Mrs. Henry Sleeper (Myna Haxtun)\n",
            "1 Faunthorpe, Mrs. Lizzie (Elizabeth Anne Wilkinson)\n",
            "0 Ostby, Mr. Engelhart Cornelius\n",
            "0 Woolner, Mr. Hugh\n",
            "2 Rugg, Miss. Emily\n",
            "0 Novel, Mr. Mansouer\n",
            "2 West, Miss. Constance Mirium\n",
            "3 Goodwin, Master. William Frederick\n",
            "0 Sirayanian, Mr. Orsen\n",
            "2 Icard, Miss. Amelie\n",
            "0 Harris, Mr. Henry Birkhardt\n",
            "3 Skoog, Master. Harald\n",
            "0 Stewart, Mr. Albert A\n",
            "3 Moubarek, Master. Gerios\n",
            "1 Nye, Mrs. (Elizabeth Ramell)\n",
            "0 Crease, Mr. Ernest James\n",
            "2 Andersson, Miss. Erna Alexandra\n",
            "0 Kink, Mr. Vincenz\n",
            "0 Jenkin, Mr. Stephen Curnow\n",
            "2 Goodwin, Miss. Lillian Amy\n",
            "0 Hood, Mr. Ambrose Jr\n",
            "0 Chronopoulos, Mr. Apostolos\n",
            "0 Bing, Mr. Lee\n",
            "0 Moen, Mr. Sigurd Hansen\n",
            "0 Staneff, Mr. Ivan\n",
            "0 Moutal, Mr. Rahamin Haim\n",
            "3 Caldwell, Master. Alden Gates\n",
            "2 Dowdell, Miss. Elizabeth\n",
            "0 Waelens, Mr. Achille\n",
            "0 Sheerlinck, Mr. Jan Baptist\n",
            "2 McDermott, Miss. Brigdet Delia\n",
            "0 Carrau, Mr. Francisco M\n",
            "2 Ilett, Miss. Bertha\n",
            "1 Backstrom, Mrs. Karl Alfred (Maria Mathilda Gustafsson)\n",
            "0 Ford, Mr. William Neal\n",
            "0 Slocovski, Mr. Selman Francis\n",
            "2 Fortune, Miss. Mabel Helen\n",
            "0 Celotti, Mr. Francesco\n",
            "0 Christmann, Mr. Emil\n",
            "0 Andreasson, Mr. Paul Edvin\n",
            "0 Chaffee, Mr. Herbert Fuller\n",
            "0 Dean, Mr. Bertram Frank\n",
            "0 Coxon, Mr. Daniel\n",
            "0 Shorney, Mr. Charles Joseph\n",
            "0 Goldschmidt, Mr. George B\n",
            "0 Greenfield, Mr. William Bertram\n",
            "1 Doling, Mrs. John T (Ada Julia Bone)\n",
            "0 Kantor, Mr. Sinai\n",
            "2 Petranec, Miss. Matilda\n",
            "0 Petroff, Mr. Pastcho (\"Pentcho\")\n",
            "0 White, Mr. Richard Frasar\n",
            "0 Johansson, Mr. Gustaf Joel\n",
            "0 Gustafsson, Mr. Anders Vilhelm\n",
            "0 Mionoff, Mr. Stoytcho\n",
            "2 Salkjelsvik, Miss. Anna Kristine\n",
            "0 Moss, Mr. Albert Johan\n",
            "0 Rekic, Mr. Tido\n",
            "2 Moran, Miss. Bertha\n",
            "0 Porter, Mr. Walter Chamberlain\n",
            "2 Zabour, Miss. Hileni\n",
            "0 Barton, Mr. David John\n",
            "2 Jussila, Miss. Katriina\n",
            "2 Attalah, Miss. Malake\n",
            "0 Pekoniemi, Mr. Edvard\n",
            "0 Connors, Mr. Patrick\n",
            "0 Turpin, Mr. William John Robert\n",
            "0 Baxter, Mr. Quigg Edmond\n",
            "2 Andersson, Miss. Ellis Anna Maria\n",
            "0 Hickman, Mr. Stanley George\n",
            "0 Moore, Mr. Leonard Charles\n",
            "0 Nasser, Mr. Nicholas\n",
            "2 Webber, Miss. Susan\n",
            "0 White, Mr. Percival Wayland\n",
            "3 Nicola-Yarred, Master. Elias\n",
            "0 McMahon, Mr. Martin\n",
            "0 Madsen, Mr. Fridtjof Arne\n",
            "2 Peter, Miss. Anna\n",
            "0 Ekstrom, Mr. Johan\n",
            "0 Drazenoic, Mr. Jozef\n",
            "0 Coelho, Mr. Domingos Fernandeo\n",
            "1 Robins, Mrs. Alexander A (Grace Charity Laury)\n",
            "1 Weisz, Mrs. Leopold (Mathilde Francoise Pede)\n",
            "0 Sobey, Mr. Samuel James Hayden\n",
            "0 Richard, Mr. Emile\n",
            "2 Newsom, Miss. Helen Monypeny\n",
            "0 Futrelle, Mr. Jacques Heath\n",
            "0 Osen, Mr. Olaf Elon\n",
            "0 Giglio, Mr. Victor\n",
            "1 Boulos, Mrs. Joseph (Sultana)\n",
            "2 Nysten, Miss. Anna Sofia\n",
            "1 Hakkarainen, Mrs. Pekka Pietari (Elin Matilda Dolck)\n",
            "0 Burke, Mr. Jeremiah\n",
            "0 Andrew, Mr. Edgardo Samuel\n",
            "0 Nicholls, Mr. Joseph Charles\n",
            "0 Andersson, Mr. August Edvard (\"Wennerstrom\")\n",
            "2 Ford, Miss. Robina Maggie \"Ruby\"\n",
            "0 Navratil, Mr. Michel (\"Louis M Hoffman\")\n",
            "5 Byles, Rev. Thomas Roussel Davids\n",
            "5 Bateman, Rev. Robert James\n",
            "1 Pears, Mrs. Thomas (Edith Wearne)\n",
            "0 Meo, Mr. Alfonzo\n",
            "0 van Billiard, Mr. Austin Blyler\n",
            "0 Olsen, Mr. Ole Martin\n",
            "0 Williams, Mr. Charles Duane\n",
            "2 Gilnagh, Miss. Katherine \"Katie\"\n",
            "0 Corn, Mr. Harry\n",
            "0 Smiljanic, Mr. Mile\n",
            "3 Sage, Master. Thomas Henry\n",
            "0 Cribb, Mr. John Hatfield\n",
            "1 Watt, Mrs. James (Elizabeth \"Bessie\" Inglis Milne)\n",
            "0 Bengtsson, Mr. John Viktor\n",
            "0 Calic, Mr. Jovo\n",
            "3 Panula, Master. Eino Viljami\n",
            "3 Goldsmith, Master. Frank John William \"Frankie\"\n",
            "1 Chibnall, Mrs. (Edith Martha Bowerman)\n",
            "1 Skoog, Mrs. William (Anna Bernhardina Karlsson)\n",
            "0 Baumann, Mr. John D\n",
            "0 Ling, Mr. Lee\n",
            "0 Van der hoef, Mr. Wyckoff\n",
            "3 Rice, Master. Arthur\n",
            "2 Johnson, Miss. Eleanor Ileen\n",
            "0 Sivola, Mr. Antti Wilhelm\n",
            "0 Smith, Mr. James Clinch\n",
            "0 Klasen, Mr. Klas Albin\n",
            "3 Lefebre, Master. Henry Forbes\n",
            "2 Isham, Miss. Ann Elizabeth\n",
            "0 Hale, Mr. Reginald\n",
            "0 Leonard, Mr. Lionel\n",
            "2 Sage, Miss. Constance Gladys\n",
            "0 Pernot, Mr. Rene\n",
            "3 Asplund, Master. Clarence Gustaf Hugo\n",
            "3 Becker, Master. Richard F\n",
            "2 Kink-Heilmann, Miss. Luise Gretchen\n",
            "0 Rood, Mr. Hugh Roscoe\n",
            "1 O'Brien, Mrs. Thomas (Johanna \"Hannah\" Godfrey)\n",
            "0 Romaine, Mr. Charles Hallace (\"Mr C Rolmane\")\n",
            "0 Bourke, Mr. John\n",
            "0 Turcin, Mr. Stjepan\n",
            "1 Pinsky, Mrs. (Rosa)\n",
            "0 Carbines, Mr. William\n",
            "2 Andersen-Jensen, Miss. Carla Christine Nielsine\n",
            "3 Navratil, Master. Michel M\n",
            "1 Brown, Mrs. James Joseph (Margaret Tobin)\n",
            "2 Lurette, Miss. Elise\n",
            "0 Mernagh, Mr. Robert\n",
            "0 Olsen, Mr. Karl Siegwart Andreas\n",
            "2 Madigan, Miss. Margaret \"Maggie\"\n",
            "2 Yrois, Miss. Henriette (\"Mrs Harbeck\")\n",
            "0 Vande Walle, Mr. Nestor Cyriel\n",
            "0 Sage, Mr. Frederick\n",
            "0 Johanson, Mr. Jakob Alfred\n",
            "0 Youseff, Mr. Gerious\n",
            "0 Cohen, Mr. Gurshon \"Gus\"\n",
            "2 Strom, Miss. Telma Matilda\n",
            "0 Backstrom, Mr. Karl Alfred\n",
            "0 Albimona, Mr. Nassef Cassem\n",
            "2 Carr, Miss. Helen \"Ellen\"\n",
            "0 Blank, Mr. Henry\n",
            "0 Ali, Mr. Ahmed\n",
            "2 Cameron, Miss. Clear Annie\n",
            "0 Perkin, Mr. John Henry\n",
            "0 Givard, Mr. Hans Kristensen\n",
            "0 Kiernan, Mr. Philip\n",
            "2 Newell, Miss. Madeleine\n",
            "2 Honkanen, Miss. Eliina\n",
            "0 Jacobsohn, Mr. Sidney Samuel\n",
            "2 Bazzani, Miss. Albina\n",
            "0 Harris, Mr. Walter\n",
            "0 Sunderland, Mr. Victor Francis\n",
            "0 Bracken, Mr. James H\n",
            "0 Green, Mr. George Henry\n",
            "0 Nenkoff, Mr. Christo\n",
            "0 Hoyt, Mr. Frederick Maxfield\n",
            "0 Berglund, Mr. Karl Ivar Sven\n",
            "0 Mellors, Mr. William John\n",
            "0 Lovell, Mr. John Hall (\"Henry\")\n",
            "0 Fahlstrom, Mr. Arne Jonas\n",
            "2 Lefebre, Miss. Mathilde\n",
            "1 Harris, Mrs. Henry Birkhardt (Irene Wallach)\n",
            "0 Larsson, Mr. Bengt Edvin\n",
            "0 Sjostedt, Mr. Ernst Adolf\n",
            "2 Asplund, Miss. Lillian Gertrud\n",
            "0 Leyson, Mr. Robert William Norman\n",
            "2 Harknett, Miss. Alice Phoebe\n",
            "0 Hold, Mr. Stephen\n",
            "2 Collyer, Miss. Marjorie \"Lottie\"\n",
            "0 Pengelly, Mr. Frederick William\n",
            "0 Hunt, Mr. George Henry\n",
            "2 Zabour, Miss. Thamine\n",
            "2 Murphy, Miss. Katherine \"Kate\"\n",
            "0 Coleridge, Mr. Reginald Charles\n",
            "0 Maenpaa, Mr. Matti Alexanteri\n",
            "0 Attalah, Mr. Sleiman\n",
            "4 Minahan, Dr. William Edward\n",
            "2 Lindahl, Miss. Agda Thorilda Viktoria\n",
            "1 Hamalainen, Mrs. William (Anna)\n",
            "0 Beckwith, Mr. Richard Leonard\n",
            "5 Carter, Rev. Ernest Courtenay\n",
            "0 Reed, Mr. James George\n",
            "1 Strom, Mrs. Wilhelm (Elna Matilda Persson)\n",
            "0 Stead, Mr. William Thomas\n",
            "0 Lobb, Mr. William Arthur\n",
            "1 Rosblom, Mrs. Viktor (Helena Wilhelmina)\n",
            "1 Touma, Mrs. Darwis (Hanne Youssef Razi)\n",
            "1 Thorne, Mrs. Gertrude Maybelle\n",
            "2 Cherry, Miss. Gladys\n",
            "2 Ward, Miss. Anna\n",
            "1 Parrish, Mrs. (Lutie Davis)\n",
            "0 Smith, Mr. Thomas\n",
            "3 Asplund, Master. Edvin Rojj Felix\n",
            "0 Taussig, Mr. Emil\n",
            "0 Harrison, Mr. William\n",
            "2 Henry, Miss. Delia\n",
            "0 Reeves, Mr. David\n",
            "0 Panula, Mr. Ernesti Arvid\n",
            "0 Persson, Mr. Ernst Ulrik\n",
            "1 Graham, Mrs. William Thompson (Edith Junkins)\n",
            "2 Bissette, Miss. Amelia\n",
            "0 Cairns, Mr. Alexander\n",
            "0 Tornquist, Mr. William Henry\n",
            "1 Mellinger, Mrs. (Elizabeth Anne Maidment)\n",
            "0 Natsch, Mr. Charles H\n",
            "2 Healy, Miss. Hanora \"Nora\"\n",
            "2 Andrews, Miss. Kornelia Theodosia\n",
            "2 Lindblom, Miss. Augusta Charlotta\n",
            "0 Parkes, Mr. Francis \"Frank\"\n",
            "3 Rice, Master. Eric\n",
            "1 Abbott, Mrs. Stanton (Rosa Hunt)\n",
            "0 Duane, Mr. Frank\n",
            "0 Olsson, Mr. Nils Johan Goransson\n",
            "0 de Pelsmaeker, Mr. Alfons\n",
            "0 Dorking, Mr. Edward Arthur\n",
            "0 Smith, Mr. Richard William\n",
            "0 Stankovic, Mr. Ivan\n",
            "0 de Mulder, Mr. Theodore\n",
            "0 Naidenoff, Mr. Penko\n",
            "0 Hosono, Mr. Masabumi\n",
            "2 Connolly, Miss. Kate\n",
            "2 Barber, Miss. Ellen \"Nellie\"\n",
            "1 Bishop, Mrs. Dickinson H (Helen Walton)\n",
            "0 Levy, Mr. Rene Jacques\n",
            "2 Haas, Miss. Aloisia\n",
            "0 Mineff, Mr. Ivan\n",
            "0 Lewy, Mr. Ervin G\n",
            "0 Hanna, Mr. Mansour\n",
            "2 Allison, Miss. Helen Loraine\n",
            "0 Saalfeld, Mr. Adolphe\n",
            "1 Baxter, Mrs. James (Helene DeLaudeniere Chaput)\n",
            "2 Kelly, Miss. Anna Katherine \"Annie Kate\"\n",
            "0 McCoy, Mr. Bernard\n",
            "0 Johnson, Mr. William Cahoone Jr\n",
            "2 Keane, Miss. Nora A\n",
            "0 Williams, Mr. Howard Hugh \"Harry\"\n",
            "3 Allison, Master. Hudson Trevor\n",
            "2 Fleming, Miss. Margaret\n",
            "1 Penasco y Castellana, Mrs. Victor de Satode (Maria Josefa Perez de Soto y Vallejo)\n",
            "0 Abelson, Mr. Samuel\n",
            "2 Francatelli, Miss. Laura Mabel\n",
            "2 Hays, Miss. Margaret Bechstein\n",
            "2 Ryerson, Miss. Emily Borie\n",
            "1 Lahtinen, Mrs. William (Anna Sylfven)\n",
            "0 Hendekovic, Mr. Ignjac\n",
            "0 Hart, Mr. Benjamin\n",
            "2 Nilsson, Miss. Helmina Josefina\n",
            "1 Kantor, Mrs. Sinai (Miriam Sternin)\n",
            "4 Moraweck, Dr. Ernest\n",
            "2 Wick, Miss. Mary Natalie\n",
            "1 Spedden, Mrs. Frederic Oakley (Margaretta Corning Stone)\n",
            "0 Dennis, Mr. Samuel\n",
            "0 Danoff, Mr. Yoto\n",
            "2 Slayter, Miss. Hilda Mary\n",
            "1 Caldwell, Mrs. Albert Francis (Sylvia Mae Harbaugh)\n",
            "0 Sage, Mr. George John Jr\n",
            "2 Young, Miss. Marie Grice\n",
            "0 Nysveen, Mr. Johan Hansen\n",
            "1 Ball, Mrs. (Ada E Hall)\n",
            "1 Goldsmith, Mrs. Frank John (Emily Alice Brown)\n",
            "2 Hippach, Miss. Jean Gertrude\n",
            "2 McCoy, Miss. Agnes\n",
            "0 Partner, Mr. Austen\n",
            "0 Graham, Mr. George Edward\n",
            "0 Vander Planke, Mr. Leo Edmondus\n",
            "1 Frauenthal, Mrs. Henry William (Clara Heinsheimer)\n",
            "0 Denkoff, Mr. Mitto\n",
            "0 Pears, Mr. Thomas Clinton\n",
            "2 Burns, Miss. Elizabeth Margaret\n",
            "0 Dahl, Mr. Karl Edwart\n",
            "0 Blackwell, Mr. Stephen Weart\n",
            "3 Navratil, Master. Edmond Roger\n",
            "2 Fortune, Miss. Alice Elizabeth\n",
            "0 Collander, Mr. Erik Gustaf\n",
            "0 Sedgwick, Mr. Charles Frederick Waddington\n",
            "0 Fox, Mr. Stanley Hubert\n",
            "2 Brown, Miss. Amelia \"Mildred\"\n",
            "2 Smith, Miss. Marion Elsie\n",
            "1 Davison, Mrs. Thomas Henry (Mary E Finck)\n",
            "3 Coutts, Master. William Loch \"William\"\n",
            "0 Dimic, Mr. Jovan\n",
            "0 Odahl, Mr. Nils Martin\n",
            "0 Williams-Lambert, Mr. Fletcher Fellows\n",
            "0 Elias, Mr. Tannous\n",
            "0 Arnold-Franchi, Mr. Josef\n",
            "0 Yousif, Mr. Wazli\n",
            "0 Vanden Steen, Mr. Leo Peter\n",
            "2 Bowerman, Miss. Elsie Edith\n",
            "2 Funk, Miss. Annie Clemmer\n",
            "2 McGovern, Miss. Mary\n",
            "2 Mockler, Miss. Helen Mary \"Ellie\"\n",
            "0 Skoog, Mr. Wilhelm\n",
            "0 del Carlo, Mr. Sebastiano\n",
            "1 Barbara, Mrs. (Catherine David)\n",
            "0 Asim, Mr. Adola\n",
            "0 O'Brien, Mr. Thomas\n",
            "0 Adahl, Mr. Mauritz Nils Martin\n",
            "1 Warren, Mrs. Frank Manley (Anna Sophia Atkinson)\n",
            "1 Moussa, Mrs. (Mantoura Boulos)\n",
            "2 Jermyn, Miss. Annie\n",
            "5 Aubart, Mme. Leontine Pauline\n",
            "0 Harder, Mr. George Achilles\n",
            "0 Wiklund, Mr. Jakob Alfred\n",
            "0 Beavan, Mr. William Thomas\n",
            "0 Ringhini, Mr. Sante\n",
            "2 Palsson, Miss. Stina Viola\n",
            "1 Meyer, Mrs. Edgar Joseph (Leila Saks)\n",
            "2 Landergren, Miss. Aurora Adelia\n",
            "0 Widener, Mr. Harry Elkins\n",
            "0 Betros, Mr. Tannous\n",
            "0 Gustafsson, Mr. Karl Gideon\n",
            "2 Bidois, Miss. Rosalie\n",
            "2 Nakid, Miss. Maria (\"Mary\")\n",
            "0 Tikkanen, Mr. Juho\n",
            "1 Holverson, Mrs. Alexander Oskar (Mary Aline Towner)\n",
            "0 Plotcharsky, Mr. Vasil\n",
            "0 Davies, Mr. Charles Henry\n",
            "3 Goodwin, Master. Sidney Leonard\n",
            "2 Buss, Miss. Kate\n",
            "0 Sadlier, Mr. Matthew\n",
            "2 Lehmann, Miss. Bertha\n",
            "0 Carter, Mr. William Ernest\n",
            "0 Jansson, Mr. Carl Olof\n",
            "0 Gustafsson, Mr. Johan Birger\n",
            "2 Newell, Miss. Marjorie\n",
            "1 Sandstrom, Mrs. Hjalmar (Agnes Charlotta Bengtsson)\n",
            "0 Johansson, Mr. Erik\n",
            "2 Olsson, Miss. Elina\n",
            "0 McKane, Mr. Peter David\n",
            "4 Pain, Dr. Alfred\n",
            "1 Trout, Mrs. William H (Jessie L)\n",
            "0 Niskanen, Mr. Juha\n",
            "0 Adams, Mr. John\n",
            "2 Jussila, Miss. Mari Aina\n",
            "0 Hakkarainen, Mr. Pekka Pietari\n",
            "2 Oreskovic, Miss. Marija\n",
            "0 Gale, Mr. Shadrach\n",
            "0 Widegren, Mr. Carl/Charles Peter\n",
            "3 Richards, Master. William Rowe\n",
            "0 Birkeland, Mr. Hans Martin Monsen\n",
            "2 Lefebre, Miss. Ida\n",
            "0 Sdycoff, Mr. Todor\n",
            "0 Hart, Mr. Henry\n",
            "2 Minahan, Miss. Daisy E\n",
            "0 Cunningham, Mr. Alfred Fleming\n",
            "0 Sundman, Mr. Johan Julian\n",
            "1 Meek, Mrs. Thomas (Annie Louise Rowley)\n",
            "1 Drew, Mrs. James Vivian (Lulu Thorne Christian)\n",
            "2 Silven, Miss. Lyyli Karoliina\n",
            "0 Matthews, Mr. William John\n",
            "2 Van Impe, Miss. Catharina\n",
            "0 Gheorgheff, Mr. Stanio\n",
            "0 Charters, Mr. David\n",
            "0 Zimmerman, Mr. Leo\n",
            "1 Danbom, Mrs. Ernst Gilbert (Anna Sigrid Maria Brogren)\n",
            "0 Rosblom, Mr. Viktor Richard\n",
            "0 Wiseman, Mr. Phillippe\n",
            "1 Clarke, Mrs. Charles V (Ada Maria Winfield)\n",
            "2 Phillips, Miss. Kate Florence (\"Mrs Kate Louise Phillips Marshall\")\n",
            "0 Flynn, Mr. James\n",
            "0 Pickard, Mr. Berk (Berk Trembisky)\n",
            "0 Bjornstrom-Steffansson, Mr. Mauritz Hakan\n",
            "1 Thorneycroft, Mrs. Percival (Florence Kate White)\n",
            "1 Louch, Mrs. Charles Alexander (Alice Adelaide Slow)\n",
            "0 Kallio, Mr. Nikolai Erland\n",
            "0 Silvey, Mr. William Baird\n",
            "2 Carter, Miss. Lucile Polk\n",
            "2 Ford, Miss. Doolina Margaret \"Daisy\"\n",
            "1 Richards, Mrs. Sidney (Emily Hocking)\n",
            "0 Fortune, Mr. Mark\n",
            "0 Kvillner, Mr. Johan Henrik Johannesson\n",
            "1 Hart, Mrs. Benjamin (Esther Ada Bloomfield)\n",
            "0 Hampe, Mr. Leon\n",
            "0 Petterson, Mr. Johan Emil\n",
            "5 Reynaldo, Ms. Encarnacion\n",
            "0 Johannesen-Bratthammer, Mr. Bernt\n",
            "3 Dodge, Master. Washington\n",
            "2 Mellinger, Miss. Madeleine Violet\n",
            "0 Seward, Mr. Frederic Kimber\n",
            "2 Baclini, Miss. Marie Catherine\n",
            "5 Peuchen, Major. Arthur Godfrey\n",
            "0 West, Mr. Edwy Arthur\n",
            "0 Hagland, Mr. Ingvald Olai Olsen\n",
            "0 Foreman, Mr. Benjamin Laventall\n",
            "0 Goldenberg, Mr. Samuel L\n",
            "0 Peduzzi, Mr. Joseph\n",
            "0 Jalsevac, Mr. Ivan\n",
            "0 Millet, Mr. Francis Davis\n",
            "1 Kenyon, Mrs. Frederick R (Marion)\n",
            "2 Toomey, Miss. Ellen\n",
            "0 O'Connor, Mr. Maurice\n",
            "0 Anderson, Mr. Harry\n",
            "0 Morley, Mr. William\n",
            "0 Gee, Mr. Arthur H\n",
            "0 Milling, Mr. Jacob Christian\n",
            "0 Maisner, Mr. Simon\n",
            "0 Goncalves, Mr. Manuel Estanslas\n",
            "0 Campbell, Mr. William\n",
            "0 Smart, Mr. John Montgomery\n",
            "0 Scanlan, Mr. James\n",
            "2 Baclini, Miss. Helene Barbara\n",
            "0 Keefe, Mr. Arthur\n",
            "0 Cacic, Mr. Luka\n",
            "1 West, Mrs. Edwy Arthur (Ada Mary Worth)\n",
            "1 Jerwan, Mrs. Amin S (Marie Marthe Thuillard)\n",
            "2 Strandberg, Miss. Ida Sofia\n",
            "0 Clifford, Mr. George Quincy\n",
            "0 Renouf, Mr. Peter Henry\n",
            "0 Braund, Mr. Lewis Richard\n",
            "0 Karlsson, Mr. Nils August\n",
            "2 Hirvonen, Miss. Hildur E\n",
            "3 Goodwin, Master. Harold Victor\n",
            "0 Frost, Mr. Anthony Wood \"Archie\"\n",
            "0 Rouse, Mr. Richard Henry\n",
            "1 Turkula, Mrs. (Hedwig)\n",
            "0 Bishop, Mr. Dickinson H\n",
            "2 Lefebre, Miss. Jeannie\n",
            "1 Hoyt, Mrs. Frederick Maxfield (Jane Anne Forby)\n",
            "0 Kent, Mr. Edward Austin\n",
            "0 Somerton, Mr. Francis William\n",
            "3 Coutts, Master. Eden Leslie \"Neville\"\n",
            "0 Hagland, Mr. Konrad Mathias Reiersen\n",
            "0 Windelov, Mr. Einar\n",
            "0 Molson, Mr. Harry Markland\n",
            "0 Artagaveytia, Mr. Ramon\n",
            "0 Stanley, Mr. Edward Roland\n",
            "0 Yousseff, Mr. Gerious\n",
            "2 Eustis, Miss. Elizabeth Mussey\n",
            "0 Shellard, Mr. Frederick William\n",
            "1 Allison, Mrs. Hudson J C (Bessie Waldo Daniels)\n",
            "0 Svensson, Mr. Olof\n",
            "0 Calic, Mr. Petar\n",
            "2 Canavan, Miss. Mary\n",
            "2 O'Sullivan, Miss. Bridget Mary\n",
            "2 Laitinen, Miss. Kristina Sofia\n",
            "2 Maioni, Miss. Roberta\n",
            "0 Penasco y Castellana, Mr. Victor de Satode\n",
            "1 Quick, Mrs. Frederick Charles (Jane Richards)\n",
            "0 Bradley, Mr. George (\"George Arthur Brayton\")\n",
            "0 Olsen, Mr. Henry Margido\n",
            "0 Lang, Mr. Fang\n",
            "0 Daly, Mr. Eugene Patrick\n",
            "0 Webber, Mr. James\n",
            "0 McGough, Mr. James Robert\n",
            "1 Rothschild, Mrs. Martin (Elizabeth L. Barrett)\n",
            "0 Coleff, Mr. Satio\n",
            "0 Walker, Mr. William Anderson\n",
            "1 Lemore, Mrs. (Amelia Milley)\n",
            "0 Ryan, Mr. Patrick\n",
            "1 Angle, Mrs. William A (Florence \"Mary\" Agnes Hughes)\n",
            "0 Pavlovic, Mr. Stefo\n",
            "2 Perreault, Miss. Anne\n",
            "0 Vovk, Mr. Janko\n",
            "0 Lahoud, Mr. Sarkis\n",
            "1 Hippach, Mrs. Louis Albert (Ida Sophia Fischer)\n",
            "0 Kassem, Mr. Fared\n",
            "0 Farrell, Mr. James\n",
            "2 Ridsdale, Miss. Lucy\n",
            "0 Farthing, Mr. John\n",
            "0 Salonen, Mr. Johan Werner\n",
            "0 Hocking, Mr. Richard George\n",
            "2 Quick, Miss. Phyllis May\n",
            "0 Toufik, Mr. Nakli\n",
            "0 Elias, Mr. Joseph Jr\n",
            "1 Peter, Mrs. Catherine (Catherine Rizk)\n",
            "2 Cacic, Miss. Marija\n",
            "2 Hart, Miss. Eva Miriam\n",
            "5 Butt, Major. Archibald Willingham\n",
            "2 LeRoy, Miss. Bertha\n",
            "0 Risien, Mr. Samuel Beard\n",
            "2 Frolicher, Miss. Hedwig Margaritha\n",
            "2 Crosby, Miss. Harriet R\n",
            "2 Andersson, Miss. Ingeborg Constanzia\n",
            "2 Andersson, Miss. Sigrid Elisabeth\n",
            "0 Beane, Mr. Edward\n",
            "0 Douglas, Mr. Walter Donald\n",
            "0 Nicholson, Mr. Arthur Ernest\n",
            "1 Beane, Mrs. Edward (Ethel Clarke)\n",
            "0 Padro y Manent, Mr. Julian\n",
            "0 Goldsmith, Mr. Frank John\n",
            "3 Davies, Master. John Morgan Jr\n",
            "0 Thayer, Mr. John Borland Jr\n",
            "0 Sharp, Mr. Percival James R\n",
            "0 O'Brien, Mr. Timothy\n",
            "0 Leeni, Mr. Fahim (\"Philip Zenni\")\n",
            "2 Ohman, Miss. Velin\n",
            "0 Wright, Mr. George\n",
            "5 Duff Gordon, Lady. (Lucille Christiana Sutherland) (\"Mrs Morgan\")\n",
            "0 Robbins, Mr. Victor\n",
            "1 Taussig, Mrs. Emil (Tillie Mandelbaum)\n",
            "1 de Messemaeker, Mrs. Guillaume Joseph (Emma)\n",
            "0 Morrow, Mr. Thomas Rowan\n",
            "0 Sivic, Mr. Husein\n",
            "0 Norman, Mr. Robert Douglas\n",
            "0 Simmons, Mr. John\n",
            "2 Meanwell, Miss. (Marion Ogden)\n",
            "0 Davies, Mr. Alfred J\n",
            "0 Stoytcheff, Mr. Ilia\n",
            "1 Palsson, Mrs. Nils (Alma Cornelia Berglund)\n",
            "0 Doharr, Mr. Tannous\n",
            "0 Jonsson, Mr. Carl\n",
            "0 Harris, Mr. George\n",
            "1 Appleton, Mrs. Edward Dale (Charlotte Lamson)\n",
            "0 Flynn, Mr. John Irwin (\"Irving\")\n",
            "2 Kelly, Miss. Mary\n",
            "0 Rush, Mr. Alfred George John\n",
            "0 Patchett, Mr. George\n",
            "2 Garside, Miss. Ethel\n",
            "1 Silvey, Mrs. William Baird (Alice Munger)\n",
            "1 Caram, Mrs. Joseph (Maria Elias)\n",
            "0 Jussila, Mr. Eiriik\n",
            "2 Christy, Miss. Julie Rachel\n",
            "1 Thayer, Mrs. John Borland (Marian Longstreth Morris)\n",
            "0 Downton, Mr. William James\n",
            "0 Ross, Mr. John Hugo\n",
            "0 Paulner, Mr. Uscher\n",
            "2 Taussig, Miss. Ruth\n",
            "0 Jarvis, Mr. John Denzil\n",
            "0 Frolicher-Stehli, Mr. Maxmillian\n",
            "0 Gilinski, Mr. Eliezer\n",
            "0 Murdlin, Mr. Joseph\n",
            "0 Rintamaki, Mr. Matti\n",
            "1 Stephenson, Mrs. Walter Bertram (Martha Eustis)\n",
            "0 Elsbury, Mr. William James\n",
            "2 Bourke, Miss. Mary\n",
            "0 Chapman, Mr. John Henry\n",
            "0 Van Impe, Mr. Jean Baptiste\n",
            "2 Leitch, Miss. Jessie Wills\n",
            "0 Johnson, Mr. Alfred\n",
            "0 Boulos, Mr. Hanna\n",
            "5 Duff Gordon, Sir. Cosmo Edmund (\"Mr Morgan\")\n",
            "1 Jacobsohn, Mrs. Sidney Samuel (Amy Frances Christy)\n",
            "0 Slabenoff, Mr. Petco\n",
            "0 Harrington, Mr. Charles H\n",
            "0 Torber, Mr. Ernst William\n",
            "0 Homer, Mr. Harry (\"Mr E Haven\")\n",
            "0 Lindell, Mr. Edvard Bengtsson\n",
            "0 Karaic, Mr. Milan\n",
            "0 Daniel, Mr. Robert Williams\n",
            "1 Laroche, Mrs. Joseph (Juliette Marie Louise Lafargue)\n",
            "2 Shutes, Miss. Elizabeth W\n",
            "1 Andersson, Mrs. Anders Johan (Alfrida Konstantia Brogren)\n",
            "0 Jardin, Mr. Jose Neto\n",
            "2 Murphy, Miss. Margaret Jane\n",
            "0 Horgan, Mr. John\n",
            "0 Brocklebank, Mr. William Alfred\n",
            "2 Herman, Miss. Alice\n",
            "0 Danbom, Mr. Ernst Gilbert\n",
            "1 Lobb, Mrs. William Arthur (Cordelia K Stanlick)\n",
            "2 Becker, Miss. Marion Louise\n",
            "0 Gavey, Mr. Lawrence\n",
            "0 Yasbeck, Mr. Antoni\n",
            "0 Kimball, Mr. Edwin Nelson Jr\n",
            "0 Nakid, Mr. Sahid\n",
            "0 Hansen, Mr. Henry Damsgaard\n",
            "0 Bowen, Mr. David John \"Dai\"\n",
            "0 Sutton, Mr. Frederick\n",
            "5 Kirkland, Rev. Charles Leonard\n",
            "2 Longley, Miss. Gretchen Fiske\n",
            "0 Bostandyeff, Mr. Guentcho\n",
            "0 O'Connell, Mr. Patrick D\n",
            "0 Barkworth, Mr. Algernon Henry Wilson\n",
            "0 Lundahl, Mr. Johan Svensson\n",
            "4 Stahelin-Maeglin, Dr. Max\n",
            "0 Parr, Mr. William Henry Marsh\n",
            "2 Skoog, Miss. Mabel\n",
            "2 Davis, Miss. Mary\n",
            "0 Leinonen, Mr. Antti Gustaf\n",
            "0 Collyer, Mr. Harvey\n",
            "1 Panula, Mrs. Juha (Maria Emilia Ojala)\n",
            "0 Thorneycroft, Mr. Percival\n",
            "0 Jensen, Mr. Hans Peder\n",
            "5 Sagesser, Mlle. Emma\n",
            "2 Skoog, Miss. Margit Elizabeth\n",
            "0 Foo, Mr. Choong\n",
            "2 Baclini, Miss. Eugenie\n",
            "0 Harper, Mr. Henry Sleeper\n",
            "0 Cor, Mr. Liudevit\n",
            "5 Simonius-Blumer, Col. Oberst Alfons\n",
            "0 Willey, Mr. Edward\n",
            "2 Stanley, Miss. Amy Zillah Elsie\n",
            "0 Mitkoff, Mr. Mito\n",
            "2 Doling, Miss. Elsie\n",
            "0 Kalvik, Mr. Johannes Halvorsen\n",
            "2 O'Leary, Miss. Hanora \"Norah\"\n",
            "2 Hegarty, Miss. Hanora \"Nora\"\n",
            "0 Hickman, Mr. Leonard Mark\n",
            "0 Radeff, Mr. Alexander\n",
            "1 Bourke, Mrs. John (Catherine)\n",
            "0 Eitemiller, Mr. George Floyd\n",
            "0 Newell, Mr. Arthur Webster\n",
            "4 Frauenthal, Dr. Henry William\n",
            "0 Badt, Mr. Mohamed\n",
            "0 Colley, Mr. Edward Pomeroy\n",
            "0 Coleff, Mr. Peju\n",
            "0 Lindqvist, Mr. Eino William\n",
            "0 Hickman, Mr. Lewis\n",
            "0 Butler, Mr. Reginald Fenton\n",
            "0 Rommetvedt, Mr. Knud Paust\n",
            "0 Cook, Mr. Jacob\n",
            "1 Taylor, Mrs. Elmer Zebley (Juliet Cummins Wright)\n",
            "1 Brown, Mrs. Thomas William Solomon (Elizabeth Catherine Ford)\n",
            "0 Davidson, Mr. Thornton\n",
            "0 Mitchell, Mr. Henry Michael\n",
            "0 Wilhelms, Mr. Charles\n",
            "0 Watson, Mr. Ennis Hastings\n",
            "0 Edvardsson, Mr. Gustaf Hjalmar\n",
            "0 Sawyer, Mr. Frederick Charles\n",
            "2 Turja, Miss. Anna Sofia\n",
            "1 Goodwin, Mrs. Frederick (Augusta Tyler)\n",
            "0 Cardeza, Mr. Thomas Drake Martinez\n",
            "2 Peters, Miss. Katie\n",
            "0 Hassab, Mr. Hammad\n",
            "0 Olsvigen, Mr. Thor Anderson\n",
            "0 Goodwin, Mr. Charles Edward\n",
            "0 Brown, Mr. Thomas William Solomon\n",
            "0 Laroche, Mr. Joseph Philippe Lemercier\n",
            "0 Panula, Mr. Jaako Arnold\n",
            "0 Dakic, Mr. Branko\n",
            "0 Fischer, Mr. Eberhard Thelander\n",
            "2 Madill, Miss. Georgette Alexandra\n",
            "0 Dick, Mr. Albert Adrian\n",
            "2 Karun, Miss. Manca\n",
            "0 Lam, Mr. Ali\n",
            "0 Saad, Mr. Khalil\n",
            "5 Weir, Col. John\n",
            "0 Chapman, Mr. Charles Henry\n",
            "0 Kelly, Mr. James\n",
            "2 Mullens, Miss. Katherine \"Katie\"\n",
            "0 Thayer, Mr. John Borland\n",
            "0 Humblen, Mr. Adolf Mathias Nicolai Olsen\n",
            "1 Astor, Mrs. John Jacob (Madeleine Talmadge Force)\n",
            "0 Silverthorne, Mr. Spencer Victor\n",
            "2 Barbara, Miss. Saiide\n",
            "0 Gallagher, Mr. Martin\n",
            "0 Hansen, Mr. Henrik Juul\n",
            "0 Morley, Mr. Henry Samuel (\"Mr Henry Marshall\")\n",
            "1 Kelly, Mrs. Florence \"Fannie\"\n",
            "0 Calderhead, Mr. Edward Pennington\n",
            "2 Cleaver, Miss. Alice\n",
            "3 Moubarek, Master. Halim Gonios (\"William George\")\n",
            "5 Mayne, Mlle. Berthe Antonine (\"Mrs de Villiers\")\n",
            "0 Klaber, Mr. Herman\n",
            "0 Taylor, Mr. Elmer Zebley\n",
            "0 Larsson, Mr. August Viktor\n",
            "0 Greenberg, Mr. Samuel\n",
            "0 Soholt, Mr. Peter Andreas Lauritz Andersen\n",
            "2 Endres, Miss. Caroline Louise\n",
            "2 Troutt, Miss. Edwina Celia \"Winnie\"\n",
            "0 McEvoy, Mr. Michael\n",
            "0 Johnson, Mr. Malkolm Joackim\n",
            "2 Harper, Miss. Annie Jessie \"Nina\"\n",
            "0 Jensen, Mr. Svend Lauritz\n",
            "0 Gillespie, Mr. William Henry\n",
            "0 Hodges, Mr. Henry Price\n",
            "0 Chambers, Mr. Norman Campbell\n",
            "0 Oreskovic, Mr. Luka\n",
            "1 Renouf, Mrs. Peter Henry (Lillian Jefferys)\n",
            "2 Mannion, Miss. Margareth\n",
            "0 Bryhl, Mr. Kurt Arnold Gottfrid\n",
            "2 Ilmakangas, Miss. Pieta Sofia\n",
            "2 Allen, Miss. Elisabeth Walton\n",
            "0 Hassan, Mr. Houssein G N\n",
            "0 Knight, Mr. Robert J\n",
            "0 Berriman, Mr. William John\n",
            "0 Troupiansky, Mr. Moses Aaron\n",
            "0 Williams, Mr. Leslie\n",
            "1 Ford, Mrs. Edward (Margaret Ann Watson)\n",
            "0 Lesurer, Mr. Gustave J\n",
            "0 Ivanoff, Mr. Kanio\n",
            "0 Nankoff, Mr. Minko\n",
            "0 Hawksford, Mr. Walter James\n",
            "0 Cavendish, Mr. Tyrell William\n",
            "2 Ryerson, Miss. Susan Parker \"Suzette\"\n",
            "0 McNamee, Mr. Neal\n",
            "0 Stranden, Mr. Juho\n",
            "5 Crosby, Capt. Edward Gifford\n",
            "0 Abbott, Mr. Rossmore Edward\n",
            "2 Sinkkonen, Miss. Anna\n",
            "0 Marvin, Mr. Daniel Warner\n",
            "0 Connaghton, Mr. Michael\n",
            "2 Wells, Miss. Joan\n",
            "3 Moor, Master. Meier\n",
            "0 Vande Velde, Mr. Johannes Joseph\n",
            "0 Jonkoff, Mr. Lalio\n",
            "1 Herman, Mrs. Samuel (Jane Laver)\n",
            "3 Hamalainen, Master. Viljo\n",
            "0 Carlsson, Mr. August Sigfrid\n",
            "0 Bailey, Mr. Percy Andrew\n",
            "0 Theobald, Mr. Thomas Leonard\n",
            "5 Rothes, the Countess. of (Lucy Noel Martha Dyer-Edwards)\n",
            "0 Garfirth, Mr. John\n",
            "0 Nirva, Mr. Iisakki Antino Aijo\n",
            "0 Barah, Mr. Hanna Assi\n",
            "1 Carter, Mrs. William Ernest (Lucile Polk)\n",
            "0 Eklund, Mr. Hans Linus\n",
            "1 Hogeboom, Mrs. John C (Anna Andrews)\n",
            "4 Brewe, Dr. Arthur Jackson\n",
            "2 Mangan, Miss. Mary\n",
            "0 Moran, Mr. Daniel J\n",
            "0 Gronnestad, Mr. Daniel Danielsen\n",
            "0 Lievens, Mr. Rene Aime\n",
            "0 Jensen, Mr. Niels Peder\n",
            "1 Mack, Mrs. (Mary)\n",
            "0 Elias, Mr. Dibo\n",
            "1 Hocking, Mrs. Elizabeth (Eliza Needs)\n",
            "0 Myhrman, Mr. Pehr Fabian Oliver Malkolm\n",
            "0 Tobin, Mr. Roger\n",
            "2 Emanuel, Miss. Virginia Ethel\n",
            "0 Kilgannon, Mr. Thomas J\n",
            "1 Robert, Mrs. Edward Scott (Elisabeth Walton McMillan)\n",
            "2 Ayoub, Miss. Banoura\n",
            "1 Dick, Mrs. Albert Adrian (Vera Gillespie)\n",
            "0 Long, Mr. Milton Clyde\n",
            "0 Johnston, Mr. Andrew G\n",
            "0 Ali, Mr. William\n",
            "0 Harmer, Mr. Abraham (David Lishin)\n",
            "2 Sjoblom, Miss. Anna Sofia\n",
            "3 Rice, Master. George Hugh\n",
            "3 Dean, Master. Bertram Vere\n",
            "0 Guggenheim, Mr. Benjamin\n",
            "0 Keane, Mr. Andrew \"Andy\"\n",
            "0 Gaskell, Mr. Alfred\n",
            "2 Sage, Miss. Stella Anna\n",
            "0 Hoyt, Mr. William Fisher\n",
            "0 Dantcheff, Mr. Ristiu\n",
            "0 Otter, Mr. Richard\n",
            "4 Leader, Dr. Alice (Farnham)\n",
            "1 Osman, Mrs. Mara\n",
            "0 Ibrahim Shawah, Mr. Yousseff\n",
            "1 Van Impe, Mrs. Jean Baptiste (Rosalie Paula Govaert)\n",
            "0 Ponesell, Mr. Martin\n",
            "1 Collyer, Mrs. Harvey (Charlotte Annie Tate)\n",
            "3 Carter, Master. William Thornton II\n",
            "3 Thomas, Master. Assad Alexander\n",
            "0 Hedman, Mr. Oskar Arvid\n",
            "0 Johansson, Mr. Karl Johan\n",
            "0 Andrews, Mr. Thomas Jr\n",
            "2 Pettersson, Miss. Ellen Natalia\n",
            "0 Meyer, Mr. August\n",
            "1 Chambers, Mrs. Norman Campbell (Bertha Griggs)\n",
            "0 Alexander, Mr. William\n",
            "0 Lester, Mr. James\n",
            "0 Slemen, Mr. Richard James\n",
            "2 Andersson, Miss. Ebba Iris Alfrida\n",
            "0 Tomlin, Mr. Ernest Portage\n",
            "0 Fry, Mr. Richard\n",
            "2 Heininen, Miss. Wendla Maria\n",
            "0 Mallet, Mr. Albert\n",
            "0 Holm, Mr. John Fredrik Alexander\n",
            "3 Skoog, Master. Karl Thorsten\n",
            "1 Hays, Mrs. Charles Melville (Clara Jennings Gregg)\n",
            "0 Lulic, Mr. Nikola\n",
            "5 Reuchlin, Jonkheer. John George\n",
            "1 Moor, Mrs. (Beila)\n",
            "3 Panula, Master. Urho Abraham\n",
            "0 Flynn, Mr. John\n",
            "0 Lam, Mr. Len\n",
            "3 Mallet, Master. Andre\n",
            "0 McCormack, Mr. Thomas Joseph\n",
            "1 Stone, Mrs. George Nelson (Martha Evelyn)\n",
            "1 Yasbeck, Mrs. Antoni (Selini Alexander)\n",
            "3 Richards, Master. George Sibley\n",
            "0 Saad, Mr. Amin\n",
            "0 Augustsson, Mr. Albert\n",
            "0 Allum, Mr. Owen George\n",
            "2 Compton, Miss. Sara Rebecca\n",
            "0 Pasic, Mr. Jakob\n",
            "0 Sirota, Mr. Maurice\n",
            "0 Chip, Mr. Chang\n",
            "0 Marechal, Mr. Pierre\n",
            "0 Alhomaki, Mr. Ilmari Rudolf\n",
            "0 Mudd, Mr. Thomas Charles\n",
            "2 Serepeca, Miss. Augusta\n",
            "0 Lemberopolous, Mr. Peter L\n",
            "0 Culumovic, Mr. Jeso\n",
            "0 Abbing, Mr. Anthony\n",
            "0 Sage, Mr. Douglas Bullen\n",
            "0 Markoff, Mr. Marin\n",
            "5 Harper, Rev. John\n",
            "1 Goldenberg, Mrs. Samuel L (Edwiga Grabowska)\n",
            "3 Andersson, Master. Sigvard Harald Elias\n",
            "0 Svensson, Mr. Johan\n",
            "2 Boulos, Miss. Nourelain\n",
            "2 Lines, Miss. Mary Conover\n",
            "1 Carter, Mrs. Ernest Courtenay (Lilian Hughes)\n",
            "1 Aks, Mrs. Sam (Leah Rosen)\n",
            "1 Wick, Mrs. George Dennick (Mary Hitchcock)\n",
            "0 Daly, Mr. Peter Denis \n",
            "1 Baclini, Mrs. Solomon (Latifa Qurban)\n",
            "0 Razi, Mr. Raihed\n",
            "0 Hansen, Mr. Claus Peter\n",
            "0 Giles, Mr. Frederick Edward\n",
            "1 Swift, Mrs. Frederick Joel (Margaret Welles Barron)\n",
            "2 Sage, Miss. Dorothy Edith \"Dolly\"\n",
            "0 Gill, Mr. John William\n",
            "1 Bystrom, Mrs. (Karolina)\n",
            "2 Duran y More, Miss. Asuncion\n",
            "0 Roebling, Mr. Washington Augustus II\n",
            "0 van Melkebeke, Mr. Philemon\n",
            "3 Johnson, Master. Harold Theodor\n",
            "0 Balkic, Mr. Cerin\n",
            "1 Beckwith, Mrs. Richard Leonard (Sallie Monypeny)\n",
            "0 Carlsson, Mr. Frans Olof\n",
            "0 Vander Cruyssen, Mr. Victor\n",
            "1 Abelson, Mrs. Samuel (Hannah Wizosky)\n",
            "2 Najib, Miss. Adele Kiamie \"Jane\"\n",
            "0 Gustafsson, Mr. Alfred Ossian\n",
            "0 Petroff, Mr. Nedelio\n",
            "0 Laleff, Mr. Kristo\n",
            "1 Potter, Mrs. Thomas Jr (Lily Alexenia Wilson)\n",
            "1 Shelley, Mrs. William (Imanita Parrish Hall)\n",
            "0 Markun, Mr. Johann\n",
            "2 Dahlberg, Miss. Gerda Ulrika\n",
            "0 Banfield, Mr. Frederick James\n",
            "0 Sutehall, Mr. Henry Jr\n",
            "1 Rice, Mrs. William (Margaret Norton)\n",
            "5 Montvila, Rev. Juozas\n",
            "2 Graham, Miss. Margaret Edith\n",
            "2 Johnston, Miss. Catherine Helen \"Carrie\"\n",
            "0 Behr, Mr. Karl Howell\n",
            "0 Dooley, Mr. Patrick\n"
          ]
        }
      ]
    },
    {
      "cell_type": "code",
      "source": [
        "pn_alive_arr=np.zeros(6)\n",
        "pn_dead_arr=np.zeros(6)\n",
        "cnts = np.zeros(6)\n",
        "for index in range(len(n_data)):\n",
        "  ni = get_name_index(n_data[index])# 호칭 인덱스를 구함\n",
        "  if s_data[index] == 0 :\n",
        "    pn_dead_arr[ni]+=1\n",
        "  else :\n",
        "    pn_alive_arr[ni]+=1\n",
        "  cnts[ni]+=1\n",
        "pn_alive_arr,pn_dead_arr,cnts"
      ],
      "metadata": {
        "colab": {
          "base_uri": "https://localhost:8080/"
        },
        "id": "P6PUR13Lx2-Y",
        "outputId": "9171090c-5711-425b-b8f0-ebd923576ef7"
      },
      "execution_count": 200,
      "outputs": [
        {
          "output_type": "execute_result",
          "data": {
            "text/plain": [
              "(array([ 81.,  99., 127.,  23.,   3.,   9.]),\n",
              " array([436.,  26.,  55.,  17.,   4.,  11.]),\n",
              " array([517., 125., 182.,  40.,   7.,  20.]))"
            ]
          },
          "metadata": {},
          "execution_count": 200
        }
      ]
    },
    {
      "cell_type": "code",
      "source": [
        "plt.pie(cnts, labels=name_values,autopct='%.2f%%')\n",
        "plt.show()"
      ],
      "metadata": {
        "colab": {
          "base_uri": "https://localhost:8080/",
          "height": 248
        },
        "id": "Qs7zYBwUy9W-",
        "outputId": "0217819e-e35e-4a68-94c2-557d2579d52c"
      },
      "execution_count": 201,
      "outputs": [
        {
          "output_type": "display_data",
          "data": {
            "text/plain": [
              "<Figure size 432x288 with 1 Axes>"
            ],
            "image/png": "[encoded data removed]"
          },
          "metadata": {}
        }
      ]
    },
    {
      "cell_type": "code",
      "source": [
        "plt.bar(name_values,pn_alive_arr)\n",
        "plt.bar(name_values,pn_dead_arr,bottom=pn_alive_arr)\n",
        "for i in range(6):\n",
        "  plt.annotate(str(pn_alive_arr[i]),(i-0.12,40))\n",
        "  if pn_alive_arr[i]<40:\n",
        "    plt.annotate(str(pn_dead_arr[i]),(i-0.12,80))\n",
        "  else :\n",
        "    plt.annotate(str(pn_dead_arr[i]),(i-0.12,pn_alive_arr[i]+40))\n",
        "plt.show()"
      ],
      "metadata": {
        "colab": {
          "base_uri": "https://localhost:8080/",
          "height": 265
        },
        "id": "25OqDOSB0Bzb",
        "outputId": "62498ac7-dd13-49fb-d051-55f69078deac"
      },
      "execution_count": 214,
      "outputs": [
        {
          "output_type": "display_data",
          "data": {
            "text/plain": [
              "<Figure size 432x288 with 1 Axes>"
            ],
            "image/png": "[encoded data removed]"
          },
          "metadata": {
            "needs_background": "light"
          }
        }
      ]
    }
  ]
}