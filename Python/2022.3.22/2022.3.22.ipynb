{
 "cells": [
  {
   "cell_type": "markdown",
   "id": "6bf19683-c3b2-4ee4-a159-17223ab42c2f",
   "metadata": {},
   "source": [
    "# p60 7번"
   ]
  },
  {
   "cell_type": "code",
   "execution_count": null,
   "id": "b35624f0-9a53-489d-bf50-748efe9fb7e3",
   "metadata": {},
   "outputs": [],
   "source": [
    "n1 = int(input('숫자1입력:'))\n",
    "n2 = int(input('숫자2입력:'))\n",
    "n3 = int(input('숫자3입력:'))\n",
    "print(n1,'+',n2,'+',n3,'=',n1+n2+n3)\n",
    "print(n1,'*',n2,'*',n3,'=',n1*n2*n3)"
   ]
  },
  {
   "cell_type": "markdown",
   "id": "a098bc53-0543-4cc1-b06e-da235c0f6f40",
   "metadata": {},
   "source": [
    "# conda list (설치 리스트 확인)\n",
    "# pip freeze (설치 리스트 확인) "
   ]
  },
  {
   "cell_type": "markdown",
   "id": "e4b54848-52aa-4beb-a225-caba0abcde13",
   "metadata": {},
   "source": [
    "# coded Character set    \n",
    "# 대표 문자 코드\n",
    "    + ＡSCII\n",
    "    + EUC-KR\n",
    "    + 유니코드"
   ]
  },
  {
   "cell_type": "code",
   "execution_count": 2,
   "id": "25253f7a-3eb5-47ad-af5d-21f07a624337",
   "metadata": {},
   "outputs": [
    {
     "data": {
      "text/plain": [
       "(10, 20, 30)"
      ]
     },
     "execution_count": 2,
     "metadata": {},
     "output_type": "execute_result"
    }
   ],
   "source": [
    "a = 10\n",
    "b = 20\n",
    "c = 30\n",
    "a = int(a)\n",
    "b = int(b)\n",
    "c = int(c)\n",
    "a,b,c"
   ]
  },
  {
   "cell_type": "code",
   "execution_count": 6,
   "id": "4d2a3fc5-7dc1-4c8f-a602-45394cef1c20",
   "metadata": {},
   "outputs": [
    {
     "name": "stdout",
     "output_type": "stream",
     "text": [
      "10+20+30= 60\n"
     ]
    }
   ],
   "source": [
    "print(f\"{a}+{b}+{c}=\",a+b+c)"
   ]
  },
  {
   "cell_type": "markdown",
   "id": "bd9cabb4-a315-4480-a4b2-323cceda50e7",
   "metadata": {},
   "source": [
    "# Chapter3"
   ]
  },
  {
   "cell_type": "markdown",
   "id": "700918f5-f125-49cc-9b8e-b27712d88524",
   "metadata": {},
   "source": [
    "print() 입력값을 기본 콘솔(터미널)로 내보내는 역할!!\n",
    "\n",
    "# **os 콘솔**\n",
    "    \n",
    "    표준입출력을 수행하는 프로그램"
   ]
  },
  {
   "cell_type": "code",
   "execution_count": 7,
   "id": "04ba9568-f3ec-44a9-8df1-1521271bff2d",
   "metadata": {},
   "outputs": [
    {
     "name": "stdout",
     "output_type": "stream",
     "text": [
      "안녕\n"
     ]
    }
   ],
   "source": [
    "print(\"안녕\")"
   ]
  },
  {
   "cell_type": "code",
   "execution_count": 8,
   "id": "4cf2dba2-4e89-4e90-a5ab-8fced7fd8485",
   "metadata": {},
   "outputs": [
    {
     "name": "stdin",
     "output_type": "stream",
     "text": [
      "입력 094510\\\n"
     ]
    },
    {
     "data": {
      "text/plain": [
       "'094510\\\\'"
      ]
     },
     "execution_count": 8,
     "metadata": {},
     "output_type": "execute_result"
    }
   ],
   "source": [
    "input(\"입력\")"
   ]
  },
  {
   "cell_type": "markdown",
   "id": "d10e1203-b423-4682-b4fb-673789c97c05",
   "metadata": {},
   "source": [
    "**형식화 문자열(formatting string)**\n",
    "\n",
    "1. '%'연산자\n",
    "2. 'string.format()'\n",
    "3. f리터럴"
   ]
  },
  {
   "cell_type": "code",
   "execution_count": 9,
   "id": "10e6d55c-9544-40ce-9b24-d30c171c4c6f",
   "metadata": {},
   "outputs": [
    {
     "name": "stdout",
     "output_type": "stream",
     "text": [
      "입력 100는 평균입니다.\n"
     ]
    }
   ],
   "source": [
    "print(\"입력 %d는 평균입니다.\" %100)"
   ]
  },
  {
   "cell_type": "markdown",
   "id": "d09bc6fb-e9e1-4812-ab4b-86bf568a850e",
   "metadata": {},
   "source": [
    "%연산자"
   ]
  },
  {
   "cell_type": "code",
   "execution_count": 15,
   "id": "6379b043-65c1-4d4e-9598-7c9d02e5ab1e",
   "metadata": {},
   "outputs": [
    {
     "name": "stdout",
     "output_type": "stream",
     "text": [
      "입력 100는 50의 평균이고 곱셉은 100 * 50 = 5000 입니다\n"
     ]
    }
   ],
   "source": [
    "print(\"입력 %d는 %d의 평균이고 곱셉은 %d * %d = %d 입니다\" %(100,50,100,50,100*50))"
   ]
  },
  {
   "cell_type": "markdown",
   "id": "0d882f84-f438-43b5-9b0e-31aa392af227",
   "metadata": {},
   "source": [
    "f리터럴 방식"
   ]
  },
  {
   "cell_type": "code",
   "execution_count": 16,
   "id": "08ee5845-9a34-461a-8f66-b0124caaefd5",
   "metadata": {},
   "outputs": [
    {
     "name": "stdout",
     "output_type": "stream",
     "text": [
      "입력 100는 50의 평균이고 곱셉은 100 * 50 = 5000 입니다\n"
     ]
    }
   ],
   "source": [
    "print(f\"입력 {100}는 {50}의 평균이고 곱셉은 {100} * {50} = {100*50} 입니다\")"
   ]
  },
  {
   "cell_type": "markdown",
   "id": "08c491ec-57e1-44ce-964a-4d10ff2c03f7",
   "metadata": {},
   "source": [
    "형식문자"
   ]
  },
  {
   "cell_type": "code",
   "execution_count": 17,
   "id": "b91ad843-a78b-4954-84cb-496a71285971",
   "metadata": {},
   "outputs": [
    {
     "name": "stdout",
     "output_type": "stream",
     "text": [
      "1000\n"
     ]
    }
   ],
   "source": [
    "print(\"%d\" %1000)"
   ]
  },
  {
   "cell_type": "code",
   "execution_count": 19,
   "id": "258bdbb9-100f-4e0c-8937-42e087241396",
   "metadata": {},
   "outputs": [
    {
     "name": "stdout",
     "output_type": "stream",
     "text": [
      "0\n"
     ]
    }
   ],
   "source": [
    "print(\"%d\" %0.1)"
   ]
  },
  {
   "cell_type": "code",
   "execution_count": 21,
   "id": "63d5e0e4-cb4a-4492-a553-5fd727e0a9f7",
   "metadata": {},
   "outputs": [
    {
     "name": "stdout",
     "output_type": "stream",
     "text": [
      "0.100000\n"
     ]
    }
   ],
   "source": [
    "print(\"%f\" %0.1)"
   ]
  },
  {
   "cell_type": "code",
   "execution_count": 24,
   "id": "84438992-5d5c-4ae2-b290-ac1c1700f0cf",
   "metadata": {},
   "outputs": [
    {
     "name": "stdout",
     "output_type": "stream",
     "text": [
      "9 a b c d e f\n"
     ]
    }
   ],
   "source": [
    "print(\"%x %x %x %x %x %x %x\" %(9,10,11,12,13,14,15))"
   ]
  },
  {
   "cell_type": "code",
   "execution_count": 29,
   "id": "fd8a3bde-e672-4bfa-a804-4bacd02a3f5d",
   "metadata": {},
   "outputs": [
    {
     "name": "stdout",
     "output_type": "stream",
     "text": [
      "10\n"
     ]
    }
   ],
   "source": [
    "print(\"%x\" %16)"
   ]
  },
  {
   "cell_type": "code",
   "execution_count": 31,
   "id": "3dd04af1-16aa-4223-9975-95de2bb5d3d1",
   "metadata": {},
   "outputs": [
    {
     "name": "stdout",
     "output_type": "stream",
     "text": [
      "1 3 7 10 11 12 13\n"
     ]
    }
   ],
   "source": [
    "print(\"%o %o %o %o %o %o %o\" %(1,3,7,8,9,10,11))"
   ]
  },
  {
   "cell_type": "code",
   "execution_count": 36,
   "id": "c7f3455b-87a8-42a1-8d1a-3f3de6de2e18",
   "metadata": {},
   "outputs": [
    {
     "name": "stdout",
     "output_type": "stream",
     "text": [
      "123\n",
      "  123\n",
      "00123\n",
      "123.000000\n",
      "  123.0\n",
      "123.000\n",
      "python\n",
      "    python\n"
     ]
    }
   ],
   "source": [
    "print(\"%d\" % 123)\n",
    "print(\"%5d\" % 123)\n",
    "print(\"%05d\" % 123)\n",
    "\n",
    "print(\"%f\" % 123)\n",
    "print(\"%7.1f\" % 123)\n",
    "print(\"%7.3f\" % 123)\n",
    "\n",
    "print(\"%s\" % 'python')\n",
    "print(\"%10s\" % 'python')"
   ]
  },
  {
   "cell_type": "code",
   "execution_count": 40,
   "id": "9c764201-d018-4f93-8940-89c1d46333df",
   "metadata": {},
   "outputs": [
    {
     "name": "stdout",
     "output_type": "stream",
     "text": [
      "123   123 00123\n",
      "123   123 00123\n"
     ]
    }
   ],
   "source": [
    "print(\"%d %5d %05d\" %(123,123,123))\n",
    "print(\"{0:d} {1:5d} {2:05d}\".format(123,123,123))"
   ]
  },
  {
   "cell_type": "code",
   "execution_count": 43,
   "id": "656e8169-7f6b-4e9d-8a29-350ee377280c",
   "metadata": {},
   "outputs": [
    {
     "name": "stdout",
     "output_type": "stream",
     "text": [
      "한줄에 다써보자... 열심히 \n",
      "줄 바꿈 \n",
      "연습\n"
     ]
    }
   ],
   "source": [
    "print(\"한줄에 다써보자... 열심히 \\n줄 바꿈 \\n연습\")"
   ]
  },
  {
   "cell_type": "code",
   "execution_count": 46,
   "id": "5269417a-69c8-489c-8627-f5681955a205",
   "metadata": {},
   "outputs": [
    {
     "name": "stdout",
     "output_type": "stream",
     "text": [
      "___\t___\t___\n",
      "\n",
      "종료\t설명\t비고\t\n",
      "___\n",
      "___\t___\t\n"
     ]
    }
   ],
   "source": [
    "print(\"___\\t___\\t___\\n\")\n",
    "print(\"종료\\t설명\\t비고\\t\")\n",
    "print(\"___\\n___\\t___\\t\")"
   ]
  },
  {
   "cell_type": "code",
   "execution_count": 47,
   "id": "48ff3efd-45ff-4af9-aa26-29fa60e050ed",
   "metadata": {},
   "outputs": [
    {
     "name": "stdout",
     "output_type": "stream",
     "text": [
      "글자가 \"강조\"되는 효과1\n"
     ]
    }
   ],
   "source": [
    "print(\"글자가 \\\"강조\\\"되는 효과1\")"
   ]
  },
  {
   "cell_type": "code",
   "execution_count": 49,
   "id": "98c73ab2-b9e3-42f9-a9c0-8383bb7809c5",
   "metadata": {},
   "outputs": [
    {
     "name": "stdout",
     "output_type": "stream",
     "text": [
      "글자가 '강조'되는 효과2\n"
     ]
    }
   ],
   "source": [
    "print('글자가 \\'강조\\'되는 효과2')"
   ]
  },
  {
   "cell_type": "code",
   "execution_count": 50,
   "id": "22d1c7eb-2037-457f-9d71-cb46a0c40c1e",
   "metadata": {},
   "outputs": [
    {
     "name": "stdout",
     "output_type": "stream",
     "text": [
      "\\\\\\ 역슬래시 세개 출력\n"
     ]
    }
   ],
   "source": [
    "print(\"\\\\\\\\\\\\ 역슬래시 세개 출력\")"
   ]
  },
  {
   "cell_type": "markdown",
   "id": "cd431c88-3646-4c35-a839-5e7594cc6d9a",
   "metadata": {},
   "source": [
    "### raw string"
   ]
  },
  {
   "cell_type": "code",
   "execution_count": 52,
   "id": "a3c3fb81-9855-4531-8b19-a32b21fdf4ab",
   "metadata": {},
   "outputs": [
    {
     "name": "stdout",
     "output_type": "stream",
     "text": [
      "\\n \\t \\\"\\\\를 그대로 출력\n"
     ]
    }
   ],
   "source": [
    "print(r\"\\n \\t \\\"\\\\를 그대로 출력\")"
   ]
  },
  {
   "cell_type": "markdown",
   "id": "72d2317b-3882-4bad-9445-cbfc0dc78680",
   "metadata": {},
   "source": [
    "# Section 03\n",
    "변수 = 동적타이핑(dynamic typing)"
   ]
  },
  {
   "cell_type": "code",
   "execution_count": 53,
   "id": "bc655de5-d51c-44f1-ae67-02dc89f5fce2",
   "metadata": {},
   "outputs": [],
   "source": [
    "# 참 거짓값 : True, False"
   ]
  },
  {
   "cell_type": "code",
   "execution_count": 55,
   "id": "8f11c346-c61c-4da8-9fcb-8d727eb040be",
   "metadata": {},
   "outputs": [],
   "source": [
    "boolVar = True"
   ]
  },
  {
   "cell_type": "code",
   "execution_count": 56,
   "id": "78e82a25-ad8c-4f18-b002-65cd66af0cad",
   "metadata": {},
   "outputs": [
    {
     "data": {
      "text/plain": [
       "True"
      ]
     },
     "execution_count": 56,
     "metadata": {},
     "output_type": "execute_result"
    }
   ],
   "source": [
    "boolVar"
   ]
  },
  {
   "cell_type": "code",
   "execution_count": 58,
   "id": "6bbca8ea-0dbe-4c5c-be28-b1d2b1510074",
   "metadata": {},
   "outputs": [
    {
     "data": {
      "text/plain": [
       "'문자열'"
      ]
     },
     "execution_count": 58,
     "metadata": {},
     "output_type": "execute_result"
    }
   ],
   "source": [
    "boolVar = \"문자열\"\n",
    "boolVar"
   ]
  },
  {
   "cell_type": "code",
   "execution_count": 59,
   "id": "7fab5cad-cef0-4f07-8ae6-18ba02c71be7",
   "metadata": {},
   "outputs": [
    {
     "data": {
      "text/plain": [
       "0.1"
      ]
     },
     "execution_count": 59,
     "metadata": {},
     "output_type": "execute_result"
    }
   ],
   "source": [
    "boolVar = 0.1\n",
    "boolVar"
   ]
  },
  {
   "cell_type": "code",
   "execution_count": 60,
   "id": "feafdd9c-5b67-4e5a-be6d-c1619c97558d",
   "metadata": {},
   "outputs": [
    {
     "ename": "TypeError",
     "evalue": "can only concatenate str (not \"float\") to str",
     "output_type": "error",
     "traceback": [
      "\u001b[1;31m---------------------------------------------------------------------------\u001b[0m",
      "\u001b[1;31mTypeError\u001b[0m                                 Traceback (most recent call last)",
      "\u001b[1;32m~\\AppData\\Local\\Temp/ipykernel_744/4034436319.py\u001b[0m in \u001b[0;36m<module>\u001b[1;34m\u001b[0m\n\u001b[1;32m----> 1\u001b[1;33m \u001b[0mprint\u001b[0m\u001b[1;33m(\u001b[0m\u001b[1;34m\"boolVar는 \"\u001b[0m \u001b[1;33m+\u001b[0m \u001b[0mboolVar\u001b[0m\u001b[1;33m)\u001b[0m\u001b[1;33m\u001b[0m\u001b[1;33m\u001b[0m\u001b[0m\n\u001b[0m",
      "\u001b[1;31mTypeError\u001b[0m: can only concatenate str (not \"float\") to str"
     ]
    }
   ],
   "source": [
    "print(\"boolVar는 \" + boolVar)"
   ]
  },
  {
   "cell_type": "code",
   "execution_count": 62,
   "id": "4e62eeab-5b17-416d-b0d2-bec08f0dd422",
   "metadata": {},
   "outputs": [
    {
     "name": "stdout",
     "output_type": "stream",
     "text": [
      "boolVar는  0.1\n",
      "boolVar는 0.100000 \n"
     ]
    }
   ],
   "source": [
    "print(\"boolVar는 \" , boolVar)\n",
    "print(\"boolVar는 %f \"  %boolVar)"
   ]
  },
  {
   "cell_type": "code",
   "execution_count": 64,
   "id": "871ab9b9-8bfd-4861-8c2e-0863abd8d41c",
   "metadata": {},
   "outputs": [
    {
     "data": {
      "text/plain": [
       "(True, 0, 0.1, ' 안녕')"
      ]
     },
     "execution_count": 64,
     "metadata": {},
     "output_type": "execute_result"
    }
   ],
   "source": [
    "a, b, f, s = True, 0 , 0.1 , \" 안녕\"\n",
    "a, b, f, s"
   ]
  },
  {
   "cell_type": "code",
   "execution_count": 65,
   "id": "27983138-b79a-4f57-a8e5-254a63b6c24a",
   "metadata": {},
   "outputs": [
    {
     "data": {
      "text/plain": [
       "(0, 0, 0)"
      ]
     },
     "execution_count": 65,
     "metadata": {},
     "output_type": "execute_result"
    }
   ],
   "source": [
    "z = y = w =0\n",
    "z, y , w"
   ]
  },
  {
   "cell_type": "markdown",
   "id": "0178fd2f-5269-41fe-a91b-a62927f51571",
   "metadata": {},
   "source": [
    "변수이름\n",
    "\n",
    "    + 숫자시작 x\n",
    "    + 예약어 x"
   ]
  },
  {
   "cell_type": "code",
   "execution_count": 66,
   "id": "5db9a9ca-7e75-4d68-b394-ceac4e4af0a1",
   "metadata": {},
   "outputs": [
    {
     "ename": "SyntaxError",
     "evalue": "invalid syntax (Temp/ipykernel_744/3504626852.py, line 1)",
     "output_type": "error",
     "traceback": [
      "\u001b[1;36m  File \u001b[1;32m\"C:\\Users\\BIT\\AppData\\Local\\Temp/ipykernel_744/3504626852.py\"\u001b[1;36m, line \u001b[1;32m1\u001b[0m\n\u001b[1;33m    2var=10\u001b[0m\n\u001b[1;37m     ^\u001b[0m\n\u001b[1;31mSyntaxError\u001b[0m\u001b[1;31m:\u001b[0m invalid syntax\n"
     ]
    }
   ],
   "source": [
    "2var=10"
   ]
  },
  {
   "cell_type": "code",
   "execution_count": 67,
   "id": "ffaabeea-a9aa-4ecf-bef3-7792449b1f68",
   "metadata": {},
   "outputs": [],
   "source": [
    "_var = 10"
   ]
  },
  {
   "cell_type": "code",
   "execution_count": 69,
   "id": "e633d5ac-78aa-45b4-9d87-7d4fb23c8e25",
   "metadata": {},
   "outputs": [
    {
     "data": {
      "text/plain": [
       "(10, 11)"
      ]
     },
     "execution_count": 69,
     "metadata": {},
     "output_type": "execute_result"
    }
   ],
   "source": [
    "#대소문자 구분\n",
    "myName = 10 \n",
    "MyName = 11\n",
    "myName, MyName"
   ]
  },
  {
   "cell_type": "markdown",
   "id": "f497f8f6-c5fd-4d44-addb-0cf40109569f",
   "metadata": {},
   "source": [
    "예약어"
   ]
  },
  {
   "cell_type": "code",
   "execution_count": 70,
   "id": "c18f7eda-e994-423c-8b0d-49585c4c6b3a",
   "metadata": {},
   "outputs": [],
   "source": [
    "import keyword"
   ]
  },
  {
   "cell_type": "code",
   "execution_count": 76,
   "id": "03e52281-5cd6-4469-84ab-737d911fb640",
   "metadata": {},
   "outputs": [
    {
     "data": {
      "text/plain": [
       "['False',\n",
       " 'None',\n",
       " 'True',\n",
       " '__peg_parser__',\n",
       " 'and',\n",
       " 'as',\n",
       " 'assert',\n",
       " 'async',\n",
       " 'await',\n",
       " 'break',\n",
       " 'class',\n",
       " 'continue',\n",
       " 'def',\n",
       " 'del',\n",
       " 'elif',\n",
       " 'else',\n",
       " 'except',\n",
       " 'finally',\n",
       " 'for',\n",
       " 'from',\n",
       " 'global',\n",
       " 'if',\n",
       " 'import',\n",
       " 'in',\n",
       " 'is',\n",
       " 'lambda',\n",
       " 'nonlocal',\n",
       " 'not',\n",
       " 'or',\n",
       " 'pass',\n",
       " 'raise',\n",
       " 'return',\n",
       " 'try',\n",
       " 'while',\n",
       " 'with',\n",
       " 'yield']"
      ]
     },
     "execution_count": 76,
     "metadata": {},
     "output_type": "execute_result"
    }
   ],
   "source": [
    "keyword.kwlist"
   ]
  },
  {
   "cell_type": "markdown",
   "id": "e0bdc861-3327-4722-a952-2642d8dc554f",
   "metadata": {},
   "source": [
    "type()"
   ]
  },
  {
   "cell_type": "code",
   "execution_count": 77,
   "id": "9baf7818-569f-4bec-ac00-b4ec7acc0001",
   "metadata": {},
   "outputs": [
    {
     "data": {
      "text/plain": [
       "int"
      ]
     },
     "execution_count": 77,
     "metadata": {},
     "output_type": "execute_result"
    }
   ],
   "source": [
    "type(MyName)"
   ]
  },
  {
   "cell_type": "code",
   "execution_count": 78,
   "id": "f5ad730e-98dc-47fd-ab8f-c6938ab05ef2",
   "metadata": {},
   "outputs": [
    {
     "data": {
      "text/plain": [
       "bool"
      ]
     },
     "execution_count": 78,
     "metadata": {},
     "output_type": "execute_result"
    }
   ],
   "source": [
    "type(a)"
   ]
  },
  {
   "cell_type": "code",
   "execution_count": 79,
   "id": "283d572e-733e-4630-b597-c975aa21abcc",
   "metadata": {},
   "outputs": [
    {
     "data": {
      "text/plain": [
       "float"
      ]
     },
     "execution_count": 79,
     "metadata": {},
     "output_type": "execute_result"
    }
   ],
   "source": [
    "a = 100.01\n",
    "type(a)"
   ]
  },
  {
   "cell_type": "code",
   "execution_count": 80,
   "id": "82fdbfde-0c44-4b86-b3bf-3bc9c703287f",
   "metadata": {},
   "outputs": [
    {
     "data": {
      "text/plain": [
       "100"
      ]
     },
     "execution_count": 80,
     "metadata": {},
     "output_type": "execute_result"
    }
   ],
   "source": [
    " # 권장하진 않는다\n",
    "\n",
    "변수 = 100\n",
    "변수"
   ]
  },
  {
   "cell_type": "code",
   "execution_count": 81,
   "id": "d935712b-62ba-40d8-80dc-35cd1f2f21bb",
   "metadata": {},
   "outputs": [
    {
     "data": {
      "text/plain": [
       "1000000"
      ]
     },
     "execution_count": 81,
     "metadata": {},
     "output_type": "execute_result"
    }
   ],
   "source": [
    "변수 * 10000"
   ]
  },
  {
   "cell_type": "code",
   "execution_count": 83,
   "id": "06862493-6bb6-42f6-9c0a-ed83737441d7",
   "metadata": {},
   "outputs": [
    {
     "data": {
      "text/plain": [
       "147"
      ]
     },
     "execution_count": 83,
     "metadata": {},
     "output_type": "execute_result"
    }
   ],
   "source": [
    "0b10010011"
   ]
  },
  {
   "cell_type": "code",
   "execution_count": 85,
   "id": "9e2fc6b2-7ac3-4e8a-8ffe-17fee32f1d88",
   "metadata": {},
   "outputs": [
    {
     "data": {
      "text/plain": [
       "147"
      ]
     },
     "execution_count": 85,
     "metadata": {},
     "output_type": "execute_result"
    }
   ],
   "source": [
    "a = 0b10010011\n",
    "a"
   ]
  },
  {
   "cell_type": "code",
   "execution_count": 89,
   "id": "5ae95f52-27a0-4997-98f9-22d7576f3c59",
   "metadata": {},
   "outputs": [
    {
     "data": {
      "text/plain": [
       "147"
      ]
     },
     "execution_count": 89,
     "metadata": {},
     "output_type": "execute_result"
    }
   ],
   "source": [
    "int('10010011',2)"
   ]
  },
  {
   "cell_type": "code",
   "execution_count": 90,
   "id": "95500d19-3d0c-4b24-8bc6-7ed5dc604c3d",
   "metadata": {},
   "outputs": [
    {
     "data": {
      "text/plain": [
       "250"
      ]
     },
     "execution_count": 90,
     "metadata": {},
     "output_type": "execute_result"
    }
   ],
   "source": [
    "int('FA',16)"
   ]
  },
  {
   "cell_type": "code",
   "execution_count": 91,
   "id": "7d4b4848-f5a6-4db4-b2aa-8a71a678618c",
   "metadata": {},
   "outputs": [
    {
     "data": {
      "text/plain": [
       "'0b11011'"
      ]
     },
     "execution_count": 91,
     "metadata": {},
     "output_type": "execute_result"
    }
   ],
   "source": [
    "bin(27)"
   ]
  },
  {
   "cell_type": "code",
   "execution_count": 92,
   "id": "baaeed46-bab2-4af8-bfb8-6974f5ef1265",
   "metadata": {},
   "outputs": [
    {
     "data": {
      "text/plain": [
       "'0o223'"
      ]
     },
     "execution_count": 92,
     "metadata": {},
     "output_type": "execute_result"
    }
   ],
   "source": [
    "oct(147)"
   ]
  },
  {
   "cell_type": "code",
   "execution_count": 93,
   "id": "ef2726f5-e0a0-459e-bcbf-043a00250ab0",
   "metadata": {},
   "outputs": [
    {
     "data": {
      "text/plain": [
       "'0x93'"
      ]
     },
     "execution_count": 93,
     "metadata": {},
     "output_type": "execute_result"
    }
   ],
   "source": [
    "hex(147)"
   ]
  },
  {
   "cell_type": "markdown",
   "id": "ce6cd30f-868d-4125-8a10-48dddee995da",
   "metadata": {},
   "source": [
    "# P81"
   ]
  },
  {
   "cell_type": "code",
   "execution_count": 3,
   "id": "0f7b9277-45bd-44d5-9c2c-43f747173c80",
   "metadata": {},
   "outputs": [
    {
     "name": "stdin",
     "output_type": "stream",
     "text": [
      "입력 진수 결정(16/10/8/2) :  4\n",
      "값 입력 :  10\n"
     ]
    },
    {
     "name": "stdout",
     "output_type": "stream",
     "text": [
      "16진수 ==>  0xa\n",
      "10진수 ==>  10\n",
      " 8진수 ==>  0o12\n",
      " 2진수 ==>  0b1010\n"
     ]
    }
   ],
   "source": [
    "sel = int(input(\"입력 진수 결정(16/10/8/2) : \"))\n",
    "num = input(\"값 입력 : \")\n",
    "\n",
    "if sel == 16 :\n",
    "    num10 = int(num, 16)\n",
    "if sel == 10 :\n",
    "    num10 = int(num, 10)\n",
    "if sel == 8 :\n",
    "    num10 = int(num, 8)   \n",
    "if sel == 2 :\n",
    "    num10 = int(num, 2)     \n",
    "\n",
    "print(\"16진수 ==> \", hex(num10))\n",
    "print(\"10진수 ==> \", num10)\n",
    "print(\" 8진수 ==> \", oct(num10))\n",
    "print(\" 2진수 ==> \", bin(num10))"
   ]
  },
  {
   "cell_type": "markdown",
   "id": "980f84a7-c957-4576-b83d-f2377e1707b5",
   "metadata": {},
   "source": [
    "# Sec05 기본 데이터형\n",
    "\n",
    "기본형식 -> 하나의 값을 저정하는 방법!"
   ]
  },
  {
   "cell_type": "code",
   "execution_count": 122,
   "id": "86a035ce-c1f5-4982-b420-5612f10d72a6",
   "metadata": {},
   "outputs": [
    {
     "data": {
      "text/plain": [
       "123"
      ]
     },
     "execution_count": 122,
     "metadata": {},
     "output_type": "execute_result"
    }
   ],
   "source": [
    "a = 123 #정수\n",
    "a"
   ]
  },
  {
   "cell_type": "code",
   "execution_count": 123,
   "id": "8a375ae9-1572-4145-910c-4f90ee0e3677",
   "metadata": {},
   "outputs": [
    {
     "data": {
      "text/plain": [
       "int"
      ]
     },
     "execution_count": 123,
     "metadata": {},
     "output_type": "execute_result"
    }
   ],
   "source": [
    "type(a)"
   ]
  },
  {
   "cell_type": "code",
   "execution_count": 124,
   "id": "496b42c1-34e0-4eb0-9b33-227086e57d91",
   "metadata": {},
   "outputs": [],
   "source": [
    "a = a * 1000"
   ]
  },
  {
   "cell_type": "code",
   "execution_count": 125,
   "id": "8c8ca272-d2cc-4467-bb35-75a49ccc65bd",
   "metadata": {},
   "outputs": [],
   "source": [
    "a = 100**100"
   ]
  },
  {
   "cell_type": "code",
   "execution_count": 126,
   "id": "2bce5485-cd3d-4de5-afd8-4929a51aa1c9",
   "metadata": {},
   "outputs": [
    {
     "data": {
      "text/plain": [
       "int"
      ]
     },
     "execution_count": 126,
     "metadata": {},
     "output_type": "execute_result"
    }
   ],
   "source": [
    "type(a)"
   ]
  },
  {
   "cell_type": "code",
   "execution_count": 129,
   "id": "470fc57e-b6a0-4926-8fa0-7206b5509a10",
   "metadata": {},
   "outputs": [
    {
     "data": {
      "text/plain": [
       "int"
      ]
     },
     "execution_count": 129,
     "metadata": {},
     "output_type": "execute_result"
    }
   ],
   "source": [
    "a = 0xFF\n",
    "type(a)"
   ]
  },
  {
   "cell_type": "code",
   "execution_count": 130,
   "id": "6b450379-9d08-45d4-87ea-0891a7bf6d17",
   "metadata": {},
   "outputs": [
    {
     "data": {
      "text/plain": [
       "int"
      ]
     },
     "execution_count": 130,
     "metadata": {},
     "output_type": "execute_result"
    }
   ],
   "source": [
    "type(0b11111)"
   ]
  },
  {
   "cell_type": "code",
   "execution_count": 134,
   "id": "fc172263-20d5-4ae7-891a-92b7f7c71c6c",
   "metadata": {},
   "outputs": [],
   "source": [
    "a = 3.14\n",
    "b = 3.14e5"
   ]
  },
  {
   "cell_type": "code",
   "execution_count": 135,
   "id": "3c875d58-2c0b-446a-a4db-f42419a1320f",
   "metadata": {},
   "outputs": [
    {
     "data": {
      "text/plain": [
       "3.14"
      ]
     },
     "execution_count": 135,
     "metadata": {},
     "output_type": "execute_result"
    }
   ],
   "source": [
    "a"
   ]
  },
  {
   "cell_type": "code",
   "execution_count": 136,
   "id": "c64f778a-c905-426e-82f9-04f8762b7be0",
   "metadata": {},
   "outputs": [
    {
     "data": {
      "text/plain": [
       "314000.0"
      ]
     },
     "execution_count": 136,
     "metadata": {},
     "output_type": "execute_result"
    }
   ],
   "source": [
    "b"
   ]
  },
  {
   "cell_type": "code",
   "execution_count": 137,
   "id": "f0135776-465f-41c1-a495-12da79602b60",
   "metadata": {},
   "outputs": [
    {
     "data": {
      "text/plain": [
       "110000.0"
      ]
     },
     "execution_count": 137,
     "metadata": {},
     "output_type": "execute_result"
    }
   ],
   "source": [
    "1.1e5"
   ]
  },
  {
   "cell_type": "markdown",
   "id": "4650f5c2-6c6c-4238-bfde-238de31804a3",
   "metadata": {},
   "source": [
    "1. 정밀도가 큰 자료형으로 결과가 반환!\n",
    "2. 자료 범위가 큰 자료형으로 결과가 반환 <--python"
   ]
  },
  {
   "cell_type": "markdown",
   "id": "c27c6204-f176-46a4-853b-bb887b5eff0f",
   "metadata": {},
   "source": [
    "블리언 : True, False"
   ]
  },
  {
   "cell_type": "code",
   "execution_count": 140,
   "id": "4f1a7214-9c36-4a0f-8318-8224f09e6e28",
   "metadata": {},
   "outputs": [
    {
     "data": {
      "text/plain": [
       "bool"
      ]
     },
     "execution_count": 140,
     "metadata": {},
     "output_type": "execute_result"
    }
   ],
   "source": [
    "type(True)"
   ]
  },
  {
   "cell_type": "markdown",
   "id": "93dcaec9-a5d0-4886-8194-209dffbb7bb6",
   "metadata": {},
   "source": [
    "문자열 : 문자의 집합!"
   ]
  },
  {
   "cell_type": "code",
   "execution_count": 3,
   "id": "e9a4808f-6709-462a-bcd9-0821b34ab47c",
   "metadata": {},
   "outputs": [
    {
     "data": {
      "text/plain": [
       "'안녕하세요'"
      ]
     },
     "execution_count": 3,
     "metadata": {},
     "output_type": "execute_result"
    }
   ],
   "source": [
    "a = '안녕하세요'\n",
    "a"
   ]
  },
  {
   "cell_type": "code",
   "execution_count": 4,
   "id": "331bd9f1-d7b5-4d8f-a615-fbe52cc53b34",
   "metadata": {},
   "outputs": [
    {
     "data": {
      "text/plain": [
       "str"
      ]
     },
     "execution_count": 4,
     "metadata": {},
     "output_type": "execute_result"
    }
   ],
   "source": [
    "type(a)"
   ]
  },
  {
   "cell_type": "markdown",
   "id": "36639248-b04d-4c5a-acf5-2d9b64aa80f7",
   "metadata": {},
   "source": [
    "docstrings"
   ]
  },
  {
   "cell_type": "code",
   "execution_count": 5,
   "id": "997519fb-58fe-4306-96d7-79e10ccec341",
   "metadata": {},
   "outputs": [],
   "source": [
    "a = '''\n",
    "안녕하세요\n",
    "반갑습니다\n",
    "고마워요\n",
    "다시만나요\n",
    "'''"
   ]
  },
  {
   "cell_type": "code",
   "execution_count": 6,
   "id": "298b9a29-15f1-465e-bf87-5cace98c342a",
   "metadata": {},
   "outputs": [
    {
     "data": {
      "text/plain": [
       "'\\n안녕하세요\\n반갑습니다\\n고마워요\\n다시만나요\\n'"
      ]
     },
     "execution_count": 6,
     "metadata": {},
     "output_type": "execute_result"
    }
   ],
   "source": [
    "a"
   ]
  },
  {
   "cell_type": "code",
   "execution_count": 7,
   "id": "b0ebf4ae-20fd-43a0-a505-1f5dc61a6743",
   "metadata": {},
   "outputs": [
    {
     "data": {
      "text/plain": [
       "str"
      ]
     },
     "execution_count": 7,
     "metadata": {},
     "output_type": "execute_result"
    }
   ],
   "source": [
    "type(a)"
   ]
  },
  {
   "cell_type": "code",
   "execution_count": 8,
   "id": "3a04521b-359b-4f65-aac8-02b2498c3a33",
   "metadata": {},
   "outputs": [
    {
     "name": "stdout",
     "output_type": "stream",
     "text": [
      "\n",
      "안녕하세요\n",
      "반갑습니다\n",
      "고마워요\n",
      "다시만나요\n",
      "\n"
     ]
    }
   ],
   "source": [
    "print(a)"
   ]
  },
  {
   "cell_type": "code",
   "execution_count": 4,
   "id": "c973f16c-9024-4818-9db3-dd0e1276f5ff",
   "metadata": {},
   "outputs": [
    {
     "name": "stdout",
     "output_type": "stream",
     "text": [
      "100\n",
      "100\n",
      "100\n",
      "50+50\n"
     ]
    }
   ],
   "source": [
    "print(\"100\")\n",
    "print(100)\n",
    "print(50+50)\n",
    "print(\"50+50\")"
   ]
  },
  {
   "cell_type": "code",
   "execution_count": 5,
   "id": "f2be0a09-f4ef-489f-8dc6-5e26668bce96",
   "metadata": {},
   "outputs": [
    {
     "name": "stdout",
     "output_type": "stream",
     "text": [
      "5 / 10 = 0\n"
     ]
    }
   ],
   "source": [
    "print('%d / %d = %d' %(5,10,5/10))"
   ]
  },
  {
   "cell_type": "code",
   "execution_count": 6,
   "id": "9282f163-b8b8-4b10-812d-963d83d2d370",
   "metadata": {},
   "outputs": [
    {
     "name": "stdout",
     "output_type": "stream",
     "text": [
      "0876\n",
      "cookbook\n",
      "123.5\n"
     ]
    }
   ],
   "source": [
    "print(\"%04d\" %876)\n",
    "print(\"%5s\" %\"cookbook\")\n",
    "print(\"%1.1f\" %123.45)"
   ]
  },
  {
   "cell_type": "code",
   "execution_count": 8,
   "id": "29480dc0-9107-44be-b11c-2986f37b4d05",
   "metadata": {},
   "outputs": [
    {
     "name": "stdout",
     "output_type": "stream",
     "text": [
      "333 111 222\n"
     ]
    }
   ],
   "source": [
    "print(\"{2:d} {0:d} {1:d}\".format(111,222,333))"
   ]
  },
  {
   "cell_type": "markdown",
   "id": "e984dbeb-9e2a-41f2-be7b-1594da3c2f3c",
   "metadata": {},
   "source": [
    "# 5\n",
    "1. \\n\n",
    "2. \\b\n",
    "3. \\\\\n",
    "\n",
    "# 6\n",
    "4\n",
    "\n",
    "# 7 \n",
    "2, 4"
   ]
  },
  {
   "cell_type": "code",
   "execution_count": 20,
   "id": "af01e11c-7e4d-42d7-ace1-b3261f284ddb",
   "metadata": {},
   "outputs": [
    {
     "name": "stdout",
     "output_type": "stream",
     "text": [
      "10진수 ==>  0\n",
      " 2진수 ==>  0b0\n",
      "16진수 ==>  0x0\n",
      "3\n",
      "10\n",
      "17\n",
      "15\n",
      "11\n"
     ]
    },
    {
     "data": {
      "text/plain": [
       "26"
      ]
     },
     "execution_count": 20,
     "metadata": {},
     "output_type": "execute_result"
    }
   ],
   "source": [
    "# 9\n",
    "\n",
    "print(\"10진수 ==> \", num10)\n",
    "print(\" 2진수 ==> \", bin(num10))\n",
    "print(\"16진수 ==> \", hex(num10))\n",
    "\n",
    "#10\n",
    "print(int('0011',2))\n",
    "print(int('01010',2))\n",
    "print(int('11',16))\n",
    "print(int('17',8))\n",
    "\n",
    "#11\n",
    "print(int('1011',2))\n",
    "int('1A',16)"
   ]
  },
  {
   "cell_type": "code",
   "execution_count": 24,
   "id": "0eb5e208-5988-4e10-80ed-b81d73aaebd2",
   "metadata": {},
   "outputs": [
    {
     "ename": "SyntaxError",
     "evalue": "invalid syntax (Temp/ipykernel_9044/145051695.py, line 3)",
     "output_type": "error",
     "traceback": [
      "\u001b[1;36m  File \u001b[1;32m\"C:\\Users\\BIT\\AppData\\Local\\Temp/ipykernel_9044/145051695.py\"\u001b[1;36m, line \u001b[1;32m3\u001b[0m\n\u001b[1;33m    print(int('1006',8)\u001b[0m\n\u001b[1;37m    ^\u001b[0m\n\u001b[1;31mSyntaxError\u001b[0m\u001b[1;31m:\u001b[0m invalid syntax\n"
     ]
    }
   ],
   "source": [
    "#13 2,3\n",
    "print(int('1002',2)\n",
    "print(int('1008',8)\n",
    "int('AAFG',16)"
   ]
  },
  {
   "cell_type": "markdown",
   "id": "92c87dea-782d-4a56-8c83-718e0417dec4",
   "metadata": {},
   "source": [
    "# 14 \n",
    "3 5"
   ]
  },
  {
   "cell_type": "markdown",
   "id": "3e0fac43-7c4e-46b0-bed7-7c1177eb4c74",
   "metadata": {},
   "source": [
    "# 15\n",
    "'''\n",
    "num = 12345678\n",
    "\n",
    "hex_num = hex(num)\n",
    "\n",
    "oct_num = oct(num)\n",
    "\n",
    "bin_num = bin(num)\n",
    "\n",
    "print(num)\n",
    "\n",
    "print(hex_num)\n",
    "\n",
    "print(oct_num)\n",
    "\n",
    "print(bin_num)\n",
    "\n",
    "\n",
    "'''"
   ]
  },
  {
   "cell_type": "code",
   "execution_count": 137,
   "id": "0e7f2548-fdc7-4062-8935-e12647ea02be",
   "metadata": {},
   "outputs": [
    {
     "name": "stdout",
     "output_type": "stream",
     "text": [
      "12345678\n",
      "0xbc614e\n",
      "0o57060516\n",
      "0b101111000110000101001110\n"
     ]
    }
   ],
   "source": [
    "n = input(\"글자 입력 :\")\n",
    "if n >='0' and n<='9' "
   ]
  },
  {
   "cell_type": "code",
   "execution_count": null,
   "id": "524b11fc-4ebc-4951-8224-0f262fc7a4db",
   "metadata": {},
   "outputs": [],
   "source": []
  },
  {
   "cell_type": "markdown",
   "id": "0bcbb73a-6f89-4ce2-a654-5ee6a3bccd9d",
   "metadata": {},
   "source": [
    "# 복합대입연산자"
   ]
  },
  {
   "cell_type": "code",
   "execution_count": 25,
   "id": "4277d2ac-fd81-400e-aa41-20f44bed870f",
   "metadata": {},
   "outputs": [],
   "source": [
    "a = 10"
   ]
  },
  {
   "cell_type": "code",
   "execution_count": 26,
   "id": "da03ed6d-10d3-4e1d-a7fc-5c9e07581e52",
   "metadata": {},
   "outputs": [
    {
     "data": {
      "text/plain": [
       "13"
      ]
     },
     "execution_count": 26,
     "metadata": {},
     "output_type": "execute_result"
    }
   ],
   "source": [
    "a = a + 3\n",
    "a"
   ]
  },
  {
   "cell_type": "code",
   "execution_count": 31,
   "id": "2c40066a-068d-4ecb-bf39-6a0948aa77a1",
   "metadata": {},
   "outputs": [
    {
     "data": {
      "text/plain": [
       "16"
      ]
     },
     "execution_count": 31,
     "metadata": {},
     "output_type": "execute_result"
    }
   ],
   "source": [
    "a +=3\n",
    "a = 16\n",
    "a"
   ]
  },
  {
   "cell_type": "code",
   "execution_count": 32,
   "id": "44e8d4dc-f111-4b33-9783-821a3a34db8e",
   "metadata": {},
   "outputs": [
    {
     "data": {
      "text/plain": [
       "4096"
      ]
     },
     "execution_count": 32,
     "metadata": {},
     "output_type": "execute_result"
    }
   ],
   "source": [
    "a **=3\n",
    "a"
   ]
  },
  {
   "cell_type": "markdown",
   "id": "8326779f-7ba3-442e-9373-0ffd6a6bd0a0",
   "metadata": {},
   "source": [
    "# p100 동전 교환"
   ]
  },
  {
   "cell_type": "code",
   "execution_count": 33,
   "id": "3d0ee787-9ecc-4f9b-8462-16caabf2f449",
   "metadata": {},
   "outputs": [
    {
     "name": "stdin",
     "output_type": "stream",
     "text": [
      "교환할 돈은 얼마 ?  7777\n"
     ]
    },
    {
     "name": "stdout",
     "output_type": "stream",
     "text": [
      "\n",
      " 500원짜리 ==> 15개\n",
      " 100원짜리   ==> 2개 \n",
      " 50원짜리 ==> 1개 \n",
      " 10원짜리   ==> 2개 \n",
      " 바꾸지 못한 잔돈 ==> 7원\n"
     ]
    }
   ],
   "source": [
    "## 변수 선언 부분 ##\n",
    "money, c500, c100, c50, c10 = 0, 0, 0, 0, 0\n",
    "\n",
    "## 메인 코드 부분 ##\n",
    "money=int(input(\"교환할 돈은 얼마 ? \"))\n",
    "\n",
    "c500 = money // 500\n",
    "money %= 500\n",
    "\n",
    "c100 = money // 100\n",
    "money %= 100\n",
    "\n",
    "c50 = money // 50\n",
    "money %= 50\n",
    "\n",
    "c10 = money // 10\n",
    "money %= 10\n",
    "\n",
    "print(\"\\n 500원짜리 ==> %d개\" % c500)\n",
    "print(\" 100원짜리   ==> %d개 \" % c100)\n",
    "print(\" 50원짜리 ==> %d개 \" % c50)\n",
    "print(\" 10원짜리   ==> %d개 \" % c10)\n",
    "print(\" 바꾸지 못한 잔돈 ==> %d원\" % money)\n"
   ]
  },
  {
   "cell_type": "markdown",
   "id": "85ae5125-c6e4-4acb-bd09-79bf3e36f6ac",
   "metadata": {},
   "source": [
    "# 관계 연산자"
   ]
  },
  {
   "cell_type": "code",
   "execution_count": 34,
   "id": "6c0ce7c2-dbf2-4e35-83c7-4e641a290df4",
   "metadata": {},
   "outputs": [
    {
     "data": {
      "text/plain": [
       "False"
      ]
     },
     "execution_count": 34,
     "metadata": {},
     "output_type": "execute_result"
    }
   ],
   "source": [
    "10 == 5"
   ]
  },
  {
   "cell_type": "code",
   "execution_count": 35,
   "id": "aef17fab-6343-4b8a-a604-48e9ffcf17f2",
   "metadata": {},
   "outputs": [
    {
     "data": {
      "text/plain": [
       "True"
      ]
     },
     "execution_count": 35,
     "metadata": {},
     "output_type": "execute_result"
    }
   ],
   "source": [
    "10 == 10"
   ]
  },
  {
   "cell_type": "code",
   "execution_count": 36,
   "id": "1ebfb42a-acb2-43bf-80a5-2ab4c4be274f",
   "metadata": {},
   "outputs": [
    {
     "data": {
      "text/plain": [
       "True"
      ]
     },
     "execution_count": 36,
     "metadata": {},
     "output_type": "execute_result"
    }
   ],
   "source": [
    "10 > 5"
   ]
  },
  {
   "cell_type": "code",
   "execution_count": 37,
   "id": "078ad92f-3a59-4278-8441-b18960462c39",
   "metadata": {},
   "outputs": [
    {
     "data": {
      "text/plain": [
       "False"
      ]
     },
     "execution_count": 37,
     "metadata": {},
     "output_type": "execute_result"
    }
   ],
   "source": [
    "10 < 5"
   ]
  },
  {
   "cell_type": "code",
   "execution_count": 38,
   "id": "0b984144-fedf-4ec1-946a-b4a68c344a0f",
   "metadata": {},
   "outputs": [
    {
     "name": "stdout",
     "output_type": "stream",
     "text": [
      "5보다 크다\n"
     ]
    }
   ],
   "source": [
    "if 10 > 5 :\n",
    "    print(\"5보다 크다\")"
   ]
  },
  {
   "cell_type": "code",
   "execution_count": 39,
   "id": "4df83766-ba45-4223-983e-c15155066fb0",
   "metadata": {},
   "outputs": [
    {
     "data": {
      "text/plain": [
       "True"
      ]
     },
     "execution_count": 39,
     "metadata": {},
     "output_type": "execute_result"
    }
   ],
   "source": [
    "10 !=5"
   ]
  },
  {
   "cell_type": "code",
   "execution_count": 40,
   "id": "75619396-439c-4f32-a472-73148c1f58ec",
   "metadata": {},
   "outputs": [
    {
     "data": {
      "text/plain": [
       "False"
      ]
     },
     "execution_count": 40,
     "metadata": {},
     "output_type": "execute_result"
    }
   ],
   "source": [
    "10 !=10"
   ]
  },
  {
   "cell_type": "code",
   "execution_count": 41,
   "id": "dd97a135-caf6-4a81-ba77-d5c290dfaac4",
   "metadata": {},
   "outputs": [],
   "source": [
    "a = 99"
   ]
  },
  {
   "cell_type": "code",
   "execution_count": 42,
   "id": "b1892fff-edd2-47a9-b753-1c01657ea22a",
   "metadata": {},
   "outputs": [
    {
     "data": {
      "text/plain": [
       "False"
      ]
     },
     "execution_count": 42,
     "metadata": {},
     "output_type": "execute_result"
    }
   ],
   "source": [
    "#논리곱\n",
    "a > 100"
   ]
  },
  {
   "cell_type": "code",
   "execution_count": 43,
   "id": "d1a6901c-4876-44f4-a463-fbf7ff73f30d",
   "metadata": {},
   "outputs": [
    {
     "data": {
      "text/plain": [
       "True"
      ]
     },
     "execution_count": 43,
     "metadata": {},
     "output_type": "execute_result"
    }
   ],
   "source": [
    "# a가 100보다 크고 200보다 작은거!!\n",
    "(a > 100) or (a<200)"
   ]
  },
  {
   "cell_type": "code",
   "execution_count": null,
   "id": "cba49128-728c-4539-803c-29f4796fa4ce",
   "metadata": {},
   "outputs": [],
   "source": []
  },
  {
   "cell_type": "markdown",
   "id": "8e26d243-7ee8-45af-8622-f631df6b0bd8",
   "metadata": {},
   "source": [
    "# 비트 연산자"
   ]
  },
  {
   "cell_type": "code",
   "execution_count": 44,
   "id": "59719d24-4b2d-473f-986d-d18a2c80903f",
   "metadata": {},
   "outputs": [
    {
     "data": {
      "text/plain": [
       "2"
      ]
     },
     "execution_count": 44,
     "metadata": {},
     "output_type": "execute_result"
    }
   ],
   "source": [
    "10 & 7"
   ]
  },
  {
   "cell_type": "code",
   "execution_count": 45,
   "id": "b4b1e665-78ff-4eac-a88a-2adce584478d",
   "metadata": {},
   "outputs": [
    {
     "data": {
      "text/plain": [
       "('0b1010', '0b111')"
      ]
     },
     "execution_count": 45,
     "metadata": {},
     "output_type": "execute_result"
    }
   ],
   "source": [
    "bin(10), bin(7)"
   ]
  },
  {
   "cell_type": "code",
   "execution_count": 46,
   "id": "b6484bb0-f36a-4162-aec2-f755481d8fb8",
   "metadata": {},
   "outputs": [
    {
     "data": {
      "text/plain": [
       "0"
      ]
     },
     "execution_count": 46,
     "metadata": {},
     "output_type": "execute_result"
    }
   ],
   "source": [
    "2 & 1"
   ]
  },
  {
   "cell_type": "code",
   "execution_count": 48,
   "id": "4012e3e0-dbcb-4b40-95ed-9170467de8e0",
   "metadata": {},
   "outputs": [
    {
     "data": {
      "text/plain": [
       "'0b1101'"
      ]
     },
     "execution_count": 48,
     "metadata": {},
     "output_type": "execute_result"
    }
   ],
   "source": [
    "bin(10 ^ 7)"
   ]
  },
  {
   "cell_type": "markdown",
   "id": "8a971b0e-d863-494b-96d1-93bd05e1fef7",
   "metadata": {},
   "source": [
    "# Masking 기법 : 비트 기반 연산!!!\n",
    "\n",
    "''' \n",
    "\n",
    "00010 & 11000\n",
    "\n",
    "'''"
   ]
  },
  {
   "cell_type": "code",
   "execution_count": 53,
   "id": "a3bfd25b-78df-411c-8f88-863d084b563d",
   "metadata": {},
   "outputs": [
    {
     "data": {
      "text/plain": [
       "160"
      ]
     },
     "execution_count": 53,
     "metadata": {},
     "output_type": "execute_result"
    }
   ],
   "source": [
    "a = 10\n",
    "a << 1; a << 2; a << 3; a << 4"
   ]
  },
  {
   "cell_type": "code",
   "execution_count": 55,
   "id": "d109d1f5-fa17-401a-bb1d-19e387b06598",
   "metadata": {},
   "outputs": [
    {
     "data": {
      "text/plain": [
       "'0b1010'"
      ]
     },
     "execution_count": 55,
     "metadata": {},
     "output_type": "execute_result"
    }
   ],
   "source": [
    "bin(a)"
   ]
  },
  {
   "cell_type": "code",
   "execution_count": 56,
   "id": "1ec29434-6fe3-4bf6-b486-42ad0df8a4fc",
   "metadata": {},
   "outputs": [
    {
     "data": {
      "text/plain": [
       "'0b10100'"
      ]
     },
     "execution_count": 56,
     "metadata": {},
     "output_type": "execute_result"
    }
   ],
   "source": [
    "bin(a<<1)"
   ]
  },
  {
   "cell_type": "code",
   "execution_count": 57,
   "id": "04254888-666b-4e95-8f7a-5a084d77084d",
   "metadata": {},
   "outputs": [
    {
     "data": {
      "text/plain": [
       "'0b101000'"
      ]
     },
     "execution_count": 57,
     "metadata": {},
     "output_type": "execute_result"
    }
   ],
   "source": [
    "bin(a<<2)"
   ]
  },
  {
   "cell_type": "code",
   "execution_count": 58,
   "id": "cd0b72e4-2e20-4090-a08a-0a2faf67ba57",
   "metadata": {},
   "outputs": [
    {
     "data": {
      "text/plain": [
       "'0b1010000'"
      ]
     },
     "execution_count": 58,
     "metadata": {},
     "output_type": "execute_result"
    }
   ],
   "source": [
    "bin(a<<3)"
   ]
  },
  {
   "cell_type": "code",
   "execution_count": 59,
   "id": "92396a5e-3767-4486-ad98-54a01ee48398",
   "metadata": {},
   "outputs": [
    {
     "data": {
      "text/plain": [
       "'0b10100000'"
      ]
     },
     "execution_count": 59,
     "metadata": {},
     "output_type": "execute_result"
    }
   ],
   "source": [
    "bin(a<<4)"
   ]
  },
  {
   "cell_type": "code",
   "execution_count": 54,
   "id": "fe1ed210-6d87-4c6b-b800-6fa007d49be7",
   "metadata": {},
   "outputs": [
    {
     "data": {
      "text/plain": [
       "0"
      ]
     },
     "execution_count": 54,
     "metadata": {},
     "output_type": "execute_result"
    }
   ],
   "source": [
    "a = 10\n",
    "a >> 1; a >> 2; a >> 3; a >> 4"
   ]
  },
  {
   "cell_type": "code",
   "execution_count": 60,
   "id": "f0008484-e9cf-49c9-88fb-53440726a4af",
   "metadata": {},
   "outputs": [
    {
     "name": "stdin",
     "output_type": "stream",
     "text": [
      "연도를 입력하세요 :  2020\n"
     ]
    },
    {
     "name": "stdout",
     "output_type": "stream",
     "text": [
      "2020년은 윤년입니다. \n"
     ]
    }
   ],
   "source": [
    "## 전역 변수 부분##\n",
    "year = 0\n",
    "\n",
    "## 메인 코드 부분##\n",
    "if __name__==\"__main__\":\n",
    "    year = int(input(\"연도를 입력하세요 : \"))\n",
    "    \n",
    "    if((year % 4 ==0) and (year%100!=0)) or (year % 400 == 0):\n",
    "        print(\"%d년은 윤년입니다. \" %year)\n",
    "    else:\n",
    "        print(\"%d년은 윤년이 아닙니다.\" %year)"
   ]
  },
  {
   "cell_type": "code",
   "execution_count": null,
   "id": "388bfaeb-b836-4609-8402-d3e8ae44989f",
   "metadata": {},
   "outputs": [],
   "source": []
  },
  {
   "cell_type": "markdown",
   "id": "58dac14e-c423-4859-b6e9-5d113b5282ff",
   "metadata": {},
   "source": [
    "# 1\n",
    "+ 1 대입연산자 : =\n",
    "+ 2 나누기(몫)://\n",
    "+ 3 나누기 값:/\n",
    "+ 4 제곱: **"
   ]
  },
  {
   "cell_type": "markdown",
   "id": "0a10e129-cdf0-4aca-a6c6-4c4850eab8b7",
   "metadata": {},
   "source": [
    "# 2\n",
    "1. 7\n",
    "2. 5\n",
    "3. -5\n",
    "4. -1"
   ]
  },
  {
   "cell_type": "markdown",
   "id": "f20fd91f-18dd-4ea3-838d-c64a101fa58c",
   "metadata": {},
   "source": [
    "# 3\n",
    "1. int\n",
    "\n",
    "2. float\n",
    "\n",
    "3. str"
   ]
  },
  {
   "cell_type": "markdown",
   "id": "5be123e6-bc7a-4456-ae33-74502039e491",
   "metadata": {},
   "source": [
    "# 4\n",
    "100"
   ]
  },
  {
   "cell_type": "markdown",
   "id": "b99f848f-3659-4b8c-9ec2-d4a003668638",
   "metadata": {},
   "source": [
    "# 5 \n",
    "1. False\n",
    "2. False\n",
    "3. True\n",
    "4. True"
   ]
  },
  {
   "cell_type": "markdown",
   "id": "432eef84-6782-4403-a06e-3415bd9eb840",
   "metadata": {},
   "source": [
    "# 6\n",
    "1. False\n",
    "2. True\n",
    "3. False\n",
    "4. True"
   ]
  },
  {
   "cell_type": "markdown",
   "id": "727d27c7-30a8-42bb-9d70-73d2c2a33089",
   "metadata": {},
   "source": [
    "# 7\n",
    "1. 0\n",
    "2. 7\n",
    "3. 3\n",
    "4. 12"
   ]
  },
  {
   "cell_type": "markdown",
   "id": "6d8f5d26-16cb-414c-a0bc-1f749d58c13f",
   "metadata": {},
   "source": [
    "# 8\n",
    "1. ()\n",
    "2. +\n",
    "3. <<\n",
    "4. &\n",
    "5. '>='\n",
    "6. '''=='''\n",
    "7. and"
   ]
  },
  {
   "cell_type": "markdown",
   "id": "8a20c6c9-f8ff-4e39-ac4b-e39566eab854",
   "metadata": {},
   "source": [
    "# 9"
   ]
  },
  {
   "cell_type": "code",
   "execution_count": 99,
   "id": "207580cb-64d2-42d7-9c58-2f9cf60e40f8",
   "metadata": {},
   "outputs": [
    {
     "name": "stdin",
     "output_type": "stream",
     "text": [
      "500원짜리 개수 --> 7\n",
      "100원짜리 개수 --> 13\n",
      "50원짜리 개수 --> 9\n",
      "10원짜리 개수 --> 2\n"
     ]
    },
    {
     "name": "stdout",
     "output_type": "stream",
     "text": [
      "## 동전의 합계 ==> 5270원\n"
     ]
    }
   ],
   "source": [
    "n1 = int(input(\"500원짜리 개수 -->\"))\n",
    "n2 = int(input(\"100원짜리 개수 -->\"))\n",
    "n3 = int(input(\"50원짜리 개수 -->\"))\n",
    "n4 = int(input(\"10원짜리 개수 -->\"))   \n",
    "print(\"## 동전의 합계 ==> %d원\"%(n1*500+n2*100+n3*50+n4*10))"
   ]
  },
  {
   "cell_type": "code",
   "execution_count": null,
   "id": "8c6c5ca6-145a-4f2f-bd8c-528b70aa2e59",
   "metadata": {},
   "outputs": [],
   "source": []
  },
  {
   "cell_type": "code",
   "execution_count": null,
   "id": "fb27c5fb-c5c2-4125-a8a1-39220bfa0834",
   "metadata": {},
   "outputs": [],
   "source": []
  },
  {
   "cell_type": "markdown",
   "id": "332b5578-19c3-4a96-8d14-4aba163983ea",
   "metadata": {},
   "source": [
    "# chapter5 조건문\n",
    "if 조건식"
   ]
  },
  {
   "cell_type": "code",
   "execution_count": 61,
   "id": "9aab2442-5418-4a75-bde8-5fc2e896c81f",
   "metadata": {},
   "outputs": [
    {
     "name": "stdout",
     "output_type": "stream",
     "text": [
      "작다\n",
      "'''\n"
     ]
    }
   ],
   "source": [
    "a = 99\n",
    "if a < 100:\n",
    "    print(\"작다\")\n",
    "    print(\"'''\")"
   ]
  },
  {
   "cell_type": "code",
   "execution_count": 62,
   "id": "6d27aa26-61d5-4fa7-a4d8-4da4d61e886f",
   "metadata": {},
   "outputs": [
    {
     "name": "stdout",
     "output_type": "stream",
     "text": [
      "끝\n"
     ]
    }
   ],
   "source": [
    "a = 200\n",
    "if a < 100:\n",
    "    print(\"작다\")\n",
    "\n",
    "print(\"끝\")"
   ]
  },
  {
   "cell_type": "markdown",
   "id": "31a71b94-b5bf-4221-a4fc-7897c25a66d0",
   "metadata": {},
   "source": [
    "if ~ else"
   ]
  },
  {
   "cell_type": "code",
   "execution_count": 63,
   "id": "128626d7-b1ac-47e3-8a60-cf8a11337635",
   "metadata": {},
   "outputs": [
    {
     "name": "stdout",
     "output_type": "stream",
     "text": [
      "작다\n",
      "끝...\n"
     ]
    }
   ],
   "source": [
    "a = 20\n",
    "if a < 100:\n",
    "    print(\"작다\")\n",
    "else : \n",
    "    print(\"좀더 힘내세요~\")\n",
    "    \n",
    "print(\"끝...\")"
   ]
  },
  {
   "cell_type": "code",
   "execution_count": 65,
   "id": "5daf77cd-ff16-4ac0-b378-1edc3aa563c1",
   "metadata": {},
   "outputs": [
    {
     "name": "stdin",
     "output_type": "stream",
     "text": [
      "정수를 입력하세요 :  125\n"
     ]
    },
    {
     "name": "stdout",
     "output_type": "stream",
     "text": [
      "홀수를 입력했군요\n"
     ]
    }
   ],
   "source": [
    "a = int(input(\"정수를 입력하세요 : \"))\n",
    "\n",
    "if a % 2 ==0:\n",
    "    print(\"짝수를 입력했군요\")\n",
    "else :\n",
    "    print(\"홀수를 입력했군요\")"
   ]
  },
  {
   "cell_type": "code",
   "execution_count": 66,
   "id": "63d14cbf-9c10-40b0-adcc-6ba6d3e52589",
   "metadata": {},
   "outputs": [
    {
     "name": "stdout",
     "output_type": "stream",
     "text": [
      "100보다 크다!\n"
     ]
    }
   ],
   "source": [
    "a = 101\n",
    "if a > 50:\n",
    "    if a < 100:\n",
    "        print(\"50보다 크고 100보다 작다!\")\n",
    "    else :\n",
    "        print(\"100보다 크다!\")\n",
    "else :\n",
    "    print(\"50보다 작다!!!\")"
   ]
  },
  {
   "cell_type": "code",
   "execution_count": 72,
   "id": "4406e607-ea50-4015-8644-a9428799123c",
   "metadata": {},
   "outputs": [
    {
     "name": "stdout",
     "output_type": "stream",
     "text": [
      "50보다 작다!!!\n"
     ]
    }
   ],
   "source": [
    "a = 49\n",
    "if a < 50:\n",
    "    print(\"50보다 작다!!!\")\n",
    "elif a < 100:\n",
    "    print(\"50보다 크고 100보다 작다!\")\n",
    "else :\n",
    "    print(\"100보다 크다!\")"
   ]
  },
  {
   "cell_type": "code",
   "execution_count": 68,
   "id": "35317c86-51a0-480f-9184-c5b80e44ee6d",
   "metadata": {},
   "outputs": [
    {
     "name": "stdin",
     "output_type": "stream",
     "text": [
      "점수를 입력하세요 :  85\n"
     ]
    },
    {
     "name": "stdout",
     "output_type": "stream",
     "text": [
      "B\n",
      "학점입니다. ^^\n"
     ]
    }
   ],
   "source": [
    "score = int(input(\"점수를 입력하세요 : \"))\n",
    "\n",
    "if score >= 90 :\n",
    "    print(\"A\")\n",
    "elif score >= 80 :\n",
    "    print(\"B\")\n",
    "elif score >= 70 :\n",
    "    print(\"C\")\n",
    "elif score >= 60 :\n",
    "    print(\"D\")\n",
    "else :\n",
    "    print(\"F\")\n",
    "\n",
    "print(\"학점입니다. ^^\")"
   ]
  },
  {
   "cell_type": "code",
   "execution_count": 77,
   "id": "61858d91-2569-491a-9ed4-cdee1c6a1ec3",
   "metadata": {},
   "outputs": [
    {
     "name": "stdout",
     "output_type": "stream",
     "text": [
      "볼합격\n"
     ]
    }
   ],
   "source": [
    "jumsu = 55\n",
    "res = ''\n",
    "if jumsu >=60:\n",
    "    res = '합격'\n",
    "else :\n",
    "    res = '볼합격'\n",
    "    \n",
    "print(res)"
   ]
  },
  {
   "cell_type": "code",
   "execution_count": 80,
   "id": "b9779d5d-6954-4b3b-9b0e-efb578868d81",
   "metadata": {},
   "outputs": [
    {
     "name": "stdout",
     "output_type": "stream",
     "text": [
      "불합격\n"
     ]
    }
   ],
   "source": [
    "res ='합격' if jumsu>=60 else '불합격'\n",
    "print(res)"
   ]
  },
  {
   "cell_type": "markdown",
   "id": "32186b46-be11-4347-90ec-07549f1ef60e",
   "metadata": {},
   "source": [
    "# 1\n",
    "4"
   ]
  },
  {
   "cell_type": "markdown",
   "id": "5664cad9-c2ae-468d-8f19-fefbbb36d41d",
   "metadata": {},
   "source": [
    "# 2\n",
    "5"
   ]
  },
  {
   "cell_type": "markdown",
   "id": "1c4f9c59-6954-433a-8787-32aac109457d",
   "metadata": {},
   "source": [
    "# 3\n",
    "num%2!=0"
   ]
  },
  {
   "cell_type": "markdown",
   "id": "65a6e5a8-f5b3-401c-bf2d-4fe2415d397e",
   "metadata": {
    "jp-MarkdownHeadingCollapsed": true,
    "tags": []
   },
   "source": [
    "# 4\n",
    "'''\n",
    "\n",
    "score=int(input(\"점수를 입력하세요 :\"))\n",
    "\n",
    "if score >= 90:\n",
    "\n",
    "    print(\"장학생\",end='')\n",
    "    \n",
    "elif score >=60:\n",
    "\n",
    "    print(\"합격\",end='')\n",
    "    \n",
    "else :\n",
    "\n",
    "    print(\"불합격\",end='')\n",
    "\n",
    "print(\"입니다.^^\")\n",
    "\n",
    "'''"
   ]
  },
  {
   "cell_type": "markdown",
   "id": "3596d6ea-5378-4552-b389-a20dc45b80fe",
   "metadata": {},
   "source": [
    "# 5\n",
    "3\n",
    "\n",
    "'''\n",
    "num = 4\n",
    "\n",
    "res ='짝수' if num%2==0 else'홀수'\n",
    "\n",
    "print(res)\n",
    "\n",
    "'''"
   ]
  },
  {
   "cell_type": "code",
   "execution_count": 110,
   "id": "924419eb-3701-4266-9771-602a879ff4c2",
   "metadata": {},
   "outputs": [
    {
     "name": "stdout",
     "output_type": "stream",
     "text": [
      "짝수\n"
     ]
    }
   ],
   "source": [
    "num = 4\n",
    "res ='짝수' if num%2==0 else'홀수'\n",
    "print(res)"
   ]
  },
  {
   "cell_type": "code",
   "execution_count": 112,
   "id": "c5e9e3d3-5ace-42dc-b92a-d898825d93f9",
   "metadata": {},
   "outputs": [
    {
     "name": "stdin",
     "output_type": "stream",
     "text": [
      " 1\n",
      " 17\n",
      " 8\n",
      " 13\n",
      " 8\n",
      " 19\n",
      " 13\n",
      " 1\n",
      " 11\n",
      " 17\n",
      " 11\n",
      " 11\n",
      " 4\n",
      " 4\n",
      " 4\n",
      " 17\n",
      " 17\n",
      " 1\n",
      " 4\n",
      " 9\n"
     ]
    },
    {
     "name": "stdout",
     "output_type": "stream",
     "text": [
      "[1, 17, 8, 13, 8, 19, 13, 1, 11, 17, 11, 11, 4, 4, 4, 17, 17, 1, 4, 9]\n"
     ]
    }
   ],
   "source": [
    "a = []\n",
    "for i in range(20):\n",
    "    n=int(input())\n",
    "    a.append(n)\n",
    "print(a)"
   ]
  },
  {
   "cell_type": "code",
   "execution_count": 134,
   "id": "95092ab9-a9f9-4209-a4b1-b4e7eb17940a",
   "metadata": {},
   "outputs": [
    {
     "name": "stdout",
     "output_type": "stream",
     "text": [
      "생성된 리스트[1, 17, 8, 13, 8, 19, 13, 1, 11, 17, 11, 11, 4, 4, 4, 17, 17, 1, 4, 9]\n"
     ]
    }
   ],
   "source": []
  },
  {
   "cell_type": "code",
   "execution_count": 135,
   "id": "7c0ce80c-9231-4536-bd8b-c6183202c7a1",
   "metadata": {},
   "outputs": [
    {
     "name": "stdout",
     "output_type": "stream",
     "text": [
      "생성된 리스트[1, 17, 8, 13, 8, 19, 13, 1, 11, 17, 11, 11, 4, 4, 4, 17, 17, 1, 4, 9]\n",
      "숫자 1는(은) 뽑혔습니다.\n",
      "숫자 4는(은) 뽑혔습니다.\n",
      "숫자 8는(은) 뽑혔습니다.\n",
      "숫자 9는(은) 뽑혔습니다.\n",
      "숫자 11는(은) 뽑혔습니다.\n",
      "숫자 13는(은) 뽑혔습니다.\n",
      "숫자 17는(은) 뽑혔습니다.\n",
      "숫자 19는(은) 뽑혔습니다.\n"
     ]
    }
   ],
   "source": [
    "b = []\n",
    "for i in range(1,21):\n",
    "    f=0\n",
    "    for j in range(20):\n",
    "        if a[j]==i:\n",
    "            f=1\n",
    "            break\n",
    "    if f==1:\n",
    "        b.append(i)\n",
    "\n",
    "print(\"생성된 리스트\",end='')\n",
    "print(a)\n",
    "for i in range(len(b)):\n",
    "    print(\"숫자 %d는(은) 뽑혔습니다.\"%b[i])"
   ]
  },
  {
   "cell_type": "code",
   "execution_count": 126,
   "id": "d7991152-bdd6-4af4-aaa4-68704df514e1",
   "metadata": {},
   "outputs": [
    {
     "name": "stdout",
     "output_type": "stream",
     "text": [
      "[]\n"
     ]
    }
   ],
   "source": []
  }
 ],
 "metadata": {
  "kernelspec": {
   "display_name": "Python 3 (ipykernel)",
   "language": "python",
   "name": "python3"
  },
  "language_info": {
   "codemirror_mode": {
    "name": "ipython",
    "version": 3
   },
   "file_extension": ".py",
   "mimetype": "text/x-python",
   "name": "python",
   "nbconvert_exporter": "python",
   "pygments_lexer": "ipython3",
   "version": "3.9.7"
  }
 },
 "nbformat": 4,
 "nbformat_minor": 5
}
