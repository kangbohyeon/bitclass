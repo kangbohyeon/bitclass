{
 "cells": [
  {
   "cell_type": "markdown",
   "id": "91d35d7e",
   "metadata": {},
   "source": [
    "# 3장 연습문제"
   ]
  },
  {
   "cell_type": "code",
   "execution_count": 1,
   "id": "bef8cdb7",
   "metadata": {},
   "outputs": [
    {
     "name": "stdout",
     "output_type": "stream",
     "text": [
      "100\n",
      "100\n",
      "100\n",
      "50+50\n"
     ]
    }
   ],
   "source": [
    "# 1 - 4번\n",
    "print(\"100\")\n",
    "print(100)\n",
    "print(50+50)\n",
    "print(\"50+50\")"
   ]
  },
  {
   "cell_type": "code",
   "execution_count": 2,
   "id": "38fc2b29",
   "metadata": {},
   "outputs": [
    {
     "name": "stdout",
     "output_type": "stream",
     "text": [
      "5 / 10 = 0\n"
     ]
    }
   ],
   "source": [
    "# 2 - 3번\n",
    "print('%d / %d = %d' %(5,10,5/10))"
   ]
  },
  {
   "cell_type": "code",
   "execution_count": 3,
   "id": "22432754",
   "metadata": {},
   "outputs": [
    {
     "name": "stdout",
     "output_type": "stream",
     "text": [
      "0876\n",
      "CookBook\n",
      "123.5\n"
     ]
    }
   ],
   "source": [
    "# 3\n",
    "print(\"%04d\" %876)\n",
    "print(\"%05s\" %'CookBook')\n",
    "print(\"%1.1f\" %123.45)"
   ]
  },
  {
   "cell_type": "code",
   "execution_count": 4,
   "id": "16691c42",
   "metadata": {},
   "outputs": [
    {
     "name": "stdout",
     "output_type": "stream",
     "text": [
      "333 111 222\n"
     ]
    }
   ],
   "source": [
    "# 4\n",
    "print(\"{2:d} {0:d} {1:d}\".format(111,222,333))"
   ]
  },
  {
   "cell_type": "code",
   "execution_count": 5,
   "id": "3556245d",
   "metadata": {},
   "outputs": [],
   "source": [
    "# 5\n",
    "# 1. \\n\n",
    "# 2. \\b\n",
    "# 3. \\\\"
   ]
  },
  {
   "cell_type": "code",
   "execution_count": 6,
   "id": "e6fefcf4",
   "metadata": {},
   "outputs": [],
   "source": [
    "# 6\n",
    "# 4번 문자: character"
   ]
  },
  {
   "cell_type": "code",
   "execution_count": 7,
   "id": "da2b7d28",
   "metadata": {},
   "outputs": [],
   "source": [
    "# 7 - 2,4번"
   ]
  },
  {
   "cell_type": "code",
   "execution_count": 13,
   "id": "0dfee2ab",
   "metadata": {},
   "outputs": [],
   "source": [
    "# 8\n",
    "#  10 = c 이부분이 오류\n",
    "#a = b = 10 ; c = d = 20"
   ]
  },
  {
   "cell_type": "code",
   "execution_count": 21,
   "id": "766fdbf0",
   "metadata": {},
   "outputs": [
    {
     "name": "stdout",
     "output_type": "stream",
     "text": [
      "0\n",
      "0\n",
      "0\n",
      "\n",
      "2\n",
      "3\n",
      "2\n",
      "\n",
      "7\n",
      "7\n",
      "7\n",
      "\n",
      "11\n",
      "9\n",
      "12\n",
      "\n",
      "16\n",
      "15\n",
      "15\n"
     ]
    }
   ],
   "source": [
    "# 9번 2 ,4 ,5\n",
    "\n",
    "# 9 - 1\n",
    "print(int('0',10))\n",
    "print(int('0000',2))\n",
    "print(int('0',16))\n",
    "\n",
    "print()\n",
    "# 9 - 2\n",
    "print(int('2',10))\n",
    "print(int('0011',2))\n",
    "print(int('2',16))\n",
    "\n",
    "print()\n",
    "# 9 - 3\n",
    "print(int('7',10))\n",
    "print(int('0111',2))\n",
    "print(int('7',16))\n",
    "\n",
    "print()\n",
    "# 9 - 4\n",
    "print(int('11',10))\n",
    "print(int('1001',2))\n",
    "print(int('C',16))\n",
    "\n",
    "print()\n",
    "# 9 - 5\n",
    "print(int('16',10))\n",
    "print(int('1111',2))\n",
    "print(int('F',16))"
   ]
  },
  {
   "cell_type": "code",
   "execution_count": 27,
   "id": "7a277389",
   "metadata": {},
   "outputs": [
    {
     "name": "stdout",
     "output_type": "stream",
     "text": [
      "3\n",
      "10\n",
      "17\n",
      "15\n"
     ]
    }
   ],
   "source": [
    "#10\n",
    "print(int('0011',2))\n",
    "print(int('01010',2))\n",
    "print(int('11',16))\n",
    "print(int('17',8))"
   ]
  },
  {
   "cell_type": "code",
   "execution_count": 28,
   "id": "f09c68c6",
   "metadata": {},
   "outputs": [
    {
     "name": "stdout",
     "output_type": "stream",
     "text": [
      "11\n"
     ]
    },
    {
     "data": {
      "text/plain": [
       "26"
      ]
     },
     "execution_count": 28,
     "metadata": {},
     "output_type": "execute_result"
    }
   ],
   "source": [
    "#11\n",
    "print(int('1011',2))\n",
    "int('1A',16)"
   ]
  },
  {
   "cell_type": "code",
   "execution_count": 30,
   "id": "4d593d9a",
   "metadata": {},
   "outputs": [],
   "source": [
    "#12\n",
    "# hex()-16\n",
    "# oct()-8\n",
    "# bin()-2"
   ]
  },
  {
   "cell_type": "code",
   "execution_count": 29,
   "id": "5d2a6bd9",
   "metadata": {},
   "outputs": [],
   "source": [
    "#13 2,3\n",
    "# print(int('1002',2)\n",
    "# print(int('1008',8) -범위초과\n",
    "# int('AAFG',16) -범위초과"
   ]
  },
  {
   "cell_type": "code",
   "execution_count": 31,
   "id": "04aaaa24",
   "metadata": {},
   "outputs": [],
   "source": [
    "# 14 3, 5번\n",
    "# 3번 Null제외\n",
    "# 5번 문자, 문자열 둘다 작은따옴표, 큰따옴표 사용가능"
   ]
  },
  {
   "cell_type": "code",
   "execution_count": 32,
   "id": "d21f38b7",
   "metadata": {},
   "outputs": [
    {
     "name": "stdout",
     "output_type": "stream",
     "text": [
      "12345678\n",
      "0xbc614e\n",
      "0o57060516\n",
      "0b101111000110000101001110\n"
     ]
    }
   ],
   "source": [
    "# 15\n",
    "num = 12345678\n",
    "hex_num = hex(num)\n",
    "oct_num = oct(num)\n",
    "bin_num = bin(num)\n",
    "\n",
    "print(num)\n",
    "print(hex_num)\n",
    "print(oct_num)\n",
    "print(bin_num)\n",
    "\n",
    "\n"
   ]
  },
  {
   "cell_type": "code",
   "execution_count": 88,
   "id": "866994e7",
   "metadata": {},
   "outputs": [
    {
     "name": "stdout",
     "output_type": "stream",
     "text": [
      "글자 입력 : G\n",
      "숫자가 아닙니다.\n"
     ]
    }
   ],
   "source": [
    "# 16\n",
    "n = input('글자 입력 : ')\n",
    "if n >='0' and n<='9':\n",
    "    if n >= '0' and n <= '1':\n",
    "        print('2진수 또는',end=' ')\n",
    "    if n >= '0' and n <= '7':\n",
    "        print('8진수 또는',end=' ')\n",
    "    if n >= '0' and n <= '9':\n",
    "        print('10진수 또는',end=' ')\n",
    "if (n>='0' and n<='9')or(n >= 'A' and n <='F'):\n",
    "    print('16진수입니다')\n",
    "else :\n",
    "    print('숫자가 아닙니다.')"
   ]
  }
 ],
 "metadata": {
  "kernelspec": {
   "display_name": "Python 3 (ipykernel)",
   "language": "python",
   "name": "python3"
  },
  "language_info": {
   "codemirror_mode": {
    "name": "ipython",
    "version": 3
   },
   "file_extension": ".py",
   "mimetype": "text/x-python",
   "name": "python",
   "nbconvert_exporter": "python",
   "pygments_lexer": "ipython3",
   "version": "3.9.7"
  }
 },
 "nbformat": 4,
 "nbformat_minor": 5
}
