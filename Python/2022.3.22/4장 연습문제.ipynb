{
 "cells": [
  {
   "cell_type": "code",
   "execution_count": 1,
   "id": "82f37fff",
   "metadata": {},
   "outputs": [],
   "source": [
    "# 1\n",
    "# 1 대입연산자 : =\n",
    "# 2 나누기(몫)://\n",
    "# 3 나누기 값:%\n",
    "# 4 제곱: **"
   ]
  },
  {
   "cell_type": "code",
   "execution_count": 2,
   "id": "1dc248d9",
   "metadata": {},
   "outputs": [],
   "source": [
    "# 2\n",
    "# 2-1 7\n",
    "# 2-2 5\n",
    "# 2-3 -5\n",
    "# 2-4 -1"
   ]
  },
  {
   "cell_type": "code",
   "execution_count": 3,
   "id": "16293d54",
   "metadata": {},
   "outputs": [],
   "source": [
    "# 3\n",
    "# 3-1 int\n",
    "\n",
    "# 3-2 float\n",
    "\n",
    "# 3-3 str"
   ]
  },
  {
   "cell_type": "code",
   "execution_count": 4,
   "id": "3ffdb4a1",
   "metadata": {},
   "outputs": [],
   "source": [
    "# 4\n",
    "#100"
   ]
  },
  {
   "cell_type": "code",
   "execution_count": 7,
   "id": "493f6674",
   "metadata": {},
   "outputs": [],
   "source": [
    "# 5\n",
    "\n",
    "# 5-1 False\n",
    "# 5-2 False\n",
    "# 5-3 True\n",
    "# 5-4 True"
   ]
  },
  {
   "cell_type": "code",
   "execution_count": 8,
   "id": "639b2b15",
   "metadata": {},
   "outputs": [],
   "source": [
    "# 6\n",
    "# 6-1 False\n",
    "# 6-2 True\n",
    "# 6-3 False\n",
    "# 6-4 True"
   ]
  },
  {
   "cell_type": "code",
   "execution_count": 9,
   "id": "49b01a58",
   "metadata": {},
   "outputs": [],
   "source": [
    "# 7\n",
    "# 7-1 0\n",
    "# 7-2 7\n",
    "# 7-3 3\n",
    "# 7-4 12"
   ]
  },
  {
   "cell_type": "code",
   "execution_count": 10,
   "id": "df05aaee",
   "metadata": {},
   "outputs": [],
   "source": [
    "# 8\n",
    "# 8-1 ()\n",
    "# 8-2 +\n",
    "# 8-3 <<\n",
    "# 8-4 &\n",
    "# 8-5 '>='\n",
    "# 8-6 '''=='''\n",
    "# 8-7 and"
   ]
  },
  {
   "cell_type": "code",
   "execution_count": 11,
   "id": "25eb4458",
   "metadata": {},
   "outputs": [
    {
     "name": "stdout",
     "output_type": "stream",
     "text": [
      "500원짜리 개수 -->7\n",
      "100원짜리 개수 -->13\n",
      "50원짜리 개수 -->9\n",
      "10원짜리 개수 -->2\n",
      "## 동전의 합계 ==> 5270원\n"
     ]
    }
   ],
   "source": [
    "#9\n",
    "n1 = int(input(\"500원짜리 개수 -->\"))\n",
    "n2 = int(input(\"100원짜리 개수 -->\"))\n",
    "n3 = int(input(\"50원짜리 개수 -->\"))\n",
    "n4 = int(input(\"10원짜리 개수 -->\"))   \n",
    "print(\"## 동전의 합계 ==> %d원\"%(n1*500+n2*100+n3*50+n4*10))"
   ]
  }
 ],
 "metadata": {
  "kernelspec": {
   "display_name": "Python 3 (ipykernel)",
   "language": "python",
   "name": "python3"
  },
  "language_info": {
   "codemirror_mode": {
    "name": "ipython",
    "version": 3
   },
   "file_extension": ".py",
   "mimetype": "text/x-python",
   "name": "python",
   "nbconvert_exporter": "python",
   "pygments_lexer": "ipython3",
   "version": "3.9.7"
  }
 },
 "nbformat": 4,
 "nbformat_minor": 5
}
