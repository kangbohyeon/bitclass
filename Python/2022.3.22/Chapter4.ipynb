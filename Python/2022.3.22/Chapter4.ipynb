{
 "cells": [
  {
   "cell_type": "markdown",
   "id": "2f75c7a0-cfa3-4c5b-a01b-fd0445ce13c3",
   "metadata": {},
   "source": [
    "# Chapter4"
   ]
  },
  {
   "cell_type": "code",
   "execution_count": 2,
   "id": "cae257fa-fd6e-4bd5-85f1-f92609c9f00b",
   "metadata": {},
   "outputs": [],
   "source": [
    "a = 3; b = 5"
   ]
  },
  {
   "cell_type": "code",
   "execution_count": 3,
   "id": "49051256-71a9-49d9-b56c-fd4a5c42803d",
   "metadata": {},
   "outputs": [
    {
     "data": {
      "text/plain": [
       "8"
      ]
     },
     "execution_count": 3,
     "metadata": {},
     "output_type": "execute_result"
    }
   ],
   "source": [
    "a + b"
   ]
  },
  {
   "cell_type": "code",
   "execution_count": 4,
   "id": "9e9121c5-a16f-44d7-ab3e-022559d5af8d",
   "metadata": {},
   "outputs": [
    {
     "data": {
      "text/plain": [
       "-2"
      ]
     },
     "execution_count": 4,
     "metadata": {},
     "output_type": "execute_result"
    }
   ],
   "source": [
    "a - b"
   ]
  },
  {
   "cell_type": "code",
   "execution_count": 5,
   "id": "76ce2177-0373-408c-bd44-83abca5156e5",
   "metadata": {},
   "outputs": [
    {
     "data": {
      "text/plain": [
       "0.6"
      ]
     },
     "execution_count": 5,
     "metadata": {},
     "output_type": "execute_result"
    }
   ],
   "source": [
    "a / b"
   ]
  },
  {
   "cell_type": "code",
   "execution_count": 6,
   "id": "b58286e2-87ef-4ef0-80bf-b61abe1bf540",
   "metadata": {},
   "outputs": [
    {
     "data": {
      "text/plain": [
       "0"
      ]
     },
     "execution_count": 6,
     "metadata": {},
     "output_type": "execute_result"
    }
   ],
   "source": [
    "a // b"
   ]
  },
  {
   "cell_type": "code",
   "execution_count": 7,
   "id": "500bad1c-ebd8-48ea-a79e-c21be6d50832",
   "metadata": {},
   "outputs": [
    {
     "data": {
      "text/plain": [
       "3"
      ]
     },
     "execution_count": 7,
     "metadata": {},
     "output_type": "execute_result"
    }
   ],
   "source": [
    "a % b"
   ]
  },
  {
   "cell_type": "code",
   "execution_count": 8,
   "id": "36cede69-750b-43a7-8e57-33def97c84eb",
   "metadata": {},
   "outputs": [
    {
     "data": {
      "text/plain": [
       "243"
      ]
     },
     "execution_count": 8,
     "metadata": {},
     "output_type": "execute_result"
    }
   ],
   "source": [
    "a**b"
   ]
  },
  {
   "cell_type": "markdown",
   "id": "f5b097fc-4a6a-4cba-9dea-7c62d8d018e3",
   "metadata": {},
   "source": [
    "우선순위"
   ]
  },
  {
   "cell_type": "code",
   "execution_count": 9,
   "id": "9829452e-cf80-4998-abeb-ce117f4be044",
   "metadata": {},
   "outputs": [],
   "source": [
    "a, b, c = 2, 3, 4"
   ]
  },
  {
   "cell_type": "code",
   "execution_count": 10,
   "id": "d00731e3-f40e-450b-a308-345995503380",
   "metadata": {},
   "outputs": [
    {
     "data": {
      "text/plain": [
       "1"
      ]
     },
     "execution_count": 10,
     "metadata": {},
     "output_type": "execute_result"
    }
   ],
   "source": [
    "a + b - c"
   ]
  },
  {
   "cell_type": "code",
   "execution_count": 12,
   "id": "58d4c7c0-942b-4abf-97e4-157b72348f4b",
   "metadata": {},
   "outputs": [
    {
     "data": {
      "text/plain": [
       "1"
      ]
     },
     "execution_count": 12,
     "metadata": {},
     "output_type": "execute_result"
    }
   ],
   "source": [
    "a + (b - c)"
   ]
  },
  {
   "cell_type": "code",
   "execution_count": 13,
   "id": "ab9106f3-cf59-4459-9ded-5b06cf6f6b76",
   "metadata": {},
   "outputs": [
    {
     "data": {
      "text/plain": [
       "20"
      ]
     },
     "execution_count": 13,
     "metadata": {},
     "output_type": "execute_result"
    }
   ],
   "source": [
    "(a+b)*c"
   ]
  },
  {
   "cell_type": "code",
   "execution_count": 14,
   "id": "47383dce-7375-45ff-a31e-bc557c5eab0b",
   "metadata": {},
   "outputs": [
    {
     "data": {
      "text/plain": [
       "14"
      ]
     },
     "execution_count": 14,
     "metadata": {},
     "output_type": "execute_result"
    }
   ],
   "source": [
    "a+(b*c)"
   ]
  },
  {
   "cell_type": "markdown",
   "id": "d514bac5-1461-461e-baed-2f49dfbd6be1",
   "metadata": {},
   "source": [
    "### 내장 자료형 함수\n",
    " - int()\n",
    " - bin()\n",
    " - oct()\n",
    " - hex()\n",
    " - float()\n",
    " "
   ]
  },
  {
   "cell_type": "markdown",
   "id": "6cfb0b38-a5b9-4423-8397-780bda4232c0",
   "metadata": {},
   "source": [
    "문자형 자료형 함수\n",
    " - str()"
   ]
  },
  {
   "cell_type": "code",
   "execution_count": 15,
   "id": "759bb5fc-7fef-4a9c-88be-a01f27be6972",
   "metadata": {},
   "outputs": [
    {
     "ename": "TypeError",
     "evalue": "can only concatenate str (not \"int\") to str",
     "output_type": "error",
     "traceback": [
      "\u001b[1;31m---------------------------------------------------------------------------\u001b[0m",
      "\u001b[1;31mTypeError\u001b[0m                                 Traceback (most recent call last)",
      "Input \u001b[1;32mIn [15]\u001b[0m, in \u001b[0;36m<cell line: 2>\u001b[1;34m()\u001b[0m\n\u001b[0;32m      1\u001b[0m a \u001b[38;5;241m=\u001b[39m \u001b[38;5;241m100\u001b[39m\n\u001b[1;32m----> 2\u001b[0m \u001b[38;5;28mprint\u001b[39m(\u001b[38;5;124;43m\"\u001b[39;49m\u001b[38;5;124;43m안녕 난 \u001b[39;49m\u001b[38;5;124;43m\"\u001b[39;49m\u001b[43m \u001b[49m\u001b[38;5;241;43m+\u001b[39;49m\u001b[43m \u001b[49m\u001b[43ma\u001b[49m \u001b[38;5;241m+\u001b[39m \u001b[38;5;124m\"\u001b[39m\u001b[38;5;124m야!\u001b[39m\u001b[38;5;124m\"\u001b[39m)\n",
      "\u001b[1;31mTypeError\u001b[0m: can only concatenate str (not \"int\") to str"
     ]
    }
   ],
   "source": [
    "a = 100\n",
    "print(\"안녕 난 \" + a + \"야!\")  # 안녕 난 100 야!"
   ]
  },
  {
   "cell_type": "code",
   "execution_count": 16,
   "id": "e52e1ff1-f68d-434c-8665-04c01e4ce285",
   "metadata": {},
   "outputs": [
    {
     "name": "stdout",
     "output_type": "stream",
     "text": [
      "안녕 난 100야!\n"
     ]
    }
   ],
   "source": [
    "print(\"안녕 난 \" + str(a) + \"야!\")  # 안녕 난 100 야!"
   ]
  },
  {
   "cell_type": "markdown",
   "id": "508d51b0-4d55-4858-9b97-60ecd4af8d27",
   "metadata": {},
   "source": [
    "## 복합대입연산자"
   ]
  },
  {
   "cell_type": "code",
   "execution_count": 17,
   "id": "3ea96589-e715-4fba-a2fd-335beda98e9e",
   "metadata": {},
   "outputs": [],
   "source": [
    "a = 10"
   ]
  },
  {
   "cell_type": "code",
   "execution_count": 18,
   "id": "f2eafe4e-f089-49a3-ab49-62aaae9a557c",
   "metadata": {},
   "outputs": [
    {
     "data": {
      "text/plain": [
       "13"
      ]
     },
     "execution_count": 18,
     "metadata": {},
     "output_type": "execute_result"
    }
   ],
   "source": [
    "a = a + 3\n",
    "a"
   ]
  },
  {
   "cell_type": "code",
   "execution_count": 19,
   "id": "d3a27b25-34d7-4942-87ba-db7bb61800e4",
   "metadata": {},
   "outputs": [],
   "source": [
    "a += 3"
   ]
  },
  {
   "cell_type": "code",
   "execution_count": 22,
   "id": "82f1a8f8-1b17-465c-b94c-165ab108f954",
   "metadata": {},
   "outputs": [
    {
     "data": {
      "text/plain": [
       "16"
      ]
     },
     "execution_count": 22,
     "metadata": {},
     "output_type": "execute_result"
    }
   ],
   "source": [
    "a"
   ]
  },
  {
   "cell_type": "code",
   "execution_count": 23,
   "id": "38649aed-ec7d-40ef-8662-0f0a600d604d",
   "metadata": {},
   "outputs": [],
   "source": [
    "a **= 3"
   ]
  },
  {
   "cell_type": "code",
   "execution_count": 24,
   "id": "763648a8-a658-48db-b6ec-330be9a4674d",
   "metadata": {},
   "outputs": [
    {
     "ename": "SyntaxError",
     "evalue": "cannot assign to literal (632958915.py, line 1)",
     "output_type": "error",
     "traceback": [
      "\u001b[1;36m  Input \u001b[1;32mIn [24]\u001b[1;36m\u001b[0m\n\u001b[1;33m    10 **= 3\u001b[0m\n\u001b[1;37m    ^\u001b[0m\n\u001b[1;31mSyntaxError\u001b[0m\u001b[1;31m:\u001b[0m cannot assign to literal\n"
     ]
    }
   ],
   "source": [
    "10 **= 3"
   ]
  },
  {
   "cell_type": "markdown",
   "id": "f40db02c-1bbf-41ad-a73c-06bf76546718",
   "metadata": {},
   "source": [
    "### p100 동전교환\n",
    "\n",
    "500, 100, 50, 10원짜리 동전으로 교환하는 방법!"
   ]
  },
  {
   "cell_type": "code",
   "execution_count": 27,
   "id": "bde7472c-6657-45f2-bd2c-117727b8a174",
   "metadata": {},
   "outputs": [
    {
     "name": "stdin",
     "output_type": "stream",
     "text": [
      "교환할 돈은 얼마 ?  7200\n"
     ]
    }
   ],
   "source": [
    "## 변수 선언 부분 ##\n",
    "money, c500, c100, c50, c10 = 0, 0, 0, 0, 0\n",
    "\n",
    "## 메인 코드 부분 ##\n",
    "money=int(input(\"교환할 돈은 얼마 ? \"))"
   ]
  },
  {
   "cell_type": "code",
   "execution_count": 28,
   "id": "08f505e3-eeb9-4211-8b28-684e7efddcaf",
   "metadata": {},
   "outputs": [
    {
     "data": {
      "text/plain": [
       "14"
      ]
     },
     "execution_count": 28,
     "metadata": {},
     "output_type": "execute_result"
    }
   ],
   "source": [
    "money // 500"
   ]
  },
  {
   "cell_type": "code",
   "execution_count": 29,
   "id": "a1a8cb07-355f-4c65-ba09-a7124bd31197",
   "metadata": {},
   "outputs": [
    {
     "data": {
      "text/plain": [
       "200"
      ]
     },
     "execution_count": 29,
     "metadata": {},
     "output_type": "execute_result"
    }
   ],
   "source": [
    "money %= 500"
   ]
  },
  {
   "cell_type": "markdown",
   "id": "f3d336d1-1940-48a9-bad3-e907825cc9cb",
   "metadata": {},
   "source": [
    "## 관계연산자"
   ]
  },
  {
   "cell_type": "code",
   "execution_count": 30,
   "id": "32b326fa-a899-465f-8b48-5828793cf3c1",
   "metadata": {},
   "outputs": [
    {
     "data": {
      "text/plain": [
       "False"
      ]
     },
     "execution_count": 30,
     "metadata": {},
     "output_type": "execute_result"
    }
   ],
   "source": [
    "10 == 5"
   ]
  },
  {
   "cell_type": "code",
   "execution_count": 31,
   "id": "ed2bd6d1-c082-43da-8ab7-63ce88bf9c4a",
   "metadata": {},
   "outputs": [
    {
     "data": {
      "text/plain": [
       "True"
      ]
     },
     "execution_count": 31,
     "metadata": {},
     "output_type": "execute_result"
    }
   ],
   "source": [
    "10 == 10"
   ]
  },
  {
   "cell_type": "code",
   "execution_count": 32,
   "id": "4f87b4ff-4e54-4e58-a176-3ce98fae5bca",
   "metadata": {},
   "outputs": [
    {
     "data": {
      "text/plain": [
       "True"
      ]
     },
     "execution_count": 32,
     "metadata": {},
     "output_type": "execute_result"
    }
   ],
   "source": [
    "10 > 5"
   ]
  },
  {
   "cell_type": "code",
   "execution_count": 33,
   "id": "99f4307b-47ca-4856-a7cc-33ea6e848c31",
   "metadata": {},
   "outputs": [
    {
     "data": {
      "text/plain": [
       "False"
      ]
     },
     "execution_count": 33,
     "metadata": {},
     "output_type": "execute_result"
    }
   ],
   "source": [
    "10 < 5"
   ]
  },
  {
   "cell_type": "code",
   "execution_count": 34,
   "id": "4de22e64-a7ff-451e-87b6-4fb7646e4261",
   "metadata": {},
   "outputs": [
    {
     "name": "stdout",
     "output_type": "stream",
     "text": [
      "5보다 크다\n"
     ]
    }
   ],
   "source": [
    "if 10 > 5:\n",
    "    print(\"5보다 크다\")"
   ]
  },
  {
   "cell_type": "code",
   "execution_count": 35,
   "id": "df419bfb-7169-4f88-81b9-ecac366bba7f",
   "metadata": {},
   "outputs": [
    {
     "data": {
      "text/plain": [
       "True"
      ]
     },
     "execution_count": 35,
     "metadata": {},
     "output_type": "execute_result"
    }
   ],
   "source": [
    "10 != 5"
   ]
  },
  {
   "cell_type": "code",
   "execution_count": 36,
   "id": "e2e255f1-4db5-4a56-be0b-94d64ecd9be7",
   "metadata": {},
   "outputs": [
    {
     "data": {
      "text/plain": [
       "False"
      ]
     },
     "execution_count": 36,
     "metadata": {},
     "output_type": "execute_result"
    }
   ],
   "source": [
    "10 != 10"
   ]
  },
  {
   "attachments": {
    "0359871a-1f62-4722-a52d-bc50f558b9f5.png": {
     "image/png": "[encoded data removed]"
    }
   },
   "cell_type": "markdown",
   "id": "b77a676d-0571-4329-b0db-6d58c1dfe0b1",
   "metadata": {},
   "source": [
    "## 논리연산자\n",
    "\n",
    "![image.png](attachment:0359871a-1f62-4722-a52d-bc50f558b9f5.png)"
   ]
  },
  {
   "cell_type": "code",
   "execution_count": 37,
   "id": "0de92f71-5a4f-4bd9-b616-6e0e5abee326",
   "metadata": {},
   "outputs": [],
   "source": [
    "a = 99"
   ]
  },
  {
   "cell_type": "code",
   "execution_count": 39,
   "id": "13adf044-1fd4-4552-b963-b9aa1c529840",
   "metadata": {},
   "outputs": [
    {
     "data": {
      "text/plain": [
       "False"
      ]
     },
     "execution_count": 39,
     "metadata": {},
     "output_type": "execute_result"
    }
   ],
   "source": [
    "# 논리곱\n",
    "a > 100"
   ]
  },
  {
   "cell_type": "code",
   "execution_count": 40,
   "id": "bfa6b668-8665-4391-a91a-6925140d6244",
   "metadata": {},
   "outputs": [
    {
     "data": {
      "text/plain": [
       "False"
      ]
     },
     "execution_count": 40,
     "metadata": {},
     "output_type": "execute_result"
    }
   ],
   "source": [
    "# a가 100보다 크고 200보다 작은거!!!\n",
    "(a > 100) and (a < 200)"
   ]
  },
  {
   "cell_type": "code",
   "execution_count": 41,
   "id": "f7f2f0a9-43b3-43a6-bf1a-84092720db66",
   "metadata": {},
   "outputs": [
    {
     "data": {
      "text/plain": [
       "True"
      ]
     },
     "execution_count": 41,
     "metadata": {},
     "output_type": "execute_result"
    }
   ],
   "source": [
    "# a가 100보다 크거나 200보다 작은거!!!\n",
    "(a > 100) or (a < 200)"
   ]
  },
  {
   "cell_type": "code",
   "execution_count": 43,
   "id": "0279668c-881a-4858-9552-3c80be98b652",
   "metadata": {},
   "outputs": [
    {
     "data": {
      "text/plain": [
       "False"
      ]
     },
     "execution_count": 43,
     "metadata": {},
     "output_type": "execute_result"
    }
   ],
   "source": [
    "# 반대!\n",
    "not True"
   ]
  },
  {
   "cell_type": "code",
   "execution_count": 45,
   "id": "78b0a4b7-ff88-4ec0-95de-dcf4897a9648",
   "metadata": {},
   "outputs": [
    {
     "data": {
      "text/plain": [
       "True"
      ]
     },
     "execution_count": 45,
     "metadata": {},
     "output_type": "execute_result"
    }
   ],
   "source": [
    "not     (a > 100)"
   ]
  },
  {
   "cell_type": "markdown",
   "id": "36175012-d7a6-4010-918a-28707762652a",
   "metadata": {},
   "source": [
    "## 비트 연산자"
   ]
  },
  {
   "cell_type": "code",
   "execution_count": 47,
   "id": "b671bd5b-bc4a-429b-9932-77069857d24d",
   "metadata": {},
   "outputs": [],
   "source": [
    "# 비트 논리연산"
   ]
  },
  {
   "cell_type": "code",
   "execution_count": 50,
   "id": "8561c084-d033-4a34-b1dc-311838a9dca0",
   "metadata": {},
   "outputs": [
    {
     "data": {
      "text/plain": [
       "2"
      ]
     },
     "execution_count": 50,
     "metadata": {},
     "output_type": "execute_result"
    }
   ],
   "source": [
    "10 & 7"
   ]
  },
  {
   "cell_type": "code",
   "execution_count": 49,
   "id": "bca62cb3-2aab-4b4f-95e4-2d3ead96bbe0",
   "metadata": {},
   "outputs": [
    {
     "data": {
      "text/plain": [
       "('0b1010', '0b111')"
      ]
     },
     "execution_count": 49,
     "metadata": {},
     "output_type": "execute_result"
    }
   ],
   "source": [
    "bin(10), bin(7)"
   ]
  },
  {
   "cell_type": "markdown",
   "id": "8400e86f-76d5-4313-b964-698d90a746aa",
   "metadata": {},
   "source": [
    "```\n",
    "  0b1010\n",
    "&  0b111\n",
    "--------\n",
    "    0010\n",
    "```"
   ]
  },
  {
   "cell_type": "code",
   "execution_count": 51,
   "id": "25957ca0-c9d8-4e62-b474-977332e3c512",
   "metadata": {},
   "outputs": [
    {
     "data": {
      "text/plain": [
       "'0b10'"
      ]
     },
     "execution_count": 51,
     "metadata": {},
     "output_type": "execute_result"
    }
   ],
   "source": [
    "bin(10 & 7)"
   ]
  },
  {
   "cell_type": "code",
   "execution_count": 52,
   "id": "c5cc2bf7-8e78-4a2e-8018-6fd037b88094",
   "metadata": {},
   "outputs": [
    {
     "data": {
      "text/plain": [
       "0"
      ]
     },
     "execution_count": 52,
     "metadata": {},
     "output_type": "execute_result"
    }
   ],
   "source": [
    "2 & 1"
   ]
  },
  {
   "cell_type": "code",
   "execution_count": 54,
   "id": "6beb3150-4296-48f7-a4fe-afb62b778dc6",
   "metadata": {},
   "outputs": [
    {
     "data": {
      "text/plain": [
       "'0b0'"
      ]
     },
     "execution_count": 54,
     "metadata": {},
     "output_type": "execute_result"
    }
   ],
   "source": [
    "bin(2& 1)"
   ]
  },
  {
   "cell_type": "code",
   "execution_count": 55,
   "id": "0ed38af7-9cba-4a26-b24b-c8b7ec8222e1",
   "metadata": {},
   "outputs": [
    {
     "data": {
      "text/plain": [
       "('0b1111011', '0b111001000')"
      ]
     },
     "execution_count": 55,
     "metadata": {},
     "output_type": "execute_result"
    }
   ],
   "source": [
    "bin(123), bin(456)"
   ]
  },
  {
   "cell_type": "markdown",
   "id": "7a25fa05-862e-47bb-bffd-2f1550a4be90",
   "metadata": {},
   "source": [
    "```\n",
    "  '0b1111011'\n",
    "'0b111001000'\n",
    "```"
   ]
  },
  {
   "cell_type": "code",
   "execution_count": 56,
   "id": "849ad3c3-387e-4fd9-abd0-b7eeb5a2068d",
   "metadata": {},
   "outputs": [
    {
     "data": {
      "text/plain": [
       "'0b1001000'"
      ]
     },
     "execution_count": 56,
     "metadata": {},
     "output_type": "execute_result"
    }
   ],
   "source": [
    "bin(123 & 456)"
   ]
  },
  {
   "cell_type": "code",
   "execution_count": 57,
   "id": "8487f21a-7e8c-4b07-a0c9-5808828141a4",
   "metadata": {},
   "outputs": [
    {
     "data": {
      "text/plain": [
       "'0b10'"
      ]
     },
     "execution_count": 57,
     "metadata": {},
     "output_type": "execute_result"
    }
   ],
   "source": [
    "bin(2)"
   ]
  },
  {
   "cell_type": "code",
   "execution_count": 60,
   "id": "c04f825f-bf76-4fb5-856b-c2ac1b292526",
   "metadata": {},
   "outputs": [
    {
     "data": {
      "text/plain": [
       "-3"
      ]
     },
     "execution_count": 60,
     "metadata": {},
     "output_type": "execute_result"
    }
   ],
   "source": [
    "~2"
   ]
  },
  {
   "cell_type": "code",
   "execution_count": 61,
   "id": "f6d3916d-c04c-444c-af2f-afc2ed91ad21",
   "metadata": {},
   "outputs": [
    {
     "data": {
      "text/plain": [
       "'-0b11'"
      ]
     },
     "execution_count": 61,
     "metadata": {},
     "output_type": "execute_result"
    }
   ],
   "source": [
    "bin(~2)"
   ]
  },
  {
   "cell_type": "markdown",
   "id": "70f6fa02-edf6-43c3-84a2-8e9b1c186cb0",
   "metadata": {},
   "source": [
    "논리합"
   ]
  },
  {
   "cell_type": "code",
   "execution_count": 62,
   "id": "92ebbd7f-d3ea-46f1-8be6-d53eece96b57",
   "metadata": {},
   "outputs": [
    {
     "data": {
      "text/plain": [
       "('0b1010', '0b111')"
      ]
     },
     "execution_count": 62,
     "metadata": {},
     "output_type": "execute_result"
    }
   ],
   "source": [
    "bin(10), bin(7)"
   ]
  },
  {
   "cell_type": "code",
   "execution_count": 63,
   "id": "a6eecc5b-7edd-47af-b86b-f4b5a201a296",
   "metadata": {},
   "outputs": [
    {
     "data": {
      "text/plain": [
       "15"
      ]
     },
     "execution_count": 63,
     "metadata": {},
     "output_type": "execute_result"
    }
   ],
   "source": [
    "10 | 7"
   ]
  },
  {
   "cell_type": "code",
   "execution_count": 64,
   "id": "e1baec6c-0401-4f1b-b016-ef5497b6ddd4",
   "metadata": {},
   "outputs": [
    {
     "data": {
      "text/plain": [
       "'0b1111'"
      ]
     },
     "execution_count": 64,
     "metadata": {},
     "output_type": "execute_result"
    }
   ],
   "source": [
    "bin(10 | 7 )"
   ]
  },
  {
   "cell_type": "markdown",
   "id": "073fec6a-3431-4e6e-8f8e-83b1e7c9b201",
   "metadata": {},
   "source": [
    "배타적 논리합"
   ]
  },
  {
   "cell_type": "code",
   "execution_count": 65,
   "id": "310d5774-6322-4526-8f2d-7767f9c7b4b9",
   "metadata": {},
   "outputs": [
    {
     "data": {
      "text/plain": [
       "('0b1010', '0b111')"
      ]
     },
     "execution_count": 65,
     "metadata": {},
     "output_type": "execute_result"
    }
   ],
   "source": [
    "bin(10), bin(7)"
   ]
  },
  {
   "cell_type": "code",
   "execution_count": 66,
   "id": "77609c99-dccd-4a05-97ef-d5a2b163dc5b",
   "metadata": {},
   "outputs": [
    {
     "data": {
      "text/plain": [
       "'0b1101'"
      ]
     },
     "execution_count": 66,
     "metadata": {},
     "output_type": "execute_result"
    }
   ],
   "source": [
    "bin( 10 ^ 7)"
   ]
  },
  {
   "cell_type": "markdown",
   "id": "730efb31-9e54-4602-a23b-e6cdbd10f3e6",
   "metadata": {},
   "source": [
    "Masking 기법 : 비트 기반 연산!!!\n",
    "\n",
    "```\n",
    "00010 & 11000\n",
    "```"
   ]
  },
  {
   "cell_type": "markdown",
   "id": "90f08fe7-ae17-4b35-91af-1565684d438a",
   "metadata": {},
   "source": [
    "## 쉬프트 연산자\n",
    "\n",
    "```\n",
    ">>\n",
    "<<\n",
    "```"
   ]
  },
  {
   "cell_type": "code",
   "execution_count": 68,
   "id": "1f366126-852d-4383-8469-664e49ef701b",
   "metadata": {},
   "outputs": [
    {
     "data": {
      "text/plain": [
       "'0b1010'"
      ]
     },
     "execution_count": 68,
     "metadata": {},
     "output_type": "execute_result"
    }
   ],
   "source": [
    "a = 10; bin(a)"
   ]
  },
  {
   "cell_type": "code",
   "execution_count": 69,
   "id": "a4c24404-1e82-4eba-b81b-ae31488a1c12",
   "metadata": {},
   "outputs": [
    {
     "data": {
      "text/plain": [
       "20"
      ]
     },
     "execution_count": 69,
     "metadata": {},
     "output_type": "execute_result"
    }
   ],
   "source": [
    "a << 1    # 1칸"
   ]
  },
  {
   "cell_type": "code",
   "execution_count": 70,
   "id": "7c9ea170-c371-4698-9f8a-953fb125c6e4",
   "metadata": {},
   "outputs": [
    {
     "data": {
      "text/plain": [
       "'0b10100'"
      ]
     },
     "execution_count": 70,
     "metadata": {},
     "output_type": "execute_result"
    }
   ],
   "source": [
    "bin( a << 1)"
   ]
  },
  {
   "cell_type": "code",
   "execution_count": 71,
   "id": "9d77bbeb-4785-4552-97bb-4c588f98a1f0",
   "metadata": {},
   "outputs": [
    {
     "data": {
      "text/plain": [
       "'0b101'"
      ]
     },
     "execution_count": 71,
     "metadata": {},
     "output_type": "execute_result"
    }
   ],
   "source": [
    "# >>\n",
    "bin( a >> 1)"
   ]
  }
 ],
 "metadata": {
  "kernelspec": {
   "display_name": "Python 3 (ipykernel)",
   "language": "python",
   "name": "python3"
  },
  "language_info": {
   "codemirror_mode": {
    "name": "ipython",
    "version": 3
   },
   "file_extension": ".py",
   "mimetype": "text/x-python",
   "name": "python",
   "nbconvert_exporter": "python",
   "pygments_lexer": "ipython3",
   "version": "3.8.12"
  }
 },
 "nbformat": 4,
 "nbformat_minor": 5
}
