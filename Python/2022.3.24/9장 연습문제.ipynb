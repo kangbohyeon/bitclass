{
 "cells": [
  {
   "cell_type": "code",
   "execution_count": 1,
   "id": "34a5adad-f716-4d82-91af-d9539208e3dd",
   "metadata": {},
   "outputs": [],
   "source": [
    "#1 -1,3"
   ]
  },
  {
   "cell_type": "code",
   "execution_count": 2,
   "id": "abe9a105-d629-4b7b-ba76-09b169411994",
   "metadata": {},
   "outputs": [],
   "source": [
    "#2 매개변수"
   ]
  },
  {
   "cell_type": "code",
   "execution_count": 4,
   "id": "66b6b25a-ac0e-4310-8256-c32e13588850",
   "metadata": {},
   "outputs": [
    {
     "name": "stdout",
     "output_type": "stream",
     "text": [
      "600\n"
     ]
    }
   ],
   "source": [
    "#3 \n",
    "def plus(v1,v2,v3):\n",
    "    result =0\n",
    "    result = v1 + v2 + v3\n",
    "    return result\n",
    "    \n",
    "hap = plus(100,200,300)\n",
    "print(hap)"
   ]
  },
  {
   "cell_type": "code",
   "execution_count": 8,
   "id": "99443844-f3a6-4181-aa54-c09861b9f2a9",
   "metadata": {},
   "outputs": [
    {
     "name": "stdout",
     "output_type": "stream",
     "text": [
      "100\n",
      "10\n"
     ]
    }
   ],
   "source": [
    "#4\n",
    "def f1():\n",
    "    print(var)\n",
    "\n",
    "def f2():\n",
    "    var = 10\n",
    "    print(var)\n",
    "    \n",
    "var = 100\n",
    "f1()\n",
    "f2()"
   ]
  },
  {
   "cell_type": "code",
   "execution_count": 9,
   "id": "1c7253ef-34bf-4ff5-bd0e-09769433abb7",
   "metadata": {},
   "outputs": [],
   "source": [
    "#5 - 1,3,4,5"
   ]
  },
  {
   "cell_type": "code",
   "execution_count": 10,
   "id": "bdbd73ff-6eba-4698-9daa-251be22d8889",
   "metadata": {},
   "outputs": [],
   "source": [
    "#6 - 3"
   ]
  },
  {
   "cell_type": "code",
   "execution_count": 11,
   "id": "22d027b9-2ac2-4949-812f-b92a466a8913",
   "metadata": {},
   "outputs": [],
   "source": [
    "#7 1,3"
   ]
  },
  {
   "cell_type": "code",
   "execution_count": 5,
   "id": "5812cb8d-6292-43b1-aa86-a57c8d3c036f",
   "metadata": {},
   "outputs": [
    {
     "name": "stdout",
     "output_type": "stream",
     "text": [
      "매개변수 없이 호출 ==>  6\n",
      "매개변수 1없이 호출 ==>  6\n",
      "매개변수 2없이 호출 ==>  6\n",
      "매개변수 3없이 호출 ==>  6\n"
     ]
    }
   ],
   "source": [
    "#8\n",
    "def myfunc(p1=1,p2=2,p3=3):\n",
    "    ret = p1 + p2 + p3\n",
    "    return ret\n",
    "\n",
    "print(\"매개변수 없이 호출 ==> \", myfunc())\n",
    "print(\"매개변수 1없이 호출 ==> \", myfunc(1))\n",
    "print(\"매개변수 2없이 호출 ==> \", myfunc(1,2))\n",
    "print(\"매개변수 3없이 호출 ==> \", myfunc(1,2,3))"
   ]
  },
  {
   "cell_type": "code",
   "execution_count": 17,
   "id": "91732da9-71c0-43fe-9f4f-43119f0ede0a",
   "metadata": {},
   "outputs": [],
   "source": [
    "#9 - 2,4번"
   ]
  },
  {
   "cell_type": "code",
   "execution_count": 22,
   "id": "6e3c51fb-7202-4f38-b6ca-61bb446c06cd",
   "metadata": {},
   "outputs": [
    {
     "name": "stdout",
     "output_type": "stream",
     "text": [
      "300\n"
     ]
    }
   ],
   "source": [
    "#10\n",
    "def func1(v1,v2):\n",
    "    def func2(n1,n2):\n",
    "        return n1+n2\n",
    "    return func2(v1,v2)\n",
    "\n",
    "print(func1(100,200))\n",
    "\n",
    "#print(func2(100,200))"
   ]
  },
  {
   "cell_type": "code",
   "execution_count": 12,
   "id": "b3ca632b-b48f-45ab-a5be-256183670c0f",
   "metadata": {},
   "outputs": [
    {
     "name": "stdout",
     "output_type": "stream",
     "text": [
      "5050\n"
     ]
    }
   ],
   "source": [
    "#11\n",
    "def addNumber(num):\n",
    "    result =0\n",
    "    if num == 0:\n",
    "        pass\n",
    "    else:\n",
    "        return num +addNumber(num-1)\n",
    "    return result\n",
    "\n",
    "print(addNumber(100))"
   ]
  },
  {
   "cell_type": "code",
   "execution_count": null,
   "id": "6fcc9e08-1a10-4e25-b01d-90d0c8227e3f",
   "metadata": {},
   "outputs": [],
   "source": []
  }
 ],
 "metadata": {
  "kernelspec": {
   "display_name": "Python 3 (ipykernel)",
   "language": "python",
   "name": "python3"
  },
  "language_info": {
   "codemirror_mode": {
    "name": "ipython",
    "version": 3
   },
   "file_extension": ".py",
   "mimetype": "text/x-python",
   "name": "python",
   "nbconvert_exporter": "python",
   "pygments_lexer": "ipython3",
   "version": "3.9.7"
  }
 },
 "nbformat": 4,
 "nbformat_minor": 5
}
