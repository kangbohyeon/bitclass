{
 "cells": [
  {
   "cell_type": "code",
   "execution_count": 3,
   "id": "31d2aa36-0345-4c25-8661-83869e08112c",
   "metadata": {},
   "outputs": [],
   "source": [
    "#2\n",
    "class Car :\n",
    "    color=''\n",
    "    speed=0\n",
    "    \n",
    "    def upSpeed(self,value):\n",
    "        self.speed +=value"
   ]
  },
  {
   "cell_type": "code",
   "execution_count": null,
   "id": "7d384f0e-1a8e-405c-99b4-7a5d44fe2b99",
   "metadata": {},
   "outputs": [],
   "source": [
    "#3 -2,3"
   ]
  },
  {
   "cell_type": "code",
   "execution_count": 20,
   "id": "e05cb212-fe40-4482-a779-6f381aff755d",
   "metadata": {},
   "outputs": [],
   "source": [
    "#4\n",
    "class Horse:\n",
    "    speed = 0\n",
    "    def __init__(self):\n",
    "        self.speed=50"
   ]
  },
  {
   "cell_type": "code",
   "execution_count": 21,
   "id": "9b361974-7b72-4f22-a164-f9f19b54c32d",
   "metadata": {},
   "outputs": [],
   "source": [
    "ho = Horse()"
   ]
  },
  {
   "cell_type": "code",
   "execution_count": 22,
   "id": "35f9f157-9da2-4589-b79e-88132502ad32",
   "metadata": {},
   "outputs": [
    {
     "data": {
      "text/plain": [
       "50"
      ]
     },
     "execution_count": 22,
     "metadata": {},
     "output_type": "execute_result"
    }
   ],
   "source": [
    "ho.speed"
   ]
  },
  {
   "cell_type": "code",
   "execution_count": 1,
   "id": "88f7309f-ac4b-4ee1-b2e3-7a9c575bba6b",
   "metadata": {},
   "outputs": [
    {
     "name": "stdout",
     "output_type": "stream",
     "text": [
      "super\n",
      "sub\n"
     ]
    }
   ],
   "source": [
    "#6 -3번\n",
    "class Car :\n",
    "    def method(self):\n",
    "        print('super')\n",
    "class Sedan(Car) :\n",
    "    def method(self):\n",
    "        print('sub')\n",
    "        \n",
    "myCar=Car()\n",
    "myseDan = Sedan()\n",
    "myCar.method()\n",
    "myseDan.method()"
   ]
  },
  {
   "cell_type": "code",
   "execution_count": 13,
   "id": "bd6c7e36-72bb-4343-a021-4309b9069162",
   "metadata": {},
   "outputs": [],
   "source": [
    "#7 \n",
    "class Car:\n",
    "    speed = 0\n",
    "    \n",
    "    def upSpeed(self,value):\n",
    "        self.speed = self.speed + value\n",
    "        \n",
    "class RVCar(Car):\n",
    "    seatNum = 0\n",
    "    def getSeatNum(self):\n",
    "        return self.seatNum\n",
    "    "
   ]
  },
  {
   "cell_type": "code",
   "execution_count": 14,
   "id": "3a7376a6-4d14-465b-8af8-1e43b8f07eac",
   "metadata": {},
   "outputs": [],
   "source": [
    "rv = RVCar()"
   ]
  },
  {
   "cell_type": "code",
   "execution_count": 15,
   "id": "f8e7deed-2f93-4cd0-8b78-ede37684b1b7",
   "metadata": {},
   "outputs": [
    {
     "data": {
      "text/plain": [
       "0"
      ]
     },
     "execution_count": 15,
     "metadata": {},
     "output_type": "execute_result"
    }
   ],
   "source": [
    "rv.speed"
   ]
  },
  {
   "cell_type": "code",
   "execution_count": 16,
   "id": "a0232504-e43a-4b9a-9347-9e273a409b8f",
   "metadata": {},
   "outputs": [
    {
     "data": {
      "text/plain": [
       "0"
      ]
     },
     "execution_count": 16,
     "metadata": {},
     "output_type": "execute_result"
    }
   ],
   "source": [
    "rv.seatNum"
   ]
  },
  {
   "cell_type": "code",
   "execution_count": 18,
   "id": "df05b086-3d18-4480-9017-54c0ce777b92",
   "metadata": {},
   "outputs": [],
   "source": [
    "rv.upSpeed(10)"
   ]
  },
  {
   "cell_type": "code",
   "execution_count": 19,
   "id": "329f4a7d-3176-4820-91f0-4b2e0900aa39",
   "metadata": {},
   "outputs": [
    {
     "data": {
      "text/plain": [
       "10"
      ]
     },
     "execution_count": 19,
     "metadata": {},
     "output_type": "execute_result"
    }
   ],
   "source": [
    "rv.speed"
   ]
  },
  {
   "cell_type": "code",
   "execution_count": null,
   "id": "ac3c4cb7-0209-49e5-9814-4756532df5e5",
   "metadata": {},
   "outputs": [],
   "source": []
  }
 ],
 "metadata": {
  "kernelspec": {
   "display_name": "Python 3 (ipykernel)",
   "language": "python",
   "name": "python3"
  },
  "language_info": {
   "codemirror_mode": {
    "name": "ipython",
    "version": 3
   },
   "file_extension": ".py",
   "mimetype": "text/x-python",
   "name": "python",
   "nbconvert_exporter": "python",
   "pygments_lexer": "ipython3",
   "version": "3.9.7"
  }
 },
 "nbformat": 4,
 "nbformat_minor": 5
}
