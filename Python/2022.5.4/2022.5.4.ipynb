{
  "nbformat": 4,
  "nbformat_minor": 0,
  "metadata": {
    "colab": {
      "name": "비트2205 분석시각화 01.ipynb",
      "provenance": [],
      "collapsed_sections": [],
      "authorship_tag": "ABX9TyPHplRrAIGaC3GOSRZUZn9o",
      "include_colab_link": true
    },
    "kernelspec": {
      "name": "python3",
      "display_name": "Python 3"
    },
    "language_info": {
      "name": "python"
    }
  },
  "cells": [
    {
      "cell_type": "markdown",
      "metadata": {
        "id": "view-in-github",
        "colab_type": "text"
      },
      "source": [
        "<a href=\"https://colab.research.google.com/github/kangbohyeon/bitclass/blob/main/2022.5.4.ipynb\" target=\"_parent\"><img src=\"https://colab.research.google.com/assets/colab-badge.svg\" alt=\"Open In Colab\"/></a>"
      ]
    },
    {
      "cell_type": "code",
      "source": [
        "tu = 2,3\n",
        "print(type(tu))"
      ],
      "metadata": {
        "colab": {
          "base_uri": "https://localhost:8080/"
        },
        "id": "Kl2R5gY1eKRv",
        "outputId": "c2d9b0c6-e5e1-4f98-f1ce-adc905a40b00"
      },
      "execution_count": 122,
      "outputs": [
        {
          "output_type": "stream",
          "name": "stdout",
          "text": [
            "<class 'tuple'>\n"
          ]
        }
      ]
    },
    {
      "cell_type": "code",
      "source": [
        "def get_sum_aver(data):\n",
        "  s = 0\n",
        "  for e in data : \n",
        "    s+=e\n",
        "  return s,s/len(data)"
      ],
      "metadata": {
        "id": "lZoZzAn5ejet"
      },
      "execution_count": 123,
      "outputs": []
    },
    {
      "cell_type": "code",
      "source": [
        "re = get_sum_aver([1,4,5,32,5])\n",
        "print(type(re))"
      ],
      "metadata": {
        "colab": {
          "base_uri": "https://localhost:8080/"
        },
        "id": "8ysIJD2be1Pj",
        "outputId": "b3fd2451-0c0c-4e42-f67c-21c5b861526f"
      },
      "execution_count": 124,
      "outputs": [
        {
          "output_type": "stream",
          "name": "stdout",
          "text": [
            "<class 'tuple'>\n"
          ]
        }
      ]
    },
    {
      "cell_type": "code",
      "source": [
        "a,b = re\n",
        "print(a,b)"
      ],
      "metadata": {
        "colab": {
          "base_uri": "https://localhost:8080/"
        },
        "id": "mmNDuM6ye7Wx",
        "outputId": "e5335d15-3e2f-4fd2-c517-3dc1b260c445"
      },
      "execution_count": 125,
      "outputs": [
        {
          "output_type": "stream",
          "name": "stdout",
          "text": [
            "47 9.4\n"
          ]
        }
      ]
    },
    {
      "cell_type": "code",
      "source": [
        "s,a = get_sum_aver([1,4,5,32,5])\n",
        "print(f\"합계 :{s} 평균 :{a:.2f}\")"
      ],
      "metadata": {
        "colab": {
          "base_uri": "https://localhost:8080/"
        },
        "id": "Xaj_coP8e_Px",
        "outputId": "36cfd8d4-08a4-41aa-fb6d-c7ba22fc37bd"
      },
      "execution_count": 126,
      "outputs": [
        {
          "output_type": "stream",
          "name": "stdout",
          "text": [
            "합계 :47 평균 :9.40\n"
          ]
        }
      ]
    },
    {
      "cell_type": "markdown",
      "source": [
        "# 리스트"
      ],
      "metadata": {
        "id": "x5ePiVIRgwej"
      }
    },
    {
      "cell_type": "markdown",
      "source": [
        ""
      ],
      "metadata": {
        "id": "0Jv5Mi9igsSM"
      }
    },
    {
      "cell_type": "code",
      "source": [
        "la = [2,3,4]\n",
        "lb = [4,2,1]\n",
        "lc = la+lb\n",
        "print(lc)\n"
      ],
      "metadata": {
        "colab": {
          "base_uri": "https://localhost:8080/"
        },
        "id": "h0ImMj2Zgx-p",
        "outputId": "a8d22c5c-1c48-45f8-d70f-f00ff5e76660"
      },
      "execution_count": 127,
      "outputs": [
        {
          "output_type": "stream",
          "name": "stdout",
          "text": [
            "[2, 3, 4, 4, 2, 1]\n"
          ]
        }
      ]
    },
    {
      "cell_type": "markdown",
      "source": [
        "# 왜 numpy냐?\n",
        "행렬 계산등을 쉽게"
      ],
      "metadata": {
        "id": "kFEah8nWhNil"
      }
    },
    {
      "cell_type": "code",
      "source": [
        "import numpy as np"
      ],
      "metadata": {
        "id": "vHAqnVdvhRTB"
      },
      "execution_count": 128,
      "outputs": []
    },
    {
      "cell_type": "code",
      "source": [
        "na = np.array([1,2,3])\n",
        "nb = np.array([2,5,2])\n",
        "nc = na+nb\n",
        "print(nc)"
      ],
      "metadata": {
        "colab": {
          "base_uri": "https://localhost:8080/"
        },
        "id": "kQmuvQXqhUrm",
        "outputId": "eaeaed2c-8526-4cd5-a323-fe613a8f171e"
      },
      "execution_count": 129,
      "outputs": [
        {
          "output_type": "stream",
          "name": "stdout",
          "text": [
            "[3 7 5]\n"
          ]
        }
      ]
    },
    {
      "cell_type": "markdown",
      "source": [
        "# 리스트 컴프리핸션"
      ],
      "metadata": {
        "id": "TOhpN7jxiOlK"
      }
    },
    {
      "cell_type": "code",
      "source": [
        "a = [ x for x in range(10)]\n",
        "print(a)"
      ],
      "metadata": {
        "colab": {
          "base_uri": "https://localhost:8080/"
        },
        "id": "1yoDG63iiQrR",
        "outputId": "62a0901f-9b48-4711-95af-ad98bfc3b62b"
      },
      "execution_count": 130,
      "outputs": [
        {
          "output_type": "stream",
          "name": "stdout",
          "text": [
            "[0, 1, 2, 3, 4, 5, 6, 7, 8, 9]\n"
          ]
        }
      ]
    },
    {
      "cell_type": "code",
      "source": [
        "a = []\n",
        "for x in range(10):\n",
        "  a.append(x)\n",
        "print(a)"
      ],
      "metadata": {
        "colab": {
          "base_uri": "https://localhost:8080/"
        },
        "id": "g3ptD8OsieRB",
        "outputId": "31ee0596-14d5-479f-e103-ffc5164a166f"
      },
      "execution_count": 131,
      "outputs": [
        {
          "output_type": "stream",
          "name": "stdout",
          "text": [
            "[0, 1, 2, 3, 4, 5, 6, 7, 8, 9]\n"
          ]
        }
      ]
    },
    {
      "cell_type": "code",
      "source": [
        ""
      ],
      "metadata": {
        "id": "u02UWcvTii5b"
      },
      "execution_count": 131,
      "outputs": []
    },
    {
      "cell_type": "markdown",
      "source": [
        "# 데이터 수집 - 1. 웹크롤링"
      ],
      "metadata": {
        "id": "Tmnb_e9Ij3LM"
      }
    },
    {
      "cell_type": "code",
      "source": [
        "import urllib.request"
      ],
      "metadata": {
        "id": "6BBufOGFj6GA"
      },
      "execution_count": 132,
      "outputs": []
    },
    {
      "cell_type": "code",
      "source": [
        "reponse = urllib.request.urlopen('http://ehpub.co.kr')\n",
        "print(reponse)"
      ],
      "metadata": {
        "colab": {
          "base_uri": "https://localhost:8080/"
        },
        "id": "QQHDwRRCj9P7",
        "outputId": "0e9b3f70-cac6-45ce-f5b1-088c698d7cc7"
      },
      "execution_count": 133,
      "outputs": [
        {
          "output_type": "stream",
          "name": "stdout",
          "text": [
            "<http.client.HTTPResponse object at 0x7fb8c5f39190>\n"
          ]
        }
      ]
    },
    {
      "cell_type": "code",
      "source": [
        "if reponse.getcode() !=200:\n",
        "  print(\"허걱!!!\")\n",
        "else : \n",
        "  print(\"웹 크롤링 성공\")"
      ],
      "metadata": {
        "colab": {
          "base_uri": "https://localhost:8080/"
        },
        "id": "2BeQZnghkT61",
        "outputId": "a8a4248b-a0ba-4476-e007-ab0bd34a73ac"
      },
      "execution_count": 134,
      "outputs": [
        {
          "output_type": "stream",
          "name": "stdout",
          "text": [
            "웹 크롤링 성공\n"
          ]
        }
      ]
    },
    {
      "cell_type": "code",
      "source": [
        "result = reponse.read().decode('utf-8')\n",
        "print(result)"
      ],
      "metadata": {
        "colab": {
          "base_uri": "https://localhost:8080/"
        },
        "id": "27iLhpWZkuYy",
        "outputId": "4c895b5d-08be-44b0-ad29-81d7c64586ad"
      },
      "execution_count": 135,
      "outputs": [
        {
          "output_type": "stream",
          "name": "stdout",
          "text": [
            "<!DOCTYPE html>\n",
            "<html lang=\"ko-KR\">\n",
            "<head>\n",
            "\t<title>언제나 휴일 &#8211; 언제나 휴일 프로그래머</title>\n",
            "<meta name='robots' content='max-image-preview:large' />\n",
            "<meta charset=\"UTF-8\" />\n",
            "<meta name=\"viewport\" content=\"width=device-width, initial-scale=1\" />\n",
            "<meta name=\"template\" content=\"Ignite 1.80\" />\n",
            "<link rel='dns-prefetch' href='//fonts.googleapis.com' />\n",
            "<link rel='dns-prefetch' href='//s.w.org' />\n",
            "<link rel=\"alternate\" type=\"application/rss+xml\" title=\"언제나 휴일 &raquo; 피드\" href=\"http://ehpub.co.kr/feed/\" />\n",
            "<link rel=\"alternate\" type=\"application/rss+xml\" title=\"언제나 휴일 &raquo; 댓글 피드\" href=\"http://ehpub.co.kr/comments/feed/\" />\n",
            "<script type=\"text/javascript\">\n",
            "window._wpemojiSettings = {\"baseUrl\":\"https:\\/\\/s.w.org\\/images\\/core\\/emoji\\/13.1.0\\/72x72\\/\",\"ext\":\".png\",\"svgUrl\":\"https:\\/\\/s.w.org\\/images\\/core\\/emoji\\/13.1.0\\/svg\\/\",\"svgExt\":\".svg\",\"source\":{\"concatemoji\":\"http:\\/\\/ehpub.co.kr\\/wp-includes\\/js\\/wp-emoji-release.min.js?ver=5.9.3\"}};\n",
            "/*! This file is auto-generated */\n",
            "!function(e,a,t){var n,r,o,i=a.createElement(\"canvas\"),p=i.getContext&&i.getContext(\"2d\");function s(e,t){var a=String.fromCharCode;p.clearRect(0,0,i.width,i.height),p.fillText(a.apply(this,e),0,0);e=i.toDataURL();return p.clearRect(0,0,i.width,i.height),p.fillText(a.apply(this,t),0,0),e===i.toDataURL()}function c(e){var t=a.createElement(\"script\");t.src=e,t.defer=t.type=\"text/javascript\",a.getElementsByTagName(\"head\")[0].appendChild(t)}for(o=Array(\"flag\",\"emoji\"),t.supports={everything:!0,everythingExceptFlag:!0},r=0;r<o.length;r++)t.supports[o[r]]=function(e){if(!p||!p.fillText)return!1;switch(p.textBaseline=\"top\",p.font=\"600 32px Arial\",e){case\"flag\":return s([127987,65039,8205,9895,65039],[127987,65039,8203,9895,65039])?!1:!s([55356,56826,55356,56819],[55356,56826,8203,55356,56819])&&!s([55356,57332,56128,56423,56128,56418,56128,56421,56128,56430,56128,56423,56128,56447],[55356,57332,8203,56128,56423,8203,56128,56418,8203,56128,56421,8203,56128,56430,8203,56128,56423,8203,56128,56447]);case\"emoji\":return!s([10084,65039,8205,55357,56613],[10084,65039,8203,55357,56613])}return!1}(o[r]),t.supports.everything=t.supports.everything&&t.supports[o[r]],\"flag\"!==o[r]&&(t.supports.everythingExceptFlag=t.supports.everythingExceptFlag&&t.supports[o[r]]);t.supports.everythingExceptFlag=t.supports.everythingExceptFlag&&!t.supports.flag,t.DOMReady=!1,t.readyCallback=function(){t.DOMReady=!0},t.supports.everything||(n=function(){t.readyCallback()},a.addEventListener?(a.addEventListener(\"DOMContentLoaded\",n,!1),e.addEventListener(\"load\",n,!1)):(e.attachEvent(\"onload\",n),a.attachEvent(\"onreadystatechange\",function(){\"complete\"===a.readyState&&t.readyCallback()})),(n=t.source||{}).concatemoji?c(n.concatemoji):n.wpemoji&&n.twemoji&&(c(n.twemoji),c(n.wpemoji)))}(window,document,window._wpemojiSettings);\n",
            "</script>\n",
            "<style type=\"text/css\">\n",
            "img.wp-smiley,\n",
            "img.emoji {\n",
            "\tdisplay: inline !important;\n",
            "\tborder: none !important;\n",
            "\tbox-shadow: none !important;\n",
            "\theight: 1em !important;\n",
            "\twidth: 1em !important;\n",
            "\tmargin: 0 0.07em !important;\n",
            "\tvertical-align: -0.1em !important;\n",
            "\tbackground: none !important;\n",
            "\tpadding: 0 !important;\n",
            "}\n",
            "</style>\n",
            "\t<link rel='stylesheet' id='wp-block-library-css'  href='http://ehpub.co.kr/wp-includes/css/dist/block-library/style.min.css?ver=5.9.3' type='text/css' media='all' />\n",
            "<style id='global-styles-inline-css' type='text/css'>\n",
            "body{--wp--preset--color--black: #000000;--wp--preset--color--cyan-bluish-gray: #abb8c3;--wp--preset--color--white: #ffffff;--wp--preset--color--pale-pink: #f78da7;--wp--preset--color--vivid-red: #cf2e2e;--wp--preset--color--luminous-vivid-orange: #ff6900;--wp--preset--color--luminous-vivid-amber: #fcb900;--wp--preset--color--light-green-cyan: #7bdcb5;--wp--preset--color--vivid-green-cyan: #00d084;--wp--preset--color--pale-cyan-blue: #8ed1fc;--wp--preset--color--vivid-cyan-blue: #0693e3;--wp--preset--color--vivid-purple: #9b51e0;--wp--preset--gradient--vivid-cyan-blue-to-vivid-purple: linear-gradient(135deg,rgba(6,147,227,1) 0%,rgb(155,81,224) 100%);--wp--preset--gradient--light-green-cyan-to-vivid-green-cyan: linear-gradient(135deg,rgb(122,220,180) 0%,rgb(0,208,130) 100%);--wp--preset--gradient--luminous-vivid-amber-to-luminous-vivid-orange: linear-gradient(135deg,rgba(252,185,0,1) 0%,rgba(255,105,0,1) 100%);--wp--preset--gradient--luminous-vivid-orange-to-vivid-red: linear-gradient(135deg,rgba(255,105,0,1) 0%,rgb(207,46,46) 100%);--wp--preset--gradient--very-light-gray-to-cyan-bluish-gray: linear-gradient(135deg,rgb(238,238,238) 0%,rgb(169,184,195) 100%);--wp--preset--gradient--cool-to-warm-spectrum: linear-gradient(135deg,rgb(74,234,220) 0%,rgb(151,120,209) 20%,rgb(207,42,186) 40%,rgb(238,44,130) 60%,rgb(251,105,98) 80%,rgb(254,248,76) 100%);--wp--preset--gradient--blush-light-purple: linear-gradient(135deg,rgb(255,206,236) 0%,rgb(152,150,240) 100%);--wp--preset--gradient--blush-bordeaux: linear-gradient(135deg,rgb(254,205,165) 0%,rgb(254,45,45) 50%,rgb(107,0,62) 100%);--wp--preset--gradient--luminous-dusk: linear-gradient(135deg,rgb(255,203,112) 0%,rgb(199,81,192) 50%,rgb(65,88,208) 100%);--wp--preset--gradient--pale-ocean: linear-gradient(135deg,rgb(255,245,203) 0%,rgb(182,227,212) 50%,rgb(51,167,181) 100%);--wp--preset--gradient--electric-grass: linear-gradient(135deg,rgb(202,248,128) 0%,rgb(113,206,126) 100%);--wp--preset--gradient--midnight: linear-gradient(135deg,rgb(2,3,129) 0%,rgb(40,116,252) 100%);--wp--preset--duotone--dark-grayscale: url('#wp-duotone-dark-grayscale');--wp--preset--duotone--grayscale: url('#wp-duotone-grayscale');--wp--preset--duotone--purple-yellow: url('#wp-duotone-purple-yellow');--wp--preset--duotone--blue-red: url('#wp-duotone-blue-red');--wp--preset--duotone--midnight: url('#wp-duotone-midnight');--wp--preset--duotone--magenta-yellow: url('#wp-duotone-magenta-yellow');--wp--preset--duotone--purple-green: url('#wp-duotone-purple-green');--wp--preset--duotone--blue-orange: url('#wp-duotone-blue-orange');--wp--preset--font-size--small: 13px;--wp--preset--font-size--medium: 20px;--wp--preset--font-size--large: 21px;--wp--preset--font-size--x-large: 42px;--wp--preset--font-size--regular: 16px;--wp--preset--font-size--larger: 36px;}.has-black-color{color: var(--wp--preset--color--black) !important;}.has-cyan-bluish-gray-color{color: var(--wp--preset--color--cyan-bluish-gray) !important;}.has-white-color{color: var(--wp--preset--color--white) !important;}.has-pale-pink-color{color: var(--wp--preset--color--pale-pink) !important;}.has-vivid-red-color{color: var(--wp--preset--color--vivid-red) !important;}.has-luminous-vivid-orange-color{color: var(--wp--preset--color--luminous-vivid-orange) !important;}.has-luminous-vivid-amber-color{color: var(--wp--preset--color--luminous-vivid-amber) !important;}.has-light-green-cyan-color{color: var(--wp--preset--color--light-green-cyan) !important;}.has-vivid-green-cyan-color{color: var(--wp--preset--color--vivid-green-cyan) !important;}.has-pale-cyan-blue-color{color: var(--wp--preset--color--pale-cyan-blue) !important;}.has-vivid-cyan-blue-color{color: var(--wp--preset--color--vivid-cyan-blue) !important;}.has-vivid-purple-color{color: var(--wp--preset--color--vivid-purple) !important;}.has-black-background-color{background-color: var(--wp--preset--color--black) !important;}.has-cyan-bluish-gray-background-color{background-color: var(--wp--preset--color--cyan-bluish-gray) !important;}.has-white-background-color{background-color: var(--wp--preset--color--white) !important;}.has-pale-pink-background-color{background-color: var(--wp--preset--color--pale-pink) !important;}.has-vivid-red-background-color{background-color: var(--wp--preset--color--vivid-red) !important;}.has-luminous-vivid-orange-background-color{background-color: var(--wp--preset--color--luminous-vivid-orange) !important;}.has-luminous-vivid-amber-background-color{background-color: var(--wp--preset--color--luminous-vivid-amber) !important;}.has-light-green-cyan-background-color{background-color: var(--wp--preset--color--light-green-cyan) !important;}.has-vivid-green-cyan-background-color{background-color: var(--wp--preset--color--vivid-green-cyan) !important;}.has-pale-cyan-blue-background-color{background-color: var(--wp--preset--color--pale-cyan-blue) !important;}.has-vivid-cyan-blue-background-color{background-color: var(--wp--preset--color--vivid-cyan-blue) !important;}.has-vivid-purple-background-color{background-color: var(--wp--preset--color--vivid-purple) !important;}.has-black-border-color{border-color: var(--wp--preset--color--black) !important;}.has-cyan-bluish-gray-border-color{border-color: var(--wp--preset--color--cyan-bluish-gray) !important;}.has-white-border-color{border-color: var(--wp--preset--color--white) !important;}.has-pale-pink-border-color{border-color: var(--wp--preset--color--pale-pink) !important;}.has-vivid-red-border-color{border-color: var(--wp--preset--color--vivid-red) !important;}.has-luminous-vivid-orange-border-color{border-color: var(--wp--preset--color--luminous-vivid-orange) !important;}.has-luminous-vivid-amber-border-color{border-color: var(--wp--preset--color--luminous-vivid-amber) !important;}.has-light-green-cyan-border-color{border-color: var(--wp--preset--color--light-green-cyan) !important;}.has-vivid-green-cyan-border-color{border-color: var(--wp--preset--color--vivid-green-cyan) !important;}.has-pale-cyan-blue-border-color{border-color: var(--wp--preset--color--pale-cyan-blue) !important;}.has-vivid-cyan-blue-border-color{border-color: var(--wp--preset--color--vivid-cyan-blue) !important;}.has-vivid-purple-border-color{border-color: var(--wp--preset--color--vivid-purple) !important;}.has-vivid-cyan-blue-to-vivid-purple-gradient-background{background: var(--wp--preset--gradient--vivid-cyan-blue-to-vivid-purple) !important;}.has-light-green-cyan-to-vivid-green-cyan-gradient-background{background: var(--wp--preset--gradient--light-green-cyan-to-vivid-green-cyan) !important;}.has-luminous-vivid-amber-to-luminous-vivid-orange-gradient-background{background: var(--wp--preset--gradient--luminous-vivid-amber-to-luminous-vivid-orange) !important;}.has-luminous-vivid-orange-to-vivid-red-gradient-background{background: var(--wp--preset--gradient--luminous-vivid-orange-to-vivid-red) !important;}.has-very-light-gray-to-cyan-bluish-gray-gradient-background{background: var(--wp--preset--gradient--very-light-gray-to-cyan-bluish-gray) !important;}.has-cool-to-warm-spectrum-gradient-background{background: var(--wp--preset--gradient--cool-to-warm-spectrum) !important;}.has-blush-light-purple-gradient-background{background: var(--wp--preset--gradient--blush-light-purple) !important;}.has-blush-bordeaux-gradient-background{background: var(--wp--preset--gradient--blush-bordeaux) !important;}.has-luminous-dusk-gradient-background{background: var(--wp--preset--gradient--luminous-dusk) !important;}.has-pale-ocean-gradient-background{background: var(--wp--preset--gradient--pale-ocean) !important;}.has-electric-grass-gradient-background{background: var(--wp--preset--gradient--electric-grass) !important;}.has-midnight-gradient-background{background: var(--wp--preset--gradient--midnight) !important;}.has-small-font-size{font-size: var(--wp--preset--font-size--small) !important;}.has-medium-font-size{font-size: var(--wp--preset--font-size--medium) !important;}.has-large-font-size{font-size: var(--wp--preset--font-size--large) !important;}.has-x-large-font-size{font-size: var(--wp--preset--font-size--x-large) !important;}\n",
            "</style>\n",
            "<link rel='stylesheet' id='ct-ignite-google-fonts-css'  href='//fonts.googleapis.com/css?family=Lato%3AThin%2CThin+Italic%2CLight%2CLight+Italic%2CRegular%2CItalic%2CBold%2CBold+Italic%2CUltra-Bold%2CUltra-Bold+Italic&#038;subset=latin%2Clatin-ext&#038;ver=5.9.3' type='text/css' media='all' />\n",
            "<link rel='stylesheet' id='ct-ignite-font-awesome-css'  href='http://ehpub.co.kr/wp-content/themes/ignite/assets/font-awesome/css/all.min.css?ver=5.9.3' type='text/css' media='all' />\n",
            "<link rel='stylesheet' id='ct-ignite-style-css'  href='http://ehpub.co.kr/wp-content/themes/ignite/style.css?ver=5.9.3' type='text/css' media='all' />\n",
            "<style id='ct-ignite-style-inline-css' type='text/css'>\n",
            "\n",
            "            body, h1, h2, h3, h4, h5, h6, input:not([type='checkbox']):not([type='radio']):not([type='submit']):not([type='file']), input[type='submit'], textarea {\n",
            "                font-family: Lato;\n",
            "                font-style: normal;\n",
            "                font-weight: 400;\n",
            "            }\n",
            "        \n",
            "\n",
            "            .overflow-container {\n",
            "                background: ;\n",
            "            }\n",
            "            .main, .sidebar-primary-container, .breadcrumb-trail {\n",
            "                background: none;\n",
            "            }\n",
            "        \n",
            "</style>\n",
            "<link rel='stylesheet' id='__EPYT__style-css'  href='http://ehpub.co.kr/wp-content/plugins/youtube-embed-plus/styles/ytprefs.min.css?ver=14.1' type='text/css' media='all' />\n",
            "<style id='__EPYT__style-inline-css' type='text/css'>\n",
            "\r\n",
            "                .epyt-gallery-thumb {\r\n",
            "                        width: 33.333%;\r\n",
            "                }\r\n",
            "                \n",
            "</style>\n",
            "<script type='text/javascript' src='http://ehpub.co.kr/wp-includes/js/jquery/jquery.min.js?ver=3.6.0' id='jquery-core-js'></script>\n",
            "<script type='text/javascript' src='http://ehpub.co.kr/wp-includes/js/jquery/jquery-migrate.min.js?ver=3.3.2' id='jquery-migrate-js'></script>\n",
            "<script type='text/javascript' id='__ytprefs__-js-extra'>\n",
            "/* <![CDATA[ */\n",
            "var _EPYT_ = {\"ajaxurl\":\"http:\\/\\/ehpub.co.kr\\/wp-admin\\/admin-ajax.php\",\"security\":\"8868268f4b\",\"gallery_scrolloffset\":\"20\",\"eppathtoscripts\":\"http:\\/\\/ehpub.co.kr\\/wp-content\\/plugins\\/youtube-embed-plus\\/scripts\\/\",\"eppath\":\"http:\\/\\/ehpub.co.kr\\/wp-content\\/plugins\\/youtube-embed-plus\\/\",\"epresponsiveselector\":\"[\\\"iframe.__youtube_prefs_widget__\\\"]\",\"epdovol\":\"1\",\"version\":\"14.1\",\"evselector\":\"iframe.__youtube_prefs__[src], iframe[src*=\\\"youtube.com\\/embed\\/\\\"], iframe[src*=\\\"youtube-nocookie.com\\/embed\\/\\\"]\",\"ajax_compat\":\"\",\"ytapi_load\":\"light\",\"pause_others\":\"\",\"stopMobileBuffer\":\"1\",\"not_live_on_channel\":\"\",\"vi_active\":\"\",\"vi_js_posttypes\":[]};\n",
            "/* ]]> */\n",
            "</script>\n",
            "<script type='text/javascript' src='http://ehpub.co.kr/wp-content/plugins/youtube-embed-plus/scripts/ytprefs.min.js?ver=14.1' id='__ytprefs__-js'></script>\n",
            "<link rel=\"https://api.w.org/\" href=\"http://ehpub.co.kr/wp-json/\" /><link rel=\"alternate\" type=\"application/json\" href=\"http://ehpub.co.kr/wp-json/wp/v2/pages/1523\" /><link rel=\"EditURI\" type=\"application/rsd+xml\" title=\"RSD\" href=\"http://ehpub.co.kr/xmlrpc.php?rsd\" />\n",
            "<link rel=\"wlwmanifest\" type=\"application/wlwmanifest+xml\" href=\"http://ehpub.co.kr/wp-includes/wlwmanifest.xml\" /> \n",
            "<meta name=\"generator\" content=\"WordPress 5.9.3\" />\n",
            "<link rel=\"canonical\" href=\"http://ehpub.co.kr/\" />\n",
            "<link rel='shortlink' href='http://ehpub.co.kr/' />\n",
            "<link rel=\"alternate\" type=\"application/json+oembed\" href=\"http://ehpub.co.kr/wp-json/oembed/1.0/embed?url=http%3A%2F%2Fehpub.co.kr%2F\" />\n",
            "<link rel=\"alternate\" type=\"text/xml+oembed\" href=\"http://ehpub.co.kr/wp-json/oembed/1.0/embed?url=http%3A%2F%2Fehpub.co.kr%2F&#038;format=xml\" />\n",
            "                <!-- auto ad code generated with Easy Google AdSense plugin v1.0.4 -->\r\n",
            "                <script async src=\"https://pagead2.googlesyndication.com/pagead/js/adsbygoogle.js?client=ca-pub-7491702915541503\" crossorigin=\"anonymous\"></script>      \r\n",
            "                <!-- / Easy Google AdSense plugin -->\n",
            "<!-- Goolytics - Simple Google Analytics Begin -->\n",
            "<script async src=\"//www.googletagmanager.com/gtag/js?id=UA-78763610-1\"></script>\n",
            "<script>window.dataLayer = window.dataLayer || [];\n",
            "function gtag(){dataLayer.push(arguments);}\n",
            "gtag('js', new Date());\n",
            "\n",
            "gtag('config', 'UA-78763610-1');\n",
            "</script>\n",
            "<!-- Goolytics - Simple Google Analytics End -->\n",
            "\n",
            "<!-- Analytics by WP-Statistics v13.2.1 - https://wp-statistics.com/ -->\n",
            "<link rel=\"icon\" href=\"http://ehpub.co.kr/wp-content/uploads/2022/04/cropped-siteicon-32x32.png\" sizes=\"32x32\" />\n",
            "<link rel=\"icon\" href=\"http://ehpub.co.kr/wp-content/uploads/2022/04/cropped-siteicon-192x192.png\" sizes=\"192x192\" />\n",
            "<link rel=\"apple-touch-icon\" href=\"http://ehpub.co.kr/wp-content/uploads/2022/04/cropped-siteicon-180x180.png\" />\n",
            "<meta name=\"msapplication-TileImage\" content=\"http://ehpub.co.kr/wp-content/uploads/2022/04/cropped-siteicon-270x270.png\" />\n",
            "<link rel=\"alternate\" type=\"application/rss+xml\" title=\"RSS\" href=\"http://ehpub.co.kr/rsslatest.xml\" />        <meta name=\"naver-site-verification\" content=\"6f4ed8a07844154e42be4de3982dc627e201840f\" />\n",
            "        <!-- Global site tag (gtag.js) - Google Analytics -->\n",
            "        <script async src=\"https://www.googletagmanager.com/gtag/js?id=UA-78763610-1\"></script>\n",
            "        <script>\n",
            "              window.dataLayer = window.dataLayer || [];\n",
            "              function gtag(){dataLayer.push(arguments);}\n",
            "                 gtag('js', new Date());\n",
            "\n",
            "                 gtag('config', 'UA-78763610-1');\n",
            "         </script>\n",
            "        <!-- Global site tag (gtag.js) - Google Analytics -->\n",
            "        <script async src=\"https://www.googletagmanager.com/gtag/js?id=G-N4M3VC623V\"></script>\n",
            "        <script>\n",
            "              window.dataLayer = window.dataLayer || [];\n",
            "              function gtag(){dataLayer.push(arguments);}\n",
            "                 gtag('js', new Date());\n",
            "\n",
            "                 gtag('config', 'G-N4M3VC623V');\n",
            "         </script>\n",
            "</head>\n",
            "<body id=\"ignite\" class=\"home page-template-default page page-id-1523 parent-icons singular singular-page singular-page-1523\">\n",
            "\t<svg xmlns=\"http://www.w3.org/2000/svg\" viewBox=\"0 0 0 0\" width=\"0\" height=\"0\" focusable=\"false\" role=\"none\" style=\"visibility: hidden; position: absolute; left: -9999px; overflow: hidden;\" ><defs><filter id=\"wp-duotone-dark-grayscale\"><feColorMatrix color-interpolation-filters=\"sRGB\" type=\"matrix\" values=\" .299 .587 .114 0 0 .299 .587 .114 0 0 .299 .587 .114 0 0 .299 .587 .114 0 0 \" /><feComponentTransfer color-interpolation-filters=\"sRGB\" ><feFuncR type=\"table\" tableValues=\"0 0.49803921568627\" /><feFuncG type=\"table\" tableValues=\"0 0.49803921568627\" /><feFuncB type=\"table\" tableValues=\"0 0.49803921568627\" /><feFuncA type=\"table\" tableValues=\"1 1\" /></feComponentTransfer><feComposite in2=\"SourceGraphic\" operator=\"in\" /></filter></defs></svg><svg xmlns=\"http://www.w3.org/2000/svg\" viewBox=\"0 0 0 0\" width=\"0\" height=\"0\" focusable=\"false\" role=\"none\" style=\"visibility: hidden; position: absolute; left: -9999px; overflow: hidden;\" ><defs><filter id=\"wp-duotone-grayscale\"><feColorMatrix color-interpolation-filters=\"sRGB\" type=\"matrix\" values=\" .299 .587 .114 0 0 .299 .587 .114 0 0 .299 .587 .114 0 0 .299 .587 .114 0 0 \" /><feComponentTransfer color-interpolation-filters=\"sRGB\" ><feFuncR type=\"table\" tableValues=\"0 1\" /><feFuncG type=\"table\" tableValues=\"0 1\" /><feFuncB type=\"table\" tableValues=\"0 1\" /><feFuncA type=\"table\" tableValues=\"1 1\" /></feComponentTransfer><feComposite in2=\"SourceGraphic\" operator=\"in\" /></filter></defs></svg><svg xmlns=\"http://www.w3.org/2000/svg\" viewBox=\"0 0 0 0\" width=\"0\" height=\"0\" focusable=\"false\" role=\"none\" style=\"visibility: hidden; position: absolute; left: -9999px; overflow: hidden;\" ><defs><filter id=\"wp-duotone-purple-yellow\"><feColorMatrix color-interpolation-filters=\"sRGB\" type=\"matrix\" values=\" .299 .587 .114 0 0 .299 .587 .114 0 0 .299 .587 .114 0 0 .299 .587 .114 0 0 \" /><feComponentTransfer color-interpolation-filters=\"sRGB\" ><feFuncR type=\"table\" tableValues=\"0.54901960784314 0.98823529411765\" /><feFuncG type=\"table\" tableValues=\"0 1\" /><feFuncB type=\"table\" tableValues=\"0.71764705882353 0.25490196078431\" /><feFuncA type=\"table\" tableValues=\"1 1\" /></feComponentTransfer><feComposite in2=\"SourceGraphic\" operator=\"in\" /></filter></defs></svg><svg xmlns=\"http://www.w3.org/2000/svg\" viewBox=\"0 0 0 0\" width=\"0\" height=\"0\" focusable=\"false\" role=\"none\" style=\"visibility: hidden; position: absolute; left: -9999px; overflow: hidden;\" ><defs><filter id=\"wp-duotone-blue-red\"><feColorMatrix color-interpolation-filters=\"sRGB\" type=\"matrix\" values=\" .299 .587 .114 0 0 .299 .587 .114 0 0 .299 .587 .114 0 0 .299 .587 .114 0 0 \" /><feComponentTransfer color-interpolation-filters=\"sRGB\" ><feFuncR type=\"table\" tableValues=\"0 1\" /><feFuncG type=\"table\" tableValues=\"0 0.27843137254902\" /><feFuncB type=\"table\" tableValues=\"0.5921568627451 0.27843137254902\" /><feFuncA type=\"table\" tableValues=\"1 1\" /></feComponentTransfer><feComposite in2=\"SourceGraphic\" operator=\"in\" /></filter></defs></svg><svg xmlns=\"http://www.w3.org/2000/svg\" viewBox=\"0 0 0 0\" width=\"0\" height=\"0\" focusable=\"false\" role=\"none\" style=\"visibility: hidden; position: absolute; left: -9999px; overflow: hidden;\" ><defs><filter id=\"wp-duotone-midnight\"><feColorMatrix color-interpolation-filters=\"sRGB\" type=\"matrix\" values=\" .299 .587 .114 0 0 .299 .587 .114 0 0 .299 .587 .114 0 0 .299 .587 .114 0 0 \" /><feComponentTransfer color-interpolation-filters=\"sRGB\" ><feFuncR type=\"table\" tableValues=\"0 0\" /><feFuncG type=\"table\" tableValues=\"0 0.64705882352941\" /><feFuncB type=\"table\" tableValues=\"0 1\" /><feFuncA type=\"table\" tableValues=\"1 1\" /></feComponentTransfer><feComposite in2=\"SourceGraphic\" operator=\"in\" /></filter></defs></svg><svg xmlns=\"http://www.w3.org/2000/svg\" viewBox=\"0 0 0 0\" width=\"0\" height=\"0\" focusable=\"false\" role=\"none\" style=\"visibility: hidden; position: absolute; left: -9999px; overflow: hidden;\" ><defs><filter id=\"wp-duotone-magenta-yellow\"><feColorMatrix color-interpolation-filters=\"sRGB\" type=\"matrix\" values=\" .299 .587 .114 0 0 .299 .587 .114 0 0 .299 .587 .114 0 0 .299 .587 .114 0 0 \" /><feComponentTransfer color-interpolation-filters=\"sRGB\" ><feFuncR type=\"table\" tableValues=\"0.78039215686275 1\" /><feFuncG type=\"table\" tableValues=\"0 0.94901960784314\" /><feFuncB type=\"table\" tableValues=\"0.35294117647059 0.47058823529412\" /><feFuncA type=\"table\" tableValues=\"1 1\" /></feComponentTransfer><feComposite in2=\"SourceGraphic\" operator=\"in\" /></filter></defs></svg><svg xmlns=\"http://www.w3.org/2000/svg\" viewBox=\"0 0 0 0\" width=\"0\" height=\"0\" focusable=\"false\" role=\"none\" style=\"visibility: hidden; position: absolute; left: -9999px; overflow: hidden;\" ><defs><filter id=\"wp-duotone-purple-green\"><feColorMatrix color-interpolation-filters=\"sRGB\" type=\"matrix\" values=\" .299 .587 .114 0 0 .299 .587 .114 0 0 .299 .587 .114 0 0 .299 .587 .114 0 0 \" /><feComponentTransfer color-interpolation-filters=\"sRGB\" ><feFuncR type=\"table\" tableValues=\"0.65098039215686 0.40392156862745\" /><feFuncG type=\"table\" tableValues=\"0 1\" /><feFuncB type=\"table\" tableValues=\"0.44705882352941 0.4\" /><feFuncA type=\"table\" tableValues=\"1 1\" /></feComponentTransfer><feComposite in2=\"SourceGraphic\" operator=\"in\" /></filter></defs></svg><svg xmlns=\"http://www.w3.org/2000/svg\" viewBox=\"0 0 0 0\" width=\"0\" height=\"0\" focusable=\"false\" role=\"none\" style=\"visibility: hidden; position: absolute; left: -9999px; overflow: hidden;\" ><defs><filter id=\"wp-duotone-blue-orange\"><feColorMatrix color-interpolation-filters=\"sRGB\" type=\"matrix\" values=\" .299 .587 .114 0 0 .299 .587 .114 0 0 .299 .587 .114 0 0 .299 .587 .114 0 0 \" /><feComponentTransfer color-interpolation-filters=\"sRGB\" ><feFuncR type=\"table\" tableValues=\"0.098039215686275 1\" /><feFuncG type=\"table\" tableValues=\"0 0.66274509803922\" /><feFuncB type=\"table\" tableValues=\"0.84705882352941 0.41960784313725\" /><feFuncA type=\"table\" tableValues=\"1 1\" /></feComponentTransfer><feComposite in2=\"SourceGraphic\" operator=\"in\" /></filter></defs></svg>\t<a class=\"skip-content\" href=\"#main\">Skip to content</a>\n",
            "\t\t<header class=\"site-header\" id=\"site-header\" role=\"banner\">\n",
            "\t\t<div id=\"title-info\" class=\"title-info\">\n",
            "\t\t\t<div class=\"site-title\"><a href='http://ehpub.co.kr'><span class='screen-reader-text'>언제나 휴일</span><img id='logo' class='logo' src='http://ehpub.co.kr/wp-content/uploads/2022/04/ehpub-로고-1.png' alt='언제나휴일' /></a></div>\t\t</div>\n",
            "\t\t<button id=\"toggle-navigation\" class=\"toggle-navigation\"><i class=\"fas fa-bars\"></i></button>\n",
            "<div class=\"menu-container menu-primary\" id=\"menu-primary\" role=\"navigation\">\n",
            "\t<p id=\"site-description\" class=\"tagline\">언제나 휴일 프로그래머</p><ul id=\"menu-primary-items\" class=\"menu-primary-items\"><li id=\"menu-item-1528\" class=\"menu-item menu-item-type-custom menu-item-object-custom menu-item-has-children menu-item-1528\"><a href=\"http://ehpub.co.kr/c-introduce/\">C언어</a>\n",
            "<ul class=\"sub-menu\">\n",
            "\t<li id=\"menu-item-1519\" class=\"menu-item menu-item-type-custom menu-item-object-custom menu-item-1519\"><a href=\"http://ehpub.co.kr/c-introduce/\">디딤돌 C언어</a></li>\n",
            "\t<li id=\"menu-item-4952\" class=\"menu-item menu-item-type-custom menu-item-object-custom menu-item-4952\"><a href=\"http://ehpub.co.kr/%ec%96%b8%ec%a0%9c%eb%82%98-c%ec%96%b8%ec%96%b4-%ec%8b%9c%ec%9e%91%ed%95%a9%eb%8b%88%eb%8b%a4/\">언제나 C언어</a></li>\n",
            "\t<li id=\"menu-item-429\" class=\"menu-item menu-item-type-taxonomy menu-item-object-category menu-item-429\"><a href=\"http://ehpub.co.kr/category/c%ec%96%b8%ec%96%b4-%ec%86%8c%ec%8a%a4/\">C언어 소스</a></li>\n",
            "\t<li id=\"menu-item-1521\" class=\"menu-item menu-item-type-custom menu-item-object-custom menu-item-1521\"><a href=\"http://ehpub.co.kr/c%ec%96%b8%ec%96%b4-%ed%91%9c%ec%a4%80%ea%b3%bc-%ec%b1%85%ec%9d%98-%ea%b8%b0%ec%88%a0-%eb%b2%94%ec%9c%84/\">C언어 표준 라이브러리 함수</a></li>\n",
            "\t<li id=\"menu-item-1522\" class=\"menu-item menu-item-type-custom menu-item-object-custom menu-item-1522\"><a href=\"http://ehpub.co.kr/%ec%95%8c%ea%b3%a0%eb%a6%ac%ec%a6%98-c%ec%96%b8%ec%96%b4-1-%eb%8b%a4%eb%a3%a8%eb%8a%94-%eb%82%b4%ec%9a%a9/\">C언어 알고리즘</a></li>\n",
            "\t<li id=\"menu-item-3046\" class=\"menu-item menu-item-type-custom menu-item-object-custom menu-item-3046\"><a href=\"http://ehpub.co.kr/1-%eb%8b%a4%eb%a3%a8%eb%8a%94-%eb%82%b4%ec%9a%a9/\">자료구조와 알고리즘</a></li>\n",
            "\t<li id=\"menu-item-2975\" class=\"menu-item menu-item-type-custom menu-item-object-custom menu-item-2975\"><a href=\"http://ehpub.co.kr/c-%ed%94%84%eb%a1%9c%ec%a0%9d%ed%8a%b8-%ed%8c%a8%ed%82%b7-%eb%b6%84%ec%84%9d%ea%b8%b0-part-1-%ed%94%84%eb%a1%9c%ec%a0%9d%ed%8a%b8-%ec%86%8c%ea%b0%9c-%eb%b0%8f-%ed%8f%ac%ec%9d%b8%ed%84%b0-%ea%b0%80/\">패킷 분석 프로그램 [프로젝트]</a></li>\n",
            "</ul>\n",
            "</li>\n",
            "<li id=\"menu-item-1532\" class=\"menu-item menu-item-type-custom menu-item-object-custom menu-item-has-children menu-item-1532\"><a href=\"http://ehpub.co.kr/%eb%94%94%eb%94%a4%eb%8f%8c-c-1-%eb%93%a4%ec%96%b4%ea%b0%80%ea%b8%b0%ec%97%90-%ec%95%9e%ec%84%9c/\">C++</a>\n",
            "<ul class=\"sub-menu\">\n",
            "\t<li id=\"menu-item-1533\" class=\"menu-item menu-item-type-custom menu-item-object-custom menu-item-1533\"><a href=\"http://ehpub.co.kr/%eb%94%94%eb%94%a4%eb%8f%8c-c-1-%eb%93%a4%ec%96%b4%ea%b0%80%ea%b8%b0%ec%97%90-%ec%95%9e%ec%84%9c/\">디딤돌 C++</a></li>\n",
            "\t<li id=\"menu-item-1806\" class=\"menu-item menu-item-type-custom menu-item-object-custom menu-item-1806\"><a href=\"http://ehpub.co.kr/complex-class-capsulation-cpp/\">C++ 실습</a></li>\n",
            "\t<li id=\"menu-item-1835\" class=\"menu-item menu-item-type-custom menu-item-object-custom menu-item-1835\"><a href=\"http://ehpub.co.kr/1-%ec%86%8c%ea%b0%9c-%ec%9e%90%eb%a3%8c%ea%b5%ac%ec%a1%b0%ec%99%80-%ec%95%8c%ea%b3%a0%eb%a6%ac%ec%a6%98-with-c/\">자료구조/알고리즘 C++</a></li>\n",
            "\t<li id=\"menu-item-5633\" class=\"menu-item menu-item-type-custom menu-item-object-custom menu-item-5633\"><a href=\"http://ehpub.co.kr/1-windows-api-%ec%86%8c%ea%b0%9c/\">Windows API</a></li>\n",
            "\t<li id=\"menu-item-5417\" class=\"menu-item menu-item-type-custom menu-item-object-custom menu-item-5417\"><a href=\"http://ehpub.co.kr/1-tcp-ip-%eb%84%a4%ed%8a%b8%ec%9b%8c%ed%81%ac-%ec%86%8c%ea%b0%9c-tcp-ip-%ec%86%8c%ec%bc%93-%ed%94%84%eb%a1%9c%ea%b7%b8%eb%9e%98%eb%b0%8d-with-%ec%9c%88%eb%8f%84%ec%9a%b0%ec%a6%88/\">TCP/IP 소켓 프로그래밍 with 윈도우즈</a></li>\n",
            "</ul>\n",
            "</li>\n",
            "<li id=\"menu-item-1529\" class=\"menu-item menu-item-type-custom menu-item-object-custom menu-item-has-children menu-item-1529\"><a href=\"http://ehpub.co.kr/c-1-c-%ec%86%8c%ea%b0%9c/\">C#과 .NET</a>\n",
            "<ul class=\"sub-menu\">\n",
            "\t<li id=\"menu-item-1520\" class=\"menu-item menu-item-type-custom menu-item-object-custom menu-item-1520\"><a href=\"http://ehpub.co.kr/c-1-c-%ec%86%8c%ea%b0%9c/\">Escort C#</a></li>\n",
            "\t<li id=\"menu-item-2176\" class=\"menu-item menu-item-type-custom menu-item-object-custom menu-item-2176\"><a href=\"http://ehpub.co.kr/%ec%8b%a4%ec%8a%b5%ec%9c%bc%eb%a1%9c-%eb%8b%a4%ec%a7%80%eb%8a%94-c-1-%eb%ac%b8%ec%9e%90%ec%97%b4-%ec%b6%9c%eb%a0%a5-%ed%8f%ac%eb%a9%a7/\">C# 실습</a></li>\n",
            "\t<li id=\"menu-item-3469\" class=\"menu-item menu-item-type-custom menu-item-object-custom menu-item-3469\"><a href=\"http://ehpub.co.kr/%ec%86%8c%ed%94%84%ed%8a%b8%ec%9b%a8%ec%96%b4-%ec%84%a4%ea%b3%84-c-1%eb%b6%80-%ec%83%9d%ec%84%b1-%ed%8c%a8%ed%84%b4%eb%93%a4/\">소프트웨어 설계 패턴</a></li>\n",
            "\t<li id=\"menu-item-2297\" class=\"menu-item menu-item-type-custom menu-item-object-custom menu-item-2297\"><a href=\"http://ehpub.co.kr/windows-forms-cs-start/\">Windows Forms</a></li>\n",
            "\t<li id=\"menu-item-6667\" class=\"menu-item menu-item-type-custom menu-item-object-custom menu-item-6667\"><a href=\"http://ehpub.co.kr/windows-forms-%ec%9d%91%ec%9a%a9-with-c-1-form/\">Windows Forms 앱</a></li>\n",
            "\t<li id=\"menu-item-3294\" class=\"menu-item menu-item-type-custom menu-item-object-custom menu-item-3294\"><a href=\"http://ehpub.co.kr/wpf-start/\">WPF</a></li>\n",
            "\t<li id=\"menu-item-3349\" class=\"menu-item menu-item-type-custom menu-item-object-custom menu-item-3349\"><a href=\"http://ehpub.co.kr/tcp-echo-server-client-network-programming-cs/\">소켓 통신</a></li>\n",
            "\t<li id=\"menu-item-3718\" class=\"menu-item menu-item-type-custom menu-item-object-custom menu-item-3718\"><a href=\"http://ehpub.co.kr/1-%ec%86%8c%ed%94%84%ed%8a%b8%ec%9b%a8%ec%96%b4-%ec%a0%91%ea%b7%bc%ec%84%b1-%ea%b0%9c%ec%9a%94-%eb%b0%8f-%ea%b0%80%ec%9d%b4%eb%93%9c%eb%9d%bc%ec%9d%b8/\">SW 접근성 기술 UI 자동화</a></li>\n",
            "\t<li id=\"menu-item-4668\" class=\"menu-item menu-item-type-custom menu-item-object-custom menu-item-4668\"><a href=\"http://ehpub.co.kr/xml-net-1-xml-%ec%86%8c%ea%b0%9c/\">XML.NET</a></li>\n",
            "\t<li id=\"menu-item-4779\" class=\"menu-item menu-item-type-custom menu-item-object-custom menu-item-4779\"><a href=\"http://ehpub.co.kr/1-sql-%ea%b0%9c%ec%9a%94/\">MSSQL과 ADO.NET</a></li>\n",
            "</ul>\n",
            "</li>\n",
            "<li id=\"menu-item-3470\" class=\"menu-item menu-item-type-custom menu-item-object-custom menu-item-has-children menu-item-3470\"><a href=\"http://ehpub.co.kr/c-%ed%94%84%eb%a1%9c%ec%a0%9d%ed%8a%b8-%ed%85%8c%ed%8a%b8%eb%a6%ac%ec%8a%a4-%eb%a7%8c%eb%93%a4%ea%b8%b0-part-1-%ed%82%a4%eb%b3%b4%eb%93%9c%eb%a1%9c-%eb%8f%84%ed%98%95-%ec%a0%9c%ec%96%b4%ed%95%98/\">.NET 프로젝트</a>\n",
            "<ul class=\"sub-menu\">\n",
            "\t<li id=\"menu-item-2880\" class=\"menu-item menu-item-type-custom menu-item-object-custom menu-item-2880\"><a href=\"http://ehpub.co.kr/c-%ed%94%84%eb%a1%9c%ec%a0%9d%ed%8a%b8-%ed%85%8c%ed%8a%b8%eb%a6%ac%ec%8a%a4-%eb%a7%8c%eb%93%a4%ea%b8%b0-part-1-%ed%82%a4%eb%b3%b4%eb%93%9c%eb%a1%9c-%eb%8f%84%ed%98%95-%ec%a0%9c%ec%96%b4%ed%95%98/\">테트리스</a></li>\n",
            "\t<li id=\"menu-item-2912\" class=\"menu-item menu-item-type-custom menu-item-object-custom menu-item-2912\"><a href=\"http://ehpub.co.kr/%ec%9b%90%ea%b2%a9-%ec%a0%9c%ec%96%b4-%ed%94%84%eb%a1%9c%ea%b7%b8%eb%9e%a8-1-%ea%b0%9c%ec%9a%94/\">원격 제어 프로그램</a></li>\n",
            "\t<li id=\"menu-item-2834\" class=\"menu-item menu-item-type-custom menu-item-object-custom menu-item-2834\"><a href=\"http://ehpub.co.kr/wafer-%ec%bd%94%ed%8c%85-%ec%8b%9c%eb%ae%ac%eb%a0%88%ec%9d%b4%ec%85%98-1-%ec%86%8c%ea%b0%9c/\">Wafer 코팅 시뮬레이션</a></li>\n",
            "\t<li id=\"menu-item-2353\" class=\"menu-item menu-item-type-custom menu-item-object-custom menu-item-2353\"><a href=\"http://ehpub.co.kr/0-%eb%93%a4%ec%96%b4%ea%b0%80%ea%b8%b0%ec%97%90-%ec%95%9e%ec%84%9c/\">웹 검색 엔진 만들기</a></li>\n",
            "\t<li id=\"menu-item-3684\" class=\"menu-item menu-item-type-custom menu-item-object-custom menu-item-3684\"><a href=\"http://ehpub.co.kr/%eb%af%b8%eb%94%94-%eb%b6%84%ec%84%9d-%ed%94%84%eb%a1%9c%ea%b7%b8%eb%9e%a8-1-%ed%94%84%eb%a1%9c%ec%a0%9d%ed%8a%b8-%ec%86%8c%ea%b0%9c/\">미디 분석 프로그램</a></li>\n",
            "\t<li id=\"menu-item-3389\" class=\"menu-item menu-item-type-custom menu-item-object-custom menu-item-3389\"><a href=\"http://ehpub.co.kr/ml-net-install-uninstall-cs/\">ML.NET</a></li>\n",
            "\t<li id=\"menu-item-3409\" class=\"menu-item menu-item-type-custom menu-item-object-custom menu-item-3409\"><a href=\"http://ehpub.co.kr/news-crawling-naver-developers-csharp-bigdata-analysis/\">빅데이터 C#</a></li>\n",
            "</ul>\n",
            "</li>\n",
            "<li id=\"menu-item-2890\" class=\"menu-item menu-item-type-custom menu-item-object-custom menu-item-has-children menu-item-2890\"><a href=\"http://ehpub.co.kr/%ed%9b%84%ec%9c%84-%ed%91%9c%ea%b8%b0-%ec%88%98%ec%8b%9d-%ea%b3%84%ec%82%b0-%ec%8a%a4%ed%83%9d-%ea%b3%84%ec%82%b0%ea%b8%b0-%ec%bd%94%eb%94%a9-%ed%85%8c%ec%8a%a4%ed%8a%b8-python/\">파이썬</a>\n",
            "<ul class=\"sub-menu\">\n",
            "\t<li id=\"menu-item-4084\" class=\"menu-item menu-item-type-custom menu-item-object-custom menu-item-4084\"><a href=\"http://ehpub.co.kr/1-visual-studio%ec%97%90-python-%ec%84%a4%ec%b9%98-%eb%b0%8f-%ed%85%8c%ec%8a%a4%ed%8a%b8%ed%95%98%ea%b8%b0/\">미래실험실 pYTHON</a></li>\n",
            "\t<li id=\"menu-item-2889\" class=\"menu-item menu-item-type-custom menu-item-object-custom menu-item-2889\"><a href=\"http://ehpub.co.kr/%ed%9b%84%ec%9c%84-%ed%91%9c%ea%b8%b0-%ec%88%98%ec%8b%9d-%ea%b3%84%ec%82%b0-%ec%8a%a4%ed%83%9d-%ea%b3%84%ec%82%b0%ea%b8%b0-%ec%bd%94%eb%94%a9-%ed%85%8c%ec%8a%a4%ed%8a%b8-python/\">코딩테스트</a></li>\n",
            "\t<li id=\"menu-item-3001\" class=\"menu-item menu-item-type-custom menu-item-object-custom menu-item-3001\"><a href=\"http://ehpub.co.kr/%eb%b9%85%eb%8d%b0%ec%9d%b4%ed%84%b0-python-%ec%9b%b9-%ed%8e%98%ec%9d%b4%ec%a7%80-%ec%88%98%ec%a7%91%ed%95%98%ea%b8%b0/\">웹 수집 검색 엔진</a></li>\n",
            "\t<li id=\"menu-item-5780\" class=\"menu-item menu-item-type-custom menu-item-object-custom menu-item-5780\"><a href=\"http://ehpub.co.kr/merchine-learning-perceptron-xor/\">머신러닝/딥러닝</a></li>\n",
            "\t<li id=\"menu-item-6561\" class=\"menu-item menu-item-type-custom menu-item-object-custom menu-item-6561\"><a href=\"http://ehpub.co.kr/%ed%8c%8c%ec%9d%b4%ec%8d%ac%ec%9c%bc%eb%a1%9c-%ec%a7%80%ec%97%ad-%ea%b2%80%ec%83%89-%eb%b0%8f-%ec%a7%80%eb%8f%84%ec%97%90-%eb%82%98%ed%83%80%eb%82%b4%ea%b8%b0-1-%ed%94%84%eb%a1%9c%ec%a0%9d%ed%8a%b8/\">Open API 활용</a></li>\n",
            "\t<li id=\"menu-item-5674\" class=\"menu-item menu-item-type-custom menu-item-object-custom menu-item-5674\"><a href=\"http://ehpub.co.kr/opencv-in-colab-%eb%b2%84%ec%a0%84-%ed%99%95%ec%9d%b8-%eb%b0%8f-%ec%9d%b4%eb%af%b8%ec%a7%80-%eb%a1%9c%eb%94%a9/\">OpenCV in Colab</a></li>\n",
            "</ul>\n",
            "</li>\n",
            "<li id=\"menu-item-5881\" class=\"menu-item menu-item-type-custom menu-item-object-custom menu-item-has-children menu-item-5881\"><a href=\"http://ehpub.co.kr/java-1-%ec%86%8c%ea%b0%9c/\">Java</a>\n",
            "<ul class=\"sub-menu\">\n",
            "\t<li id=\"menu-item-5882\" class=\"menu-item menu-item-type-custom menu-item-object-custom menu-item-5882\"><a href=\"http://ehpub.co.kr/java-1-%ec%86%8c%ea%b0%9c/\">Java 입문</a></li>\n",
            "\t<li id=\"menu-item-6176\" class=\"menu-item menu-item-type-custom menu-item-object-custom menu-item-6176\"><a href=\"http://ehpub.co.kr/java-%ed%99%9c%ec%9a%a9-1-%ed%8c%a8%ed%82%a4%ec%a7%80/\">Java 활용</a></li>\n",
            "</ul>\n",
            "</li>\n",
            "<li id=\"menu-item-3977\" class=\"menu-item menu-item-type-custom menu-item-object-custom menu-item-has-children menu-item-3977\"><a href=\"http://ehpub.co.kr/1-%ec%89%98-%ed%94%84%eb%a1%9c%ea%b7%b8%eb%9e%98%eb%b0%8d-%ec%8b%9c%ec%9e%91%ed%95%98%ea%b8%b0-%eb%a1%9c%ea%b8%b4-%ec%89%98-%ed%99%95%ec%9d%b8-%eb%b0%8f-%eb%b3%80%ea%b2%bd%ed%95%98%ea%b8%b0/\">리눅스</a>\n",
            "<ul class=\"sub-menu\">\n",
            "\t<li id=\"menu-item-3976\" class=\"menu-item menu-item-type-custom menu-item-object-custom menu-item-3976\"><a href=\"http://ehpub.co.kr/1-%ec%89%98-%ed%94%84%eb%a1%9c%ea%b7%b8%eb%9e%98%eb%b0%8d-%ec%8b%9c%ec%9e%91%ed%95%98%ea%b8%b0-%eb%a1%9c%ea%b8%b4-%ec%89%98-%ed%99%95%ec%9d%b8-%eb%b0%8f-%eb%b3%80%ea%b2%bd%ed%95%98%ea%b8%b0/\">쉘 프로그래밍</a></li>\n",
            "\t<li id=\"menu-item-4394\" class=\"menu-item menu-item-type-custom menu-item-object-custom menu-item-4394\"><a href=\"http://ehpub.co.kr/%eb%a6%ac%eb%88%85%ec%8a%a4-%ec%8b%9c%ec%8a%a4%ed%85%9c-%ed%94%84%eb%a1%9c%ea%b7%b8%eb%9e%98%eb%b0%8d-1-%eb%93%a4%ec%96%b4%ea%b0%80%ea%b8%b0%ec%97%90-%ec%95%9e%ec%84%9c/\">리눅스 시스템 프로그래밍</a></li>\n",
            "</ul>\n",
            "</li>\n",
            "<li id=\"menu-item-6263\" class=\"menu-item menu-item-type-custom menu-item-object-custom menu-item-has-children menu-item-6263\"><a href=\"http://ehpub.co.kr/go-%ec%96%b8%ec%96%b4-1-%ea%b5%ac%ea%b8%80-go-%ed%94%84%eb%a1%9c%ea%b7%b8%eb%9e%98%eb%b0%8d-%ec%96%b8%ec%96%b4-%ec%86%8c%ea%b0%9c/\">기타 언어</a>\n",
            "<ul class=\"sub-menu\">\n",
            "\t<li id=\"menu-item-6262\" class=\"menu-item menu-item-type-custom menu-item-object-custom menu-item-6262\"><a href=\"http://ehpub.co.kr/go-%ec%96%b8%ec%96%b4-1-%ea%b5%ac%ea%b8%80-go-%ed%94%84%eb%a1%9c%ea%b7%b8%eb%9e%98%eb%b0%8d-%ec%96%b8%ec%96%b4-%ec%86%8c%ea%b0%9c/\">Go 언어</a></li>\n",
            "\t<li id=\"menu-item-5705\" class=\"menu-item menu-item-type-custom menu-item-object-custom menu-item-5705\"><a href=\"http://ehpub.co.kr/r-%ec%84%a4%ec%b9%98-%eb%b0%8f-rstduio-%ec%84%a4%ec%b9%98-%eb%8d%b0%ec%9d%b4%ed%84%b0-%eb%b6%84%ec%84%9d-with-r/\">R 입문</a></li>\n",
            "\t<li id=\"menu-item-6472\" class=\"menu-item menu-item-type-custom menu-item-object-custom menu-item-6472\"><a href=\"http://ehpub.co.kr/html5-1-%ec%b2%ab-%eb%b2%88%ec%a7%b8-%eb%a7%8c%eb%93%9c%eb%8a%94-html-%eb%ac%b8%ec%84%9c-hello-html/\">HTML5</a></li>\n",
            "</ul>\n",
            "</li>\n",
            "<li id=\"menu-item-6517\" class=\"menu-item menu-item-type-custom menu-item-object-custom menu-item-has-children menu-item-6517\"><a href=\"http://ehpub.co.kr/ethernet-%ed%94%84%eb%a1%9c%ed%86%a0%ec%bd%9c/\">설치 및 기타</a>\n",
            "<ul class=\"sub-menu\">\n",
            "\t<li id=\"menu-item-6518\" class=\"menu-item menu-item-type-custom menu-item-object-custom menu-item-6518\"><a href=\"http://ehpub.co.kr/ethernet-%ed%94%84%eb%a1%9c%ed%86%a0%ec%bd%9c/\">TCP/IP 프로토콜</a></li>\n",
            "\t<li id=\"menu-item-6601\" class=\"menu-item menu-item-type-custom menu-item-object-custom menu-item-6601\"><a href=\"http://ehpub.co.kr/whois-open-api-%ec%82%ac%ec%9a%a9%ed%82%a4-%eb%b0%9c%ea%b8%89%eb%b0%9b%ea%b8%b0/\">설치 및 가입 서비스</a></li>\n",
            "</ul>\n",
            "</li>\n",
            "<li id=\"menu-item-5036\" class=\"menu-item menu-item-type-custom menu-item-object-custom menu-item-has-children menu-item-5036\"><a href=\"http://ehpub.co.kr/%ea%b3%84%ec%82%b0%ea%b8%b0-%ea%b5%ac%ec%a1%b0-1-%eb%a9%94%eb%aa%a8%eb%a6%ac-%eb%8b%a8%ec%9c%84/\">정보처리기사</a>\n",
            "<ul class=\"sub-menu\">\n",
            "\t<li id=\"menu-item-5035\" class=\"menu-item menu-item-type-custom menu-item-object-custom menu-item-5035\"><a href=\"http://ehpub.co.kr/%ea%b3%84%ec%82%b0%ea%b8%b0-%ea%b5%ac%ec%a1%b0-1-%eb%a9%94%eb%aa%a8%eb%a6%ac-%eb%8b%a8%ec%9c%84/\">계산기 구조</a></li>\n",
            "\t<li id=\"menu-item-5178\" class=\"menu-item menu-item-type-custom menu-item-object-custom menu-item-5178\"><a href=\"http://ehpub.co.kr/%eb%8d%b0%ec%9d%b4%ed%84%b0-%ed%86%b5%ec%8b%a0-1-%eb%8d%b0%ec%9d%b4%ed%84%b0-%ed%86%b5%ec%8b%a0/\">데이터 통신</a></li>\n",
            "\t<li id=\"menu-item-5226\" class=\"menu-item menu-item-type-custom menu-item-object-custom menu-item-5226\"><a href=\"http://ehpub.co.kr/1-%eb%8d%b0%ec%9d%b4%ed%84%b0%eb%b2%a0%ec%9d%b4%ec%8a%a4database-%ec%8b%9c%ec%8a%a4%ed%85%9c/\">데이터베이스</a></li>\n",
            "\t<li id=\"menu-item-5335\" class=\"menu-item menu-item-type-custom menu-item-object-custom menu-item-5335\"><a href=\"http://ehpub.co.kr/%ec%86%8c%ed%94%84%ed%8a%b8%ec%9b%a8%ec%96%b4-%ea%b3%b5%ed%95%99-1-%ec%86%8c%ed%94%84%ed%8a%b8%ec%9b%a8%ec%96%b4-%ea%b3%b5%ed%95%99/\">소프트웨어 공학</a></li>\n",
            "\t<li id=\"menu-item-5385\" class=\"menu-item menu-item-type-custom menu-item-object-custom menu-item-5385\"><a href=\"http://ehpub.co.kr/%ec%9a%b4%ec%98%81%ec%b2%b4%ec%a0%9c-1-%ec%9a%b4%ec%98%81%ec%b2%b4%ec%a0%9c/\">운영체제</a></li>\n",
            "</ul>\n",
            "</li>\n",
            "<li id=\"menu-item-18\" class=\"menu-item menu-item-type-taxonomy menu-item-object-category menu-item-18\"><a href=\"http://ehpub.co.kr/category/%ec%82%ac%ec%9d%b4%ed%8a%b8-%ec%86%8c%ea%b0%9c/\">사이트 소개</a></li>\n",
            "</ul><ul class='social-media-icons'>\t\t\t\t<li>\n",
            "\t\t\t\t\t<a class=\"facebook\" target=\"_blank\"\n",
            "\t\t\t\t\t   href=\"https://www.facebook.com/profile.php?id=100000623458082\">\n",
            "\t\t\t\t\t\t<i class=\"fab fa-facebook-square\" title=\"facebook\"></i>\n",
            "\t\t\t\t\t\t<span class=\"screen-reader-text\">facebook</span>\n",
            "\t\t\t\t\t</a>\n",
            "\t\t\t\t</li>\n",
            "\t\t\t\t\t\t\t\t<li>\n",
            "\t\t\t\t\t<a class=\"youtube\" target=\"_blank\"\n",
            "\t\t\t\t\t   href=\"https://www.youtube.com/channel/UCudvMbbxHnAdPlM1sa-VHxQ\">\n",
            "\t\t\t\t\t\t<i class=\"fab fa-youtube-square\" title=\"youtube\"></i>\n",
            "\t\t\t\t\t\t<span class=\"screen-reader-text\">youtube</span>\n",
            "\t\t\t\t\t</a>\n",
            "\t\t\t\t</li>\n",
            "\t\t\t\t</ul></div>\t</header>\n",
            "\t\t<div id=\"overflow-container\" class=\"overflow-container\">\n",
            "\t\t\t\t<div id=\"main\" class=\"main\" role=\"main\">\t<div id=\"loop-container\" class=\"loop-container\">\n",
            "\t\t<div class=\"post-1523 page type-page status-publish hentry entry\">\n",
            "\t\t<div class='entry-header'>\n",
            "\t\t<h1 class='entry-title'>언제나휴일</h1>\n",
            "\t</div>\n",
            "\t<div class='entry-content'>\n",
            "\t\t<article>\n",
            "\t\t\t\n",
            "<p>안녕하세요. 언제나휴일입니다.</p>\n",
            "\n",
            "\n",
            "\n",
            "<blockquote class=\"wp-block-quote\"><p>오늘도 즐거운 하루입니다.</p></blockquote>\n",
            "\n",
            "\n",
            "\n",
            "<p>언제나휴일에서는 다양한 프로그래밍 언어와 기술 자료를 공유합니다.</p>\n",
            "\n",
            "\n",
            "\n",
            "<p><a href=\"https://www.youtube.com/channel/UCudvMbbxHnAdPlM1sa-VHxQ\">유튜브</a>를 통해 동영상 강의도 제공하고 있습니다.</p>\n",
            "\n",
            "\n",
            "\n",
            "<h2>C언어</h2>\n",
            "\n",
            "\n",
            "\n",
            "<p><a rel=\"noreferrer noopener\" href=\"http://ehpub.co.kr/c-introduce/\" target=\"_blank\">디딤돌 C언어</a>    /    <a rel=\"noreferrer noopener\" href=\"http://ehpub.co.kr/%ec%96%b8%ec%a0%9c%eb%82%98-c%ec%96%b8%ec%96%b4-%ec%8b%9c%ec%9e%91%ed%95%a9%eb%8b%88%eb%8b%a4/\" target=\"_blank\">언제나 C언어</a>    /     <a href=\"http://ehpub.co.kr/%ec%96%b8%ec%a0%9c%eb%82%98-c%ec%96%b8%ec%96%b4-%ec%8b%9c%ec%9e%91%ed%95%a9%eb%8b%88%eb%8b%a4/\" target=\"_blank\" rel=\"noreferrer noopener\">C언어 소스</a>    /    <a rel=\"noreferrer noopener\" href=\"http://ehpub.co.kr/c%ec%96%b8%ec%96%b4-%ed%91%9c%ec%a4%80%ea%b3%bc-%ec%b1%85%ec%9d%98-%ea%b8%b0%ec%88%a0-%eb%b2%94%ec%9c%84/\" target=\"_blank\">C언어 표준 라이브러리 함수</a></p>\n",
            "\n",
            "\n",
            "\n",
            "<p><a href=\"http://ehpub.co.kr/%ec%95%8c%ea%b3%a0%eb%a6%ac%ec%a6%98-c%ec%96%b8%ec%96%b4-1-%eb%8b%a4%eb%a3%a8%eb%8a%94-%eb%82%b4%ec%9a%a9/\" target=\"_blank\" rel=\"noreferrer noopener\">C언어 알고리즘</a>    /    <a href=\"http://ehpub.co.kr/1-%eb%8b%a4%eb%a3%a8%eb%8a%94-%eb%82%b4%ec%9a%a9/\" target=\"_blank\" rel=\"noreferrer noopener\">자료구조와 알고리즘</a>    /    <a href=\"http://ehpub.co.kr/c-%ed%94%84%eb%a1%9c%ec%a0%9d%ed%8a%b8-%ed%8c%a8%ed%82%b7-%eb%b6%84%ec%84%9d%ea%b8%b0-part-1-%ed%94%84%eb%a1%9c%ec%a0%9d%ed%8a%b8-%ec%86%8c%ea%b0%9c-%eb%b0%8f-%ed%8f%ac%ec%9d%b8%ed%84%b0-%ea%b0%80/\" target=\"_blank\" rel=\"noreferrer noopener\">패킷 분석 프로그램 [프로젝트]</a></p>\n",
            "\n",
            "\n",
            "\n",
            "<h2>C++</h2>\n",
            "\n",
            "\n",
            "\n",
            "<p><a href=\"http://ehpub.co.kr/%eb%94%94%eb%94%a4%eb%8f%8c-c-1-%eb%93%a4%ec%96%b4%ea%b0%80%ea%b8%b0%ec%97%90-%ec%95%9e%ec%84%9c/\" target=\"_blank\" rel=\"noreferrer noopener\">디딤돌 C++</a>    /    <a href=\"http://ehpub.co.kr/complex-class-capsulation-cpp/\" target=\"_blank\" rel=\"noreferrer noopener\">C++실습</a>    /    <a href=\"http://ehpub.co.kr/1-%ec%86%8c%ea%b0%9c-%ec%9e%90%eb%a3%8c%ea%b5%ac%ec%a1%b0%ec%99%80-%ec%95%8c%ea%b3%a0%eb%a6%ac%ec%a6%98-with-c/\" target=\"_blank\" rel=\"noreferrer noopener\">자료구조/알고리즘 C++</a></p>\n",
            "\n",
            "\n",
            "\n",
            "<p><a href=\"http://ehpub.co.kr/1-windows-api-%ec%86%8c%ea%b0%9c/\" target=\"_blank\" rel=\"noreferrer noopener\">Windows API</a>    /    <a href=\"http://ehpub.co.kr/1-tcp-ip-%eb%84%a4%ed%8a%b8%ec%9b%8c%ed%81%ac-%ec%86%8c%ea%b0%9c-tcp-ip-%ec%86%8c%ec%bc%93-%ed%94%84%eb%a1%9c%ea%b7%b8%eb%9e%98%eb%b0%8d-with-%ec%9c%88%eb%8f%84%ec%9a%b0%ec%a6%88/\" target=\"_blank\" rel=\"noreferrer noopener\">TCP/IP 소켓 프로그래밍 with 윈도우즈</a></p>\n",
            "\n",
            "\n",
            "\n",
            "<h2>C#과 .NET</h2>\n",
            "\n",
            "\n",
            "\n",
            "<p><a href=\"http://ehpub.co.kr/c-1-c-%ec%86%8c%ea%b0%9c/\" target=\"_blank\" rel=\"noreferrer noopener\">Escort C#</a>    /    <a href=\"http://ehpub.co.kr/%ec%8b%a4%ec%8a%b5%ec%9c%bc%eb%a1%9c-%eb%8b%a4%ec%a7%80%eb%8a%94-c-1-%eb%ac%b8%ec%9e%90%ec%97%b4-%ec%b6%9c%eb%a0%a5-%ed%8f%ac%eb%a9%a7/\" target=\"_blank\" rel=\"noreferrer noopener\">C#실습</a>    /    <a href=\"http://ehpub.co.kr/%ec%86%8c%ed%94%84%ed%8a%b8%ec%9b%a8%ec%96%b4-%ec%84%a4%ea%b3%84-c-1%eb%b6%80-%ec%83%9d%ec%84%b1-%ed%8c%a8%ed%84%b4%eb%93%a4/\" target=\"_blank\" rel=\"noreferrer noopener\">소프트웨어 설계 패턴</a></p>\n",
            "\n",
            "\n",
            "\n",
            "<p><a href=\"http://ehpub.co.kr/windows-forms-cs-start/\" target=\"_blank\" rel=\"noreferrer noopener\">Windows Forms</a>    /    <a href=\"http://ehpub.co.kr/windows-forms-%ec%9d%91%ec%9a%a9-with-c-1-form/\" target=\"_blank\" rel=\"noreferrer noopener\">Windows Forms 앱</a>    /    <a href=\"http://ehpub.co.kr/wpf-start/\" target=\"_blank\" rel=\"noreferrer noopener\">WPF</a>    </p>\n",
            "\n",
            "\n",
            "\n",
            "<p> <a href=\"http://ehpub.co.kr/xml-net-1-xml-%ec%86%8c%ea%b0%9c/\" target=\"_blank\" rel=\"noreferrer noopener\">XML.NET</a>    /    <a href=\"http://ehpub.co.kr/1-sql-%ea%b0%9c%ec%9a%94/\" target=\"_blank\" rel=\"noreferrer noopener\">MSSQL과 ADO.NET</a>    /    <a href=\"http://ehpub.co.kr/tcp-echo-server-client-network-programming-cs/\" target=\"_blank\" rel=\"noreferrer noopener\">소켓 통신</a>    /    <a href=\"http://ehpub.co.kr/1-%ec%86%8c%ed%94%84%ed%8a%b8%ec%9b%a8%ec%96%b4-%ec%a0%91%ea%b7%bc%ec%84%b1-%ea%b0%9c%ec%9a%94-%eb%b0%8f-%ea%b0%80%ec%9d%b4%eb%93%9c%eb%9d%bc%ec%9d%b8/\" target=\"_blank\" rel=\"noreferrer noopener\">S/W접근성 기술 UI 자동화</a> </p>\n",
            "\n",
            "\n",
            "\n",
            "<h2>.NET 프로젝트</h2>\n",
            "\n",
            "\n",
            "\n",
            "<p><a href=\"http://ehpub.co.kr/c-%ed%94%84%eb%a1%9c%ec%a0%9d%ed%8a%b8-%ed%85%8c%ed%8a%b8%eb%a6%ac%ec%8a%a4-%eb%a7%8c%eb%93%a4%ea%b8%b0-part-1-%ed%82%a4%eb%b3%b4%eb%93%9c%eb%a1%9c-%eb%8f%84%ed%98%95-%ec%a0%9c%ec%96%b4%ed%95%98/\" target=\"_blank\" rel=\"noreferrer noopener\">테트리스</a>    /    <a href=\"http://ehpub.co.kr/%ec%9b%90%ea%b2%a9-%ec%a0%9c%ec%96%b4-%ed%94%84%eb%a1%9c%ea%b7%b8%eb%9e%a8-1-%ea%b0%9c%ec%9a%94/\" target=\"_blank\" rel=\"noreferrer noopener\">원격 제어 프로그램</a>     /    <a href=\"http://ehpub.co.kr/wafer-%ec%bd%94%ed%8c%85-%ec%8b%9c%eb%ae%ac%eb%a0%88%ec%9d%b4%ec%85%98-1-%ec%86%8c%ea%b0%9c/\" target=\"_blank\" rel=\"noreferrer noopener\">Wafer 코팅 시뮬레이션</a></p>\n",
            "\n",
            "\n",
            "\n",
            "<p><a href=\"http://ehpub.co.kr/0-%eb%93%a4%ec%96%b4%ea%b0%80%ea%b8%b0%ec%97%90-%ec%95%9e%ec%84%9c/\" target=\"_blank\" rel=\"noreferrer noopener\">웹 검색 엔진 만들기</a>    /    <a href=\"http://ehpub.co.kr/%eb%af%b8%eb%94%94-%eb%b6%84%ec%84%9d-%ed%94%84%eb%a1%9c%ea%b7%b8%eb%9e%a8-1-%ed%94%84%eb%a1%9c%ec%a0%9d%ed%8a%b8-%ec%86%8c%ea%b0%9c/\" target=\"_blank\" rel=\"noreferrer noopener\">미디 분석 프로그램</a>    /    <a rel=\"noreferrer noopener\" href=\"http://ehpub.dothome.co.kr/ml-net-install-uninstall-cs/\" target=\"_blank\">ML.</a><a href=\"http://ehpub.co.kr/ml-net-install-uninstall-cs/\" target=\"_blank\" rel=\"noreferrer noopener\">NET</a></p>\n",
            "\n",
            "\n",
            "\n",
            "<p><a href=\"http://ehpub.co.kr/news-crawling-naver-developers-csharp-bigdata-analysis/\" target=\"_blank\" rel=\"noreferrer noopener\">빅 데이터 C#</a></p>\n",
            "\n",
            "\n",
            "\n",
            "<h2>파이썬</h2>\n",
            "\n",
            "\n",
            "\n",
            "<p><a href=\"http://ehpub.co.kr/1-visual-studio%ec%97%90-python-%ec%84%a4%ec%b9%98-%eb%b0%8f-%ed%85%8c%ec%8a%a4%ed%8a%b8%ed%95%98%ea%b8%b0/\" target=\"_blank\" rel=\"noreferrer noopener\">미래실험실  pYTHON</a>    /    <a href=\"http://ehpub.co.kr/%ed%9b%84%ec%9c%84-%ed%91%9c%ea%b8%b0-%ec%88%98%ec%8b%9d-%ea%b3%84%ec%82%b0-%ec%8a%a4%ed%83%9d-%ea%b3%84%ec%82%b0%ea%b8%b0-%ec%bd%94%eb%94%a9-%ed%85%8c%ec%8a%a4%ed%8a%b8-python/\" target=\"_blank\" rel=\"noreferrer noopener\">코딩 테스트</a>    /    <a href=\"http://ehpub.co.kr/%eb%b9%85%eb%8d%b0%ec%9d%b4%ed%84%b0-python-%ec%9b%b9-%ed%8e%98%ec%9d%b4%ec%a7%80-%ec%88%98%ec%a7%91%ed%95%98%ea%b8%b0/\" target=\"_blank\" rel=\"noreferrer noopener\">웹 수집 검색</a></p>\n",
            "\n",
            "\n",
            "\n",
            "<p><a href=\"http://ehpub.co.kr/merchine-learning-perceptron-xor/\" target=\"_blank\" rel=\"noreferrer noopener\">머신러닝/딥러닝</a>    /    <a href=\"http://ehpub.co.kr/%ed%8c%8c%ec%9d%b4%ec%8d%ac%ec%9c%bc%eb%a1%9c-%ec%a7%80%ec%97%ad-%ea%b2%80%ec%83%89-%eb%b0%8f-%ec%a7%80%eb%8f%84%ec%97%90-%eb%82%98%ed%83%80%eb%82%b4%ea%b8%b0-1-%ed%94%84%eb%a1%9c%ec%a0%9d%ed%8a%b8/\" target=\"_blank\" rel=\"noreferrer noopener\">OpenAPI </a><a rel=\"noreferrer noopener\" href=\"http://ehpub.dothome.co.kr/%ed%8c%8c%ec%9d%b4%ec%8d%ac%ec%9c%bc%eb%a1%9c-%ec%a7%80%ec%97%ad-%ea%b2%80%ec%83%89-%eb%b0%8f-%ec%a7%80%eb%8f%84%ec%97%90-%eb%82%98%ed%83%80%eb%82%b4%ea%b8%b0-1-%ed%94%84%eb%a1%9c%ec%a0%9d%ed%8a%b8/\" target=\"_blank\">활용</a>    /    <a href=\"http://ehpub.co.kr/opencv-in-colab-%eb%b2%84%ec%a0%84-%ed%99%95%ec%9d%b8-%eb%b0%8f-%ec%9d%b4%eb%af%b8%ec%a7%80-%eb%a1%9c%eb%94%a9/\" target=\"_blank\" rel=\"noreferrer noopener\">OpenCV in Colab</a></p>\n",
            "\n",
            "\n",
            "\n",
            "<h2>Java</h2>\n",
            "\n",
            "\n",
            "\n",
            "<p><a href=\"http://ehpub.co.kr/java-1-%ec%86%8c%ea%b0%9c/\" target=\"_blank\" rel=\"noreferrer noopener\">Java 입문</a>    /    <a href=\"http://ehpub.co.kr/java-%ed%99%9c%ec%9a%a9-1-%ed%8c%a8%ed%82%a4%ec%a7%80/\" target=\"_blank\" rel=\"noreferrer noopener\">Java 활용</a></p>\n",
            "\n",
            "\n",
            "\n",
            "<h2>기타 언어</h2>\n",
            "\n",
            "\n",
            "\n",
            "<p><a href=\"http://ehpub.co.kr/go-%ec%96%b8%ec%96%b4-1-%ea%b5%ac%ea%b8%80-go-%ed%94%84%eb%a1%9c%ea%b7%b8%eb%9e%98%eb%b0%8d-%ec%96%b8%ec%96%b4-%ec%86%8c%ea%b0%9c/\" target=\"_blank\" rel=\"noreferrer noopener\">Go 언어</a>    /    <a href=\"http://ehpub.co.kr/r-%ec%84%a4%ec%b9%98-%eb%b0%8f-rstduio-%ec%84%a4%ec%b9%98-%eb%8d%b0%ec%9d%b4%ed%84%b0-%eb%b6%84%ec%84%9d-with-r/\" target=\"_blank\" rel=\"noreferrer noopener\">R 입문</a>    /    <a href=\"http://ehpub.co.kr/html5-1-%ec%b2%ab-%eb%b2%88%ec%a7%b8-%eb%a7%8c%eb%93%9c%eb%8a%94-html-%eb%ac%b8%ec%84%9c-hello-html/\" target=\"_blank\" rel=\"noreferrer noopener\">HTML5</a></p>\n",
            "\n",
            "\n",
            "\n",
            "<h2>리눅스</h2>\n",
            "\n",
            "\n",
            "\n",
            "<p><a href=\"http://ehpub.co.kr/1-%ec%89%98-%ed%94%84%eb%a1%9c%ea%b7%b8%eb%9e%98%eb%b0%8d-%ec%8b%9c%ec%9e%91%ed%95%98%ea%b8%b0-%eb%a1%9c%ea%b8%b4-%ec%89%98-%ed%99%95%ec%9d%b8-%eb%b0%8f-%eb%b3%80%ea%b2%bd%ed%95%98%ea%b8%b0/\" target=\"_blank\" rel=\"noreferrer noopener\">쉘 프로그래밍</a>    /    <a href=\"http://ehpub.co.kr/%eb%a6%ac%eb%88%85%ec%8a%a4-%ec%8b%9c%ec%8a%a4%ed%85%9c-%ed%94%84%eb%a1%9c%ea%b7%b8%eb%9e%98%eb%b0%8d-1-%eb%93%a4%ec%96%b4%ea%b0%80%ea%b8%b0%ec%97%90-%ec%95%9e%ec%84%9c/\" target=\"_blank\" rel=\"noreferrer noopener\">리눅스 시스템 프로그래밍</a></p>\n",
            "\n",
            "\n",
            "\n",
            "<h2>설치 및 기타</h2>\n",
            "\n",
            "\n",
            "\n",
            "<p><a href=\"http://ehpub.co.kr/ethernet-%ed%94%84%eb%a1%9c%ed%86%a0%ec%bd%9c/\" target=\"_blank\" rel=\"noreferrer noopener\">TCP/IP 프로토콜</a>    /    <a href=\"http://ehpub.co.kr/whois-open-api-%ec%82%ac%ec%9a%a9%ed%82%a4-%eb%b0%9c%ea%b8%89%eb%b0%9b%ea%b8%b0/\" target=\"_blank\" rel=\"noreferrer noopener\">설치 및 가입 서비스</a></p>\n",
            "\n",
            "\n",
            "\n",
            "<h2>정보처리기사</h2>\n",
            "\n",
            "\n",
            "\n",
            "<p><a href=\"http://ehpub.co.kr/%ea%b3%84%ec%82%b0%ea%b8%b0-%ea%b5%ac%ec%a1%b0-1-%eb%a9%94%eb%aa%a8%eb%a6%ac-%eb%8b%a8%ec%9c%84/\" target=\"_blank\" rel=\"noreferrer noopener\">계산기 구조</a>    /    <a href=\"http://ehpub.co.kr/%eb%8d%b0%ec%9d%b4%ed%84%b0-%ed%86%b5%ec%8b%a0-1-%eb%8d%b0%ec%9d%b4%ed%84%b0-%ed%86%b5%ec%8b%a0/\" target=\"_blank\" rel=\"noreferrer noopener\">데이터 통신</a>    /    <a href=\"http://ehpub.co.kr/1-%eb%8d%b0%ec%9d%b4%ed%84%b0%eb%b2%a0%ec%9d%b4%ec%8a%a4database-%ec%8b%9c%ec%8a%a4%ed%85%9c/\" target=\"_blank\" rel=\"noreferrer noopener\">데이터베이스</a>    </p>\n",
            "\n",
            "\n",
            "\n",
            "<p><a href=\"http://ehpub.co.kr/%ec%86%8c%ed%94%84%ed%8a%b8%ec%9b%a8%ec%96%b4-%ea%b3%b5%ed%95%99-1-%ec%86%8c%ed%94%84%ed%8a%b8%ec%9b%a8%ec%96%b4-%ea%b3%b5%ed%95%99/\\\" target=\"_blank\" rel=\"noreferrer noopener\">소프트웨어 공학</a>    /    <a href=\"http://ehpub.co.kr/%ec%9a%b4%ec%98%81%ec%b2%b4%ec%a0%9c-1-%ec%9a%b4%ec%98%81%ec%b2%b4%ec%a0%9c/\" target=\"_blank\" rel=\"noreferrer noopener\">운영체제</a></p>\n",
            "\t\t\t\t\t</article>\n",
            "\t</div>\n",
            "</div>\t</div>\n",
            "</div><!-- .main -->\n",
            "\t<aside id=\"sidebar-primary-container\" class=\"sidebar-primary-container\">\n",
            "\t\t<h1 class=\"screen-reader-text\">Primary Sidebar</h1>\n",
            "\t\t<div class=\"sidebar sidebar-primary\" id=\"sidebar-primary\" role=\"complementary\">\n",
            "\t\t\t<section id=\"block-7\" class=\"widget widget_block\">\n",
            "<div class=\"wp-block-columns\">\n",
            "<div class=\"wp-block-column\" style=\"flex-basis:100%\"><form role=\"search\" method=\"get\" action=\"http://ehpub.co.kr/\" class=\"wp-block-search__button-outside wp-block-search__text-button wp-block-search\"><label for=\"wp-block-search__input-1\" class=\"wp-block-search__label\">검색</label><div class=\"wp-block-search__inside-wrapper \" ><input type=\"search\" id=\"wp-block-search__input-1\" class=\"wp-block-search__input \" name=\"s\" value=\"\" placeholder=\"\"  required /><button type=\"submit\" class=\"wp-block-search__button  \"  >검색</button></div></form></div>\n",
            "</div>\n",
            "</section><section id=\"listcategorypostswidget-2\" class=\"widget widget_listcategorypostswidget\"><h2 class=\"widget-title\">현재 카테고리 글</h2><ul class=\"lcp_catlist\" id=\"lcp_instance_listcategorypostswidget-2\"></ul><a href=\"http://ehpub.co.kr/category/%eb%af%b8-%eb%b6%84%eb%a5%98/\"> </a></section><section id=\"wp_statistics_widget-2\" class=\"widget widget_wp_statistics_widget\"><h2 class=\"widget-title\">2022년 5월 2일 새로운 출발</h2><ul><li><label>Today's Visits: </label>1,502</li><li><label>Total Visits: </label>5,388</li></ul></section>\t\t</div>\n",
            "\t</aside>\n",
            "</div><!-- .overflow-container -->\n",
            "<footer id=\"site-footer\" class=\"site-footer\" role=\"contentinfo\">\n",
            "\t<h1>\n",
            "\t\t<a href=\"http://ehpub.co.kr\">\n",
            "\t\t\t언제나 휴일\t\t</a>\n",
            "\t</h1>\n",
            "\t<span class=\"tagline\">언제나 휴일 프로그래머</span>\t<div class=\"design-credit\">\n",
            "        <span>\n",
            "            언제나 휴일 사이트의 모든 글은 언제나 휴일 출판사의 소유입니다.\n",
            "무단 배포 및 상업적 사용을 불허합니다. 출처를 밝힌 후에 퍼가기(링크)는 가능합니다.        </span>\n",
            "\t</div>\n",
            "</footer>\n",
            "<link rel='stylesheet' id='lcp_paginator-css'  href='http://ehpub.co.kr/wp-content/plugins/list-category-posts//lcp_paginator.css?ver=5.9.3' type='text/css' media='all' />\n",
            "<script type='text/javascript' src='http://ehpub.co.kr/wp-content/themes/ignite/js/build/production.min.js?ver=5.9.3' async='async' id='ct-ignite-production-js'></script>\n",
            "<script type='text/javascript' src='http://ehpub.co.kr/wp-content/plugins/youtube-embed-plus/scripts/fitvids.min.js?ver=14.1' id='__ytprefsfitvids__-js'></script>\n",
            "</body>\n",
            "</html>\n"
          ]
        }
      ]
    },
    {
      "cell_type": "code",
      "source": [
        ""
      ],
      "metadata": {
        "id": "xHhlLJ9zk-Qa"
      },
      "execution_count": 135,
      "outputs": []
    },
    {
      "cell_type": "markdown",
      "source": [
        "# 웹 스크래핑\n",
        "웹 페이지 중에 일부 부분을 추출하는 작업"
      ],
      "metadata": {
        "id": "vjLgKeisoaoc"
      }
    },
    {
      "cell_type": "code",
      "source": [
        "from bs4 import BeautifulSoup"
      ],
      "metadata": {
        "id": "kc67tB7oofHV"
      },
      "execution_count": 136,
      "outputs": []
    },
    {
      "cell_type": "code",
      "source": [
        "hdoc = BeautifulSoup(result,'html.parser')"
      ],
      "metadata": {
        "id": "F0ctkpFdoirD"
      },
      "execution_count": 137,
      "outputs": []
    },
    {
      "cell_type": "code",
      "source": [
        "print(hdoc.body.get_text())"
      ],
      "metadata": {
        "colab": {
          "base_uri": "https://localhost:8080/"
        },
        "id": "8SfDWjFAoqmB",
        "outputId": "7e99d70b-8489-4525-89e5-b96bf71c4f4a"
      },
      "execution_count": 138,
      "outputs": [
        {
          "output_type": "stream",
          "name": "stdout",
          "text": [
            "\n",
            " Skip to content\n",
            "\n",
            "\n",
            "언제나 휴일 \n",
            "\n",
            "\n",
            "언제나 휴일 프로그래머C언어\n",
            "\n",
            "디딤돌 C언어\n",
            "언제나 C언어\n",
            "C언어 소스\n",
            "C언어 표준 라이브러리 함수\n",
            "C언어 알고리즘\n",
            "자료구조와 알고리즘\n",
            "패킷 분석 프로그램 [프로젝트]\n",
            "\n",
            "\n",
            "C++\n",
            "\n",
            "디딤돌 C++\n",
            "C++ 실습\n",
            "자료구조/알고리즘 C++\n",
            "Windows API\n",
            "TCP/IP 소켓 프로그래밍 with 윈도우즈\n",
            "\n",
            "\n",
            "C#과 .NET\n",
            "\n",
            "Escort C#\n",
            "C# 실습\n",
            "소프트웨어 설계 패턴\n",
            "Windows Forms\n",
            "Windows Forms 앱\n",
            "WPF\n",
            "소켓 통신\n",
            "SW 접근성 기술 UI 자동화\n",
            "XML.NET\n",
            "MSSQL과 ADO.NET\n",
            "\n",
            "\n",
            ".NET 프로젝트\n",
            "\n",
            "테트리스\n",
            "원격 제어 프로그램\n",
            "Wafer 코팅 시뮬레이션\n",
            "웹 검색 엔진 만들기\n",
            "미디 분석 프로그램\n",
            "ML.NET\n",
            "빅데이터 C#\n",
            "\n",
            "\n",
            "파이썬\n",
            "\n",
            "미래실험실 pYTHON\n",
            "코딩테스트\n",
            "웹 수집 검색 엔진\n",
            "머신러닝/딥러닝\n",
            "Open API 활용\n",
            "OpenCV in Colab\n",
            "\n",
            "\n",
            "Java\n",
            "\n",
            "Java 입문\n",
            "Java 활용\n",
            "\n",
            "\n",
            "리눅스\n",
            "\n",
            "쉘 프로그래밍\n",
            "리눅스 시스템 프로그래밍\n",
            "\n",
            "\n",
            "기타 언어\n",
            "\n",
            "Go 언어\n",
            "R 입문\n",
            "HTML5\n",
            "\n",
            "\n",
            "설치 및 기타\n",
            "\n",
            "TCP/IP 프로토콜\n",
            "설치 및 가입 서비스\n",
            "\n",
            "\n",
            "정보처리기사\n",
            "\n",
            "계산기 구조\n",
            "데이터 통신\n",
            "데이터베이스\n",
            "소프트웨어 공학\n",
            "운영체제\n",
            "\n",
            "\n",
            "사이트 소개\n",
            " \n",
            "\n",
            "\n",
            "facebook\n",
            "\n",
            "\n",
            "\n",
            "\n",
            "\n",
            "youtube\n",
            "\n",
            "\n",
            " \n",
            "\n",
            " \n",
            "\n",
            "\n",
            "언제나휴일\n",
            "\n",
            "\n",
            "\n",
            "안녕하세요. 언제나휴일입니다.\n",
            "오늘도 즐거운 하루입니다.\n",
            "언제나휴일에서는 다양한 프로그래밍 언어와 기술 자료를 공유합니다.\n",
            "유튜브를 통해 동영상 강의도 제공하고 있습니다.\n",
            "C언어\n",
            "디딤돌 C언어    /    언제나 C언어    /     C언어 소스    /    C언어 표준 라이브러리 함수\n",
            "C언어 알고리즘    /    자료구조와 알고리즘    /    패킷 분석 프로그램 [프로젝트]\n",
            "C++\n",
            "디딤돌 C++    /    C++실습    /    자료구조/알고리즘 C++\n",
            "Windows API    /    TCP/IP 소켓 프로그래밍 with 윈도우즈\n",
            "C#과 .NET\n",
            "Escort C#    /    C#실습    /    소프트웨어 설계 패턴\n",
            "Windows Forms    /    Windows Forms 앱    /    WPF \n",
            " XML.NET    /    MSSQL과 ADO.NET    /    소켓 통신    /    S/W접근성 기술 UI 자동화 \n",
            ".NET 프로젝트\n",
            "테트리스    /    원격 제어 프로그램     /    Wafer 코팅 시뮬레이션\n",
            "웹 검색 엔진 만들기    /    미디 분석 프로그램    /    ML.NET\n",
            "빅 데이터 C#\n",
            "파이썬\n",
            "미래실험실  pYTHON    /    코딩 테스트    /    웹 수집 검색\n",
            "머신러닝/딥러닝    /    OpenAPI 활용    /    OpenCV in Colab\n",
            "Java\n",
            "Java 입문    /    Java 활용\n",
            "기타 언어\n",
            "Go 언어    /    R 입문    /    HTML5\n",
            "리눅스\n",
            "쉘 프로그래밍    /    리눅스 시스템 프로그래밍\n",
            "설치 및 기타\n",
            "TCP/IP 프로토콜    /    설치 및 가입 서비스\n",
            "정보처리기사\n",
            "계산기 구조    /    데이터 통신    /    데이터베이스 \n",
            "소프트웨어 공학    /    운영체제\n",
            "\n",
            "\n",
            " \n",
            "\n",
            "\n",
            "Primary Sidebar\n",
            "\n",
            "\n",
            "\n",
            "검색검색\n",
            "\n",
            "현재 카테고리 글 2022년 5월 2일 새로운 출발Today's Visits: 1,502Total Visits: 5,388 \n",
            "\n",
            "\n",
            "\n",
            "\n",
            "\n",
            "\t\t\t언제나 휴일\t\t\n",
            "\n",
            "언제나 휴일 프로그래머 \n",
            "\n",
            "            언제나 휴일 사이트의 모든 글은 언제나 휴일 출판사의 소유입니다.\n",
            "무단 배포 및 상업적 사용을 불허합니다. 출처를 밝힌 후에 퍼가기(링크)는 가능합니다.        \n",
            "\n",
            "\n",
            "\n",
            "\n",
            "\n",
            "\n"
          ]
        }
      ]
    },
    {
      "cell_type": "code",
      "source": [
        ""
      ],
      "metadata": {
        "id": "GVrjf48IoseR"
      },
      "execution_count": 138,
      "outputs": []
    },
    {
      "cell_type": "markdown",
      "source": [
        "# OpenAPI - 1.카카오 API(도서 검색)"
      ],
      "metadata": {
        "id": "9-6Ne1Dopdcc"
      }
    },
    {
      "cell_type": "code",
      "source": [
        "mykey = '1bc56ac190718591528ae1dfa1592db7' #카카오 애플리케이셔 REST API키"
      ],
      "metadata": {
        "id": "4zIOPZcgphn_"
      },
      "execution_count": 139,
      "outputs": []
    },
    {
      "cell_type": "code",
      "source": [
        "auth_key = \"KakaoAK \" + mykey # 공백 있습니다."
      ],
      "metadata": {
        "id": "lM1jASaQq9-r"
      },
      "execution_count": 140,
      "outputs": []
    },
    {
      "cell_type": "markdown",
      "source": [
        "쿼리 문자열 : 사이트 주소와 사이트에 전달할 인자를 포함한 문자열\n",
        "\n",
        "사이트주소[?][변수=값][&변수=값]...\n",
        "\n",
        "예 : \n",
        "\n",
        "사이트 주소 - http:// enpub.co.kr\n",
        "\n",
        "id - eh\n",
        "\n",
        "name - 강보현\n",
        "\n",
        "쿼리 문자열 -  http:// enpub.co.kr?id=eh&name=강보현"
      ],
      "metadata": {
        "id": "9dxad0NEsTG0"
      }
    },
    {
      "cell_type": "code",
      "source": [
        "siteurl = \"https://dapi.kakao.com/v3/search/book\""
      ],
      "metadata": {
        "id": "w7nqYOuasuZa"
      },
      "execution_count": 141,
      "outputs": []
    },
    {
      "cell_type": "code",
      "source": [
        "auth = \"Authorization\""
      ],
      "metadata": {
        "id": "J_-Y0YqJueek"
      },
      "execution_count": 142,
      "outputs": []
    },
    {
      "cell_type": "code",
      "source": [
        "p_target = \"target=title\""
      ],
      "metadata": {
        "id": "NzbmdsV_umje"
      },
      "execution_count": 143,
      "outputs": []
    },
    {
      "cell_type": "code",
      "source": [
        "query = input(\"검색어:\")\n",
        "p_query = \"query=\"+ urllib.parse.quote(query) # 쿼리를 utf-8로 인코딩한 후 p_query에 값으로 추가, .quote = utf-8로 자동인식하게해주는거"
      ],
      "metadata": {
        "colab": {
          "base_uri": "https://localhost:8080/"
        },
        "id": "loNe-yK5uvnx",
        "outputId": "c5f65657-1c42-4bb3-a950-560b59e8d2b5"
      },
      "execution_count": 144,
      "outputs": [
        {
          "name": "stdout",
          "output_type": "stream",
          "text": [
            "검색어:파이썬\n"
          ]
        }
      ]
    },
    {
      "cell_type": "code",
      "source": [
        "query_str = siteurl+'?'+p_target+'&'+p_query\n",
        "print(query_str)"
      ],
      "metadata": {
        "colab": {
          "base_uri": "https://localhost:8080/"
        },
        "id": "rbVrY007u8-C",
        "outputId": "c5cc16ef-3cb8-429e-b7a1-588ef49a8b1a"
      },
      "execution_count": 145,
      "outputs": [
        {
          "output_type": "stream",
          "name": "stdout",
          "text": [
            "https://dapi.kakao.com/v3/search/book?target=title&query=%ED%8C%8C%EC%9D%B4%EC%8D%AC\n"
          ]
        }
      ]
    },
    {
      "cell_type": "code",
      "source": [
        "request= urllib.request.Request(query_str) # 인증 등의 헤더를 전달할 때는 requst 객체를 생성\n",
        "request.add_header(auth,auth_key) #헤더 추가"
      ],
      "metadata": {
        "id": "8ORHTX9xvU2F"
      },
      "execution_count": 146,
      "outputs": []
    },
    {
      "cell_type": "code",
      "source": [
        "response = urllib.request.urlopen(request) # 입력인자로 사이트 주소 혹은 request 개체 전달"
      ],
      "metadata": {
        "id": "Bzv-XqLAwD0P"
      },
      "execution_count": 147,
      "outputs": []
    },
    {
      "cell_type": "code",
      "source": [
        "if response.getcode() != 200 :\n",
        "  print(\"허걱 실패!!\")\n",
        "else : \n",
        "  print(\"요청 성공\")"
      ],
      "metadata": {
        "colab": {
          "base_uri": "https://localhost:8080/"
        },
        "id": "j08GF2jh0Q59",
        "outputId": "10cecc3d-4d82-4ed3-926a-80f8d0fb1149"
      },
      "execution_count": 148,
      "outputs": [
        {
          "output_type": "stream",
          "name": "stdout",
          "text": [
            "요청 성공\n"
          ]
        }
      ]
    },
    {
      "cell_type": "code",
      "source": [
        "result = response.read().decode('utf-8')\n",
        "print(result)"
      ],
      "metadata": {
        "colab": {
          "base_uri": "https://localhost:8080/"
        },
        "id": "hTNmW4uk0F3L",
        "outputId": "5a6cabdd-3299-4426-f4f0-41799a2453a0"
      },
      "execution_count": 149,
      "outputs": [
        {
          "output_type": "stream",
          "name": "stdout",
          "text": [
            "{\"documents\":[{\"authors\":[\"윤인성\"],\"contents\":\"이 책은 독학으로 프로그래밍 언어를 처음 배우려는 입문자가, 혹은 파이썬을 배우려는 입문자가 ‘꼭 필요한 내용을 제대로’ 학습할 수 있도록 구성했다. ‘무엇을’, ‘어떻게’ 학습해야 할지조차 모르는 입문자의 막연한 마음을 살펴, 과외 선생님이 알려주듯 친절하게, 그러나 핵심적인 내용만 콕콕 집어준다. 책의 첫 페이지를 펼쳐서 마지막 페이지를 덮을 때까지, 혼자서도 충분히 파이썬을 배울 수 있다는 자신감과 확신이 계속될 것이다!  27명의 베타리더와\",\"datetime\":\"2019-06-10T00:00:00.000+09:00\",\"isbn\":\"1162241888 9791162241882\",\"price\":18000,\"publisher\":\"한빛미디어\",\"sale_price\":16200,\"status\":\"정상판매\",\"thumbnail\":\"https://search1.kakaocdn.net/thumb/R120x174.q85/?fname=http%3A%2F%2Ft1.daumcdn.net%2Flbook%2Fimage%2F4966863%3Ftimestamp%3D20220504025544\",\"title\":\"혼자 공부하는 파이썬\",\"translators\":[],\"url\":\"https://search.daum.net/search?w=bookpage\\u0026bookId=4966863\\u0026q=%ED%98%BC%EC%9E%90+%EA%B3%B5%EB%B6%80%ED%95%98%EB%8A%94+%ED%8C%8C%EC%9D%B4%EC%8D%AC\"},{\"authors\":[\"박응용\"],\"contents\":\"문과생도 중고등학생도 직장인도 프로그래밍에 눈뜨게 만든 바로 그 책이 전면 개정판으로 새로 태어났다! 2016년 《Do it! 점프 투 파이썬》으로 출간되었던 이 책은 약 4년 동안의 피드백을 반영하여 초보자가 더 빠르게 입문하고, 더 깊이 있게 공부할 수 있도록 개정되었다. 특히 ‘나 혼자 코딩’과 ‘코딩 면허 시험 20제’ 등 독자의 학습 흐름에 맞게 문제를 보강한 점이 눈에 띈다. 실습량도 두 배로 늘었다.  4년 동안 압도적 1위! 위키독스\",\"datetime\":\"2019-06-20T00:00:00.000+09:00\",\"isbn\":\"1163030910 9791163030911\",\"price\":18800,\"publisher\":\"이지스퍼블리싱\",\"sale_price\":16920,\"status\":\"정상판매\",\"thumbnail\":\"https://search1.kakaocdn.net/thumb/R120x174.q85/?fname=http%3A%2F%2Ft1.daumcdn.net%2Flbook%2Fimage%2F4977247%3Ftimestamp%3D20220504024707\",\"title\":\"Do it! 점프 투 파이썬\",\"translators\":[],\"url\":\"https://search.daum.net/search?w=bookpage\\u0026bookId=4977247\\u0026q=Do+it%21+%EC%A0%90%ED%94%84+%ED%88%AC+%ED%8C%8C%EC%9D%B4%EC%8D%AC\"},{\"authors\":[\"박준성\"],\"contents\":\"이 책은 파이썬을 이용하여 주식 자동매매 시스템을 만드는 모든 과정을 자세히 소개한다. 개발 환경을 구축하고, 프로젝트를 만드는 데 필요한 기초 파이썬 문법은 물론 증권 데이터를 주고받기 위해 키움증권 API를 사용하는 방법과 웹 크롤링을 사용하여 매매 종목을 선정하고 RSI를 이용한 실전 매매 전략을 설명한다. 하나하나 따라 하며 만드는 과정을 통해 누구나 자동매매 시스템을 완성할 수 있다.\",\"datetime\":\"2021-10-14T00:00:00.000+09:00\",\"isbn\":\"1165217163 9791165217167\",\"price\":28000,\"publisher\":\"길벗\",\"sale_price\":25200,\"status\":\"정상판매\",\"thumbnail\":\"https://search1.kakaocdn.net/thumb/R120x174.q85/?fname=http%3A%2F%2Ft1.daumcdn.net%2Flbook%2Fimage%2F5856619%3Ftimestamp%3D20220504025724\",\"title\":\"쉽게 따라 만드는 파이썬 주식 자동매매 시스템\",\"translators\":[],\"url\":\"https://search.daum.net/search?w=bookpage\\u0026bookId=5856619\\u0026q=%EC%89%BD%EA%B2%8C+%EB%94%B0%EB%9D%BC+%EB%A7%8C%EB%93%9C%EB%8A%94+%ED%8C%8C%EC%9D%B4%EC%8D%AC+%EC%A3%BC%EC%8B%9D+%EC%9E%90%EB%8F%99%EB%A7%A4%EB%A7%A4+%EC%8B%9C%EC%8A%A4%ED%85%9C\"},{\"authors\":[\"이브 힐피시\"],\"contents\":\"현재 파이썬은 데이터와 인공지능이 주도하는 금융 분석 분야에서 대표적인 프로그래밍 언어로 사용되고 있다. 일부 대형 투자은행과 헤지펀드는 파이썬을 핵심적인 거래 시스템과 위험 관리 시스템 구축에 활용 하고 있다. 이 책에서는 다양한 파이썬 패키지와 도구를 사용하여 금융 데이터 과학, 알고리즘 트레이딩 및 계산 금융에 활용하는 방법을 설명한다.  이 책은 파이썬 프로그래밍 소개서나 일반적인 금융 입문서가 아니라는 점을 강조하고자 한다. 이 책은 이 두\",\"datetime\":\"2022-03-31T00:00:00.000+09:00\",\"isbn\":\"1162245174 9791162245170\",\"price\":45000,\"publisher\":\"한빛미디어\",\"sale_price\":40500,\"status\":\"정상판매\",\"thumbnail\":\"https://search1.kakaocdn.net/thumb/R120x174.q85/?fname=http%3A%2F%2Ft1.daumcdn.net%2Flbook%2Fimage%2F6043090%3Ftimestamp%3D20220504032519\",\"title\":\"파이썬을 활용한 금융 분석: 파이썬의 기초부터 금융공학, 머신러닝, 퀀트...\",\"translators\":[\"김도형\"],\"url\":\"https://search.daum.net/search?w=bookpage\\u0026bookId=6043090\\u0026q=%ED%8C%8C%EC%9D%B4%EC%8D%AC%EC%9D%84+%ED%99%9C%EC%9A%A9%ED%95%9C+%EA%B8%88%EC%9C%B5+%EB%B6%84%EC%84%9D%3A+%ED%8C%8C%EC%9D%B4%EC%8D%AC%EC%9D%98+%EA%B8%B0%EC%B4%88%EB%B6%80%ED%84%B0+%EA%B8%88%EC%9C%B5%EA%B3%B5%ED%95%99%2C+%EB%A8%B8%EC%8B%A0%EB%9F%AC%EB%8B%9D%2C+%ED%80%80%ED%8A%B8+%EB%B6%84%EC%84%9D%2C+%EB%A7%A4%EB%A7%A4+%EC%8B%9C%EC%8A%A4%ED%85%9C+%EA%B5%AC%ED%98%84%EA%B9%8C%EC%A7%80%282%ED%8C%90\"},{\"authors\":[\"엘리스 코딩\"],\"contents\":\"능력과 컴퓨팅 사고력을 동시에 기를 수 있답니다. 이 책은 서울대, 카이스트 출신 교육진, 7만 명의 수강생이 검증한 온라인 플랫폼 ‘엘리스 코딩’에서 직접 집필한 책으로, 인터넷만 되면 바로 실습할 수 있어 실습 편리성과 교육 효과 모두 탁월합니다. 마지막 과제인 ‘점심 메뉴 추첨기’ 프로그램까지 만들면 ‘파이썬 이수증’도 드립니다. 제대로 설계된 코딩 교육 콘텐츠를 찾는 학생·학부모·선생님은 물론, 코딩 공부가 처음인 코딩 초보자도 이 책으로 시작하세요\",\"datetime\":\"2020-04-10T00:00:00.000+09:00\",\"isbn\":\"1163031569 9791163031567\",\"price\":14000,\"publisher\":\"이지스퍼블리싱\",\"sale_price\":12600,\"status\":\"정상판매\",\"thumbnail\":\"https://search1.kakaocdn.net/thumb/R120x174.q85/?fname=http%3A%2F%2Ft1.daumcdn.net%2Flbook%2Fimage%2F5340279%3Ftimestamp%3D20220504023147\",\"title\":\"Do it! 첫 파이썬\",\"translators\":[],\"url\":\"https://search.daum.net/search?w=bookpage\\u0026bookId=5340279\\u0026q=Do+it%21+%EC%B2%AB+%ED%8C%8C%EC%9D%B4%EC%8D%AC\"},{\"authors\":[\"홍의경\"],\"contents\":\"2008년 즈음에 검인정 중학교 교과서 정보1, 정보2, 정보3을 공저로 저술하였습니다. 그 당시에 8종류의 교과서가 검인정에 합격하였는데, 파이썬을 기반으로 하는 교과서가 2종류, C언어를 기반으로 하는 교과서가 2종류, 베이직을 기반으로 하는 교과서가 2종류, 스크래치를 기반으로 하는 교과서가 2종류였습니다.  교육용 언어로 시작한 파이썬이 중학교 학생들이 비교적 쉽게 학습할 수 있는 프로그래밍 언어라고 생각했는데 10여년의 세월이 흐른 지금 파이썬\",\"datetime\":\"2022-03-09T00:00:00.000+09:00\",\"isbn\":\"8970506780 9788970506784\",\"price\":32000,\"publisher\":\"생능출판\",\"sale_price\":32000,\"status\":\"정상판매\",\"thumbnail\":\"https://search1.kakaocdn.net/thumb/R120x174.q85/?fname=http%3A%2F%2Ft1.daumcdn.net%2Flbook%2Fimage%2F6036137%3Ftimestamp%3D20220426171457\",\"title\":\"파이썬(제대로 배우는)\",\"translators\":[],\"url\":\"https://search.daum.net/search?w=bookpage\\u0026bookId=6036137\\u0026q=%ED%8C%8C%EC%9D%B4%EC%8D%AC%28%EC%A0%9C%EB%8C%80%EB%A1%9C+%EB%B0%B0%EC%9A%B0%EB%8A%94%29\"},{\"authors\":[\"모리 요시나오\"],\"contents\":\"파이썬은 인공지능의 기초 언어로 배우기 쉬우면서 각종 데이터 분석에 사용되는 프로그래밍 언어로 절정의 인기를 누리고 있다. 기존이 파이썬 책이 선뜻 입문하기 어려운 감이 있었다면 이 책은 염소 박사와 강아지 다솜 양의 친근한 일러스트를 도립해 책 전체가 쉬워보이며 실제로도 코드 설명이나 설치법, 버튼 안내가 큼직큼직한 주제의 만화와 대화체 방식으로 구성하여 매우 쉽게 느껴진다.  인터넷에 공개된 데이터를 수집하는 일을 ‘크롤링(Crawling)’, 이 데이터\",\"datetime\":\"2021-11-17T00:00:00.000+09:00\",\"isbn\":\"8931556896 9788931556896\",\"price\":17000,\"publisher\":\"성안당\",\"sale_price\":15300,\"status\":\"정상판매\",\"thumbnail\":\"https://search1.kakaocdn.net/thumb/R120x174.q85/?fname=http%3A%2F%2Ft1.daumcdn.net%2Flbook%2Fimage%2F5886125%3Ftimestamp%3D20220423145640\",\"title\":\"파이썬(Python) 2학년 스크래핑의 구조\",\"translators\":[\"이영란\"],\"url\":\"https://search.daum.net/search?w=bookpage\\u0026bookId=5886125\\u0026q=%ED%8C%8C%EC%9D%B4%EC%8D%AC%28Python%29+2%ED%95%99%EB%85%84+%EC%8A%A4%ED%81%AC%EB%9E%98%ED%95%91%EC%9D%98+%EA%B5%AC%EC%A1%B0\"},{\"authors\":[\"우재남\"],\"contents\":\"일단 따라하면 바로 이해되는 파이썬 프로그래밍 파이썬을 처음 접하는 독자를 대상으로 일대일 수업처럼 자세히 설명한 책입니다. 꼭 알아야 할 핵심 개념은 기본 예제로 최대한 쉽게 설명했으며, 중요한 내용은 응용 예제, 퀴즈, 셀프 스터디, 예제 모음으로 한번 더 복습할 수 있습니다. 일단 코드를 입력하고 실행하다 보면 어느새 파이썬 프로그래밍과 친숙해져 있을 것입니다! ※ 본 도서는 대학 강의용 교재로 개발되었으므로 연습문제 해답은 제공하지 않습니다\",\"datetime\":\"2022-01-03T00:00:00.000+09:00\",\"isbn\":\"1156645743 9791156645740\",\"price\":25000,\"publisher\":\"한빛아카데미\",\"sale_price\":25000,\"status\":\"정상판매\",\"thumbnail\":\"https://search1.kakaocdn.net/thumb/R120x174.q85/?fname=http%3A%2F%2Ft1.daumcdn.net%2Flbook%2Fimage%2F5924837%3Ftimestamp%3D20220504033733\",\"title\":\"파이썬 for Beginner(3판)\",\"translators\":[],\"url\":\"https://search.daum.net/search?w=bookpage\\u0026bookId=5924837\\u0026q=%ED%8C%8C%EC%9D%B4%EC%8D%AC+for+Beginner%283%ED%8C%90%29\"},{\"authors\":[\"모리 요시나오\"],\"contents\":\"만화처럼 빨려 들어가는 비주얼한 프로그래밍 입문서 1학년 시리즈! 염소 박사님, 다솜 양과 함께라면 인공지능 앱도 뚝딱!  누구에게나 가볍고 쉬운 파이썬 입문서!\",\"datetime\":\"2018-12-18T00:00:00.000+09:00\",\"isbn\":\"8931555687 9788931555684\",\"price\":17000,\"publisher\":\"성안당\",\"sale_price\":15300,\"status\":\"정상판매\",\"thumbnail\":\"https://search1.kakaocdn.net/thumb/R120x174.q85/?fname=http%3A%2F%2Ft1.daumcdn.net%2Flbook%2Fimage%2F4836717%3Ftimestamp%3D20220504040310\",\"title\":\"파이썬(Python): 1학년\",\"translators\":[\"이영란\"],\"url\":\"https://search.daum.net/search?w=bookpage\\u0026bookId=4836717\\u0026q=%ED%8C%8C%EC%9D%B4%EC%8D%AC%28Python%29%3A+1%ED%95%99%EB%85%84\"},{\"authors\":[\"박응용\"],\"contents\":\"《Do it! 점프 투 파이썬》은 지난 10년간 온라인 독자들의 질문 댓글에 답변하며 쌓아온 저자만의 노하우를 초보자들이 이해하기 쉽게 풀어냈다. 책은 파이썬의 문법들을 실생활에서 쉽게 접할 수 있는 일들을 사례로 들어 설명하는 저자의 탁월함이 돋보인다. 더불어 최신 파이썬 3버전을 기준으로 내용을 설명하고, 반드시 기억해야 하는 파이썬 2.7버전 내용까지 책 곳곳에서 수록하였다. 또한, 책에서 제공하는 ‘초보자 30일 코스’ 계획표를 이용해 하루 한\",\"datetime\":\"2016-03-03T00:00:00.000+09:00\",\"isbn\":\"8997390910 9788997390915\",\"price\":18800,\"publisher\":\"이지스퍼블리싱\",\"sale_price\":16920,\"status\":\"정상판매\",\"thumbnail\":\"https://search1.kakaocdn.net/thumb/R120x174.q85/?fname=http%3A%2F%2Ft1.daumcdn.net%2Flbook%2Fimage%2F1481287%3Ftimestamp%3D20210402150811\",\"title\":\"Do it! 점프 투 파이썬\",\"translators\":[],\"url\":\"https://search.daum.net/search?w=bookpage\\u0026bookId=1481287\\u0026q=Do+it%21+%EC%A0%90%ED%94%84+%ED%88%AC+%ED%8C%8C%EC%9D%B4%EC%8D%AC\"}],\"meta\":{\"is_end\":false,\"pageable_count\":1000,\"total_count\":3097}}\n"
          ]
        }
      ]
    },
    {
      "cell_type": "code",
      "source": [
        "import json"
      ],
      "metadata": {
        "id": "kE8ye6G21L9k"
      },
      "execution_count": 150,
      "outputs": []
    },
    {
      "cell_type": "code",
      "source": [
        "jdata = json.loads(result)\n",
        "meta = jdata['meta']\n",
        "print(meta)"
      ],
      "metadata": {
        "colab": {
          "base_uri": "https://localhost:8080/"
        },
        "id": "kAD0Xsx-1ZZY",
        "outputId": "9e20e029-c648-4386-f761-b82885a4cd7a"
      },
      "execution_count": 151,
      "outputs": [
        {
          "output_type": "stream",
          "name": "stdout",
          "text": [
            "{'is_end': False, 'pageable_count': 1000, 'total_count': 3097}\n"
          ]
        }
      ]
    },
    {
      "cell_type": "code",
      "source": [
        "documents = jdata['documents']\n",
        "print(documents)"
      ],
      "metadata": {
        "colab": {
          "base_uri": "https://localhost:8080/"
        },
        "id": "IUegM5es10zp",
        "outputId": "c24ab0c0-de1c-4f44-b057-2ece52bb9824"
      },
      "execution_count": 152,
      "outputs": [
        {
          "output_type": "stream",
          "name": "stdout",
          "text": [
            "[{'authors': ['윤인성'], 'contents': '이 책은 독학으로 프로그래밍 언어를 처음 배우려는 입문자가, 혹은 파이썬을 배우려는 입문자가 ‘꼭 필요한 내용을 제대로’ 학습할 수 있도록 구성했다. ‘무엇을’, ‘어떻게’ 학습해야 할지조차 모르는 입문자의 막연한 마음을 살펴, 과외 선생님이 알려주듯 친절하게, 그러나 핵심적인 내용만 콕콕 집어준다. 책의 첫 페이지를 펼쳐서 마지막 페이지를 덮을 때까지, 혼자서도 충분히 파이썬을 배울 수 있다는 자신감과 확신이 계속될 것이다!  27명의 베타리더와', 'datetime': '2019-06-10T00:00:00.000+09:00', 'isbn': '1162241888 9791162241882', 'price': 18000, 'publisher': '한빛미디어', 'sale_price': 16200, 'status': '정상판매', 'thumbnail': 'https://search1.kakaocdn.net/thumb/R120x174.q85/?fname=http%3A%2F%2Ft1.daumcdn.net%2Flbook%2Fimage%2F4966863%3Ftimestamp%3D20220504025544', 'title': '혼자 공부하는 파이썬', 'translators': [], 'url': 'https://search.daum.net/search?w=bookpage&bookId=4966863&q=%ED%98%BC%EC%9E%90+%EA%B3%B5%EB%B6%80%ED%95%98%EB%8A%94+%ED%8C%8C%EC%9D%B4%EC%8D%AC'}, {'authors': ['박응용'], 'contents': '문과생도 중고등학생도 직장인도 프로그래밍에 눈뜨게 만든 바로 그 책이 전면 개정판으로 새로 태어났다! 2016년 《Do it! 점프 투 파이썬》으로 출간되었던 이 책은 약 4년 동안의 피드백을 반영하여 초보자가 더 빠르게 입문하고, 더 깊이 있게 공부할 수 있도록 개정되었다. 특히 ‘나 혼자 코딩’과 ‘코딩 면허 시험 20제’ 등 독자의 학습 흐름에 맞게 문제를 보강한 점이 눈에 띈다. 실습량도 두 배로 늘었다.  4년 동안 압도적 1위! 위키독스', 'datetime': '2019-06-20T00:00:00.000+09:00', 'isbn': '1163030910 9791163030911', 'price': 18800, 'publisher': '이지스퍼블리싱', 'sale_price': 16920, 'status': '정상판매', 'thumbnail': 'https://search1.kakaocdn.net/thumb/R120x174.q85/?fname=http%3A%2F%2Ft1.daumcdn.net%2Flbook%2Fimage%2F4977247%3Ftimestamp%3D20220504024707', 'title': 'Do it! 점프 투 파이썬', 'translators': [], 'url': 'https://search.daum.net/search?w=bookpage&bookId=4977247&q=Do+it%21+%EC%A0%90%ED%94%84+%ED%88%AC+%ED%8C%8C%EC%9D%B4%EC%8D%AC'}, {'authors': ['박준성'], 'contents': '이 책은 파이썬을 이용하여 주식 자동매매 시스템을 만드는 모든 과정을 자세히 소개한다. 개발 환경을 구축하고, 프로젝트를 만드는 데 필요한 기초 파이썬 문법은 물론 증권 데이터를 주고받기 위해 키움증권 API를 사용하는 방법과 웹 크롤링을 사용하여 매매 종목을 선정하고 RSI를 이용한 실전 매매 전략을 설명한다. 하나하나 따라 하며 만드는 과정을 통해 누구나 자동매매 시스템을 완성할 수 있다.', 'datetime': '2021-10-14T00:00:00.000+09:00', 'isbn': '1165217163 9791165217167', 'price': 28000, 'publisher': '길벗', 'sale_price': 25200, 'status': '정상판매', 'thumbnail': 'https://search1.kakaocdn.net/thumb/R120x174.q85/?fname=http%3A%2F%2Ft1.daumcdn.net%2Flbook%2Fimage%2F5856619%3Ftimestamp%3D20220504025724', 'title': '쉽게 따라 만드는 파이썬 주식 자동매매 시스템', 'translators': [], 'url': 'https://search.daum.net/search?w=bookpage&bookId=5856619&q=%EC%89%BD%EA%B2%8C+%EB%94%B0%EB%9D%BC+%EB%A7%8C%EB%93%9C%EB%8A%94+%ED%8C%8C%EC%9D%B4%EC%8D%AC+%EC%A3%BC%EC%8B%9D+%EC%9E%90%EB%8F%99%EB%A7%A4%EB%A7%A4+%EC%8B%9C%EC%8A%A4%ED%85%9C'}, {'authors': ['이브 힐피시'], 'contents': '현재 파이썬은 데이터와 인공지능이 주도하는 금융 분석 분야에서 대표적인 프로그래밍 언어로 사용되고 있다. 일부 대형 투자은행과 헤지펀드는 파이썬을 핵심적인 거래 시스템과 위험 관리 시스템 구축에 활용 하고 있다. 이 책에서는 다양한 파이썬 패키지와 도구를 사용하여 금융 데이터 과학, 알고리즘 트레이딩 및 계산 금융에 활용하는 방법을 설명한다.  이 책은 파이썬 프로그래밍 소개서나 일반적인 금융 입문서가 아니라는 점을 강조하고자 한다. 이 책은 이 두', 'datetime': '2022-03-31T00:00:00.000+09:00', 'isbn': '1162245174 9791162245170', 'price': 45000, 'publisher': '한빛미디어', 'sale_price': 40500, 'status': '정상판매', 'thumbnail': 'https://search1.kakaocdn.net/thumb/R120x174.q85/?fname=http%3A%2F%2Ft1.daumcdn.net%2Flbook%2Fimage%2F6043090%3Ftimestamp%3D20220504032519', 'title': '파이썬을 활용한 금융 분석: 파이썬의 기초부터 금융공학, 머신러닝, 퀀트...', 'translators': ['김도형'], 'url': 'https://search.daum.net/search?w=bookpage&bookId=6043090&q=%ED%8C%8C%EC%9D%B4%EC%8D%AC%EC%9D%84+%ED%99%9C%EC%9A%A9%ED%95%9C+%EA%B8%88%EC%9C%B5+%EB%B6%84%EC%84%9D%3A+%ED%8C%8C%EC%9D%B4%EC%8D%AC%EC%9D%98+%EA%B8%B0%EC%B4%88%EB%B6%80%ED%84%B0+%EA%B8%88%EC%9C%B5%EA%B3%B5%ED%95%99%2C+%EB%A8%B8%EC%8B%A0%EB%9F%AC%EB%8B%9D%2C+%ED%80%80%ED%8A%B8+%EB%B6%84%EC%84%9D%2C+%EB%A7%A4%EB%A7%A4+%EC%8B%9C%EC%8A%A4%ED%85%9C+%EA%B5%AC%ED%98%84%EA%B9%8C%EC%A7%80%282%ED%8C%90'}, {'authors': ['엘리스 코딩'], 'contents': '능력과 컴퓨팅 사고력을 동시에 기를 수 있답니다. 이 책은 서울대, 카이스트 출신 교육진, 7만 명의 수강생이 검증한 온라인 플랫폼 ‘엘리스 코딩’에서 직접 집필한 책으로, 인터넷만 되면 바로 실습할 수 있어 실습 편리성과 교육 효과 모두 탁월합니다. 마지막 과제인 ‘점심 메뉴 추첨기’ 프로그램까지 만들면 ‘파이썬 이수증’도 드립니다. 제대로 설계된 코딩 교육 콘텐츠를 찾는 학생·학부모·선생님은 물론, 코딩 공부가 처음인 코딩 초보자도 이 책으로 시작하세요', 'datetime': '2020-04-10T00:00:00.000+09:00', 'isbn': '1163031569 9791163031567', 'price': 14000, 'publisher': '이지스퍼블리싱', 'sale_price': 12600, 'status': '정상판매', 'thumbnail': 'https://search1.kakaocdn.net/thumb/R120x174.q85/?fname=http%3A%2F%2Ft1.daumcdn.net%2Flbook%2Fimage%2F5340279%3Ftimestamp%3D20220504023147', 'title': 'Do it! 첫 파이썬', 'translators': [], 'url': 'https://search.daum.net/search?w=bookpage&bookId=5340279&q=Do+it%21+%EC%B2%AB+%ED%8C%8C%EC%9D%B4%EC%8D%AC'}, {'authors': ['홍의경'], 'contents': '2008년 즈음에 검인정 중학교 교과서 정보1, 정보2, 정보3을 공저로 저술하였습니다. 그 당시에 8종류의 교과서가 검인정에 합격하였는데, 파이썬을 기반으로 하는 교과서가 2종류, C언어를 기반으로 하는 교과서가 2종류, 베이직을 기반으로 하는 교과서가 2종류, 스크래치를 기반으로 하는 교과서가 2종류였습니다.  교육용 언어로 시작한 파이썬이 중학교 학생들이 비교적 쉽게 학습할 수 있는 프로그래밍 언어라고 생각했는데 10여년의 세월이 흐른 지금 파이썬', 'datetime': '2022-03-09T00:00:00.000+09:00', 'isbn': '8970506780 9788970506784', 'price': 32000, 'publisher': '생능출판', 'sale_price': 32000, 'status': '정상판매', 'thumbnail': 'https://search1.kakaocdn.net/thumb/R120x174.q85/?fname=http%3A%2F%2Ft1.daumcdn.net%2Flbook%2Fimage%2F6036137%3Ftimestamp%3D20220426171457', 'title': '파이썬(제대로 배우는)', 'translators': [], 'url': 'https://search.daum.net/search?w=bookpage&bookId=6036137&q=%ED%8C%8C%EC%9D%B4%EC%8D%AC%28%EC%A0%9C%EB%8C%80%EB%A1%9C+%EB%B0%B0%EC%9A%B0%EB%8A%94%29'}, {'authors': ['모리 요시나오'], 'contents': '파이썬은 인공지능의 기초 언어로 배우기 쉬우면서 각종 데이터 분석에 사용되는 프로그래밍 언어로 절정의 인기를 누리고 있다. 기존이 파이썬 책이 선뜻 입문하기 어려운 감이 있었다면 이 책은 염소 박사와 강아지 다솜 양의 친근한 일러스트를 도립해 책 전체가 쉬워보이며 실제로도 코드 설명이나 설치법, 버튼 안내가 큼직큼직한 주제의 만화와 대화체 방식으로 구성하여 매우 쉽게 느껴진다.  인터넷에 공개된 데이터를 수집하는 일을 ‘크롤링(Crawling)’, 이 데이터', 'datetime': '2021-11-17T00:00:00.000+09:00', 'isbn': '8931556896 9788931556896', 'price': 17000, 'publisher': '성안당', 'sale_price': 15300, 'status': '정상판매', 'thumbnail': 'https://search1.kakaocdn.net/thumb/R120x174.q85/?fname=http%3A%2F%2Ft1.daumcdn.net%2Flbook%2Fimage%2F5886125%3Ftimestamp%3D20220423145640', 'title': '파이썬(Python) 2학년 스크래핑의 구조', 'translators': ['이영란'], 'url': 'https://search.daum.net/search?w=bookpage&bookId=5886125&q=%ED%8C%8C%EC%9D%B4%EC%8D%AC%28Python%29+2%ED%95%99%EB%85%84+%EC%8A%A4%ED%81%AC%EB%9E%98%ED%95%91%EC%9D%98+%EA%B5%AC%EC%A1%B0'}, {'authors': ['우재남'], 'contents': '일단 따라하면 바로 이해되는 파이썬 프로그래밍 파이썬을 처음 접하는 독자를 대상으로 일대일 수업처럼 자세히 설명한 책입니다. 꼭 알아야 할 핵심 개념은 기본 예제로 최대한 쉽게 설명했으며, 중요한 내용은 응용 예제, 퀴즈, 셀프 스터디, 예제 모음으로 한번 더 복습할 수 있습니다. 일단 코드를 입력하고 실행하다 보면 어느새 파이썬 프로그래밍과 친숙해져 있을 것입니다! ※ 본 도서는 대학 강의용 교재로 개발되었으므로 연습문제 해답은 제공하지 않습니다', 'datetime': '2022-01-03T00:00:00.000+09:00', 'isbn': '1156645743 9791156645740', 'price': 25000, 'publisher': '한빛아카데미', 'sale_price': 25000, 'status': '정상판매', 'thumbnail': 'https://search1.kakaocdn.net/thumb/R120x174.q85/?fname=http%3A%2F%2Ft1.daumcdn.net%2Flbook%2Fimage%2F5924837%3Ftimestamp%3D20220504033733', 'title': '파이썬 for Beginner(3판)', 'translators': [], 'url': 'https://search.daum.net/search?w=bookpage&bookId=5924837&q=%ED%8C%8C%EC%9D%B4%EC%8D%AC+for+Beginner%283%ED%8C%90%29'}, {'authors': ['모리 요시나오'], 'contents': '만화처럼 빨려 들어가는 비주얼한 프로그래밍 입문서 1학년 시리즈! 염소 박사님, 다솜 양과 함께라면 인공지능 앱도 뚝딱!  누구에게나 가볍고 쉬운 파이썬 입문서!', 'datetime': '2018-12-18T00:00:00.000+09:00', 'isbn': '8931555687 9788931555684', 'price': 17000, 'publisher': '성안당', 'sale_price': 15300, 'status': '정상판매', 'thumbnail': 'https://search1.kakaocdn.net/thumb/R120x174.q85/?fname=http%3A%2F%2Ft1.daumcdn.net%2Flbook%2Fimage%2F4836717%3Ftimestamp%3D20220504040310', 'title': '파이썬(Python): 1학년', 'translators': ['이영란'], 'url': 'https://search.daum.net/search?w=bookpage&bookId=4836717&q=%ED%8C%8C%EC%9D%B4%EC%8D%AC%28Python%29%3A+1%ED%95%99%EB%85%84'}, {'authors': ['박응용'], 'contents': '《Do it! 점프 투 파이썬》은 지난 10년간 온라인 독자들의 질문 댓글에 답변하며 쌓아온 저자만의 노하우를 초보자들이 이해하기 쉽게 풀어냈다. 책은 파이썬의 문법들을 실생활에서 쉽게 접할 수 있는 일들을 사례로 들어 설명하는 저자의 탁월함이 돋보인다. 더불어 최신 파이썬 3버전을 기준으로 내용을 설명하고, 반드시 기억해야 하는 파이썬 2.7버전 내용까지 책 곳곳에서 수록하였다. 또한, 책에서 제공하는 ‘초보자 30일 코스’ 계획표를 이용해 하루 한', 'datetime': '2016-03-03T00:00:00.000+09:00', 'isbn': '8997390910 9788997390915', 'price': 18800, 'publisher': '이지스퍼블리싱', 'sale_price': 16920, 'status': '정상판매', 'thumbnail': 'https://search1.kakaocdn.net/thumb/R120x174.q85/?fname=http%3A%2F%2Ft1.daumcdn.net%2Flbook%2Fimage%2F1481287%3Ftimestamp%3D20210402150811', 'title': 'Do it! 점프 투 파이썬', 'translators': [], 'url': 'https://search.daum.net/search?w=bookpage&bookId=1481287&q=Do+it%21+%EC%A0%90%ED%94%84+%ED%88%AC+%ED%8C%8C%EC%9D%B4%EC%8D%AC'}]\n"
          ]
        }
      ]
    },
    {
      "cell_type": "code",
      "source": [
        "for document in documents : \n",
        "  print(\"=================\")\n",
        "  print(document)\n",
        "  print()"
      ],
      "metadata": {
        "colab": {
          "base_uri": "https://localhost:8080/"
        },
        "id": "FHvaM_yz2KCZ",
        "outputId": "621ed743-ba33-4233-dc34-7d3f258d0d12"
      },
      "execution_count": 153,
      "outputs": [
        {
          "output_type": "stream",
          "name": "stdout",
          "text": [
            "=================\n",
            "{'authors': ['윤인성'], 'contents': '이 책은 독학으로 프로그래밍 언어를 처음 배우려는 입문자가, 혹은 파이썬을 배우려는 입문자가 ‘꼭 필요한 내용을 제대로’ 학습할 수 있도록 구성했다. ‘무엇을’, ‘어떻게’ 학습해야 할지조차 모르는 입문자의 막연한 마음을 살펴, 과외 선생님이 알려주듯 친절하게, 그러나 핵심적인 내용만 콕콕 집어준다. 책의 첫 페이지를 펼쳐서 마지막 페이지를 덮을 때까지, 혼자서도 충분히 파이썬을 배울 수 있다는 자신감과 확신이 계속될 것이다!  27명의 베타리더와', 'datetime': '2019-06-10T00:00:00.000+09:00', 'isbn': '1162241888 9791162241882', 'price': 18000, 'publisher': '한빛미디어', 'sale_price': 16200, 'status': '정상판매', 'thumbnail': 'https://search1.kakaocdn.net/thumb/R120x174.q85/?fname=http%3A%2F%2Ft1.daumcdn.net%2Flbook%2Fimage%2F4966863%3Ftimestamp%3D20220504025544', 'title': '혼자 공부하는 파이썬', 'translators': [], 'url': 'https://search.daum.net/search?w=bookpage&bookId=4966863&q=%ED%98%BC%EC%9E%90+%EA%B3%B5%EB%B6%80%ED%95%98%EB%8A%94+%ED%8C%8C%EC%9D%B4%EC%8D%AC'}\n",
            "\n",
            "=================\n",
            "{'authors': ['박응용'], 'contents': '문과생도 중고등학생도 직장인도 프로그래밍에 눈뜨게 만든 바로 그 책이 전면 개정판으로 새로 태어났다! 2016년 《Do it! 점프 투 파이썬》으로 출간되었던 이 책은 약 4년 동안의 피드백을 반영하여 초보자가 더 빠르게 입문하고, 더 깊이 있게 공부할 수 있도록 개정되었다. 특히 ‘나 혼자 코딩’과 ‘코딩 면허 시험 20제’ 등 독자의 학습 흐름에 맞게 문제를 보강한 점이 눈에 띈다. 실습량도 두 배로 늘었다.  4년 동안 압도적 1위! 위키독스', 'datetime': '2019-06-20T00:00:00.000+09:00', 'isbn': '1163030910 9791163030911', 'price': 18800, 'publisher': '이지스퍼블리싱', 'sale_price': 16920, 'status': '정상판매', 'thumbnail': 'https://search1.kakaocdn.net/thumb/R120x174.q85/?fname=http%3A%2F%2Ft1.daumcdn.net%2Flbook%2Fimage%2F4977247%3Ftimestamp%3D20220504024707', 'title': 'Do it! 점프 투 파이썬', 'translators': [], 'url': 'https://search.daum.net/search?w=bookpage&bookId=4977247&q=Do+it%21+%EC%A0%90%ED%94%84+%ED%88%AC+%ED%8C%8C%EC%9D%B4%EC%8D%AC'}\n",
            "\n",
            "=================\n",
            "{'authors': ['박준성'], 'contents': '이 책은 파이썬을 이용하여 주식 자동매매 시스템을 만드는 모든 과정을 자세히 소개한다. 개발 환경을 구축하고, 프로젝트를 만드는 데 필요한 기초 파이썬 문법은 물론 증권 데이터를 주고받기 위해 키움증권 API를 사용하는 방법과 웹 크롤링을 사용하여 매매 종목을 선정하고 RSI를 이용한 실전 매매 전략을 설명한다. 하나하나 따라 하며 만드는 과정을 통해 누구나 자동매매 시스템을 완성할 수 있다.', 'datetime': '2021-10-14T00:00:00.000+09:00', 'isbn': '1165217163 9791165217167', 'price': 28000, 'publisher': '길벗', 'sale_price': 25200, 'status': '정상판매', 'thumbnail': 'https://search1.kakaocdn.net/thumb/R120x174.q85/?fname=http%3A%2F%2Ft1.daumcdn.net%2Flbook%2Fimage%2F5856619%3Ftimestamp%3D20220504025724', 'title': '쉽게 따라 만드는 파이썬 주식 자동매매 시스템', 'translators': [], 'url': 'https://search.daum.net/search?w=bookpage&bookId=5856619&q=%EC%89%BD%EA%B2%8C+%EB%94%B0%EB%9D%BC+%EB%A7%8C%EB%93%9C%EB%8A%94+%ED%8C%8C%EC%9D%B4%EC%8D%AC+%EC%A3%BC%EC%8B%9D+%EC%9E%90%EB%8F%99%EB%A7%A4%EB%A7%A4+%EC%8B%9C%EC%8A%A4%ED%85%9C'}\n",
            "\n",
            "=================\n",
            "{'authors': ['이브 힐피시'], 'contents': '현재 파이썬은 데이터와 인공지능이 주도하는 금융 분석 분야에서 대표적인 프로그래밍 언어로 사용되고 있다. 일부 대형 투자은행과 헤지펀드는 파이썬을 핵심적인 거래 시스템과 위험 관리 시스템 구축에 활용 하고 있다. 이 책에서는 다양한 파이썬 패키지와 도구를 사용하여 금융 데이터 과학, 알고리즘 트레이딩 및 계산 금융에 활용하는 방법을 설명한다.  이 책은 파이썬 프로그래밍 소개서나 일반적인 금융 입문서가 아니라는 점을 강조하고자 한다. 이 책은 이 두', 'datetime': '2022-03-31T00:00:00.000+09:00', 'isbn': '1162245174 9791162245170', 'price': 45000, 'publisher': '한빛미디어', 'sale_price': 40500, 'status': '정상판매', 'thumbnail': 'https://search1.kakaocdn.net/thumb/R120x174.q85/?fname=http%3A%2F%2Ft1.daumcdn.net%2Flbook%2Fimage%2F6043090%3Ftimestamp%3D20220504032519', 'title': '파이썬을 활용한 금융 분석: 파이썬의 기초부터 금융공학, 머신러닝, 퀀트...', 'translators': ['김도형'], 'url': 'https://search.daum.net/search?w=bookpage&bookId=6043090&q=%ED%8C%8C%EC%9D%B4%EC%8D%AC%EC%9D%84+%ED%99%9C%EC%9A%A9%ED%95%9C+%EA%B8%88%EC%9C%B5+%EB%B6%84%EC%84%9D%3A+%ED%8C%8C%EC%9D%B4%EC%8D%AC%EC%9D%98+%EA%B8%B0%EC%B4%88%EB%B6%80%ED%84%B0+%EA%B8%88%EC%9C%B5%EA%B3%B5%ED%95%99%2C+%EB%A8%B8%EC%8B%A0%EB%9F%AC%EB%8B%9D%2C+%ED%80%80%ED%8A%B8+%EB%B6%84%EC%84%9D%2C+%EB%A7%A4%EB%A7%A4+%EC%8B%9C%EC%8A%A4%ED%85%9C+%EA%B5%AC%ED%98%84%EA%B9%8C%EC%A7%80%282%ED%8C%90'}\n",
            "\n",
            "=================\n",
            "{'authors': ['엘리스 코딩'], 'contents': '능력과 컴퓨팅 사고력을 동시에 기를 수 있답니다. 이 책은 서울대, 카이스트 출신 교육진, 7만 명의 수강생이 검증한 온라인 플랫폼 ‘엘리스 코딩’에서 직접 집필한 책으로, 인터넷만 되면 바로 실습할 수 있어 실습 편리성과 교육 효과 모두 탁월합니다. 마지막 과제인 ‘점심 메뉴 추첨기’ 프로그램까지 만들면 ‘파이썬 이수증’도 드립니다. 제대로 설계된 코딩 교육 콘텐츠를 찾는 학생·학부모·선생님은 물론, 코딩 공부가 처음인 코딩 초보자도 이 책으로 시작하세요', 'datetime': '2020-04-10T00:00:00.000+09:00', 'isbn': '1163031569 9791163031567', 'price': 14000, 'publisher': '이지스퍼블리싱', 'sale_price': 12600, 'status': '정상판매', 'thumbnail': 'https://search1.kakaocdn.net/thumb/R120x174.q85/?fname=http%3A%2F%2Ft1.daumcdn.net%2Flbook%2Fimage%2F5340279%3Ftimestamp%3D20220504023147', 'title': 'Do it! 첫 파이썬', 'translators': [], 'url': 'https://search.daum.net/search?w=bookpage&bookId=5340279&q=Do+it%21+%EC%B2%AB+%ED%8C%8C%EC%9D%B4%EC%8D%AC'}\n",
            "\n",
            "=================\n",
            "{'authors': ['홍의경'], 'contents': '2008년 즈음에 검인정 중학교 교과서 정보1, 정보2, 정보3을 공저로 저술하였습니다. 그 당시에 8종류의 교과서가 검인정에 합격하였는데, 파이썬을 기반으로 하는 교과서가 2종류, C언어를 기반으로 하는 교과서가 2종류, 베이직을 기반으로 하는 교과서가 2종류, 스크래치를 기반으로 하는 교과서가 2종류였습니다.  교육용 언어로 시작한 파이썬이 중학교 학생들이 비교적 쉽게 학습할 수 있는 프로그래밍 언어라고 생각했는데 10여년의 세월이 흐른 지금 파이썬', 'datetime': '2022-03-09T00:00:00.000+09:00', 'isbn': '8970506780 9788970506784', 'price': 32000, 'publisher': '생능출판', 'sale_price': 32000, 'status': '정상판매', 'thumbnail': 'https://search1.kakaocdn.net/thumb/R120x174.q85/?fname=http%3A%2F%2Ft1.daumcdn.net%2Flbook%2Fimage%2F6036137%3Ftimestamp%3D20220426171457', 'title': '파이썬(제대로 배우는)', 'translators': [], 'url': 'https://search.daum.net/search?w=bookpage&bookId=6036137&q=%ED%8C%8C%EC%9D%B4%EC%8D%AC%28%EC%A0%9C%EB%8C%80%EB%A1%9C+%EB%B0%B0%EC%9A%B0%EB%8A%94%29'}\n",
            "\n",
            "=================\n",
            "{'authors': ['모리 요시나오'], 'contents': '파이썬은 인공지능의 기초 언어로 배우기 쉬우면서 각종 데이터 분석에 사용되는 프로그래밍 언어로 절정의 인기를 누리고 있다. 기존이 파이썬 책이 선뜻 입문하기 어려운 감이 있었다면 이 책은 염소 박사와 강아지 다솜 양의 친근한 일러스트를 도립해 책 전체가 쉬워보이며 실제로도 코드 설명이나 설치법, 버튼 안내가 큼직큼직한 주제의 만화와 대화체 방식으로 구성하여 매우 쉽게 느껴진다.  인터넷에 공개된 데이터를 수집하는 일을 ‘크롤링(Crawling)’, 이 데이터', 'datetime': '2021-11-17T00:00:00.000+09:00', 'isbn': '8931556896 9788931556896', 'price': 17000, 'publisher': '성안당', 'sale_price': 15300, 'status': '정상판매', 'thumbnail': 'https://search1.kakaocdn.net/thumb/R120x174.q85/?fname=http%3A%2F%2Ft1.daumcdn.net%2Flbook%2Fimage%2F5886125%3Ftimestamp%3D20220423145640', 'title': '파이썬(Python) 2학년 스크래핑의 구조', 'translators': ['이영란'], 'url': 'https://search.daum.net/search?w=bookpage&bookId=5886125&q=%ED%8C%8C%EC%9D%B4%EC%8D%AC%28Python%29+2%ED%95%99%EB%85%84+%EC%8A%A4%ED%81%AC%EB%9E%98%ED%95%91%EC%9D%98+%EA%B5%AC%EC%A1%B0'}\n",
            "\n",
            "=================\n",
            "{'authors': ['우재남'], 'contents': '일단 따라하면 바로 이해되는 파이썬 프로그래밍 파이썬을 처음 접하는 독자를 대상으로 일대일 수업처럼 자세히 설명한 책입니다. 꼭 알아야 할 핵심 개념은 기본 예제로 최대한 쉽게 설명했으며, 중요한 내용은 응용 예제, 퀴즈, 셀프 스터디, 예제 모음으로 한번 더 복습할 수 있습니다. 일단 코드를 입력하고 실행하다 보면 어느새 파이썬 프로그래밍과 친숙해져 있을 것입니다! ※ 본 도서는 대학 강의용 교재로 개발되었으므로 연습문제 해답은 제공하지 않습니다', 'datetime': '2022-01-03T00:00:00.000+09:00', 'isbn': '1156645743 9791156645740', 'price': 25000, 'publisher': '한빛아카데미', 'sale_price': 25000, 'status': '정상판매', 'thumbnail': 'https://search1.kakaocdn.net/thumb/R120x174.q85/?fname=http%3A%2F%2Ft1.daumcdn.net%2Flbook%2Fimage%2F5924837%3Ftimestamp%3D20220504033733', 'title': '파이썬 for Beginner(3판)', 'translators': [], 'url': 'https://search.daum.net/search?w=bookpage&bookId=5924837&q=%ED%8C%8C%EC%9D%B4%EC%8D%AC+for+Beginner%283%ED%8C%90%29'}\n",
            "\n",
            "=================\n",
            "{'authors': ['모리 요시나오'], 'contents': '만화처럼 빨려 들어가는 비주얼한 프로그래밍 입문서 1학년 시리즈! 염소 박사님, 다솜 양과 함께라면 인공지능 앱도 뚝딱!  누구에게나 가볍고 쉬운 파이썬 입문서!', 'datetime': '2018-12-18T00:00:00.000+09:00', 'isbn': '8931555687 9788931555684', 'price': 17000, 'publisher': '성안당', 'sale_price': 15300, 'status': '정상판매', 'thumbnail': 'https://search1.kakaocdn.net/thumb/R120x174.q85/?fname=http%3A%2F%2Ft1.daumcdn.net%2Flbook%2Fimage%2F4836717%3Ftimestamp%3D20220504040310', 'title': '파이썬(Python): 1학년', 'translators': ['이영란'], 'url': 'https://search.daum.net/search?w=bookpage&bookId=4836717&q=%ED%8C%8C%EC%9D%B4%EC%8D%AC%28Python%29%3A+1%ED%95%99%EB%85%84'}\n",
            "\n",
            "=================\n",
            "{'authors': ['박응용'], 'contents': '《Do it! 점프 투 파이썬》은 지난 10년간 온라인 독자들의 질문 댓글에 답변하며 쌓아온 저자만의 노하우를 초보자들이 이해하기 쉽게 풀어냈다. 책은 파이썬의 문법들을 실생활에서 쉽게 접할 수 있는 일들을 사례로 들어 설명하는 저자의 탁월함이 돋보인다. 더불어 최신 파이썬 3버전을 기준으로 내용을 설명하고, 반드시 기억해야 하는 파이썬 2.7버전 내용까지 책 곳곳에서 수록하였다. 또한, 책에서 제공하는 ‘초보자 30일 코스’ 계획표를 이용해 하루 한', 'datetime': '2016-03-03T00:00:00.000+09:00', 'isbn': '8997390910 9788997390915', 'price': 18800, 'publisher': '이지스퍼블리싱', 'sale_price': 16920, 'status': '정상판매', 'thumbnail': 'https://search1.kakaocdn.net/thumb/R120x174.q85/?fname=http%3A%2F%2Ft1.daumcdn.net%2Flbook%2Fimage%2F1481287%3Ftimestamp%3D20210402150811', 'title': 'Do it! 점프 투 파이썬', 'translators': [], 'url': 'https://search.daum.net/search?w=bookpage&bookId=1481287&q=Do+it%21+%EC%A0%90%ED%94%84+%ED%88%AC+%ED%8C%8C%EC%9D%B4%EC%8D%AC'}\n",
            "\n"
          ]
        }
      ]
    },
    {
      "cell_type": "code",
      "source": [
        "for document in documents : \n",
        "  print(\"=================\")\n",
        "  print(\"제목:\",document['title'])\n",
        "  print(\"저자 목록 :\",document['authors'])\n",
        "  print()"
      ],
      "metadata": {
        "colab": {
          "base_uri": "https://localhost:8080/"
        },
        "id": "7nxC2sq12z9V",
        "outputId": "503206ce-46e9-4a78-a484-b0733ef91cf8"
      },
      "execution_count": 154,
      "outputs": [
        {
          "output_type": "stream",
          "name": "stdout",
          "text": [
            "=================\n",
            "제목: 혼자 공부하는 파이썬\n",
            "저자 목록 : ['윤인성']\n",
            "\n",
            "=================\n",
            "제목: Do it! 점프 투 파이썬\n",
            "저자 목록 : ['박응용']\n",
            "\n",
            "=================\n",
            "제목: 쉽게 따라 만드는 파이썬 주식 자동매매 시스템\n",
            "저자 목록 : ['박준성']\n",
            "\n",
            "=================\n",
            "제목: 파이썬을 활용한 금융 분석: 파이썬의 기초부터 금융공학, 머신러닝, 퀀트...\n",
            "저자 목록 : ['이브 힐피시']\n",
            "\n",
            "=================\n",
            "제목: Do it! 첫 파이썬\n",
            "저자 목록 : ['엘리스 코딩']\n",
            "\n",
            "=================\n",
            "제목: 파이썬(제대로 배우는)\n",
            "저자 목록 : ['홍의경']\n",
            "\n",
            "=================\n",
            "제목: 파이썬(Python) 2학년 스크래핑의 구조\n",
            "저자 목록 : ['모리 요시나오']\n",
            "\n",
            "=================\n",
            "제목: 파이썬 for Beginner(3판)\n",
            "저자 목록 : ['우재남']\n",
            "\n",
            "=================\n",
            "제목: 파이썬(Python): 1학년\n",
            "저자 목록 : ['모리 요시나오']\n",
            "\n",
            "=================\n",
            "제목: Do it! 점프 투 파이썬\n",
            "저자 목록 : ['박응용']\n",
            "\n"
          ]
        }
      ]
    },
    {
      "cell_type": "code",
      "source": [
        ""
      ],
      "metadata": {
        "id": "5VHx-WLI4KnK"
      },
      "execution_count": 154,
      "outputs": []
    },
    {
      "cell_type": "markdown",
      "source": [
        "# 네이버 개발자 센터 - 도서 검색(XML방식)"
      ],
      "metadata": {
        "id": "1on8SMVY5Rhi"
      }
    },
    {
      "cell_type": "code",
      "source": [
        "client_id = 'ICJJx6x7ygogtezSfUgx'\n",
        "client_secret = 'Saaw1DiedV'"
      ],
      "metadata": {
        "id": "Wm729rcN5VPO"
      },
      "execution_count": 172,
      "outputs": []
    },
    {
      "cell_type": "code",
      "source": [
        "site_url = 'https://openapi.naver.com/v1/search/book.xml'"
      ],
      "metadata": {
        "id": "uO1RO3Mk6EU8"
      },
      "execution_count": 173,
      "outputs": []
    },
    {
      "cell_type": "code",
      "source": [
        "query = input(\"검색어:\")"
      ],
      "metadata": {
        "colab": {
          "base_uri": "https://localhost:8080/"
        },
        "id": "XdUQ8JEs6HKv",
        "outputId": "c92102f7-38b2-45de-b39e-d0eefb70fc8b"
      },
      "execution_count": 174,
      "outputs": [
        {
          "name": "stdout",
          "output_type": "stream",
          "text": [
            "검색어:파이썬\n"
          ]
        }
      ]
    },
    {
      "cell_type": "code",
      "source": [
        "q_param = \"query=\"+urllib.parse.quote(query)\n",
        "print(q_param)"
      ],
      "metadata": {
        "colab": {
          "base_uri": "https://localhost:8080/"
        },
        "id": "of6CQ_KL6cMi",
        "outputId": "fb1f623d-0ced-4a1e-e04d-02f1ec45aedd"
      },
      "execution_count": 175,
      "outputs": [
        {
          "output_type": "stream",
          "name": "stdout",
          "text": [
            "query=%ED%8C%8C%EC%9D%B4%EC%8D%AC\n"
          ]
        }
      ]
    },
    {
      "cell_type": "code",
      "source": [
        "query_str = site_url+'?'+q_param\n",
        "print(query_str)"
      ],
      "metadata": {
        "colab": {
          "base_uri": "https://localhost:8080/"
        },
        "id": "rV_d6AHD6jL6",
        "outputId": "3230ce1c-9d93-45e8-a23a-829eba6d6846"
      },
      "execution_count": 159,
      "outputs": [
        {
          "output_type": "stream",
          "name": "stdout",
          "text": [
            "https://openapi.naver.com/v1/search/book.xml?query=%ED%8C%8C%EC%9D%B4%EC%8D%AC\n"
          ]
        }
      ]
    },
    {
      "cell_type": "code",
      "source": [
        "cid='X-Naver-Client-Id'\n",
        "csec = 'X-Naver-Client-Secret'"
      ],
      "metadata": {
        "id": "JgpDVrNt6s6o"
      },
      "execution_count": 160,
      "outputs": []
    },
    {
      "cell_type": "code",
      "source": [
        "request = urllib.request.Request(query_str) #요청 가능한 개체 생성\n",
        "request.add_header(cid,client_id) # 헤더에 client id 추가\n",
        "request.add_header(csec,client_secret) # 헤더 client secret 추가"
      ],
      "metadata": {
        "id": "EKkpxt6E7NEq"
      },
      "execution_count": 161,
      "outputs": []
    },
    {
      "cell_type": "code",
      "source": [
        "response = urllib.request.urlopen(request) #웹 서버에 요청\n",
        "if response.getcode() != 200:\n",
        "  print(\"요청실패!!\")\n",
        "else : \n",
        "  print(\"성공!!\")"
      ],
      "metadata": {
        "colab": {
          "base_uri": "https://localhost:8080/"
        },
        "id": "zbO7LM9c7YOl",
        "outputId": "9c4b7fae-f8a7-4015-810b-fe81cb7a7e4a"
      },
      "execution_count": 162,
      "outputs": [
        {
          "output_type": "stream",
          "name": "stdout",
          "text": [
            "성공!!\n"
          ]
        }
      ]
    },
    {
      "cell_type": "code",
      "source": [
        "data = response.read().decode('utf-8')\n",
        "print(data)"
      ],
      "metadata": {
        "colab": {
          "base_uri": "https://localhost:8080/"
        },
        "id": "dN4zU8uV7zGj",
        "outputId": "7052b5f2-343e-40a7-ad7b-c08be2b15e9d"
      },
      "execution_count": 163,
      "outputs": [
        {
          "output_type": "stream",
          "name": "stdout",
          "text": [
            "<?xml version=\"1.0\" encoding=\"UTF-8\"?><rss version=\"2.0\"><channel><title>Naver Open API - book ::'파이썬'</title><link>https://search.naver.com</link><description>Naver Search Result</description><lastBuildDate>Wed, 04 May 2022 13:15:00 +0900</lastBuildDate><total>1562</total><start>1</start><display>10</display><item><title>만들면서 배우는 &lt;b&gt;파이썬&lt;/b&gt;과 40개의 작품들 (자동화, 크롤링, 이미지처리, 데이터분석, 웹페이지, GUI 프로그램, 게임)</title><link>http://book.naver.com/bookdb/book_detail.php?bid=21982844</link><image>https://bookthumb-phinf.pstatic.net/cover/219/828/21982844.jpg?type=m1&amp;udate=20220221</image><author>장문철</author><price>18800</price><discount>16920</discount><publisher>앤써북</publisher><pubdate>20220228</pubdate><isbn>1185553932 9791185553931</isbn><description>이 책은 내 업무와 생활에 바로 적용할 수 있는 40개의 프로그램을 직접 코딩해서 만들어보고, 동시에 &lt;b&gt;파이썬&lt;/b&gt;을 자연스럽게 이해할 수 있게 구성하였다!&lt;b&gt;파이썬&lt;/b&gt; 기초 문법 떼고 자동화, 크롤링, 이미지처리, 데이터분석, 웹페이지, GUI 프로그램, 게임, 인공지능 관련 40개 프로그램 직접 &lt;b&gt;파이썬&lt;/b&gt; 코딩하며 만들어... </description></item><item><title>Do it! 점프 투 &lt;b&gt;파이썬&lt;/b&gt;</title><link>http://book.naver.com/bookdb/book_detail.php?bid=15052904</link><image>https://bookthumb-phinf.pstatic.net/cover/150/529/15052904.jpg?type=m1&amp;udate=20200910</image><author>박응용</author><price>18800</price><discount>16920</discount><publisher>이지스퍼블리싱</publisher><pubdate>20190620</pubdate><isbn>1163030910 9791163030911</isbn><description>&lt;b&gt;파이썬&lt;/b&gt; 4년 연속 베스트셀러 1위!\n",
            "《DO IT! 점프 투 &lt;b&gt;파이썬&lt;/b&gt;》 전면 개정판 출시!문과생도 중고등학생도 직장인도 프로그래밍에 눈뜨게 만든 바로 그 책이... 점프 투 &lt;b&gt;파이썬&lt;/b&gt;》으로 출간되었던 이 책은 약 4년 동안의 피드백을 반영하여 초보자가 더 빠르게 입문하고, 더 깊이 있게 공부할 수 있도록 개정되었다.... </description></item><item><title>이것이 취업을 위한 코딩 테스트다 with &lt;b&gt;파이썬&lt;/b&gt; (취업과 이직을 결정하는 알고리즘 인터뷰 완벽 가이드)</title><link>http://book.naver.com/bookdb/book_detail.php?bid=16439154</link><image>https://bookthumb-phinf.pstatic.net/cover/164/391/16439154.jpg?type=m1&amp;udate=20200928</image><author>나동빈</author><price>34000</price><discount>30600</discount><publisher>한빛미디어</publisher><pubdate>20200805</pubdate><isbn>1162243074 9791162243077</isbn><description>8가지 핵심 알고리즘 이론을 쉽게 설명하고, 관련 실전 문제를 풀이했다. 출제 유형 분석, 이론 설명, 기출문제 풀이까지! 어떤 코딩 테스트도 이 책 한 권으로 대비할 수 있을 것이다. 코딩 테스트에서 주로 선택하는 &lt;b&gt;파이썬&lt;/b&gt;을 기반으로 설명되어 있으며, &lt;b&gt;파이썬&lt;/b&gt; 코드 외에도 C/C++, 자바 코드를 추가로 제공한다.</description></item><item><title>혼자 공부하는 &lt;b&gt;파이썬&lt;/b&gt; (&lt;b&gt;파이썬&lt;/b&gt; 최신 버전 반영)</title><link>http://book.naver.com/bookdb/book_detail.php?bid=15028688</link><image>https://bookthumb-phinf.pstatic.net/cover/150/286/15028688.jpg?type=m1&amp;udate=20220129</image><author>윤인성</author><price>18000</price><discount>16200</discount><publisher>한빛미디어</publisher><pubdate>20190610</pubdate><isbn>1162241888 9791162241882</isbn><description>1:1 과외하듯 배우는 &lt;b&gt;파이썬&lt;/b&gt; 프로그래밍 자습서(&lt;b&gt;파이썬&lt;/b&gt; 최신 버전 반영)\n",
            "27명의 베타리더 검증으로, ‘함께 만든’ 입문자 맞춤형 도서\n",
            "\n",
            "이 책은 독학으로 프로그래밍 언어를 처음 배우려는 입문자가, 혹은 &lt;b&gt;파이썬&lt;/b&gt;을 배우려는 입문자가 ‘꼭 필요한 내용을 제대로’ 학습할 수 있도록 구성했다. ‘무엇을’... </description></item><item><title>&lt;b&gt;파이썬&lt;/b&gt; for Beginner (쉽고 빠르게 익히는 프로그래밍의 기본 원리)</title><link>http://book.naver.com/bookdb/book_detail.php?bid=21371083</link><image>https://bookthumb-phinf.pstatic.net/cover/213/710/21371083.jpg?type=m1&amp;udate=20211223</image><author>우재남</author><price>25000</price><discount>25000</discount><publisher>한빛아카데미</publisher><pubdate>20220103</pubdate><isbn>1156645743 9791156645740</isbn><description>일단 따라하면 바로 이해되는 &lt;b&gt;파이썬&lt;/b&gt; 프로그래밍&lt;b&gt;파이썬&lt;/b&gt;을 처음 접하는 독자를 대상으로 일대일 수업처럼 자세히 설명한 책입니다.꼭 알아야 할 핵심... 일단 코드를 입력하고 실행하다 보면 어느새 &lt;b&gt;파이썬&lt;/b&gt; 프로그래밍과 친숙해져 있을 것입니다!※ 본 도서는 대학 강의용 교재로 개발되었으므로 연습문제 해답은... </description></item><item><title>&lt;b&gt;파이썬&lt;/b&gt; 알고리즘 인터뷰 (95가지 알고리즘 문제 풀이로 완성하는 코딩 테스트)</title><link>http://book.naver.com/bookdb/book_detail.php?bid=16406247</link><image>https://bookthumb-phinf.pstatic.net/cover/164/062/16406247.jpg?type=m1&amp;udate=20220323</image><author>박상길</author><price>38000</price><discount>34200</discount><publisher>책만</publisher><pubdate>20200715</pubdate><isbn>1189909170 9791189909178</isbn><description>물론, &lt;b&gt;파이썬&lt;/b&gt;으로 구현하는 코드 풀이를 통해 성능 최적화 기법, &lt;b&gt;파이썬&lt;/b&gt;의 핵심 문법과 다양한 실용 테크닉까지 배울 수 있는, 초보 개발자와 숙련 개발자... 이 책은 현업과 실무에 유용한 주요 알고리즘 이론을 깊숙이 이해하고, &lt;b&gt;파이썬&lt;/b&gt;의 핵심 기능과 문법까지 상세하게 이해할 수 있는 취업용 코딩 테스트를... </description></item><item><title>한 권으로 끝내는 아두이노와 &lt;b&gt;파이썬&lt;/b&gt;으로 52개 작품 만들기</title><link>http://book.naver.com/bookdb/book_detail.php?bid=22046408</link><image>https://bookthumb-phinf.pstatic.net/cover/220/464/22046408.jpg?type=m1&amp;udate=20220301</image><author>장문철|박준원</author><price>22000</price><discount>19800</discount><publisher>앤써북</publisher><pubdate>20220330</pubdate><isbn>1185553940 9791185553948</isbn><description>이 책은 아두이노를 사용하여 하드웨어를 만들고 &lt;b&gt;파이썬&lt;/b&gt;을 이용하여 PC에서 프로그램을 만든 후 서로 통신 및 융합하여 52가지 다양한 작품 만들기를 통해 재미와 학습 두 가지를 모두 할 수 있게 구성하였습니다!</description></item><item><title>모두의 &lt;b&gt;파이썬&lt;/b&gt; (20일 만에 배우는 프로그래밍 기초)</title><link>http://book.naver.com/bookdb/book_detail.php?bid=14126163</link><image>https://bookthumb-phinf.pstatic.net/cover/141/261/14126163.jpg?type=m1&amp;udate=20210210</image><author>이승찬</author><price>12000</price><discount>10800</discount><publisher>길벗</publisher><pubdate>20181009</pubdate><isbn>1160505853 9791160505856</isbn><description>&lt;b&gt;파이썬&lt;/b&gt; 분야 &amp; 어린이 코딩 교육 분야\n",
            "2년 연속 베스트셀러! 개정판 출간!\n",
            "즐겁게 시작하는 나의 첫 프로그래밍!\n",
            "프로그래밍을 한 번도 해본 적이 없어도 괜찮다. &lt;b&gt;파이썬&lt;/b&gt;이 무엇인지 몰라도 상관 없다.... 어느새 &lt;b&gt;파이썬&lt;/b&gt; 프로그램으로 멋진 그림을 그리고, 계산을 하고, 간단한 게임을 만들고, 수학 문제를... </description></item><item><title>머신 러닝 교과서 with &lt;b&gt;파이썬&lt;/b&gt;, 사이킷런, 텐서플로 (최신 넘파이, 사이킷런, 텐서플로 2로 배우는 머신 러닝, 딥러닝 핵심 알고)</title><link>http://book.naver.com/bookdb/book_detail.php?bid=18829375</link><image>https://bookthumb-phinf.pstatic.net/cover/188/293/18829375.jpg?type=m1&amp;udate=20211207</image><author>세바스찬 라시카|바히드 미자리리</author><price>44000</price><discount>39600</discount><publisher>길벗</publisher><pubdate>20210331</pubdate><isbn>1165215187 9791165215187</isbn><description>&lt;b&gt;파이썬&lt;/b&gt; 언어와 &lt;b&gt;파이썬&lt;/b&gt; 기반의 머신 러닝 핵심 라이브러리(SciPy, NumPy, scikit-learn, Matplotlib, Pandas)를 사용해 머신 러닝을, 텐서플로(TensorFlow 2)를 사용해 딥러닝을 실습해본다. 특히 딥러닝은 최신 텐서플로 2에 맞춰 대폭 수정 및 보강되었다. 그러고 나서 GAN과 강화 학습도 자세하게 다룬다. 머신 러닝과... </description></item><item><title>&lt;b&gt;파이썬&lt;/b&gt;을 이용한 통계분석 (통계 기초 이론 이해와 응용)</title><link>http://book.naver.com/bookdb/book_detail.php?bid=22350087</link><image>https://bookthumb-phinf.pstatic.net/cover/223/500/22350087.jpg?type=m1&amp;udate=20220418</image><author>이원우|장인홍|이다혜</author><price>36000</price><discount>36000</discount><publisher>자유아카데미</publisher><pubdate>20220415</pubdate><isbn>115808353X 9791158083533</isbn><description>1장은 통계적 이론이나 &lt;b&gt;파이썬&lt;/b&gt;의 사용에 초보적인 독자들도 쉽게 학습할 수 있도록 &lt;b&gt;파이썬&lt;/b&gt;의 기초 사용법 및 필수적인 기본 문법을 포함한 매뉴얼을... 독자들이 실무적 문제를 해결하는 데 도움이 될 수 있도록 &lt;b&gt;파이썬&lt;/b&gt; 프로그램과 프로그램 실행 결과를 제시하면서 이에 대해 상세히 해설하였다. 또한, 통계... </description></item></channel></rss>\n"
          ]
        }
      ]
    },
    {
      "cell_type": "code",
      "source": [
        "from bs4 import BeautifulSoup\n",
        "hdoc = BeautifulSoup(data,'html.parser')\n",
        "print(hdoc)"
      ],
      "metadata": {
        "colab": {
          "base_uri": "https://localhost:8080/"
        },
        "id": "lQDRCoDU8A_O",
        "outputId": "8d22d9a1-505b-4fd8-8a9d-484f122f860a"
      },
      "execution_count": 166,
      "outputs": [
        {
          "output_type": "stream",
          "name": "stdout",
          "text": [
            "<?xml version=\"1.0\" encoding=\"UTF-8\"?><rss version=\"2.0\"><channel><title>Naver Open API - book ::'파이썬'</title><link/>https://search.naver.com<description>Naver Search Result</description><lastbuilddate>Wed, 04 May 2022 13:15:00 +0900</lastbuilddate><total>1562</total><start>1</start><display>10</display><item><title>만들면서 배우는 &lt;b&gt;파이썬&lt;/b&gt;과 40개의 작품들 (자동화, 크롤링, 이미지처리, 데이터분석, 웹페이지, GUI 프로그램, 게임)</title><link/>http://book.naver.com/bookdb/book_detail.php?bid=21982844<image/>https://bookthumb-phinf.pstatic.net/cover/219/828/21982844.jpg?type=m1&amp;udate=20220221<author>장문철</author><price>18800</price><discount>16920</discount><publisher>앤써북</publisher><pubdate>20220228</pubdate><isbn>1185553932 9791185553931</isbn><description>이 책은 내 업무와 생활에 바로 적용할 수 있는 40개의 프로그램을 직접 코딩해서 만들어보고, 동시에 &lt;b&gt;파이썬&lt;/b&gt;을 자연스럽게 이해할 수 있게 구성하였다!&lt;b&gt;파이썬&lt;/b&gt; 기초 문법 떼고 자동화, 크롤링, 이미지처리, 데이터분석, 웹페이지, GUI 프로그램, 게임, 인공지능 관련 40개 프로그램 직접 &lt;b&gt;파이썬&lt;/b&gt; 코딩하며 만들어... </description></item><item><title>Do it! 점프 투 &lt;b&gt;파이썬&lt;/b&gt;</title><link/>http://book.naver.com/bookdb/book_detail.php?bid=15052904<image/>https://bookthumb-phinf.pstatic.net/cover/150/529/15052904.jpg?type=m1&amp;udate=20200910<author>박응용</author><price>18800</price><discount>16920</discount><publisher>이지스퍼블리싱</publisher><pubdate>20190620</pubdate><isbn>1163030910 9791163030911</isbn><description>&lt;b&gt;파이썬&lt;/b&gt; 4년 연속 베스트셀러 1위!\n",
            "《DO IT! 점프 투 &lt;b&gt;파이썬&lt;/b&gt;》 전면 개정판 출시!문과생도 중고등학생도 직장인도 프로그래밍에 눈뜨게 만든 바로 그 책이... 점프 투 &lt;b&gt;파이썬&lt;/b&gt;》으로 출간되었던 이 책은 약 4년 동안의 피드백을 반영하여 초보자가 더 빠르게 입문하고, 더 깊이 있게 공부할 수 있도록 개정되었다.... </description></item><item><title>이것이 취업을 위한 코딩 테스트다 with &lt;b&gt;파이썬&lt;/b&gt; (취업과 이직을 결정하는 알고리즘 인터뷰 완벽 가이드)</title><link/>http://book.naver.com/bookdb/book_detail.php?bid=16439154<image/>https://bookthumb-phinf.pstatic.net/cover/164/391/16439154.jpg?type=m1&amp;udate=20200928<author>나동빈</author><price>34000</price><discount>30600</discount><publisher>한빛미디어</publisher><pubdate>20200805</pubdate><isbn>1162243074 9791162243077</isbn><description>8가지 핵심 알고리즘 이론을 쉽게 설명하고, 관련 실전 문제를 풀이했다. 출제 유형 분석, 이론 설명, 기출문제 풀이까지! 어떤 코딩 테스트도 이 책 한 권으로 대비할 수 있을 것이다. 코딩 테스트에서 주로 선택하는 &lt;b&gt;파이썬&lt;/b&gt;을 기반으로 설명되어 있으며, &lt;b&gt;파이썬&lt;/b&gt; 코드 외에도 C/C++, 자바 코드를 추가로 제공한다.</description></item><item><title>혼자 공부하는 &lt;b&gt;파이썬&lt;/b&gt; (&lt;b&gt;파이썬&lt;/b&gt; 최신 버전 반영)</title><link/>http://book.naver.com/bookdb/book_detail.php?bid=15028688<image/>https://bookthumb-phinf.pstatic.net/cover/150/286/15028688.jpg?type=m1&amp;udate=20220129<author>윤인성</author><price>18000</price><discount>16200</discount><publisher>한빛미디어</publisher><pubdate>20190610</pubdate><isbn>1162241888 9791162241882</isbn><description>1:1 과외하듯 배우는 &lt;b&gt;파이썬&lt;/b&gt; 프로그래밍 자습서(&lt;b&gt;파이썬&lt;/b&gt; 최신 버전 반영)\n",
            "27명의 베타리더 검증으로, ‘함께 만든’ 입문자 맞춤형 도서\n",
            "\n",
            "이 책은 독학으로 프로그래밍 언어를 처음 배우려는 입문자가, 혹은 &lt;b&gt;파이썬&lt;/b&gt;을 배우려는 입문자가 ‘꼭 필요한 내용을 제대로’ 학습할 수 있도록 구성했다. ‘무엇을’... </description></item><item><title>&lt;b&gt;파이썬&lt;/b&gt; for Beginner (쉽고 빠르게 익히는 프로그래밍의 기본 원리)</title><link/>http://book.naver.com/bookdb/book_detail.php?bid=21371083<image/>https://bookthumb-phinf.pstatic.net/cover/213/710/21371083.jpg?type=m1&amp;udate=20211223<author>우재남</author><price>25000</price><discount>25000</discount><publisher>한빛아카데미</publisher><pubdate>20220103</pubdate><isbn>1156645743 9791156645740</isbn><description>일단 따라하면 바로 이해되는 &lt;b&gt;파이썬&lt;/b&gt; 프로그래밍&lt;b&gt;파이썬&lt;/b&gt;을 처음 접하는 독자를 대상으로 일대일 수업처럼 자세히 설명한 책입니다.꼭 알아야 할 핵심... 일단 코드를 입력하고 실행하다 보면 어느새 &lt;b&gt;파이썬&lt;/b&gt; 프로그래밍과 친숙해져 있을 것입니다!※ 본 도서는 대학 강의용 교재로 개발되었으므로 연습문제 해답은... </description></item><item><title>&lt;b&gt;파이썬&lt;/b&gt; 알고리즘 인터뷰 (95가지 알고리즘 문제 풀이로 완성하는 코딩 테스트)</title><link/>http://book.naver.com/bookdb/book_detail.php?bid=16406247<image/>https://bookthumb-phinf.pstatic.net/cover/164/062/16406247.jpg?type=m1&amp;udate=20220323<author>박상길</author><price>38000</price><discount>34200</discount><publisher>책만</publisher><pubdate>20200715</pubdate><isbn>1189909170 9791189909178</isbn><description>물론, &lt;b&gt;파이썬&lt;/b&gt;으로 구현하는 코드 풀이를 통해 성능 최적화 기법, &lt;b&gt;파이썬&lt;/b&gt;의 핵심 문법과 다양한 실용 테크닉까지 배울 수 있는, 초보 개발자와 숙련 개발자... 이 책은 현업과 실무에 유용한 주요 알고리즘 이론을 깊숙이 이해하고, &lt;b&gt;파이썬&lt;/b&gt;의 핵심 기능과 문법까지 상세하게 이해할 수 있는 취업용 코딩 테스트를... </description></item><item><title>한 권으로 끝내는 아두이노와 &lt;b&gt;파이썬&lt;/b&gt;으로 52개 작품 만들기</title><link/>http://book.naver.com/bookdb/book_detail.php?bid=22046408<image/>https://bookthumb-phinf.pstatic.net/cover/220/464/22046408.jpg?type=m1&amp;udate=20220301<author>장문철|박준원</author><price>22000</price><discount>19800</discount><publisher>앤써북</publisher><pubdate>20220330</pubdate><isbn>1185553940 9791185553948</isbn><description>이 책은 아두이노를 사용하여 하드웨어를 만들고 &lt;b&gt;파이썬&lt;/b&gt;을 이용하여 PC에서 프로그램을 만든 후 서로 통신 및 융합하여 52가지 다양한 작품 만들기를 통해 재미와 학습 두 가지를 모두 할 수 있게 구성하였습니다!</description></item><item><title>모두의 &lt;b&gt;파이썬&lt;/b&gt; (20일 만에 배우는 프로그래밍 기초)</title><link/>http://book.naver.com/bookdb/book_detail.php?bid=14126163<image/>https://bookthumb-phinf.pstatic.net/cover/141/261/14126163.jpg?type=m1&amp;udate=20210210<author>이승찬</author><price>12000</price><discount>10800</discount><publisher>길벗</publisher><pubdate>20181009</pubdate><isbn>1160505853 9791160505856</isbn><description>&lt;b&gt;파이썬&lt;/b&gt; 분야 &amp; 어린이 코딩 교육 분야\n",
            "2년 연속 베스트셀러! 개정판 출간!\n",
            "즐겁게 시작하는 나의 첫 프로그래밍!\n",
            "프로그래밍을 한 번도 해본 적이 없어도 괜찮다. &lt;b&gt;파이썬&lt;/b&gt;이 무엇인지 몰라도 상관 없다.... 어느새 &lt;b&gt;파이썬&lt;/b&gt; 프로그램으로 멋진 그림을 그리고, 계산을 하고, 간단한 게임을 만들고, 수학 문제를... </description></item><item><title>머신 러닝 교과서 with &lt;b&gt;파이썬&lt;/b&gt;, 사이킷런, 텐서플로 (최신 넘파이, 사이킷런, 텐서플로 2로 배우는 머신 러닝, 딥러닝 핵심 알고)</title><link/>http://book.naver.com/bookdb/book_detail.php?bid=18829375<image/>https://bookthumb-phinf.pstatic.net/cover/188/293/18829375.jpg?type=m1&amp;udate=20211207<author>세바스찬 라시카|바히드 미자리리</author><price>44000</price><discount>39600</discount><publisher>길벗</publisher><pubdate>20210331</pubdate><isbn>1165215187 9791165215187</isbn><description>&lt;b&gt;파이썬&lt;/b&gt; 언어와 &lt;b&gt;파이썬&lt;/b&gt; 기반의 머신 러닝 핵심 라이브러리(SciPy, NumPy, scikit-learn, Matplotlib, Pandas)를 사용해 머신 러닝을, 텐서플로(TensorFlow 2)를 사용해 딥러닝을 실습해본다. 특히 딥러닝은 최신 텐서플로 2에 맞춰 대폭 수정 및 보강되었다. 그러고 나서 GAN과 강화 학습도 자세하게 다룬다. 머신 러닝과... </description></item><item><title>&lt;b&gt;파이썬&lt;/b&gt;을 이용한 통계분석 (통계 기초 이론 이해와 응용)</title><link/>http://book.naver.com/bookdb/book_detail.php?bid=22350087<image/>https://bookthumb-phinf.pstatic.net/cover/223/500/22350087.jpg?type=m1&amp;udate=20220418<author>이원우|장인홍|이다혜</author><price>36000</price><discount>36000</discount><publisher>자유아카데미</publisher><pubdate>20220415</pubdate><isbn>115808353X 9791158083533</isbn><description>1장은 통계적 이론이나 &lt;b&gt;파이썬&lt;/b&gt;의 사용에 초보적인 독자들도 쉽게 학습할 수 있도록 &lt;b&gt;파이썬&lt;/b&gt;의 기초 사용법 및 필수적인 기본 문법을 포함한 매뉴얼을... 독자들이 실무적 문제를 해결하는 데 도움이 될 수 있도록 &lt;b&gt;파이썬&lt;/b&gt; 프로그램과 프로그램 실행 결과를 제시하면서 이에 대해 상세히 해설하였다. 또한, 통계... </description></item></channel></rss>\n"
          ]
        }
      ]
    },
    {
      "cell_type": "code",
      "source": [
        "items = hdoc.find_all('item')\n",
        "print(len(items),type(items))"
      ],
      "metadata": {
        "colab": {
          "base_uri": "https://localhost:8080/"
        },
        "id": "nTmpRa4fT6Gz",
        "outputId": "ad160d02-339e-4304-d615-60da79093b82"
      },
      "execution_count": 167,
      "outputs": [
        {
          "output_type": "stream",
          "name": "stdout",
          "text": [
            "10 <class 'bs4.element.ResultSet'>\n"
          ]
        }
      ]
    },
    {
      "cell_type": "code",
      "source": [
        "for item in items:\n",
        "  print(item.find('title').get_text())"
      ],
      "metadata": {
        "colab": {
          "base_uri": "https://localhost:8080/"
        },
        "id": "DY3L0Th9UABj",
        "outputId": "ab8090ad-85e0-49fe-ef83-64381dda09d4"
      },
      "execution_count": 168,
      "outputs": [
        {
          "output_type": "stream",
          "name": "stdout",
          "text": [
            "만들면서 배우는 <b>파이썬</b>과 40개의 작품들 (자동화, 크롤링, 이미지처리, 데이터분석, 웹페이지, GUI 프로그램, 게임)\n",
            "Do it! 점프 투 <b>파이썬</b>\n",
            "이것이 취업을 위한 코딩 테스트다 with <b>파이썬</b> (취업과 이직을 결정하는 알고리즘 인터뷰 완벽 가이드)\n",
            "혼자 공부하는 <b>파이썬</b> (<b>파이썬</b> 최신 버전 반영)\n",
            "<b>파이썬</b> for Beginner (쉽고 빠르게 익히는 프로그래밍의 기본 원리)\n",
            "<b>파이썬</b> 알고리즘 인터뷰 (95가지 알고리즘 문제 풀이로 완성하는 코딩 테스트)\n",
            "한 권으로 끝내는 아두이노와 <b>파이썬</b>으로 52개 작품 만들기\n",
            "모두의 <b>파이썬</b> (20일 만에 배우는 프로그래밍 기초)\n",
            "머신 러닝 교과서 with <b>파이썬</b>, 사이킷런, 텐서플로 (최신 넘파이, 사이킷런, 텐서플로 2로 배우는 머신 러닝, 딥러닝 핵심 알고)\n",
            "<b>파이썬</b>을 이용한 통계분석 (통계 기초 이론 이해와 응용)\n"
          ]
        }
      ]
    },
    {
      "cell_type": "code",
      "source": [
        "for item in items:\n",
        "  print(\"==========\")\n",
        "  print(\"제목:\", item.find('title').get_text())\n",
        "  print(\"저자:\", item.find('author').get_text())\n",
        "  print(\"가격:\", item.find('price').get_text())"
      ],
      "metadata": {
        "colab": {
          "base_uri": "https://localhost:8080/"
        },
        "id": "CO8ONwaTUlts",
        "outputId": "ac41224b-8abf-4e92-c16a-78aa80075df5"
      },
      "execution_count": 171,
      "outputs": [
        {
          "output_type": "stream",
          "name": "stdout",
          "text": [
            "==========\n",
            "제목: 만들면서 배우는 <b>파이썬</b>과 40개의 작품들 (자동화, 크롤링, 이미지처리, 데이터분석, 웹페이지, GUI 프로그램, 게임)\n",
            "저자: 장문철\n",
            "가격: 18800\n",
            "==========\n",
            "제목: Do it! 점프 투 <b>파이썬</b>\n",
            "저자: 박응용\n",
            "가격: 18800\n",
            "==========\n",
            "제목: 이것이 취업을 위한 코딩 테스트다 with <b>파이썬</b> (취업과 이직을 결정하는 알고리즘 인터뷰 완벽 가이드)\n",
            "저자: 나동빈\n",
            "가격: 34000\n",
            "==========\n",
            "제목: 혼자 공부하는 <b>파이썬</b> (<b>파이썬</b> 최신 버전 반영)\n",
            "저자: 윤인성\n",
            "가격: 18000\n",
            "==========\n",
            "제목: <b>파이썬</b> for Beginner (쉽고 빠르게 익히는 프로그래밍의 기본 원리)\n",
            "저자: 우재남\n",
            "가격: 25000\n",
            "==========\n",
            "제목: <b>파이썬</b> 알고리즘 인터뷰 (95가지 알고리즘 문제 풀이로 완성하는 코딩 테스트)\n",
            "저자: 박상길\n",
            "가격: 38000\n",
            "==========\n",
            "제목: 한 권으로 끝내는 아두이노와 <b>파이썬</b>으로 52개 작품 만들기\n",
            "저자: 장문철|박준원\n",
            "가격: 22000\n",
            "==========\n",
            "제목: 모두의 <b>파이썬</b> (20일 만에 배우는 프로그래밍 기초)\n",
            "저자: 이승찬\n",
            "가격: 12000\n",
            "==========\n",
            "제목: 머신 러닝 교과서 with <b>파이썬</b>, 사이킷런, 텐서플로 (최신 넘파이, 사이킷런, 텐서플로 2로 배우는 머신 러닝, 딥러닝 핵심 알고)\n",
            "저자: 세바스찬 라시카|바히드 미자리리\n",
            "가격: 44000\n",
            "==========\n",
            "제목: <b>파이썬</b>을 이용한 통계분석 (통계 기초 이론 이해와 응용)\n",
            "저자: 이원우|장인홍|이다혜\n",
            "가격: 36000\n"
          ]
        }
      ]
    },
    {
      "cell_type": "code",
      "source": [
        "# 공공데이터 포털 openAPI"
      ],
      "metadata": {
        "id": "GZ9a6p3YUudj"
      },
      "execution_count": null,
      "outputs": []
    },
    {
      "cell_type": "markdown",
      "source": [
        "# 공공데이터 포털 openAPI"
      ],
      "metadata": {
        "id": "yC-SM8m3erSe"
      }
    },
    {
      "cell_type": "markdown",
      "source": [
        ""
      ],
      "metadata": {
        "id": "zCk4zXmOdTRo"
      }
    },
    {
      "cell_type": "code",
      "source": [
        "siteurl = 'http://apis.data.go.kr/1480523/MetalMeasuringResultService/MetalService'\n",
        "num_param = 'numOfRows=1'\n",
        "page_param = 'pageNo=1'\n",
        "res_param='resultType=xml'\n",
        "sta_num=input(\"station선택:1 수도권,2 백령도,3 호남권,4 중부권,5 제주권,6 영남권,7 경기권,8 충청권,9 전북권,10 강원권\")\n",
        "sta_param= 'stationcode='+str(sta_num)\n",
        "year=int(input('검색 년도:'))\n",
        "month=int(input(\"월:\"))\n",
        "day=int(input(\"일:\"))\n",
        "date_parm=f'date={year}{month:02d}{day:02d}'\n",
        "tc_param='timecode=RH02'\n",
        "it_param='itemcode=90303'\n",
        "sk_param='serviceKey=P2qtJqu0LQoXEAsNwqA%2BeQt7OKU2%2FVO6tI5QmuM%2BzodGVizcPShmjV6adrylhBrgqu6qGaqv2yjO4yYAuRaUnA%3D%3D'\n",
        "query_str=siteurl+'?'+num_param+'&'+page_param+'&'+res_param+'&'+sta_param+'&'+date_parm+'&'+tc_param+'&'+it_param+'&'+sk_param\n",
        "print(query_str)"
      ],
      "metadata": {
        "colab": {
          "base_uri": "https://localhost:8080/"
        },
        "id": "XCWxojmodUJY",
        "outputId": "eb92376d-9f71-49d3-f102-2af60ebb0d25"
      },
      "execution_count": 179,
      "outputs": [
        {
          "output_type": "stream",
          "name": "stdout",
          "text": [
            "station선택:1 수도권,2 백령도,3 호남권,4 중부권,5 제주권,6 영남권,7 경기권,8 충청권,9 전북권,10 강원권1\n",
            "검색 년도:2017\n",
            "월:12\n",
            "일:08\n",
            "http://apis.data.go.kr/1480523/MetalMeasuringResultService/MetalService?numOfRows=1&pageNo=1&resultType=xml&stationcode=1&date=20171208&timecode=RH02&itemcode=90303&serviceKey=P2qtJqu0LQoXEAsNwqA%2BeQt7OKU2%2FVO6tI5QmuM%2BzodGVizcPShmjV6adrylhBrgqu6qGaqv2yjO4yYAuRaUnA%3D%3D\n"
          ]
        }
      ]
    },
    {
      "cell_type": "code",
      "source": [
        "response = urllib.request.urlopen(query_str)\n",
        "if response.getcode()!=200:\n",
        "  print(\"허거거거걱\")\n",
        "else : \n",
        "  print(\"성공\")\n",
        "data = response.read().decode('utf-8')\n",
        "hdoc = BeautifulSoup(data,'html.parser')\n",
        "vtag = hdoc.find('value')\n",
        "print(vtag.get_text(),'ng/mm')"
      ],
      "metadata": {
        "colab": {
          "base_uri": "https://localhost:8080/"
        },
        "id": "zVMtVC8LhMVC",
        "outputId": "cfbfd96b-e525-4642-c75b-52a1cfa21aaa"
      },
      "execution_count": 182,
      "outputs": [
        {
          "output_type": "stream",
          "name": "stdout",
          "text": [
            "성공\n",
            "24.125 ng/mm\n"
          ]
        }
      ]
    },
    {
      "cell_type": "code",
      "source": [
        ""
      ],
      "metadata": {
        "id": "K8Ej2IZrsFTb"
      },
      "execution_count": null,
      "outputs": []
    }
  ]
}
