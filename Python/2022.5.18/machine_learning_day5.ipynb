{
  "nbformat": 4,
  "nbformat_minor": 0,
  "metadata": {
    "colab": {
      "name": " machine_learning_day5.ipynb",
      "provenance": [],
      "collapsed_sections": [
        "pLQd0WFziTwE",
        "YVgGPiAElV1N",
        "MuyU6mGLwvOA",
        "0IVO_BIe1pVV",
        "wqDA34ji1sft",
        "4nTDsh_fi2v3"
      ]
    },
    "kernelspec": {
      "name": "python3",
      "display_name": "Python 3"
    },
    "language_info": {
      "name": "python"
    }
  },
  "cells": [
    {
      "cell_type": "markdown",
      "source": [
        "### 모델 저장과 복원"
      ],
      "metadata": {
        "id": "pLQd0WFziTwE"
      }
    },
    {
      "cell_type": "code",
      "execution_count": 2,
      "metadata": {
        "colab": {
          "base_uri": "https://localhost:8080/"
        },
        "id": "Qf5pF3bBffST",
        "outputId": "3f359691-272f-4a9d-a1bd-dea16b6b148c"
      },
      "outputs": [
        {
          "output_type": "stream",
          "name": "stdout",
          "text": [
            "Downloading data from https://storage.googleapis.com/tensorflow/tf-keras-datasets/train-labels-idx1-ubyte.gz\n",
            "32768/29515 [=================================] - 0s 0us/step\n",
            "40960/29515 [=========================================] - 0s 0us/step\n",
            "Downloading data from https://storage.googleapis.com/tensorflow/tf-keras-datasets/train-images-idx3-ubyte.gz\n",
            "26427392/26421880 [==============================] - 0s 0us/step\n",
            "26435584/26421880 [==============================] - 0s 0us/step\n",
            "Downloading data from https://storage.googleapis.com/tensorflow/tf-keras-datasets/t10k-labels-idx1-ubyte.gz\n",
            "16384/5148 [===============================================================================================] - 0s 0us/step\n",
            "Downloading data from https://storage.googleapis.com/tensorflow/tf-keras-datasets/t10k-images-idx3-ubyte.gz\n",
            "4423680/4422102 [==============================] - 0s 0us/step\n",
            "4431872/4422102 [==============================] - 0s 0us/step\n"
          ]
        }
      ],
      "source": [
        "from tensorflow import keras\n",
        "(train_input,train_target) , (test_input,test_target) = keras.datasets.fashion_mnist.load_data()\n",
        "train_scaled = train_input/255.0\n",
        "test_scaled = test_input/255.0"
      ]
    },
    {
      "cell_type": "code",
      "source": [
        "model = keras.Sequential()\n",
        "model.add(keras.layers.Flatten(input_shape=(28,28)))\n",
        "model.add(keras.layers.Dense(100,activation='sigmoid'))\n",
        "model.add(keras.layers.Dropout(0.5))\n",
        "model.add(keras.layers.Dense(10,activation='softmax'))\n",
        "model.compile(optimizer='adam',loss='sparse_categorical_crossentropy',metrics='accuracy')"
      ],
      "metadata": {
        "id": "6iOPAGZ-fphT"
      },
      "execution_count": 4,
      "outputs": []
    },
    {
      "cell_type": "code",
      "source": [
        "model.summary()"
      ],
      "metadata": {
        "colab": {
          "base_uri": "https://localhost:8080/"
        },
        "id": "u7qkNDU4iHFJ",
        "outputId": "66e6caf6-663c-41c8-c33a-563a7cddf4a3"
      },
      "execution_count": 5,
      "outputs": [
        {
          "output_type": "stream",
          "name": "stdout",
          "text": [
            "Model: \"sequential_1\"\n",
            "_________________________________________________________________\n",
            " Layer (type)                Output Shape              Param #   \n",
            "=================================================================\n",
            " flatten_1 (Flatten)         (None, 784)               0         \n",
            "                                                                 \n",
            " dense_1 (Dense)             (None, 100)               78500     \n",
            "                                                                 \n",
            " dropout (Dropout)           (None, 100)               0         \n",
            "                                                                 \n",
            " dense_2 (Dense)             (None, 10)                1010      \n",
            "                                                                 \n",
            "=================================================================\n",
            "Total params: 79,510\n",
            "Trainable params: 79,510\n",
            "Non-trainable params: 0\n",
            "_________________________________________________________________\n"
          ]
        }
      ]
    },
    {
      "cell_type": "code",
      "source": [
        "hist = model.fit(train_scaled,train_target,epochs=30,validation_split=(0.2))"
      ],
      "metadata": {
        "colab": {
          "base_uri": "https://localhost:8080/"
        },
        "id": "adYSI9huiZYz",
        "outputId": "ec8e81ef-f932-4521-a42c-76cb2a9a75bc"
      },
      "execution_count": 7,
      "outputs": [
        {
          "output_type": "stream",
          "name": "stdout",
          "text": [
            "Epoch 1/30\n",
            "1500/1500 [==============================] - 7s 4ms/step - loss: 0.7425 - accuracy: 0.7435 - val_loss: 0.4783 - val_accuracy: 0.8294\n",
            "Epoch 2/30\n",
            "1500/1500 [==============================] - 6s 4ms/step - loss: 0.5147 - accuracy: 0.8180 - val_loss: 0.4278 - val_accuracy: 0.8418\n",
            "Epoch 3/30\n",
            "1500/1500 [==============================] - 5s 3ms/step - loss: 0.4686 - accuracy: 0.8331 - val_loss: 0.4115 - val_accuracy: 0.8501\n",
            "Epoch 4/30\n",
            "1500/1500 [==============================] - 5s 3ms/step - loss: 0.4476 - accuracy: 0.8422 - val_loss: 0.3870 - val_accuracy: 0.8562\n",
            "Epoch 5/30\n",
            "1500/1500 [==============================] - 5s 3ms/step - loss: 0.4270 - accuracy: 0.8476 - val_loss: 0.3816 - val_accuracy: 0.8602\n",
            "Epoch 6/30\n",
            "1500/1500 [==============================] - 5s 3ms/step - loss: 0.4168 - accuracy: 0.8503 - val_loss: 0.3675 - val_accuracy: 0.8620\n",
            "Epoch 7/30\n",
            "1500/1500 [==============================] - 5s 3ms/step - loss: 0.4043 - accuracy: 0.8548 - val_loss: 0.3575 - val_accuracy: 0.8680\n",
            "Epoch 8/30\n",
            "1500/1500 [==============================] - 5s 3ms/step - loss: 0.3942 - accuracy: 0.8581 - val_loss: 0.3548 - val_accuracy: 0.8704\n",
            "Epoch 9/30\n",
            "1500/1500 [==============================] - 5s 3ms/step - loss: 0.3876 - accuracy: 0.8603 - val_loss: 0.3453 - val_accuracy: 0.8735\n",
            "Epoch 10/30\n",
            "1500/1500 [==============================] - 5s 3ms/step - loss: 0.3823 - accuracy: 0.8623 - val_loss: 0.3435 - val_accuracy: 0.8772\n",
            "Epoch 11/30\n",
            "1500/1500 [==============================] - 5s 3ms/step - loss: 0.3735 - accuracy: 0.8644 - val_loss: 0.3382 - val_accuracy: 0.8783\n",
            "Epoch 12/30\n",
            "1500/1500 [==============================] - 5s 4ms/step - loss: 0.3703 - accuracy: 0.8656 - val_loss: 0.3410 - val_accuracy: 0.8747\n",
            "Epoch 13/30\n",
            "1500/1500 [==============================] - 5s 3ms/step - loss: 0.3624 - accuracy: 0.8687 - val_loss: 0.3339 - val_accuracy: 0.8783\n",
            "Epoch 14/30\n",
            "1500/1500 [==============================] - 5s 3ms/step - loss: 0.3576 - accuracy: 0.8690 - val_loss: 0.3331 - val_accuracy: 0.8804\n",
            "Epoch 15/30\n",
            "1500/1500 [==============================] - 5s 3ms/step - loss: 0.3538 - accuracy: 0.8733 - val_loss: 0.3346 - val_accuracy: 0.8769\n",
            "Epoch 16/30\n",
            "1500/1500 [==============================] - 5s 3ms/step - loss: 0.3505 - accuracy: 0.8728 - val_loss: 0.3301 - val_accuracy: 0.8823\n",
            "Epoch 17/30\n",
            "1500/1500 [==============================] - 5s 3ms/step - loss: 0.3476 - accuracy: 0.8749 - val_loss: 0.3332 - val_accuracy: 0.8773\n",
            "Epoch 18/30\n",
            "1500/1500 [==============================] - 5s 3ms/step - loss: 0.3430 - accuracy: 0.8762 - val_loss: 0.3275 - val_accuracy: 0.8817\n",
            "Epoch 19/30\n",
            "1500/1500 [==============================] - 5s 3ms/step - loss: 0.3412 - accuracy: 0.8755 - val_loss: 0.3232 - val_accuracy: 0.8834\n",
            "Epoch 20/30\n",
            "1500/1500 [==============================] - 5s 3ms/step - loss: 0.3338 - accuracy: 0.8777 - val_loss: 0.3234 - val_accuracy: 0.8846\n",
            "Epoch 21/30\n",
            "1500/1500 [==============================] - 5s 3ms/step - loss: 0.3306 - accuracy: 0.8796 - val_loss: 0.3219 - val_accuracy: 0.8831\n",
            "Epoch 22/30\n",
            "1500/1500 [==============================] - 5s 3ms/step - loss: 0.3278 - accuracy: 0.8789 - val_loss: 0.3207 - val_accuracy: 0.8830\n",
            "Epoch 23/30\n",
            "1500/1500 [==============================] - 5s 3ms/step - loss: 0.3277 - accuracy: 0.8809 - val_loss: 0.3236 - val_accuracy: 0.8827\n",
            "Epoch 24/30\n",
            "1500/1500 [==============================] - 5s 3ms/step - loss: 0.3229 - accuracy: 0.8817 - val_loss: 0.3217 - val_accuracy: 0.8842\n",
            "Epoch 25/30\n",
            "1500/1500 [==============================] - 5s 3ms/step - loss: 0.3214 - accuracy: 0.8818 - val_loss: 0.3148 - val_accuracy: 0.8871\n",
            "Epoch 26/30\n",
            "1500/1500 [==============================] - 5s 3ms/step - loss: 0.3185 - accuracy: 0.8833 - val_loss: 0.3168 - val_accuracy: 0.8872\n",
            "Epoch 27/30\n",
            "1500/1500 [==============================] - 5s 3ms/step - loss: 0.3164 - accuracy: 0.8840 - val_loss: 0.3148 - val_accuracy: 0.8858\n",
            "Epoch 28/30\n",
            "1500/1500 [==============================] - 5s 3ms/step - loss: 0.3168 - accuracy: 0.8836 - val_loss: 0.3189 - val_accuracy: 0.8830\n",
            "Epoch 29/30\n",
            "1500/1500 [==============================] - 5s 3ms/step - loss: 0.3125 - accuracy: 0.8847 - val_loss: 0.3162 - val_accuracy: 0.8870\n",
            "Epoch 30/30\n",
            "1500/1500 [==============================] - 5s 3ms/step - loss: 0.3089 - accuracy: 0.8849 - val_loss: 0.3136 - val_accuracy: 0.8870\n"
          ]
        }
      ]
    },
    {
      "cell_type": "code",
      "source": [
        "model.save_weights('model-weights.h5') # 모델의 파라미터 저장"
      ],
      "metadata": {
        "id": "DUN87Uevi00H"
      },
      "execution_count": 8,
      "outputs": []
    },
    {
      "cell_type": "code",
      "source": [
        "model.save('model-whole.h5') # 모델의 파라미터와 모델구조 저장"
      ],
      "metadata": {
        "id": "U1QG_V28jCt8"
      },
      "execution_count": 9,
      "outputs": []
    },
    {
      "cell_type": "code",
      "source": [
        "!ls -al #리스트 보기"
      ],
      "metadata": {
        "colab": {
          "base_uri": "https://localhost:8080/"
        },
        "id": "ZIBPBHdOj7o5",
        "outputId": "d630eead-3e7f-4d27-d003-d73e83a2e290"
      },
      "execution_count": 10,
      "outputs": [
        {
          "output_type": "stream",
          "name": "stdout",
          "text": [
            "total 1304\n",
            "drwxr-xr-x 1 root root   4096 May 18 00:27 .\n",
            "drwxr-xr-x 1 root root   4096 May 18 00:08 ..\n",
            "drwxr-xr-x 4 root root   4096 May 16 13:23 .config\n",
            "-rw-r--r-- 1 root root 333272 May 18 00:27 model-weights.h5\n",
            "-rw-r--r-- 1 root root 982568 May 18 00:27 model-whole.h5\n",
            "drwxr-xr-x 1 root root   4096 May 16 13:24 sample_data\n"
          ]
        }
      ]
    },
    {
      "cell_type": "code",
      "source": [
        "model2 = keras.models.load_model('/content/model-whole.h5') #저장한 모델 불러오기\n",
        "model2.summary()"
      ],
      "metadata": {
        "colab": {
          "base_uri": "https://localhost:8080/"
        },
        "id": "FVKRilf2j-wH",
        "outputId": "dd672e81-b51a-45d6-a0f0-ed51c87ef04c"
      },
      "execution_count": 12,
      "outputs": [
        {
          "output_type": "stream",
          "name": "stdout",
          "text": [
            "Model: \"sequential_1\"\n",
            "_________________________________________________________________\n",
            " Layer (type)                Output Shape              Param #   \n",
            "=================================================================\n",
            " flatten_1 (Flatten)         (None, 784)               0         \n",
            "                                                                 \n",
            " dense_1 (Dense)             (None, 100)               78500     \n",
            "                                                                 \n",
            " dropout (Dropout)           (None, 100)               0         \n",
            "                                                                 \n",
            " dense_2 (Dense)             (None, 10)                1010      \n",
            "                                                                 \n",
            "=================================================================\n",
            "Total params: 79,510\n",
            "Trainable params: 79,510\n",
            "Non-trainable params: 0\n",
            "_________________________________________________________________\n"
          ]
        }
      ]
    },
    {
      "cell_type": "code",
      "source": [
        "print(model2.weights)"
      ],
      "metadata": {
        "id": "YdpqEybLkCpP"
      },
      "execution_count": null,
      "outputs": []
    },
    {
      "cell_type": "code",
      "source": [
        "model2.evaluate(test_scaled,test_target)"
      ],
      "metadata": {
        "colab": {
          "base_uri": "https://localhost:8080/"
        },
        "id": "u_4PKr1qk7p_",
        "outputId": "1809ff3d-7b32-4c11-be9b-0329d376b3af"
      },
      "execution_count": 14,
      "outputs": [
        {
          "output_type": "stream",
          "name": "stdout",
          "text": [
            "313/313 [==============================] - 1s 2ms/step - loss: 0.3449 - accuracy: 0.8780\n"
          ]
        },
        {
          "output_type": "execute_result",
          "data": {
            "text/plain": [
              "[0.3448830842971802, 0.878000020980835]"
            ]
          },
          "metadata": {},
          "execution_count": 14
        }
      ]
    },
    {
      "cell_type": "markdown",
      "source": [
        "### 콜백"
      ],
      "metadata": {
        "id": "YVgGPiAElV1N"
      }
    },
    {
      "cell_type": "code",
      "source": [
        "def add(a,b):\n",
        "  print(f'add:{a},{b}')\n",
        "  return a+b"
      ],
      "metadata": {
        "id": "TxDbcDaNlCrG"
      },
      "execution_count": 22,
      "outputs": []
    },
    {
      "cell_type": "code",
      "source": [
        "def sub(a,b):\n",
        "  print(f'add:{a},{b}')\n",
        "  return a-b"
      ],
      "metadata": {
        "id": "qUNlTOlRm3W0"
      },
      "execution_count": 23,
      "outputs": []
    },
    {
      "cell_type": "code",
      "source": [
        "def doall(ls1,ls2,fn):\n",
        "  s = []\n",
        "  for i in range(len(ls1)):\n",
        "    s.append(fn(ls1[i],ls2[i]))\n",
        "  return s"
      ],
      "metadata": {
        "id": "PcxDm5BomOI_"
      },
      "execution_count": 24,
      "outputs": []
    },
    {
      "cell_type": "code",
      "source": [
        "re = doall([1,2,3],[4,5,6],add)\n",
        "print(re)"
      ],
      "metadata": {
        "colab": {
          "base_uri": "https://localhost:8080/"
        },
        "id": "NaUHUjqUmhNb",
        "outputId": "60d06c77-6479-48d6-a232-9cd88838e4b4"
      },
      "execution_count": 25,
      "outputs": [
        {
          "output_type": "stream",
          "name": "stdout",
          "text": [
            "add:1,4\n",
            "add:2,5\n",
            "add:3,6\n",
            "[5, 7, 9]\n"
          ]
        }
      ]
    },
    {
      "cell_type": "code",
      "source": [
        "re = doall([1,2,3],[4,5,6],sub)\n",
        "print(re)"
      ],
      "metadata": {
        "colab": {
          "base_uri": "https://localhost:8080/"
        },
        "id": "UfWKSZ7Im6Mn",
        "outputId": "c6c2e63d-2672-4ae0-a1da-69ece4bdf011"
      },
      "execution_count": 26,
      "outputs": [
        {
          "output_type": "stream",
          "name": "stdout",
          "text": [
            "add:1,4\n",
            "add:2,5\n",
            "add:3,6\n",
            "[-3, -3, -3]\n"
          ]
        }
      ]
    },
    {
      "cell_type": "code",
      "source": [
        "model = keras.Sequential()\n",
        "model.add(keras.layers.Flatten(input_shape=(28,28)))\n",
        "model.add(keras.layers.Dense(100,activation='sigmoid'))\n",
        "model.add(keras.layers.Dropout(0.5))\n",
        "model.add(keras.layers.Dense(10,activation='softmax'))\n",
        "model.compile(optimizer='adam',loss='sparse_categorical_crossentropy',metrics='accuracy')\n",
        "model.summary()"
      ],
      "metadata": {
        "colab": {
          "base_uri": "https://localhost:8080/"
        },
        "id": "UFJYbZT5m_Fc",
        "outputId": "ddf7c748-c5b7-4069-f69e-4ae72de382d8"
      },
      "execution_count": 28,
      "outputs": [
        {
          "output_type": "stream",
          "name": "stdout",
          "text": [
            "Model: \"sequential_3\"\n",
            "_________________________________________________________________\n",
            " Layer (type)                Output Shape              Param #   \n",
            "=================================================================\n",
            " flatten_3 (Flatten)         (None, 784)               0         \n",
            "                                                                 \n",
            " dense_5 (Dense)             (None, 100)               78500     \n",
            "                                                                 \n",
            " dropout_2 (Dropout)         (None, 100)               0         \n",
            "                                                                 \n",
            " dense_6 (Dense)             (None, 10)                1010      \n",
            "                                                                 \n",
            "=================================================================\n",
            "Total params: 79,510\n",
            "Trainable params: 79,510\n",
            "Non-trainable params: 0\n",
            "_________________________________________________________________\n"
          ]
        }
      ]
    },
    {
      "cell_type": "code",
      "source": [
        "checkpoint_cb = keras.callbacks.ModelCheckpoint('best-model.h5',save_best_only=True) #가장좋은거 하나만 저장\n",
        "\n",
        "hist = model.fit(train_scaled,train_target,epochs=30,validation_split=0.2,callbacks=[checkpoint_cb])"
      ],
      "metadata": {
        "colab": {
          "base_uri": "https://localhost:8080/"
        },
        "id": "8u_Gl7iPsXdl",
        "outputId": "24c8f5b9-e8d7-4e39-b052-7245615c3715"
      },
      "execution_count": 30,
      "outputs": [
        {
          "output_type": "stream",
          "name": "stdout",
          "text": [
            "Epoch 1/30\n",
            "1500/1500 [==============================] - 5s 3ms/step - loss: 0.7380 - accuracy: 0.7464 - val_loss: 0.4798 - val_accuracy: 0.8243\n",
            "Epoch 2/30\n",
            "1500/1500 [==============================] - 4s 3ms/step - loss: 0.5142 - accuracy: 0.8193 - val_loss: 0.4274 - val_accuracy: 0.8426\n",
            "Epoch 3/30\n",
            "1500/1500 [==============================] - 4s 3ms/step - loss: 0.4665 - accuracy: 0.8343 - val_loss: 0.4019 - val_accuracy: 0.8508\n",
            "Epoch 4/30\n",
            "1500/1500 [==============================] - 4s 3ms/step - loss: 0.4452 - accuracy: 0.8417 - val_loss: 0.3830 - val_accuracy: 0.8592\n",
            "Epoch 5/30\n",
            "1500/1500 [==============================] - 4s 3ms/step - loss: 0.4246 - accuracy: 0.8483 - val_loss: 0.3737 - val_accuracy: 0.8632\n",
            "Epoch 6/30\n",
            "1500/1500 [==============================] - 4s 3ms/step - loss: 0.4132 - accuracy: 0.8525 - val_loss: 0.3652 - val_accuracy: 0.8664\n",
            "Epoch 7/30\n",
            "1500/1500 [==============================] - 4s 3ms/step - loss: 0.4004 - accuracy: 0.8574 - val_loss: 0.3609 - val_accuracy: 0.8654\n",
            "Epoch 8/30\n",
            "1500/1500 [==============================] - 4s 3ms/step - loss: 0.3921 - accuracy: 0.8594 - val_loss: 0.3637 - val_accuracy: 0.8633\n",
            "Epoch 9/30\n",
            "1500/1500 [==============================] - 4s 3ms/step - loss: 0.3850 - accuracy: 0.8604 - val_loss: 0.3471 - val_accuracy: 0.8741\n",
            "Epoch 10/30\n",
            "1500/1500 [==============================] - 4s 3ms/step - loss: 0.3799 - accuracy: 0.8628 - val_loss: 0.3440 - val_accuracy: 0.8726\n",
            "Epoch 11/30\n",
            "1500/1500 [==============================] - 4s 3ms/step - loss: 0.3722 - accuracy: 0.8657 - val_loss: 0.3411 - val_accuracy: 0.8767\n",
            "Epoch 12/30\n",
            "1500/1500 [==============================] - 4s 3ms/step - loss: 0.3675 - accuracy: 0.8673 - val_loss: 0.3386 - val_accuracy: 0.8783\n",
            "Epoch 13/30\n",
            "1500/1500 [==============================] - 4s 3ms/step - loss: 0.3619 - accuracy: 0.8700 - val_loss: 0.3341 - val_accuracy: 0.8794\n",
            "Epoch 14/30\n",
            "1500/1500 [==============================] - 4s 3ms/step - loss: 0.3562 - accuracy: 0.8708 - val_loss: 0.3323 - val_accuracy: 0.8791\n",
            "Epoch 15/30\n",
            "1500/1500 [==============================] - 4s 3ms/step - loss: 0.3506 - accuracy: 0.8721 - val_loss: 0.3360 - val_accuracy: 0.8786\n",
            "Epoch 16/30\n",
            "1500/1500 [==============================] - 4s 3ms/step - loss: 0.3503 - accuracy: 0.8722 - val_loss: 0.3285 - val_accuracy: 0.8803\n",
            "Epoch 17/30\n",
            "1500/1500 [==============================] - 4s 3ms/step - loss: 0.3441 - accuracy: 0.8750 - val_loss: 0.3296 - val_accuracy: 0.8810\n",
            "Epoch 18/30\n",
            "1500/1500 [==============================] - 4s 3ms/step - loss: 0.3414 - accuracy: 0.8744 - val_loss: 0.3296 - val_accuracy: 0.8798\n",
            "Epoch 19/30\n",
            "1500/1500 [==============================] - 4s 3ms/step - loss: 0.3396 - accuracy: 0.8777 - val_loss: 0.3257 - val_accuracy: 0.8831\n",
            "Epoch 20/30\n",
            "1500/1500 [==============================] - 4s 3ms/step - loss: 0.3328 - accuracy: 0.8777 - val_loss: 0.3213 - val_accuracy: 0.8823\n",
            "Epoch 21/30\n",
            "1500/1500 [==============================] - 4s 3ms/step - loss: 0.3329 - accuracy: 0.8785 - val_loss: 0.3226 - val_accuracy: 0.8832\n",
            "Epoch 22/30\n",
            "1500/1500 [==============================] - 4s 3ms/step - loss: 0.3281 - accuracy: 0.8800 - val_loss: 0.3247 - val_accuracy: 0.8842\n",
            "Epoch 23/30\n",
            "1500/1500 [==============================] - 4s 3ms/step - loss: 0.3281 - accuracy: 0.8801 - val_loss: 0.3182 - val_accuracy: 0.8871\n",
            "Epoch 24/30\n",
            "1500/1500 [==============================] - 4s 3ms/step - loss: 0.3218 - accuracy: 0.8805 - val_loss: 0.3179 - val_accuracy: 0.8858\n",
            "Epoch 25/30\n",
            "1500/1500 [==============================] - 4s 3ms/step - loss: 0.3223 - accuracy: 0.8811 - val_loss: 0.3195 - val_accuracy: 0.8857\n",
            "Epoch 26/30\n",
            "1500/1500 [==============================] - 4s 3ms/step - loss: 0.3210 - accuracy: 0.8821 - val_loss: 0.3192 - val_accuracy: 0.8882\n",
            "Epoch 27/30\n",
            "1500/1500 [==============================] - 4s 3ms/step - loss: 0.3146 - accuracy: 0.8828 - val_loss: 0.3167 - val_accuracy: 0.8879\n",
            "Epoch 28/30\n",
            "1500/1500 [==============================] - 4s 3ms/step - loss: 0.3148 - accuracy: 0.8839 - val_loss: 0.3174 - val_accuracy: 0.8864\n",
            "Epoch 29/30\n",
            "1500/1500 [==============================] - 4s 3ms/step - loss: 0.3088 - accuracy: 0.8864 - val_loss: 0.3133 - val_accuracy: 0.8873\n",
            "Epoch 30/30\n",
            "1500/1500 [==============================] - 4s 3ms/step - loss: 0.3111 - accuracy: 0.8848 - val_loss: 0.3256 - val_accuracy: 0.8876\n"
          ]
        }
      ]
    },
    {
      "cell_type": "code",
      "source": [
        "model3 = keras.models.load_model('/content/best-model.h5') #저장한 모델 불러오기\n",
        "model3.summary()"
      ],
      "metadata": {
        "colab": {
          "base_uri": "https://localhost:8080/"
        },
        "id": "CSNQ89DcsuOM",
        "outputId": "438ecd23-fa61-43d0-8e18-cfefcd4f7cd9"
      },
      "execution_count": 31,
      "outputs": [
        {
          "output_type": "stream",
          "name": "stdout",
          "text": [
            "Model: \"sequential_3\"\n",
            "_________________________________________________________________\n",
            " Layer (type)                Output Shape              Param #   \n",
            "=================================================================\n",
            " flatten_3 (Flatten)         (None, 784)               0         \n",
            "                                                                 \n",
            " dense_5 (Dense)             (None, 100)               78500     \n",
            "                                                                 \n",
            " dropout_2 (Dropout)         (None, 100)               0         \n",
            "                                                                 \n",
            " dense_6 (Dense)             (None, 10)                1010      \n",
            "                                                                 \n",
            "=================================================================\n",
            "Total params: 79,510\n",
            "Trainable params: 79,510\n",
            "Non-trainable params: 0\n",
            "_________________________________________________________________\n"
          ]
        }
      ]
    },
    {
      "cell_type": "code",
      "source": [
        "model3.evaluate(test_scaled,test_target)"
      ],
      "metadata": {
        "colab": {
          "base_uri": "https://localhost:8080/"
        },
        "id": "m9Q0FQ03tldC",
        "outputId": "b385aea1-b2ca-4e4d-f4f2-30e59024c13a"
      },
      "execution_count": 32,
      "outputs": [
        {
          "output_type": "stream",
          "name": "stdout",
          "text": [
            "313/313 [==============================] - 1s 2ms/step - loss: 0.3430 - accuracy: 0.8775\n"
          ]
        },
        {
          "output_type": "execute_result",
          "data": {
            "text/plain": [
              "[0.3429686427116394, 0.8774999976158142]"
            ]
          },
          "metadata": {},
          "execution_count": 32
        }
      ]
    },
    {
      "cell_type": "code",
      "source": [
        "# early stop\n",
        "model = keras.Sequential()\n",
        "model.add(keras.layers.Flatten(input_shape=(28,28)))\n",
        "model.add(keras.layers.Dense(100,activation='sigmoid'))\n",
        "model.add(keras.layers.Dropout(0.5))\n",
        "model.add(keras.layers.Dense(10,activation='softmax'))\n",
        "model.compile(optimizer='adam',loss='sparse_categorical_crossentropy',metrics='accuracy')\n",
        "model.summary()"
      ],
      "metadata": {
        "id": "eZtJxzzJt3_g"
      },
      "execution_count": null,
      "outputs": []
    },
    {
      "cell_type": "code",
      "source": [
        "checkpoint_cb = keras.callbacks.ModelCheckpoint('best-model.h5',save_best_only=True) #가장좋은거 하나만 저장\n",
        "early_stoping_cb = keras.callbacks.EarlyStopping(patience=5,restore_best_weights=True) #손실이 5개정도 굿핏을 못내면 stop\n",
        "hist = model.fit(train_scaled,train_target,epochs=1500,validation_split=0.2,callbacks=[checkpoint_cb,early_stoping_cb])"
      ],
      "metadata": {
        "colab": {
          "base_uri": "https://localhost:8080/"
        },
        "id": "U7P1Hdzdt-jU",
        "outputId": "f1627256-f9b8-4ee5-cfb4-47a87a2f419b"
      },
      "execution_count": 34,
      "outputs": [
        {
          "output_type": "stream",
          "name": "stdout",
          "text": [
            "Epoch 1/1500\n",
            "1500/1500 [==============================] - 5s 3ms/step - loss: 0.7445 - accuracy: 0.7418 - val_loss: 0.4794 - val_accuracy: 0.8284\n",
            "Epoch 2/1500\n",
            "1500/1500 [==============================] - 4s 3ms/step - loss: 0.5144 - accuracy: 0.8173 - val_loss: 0.4196 - val_accuracy: 0.8450\n",
            "Epoch 3/1500\n",
            "1500/1500 [==============================] - 4s 3ms/step - loss: 0.4679 - accuracy: 0.8332 - val_loss: 0.4012 - val_accuracy: 0.8498\n",
            "Epoch 4/1500\n",
            "1500/1500 [==============================] - 4s 3ms/step - loss: 0.4442 - accuracy: 0.8410 - val_loss: 0.3893 - val_accuracy: 0.8565\n",
            "Epoch 5/1500\n",
            "1500/1500 [==============================] - 4s 3ms/step - loss: 0.4248 - accuracy: 0.8487 - val_loss: 0.3764 - val_accuracy: 0.8625\n",
            "Epoch 6/1500\n",
            "1500/1500 [==============================] - 4s 3ms/step - loss: 0.4139 - accuracy: 0.8512 - val_loss: 0.3669 - val_accuracy: 0.8649\n",
            "Epoch 7/1500\n",
            "1500/1500 [==============================] - 4s 3ms/step - loss: 0.4019 - accuracy: 0.8556 - val_loss: 0.3597 - val_accuracy: 0.8686\n",
            "Epoch 8/1500\n",
            "1500/1500 [==============================] - 4s 3ms/step - loss: 0.3933 - accuracy: 0.8592 - val_loss: 0.3485 - val_accuracy: 0.8714\n",
            "Epoch 9/1500\n",
            "1500/1500 [==============================] - 4s 3ms/step - loss: 0.3841 - accuracy: 0.8612 - val_loss: 0.3516 - val_accuracy: 0.8736\n",
            "Epoch 10/1500\n",
            "1500/1500 [==============================] - 4s 3ms/step - loss: 0.3792 - accuracy: 0.8620 - val_loss: 0.3435 - val_accuracy: 0.8727\n",
            "Epoch 11/1500\n",
            "1500/1500 [==============================] - 4s 3ms/step - loss: 0.3742 - accuracy: 0.8664 - val_loss: 0.3465 - val_accuracy: 0.8700\n",
            "Epoch 12/1500\n",
            "1500/1500 [==============================] - 4s 3ms/step - loss: 0.3694 - accuracy: 0.8659 - val_loss: 0.3357 - val_accuracy: 0.8779\n",
            "Epoch 13/1500\n",
            "1500/1500 [==============================] - 4s 3ms/step - loss: 0.3589 - accuracy: 0.8692 - val_loss: 0.3334 - val_accuracy: 0.8773\n",
            "Epoch 14/1500\n",
            "1500/1500 [==============================] - 4s 3ms/step - loss: 0.3605 - accuracy: 0.8708 - val_loss: 0.3329 - val_accuracy: 0.8771\n",
            "Epoch 15/1500\n",
            "1500/1500 [==============================] - 4s 3ms/step - loss: 0.3537 - accuracy: 0.8715 - val_loss: 0.3260 - val_accuracy: 0.8798\n",
            "Epoch 16/1500\n",
            "1500/1500 [==============================] - 4s 3ms/step - loss: 0.3469 - accuracy: 0.8735 - val_loss: 0.3272 - val_accuracy: 0.8826\n",
            "Epoch 17/1500\n",
            "1500/1500 [==============================] - 4s 3ms/step - loss: 0.3450 - accuracy: 0.8746 - val_loss: 0.3283 - val_accuracy: 0.8791\n",
            "Epoch 18/1500\n",
            "1500/1500 [==============================] - 4s 3ms/step - loss: 0.3417 - accuracy: 0.8743 - val_loss: 0.3238 - val_accuracy: 0.8828\n",
            "Epoch 19/1500\n",
            "1500/1500 [==============================] - 4s 3ms/step - loss: 0.3363 - accuracy: 0.8764 - val_loss: 0.3262 - val_accuracy: 0.8822\n",
            "Epoch 20/1500\n",
            "1500/1500 [==============================] - 4s 3ms/step - loss: 0.3335 - accuracy: 0.8780 - val_loss: 0.3216 - val_accuracy: 0.8834\n",
            "Epoch 21/1500\n",
            "1500/1500 [==============================] - 4s 3ms/step - loss: 0.3328 - accuracy: 0.8794 - val_loss: 0.3220 - val_accuracy: 0.8846\n",
            "Epoch 22/1500\n",
            "1500/1500 [==============================] - 4s 3ms/step - loss: 0.3288 - accuracy: 0.8781 - val_loss: 0.3206 - val_accuracy: 0.8851\n",
            "Epoch 23/1500\n",
            "1500/1500 [==============================] - 4s 3ms/step - loss: 0.3291 - accuracy: 0.8790 - val_loss: 0.3245 - val_accuracy: 0.8815\n",
            "Epoch 24/1500\n",
            "1500/1500 [==============================] - 4s 3ms/step - loss: 0.3261 - accuracy: 0.8812 - val_loss: 0.3196 - val_accuracy: 0.8862\n",
            "Epoch 25/1500\n",
            "1500/1500 [==============================] - 4s 3ms/step - loss: 0.3235 - accuracy: 0.8811 - val_loss: 0.3176 - val_accuracy: 0.8857\n",
            "Epoch 26/1500\n",
            "1500/1500 [==============================] - 4s 3ms/step - loss: 0.3210 - accuracy: 0.8814 - val_loss: 0.3228 - val_accuracy: 0.8832\n",
            "Epoch 27/1500\n",
            "1500/1500 [==============================] - 4s 3ms/step - loss: 0.3156 - accuracy: 0.8838 - val_loss: 0.3175 - val_accuracy: 0.8869\n",
            "Epoch 28/1500\n",
            "1500/1500 [==============================] - 4s 3ms/step - loss: 0.3158 - accuracy: 0.8836 - val_loss: 0.3149 - val_accuracy: 0.8862\n",
            "Epoch 29/1500\n",
            "1500/1500 [==============================] - 4s 3ms/step - loss: 0.3130 - accuracy: 0.8848 - val_loss: 0.3153 - val_accuracy: 0.8880\n",
            "Epoch 30/1500\n",
            "1500/1500 [==============================] - 4s 3ms/step - loss: 0.3095 - accuracy: 0.8869 - val_loss: 0.3164 - val_accuracy: 0.8847\n",
            "Epoch 31/1500\n",
            "1500/1500 [==============================] - 4s 3ms/step - loss: 0.3076 - accuracy: 0.8873 - val_loss: 0.3160 - val_accuracy: 0.8860\n",
            "Epoch 32/1500\n",
            "1500/1500 [==============================] - 4s 3ms/step - loss: 0.3073 - accuracy: 0.8850 - val_loss: 0.3131 - val_accuracy: 0.8880\n",
            "Epoch 33/1500\n",
            "1500/1500 [==============================] - 4s 3ms/step - loss: 0.3040 - accuracy: 0.8893 - val_loss: 0.3153 - val_accuracy: 0.8862\n",
            "Epoch 34/1500\n",
            "1500/1500 [==============================] - 4s 3ms/step - loss: 0.3034 - accuracy: 0.8886 - val_loss: 0.3172 - val_accuracy: 0.8876\n",
            "Epoch 35/1500\n",
            "1500/1500 [==============================] - 5s 3ms/step - loss: 0.3029 - accuracy: 0.8898 - val_loss: 0.3137 - val_accuracy: 0.8896\n",
            "Epoch 36/1500\n",
            "1500/1500 [==============================] - 5s 3ms/step - loss: 0.3007 - accuracy: 0.8873 - val_loss: 0.3154 - val_accuracy: 0.8869\n",
            "Epoch 37/1500\n",
            "1500/1500 [==============================] - 4s 3ms/step - loss: 0.2971 - accuracy: 0.8909 - val_loss: 0.3118 - val_accuracy: 0.8898\n",
            "Epoch 38/1500\n",
            "1500/1500 [==============================] - 4s 3ms/step - loss: 0.2964 - accuracy: 0.8895 - val_loss: 0.3168 - val_accuracy: 0.8878\n",
            "Epoch 39/1500\n",
            "1500/1500 [==============================] - 4s 3ms/step - loss: 0.2980 - accuracy: 0.8890 - val_loss: 0.3103 - val_accuracy: 0.8893\n",
            "Epoch 40/1500\n",
            "1500/1500 [==============================] - 4s 3ms/step - loss: 0.2924 - accuracy: 0.8913 - val_loss: 0.3143 - val_accuracy: 0.8905\n",
            "Epoch 41/1500\n",
            "1500/1500 [==============================] - 4s 3ms/step - loss: 0.2917 - accuracy: 0.8923 - val_loss: 0.3186 - val_accuracy: 0.8885\n",
            "Epoch 42/1500\n",
            "1500/1500 [==============================] - 4s 3ms/step - loss: 0.2895 - accuracy: 0.8929 - val_loss: 0.3173 - val_accuracy: 0.8893\n",
            "Epoch 43/1500\n",
            "1500/1500 [==============================] - 5s 3ms/step - loss: 0.2879 - accuracy: 0.8927 - val_loss: 0.3126 - val_accuracy: 0.8908\n",
            "Epoch 44/1500\n",
            "1500/1500 [==============================] - 4s 3ms/step - loss: 0.2864 - accuracy: 0.8936 - val_loss: 0.3143 - val_accuracy: 0.8878\n"
          ]
        }
      ]
    },
    {
      "cell_type": "code",
      "source": [
        "import matplotlib.pyplot as plt\n",
        "\n",
        "plt.plot(hist.history['loss'],label='loss')\n",
        "plt.plot(hist.history['val_loss'],label='val_loss')\n",
        "plt.legend()\n",
        "plt.show()"
      ],
      "metadata": {
        "colab": {
          "base_uri": "https://localhost:8080/",
          "height": 265
        },
        "id": "j--zb0pcudPq",
        "outputId": "8838a24a-223c-452e-dd01-d786ee079063"
      },
      "execution_count": 35,
      "outputs": [
        {
          "output_type": "display_data",
          "data": {
            "text/plain": [
              "<Figure size 432x288 with 1 Axes>"
            ],
            "image/png": "[encoded data removed]"
          },
          "metadata": {
            "needs_background": "light"
          }
        }
      ]
    },
    {
      "cell_type": "code",
      "source": [
        ""
      ],
      "metadata": {
        "id": "m7wjs0FXwKZg"
      },
      "execution_count": null,
      "outputs": []
    },
    {
      "cell_type": "markdown",
      "source": [
        "# CNN"
      ],
      "metadata": {
        "id": "MuyU6mGLwvOA"
      }
    },
    {
      "cell_type": "markdown",
      "source": [
        "## 합성곱 신경망의 구성요소"
      ],
      "metadata": {
        "id": "0IVO_BIe1pVV"
      }
    },
    {
      "cell_type": "code",
      "source": [
        "#원본 x 필터(커널) -> pooling -> flatten \n",
        "#원본 x 필터(커널) = 특성맵\n",
        "#pooling : 축소하는 역할"
      ],
      "metadata": {
        "id": "dYMbAACfwwYN"
      },
      "execution_count": 36,
      "outputs": []
    },
    {
      "cell_type": "code",
      "source": [
        "from tensorflow import keras\n",
        "keras.layers.Conv2D(10,kernel_size=(3,3),activation='relu',padding = 'same',strides=2)# padding_default = 없음,명시해줘야 생김"
      ],
      "metadata": {
        "colab": {
          "base_uri": "https://localhost:8080/"
        },
        "id": "-b5yWppMzoX3",
        "outputId": "98b9bbd8-dcb4-408a-ae89-4b694030a191"
      },
      "execution_count": 39,
      "outputs": [
        {
          "output_type": "execute_result",
          "data": {
            "text/plain": [
              "<keras.layers.convolutional.Conv2D at 0x7f47b8bf6390>"
            ]
          },
          "metadata": {},
          "execution_count": 39
        }
      ]
    },
    {
      "cell_type": "code",
      "source": [
        "keras.layers.MaxPool2D(2) # pooing 사이즈 설정"
      ],
      "metadata": {
        "colab": {
          "base_uri": "https://localhost:8080/"
        },
        "id": "-lOO43irz0g1",
        "outputId": "4053dba2-424c-403d-ca29-7f764276f2f8"
      },
      "execution_count": 40,
      "outputs": [
        {
          "output_type": "execute_result",
          "data": {
            "text/plain": [
              "<keras.layers.pooling.MaxPooling2D at 0x7f47b6703bd0>"
            ]
          },
          "metadata": {},
          "execution_count": 40
        }
      ]
    },
    {
      "cell_type": "markdown",
      "source": [
        "##합성곱 신경망을 사용한 이미지 분류"
      ],
      "metadata": {
        "id": "wqDA34ji1sft"
      }
    },
    {
      "cell_type": "code",
      "source": [
        "from tensorflow import keras\n",
        "from sklearn.model_selection import train_test_split"
      ],
      "metadata": {
        "id": "81JOqYfy1myT"
      },
      "execution_count": 41,
      "outputs": []
    },
    {
      "cell_type": "code",
      "source": [
        "(train_input,train_target),(test_input,test_target)=keras.datasets.fashion_mnist.load_data()\n",
        "train_rinput = train_input.reshape(-1,28,28,1)\n",
        "test_rinput = test_input.reshape(-1,28,28,1)\n",
        "train_scaled = train_rinput/255.0 # min-max 변환\n",
        "test_scaled = test_rinput/255.0 # min-max 변환\n",
        "\n",
        "train_scaled, val_scaled, train_target, val_target = train_test_split(train_scaled,train_target,test_size=0.2)"
      ],
      "metadata": {
        "id": "MwWUNyMS5XIu"
      },
      "execution_count": 51,
      "outputs": []
    },
    {
      "cell_type": "code",
      "source": [
        "model = keras.Sequential() \n",
        "model.add(keras.layers.Conv2D(32,kernel_size=3,activation='relu',padding='same',input_shape=(28,28,1)))\n",
        "model.add(keras.layers.MaxPool2D(2))\n",
        "\n",
        "model.add(keras.layers.Conv2D(16,kernel_size=3,activation='relu',padding='same'))\n",
        "model.add(keras.layers.MaxPool2D(2))\n",
        "\n",
        "model.add(keras.layers.Flatten())\n",
        "model.add(keras.layers.Dense(100,activation='relu'))\n",
        "\n",
        "model.add(keras.layers.Dropout(0.5))\n",
        "model.add(keras.layers.Dense(10,activation='softmax'))\n",
        "model.summary()"
      ],
      "metadata": {
        "colab": {
          "base_uri": "https://localhost:8080/"
        },
        "id": "UerDfoo66grA",
        "outputId": "0afbd44c-e8ac-4c96-d7c9-07d8142077fd"
      },
      "execution_count": 52,
      "outputs": [
        {
          "output_type": "stream",
          "name": "stdout",
          "text": [
            "Model: \"sequential_7\"\n",
            "_________________________________________________________________\n",
            " Layer (type)                Output Shape              Param #   \n",
            "=================================================================\n",
            " conv2d_6 (Conv2D)           (None, 28, 28, 32)        320       \n",
            "                                                                 \n",
            " max_pooling2d_5 (MaxPooling  (None, 14, 14, 32)       0         \n",
            " 2D)                                                             \n",
            "                                                                 \n",
            " conv2d_7 (Conv2D)           (None, 14, 14, 16)        4624      \n",
            "                                                                 \n",
            " max_pooling2d_6 (MaxPooling  (None, 7, 7, 16)         0         \n",
            " 2D)                                                             \n",
            "                                                                 \n",
            " flatten_7 (Flatten)         (None, 784)               0         \n",
            "                                                                 \n",
            " dense_14 (Dense)            (None, 100)               78500     \n",
            "                                                                 \n",
            " dropout_6 (Dropout)         (None, 100)               0         \n",
            "                                                                 \n",
            " dense_15 (Dense)            (None, 10)                1010      \n",
            "                                                                 \n",
            "=================================================================\n",
            "Total params: 84,454\n",
            "Trainable params: 84,454\n",
            "Non-trainable params: 0\n",
            "_________________________________________________________________\n"
          ]
        }
      ]
    },
    {
      "cell_type": "code",
      "source": [
        "keras.utils.plot_model(model)"
      ],
      "metadata": {
        "colab": {
          "base_uri": "https://localhost:8080/",
          "height": 856
        },
        "id": "y-6_fFcS8SE6",
        "outputId": "49f36a4e-e99d-4698-b3bb-52f7a53c1deb"
      },
      "execution_count": 53,
      "outputs": [
        {
          "output_type": "execute_result",
          "data": {
            "text/plain": [
              "<IPython.core.display.Image object>"
            ],
            "image/png": "[encoded data removed]"
          },
          "metadata": {},
          "execution_count": 53
        }
      ]
    },
    {
      "cell_type": "code",
      "source": [
        "keras.utils.plot_model(model,show_shapes=True)"
      ],
      "metadata": {
        "colab": {
          "base_uri": "https://localhost:8080/",
          "height": 976
        },
        "id": "ATprX_8n8gXt",
        "outputId": "3beb3e1a-81ae-4b27-941d-9afd1bddb564"
      },
      "execution_count": 54,
      "outputs": [
        {
          "output_type": "execute_result",
          "data": {
            "text/plain": [
              "<IPython.core.display.Image object>"
            ],
            "image/png": "[encoded data removed]"
          },
          "metadata": {},
          "execution_count": 54
        }
      ]
    },
    {
      "cell_type": "code",
      "source": [
        "model.compile(optimizer='adam',loss=keras.losses.sparse_categorical_crossentropy,metrics='accuracy')\n",
        "early_stopping_cb = keras.callbacks.EarlyStopping(patience=5,restore_best_weights=True)\n",
        "\n",
        "history = model.fit(train_scaled,train_target,validation_split=0.2,epochs=30000,callbacks=[early_stopping_cb])"
      ],
      "metadata": {
        "colab": {
          "base_uri": "https://localhost:8080/"
        },
        "id": "aG-TEI9j89TR",
        "outputId": "14470fd9-295d-4636-8127-1e26b0e5aada"
      },
      "execution_count": 55,
      "outputs": [
        {
          "output_type": "stream",
          "name": "stdout",
          "text": [
            "Epoch 1/30000\n",
            "1200/1200 [==============================] - 35s 29ms/step - loss: 0.6790 - accuracy: 0.7532 - val_loss: 0.3818 - val_accuracy: 0.8619\n",
            "Epoch 2/30000\n",
            "1200/1200 [==============================] - 37s 31ms/step - loss: 0.4498 - accuracy: 0.8415 - val_loss: 0.3324 - val_accuracy: 0.8770\n",
            "Epoch 3/30000\n",
            "1200/1200 [==============================] - 35s 29ms/step - loss: 0.3963 - accuracy: 0.8595 - val_loss: 0.3031 - val_accuracy: 0.8876\n",
            "Epoch 4/30000\n",
            "1200/1200 [==============================] - 35s 29ms/step - loss: 0.3614 - accuracy: 0.8702 - val_loss: 0.2809 - val_accuracy: 0.8960\n",
            "Epoch 5/30000\n",
            "1200/1200 [==============================] - 34s 29ms/step - loss: 0.3303 - accuracy: 0.8797 - val_loss: 0.2646 - val_accuracy: 0.9013\n",
            "Epoch 6/30000\n",
            "1200/1200 [==============================] - 34s 29ms/step - loss: 0.3113 - accuracy: 0.8859 - val_loss: 0.2618 - val_accuracy: 0.9050\n",
            "Epoch 7/30000\n",
            "1200/1200 [==============================] - 35s 29ms/step - loss: 0.2965 - accuracy: 0.8922 - val_loss: 0.2478 - val_accuracy: 0.9067\n",
            "Epoch 8/30000\n",
            "1200/1200 [==============================] - 35s 29ms/step - loss: 0.2821 - accuracy: 0.8966 - val_loss: 0.2452 - val_accuracy: 0.9118\n",
            "Epoch 9/30000\n",
            "1200/1200 [==============================] - 35s 29ms/step - loss: 0.2686 - accuracy: 0.9017 - val_loss: 0.2530 - val_accuracy: 0.9086\n",
            "Epoch 10/30000\n",
            "1200/1200 [==============================] - 35s 29ms/step - loss: 0.2579 - accuracy: 0.9044 - val_loss: 0.2352 - val_accuracy: 0.9147\n",
            "Epoch 11/30000\n",
            "1200/1200 [==============================] - 35s 29ms/step - loss: 0.2476 - accuracy: 0.9079 - val_loss: 0.2413 - val_accuracy: 0.9132\n",
            "Epoch 12/30000\n",
            "1200/1200 [==============================] - 35s 29ms/step - loss: 0.2374 - accuracy: 0.9113 - val_loss: 0.2384 - val_accuracy: 0.9145\n",
            "Epoch 13/30000\n",
            "1200/1200 [==============================] - 35s 29ms/step - loss: 0.2310 - accuracy: 0.9136 - val_loss: 0.2303 - val_accuracy: 0.9187\n",
            "Epoch 14/30000\n",
            "1200/1200 [==============================] - 35s 29ms/step - loss: 0.2279 - accuracy: 0.9134 - val_loss: 0.2433 - val_accuracy: 0.9179\n",
            "Epoch 15/30000\n",
            "1200/1200 [==============================] - 35s 29ms/step - loss: 0.2181 - accuracy: 0.9185 - val_loss: 0.2477 - val_accuracy: 0.9146\n",
            "Epoch 16/30000\n",
            "1200/1200 [==============================] - 35s 29ms/step - loss: 0.2131 - accuracy: 0.9193 - val_loss: 0.2548 - val_accuracy: 0.9177\n",
            "Epoch 17/30000\n",
            "1200/1200 [==============================] - 35s 29ms/step - loss: 0.2063 - accuracy: 0.9218 - val_loss: 0.2437 - val_accuracy: 0.9176\n",
            "Epoch 18/30000\n",
            "1200/1200 [==============================] - 36s 30ms/step - loss: 0.2015 - accuracy: 0.9236 - val_loss: 0.2416 - val_accuracy: 0.9176\n"
          ]
        }
      ]
    },
    {
      "cell_type": "code",
      "source": [
        "import matplotlib.pyplot as plt\n",
        "\n",
        "plt.plot(history.history['loss'],label='loss')\n",
        "plt.plot(history.history['val_loss'],label='val_loss')\n",
        "plt.legend()\n",
        "plt.show()"
      ],
      "metadata": {
        "colab": {
          "base_uri": "https://localhost:8080/",
          "height": 268
        },
        "id": "EnI0pRpY9yNg",
        "outputId": "89efb6de-199f-49c9-9d2c-99f3a7b225c8"
      },
      "execution_count": 57,
      "outputs": [
        {
          "output_type": "display_data",
          "data": {
            "text/plain": [
              "<Figure size 432x288 with 1 Axes>"
            ],
            "image/png": "[encoded data removed]"
          },
          "metadata": {
            "needs_background": "light"
          }
        }
      ]
    },
    {
      "cell_type": "code",
      "source": [
        "plt.imshow(test_scaled[0].reshape(28,28),cmap='gray')\n",
        "plt.show()\n",
        "print(test_target[0])"
      ],
      "metadata": {
        "colab": {
          "base_uri": "https://localhost:8080/",
          "height": 282
        },
        "id": "bWMWRbcHSf5O",
        "outputId": "971969d2-7582-4165-99ae-f005e1e9e518"
      },
      "execution_count": 59,
      "outputs": [
        {
          "output_type": "display_data",
          "data": {
            "text/plain": [
              "<Figure size 432x288 with 1 Axes>"
            ],
            "image/png": "[encoded data removed]"
          },
          "metadata": {
            "needs_background": "light"
          }
        },
        {
          "output_type": "stream",
          "name": "stdout",
          "text": [
            "9\n"
          ]
        }
      ]
    },
    {
      "cell_type": "code",
      "source": [
        "model.predict(test_scaled[0:1])"
      ],
      "metadata": {
        "colab": {
          "base_uri": "https://localhost:8080/"
        },
        "id": "WXmP0L4cYB2H",
        "outputId": "0e81b2d6-d18c-457d-e0fa-26b742c68c23"
      },
      "execution_count": 60,
      "outputs": [
        {
          "output_type": "execute_result",
          "data": {
            "text/plain": [
              "array([[3.2665594e-13, 1.1294097e-13, 8.9829965e-14, 7.6241520e-13,\n",
              "        6.4519653e-12, 7.0086310e-07, 2.1840252e-11, 2.0806061e-05,\n",
              "        2.3286992e-11, 9.9997854e-01]], dtype=float32)"
            ]
          },
          "metadata": {},
          "execution_count": 60
        }
      ]
    },
    {
      "cell_type": "code",
      "source": [
        "preds = model.predict(test_scaled[0:1])\n",
        "print(preds)"
      ],
      "metadata": {
        "colab": {
          "base_uri": "https://localhost:8080/"
        },
        "id": "n6_AlbueYH8a",
        "outputId": "b9bdc979-06d6-44a8-bfb8-51fd31abb80e"
      },
      "execution_count": 61,
      "outputs": [
        {
          "output_type": "stream",
          "name": "stdout",
          "text": [
            "[[3.2665594e-13 1.1294097e-13 8.9829965e-14 7.6241520e-13 6.4519653e-12\n",
            "  7.0086310e-07 2.1840252e-11 2.0806061e-05 2.3286992e-11 9.9997854e-01]]\n"
          ]
        }
      ]
    },
    {
      "cell_type": "markdown",
      "source": [
        "## 합성곱 신경망의 시각화"
      ],
      "metadata": {
        "id": "arjjBJL9aHmu"
      }
    },
    {
      "cell_type": "code",
      "source": [
        "model.save('best-cnn-model.h5')"
      ],
      "metadata": {
        "id": "0YMZEZqoYT9Z"
      },
      "execution_count": 62,
      "outputs": []
    },
    {
      "cell_type": "code",
      "source": [
        "model.layers"
      ],
      "metadata": {
        "colab": {
          "base_uri": "https://localhost:8080/"
        },
        "id": "tf01anoYZCpH",
        "outputId": "65f395f7-0c92-46d9-deea-cbbe94021d40"
      },
      "execution_count": 63,
      "outputs": [
        {
          "output_type": "execute_result",
          "data": {
            "text/plain": [
              "[<keras.layers.convolutional.Conv2D at 0x7f47b6356f90>,\n",
              " <keras.layers.pooling.MaxPooling2D at 0x7f47b66a5410>,\n",
              " <keras.layers.convolutional.Conv2D at 0x7f47b63a5310>,\n",
              " <keras.layers.pooling.MaxPooling2D at 0x7f47b8ca0e90>,\n",
              " <keras.layers.core.flatten.Flatten at 0x7f47b60be1d0>,\n",
              " <keras.layers.core.dense.Dense at 0x7f47b61bc950>,\n",
              " <keras.layers.core.dropout.Dropout at 0x7f47b611c950>,\n",
              " <keras.layers.core.dense.Dense at 0x7f47b60f7b90>]"
            ]
          },
          "metadata": {},
          "execution_count": 63
        }
      ]
    },
    {
      "cell_type": "code",
      "source": [
        "conv = model.layers[0]\n",
        "print(conv.weights[0].shape, conv.weights[1].shape)"
      ],
      "metadata": {
        "colab": {
          "base_uri": "https://localhost:8080/"
        },
        "id": "zMo1bNs_ZG_f",
        "outputId": "9ceda9d8-37bc-4ebe-b5ea-1dc7fab6a89c"
      },
      "execution_count": 65,
      "outputs": [
        {
          "output_type": "stream",
          "name": "stdout",
          "text": [
            "(3, 3, 1, 32) (32,)\n"
          ]
        }
      ]
    },
    {
      "cell_type": "code",
      "source": [
        "print(conv.weights)"
      ],
      "metadata": {
        "colab": {
          "base_uri": "https://localhost:8080/"
        },
        "id": "K6_EdouBZqSJ",
        "outputId": "4945925f-6e9b-440d-8e5f-5d9031799685"
      },
      "execution_count": 66,
      "outputs": [
        {
          "output_type": "stream",
          "name": "stdout",
          "text": [
            "[<tf.Variable 'conv2d_6/kernel:0' shape=(3, 3, 1, 32) dtype=float32, numpy=\n",
            "array([[[[ 0.21467133, -0.17071006, -0.22706515,  0.05351241,\n",
            "          -0.24238709, -0.1943226 ,  0.193432  , -0.24214834,\n",
            "          -0.0621267 , -0.0794774 , -0.06605633, -0.17977208,\n",
            "          -0.0656864 , -0.07454316,  0.29386437,  0.310832  ,\n",
            "          -0.05333896,  0.08918325,  0.24562821, -0.138409  ,\n",
            "          -0.31018037, -1.3531839 , -0.8070018 , -0.350037  ,\n",
            "          -0.17746128,  0.00166119, -0.23563601,  0.17346905,\n",
            "          -0.2609706 , -0.14668497, -0.18391271, -0.02232522]],\n",
            "\n",
            "        [[-0.03536412,  0.04019965, -0.12486785, -0.03892323,\n",
            "           0.2579628 ,  0.172884  ,  0.04068971, -0.28731963,\n",
            "           0.15851748,  0.19302534,  0.17384677, -0.00729361,\n",
            "          -0.04868826, -1.140728  ,  0.27253085,  0.1741122 ,\n",
            "          -0.01781498,  0.23960802, -0.02137088, -0.22792059,\n",
            "          -0.14265285, -1.5998323 , -0.16128086,  0.1590992 ,\n",
            "           0.30707848,  0.01699712,  0.11453266,  0.133043  ,\n",
            "           0.3460871 , -0.25300902,  0.03185762, -0.3279787 ]],\n",
            "\n",
            "        [[ 0.15743276,  0.1499132 ,  0.41614768,  0.08348517,\n",
            "          -0.12868513,  0.02616318, -0.24303742,  0.00824676,\n",
            "          -0.04817624, -0.07696386,  0.12460323,  0.20068859,\n",
            "           0.12312696,  0.20826645, -0.03748205,  0.33373073,\n",
            "          -0.4769516 , -0.22679399,  0.13169542,  0.37180942,\n",
            "           0.07323468, -1.1407266 ,  0.15370823,  0.19518559,\n",
            "          -0.32416177, -0.28100294,  0.12629937, -0.30628756,\n",
            "          -0.0711088 , -0.15008141,  0.15945444, -0.3494009 ]]],\n",
            "\n",
            "\n",
            "       [[[-0.282898  ,  0.31860074, -0.1636411 ,  0.12525299,\n",
            "          -0.08777133, -0.30670458,  0.23664965, -0.09939346,\n",
            "          -0.36994326,  0.11296313,  0.11953354, -0.25334626,\n",
            "          -0.19884127,  0.0977189 , -0.86376613,  0.01253466,\n",
            "           0.14666075,  0.36061335, -0.38983122, -0.00859795,\n",
            "          -0.09922988, -0.6862088 , -0.10670401, -0.15265234,\n",
            "           0.16954906,  0.16895115, -0.27046463, -0.33661425,\n",
            "          -0.06057061,  0.24697211, -0.2905648 , -0.22723043]],\n",
            "\n",
            "        [[-0.13926129,  0.38821325, -0.30702728,  0.07174353,\n",
            "           0.11743422,  0.01100626, -0.07559014,  0.30492246,\n",
            "           0.11917552,  0.34475824,  0.06497835,  0.06039969,\n",
            "          -0.15259819, -1.4442629 , -0.5912542 , -0.02868085,\n",
            "           0.27499685, -0.15343614,  0.16955593, -0.16737576,\n",
            "           0.26441902, -0.9953097 ,  0.20458475,  0.30634862,\n",
            "           0.17453243, -0.30704272,  0.21695435,  0.24023853,\n",
            "          -0.09700391,  0.19857284, -0.07098053, -0.13258521]],\n",
            "\n",
            "        [[ 0.2371121 ,  0.06727117, -0.22946045,  0.11567271,\n",
            "           0.07883845,  0.29174855, -0.19879217, -0.18333167,\n",
            "           0.23695828, -0.43714496,  0.00187599,  0.19945142,\n",
            "           0.3586171 , -0.24396572,  0.3710644 , -0.07089019,\n",
            "          -0.11343916, -0.5903202 ,  0.30216393,  0.16832471,\n",
            "           0.13037394, -0.5208078 ,  0.10019036, -0.1741983 ,\n",
            "          -0.31217548,  0.02022912,  0.03124776,  0.13122424,\n",
            "           0.17432535, -0.09779713,  0.34836048,  0.30234715]]],\n",
            "\n",
            "\n",
            "       [[[-0.15205824, -0.13435346,  0.44277507,  0.12067843,\n",
            "           0.21006955, -0.22595324, -0.33266634, -0.0031258 ,\n",
            "          -0.06998599,  0.30041128,  0.10862574, -0.03695972,\n",
            "          -0.23515205,  0.38271415, -1.5567113 , -0.20189069,\n",
            "           0.15478726,  0.2926272 , -0.5601818 ,  0.23460399,\n",
            "          -0.01665759,  0.1937061 ,  0.21727803,  0.24994382,\n",
            "           0.02300452, -0.27291697, -0.16249616,  0.01961169,\n",
            "           0.03329264, -0.04324847,  0.12650318,  0.32268974]],\n",
            "\n",
            "        [[-0.07457103, -0.28544292, -0.02061373,  0.22281004,\n",
            "          -0.13846867, -0.04451178, -0.11527342,  0.13813202,\n",
            "          -0.21866448, -0.01160578, -0.03031476, -0.008099  ,\n",
            "           0.08812886, -0.40797395, -0.45798522, -0.46298635,\n",
            "           0.00545937, -0.23915932, -0.09155025, -0.276655  ,\n",
            "           0.26032043,  0.33559355,  0.05759579, -0.08286551,\n",
            "           0.09492488, -0.01722431,  0.21860084, -0.20531334,\n",
            "          -0.19802058, -0.01627517,  0.08721156,  0.28775185]],\n",
            "\n",
            "        [[ 0.17756091, -0.35672212, -0.11760875,  0.16469963,\n",
            "          -0.10752568,  0.25460023,  0.45161822, -0.15014124,\n",
            "           0.24485628, -0.33973715, -0.11470766,  0.05560131,\n",
            "           0.14223891, -0.02984903,  0.00970102, -0.12766044,\n",
            "           0.10306066, -0.22119296,  0.10505944,  0.0766248 ,\n",
            "          -0.30189738,  0.21847448,  0.27716795, -0.1928631 ,\n",
            "           0.04551376,  0.28939295, -0.03949735,  0.11715344,\n",
            "           0.1762053 ,  0.13209248, -0.22217096,  0.09401381]]]],\n",
            "      dtype=float32)>, <tf.Variable 'conv2d_6/bias:0' shape=(32,) dtype=float32, numpy=\n",
            "array([-2.0410363e-02,  3.1007845e-02,  8.2354648e-03, -2.1332058e-01,\n",
            "       -4.4585489e-02,  5.4889992e-03,  6.7242822e-03,  1.0232776e-01,\n",
            "        3.0952964e-02,  4.6060397e-03, -1.9585064e-01,  4.9314424e-03,\n",
            "        9.2698103e-03,  1.0420771e-01,  8.4189393e-02, -2.0239716e-03,\n",
            "       -2.0623483e-02,  2.5512157e-02, -1.2759973e-01, -5.6006680e-03,\n",
            "        9.7501792e-02,  1.8846771e-01, -7.2034188e-02, -1.1104236e-04,\n",
            "        1.0717496e-03,  1.0494305e-02, -8.2243746e-03, -1.0795153e-02,\n",
            "        4.5125361e-04,  3.5668999e-02,  5.7705995e-03,  1.9469911e-02],\n",
            "      dtype=float32)>]\n"
          ]
        }
      ]
    },
    {
      "cell_type": "code",
      "source": [
        "conv_weights = conv.weights[0].numpy()\n",
        "print(conv_weights.mean(),conv_weights.std())"
      ],
      "metadata": {
        "colab": {
          "base_uri": "https://localhost:8080/"
        },
        "id": "3l1byUnJZ2uF",
        "outputId": "a5790caf-b4ba-49e9-d4ca-34f70e6e1ae4"
      },
      "execution_count": 68,
      "outputs": [
        {
          "output_type": "stream",
          "name": "stdout",
          "text": [
            "-0.04036568 0.30590093\n"
          ]
        }
      ]
    },
    {
      "cell_type": "code",
      "source": [
        "import matplotlib.pyplot as plt\n",
        "plt.hist(conv_weights.reshape(-1,1))\n",
        "plt.xlabel('weight')\n",
        "plt.ylabel('count')\n",
        "plt.show()"
      ],
      "metadata": {
        "colab": {
          "base_uri": "https://localhost:8080/",
          "height": 279
        },
        "id": "mzPq5J_FaUl_",
        "outputId": "d5b02557-a4b2-42af-ba06-2fe4abe22cce"
      },
      "execution_count": 70,
      "outputs": [
        {
          "output_type": "display_data",
          "data": {
            "text/plain": [
              "<Figure size 432x288 with 1 Axes>"
            ],
            "image/png": "[encoded data removed]"
          },
          "metadata": {
            "needs_background": "light"
          }
        }
      ]
    },
    {
      "cell_type": "code",
      "source": [
        "#학습후 커널의 plot\n",
        "ig,axs = plt.subplots(2,16)\n",
        "for i in range(2):\n",
        "  for j in range(16):\n",
        "    axs[i,j].imshow(conv_weights[:,:,0,i*16+j],vmin=-0.5,vmax=0.5)\n",
        "    axs[i,j].axis('off')\n",
        "plt.show()"
      ],
      "metadata": {
        "colab": {
          "base_uri": "https://localhost:8080/",
          "height": 167
        },
        "id": "FVchq1lcalno",
        "outputId": "2a029502-0f6e-4696-a148-bb7836dbd86d"
      },
      "execution_count": 73,
      "outputs": [
        {
          "output_type": "display_data",
          "data": {
            "text/plain": [
              "<Figure size 432x288 with 32 Axes>"
            ],
            "image/png": "[encoded data removed]"
          },
          "metadata": {
            "needs_background": "light"
          }
        }
      ]
    },
    {
      "cell_type": "code",
      "source": [
        "#학습전 커널의 plot\n",
        "model2 = keras.Sequential() \n",
        "model2.add(keras.layers.Conv2D(32,kernel_size=3,activation='relu',padding='same',input_shape=(28,28,1)))\n",
        "model2.add(keras.layers.MaxPool2D(2))\n",
        "\n",
        "model2.add(keras.layers.Conv2D(16,kernel_size=3,activation='relu',padding='same'))\n",
        "model2.add(keras.layers.MaxPool2D(2))\n",
        "\n",
        "model2.add(keras.layers.Flatten())\n",
        "model2.add(keras.layers.Dense(100,activation='relu'))\n",
        "\n",
        "model2.add(keras.layers.Dropout(0.5))\n",
        "model2.add(keras.layers.Dense(10,activation='softmax'))\n",
        "model2.summary()"
      ],
      "metadata": {
        "id": "JVp73DYcbGDK"
      },
      "execution_count": null,
      "outputs": []
    },
    {
      "cell_type": "code",
      "source": [
        "model.compile(optimizer='adam',loss=keras.losses.sparse_categorical_crossentropy,metrics='accuracy')"
      ],
      "metadata": {
        "id": "nGVIfZqFbrqO"
      },
      "execution_count": 75,
      "outputs": []
    },
    {
      "cell_type": "code",
      "source": [
        "conv2 = model2.layers[0]\n",
        "conv_weights2 = conv2.weights[0].numpy()\n",
        "fig,axs = plt.subplots(2,16)\n",
        "for i in range(2):\n",
        "  for j in range(16):\n",
        "    axs[i,j].imshow(conv_weights2[:,:,0,i*16+j],vmin=-0.5,vmax=0.5)\n",
        "    axs[i,j].axis('off')\n",
        "plt.show()"
      ],
      "metadata": {
        "colab": {
          "base_uri": "https://localhost:8080/",
          "height": 167
        },
        "id": "m-n_AfDBb7d_",
        "outputId": "17df8f10-68ce-41af-e3d2-a5f78c9e480b"
      },
      "execution_count": 79,
      "outputs": [
        {
          "output_type": "display_data",
          "data": {
            "text/plain": [
              "<Figure size 432x288 with 32 Axes>"
            ],
            "image/png": "[encoded data removed]"
          },
          "metadata": {
            "needs_background": "light"
          }
        }
      ]
    },
    {
      "cell_type": "code",
      "source": [
        "import numpy as np\n",
        "from sklearn.linear_model import LinearRegression\n",
        "lr = LinearRegression()\n",
        "lr.coef_ = np.random.uniform(0,1)\n",
        "print(lr.coef_)"
      ],
      "metadata": {
        "colab": {
          "base_uri": "https://localhost:8080/"
        },
        "id": "ECoO67NvcQhq",
        "outputId": "375972db-8b89-42e0-e666-79a1d0bf2b92"
      },
      "execution_count": 80,
      "outputs": [
        {
          "output_type": "stream",
          "name": "stdout",
          "text": [
            "0.7129075204755914\n"
          ]
        }
      ]
    },
    {
      "cell_type": "markdown",
      "source": [
        "### 특성 맵맵 시각화"
      ],
      "metadata": {
        "id": "5WYFzZFCffm4"
      }
    },
    {
      "cell_type": "code",
      "source": [
        "print(model.input)"
      ],
      "metadata": {
        "colab": {
          "base_uri": "https://localhost:8080/"
        },
        "id": "qk2WKLYJeJuC",
        "outputId": "18ab1743-e925-4395-abbf-b392eef05319"
      },
      "execution_count": 81,
      "outputs": [
        {
          "output_type": "stream",
          "name": "stdout",
          "text": [
            "KerasTensor(type_spec=TensorSpec(shape=(None, 28, 28, 1), dtype=tf.float32, name='conv2d_6_input'), name='conv2d_6_input', description=\"created by layer 'conv2d_6_input'\")\n"
          ]
        }
      ]
    },
    {
      "cell_type": "code",
      "source": [
        "print(model.layers[0].output)"
      ],
      "metadata": {
        "colab": {
          "base_uri": "https://localhost:8080/"
        },
        "id": "-51q4StseR4d",
        "outputId": "458b3aa2-a207-47b9-acab-7bcf38a65ca3"
      },
      "execution_count": 82,
      "outputs": [
        {
          "output_type": "stream",
          "name": "stdout",
          "text": [
            "KerasTensor(type_spec=TensorSpec(shape=(None, 28, 28, 32), dtype=tf.float32, name=None), name='conv2d_6/Relu:0', description=\"created by layer 'conv2d_6'\")\n"
          ]
        }
      ]
    },
    {
      "cell_type": "code",
      "source": [
        "conv_acti = keras.Model(model.input,model.layers[0].output)\n",
        "print(conv_acti)"
      ],
      "metadata": {
        "colab": {
          "base_uri": "https://localhost:8080/"
        },
        "id": "hbfx2S98dARu",
        "outputId": "53267319-ae78-4aab-9bdc-e084a7e21938"
      },
      "execution_count": 83,
      "outputs": [
        {
          "output_type": "stream",
          "name": "stdout",
          "text": [
            "<keras.engine.functional.Functional object at 0x7f47b9d7b890>\n"
          ]
        }
      ]
    },
    {
      "cell_type": "code",
      "source": [
        "inputs = train_input[0:1].reshape(-1,28,28,1)/255.0\n",
        "inputs.shape"
      ],
      "metadata": {
        "colab": {
          "base_uri": "https://localhost:8080/"
        },
        "id": "Z7dU101helQO",
        "outputId": "b7cedaab-b211-4289-f049-bc91c2c67a37"
      },
      "execution_count": 87,
      "outputs": [
        {
          "output_type": "execute_result",
          "data": {
            "text/plain": [
              "(1, 28, 28, 1)"
            ]
          },
          "metadata": {},
          "execution_count": 87
        }
      ]
    },
    {
      "cell_type": "code",
      "source": [
        "train_scaled[0:1].shape"
      ],
      "metadata": {
        "colab": {
          "base_uri": "https://localhost:8080/"
        },
        "id": "laCakWwhesQx",
        "outputId": "569c48b5-6e70-4931-9743-2250aa649310"
      },
      "execution_count": 88,
      "outputs": [
        {
          "output_type": "execute_result",
          "data": {
            "text/plain": [
              "(1, 28, 28, 1)"
            ]
          },
          "metadata": {},
          "execution_count": 88
        }
      ]
    },
    {
      "cell_type": "code",
      "source": [
        "feature_maps = conv_acti.predict(inputs)"
      ],
      "metadata": {
        "id": "m_auAxOJe40c"
      },
      "execution_count": 89,
      "outputs": []
    },
    {
      "cell_type": "code",
      "source": [
        "print(feature_maps.shape)"
      ],
      "metadata": {
        "colab": {
          "base_uri": "https://localhost:8080/"
        },
        "id": "xoNcDGoVfS4-",
        "outputId": "7d58d25b-a814-4177-db0b-c8d61be58bfb"
      },
      "execution_count": 90,
      "outputs": [
        {
          "output_type": "stream",
          "name": "stdout",
          "text": [
            "(1, 28, 28, 32)\n"
          ]
        }
      ]
    },
    {
      "cell_type": "code",
      "source": [
        "fig,axs = plt.subplots(4,8)\n",
        "for i in range(4):\n",
        "  for j in range(8):\n",
        "    axs[i,j].imshow(feature_maps[0,:,:,i*8+j])\n",
        "    axs[i,j].axis('off')\n",
        "plt.show()"
      ],
      "metadata": {
        "colab": {
          "base_uri": "https://localhost:8080/",
          "height": 237
        },
        "id": "wgNIEAYDfaXi",
        "outputId": "70f7d398-1125-4f68-bb98-48090bb58ed6"
      },
      "execution_count": 91,
      "outputs": [
        {
          "output_type": "display_data",
          "data": {
            "text/plain": [
              "<Figure size 432x288 with 32 Axes>"
            ],
            "image/png": "[encoded data removed]"
          },
          "metadata": {
            "needs_background": "light"
          }
        }
      ]
    },
    {
      "cell_type": "code",
      "source": [
        ""
      ],
      "metadata": {
        "id": "7pt4qNrxgJIU"
      },
      "execution_count": null,
      "outputs": []
    },
    {
      "cell_type": "markdown",
      "source": [
        "# 보너스 강의 - OpenCV맛"
      ],
      "metadata": {
        "id": "4nTDsh_fi2v3"
      }
    },
    {
      "cell_type": "code",
      "source": [
        "import cv2\n",
        "from google.colab.patches import cv2_imshow"
      ],
      "metadata": {
        "id": "LD6hci_qi9zy"
      },
      "execution_count": 92,
      "outputs": []
    },
    {
      "cell_type": "code",
      "source": [
        "image = np.zeros((100,180,3),np.uint8)"
      ],
      "metadata": {
        "id": "Tmjzim1HjxL7"
      },
      "execution_count": 94,
      "outputs": []
    },
    {
      "cell_type": "code",
      "source": [
        "#색조(H)\n",
        "for i in range(0,180):\n",
        "  image[:,i,0]=i\n",
        "image[:,:,1]=255\n",
        "image[:,:,2]=255\n",
        "img = cv2.cvtColor(image,cv2.COLOR_HSV2BGR)\n",
        "cv2_imshow(img)"
      ],
      "metadata": {
        "colab": {
          "base_uri": "https://localhost:8080/",
          "height": 117
        },
        "id": "NI-0ikpQj8A_",
        "outputId": "989bd4eb-7ac6-490d-d75f-5b10db1aaa69"
      },
      "execution_count": 95,
      "outputs": [
        {
          "output_type": "display_data",
          "data": {
            "text/plain": [
              "<PIL.Image.Image image mode=RGB size=180x100 at 0x7F47ABC4D950>"
            ],
            "image/png": "[encoded data removed]"
          },
          "metadata": {}
        }
      ]
    },
    {
      "cell_type": "code",
      "source": [
        "#채도(s)\n",
        "image = np.zeros((100,255,3),np.uint8)\n",
        "image[:,i,0]=0\n",
        "for i in range(0,255):\n",
        "  image[:,i,1]=i\n",
        "image[:,:,2]=255\n",
        "img = cv2.cvtColor(image,cv2.COLOR_HSV2BGR)\n",
        "cv2_imshow(img)"
      ],
      "metadata": {
        "colab": {
          "base_uri": "https://localhost:8080/",
          "height": 117
        },
        "id": "FLaDpqx6kxyF",
        "outputId": "29350207-29b2-48d8-d22e-135839088805"
      },
      "execution_count": 96,
      "outputs": [
        {
          "output_type": "display_data",
          "data": {
            "text/plain": [
              "<PIL.Image.Image image mode=RGB size=255x100 at 0x7F47A48B0890>"
            ],
            "image/png": "[encoded data removed]"
          },
          "metadata": {}
        }
      ]
    },
    {
      "cell_type": "code",
      "source": [
        "#명도(v)\n",
        "image = np.zeros((100,255,3),np.uint8)\n",
        "image[:,i,0]=0\n",
        "for i in range(0,255):\n",
        "  image[:,i,2]=i\n",
        "image[:,:,1]=255\n",
        "img = cv2.cvtColor(image,cv2.COLOR_HSV2BGR)\n",
        "cv2_imshow(img)"
      ],
      "metadata": {
        "colab": {
          "base_uri": "https://localhost:8080/",
          "height": 117
        },
        "id": "xp2uIN7cl8-r",
        "outputId": "c2b1e50c-5f5b-4bd5-9e66-6cd60fd017fb"
      },
      "execution_count": 97,
      "outputs": [
        {
          "output_type": "display_data",
          "data": {
            "text/plain": [
              "<PIL.Image.Image image mode=RGB size=255x100 at 0x7F47A48C1E50>"
            ],
            "image/png": "[encoded data removed]"
          },
          "metadata": {}
        }
      ]
    },
    {
      "cell_type": "code",
      "source": [
        "path = '/content/Number.png'\n",
        "src_image = cv2.imread(path,cv2.IMREAD_COLOR)\n",
        "cv2_imshow(src_image)"
      ],
      "metadata": {
        "colab": {
          "base_uri": "https://localhost:8080/",
          "height": 276
        },
        "id": "U3LDaA3fmErX",
        "outputId": "8b4b8beb-2f65-4058-92b4-e5d48e5f32f4"
      },
      "execution_count": 118,
      "outputs": [
        {
          "output_type": "display_data",
          "data": {
            "text/plain": [
              "<PIL.Image.Image image mode=RGB size=532x259 at 0x7F47A48A3D90>"
            ],
            "image/png": "[encoded data removed]"
          },
          "metadata": {}
        }
      ]
    },
    {
      "cell_type": "code",
      "source": [
        "cpy_image = src_image.copy()\n",
        "gray_image = cv2.cvtColor(src_image,cv2.COLOR_BGR2GRAY) # 흑백 조절\n",
        "cv2_imshow(gray_image)"
      ],
      "metadata": {
        "colab": {
          "base_uri": "https://localhost:8080/",
          "height": 276
        },
        "id": "LiywfVH6mwsw",
        "outputId": "bdda4aec-2fed-4c7c-ed11-0c469992c8bc"
      },
      "execution_count": 119,
      "outputs": [
        {
          "output_type": "display_data",
          "data": {
            "text/plain": [
              "<PIL.Image.Image image mode=L size=532x259 at 0x7F47A48CA410>"
            ],
            "image/png": "[encoded data removed]"
          },
          "metadata": {}
        }
      ]
    },
    {
      "cell_type": "code",
      "source": [
        "src_image.shape, gray_image.shape"
      ],
      "metadata": {
        "colab": {
          "base_uri": "https://localhost:8080/"
        },
        "id": "yoo44R-ynMSX",
        "outputId": "9b1cf4f3-acee-4ce5-8a16-690fa923c90d"
      },
      "execution_count": 122,
      "outputs": [
        {
          "output_type": "execute_result",
          "data": {
            "text/plain": [
              "((259, 532, 3), (259, 532))"
            ]
          },
          "metadata": {},
          "execution_count": 122
        }
      ]
    },
    {
      "cell_type": "code",
      "source": [
        "blur_image = cv2.GaussianBlur(gray_image,(3,3),0) # (3,3)흐릿한 크기정도\n",
        "cv2_imshow(blur_image)"
      ],
      "metadata": {
        "colab": {
          "base_uri": "https://localhost:8080/",
          "height": 276
        },
        "id": "w3pPUcShnXHk",
        "outputId": "35b70328-4099-4b67-ed98-55bc6ce6b77c"
      },
      "execution_count": 123,
      "outputs": [
        {
          "output_type": "display_data",
          "data": {
            "text/plain": [
              "<PIL.Image.Image image mode=L size=532x259 at 0x7F47A48C13D0>"
            ],
            "image/png": "[encoded data removed]"
          },
          "metadata": {}
        }
      ]
    },
    {
      "cell_type": "code",
      "source": [
        "canny_image = cv2.Canny(blur_image,100,200) #테두리 잡기전 작업\n",
        "cv2_imshow(canny_image)"
      ],
      "metadata": {
        "colab": {
          "base_uri": "https://localhost:8080/",
          "height": 276
        },
        "id": "Dj94fkBDoXJl",
        "outputId": "b1c802f9-34c0-4bdc-ce91-1dbe96e8ce22"
      },
      "execution_count": 124,
      "outputs": [
        {
          "output_type": "display_data",
          "data": {
            "text/plain": [
              "<PIL.Image.Image image mode=L size=532x259 at 0x7F47A48C13D0>"
            ],
            "image/png": "[encoded data removed]"
          },
          "metadata": {}
        }
      ]
    },
    {
      "cell_type": "code",
      "source": [
        "contours, _ = cv2.findContours(canny_image,cv2.RETR_TREE,cv2.CHAIN_APPROX_SIMPLE)\n",
        "\n",
        "store_xywh=[]\n",
        "for contour in contours : \n",
        "  x,y,w,h = cv2.boundingRect(contour)\n",
        "  flag = False\n",
        "  if w>30 and h>=40:\n",
        "    for sv in store_xywh:\n",
        "      gx = abs(sv[0]-x)\n",
        "      gy = abs(sv[1]-y)\n",
        "      if gx<5 and gy<5:\n",
        "        flag = True\n",
        "        break\n",
        "  else : \n",
        "    flag = True\n",
        "  if flag == False : \n",
        "    store_xywh.append([x,y,w,h])\n",
        "\n",
        "for sv in store_xywh:\n",
        "  print(sv)"
      ],
      "metadata": {
        "colab": {
          "base_uri": "https://localhost:8080/"
        },
        "id": "W8JmEXoApAKl",
        "outputId": "557c674b-aec6-4350-d7f4-87ef5f2b84e3"
      },
      "execution_count": 125,
      "outputs": [
        {
          "output_type": "stream",
          "name": "stdout",
          "text": [
            "[414, 166, 49, 53]\n",
            "[137, 164, 35, 61]\n",
            "[39, 158, 42, 73]\n",
            "[216, 151, 39, 72]\n",
            "[317, 144, 43, 89]\n",
            "[123, 49, 66, 43]\n",
            "[421, 47, 75, 48]\n",
            "[55, 46, 36, 58]\n",
            "[218, 38, 45, 55]\n",
            "[321, 37, 64, 66]\n"
          ]
        }
      ]
    },
    {
      "cell_type": "code",
      "source": [
        "for sv in store_xywh:\n",
        "  x,y,w,h=sv\n",
        "  cv2.rectangle(src_image,(x-10,y-10),(x+w+20,y+h+20),(0,255,0),1)\n",
        "cv2_imshow(src_image)"
      ],
      "metadata": {
        "colab": {
          "base_uri": "https://localhost:8080/",
          "height": 276
        },
        "id": "eQednK_LpYtV",
        "outputId": "9d71ff4b-28f1-468c-dcb7-f9d2cb81828a"
      },
      "execution_count": 126,
      "outputs": [
        {
          "output_type": "display_data",
          "data": {
            "text/plain": [
              "<PIL.Image.Image image mode=RGB size=532x259 at 0x7F47A48D1B50>"
            ],
            "image/png": "[encoded data removed]"
          },
          "metadata": {}
        }
      ]
    },
    {
      "cell_type": "markdown",
      "source": [
        "#손글씨"
      ],
      "metadata": {
        "id": "tKUFKRYZwU8o"
      }
    },
    {
      "cell_type": "code",
      "source": [
        "(image_train,label_train),(image_test,label_test) = keras.datasets.mnist.load_data()"
      ],
      "metadata": {
        "colab": {
          "base_uri": "https://localhost:8080/"
        },
        "id": "525dSR7qsSi1",
        "outputId": "0a827d13-4ae9-4095-8585-883549b963c3"
      },
      "execution_count": 127,
      "outputs": [
        {
          "output_type": "stream",
          "name": "stdout",
          "text": [
            "Downloading data from https://storage.googleapis.com/tensorflow/tf-keras-datasets/mnist.npz\n",
            "11493376/11490434 [==============================] - 0s 0us/step\n",
            "11501568/11490434 [==============================] - 0s 0us/step\n"
          ]
        }
      ]
    },
    {
      "cell_type": "code",
      "source": [
        "print(image_train.shape)"
      ],
      "metadata": {
        "colab": {
          "base_uri": "https://localhost:8080/"
        },
        "id": "Ljq-26xkwlA9",
        "outputId": "2b7d3046-7836-4811-937f-3ad29ec70e44"
      },
      "execution_count": 128,
      "outputs": [
        {
          "output_type": "stream",
          "name": "stdout",
          "text": [
            "(60000, 28, 28)\n"
          ]
        }
      ]
    },
    {
      "cell_type": "code",
      "source": [
        "np.unique(label_train,return_counts=True)"
      ],
      "metadata": {
        "colab": {
          "base_uri": "https://localhost:8080/"
        },
        "id": "Wt0Tw-ZhxKm0",
        "outputId": "00de438b-02b3-4275-e3df-feb7aff7de3c"
      },
      "execution_count": 130,
      "outputs": [
        {
          "output_type": "execute_result",
          "data": {
            "text/plain": [
              "(array([0, 1, 2, 3, 4, 5, 6, 7, 8, 9], dtype=uint8),\n",
              " array([5923, 6742, 5958, 6131, 5842, 5421, 5918, 6265, 5851, 5949]))"
            ]
          },
          "metadata": {},
          "execution_count": 130
        }
      ]
    },
    {
      "cell_type": "code",
      "source": [
        "from sklearn import svm"
      ],
      "metadata": {
        "id": "v9iGtD9hxQ1m"
      },
      "execution_count": 135,
      "outputs": []
    },
    {
      "cell_type": "code",
      "source": [
        "image_train2 = image_train.reshape(-1,28*28)\n",
        "image_test2 = image_test.reshape(-1,28*28)"
      ],
      "metadata": {
        "id": "A_3Y2wazyOiU"
      },
      "execution_count": 132,
      "outputs": []
    },
    {
      "cell_type": "code",
      "source": [
        "svm= svm.SVC() #svm의 분류 모델생성\n",
        "svm.fit(image_train2,label_train)"
      ],
      "metadata": {
        "colab": {
          "base_uri": "https://localhost:8080/"
        },
        "id": "mkJYaXK1xoBf",
        "outputId": "2c483ae2-937a-4813-8398-164727d00f86"
      },
      "execution_count": 136,
      "outputs": [
        {
          "output_type": "execute_result",
          "data": {
            "text/plain": [
              "SVC()"
            ]
          },
          "metadata": {},
          "execution_count": 136
        }
      ]
    },
    {
      "cell_type": "code",
      "source": [
        "pval = svm.predict(image_test2)"
      ],
      "metadata": {
        "id": "poNnKRznyhLr"
      },
      "execution_count": 137,
      "outputs": []
    },
    {
      "cell_type": "code",
      "source": [
        "from sklearn import metrics\n",
        "score = metrics.accuracy_score(pval, label_test)\n",
        "print(score)"
      ],
      "metadata": {
        "colab": {
          "base_uri": "https://localhost:8080/"
        },
        "id": "3B4EwW3h07rq",
        "outputId": "469ef7c2-9966-4b50-8ada-2b8698aba50d"
      },
      "execution_count": 138,
      "outputs": [
        {
          "output_type": "stream",
          "name": "stdout",
          "text": [
            "0.9792\n"
          ]
        }
      ]
    },
    {
      "cell_type": "code",
      "source": [
        "from keras.utils import np_utils \n",
        "label_train2 = np_utils.to_categorical(label_train)\n",
        "label_test2 = np_utils.to_categorical(label_test)\n",
        "print(label_train[0])\n",
        "print(label_train2[0])"
      ],
      "metadata": {
        "colab": {
          "base_uri": "https://localhost:8080/"
        },
        "id": "nlyWJHEv1c1G",
        "outputId": "960e776d-e994-4e26-e8ed-c201b8529cbe"
      },
      "execution_count": 140,
      "outputs": [
        {
          "output_type": "stream",
          "name": "stdout",
          "text": [
            "5\n",
            "[0. 0. 0. 0. 0. 1. 0. 0. 0. 0.]\n"
          ]
        }
      ]
    },
    {
      "cell_type": "code",
      "source": [
        "scaled_train = image_train/255.0\n",
        "scaled_test = image_test/255.0"
      ],
      "metadata": {
        "id": "Tx7u2z_A2Byh"
      },
      "execution_count": 141,
      "outputs": []
    },
    {
      "cell_type": "code",
      "source": [
        "from keras import layers,models\n",
        "model = models.Sequential()\n",
        "model.add(layers.Dense(100,activation='relu', input_shape = (784,)))\n",
        "#model.add(layers.Dense(28,activation='relu'))\n",
        "model.add(layers.Dense(10,activation='softmax'))\n",
        "model.compile(loss=keras.losses.categorical_crossentropy,metrics=['accuracy'])\n",
        "history = model.fit(image_train2,label_train2,epochs=100)"
      ],
      "metadata": {
        "colab": {
          "base_uri": "https://localhost:8080/"
        },
        "id": "gwLl337n2omq",
        "outputId": "11a4ff0c-57d2-4065-dd30-565bc7d01146"
      },
      "execution_count": 152,
      "outputs": [
        {
          "output_type": "stream",
          "name": "stdout",
          "text": [
            "Epoch 1/100\n",
            "1875/1875 [==============================] - 8s 4ms/step - loss: 2.3793 - accuracy: 0.8605\n",
            "Epoch 2/100\n",
            "1875/1875 [==============================] - 6s 3ms/step - loss: 0.5739 - accuracy: 0.9225\n",
            "Epoch 3/100\n",
            "1875/1875 [==============================] - 6s 3ms/step - loss: 0.4777 - accuracy: 0.9384\n",
            "Epoch 4/100\n",
            "1875/1875 [==============================] - 6s 3ms/step - loss: 0.4393 - accuracy: 0.9463\n",
            "Epoch 5/100\n",
            "1875/1875 [==============================] - 6s 3ms/step - loss: 0.4076 - accuracy: 0.9508\n",
            "Epoch 6/100\n",
            "1875/1875 [==============================] - 6s 3ms/step - loss: 0.3895 - accuracy: 0.9532\n",
            "Epoch 7/100\n",
            "1875/1875 [==============================] - 6s 3ms/step - loss: 0.3714 - accuracy: 0.9577\n",
            "Epoch 8/100\n",
            "1875/1875 [==============================] - 6s 3ms/step - loss: 0.3546 - accuracy: 0.9610\n",
            "Epoch 9/100\n",
            "1875/1875 [==============================] - 6s 3ms/step - loss: 0.3328 - accuracy: 0.9631\n",
            "Epoch 10/100\n",
            "1875/1875 [==============================] - 6s 3ms/step - loss: 0.3030 - accuracy: 0.9649\n",
            "Epoch 11/100\n",
            "1875/1875 [==============================] - 6s 3ms/step - loss: 0.3139 - accuracy: 0.9664\n",
            "Epoch 12/100\n",
            "1875/1875 [==============================] - 7s 4ms/step - loss: 0.2852 - accuracy: 0.9690\n",
            "Epoch 13/100\n",
            "1875/1875 [==============================] - 6s 3ms/step - loss: 0.2761 - accuracy: 0.9706\n",
            "Epoch 14/100\n",
            "1875/1875 [==============================] - 6s 3ms/step - loss: 0.2723 - accuracy: 0.9712\n",
            "Epoch 15/100\n",
            "1875/1875 [==============================] - 6s 3ms/step - loss: 0.2584 - accuracy: 0.9724\n",
            "Epoch 16/100\n",
            "1875/1875 [==============================] - 6s 3ms/step - loss: 0.2547 - accuracy: 0.9735\n",
            "Epoch 17/100\n",
            "1875/1875 [==============================] - 6s 3ms/step - loss: 0.2483 - accuracy: 0.9750\n",
            "Epoch 18/100\n",
            "1875/1875 [==============================] - 6s 3ms/step - loss: 0.2479 - accuracy: 0.9748\n",
            "Epoch 19/100\n",
            "1875/1875 [==============================] - 6s 3ms/step - loss: 0.2417 - accuracy: 0.9758\n",
            "Epoch 20/100\n",
            "1875/1875 [==============================] - 6s 3ms/step - loss: 0.2171 - accuracy: 0.9767\n",
            "Epoch 21/100\n",
            "1875/1875 [==============================] - 6s 3ms/step - loss: 0.2164 - accuracy: 0.9786\n",
            "Epoch 22/100\n",
            "1875/1875 [==============================] - 6s 3ms/step - loss: 0.2100 - accuracy: 0.9782\n",
            "Epoch 23/100\n",
            "1875/1875 [==============================] - 6s 3ms/step - loss: 0.2093 - accuracy: 0.9786\n",
            "Epoch 24/100\n",
            "1875/1875 [==============================] - 6s 3ms/step - loss: 0.1910 - accuracy: 0.9808\n",
            "Epoch 25/100\n",
            "1875/1875 [==============================] - 6s 3ms/step - loss: 0.2085 - accuracy: 0.9807\n",
            "Epoch 26/100\n",
            "1875/1875 [==============================] - 6s 3ms/step - loss: 0.1939 - accuracy: 0.9808\n",
            "Epoch 27/100\n",
            "1875/1875 [==============================] - 6s 3ms/step - loss: 0.2013 - accuracy: 0.9814\n",
            "Epoch 28/100\n",
            "1875/1875 [==============================] - 6s 3ms/step - loss: 0.1915 - accuracy: 0.9812\n",
            "Epoch 29/100\n",
            "1875/1875 [==============================] - 6s 3ms/step - loss: 0.1821 - accuracy: 0.9831\n",
            "Epoch 30/100\n",
            "1875/1875 [==============================] - 6s 3ms/step - loss: 0.1691 - accuracy: 0.9830\n",
            "Epoch 31/100\n",
            "1875/1875 [==============================] - 6s 3ms/step - loss: 0.1674 - accuracy: 0.9834\n",
            "Epoch 32/100\n",
            "1875/1875 [==============================] - 6s 3ms/step - loss: 0.1712 - accuracy: 0.9841\n",
            "Epoch 33/100\n",
            "1875/1875 [==============================] - 6s 3ms/step - loss: 0.1669 - accuracy: 0.9852\n",
            "Epoch 34/100\n",
            "1875/1875 [==============================] - 6s 3ms/step - loss: 0.1533 - accuracy: 0.9851\n",
            "Epoch 35/100\n",
            "1875/1875 [==============================] - 6s 3ms/step - loss: 0.1658 - accuracy: 0.9851\n",
            "Epoch 36/100\n",
            "1875/1875 [==============================] - 6s 3ms/step - loss: 0.1476 - accuracy: 0.9856\n",
            "Epoch 37/100\n",
            "1875/1875 [==============================] - 6s 3ms/step - loss: 0.1523 - accuracy: 0.9855\n",
            "Epoch 38/100\n",
            "1875/1875 [==============================] - 6s 3ms/step - loss: 0.1501 - accuracy: 0.9855\n",
            "Epoch 39/100\n",
            "1875/1875 [==============================] - 6s 3ms/step - loss: 0.1524 - accuracy: 0.9865\n",
            "Epoch 40/100\n",
            "1875/1875 [==============================] - 6s 3ms/step - loss: 0.1372 - accuracy: 0.9864\n",
            "Epoch 41/100\n",
            "1875/1875 [==============================] - 6s 3ms/step - loss: 0.1435 - accuracy: 0.9869\n",
            "Epoch 42/100\n",
            "1875/1875 [==============================] - 6s 3ms/step - loss: 0.1361 - accuracy: 0.9869\n",
            "Epoch 43/100\n",
            "1875/1875 [==============================] - 6s 3ms/step - loss: 0.1406 - accuracy: 0.9875\n",
            "Epoch 44/100\n",
            "1875/1875 [==============================] - 6s 3ms/step - loss: 0.1365 - accuracy: 0.9875\n",
            "Epoch 45/100\n",
            "1875/1875 [==============================] - 6s 3ms/step - loss: 0.1350 - accuracy: 0.9877\n",
            "Epoch 46/100\n",
            "1875/1875 [==============================] - 6s 3ms/step - loss: 0.1181 - accuracy: 0.9881\n",
            "Epoch 47/100\n",
            "1875/1875 [==============================] - 6s 3ms/step - loss: 0.1244 - accuracy: 0.9884\n",
            "Epoch 48/100\n",
            "1875/1875 [==============================] - 6s 3ms/step - loss: 0.1336 - accuracy: 0.9880\n",
            "Epoch 49/100\n",
            "1875/1875 [==============================] - 6s 3ms/step - loss: 0.1287 - accuracy: 0.9882\n",
            "Epoch 50/100\n",
            "1875/1875 [==============================] - 6s 3ms/step - loss: 0.1159 - accuracy: 0.9888\n",
            "Epoch 51/100\n",
            "1875/1875 [==============================] - 6s 3ms/step - loss: 0.1265 - accuracy: 0.9889\n",
            "Epoch 52/100\n",
            "1875/1875 [==============================] - 6s 3ms/step - loss: 0.1350 - accuracy: 0.9888\n",
            "Epoch 53/100\n",
            "1875/1875 [==============================] - 6s 3ms/step - loss: 0.1230 - accuracy: 0.9896\n",
            "Epoch 54/100\n",
            "1875/1875 [==============================] - 6s 3ms/step - loss: 0.1112 - accuracy: 0.9896\n",
            "Epoch 55/100\n",
            "1875/1875 [==============================] - 6s 3ms/step - loss: 0.1167 - accuracy: 0.9896\n",
            "Epoch 56/100\n",
            "1875/1875 [==============================] - 6s 3ms/step - loss: 0.1071 - accuracy: 0.9904\n",
            "Epoch 57/100\n",
            "1875/1875 [==============================] - 6s 3ms/step - loss: 0.1048 - accuracy: 0.9899\n",
            "Epoch 58/100\n",
            "1875/1875 [==============================] - 6s 3ms/step - loss: 0.1049 - accuracy: 0.9898\n",
            "Epoch 59/100\n",
            "1875/1875 [==============================] - 6s 3ms/step - loss: 0.1114 - accuracy: 0.9897\n",
            "Epoch 60/100\n",
            "1875/1875 [==============================] - 6s 3ms/step - loss: 0.1042 - accuracy: 0.9909\n",
            "Epoch 61/100\n",
            "1875/1875 [==============================] - 6s 3ms/step - loss: 0.1000 - accuracy: 0.9901\n",
            "Epoch 62/100\n",
            "1875/1875 [==============================] - 6s 3ms/step - loss: 0.0941 - accuracy: 0.9901\n",
            "Epoch 63/100\n",
            "1875/1875 [==============================] - 6s 3ms/step - loss: 0.0991 - accuracy: 0.9906\n",
            "Epoch 64/100\n",
            "1875/1875 [==============================] - 6s 3ms/step - loss: 0.0816 - accuracy: 0.9913\n",
            "Epoch 65/100\n",
            "1875/1875 [==============================] - 6s 3ms/step - loss: 0.0890 - accuracy: 0.9913\n",
            "Epoch 66/100\n",
            "1875/1875 [==============================] - 6s 3ms/step - loss: 0.0933 - accuracy: 0.9913\n",
            "Epoch 67/100\n",
            "1875/1875 [==============================] - 6s 3ms/step - loss: 0.0935 - accuracy: 0.9913\n",
            "Epoch 68/100\n",
            "1875/1875 [==============================] - 6s 3ms/step - loss: 0.1007 - accuracy: 0.9913\n",
            "Epoch 69/100\n",
            "1875/1875 [==============================] - 6s 3ms/step - loss: 0.0872 - accuracy: 0.9923\n",
            "Epoch 70/100\n",
            "1875/1875 [==============================] - 6s 3ms/step - loss: 0.0796 - accuracy: 0.9915\n",
            "Epoch 71/100\n",
            "1875/1875 [==============================] - 6s 3ms/step - loss: 0.0901 - accuracy: 0.9920\n",
            "Epoch 72/100\n",
            "1875/1875 [==============================] - 6s 3ms/step - loss: 0.0759 - accuracy: 0.9925\n",
            "Epoch 73/100\n",
            "1875/1875 [==============================] - 6s 3ms/step - loss: 0.0848 - accuracy: 0.9920\n",
            "Epoch 74/100\n",
            "1875/1875 [==============================] - 6s 3ms/step - loss: 0.0812 - accuracy: 0.9922\n",
            "Epoch 75/100\n",
            "1875/1875 [==============================] - 6s 3ms/step - loss: 0.0965 - accuracy: 0.9921\n",
            "Epoch 76/100\n",
            "1875/1875 [==============================] - 6s 3ms/step - loss: 0.0759 - accuracy: 0.9925\n",
            "Epoch 77/100\n",
            "1875/1875 [==============================] - 6s 3ms/step - loss: 0.0817 - accuracy: 0.9927\n",
            "Epoch 78/100\n",
            "1875/1875 [==============================] - 6s 3ms/step - loss: 0.0778 - accuracy: 0.9926\n",
            "Epoch 79/100\n",
            "1875/1875 [==============================] - 6s 3ms/step - loss: 0.0793 - accuracy: 0.9927\n",
            "Epoch 80/100\n",
            "1875/1875 [==============================] - 6s 3ms/step - loss: 0.0730 - accuracy: 0.9927\n",
            "Epoch 81/100\n",
            "1875/1875 [==============================] - 7s 4ms/step - loss: 0.0778 - accuracy: 0.9929\n",
            "Epoch 82/100\n",
            "1875/1875 [==============================] - 7s 4ms/step - loss: 0.0736 - accuracy: 0.9930\n",
            "Epoch 83/100\n",
            "1875/1875 [==============================] - 6s 3ms/step - loss: 0.0823 - accuracy: 0.9925\n",
            "Epoch 84/100\n",
            "1875/1875 [==============================] - 6s 3ms/step - loss: 0.0748 - accuracy: 0.9928\n",
            "Epoch 85/100\n",
            "1875/1875 [==============================] - 6s 3ms/step - loss: 0.0752 - accuracy: 0.9930\n",
            "Epoch 86/100\n",
            "1875/1875 [==============================] - 6s 3ms/step - loss: 0.0671 - accuracy: 0.9927\n",
            "Epoch 87/100\n",
            "1875/1875 [==============================] - 7s 3ms/step - loss: 0.0657 - accuracy: 0.9932\n",
            "Epoch 88/100\n",
            "1875/1875 [==============================] - 6s 3ms/step - loss: 0.0767 - accuracy: 0.9929\n",
            "Epoch 89/100\n",
            "1875/1875 [==============================] - 6s 3ms/step - loss: 0.0720 - accuracy: 0.9936\n",
            "Epoch 90/100\n",
            "1875/1875 [==============================] - 6s 3ms/step - loss: 0.0634 - accuracy: 0.9934\n",
            "Epoch 91/100\n",
            "1875/1875 [==============================] - 6s 3ms/step - loss: 0.0696 - accuracy: 0.9935\n",
            "Epoch 92/100\n",
            "1875/1875 [==============================] - 6s 3ms/step - loss: 0.0695 - accuracy: 0.9937\n",
            "Epoch 93/100\n",
            "1875/1875 [==============================] - 6s 3ms/step - loss: 0.0697 - accuracy: 0.9934\n",
            "Epoch 94/100\n",
            "1875/1875 [==============================] - 6s 3ms/step - loss: 0.0766 - accuracy: 0.9933\n",
            "Epoch 95/100\n",
            "1875/1875 [==============================] - 6s 3ms/step - loss: 0.0708 - accuracy: 0.9938\n",
            "Epoch 96/100\n",
            "1875/1875 [==============================] - 6s 3ms/step - loss: 0.0667 - accuracy: 0.9942\n",
            "Epoch 97/100\n",
            "1875/1875 [==============================] - 6s 3ms/step - loss: 0.0687 - accuracy: 0.9934\n",
            "Epoch 98/100\n",
            "1875/1875 [==============================] - 6s 3ms/step - loss: 0.0580 - accuracy: 0.9941\n",
            "Epoch 99/100\n",
            "1875/1875 [==============================] - 6s 3ms/step - loss: 0.0696 - accuracy: 0.9942\n",
            "Epoch 100/100\n",
            "1875/1875 [==============================] - 7s 3ms/step - loss: 0.0539 - accuracy: 0.9947\n"
          ]
        }
      ]
    },
    {
      "cell_type": "code",
      "source": [
        "score = model.evaluate(image_test2,label_test2)\n",
        "print(score)"
      ],
      "metadata": {
        "colab": {
          "base_uri": "https://localhost:8080/"
        },
        "id": "jx6jhtr339Jw",
        "outputId": "88ec977c-3609-49f9-f924-77ce6e1c6843"
      },
      "execution_count": 153,
      "outputs": [
        {
          "output_type": "stream",
          "name": "stdout",
          "text": [
            "313/313 [==============================] - 1s 2ms/step - loss: 2.4150 - accuracy: 0.9648\n",
            "[2.415038585662842, 0.9648000001907349]\n"
          ]
        }
      ]
    },
    {
      "cell_type": "code",
      "source": [
        ""
      ],
      "metadata": {
        "id": "yEeYLJae5_l4"
      },
      "execution_count": null,
      "outputs": []
    }
  ]
}