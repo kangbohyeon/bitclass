{
 "cells": [
  {
   "cell_type": "markdown",
   "id": "fe6f79e8-49bb-438b-8b5e-6df070dea44c",
   "metadata": {},
   "source": [
    "# Chapter8 문자열\n",
    "\n",
    " - 불변형\n",
    " - 인데스 가능\n",
    " - `str` 클래스에서 다양한 문자열 함수"
   ]
  },
  {
   "cell_type": "code",
   "execution_count": 1,
   "id": "b6aab7c9-1d61-4d7e-ad0e-44be3af03965",
   "metadata": {},
   "outputs": [
    {
     "data": {
      "text/plain": [
       "str"
      ]
     },
     "execution_count": 1,
     "metadata": {},
     "output_type": "execute_result"
    }
   ],
   "source": [
    "type('문자')"
   ]
  },
  {
   "cell_type": "code",
   "execution_count": 2,
   "id": "2d2cae16-f0d6-4bdb-b7e5-b0a3e51ee188",
   "metadata": {},
   "outputs": [
    {
     "data": {
      "text/plain": [
       "'안녕하세요 파이썬'"
      ]
     },
     "execution_count": 2,
     "metadata": {},
     "output_type": "execute_result"
    }
   ],
   "source": [
    "s = \"안녕하세요 파이썬\"\n",
    "s"
   ]
  },
  {
   "cell_type": "code",
   "execution_count": 3,
   "id": "11900a73-dfd9-4673-bde3-1edef34d7d11",
   "metadata": {},
   "outputs": [
    {
     "data": {
      "text/plain": [
       "9"
      ]
     },
     "execution_count": 3,
     "metadata": {},
     "output_type": "execute_result"
    }
   ],
   "source": [
    "len(s)"
   ]
  },
  {
   "cell_type": "code",
   "execution_count": 4,
   "id": "34da8b3b-9f2a-4fa8-a916-ddd49a6ea769",
   "metadata": {},
   "outputs": [
    {
     "data": {
      "text/plain": [
       "('안', '썬')"
      ]
     },
     "execution_count": 4,
     "metadata": {},
     "output_type": "execute_result"
    }
   ],
   "source": [
    "s[0], s[8]"
   ]
  },
  {
   "cell_type": "code",
   "execution_count": 5,
   "id": "42f67668-374f-4ac0-afba-453071d34042",
   "metadata": {},
   "outputs": [
    {
     "data": {
      "text/plain": [
       "' 파이썬'"
      ]
     },
     "execution_count": 5,
     "metadata": {},
     "output_type": "execute_result"
    }
   ],
   "source": [
    "s[-4:]"
   ]
  },
  {
   "cell_type": "markdown",
   "id": "01122470-3338-4307-9090-270ce20bfc2f",
   "metadata": {},
   "source": [
    "문자열 결합"
   ]
  },
  {
   "cell_type": "code",
   "execution_count": 6,
   "id": "e043ce66-f169-441a-bd8c-a428ca977b61",
   "metadata": {},
   "outputs": [
    {
     "data": {
      "text/plain": [
       "'안녕파이썬'"
      ]
     },
     "execution_count": 6,
     "metadata": {},
     "output_type": "execute_result"
    }
   ],
   "source": [
    "'안녕' + '파이썬'"
   ]
  },
  {
   "cell_type": "code",
   "execution_count": 7,
   "id": "a91b4a07-8f09-492c-8305-9b60f8611d25",
   "metadata": {},
   "outputs": [
    {
     "ename": "TypeError",
     "evalue": "unsupported operand type(s) for -: 'str' and 'str'",
     "output_type": "error",
     "traceback": [
      "\u001b[1;31m---------------------------------------------------------------------------\u001b[0m",
      "\u001b[1;31mTypeError\u001b[0m                                 Traceback (most recent call last)",
      "Input \u001b[1;32mIn [7]\u001b[0m, in \u001b[0;36m<cell line: 1>\u001b[1;34m()\u001b[0m\n\u001b[1;32m----> 1\u001b[0m \u001b[38;5;124;43m'\u001b[39;49m\u001b[38;5;124;43m안녕\u001b[39;49m\u001b[38;5;124;43m'\u001b[39;49m\u001b[43m \u001b[49m\u001b[38;5;241;43m-\u001b[39;49m\u001b[43m \u001b[49m\u001b[38;5;124;43m'\u001b[39;49m\u001b[38;5;124;43m파이썬\u001b[39;49m\u001b[38;5;124;43m'\u001b[39;49m\n",
      "\u001b[1;31mTypeError\u001b[0m: unsupported operand type(s) for -: 'str' and 'str'"
     ]
    }
   ],
   "source": [
    "'안녕' - '파이썬'"
   ]
  },
  {
   "cell_type": "code",
   "execution_count": 8,
   "id": "90b746ce-810c-4182-b544-19fd2257875c",
   "metadata": {},
   "outputs": [
    {
     "data": {
      "text/plain": [
       "'안녕안녕안녕'"
      ]
     },
     "execution_count": 8,
     "metadata": {},
     "output_type": "execute_result"
    }
   ],
   "source": [
    "'안녕' * 3"
   ]
  },
  {
   "cell_type": "code",
   "execution_count": 9,
   "id": "91fe6c95-e9d7-4f39-8b2b-88ff76591e01",
   "metadata": {},
   "outputs": [
    {
     "ename": "TypeError",
     "evalue": "can only concatenate str (not \"int\") to str",
     "output_type": "error",
     "traceback": [
      "\u001b[1;31m---------------------------------------------------------------------------\u001b[0m",
      "\u001b[1;31mTypeError\u001b[0m                                 Traceback (most recent call last)",
      "Input \u001b[1;32mIn [9]\u001b[0m, in \u001b[0;36m<cell line: 1>\u001b[1;34m()\u001b[0m\n\u001b[1;32m----> 1\u001b[0m \u001b[38;5;124;43m'\u001b[39;49m\u001b[38;5;124;43m안녕\u001b[39;49m\u001b[38;5;124;43m'\u001b[39;49m\u001b[43m \u001b[49m\u001b[38;5;241;43m+\u001b[39;49m\u001b[43m \u001b[49m\u001b[38;5;241;43m2\u001b[39;49m\n",
      "\u001b[1;31mTypeError\u001b[0m: can only concatenate str (not \"int\") to str"
     ]
    }
   ],
   "source": [
    "'안녕' + 2"
   ]
  },
  {
   "cell_type": "code",
   "execution_count": 10,
   "id": "71bccae3-62ab-482d-b2f0-8f13dc65b70c",
   "metadata": {},
   "outputs": [
    {
     "data": {
      "text/plain": [
       "'안녕2'"
      ]
     },
     "execution_count": 10,
     "metadata": {},
     "output_type": "execute_result"
    }
   ],
   "source": [
    "'안녕' + str(2)"
   ]
  },
  {
   "cell_type": "markdown",
   "id": "6f27829e-b39d-4fb2-8626-d854d3a77ef6",
   "metadata": {},
   "source": [
    "p 237 실습"
   ]
  },
  {
   "cell_type": "code",
   "execution_count": 11,
   "id": "231d4806-8a08-4682-941e-baaf88f1c213",
   "metadata": {},
   "outputs": [
    {
     "name": "stdin",
     "output_type": "stream",
     "text": [
      "문자열을 입력하세요 :  안녕하세요 파이썬\n"
     ]
    },
    {
     "name": "stdout",
     "output_type": "stream",
     "text": [
      "내용을 거꾸로 출력 --> 썬이파 요세하녕안\n"
     ]
    }
   ],
   "source": [
    "## 변수 선언 부분 ##\n",
    "inStr, outStr = \"\", \"\"\n",
    "count, i = 0, 0\n",
    "\n",
    "## 메인 코드 부분 ##\n",
    "inStr = input(\"문자열을 입력하세요 : \")\n",
    "count = len(inStr)\n",
    "\n",
    "for i in range(0, count) :\n",
    "     outStr += inStr[count - (i + 1)]\n",
    "\n",
    "print(\"내용을 거꾸로 출력 --> %s\" % outStr)\n"
   ]
  },
  {
   "cell_type": "markdown",
   "id": "9e6f4b03-3310-4cdc-83fd-50b5ab840a01",
   "metadata": {},
   "source": [
    "## 객체\n",
    "\n",
    "객체(Object)지향 프로그램\n",
    "\n",
    "객체란?\n",
    " - 이름\n",
    " - 속성 : 상태 값 / 현재의 상태 유지!\n",
    " - 행위 : 상태를 변경할 수 있는 함수/메서드"
   ]
  },
  {
   "cell_type": "code",
   "execution_count": 12,
   "id": "250055ac-7498-4030-af8f-57dbc96f06d9",
   "metadata": {},
   "outputs": [],
   "source": [
    "import random    # 모듈!"
   ]
  },
  {
   "cell_type": "code",
   "execution_count": null,
   "id": "5b2d86cf-82cc-4d9a-a894-9362b95f19af",
   "metadata": {},
   "outputs": [],
   "source": [
    "# 모듈의 이름! -> 객체\n",
    "# dot 로 접근: 속성, 함수(메서드)\n",
    "random.random()"
   ]
  },
  {
   "cell_type": "markdown",
   "id": "df832979-0c8f-4c21-a1ec-f908b4811261",
   "metadata": {},
   "source": [
    "### 문자열 클래스"
   ]
  },
  {
   "cell_type": "code",
   "execution_count": 13,
   "id": "62c5624e-513d-4dc8-9094-21021db6f74f",
   "metadata": {},
   "outputs": [
    {
     "data": {
      "text/plain": [
       "'Hello'"
      ]
     },
     "execution_count": 13,
     "metadata": {},
     "output_type": "execute_result"
    }
   ],
   "source": [
    "\"Hello\""
   ]
  },
  {
   "cell_type": "code",
   "execution_count": 49,
   "id": "9a1b6f76-6245-40d1-9640-8b66643a4ff7",
   "metadata": {},
   "outputs": [
    {
     "data": {
      "text/plain": [
       "2233190345776"
      ]
     },
     "execution_count": 49,
     "metadata": {},
     "output_type": "execute_result"
    }
   ],
   "source": [
    "id(\"Hello\")"
   ]
  },
  {
   "cell_type": "code",
   "execution_count": 50,
   "id": "82c484ee-b782-4e19-bfc9-14e63d77cdb7",
   "metadata": {},
   "outputs": [
    {
     "data": {
      "text/plain": [
       "2233190345776"
      ]
     },
     "execution_count": 50,
     "metadata": {},
     "output_type": "execute_result"
    }
   ],
   "source": [
    "_"
   ]
  },
  {
   "cell_type": "code",
   "execution_count": 55,
   "id": "83a2f3a0-0bca-48c6-9024-6b5e46656fba",
   "metadata": {},
   "outputs": [
    {
     "data": {
      "text/plain": [
       "'Hello'"
      ]
     },
     "execution_count": 55,
     "metadata": {},
     "output_type": "execute_result"
    }
   ],
   "source": [
    "\"Hello\""
   ]
  },
  {
   "cell_type": "code",
   "execution_count": 56,
   "id": "54423e7e-1a4c-4418-b736-321058e670e3",
   "metadata": {},
   "outputs": [
    {
     "data": {
      "text/plain": [
       "str"
      ]
     },
     "execution_count": 56,
     "metadata": {},
     "output_type": "execute_result"
    }
   ],
   "source": [
    "type('h')"
   ]
  },
  {
   "cell_type": "code",
   "execution_count": 57,
   "id": "60d86b54-f9fd-4d20-be55-23c376e1543c",
   "metadata": {},
   "outputs": [],
   "source": [
    "ss = 'Hello Python'"
   ]
  },
  {
   "cell_type": "code",
   "execution_count": 58,
   "id": "0cc1ee8d-5e2c-4064-aa96-df41c81e0ce7",
   "metadata": {},
   "outputs": [
    {
     "data": {
      "text/plain": [
       "('HELLO PYTHON', 'hello python')"
      ]
     },
     "execution_count": 58,
     "metadata": {},
     "output_type": "execute_result"
    }
   ],
   "source": [
    "ss.upper(), ss.lower()"
   ]
  },
  {
   "cell_type": "code",
   "execution_count": 59,
   "id": "5462f7c4-be02-4129-877d-77bf89831022",
   "metadata": {},
   "outputs": [
    {
     "data": {
      "text/plain": [
       "\u001b[1;31mSignature:\u001b[0m \u001b[0mss\u001b[0m\u001b[1;33m.\u001b[0m\u001b[0mswapcase\u001b[0m\u001b[1;33m(\u001b[0m\u001b[1;33m)\u001b[0m\u001b[1;33m\u001b[0m\u001b[1;33m\u001b[0m\u001b[0m\n",
       "\u001b[1;31mDocstring:\u001b[0m Convert uppercase characters to lowercase and lowercase characters to uppercase.\n",
       "\u001b[1;31mType:\u001b[0m      builtin_function_or_method\n"
      ]
     },
     "metadata": {},
     "output_type": "display_data"
    }
   ],
   "source": [
    "ss.swapcase?"
   ]
  },
  {
   "cell_type": "code",
   "execution_count": 60,
   "id": "696f2062-db71-429f-97af-ce74214d3c37",
   "metadata": {},
   "outputs": [
    {
     "data": {
      "text/plain": [
       "'hELLO pYTHON'"
      ]
     },
     "execution_count": 60,
     "metadata": {},
     "output_type": "execute_result"
    }
   ],
   "source": [
    "ss.swapcase()"
   ]
  },
  {
   "cell_type": "code",
   "execution_count": 62,
   "id": "5352b0bc-1614-4b7f-8b0d-dc7c7e238ea3",
   "metadata": {},
   "outputs": [
    {
     "data": {
      "text/plain": [
       "'Hello Python'"
      ]
     },
     "execution_count": 62,
     "metadata": {},
     "output_type": "execute_result"
    }
   ],
   "source": [
    "ss.title()"
   ]
  },
  {
   "cell_type": "code",
   "execution_count": 63,
   "id": "a3b3e2c0-a3ac-450c-a512-1a1089da014f",
   "metadata": {},
   "outputs": [],
   "source": [
    "ss = '파이썬 공부는 즐겁습니다. 물론 공부가 재미있지는 않죠!'"
   ]
  },
  {
   "cell_type": "code",
   "execution_count": 64,
   "id": "f9367d40-ca28-4885-9438-2e54ce8c622b",
   "metadata": {},
   "outputs": [
    {
     "data": {
      "text/plain": [
       "31"
      ]
     },
     "execution_count": 64,
     "metadata": {},
     "output_type": "execute_result"
    }
   ],
   "source": [
    "len(ss)"
   ]
  },
  {
   "cell_type": "code",
   "execution_count": 65,
   "id": "f6105fdd-ae63-4e6e-955f-9a69a2c601be",
   "metadata": {},
   "outputs": [
    {
     "data": {
      "text/plain": [
       "2"
      ]
     },
     "execution_count": 65,
     "metadata": {},
     "output_type": "execute_result"
    }
   ],
   "source": [
    "ss.count('공부')"
   ]
  },
  {
   "cell_type": "code",
   "execution_count": 66,
   "id": "48446c02-151c-4e1c-9630-7c38a4904af5",
   "metadata": {},
   "outputs": [
    {
     "data": {
      "text/plain": [
       "4"
      ]
     },
     "execution_count": 66,
     "metadata": {},
     "output_type": "execute_result"
    }
   ],
   "source": [
    "ss.find('공부')"
   ]
  },
  {
   "cell_type": "code",
   "execution_count": 67,
   "id": "cb1a2b7e-2b9c-49cf-ab84-b926aad685c7",
   "metadata": {},
   "outputs": [
    {
     "data": {
      "text/plain": [
       "18"
      ]
     },
     "execution_count": 67,
     "metadata": {},
     "output_type": "execute_result"
    }
   ],
   "source": [
    "ss.rfind('공부')"
   ]
  },
  {
   "cell_type": "code",
   "execution_count": 68,
   "id": "099dea35-eba1-47d3-aa16-57f47d656e2a",
   "metadata": {},
   "outputs": [
    {
     "data": {
      "text/plain": [
       "18"
      ]
     },
     "execution_count": 68,
     "metadata": {},
     "output_type": "execute_result"
    }
   ],
   "source": [
    "ss.find('공부', 5)"
   ]
  },
  {
   "cell_type": "code",
   "execution_count": 69,
   "id": "70ec7c49-3647-4a9d-8507-d883f05a8ff9",
   "metadata": {},
   "outputs": [
    {
     "data": {
      "text/plain": [
       "'공부는 즐겁습니다. 물론 공부가 재미있지는 않죠!'"
      ]
     },
     "execution_count": 69,
     "metadata": {},
     "output_type": "execute_result"
    }
   ],
   "source": [
    "ss[ss.find('공부'):]"
   ]
  },
  {
   "cell_type": "code",
   "execution_count": 72,
   "id": "6b413232-b945-4eb9-af72-81356841ab0a",
   "metadata": {},
   "outputs": [
    {
     "data": {
      "text/plain": [
       "'공부는 즐겁습니다.'"
      ]
     },
     "execution_count": 72,
     "metadata": {},
     "output_type": "execute_result"
    }
   ],
   "source": [
    "ss[ss.find('공부'):ss.rfind('물론')-1]"
   ]
  },
  {
   "cell_type": "code",
   "execution_count": 73,
   "id": "7fad902e-c47b-4338-883a-eb5a9f5433b4",
   "metadata": {},
   "outputs": [
    {
     "data": {
      "text/plain": [
       "4"
      ]
     },
     "execution_count": 73,
     "metadata": {},
     "output_type": "execute_result"
    }
   ],
   "source": [
    "ss.index('공부')"
   ]
  },
  {
   "cell_type": "code",
   "execution_count": 74,
   "id": "c9bb4e6b-0bc5-40dd-b134-75527e6571a9",
   "metadata": {},
   "outputs": [
    {
     "data": {
      "text/plain": [
       "\u001b[1;31mDocstring:\u001b[0m\n",
       "S.index(sub[, start[, end]]) -> int\n",
       "\n",
       "Return the lowest index in S where substring sub is found,\n",
       "such that sub is contained within S[start:end].  Optional\n",
       "arguments start and end are interpreted as in slice notation.\n",
       "\n",
       "Raises ValueError when the substring is not found.\n",
       "\u001b[1;31mType:\u001b[0m      builtin_function_or_method\n"
      ]
     },
     "metadata": {},
     "output_type": "display_data"
    }
   ],
   "source": [
    "ss.index?"
   ]
  },
  {
   "cell_type": "code",
   "execution_count": 75,
   "id": "635b0185-6424-41ef-a1fd-32a7940223be",
   "metadata": {},
   "outputs": [
    {
     "data": {
      "text/plain": [
       "\u001b[1;31mDocstring:\u001b[0m\n",
       "S.find(sub[, start[, end]]) -> int\n",
       "\n",
       "Return the lowest index in S where substring sub is found,\n",
       "such that sub is contained within S[start:end].  Optional\n",
       "arguments start and end are interpreted as in slice notation.\n",
       "\n",
       "Return -1 on failure.\n",
       "\u001b[1;31mType:\u001b[0m      builtin_function_or_method\n"
      ]
     },
     "metadata": {},
     "output_type": "display_data"
    }
   ],
   "source": [
    "ss.find?"
   ]
  },
  {
   "cell_type": "code",
   "execution_count": 76,
   "id": "8c790afd-9110-4fb9-a7cc-5e8cd91c3247",
   "metadata": {},
   "outputs": [
    {
     "ename": "ValueError",
     "evalue": "substring not found",
     "output_type": "error",
     "traceback": [
      "\u001b[1;31m---------------------------------------------------------------------------\u001b[0m",
      "\u001b[1;31mValueError\u001b[0m                                Traceback (most recent call last)",
      "Input \u001b[1;32mIn [76]\u001b[0m, in \u001b[0;36m<cell line: 1>\u001b[1;34m()\u001b[0m\n\u001b[1;32m----> 1\u001b[0m \u001b[43mss\u001b[49m\u001b[38;5;241;43m.\u001b[39;49m\u001b[43mindex\u001b[49m\u001b[43m(\u001b[49m\u001b[38;5;124;43m'\u001b[39;49m\u001b[38;5;124;43m킹콩\u001b[39;49m\u001b[38;5;124;43m'\u001b[39;49m\u001b[43m)\u001b[49m\n",
      "\u001b[1;31mValueError\u001b[0m: substring not found"
     ]
    }
   ],
   "source": [
    "ss.index('킹콩')"
   ]
  },
  {
   "cell_type": "code",
   "execution_count": 77,
   "id": "b5e74b28-a09d-40c2-b6b4-01fd737b0b75",
   "metadata": {},
   "outputs": [
    {
     "data": {
      "text/plain": [
       "-1"
      ]
     },
     "execution_count": 77,
     "metadata": {},
     "output_type": "execute_result"
    }
   ],
   "source": [
    "ss.find('킹콩')"
   ]
  },
  {
   "cell_type": "code",
   "execution_count": 79,
   "id": "ea06edf4-b691-45df-9d11-6bf70879ee1b",
   "metadata": {},
   "outputs": [
    {
     "data": {
      "text/plain": [
       "True"
      ]
     },
     "execution_count": 79,
     "metadata": {},
     "output_type": "execute_result"
    }
   ],
   "source": [
    "ss.startswith('파이썬')"
   ]
  },
  {
   "cell_type": "code",
   "execution_count": 82,
   "id": "3c845d74-0b3a-4017-aabd-4102a3a97b17",
   "metadata": {},
   "outputs": [
    {
     "data": {
      "text/plain": [
       "False"
      ]
     },
     "execution_count": 82,
     "metadata": {},
     "output_type": "execute_result"
    }
   ],
   "source": [
    "ss.endswith('.')"
   ]
  },
  {
   "attachments": {
    "37706efc-720f-4693-aa4d-ffadf98bc868.png": {
     "image/png": "[encoded data removed]"
    }
   },
   "cell_type": "markdown",
   "id": "5b07e895-1538-462d-89ee-06c4adcce62b",
   "metadata": {},
   "source": [
    "## 공백문제\n",
    "\n",
    "![image.png](attachment:37706efc-720f-4693-aa4d-ffadf98bc868.png)"
   ]
  },
  {
   "cell_type": "code",
   "execution_count": 84,
   "id": "919563ec-d15a-4aa1-a7bf-aa4774dceab2",
   "metadata": {},
   "outputs": [],
   "source": [
    "ss = ' 파이썬 '"
   ]
  },
  {
   "cell_type": "code",
   "execution_count": 85,
   "id": "731cebe7-b1b6-49fe-ae0a-f1fc0949b29a",
   "metadata": {},
   "outputs": [
    {
     "data": {
      "text/plain": [
       "'파이썬'"
      ]
     },
     "execution_count": 85,
     "metadata": {},
     "output_type": "execute_result"
    }
   ],
   "source": [
    "ss.strip()"
   ]
  },
  {
   "cell_type": "code",
   "execution_count": 86,
   "id": "165821af-fc08-456d-bbdd-2f73fcf6dcd1",
   "metadata": {},
   "outputs": [
    {
     "data": {
      "text/plain": [
       "' 파이썬'"
      ]
     },
     "execution_count": 86,
     "metadata": {},
     "output_type": "execute_result"
    }
   ],
   "source": [
    "ss.rstrip()"
   ]
  },
  {
   "cell_type": "code",
   "execution_count": 87,
   "id": "469ba3b1-957b-4874-97e3-96e684097f70",
   "metadata": {},
   "outputs": [
    {
     "data": {
      "text/plain": [
       "'파이썬 '"
      ]
     },
     "execution_count": 87,
     "metadata": {},
     "output_type": "execute_result"
    }
   ],
   "source": [
    "ss.lstrip()"
   ]
  },
  {
   "cell_type": "code",
   "execution_count": 89,
   "id": "a9431313-9247-44cb-b0e0-62188d12218f",
   "metadata": {},
   "outputs": [],
   "source": [
    "ss = '파이썬 프로그래밍'"
   ]
  },
  {
   "cell_type": "code",
   "execution_count": 90,
   "id": "b3c88030-8679-4faa-b0b8-eb402c1bcf37",
   "metadata": {},
   "outputs": [
    {
     "data": {
      "text/plain": [
       "'Python 프로그래밍'"
      ]
     },
     "execution_count": 90,
     "metadata": {},
     "output_type": "execute_result"
    }
   ],
   "source": [
    "ss.replace('파이썬', 'Python')"
   ]
  },
  {
   "cell_type": "code",
   "execution_count": 91,
   "id": "4bd81716-17e2-464a-82e4-a32f778e571e",
   "metadata": {},
   "outputs": [],
   "source": [
    "# split\n",
    "ss = 'Python을 공부 하 느 는 거 은 재밌어'"
   ]
  },
  {
   "cell_type": "code",
   "execution_count": 93,
   "id": "ed2bdd00-b3d5-4d4a-8490-c275c7133d37",
   "metadata": {},
   "outputs": [
    {
     "data": {
      "text/plain": [
       "['Python을', '공부', '하', '느', '는', '거', '은', '재밌어']"
      ]
     },
     "execution_count": 93,
     "metadata": {},
     "output_type": "execute_result"
    }
   ],
   "source": [
    "ss.split()  # 구분자: ' ' "
   ]
  },
  {
   "cell_type": "code",
   "execution_count": 94,
   "id": "405e2a50-35fd-42e2-8307-dd4250d3321d",
   "metadata": {},
   "outputs": [],
   "source": [
    "ss = 'a:b:c:d;f;k;'"
   ]
  },
  {
   "cell_type": "code",
   "execution_count": 95,
   "id": "f339237f-5c2d-4f80-a308-71301afcd7b0",
   "metadata": {},
   "outputs": [
    {
     "data": {
      "text/plain": [
       "['a', 'b', 'c', 'd;f;k;']"
      ]
     },
     "execution_count": 95,
     "metadata": {},
     "output_type": "execute_result"
    }
   ],
   "source": [
    "ss.split(sep=':')"
   ]
  },
  {
   "cell_type": "code",
   "execution_count": 96,
   "id": "41c253cf-3da1-48e5-9cb5-39e7bd58e858",
   "metadata": {},
   "outputs": [
    {
     "data": {
      "text/plain": [
       "['a', 'b', 'c', 'd;f;k;']"
      ]
     },
     "execution_count": 96,
     "metadata": {},
     "output_type": "execute_result"
    }
   ],
   "source": [
    "ss.split(':')"
   ]
  },
  {
   "cell_type": "code",
   "execution_count": 97,
   "id": "b51306eb-20cb-4244-a199-d7ace8b03af3",
   "metadata": {},
   "outputs": [
    {
     "data": {
      "text/plain": [
       "['안녕하세요.', '파이썬 재밌어요.']"
      ]
     },
     "execution_count": 97,
     "metadata": {},
     "output_type": "execute_result"
    }
   ],
   "source": [
    "ss = \"\"\"안녕하세요.\n",
    "파이썬 재밌어요.\"\"\"\n",
    "ss.splitlines()"
   ]
  },
  {
   "cell_type": "code",
   "execution_count": 99,
   "id": "66554347-fd7b-481c-a335-ad22d847e473",
   "metadata": {},
   "outputs": [
    {
     "data": {
      "text/plain": [
       "['안녕하세요.', '파이썬 재밌어요.']"
      ]
     },
     "execution_count": 99,
     "metadata": {},
     "output_type": "execute_result"
    }
   ],
   "source": [
    "ss.split(sep='\\n')"
   ]
  },
  {
   "cell_type": "code",
   "execution_count": 100,
   "id": "19adbf7e-37f9-497e-b1b3-08d68de94a55",
   "metadata": {},
   "outputs": [],
   "source": [
    "ss = '%'"
   ]
  },
  {
   "cell_type": "code",
   "execution_count": 101,
   "id": "107b8ce6-a7f1-4970-a96e-d923dcef03c0",
   "metadata": {},
   "outputs": [
    {
     "data": {
      "text/plain": [
       "'파%이%썬% %재%밌%어%요'"
      ]
     },
     "execution_count": 101,
     "metadata": {},
     "output_type": "execute_result"
    }
   ],
   "source": [
    "ss.join('파이썬 재밌어요')"
   ]
  },
  {
   "cell_type": "code",
   "execution_count": null,
   "id": "cd7f4f1d-9b65-4b83-b0e7-e7df64502a4e",
   "metadata": {},
   "outputs": [],
   "source": []
  },
  {
   "cell_type": "code",
   "execution_count": null,
   "id": "d64852f7-f8ec-41a9-ab38-b4775e07aaf1",
   "metadata": {},
   "outputs": [],
   "source": []
  },
  {
   "cell_type": "code",
   "execution_count": null,
   "id": "82f013d0-774b-442f-b3f1-e5fbcfcce037",
   "metadata": {},
   "outputs": [],
   "source": []
  },
  {
   "cell_type": "markdown",
   "id": "3bb24b91-e836-4593-a90d-b833e519ca61",
   "metadata": {},
   "source": [
    "map()"
   ]
  },
  {
   "cell_type": "code",
   "execution_count": 108,
   "id": "3bbddb4b-2c2c-494e-922c-f1e3f96441cf",
   "metadata": {},
   "outputs": [
    {
     "data": {
      "text/plain": [
       "['1', '3', '4', '5']"
      ]
     },
     "execution_count": 108,
     "metadata": {},
     "output_type": "execute_result"
    }
   ],
   "source": [
    "list(map(str, [1,3,4,5]))"
   ]
  },
  {
   "cell_type": "code",
   "execution_count": 107,
   "id": "15332533-9c23-430c-a3f5-bcb4f0329d72",
   "metadata": {},
   "outputs": [
    {
     "data": {
      "text/plain": [
       "[12.0, 3.0, 4.0, 4.0]"
      ]
     },
     "execution_count": 107,
     "metadata": {},
     "output_type": "execute_result"
    }
   ],
   "source": [
    "list(map(float, [12,3,4,4]))"
   ]
  },
  {
   "cell_type": "code",
   "execution_count": 109,
   "id": "b3cc0574-4ac1-4bec-b8a9-49a60fa0a58a",
   "metadata": {},
   "outputs": [
    {
     "data": {
      "text/plain": [
       "'1'"
      ]
     },
     "execution_count": 109,
     "metadata": {},
     "output_type": "execute_result"
    }
   ],
   "source": [
    "str(1)"
   ]
  },
  {
   "cell_type": "code",
   "execution_count": 113,
   "id": "ec2e13bd-2d61-4b1a-8788-c016638d8453",
   "metadata": {},
   "outputs": [
    {
     "data": {
      "text/plain": [
       "True"
      ]
     },
     "execution_count": 113,
     "metadata": {},
     "output_type": "execute_result"
    }
   ],
   "source": [
    "'1234'.isdigit()"
   ]
  },
  {
   "cell_type": "code",
   "execution_count": 114,
   "id": "f4c3760a-f5bf-47ff-83d9-ad747913af2c",
   "metadata": {},
   "outputs": [
    {
     "data": {
      "text/plain": [
       "False"
      ]
     },
     "execution_count": 114,
     "metadata": {},
     "output_type": "execute_result"
    }
   ],
   "source": [
    "'파이썬'.isdigit()"
   ]
  },
  {
   "cell_type": "code",
   "execution_count": 115,
   "id": "d4c53909-416d-4c57-99aa-c3318890b2d1",
   "metadata": {},
   "outputs": [
    {
     "data": {
      "text/plain": [
       "True"
      ]
     },
     "execution_count": 115,
     "metadata": {},
     "output_type": "execute_result"
    }
   ],
   "source": [
    "'파이썬'.isalpha()"
   ]
  },
  {
   "cell_type": "code",
   "execution_count": 116,
   "id": "06839598-ad67-4d86-a9c1-366fd7f26305",
   "metadata": {},
   "outputs": [
    {
     "data": {
      "text/plain": [
       "True"
      ]
     },
     "execution_count": 116,
     "metadata": {},
     "output_type": "execute_result"
    }
   ],
   "source": [
    "'파이썬'.isalnum()"
   ]
  },
  {
   "cell_type": "markdown",
   "id": "ea97f6e6-7a1f-4257-8109-a580ee6c98a9",
   "metadata": {},
   "source": [
    "ord() 함수"
   ]
  },
  {
   "cell_type": "code",
   "execution_count": 118,
   "id": "6b98f95e-ca33-4f0d-95d6-182798fb5de6",
   "metadata": {},
   "outputs": [
    {
     "data": {
      "text/plain": [
       "(65, 97)"
      ]
     },
     "execution_count": 118,
     "metadata": {},
     "output_type": "execute_result"
    }
   ],
   "source": [
    "ord('A'), ord('a')"
   ]
  },
  {
   "cell_type": "code",
   "execution_count": 121,
   "id": "e5669971-07e1-4869-a062-6f8113971a0a",
   "metadata": {},
   "outputs": [
    {
     "data": {
      "text/plain": [
       "(12593, 55147)"
      ]
     },
     "execution_count": 121,
     "metadata": {},
     "output_type": "execute_result"
    }
   ],
   "source": [
    "ord('ㄱ'), ord('흫')"
   ]
  },
  {
   "cell_type": "markdown",
   "id": "b74dc53d-5985-48b8-bdcd-e23e06551b43",
   "metadata": {},
   "source": [
    "### p250 연습문제 11번\n",
    "\n",
    "11. 입력된 문자열 중에서 한글과 영문자만 남기는 프로그램을 작성하세요.\n",
    "\n",
    "```\n",
    "예) 문자열 --> 파이썬 ### CookBook $$$ @@@ 열공중 1234\n",
    "한글/영문자만 남김 --> 파이썬CookBook열공중\n",
    "```"
   ]
  },
  {
   "cell_type": "code",
   "execution_count": 122,
   "id": "92ad3e90-f8dc-4d91-b769-0e2fc27ae493",
   "metadata": {},
   "outputs": [
    {
     "name": "stdin",
     "output_type": "stream",
     "text": [
      "문자열 --> 파이썬 ### CookBook $$$ @@@ 열공중 1234\n"
     ]
    },
    {
     "name": "stdout",
     "output_type": "stream",
     "text": [
      "한글/영문자만 남김 --> 파이썬CookBook열공중\n"
     ]
    }
   ],
   "source": [
    "inStr, outStr = '', ''\n",
    "inStr = input('문자열 -->')\n",
    "\n",
    "for i in range(0, len(inStr)) :\n",
    "    if inStr[i].isalpha() == True :\n",
    "        outStr += inStr[i]\n",
    "\n",
    "print('한글/영문자만 남김 --> ' + outStr)"
   ]
  },
  {
   "cell_type": "code",
   "execution_count": null,
   "id": "28dbb55c-19ad-4f01-b605-6ccd8b387116",
   "metadata": {},
   "outputs": [],
   "source": []
  },
  {
   "cell_type": "code",
   "execution_count": null,
   "id": "6891c105-ebcb-4831-ba95-bbff6bc6e620",
   "metadata": {},
   "outputs": [],
   "source": []
  },
  {
   "cell_type": "code",
   "execution_count": null,
   "id": "dc1c0c04-928e-4b7b-a166-1cbba99a49d3",
   "metadata": {},
   "outputs": [],
   "source": []
  },
  {
   "cell_type": "code",
   "execution_count": null,
   "id": "65af2cb3-776e-4527-b7a9-688970006fc9",
   "metadata": {},
   "outputs": [],
   "source": []
  },
  {
   "cell_type": "code",
   "execution_count": null,
   "id": "2c005736-4962-4f21-918e-914f6f181e18",
   "metadata": {},
   "outputs": [],
   "source": []
  },
  {
   "cell_type": "markdown",
   "id": "5a4ac3b3-a211-4b8d-b2ae-91cce9f66859",
   "metadata": {},
   "source": [
    "### p251 연습문제 12번\n",
    "\n",
    "12. 입력한 문자열에서 `숫자`, `영문 소문자`, `영문 대문자`, `한글`, `기타 문자`를 골라서 출력하는 프로그램을 작성하세요.\n",
    " - 힌트) 각 문자는 고유한 번호가 할당되어 있으며, ord() 함수로 번호를 확인할 수 있다.\n",
    "\n",
    "\n",
    "```\n",
    "문자열을 입력하세요 : IT CookBook 파이썬을 365일 공부하고 있습니다. ^___^\n",
    "대문자 : ITCB\n",
    "소문자: ookook\n",
    "숫자: 365\n",
    "한글: 파이썬을일공부하고있습니다\n",
    "기타: . ^___^\n",
    "```"
   ]
  },
  {
   "cell_type": "code",
   "execution_count": 123,
   "id": "9ab367e1-4cfd-4df9-b5df-b3032e3107ac",
   "metadata": {},
   "outputs": [
    {
     "name": "stdin",
     "output_type": "stream",
     "text": [
      "문자열을 입력하세요 :  IT CookBook 파이썬을 365일 공부하고 있습니다. ^___^\n"
     ]
    },
    {
     "name": "stdout",
     "output_type": "stream",
     "text": [
      "대문자 : ITCB\n",
      "소문자: ookook\n",
      "숫자: 365\n",
      "한글: 파이썬을일공부하고있습니다\n",
      "기타:      . ^___^\n"
     ]
    }
   ],
   "source": [
    "numStr, lowerStr, upperStr, hanStr, etcStr = [''] * 5\n",
    "ch = \"\"\n",
    "\n",
    "inStr = input(\"문자열을 입력하세요 : \")\n",
    "for ch in inStr :\n",
    "    if ( ord(ch) >= ord(\"A\") and ord(ch) <= ord(\"Z\")) :\n",
    "        upperStr += ch\n",
    "    elif ( ord(ch) >= ord(\"a\") and ord(ch) <= ord(\"z\")) :\n",
    "        lowerStr += ch\n",
    "    elif ( ord(ch) >= ord(\"0\") and ord(ch) <= ord(\"9\")) :\n",
    "        numStr += ch\n",
    "    elif ( ord(ch) >= ord(\"가\") and ord(ch) <= ord(\"힣\")) :\n",
    "        hanStr += ch\n",
    "    else :\n",
    "        etcStr += ch\n",
    "        \n",
    "print(\"대문자 :\", upperStr)\n",
    "print(\"소문자:\", lowerStr)\n",
    "print(\"숫자:\", numStr)\n",
    "print(\"한글:\", hanStr)\n",
    "print(\"기타:\", etcStr)"
   ]
  }
 ],
 "metadata": {
  "kernelspec": {
   "display_name": "Python 3 (ipykernel)",
   "language": "python",
   "name": "python3"
  },
  "language_info": {
   "codemirror_mode": {
    "name": "ipython",
    "version": 3
   },
   "file_extension": ".py",
   "mimetype": "text/x-python",
   "name": "python",
   "nbconvert_exporter": "python",
   "pygments_lexer": "ipython3",
   "version": "3.8.12"
  }
 },
 "nbformat": 4,
 "nbformat_minor": 5
}
