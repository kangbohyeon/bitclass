{
 "cells": [
  {
   "cell_type": "code",
   "execution_count": 13,
   "id": "605f6cf3-ec11-4513-a069-17901df8a832",
   "metadata": {},
   "outputs": [
    {
     "name": "stdout",
     "output_type": "stream",
     "text": [
      "I\n",
      "T\n",
      "CookBook\n",
      "IT_C\n",
      "IT_CookBoo\n"
     ]
    }
   ],
   "source": [
    "#1-2,4,5번\n",
    "ss = 'IT_CookBook'\n",
    "print(ss[0])\n",
    "print(ss[1:2])\n",
    "print(ss[3:])\n",
    "print(ss[:4])\n",
    "print(ss[0:-1])"
   ]
  },
  {
   "cell_type": "code",
   "execution_count": 14,
   "id": "5b978260-aeb8-4953-b6e7-68c282a0ab45",
   "metadata": {},
   "outputs": [
    {
     "name": "stdout",
     "output_type": "stream",
     "text": [
      "P\n",
      "y\n",
      "ho\n",
      "hon\n"
     ]
    }
   ],
   "source": [
    "#2\n",
    "ss = 'Python'\n",
    "print(ss[0])\n",
    "print(ss[1:2])\n",
    "print(ss[-3:-1])\n",
    "print(ss[3:])"
   ]
  },
  {
   "cell_type": "code",
   "execution_count": 18,
   "id": "cdd0d874-bee3-4948-a521-9053bde9e42f",
   "metadata": {},
   "outputs": [
    {
     "name": "stdout",
     "output_type": "stream",
     "text": [
      "HanbitNetwork\n",
      "HanbitHanbit\n"
     ]
    }
   ],
   "source": [
    "#3\n",
    "str1='Hanbit'\n",
    "str2='Network'\n",
    "print(str1+str2)\n",
    "print(2*str1)\n",
    "#print(str1*str2)\n",
    "#print(str1/str2)\n",
    "#print(str1-str2)"
   ]
  },
  {
   "cell_type": "code",
   "execution_count": 10,
   "id": "0ab64f38-9cf5-4e84-b2c1-2f8e5246c295",
   "metadata": {},
   "outputs": [
    {
     "name": "stdout",
     "output_type": "stream",
     "text": [
      "원본 내용 --> IT_CookBook_Python\n",
      "변경 내용 --> n#h#y#_#o#B#o#C#T#\n"
     ]
    }
   ],
   "source": [
    "#4\n",
    "inStr ='IT_CookBook_Python'\n",
    "outStr =''\n",
    "\n",
    "for i in range(0,len(inStr)):\n",
    "    if i%2==0:\n",
    "        outStr+=inStr[len(a)-i-1]\n",
    "    else:\n",
    "        outStr+='#'\n",
    "        \n",
    "print('원본 내용 -->',inStr)\n",
    "print('변경 내용 -->',outStr)\n",
    "               "
   ]
  },
  {
   "cell_type": "code",
   "execution_count": 24,
   "id": "8fd5be93-ad2d-4e80-99a9-538691eaecff",
   "metadata": {},
   "outputs": [
    {
     "name": "stdout",
     "output_type": "stream",
     "text": [
      "P$y$t$o$n$"
     ]
    }
   ],
   "source": [
    "#5\n",
    "ss = 'Pyton'\n",
    "for i in range(0,len(ss)):\n",
    "    print(ss[i]+'$',end='')"
   ]
  },
  {
   "cell_type": "code",
   "execution_count": null,
   "id": "9047c9c2-1213-4f32-9cb4-585629f877e4",
   "metadata": {},
   "outputs": [],
   "source": [
    "#6\n",
    "#6-1 : title()\n",
    "#6-2 : upper()\n",
    "#6-3 : swapcase()\n",
    "#6-4 : lower()"
   ]
  },
  {
   "cell_type": "code",
   "execution_count": 28,
   "id": "d3945b7c-8fc1-4c35-9af7-caa3f9fcd5d1",
   "metadata": {},
   "outputs": [
    {
     "name": "stdout",
     "output_type": "stream",
     "text": [
      "3\n",
      "22\n",
      "True\n",
      "7\n"
     ]
    }
   ],
   "source": [
    "#7\n",
    "str1 = '코딩 중에서 파이썬 코딩이 가장 즐거운 코딩'\n",
    "print(str1.count('코딩')) #3\n",
    "print(str1.rfind('코딩')) #\n",
    "print(str1.startswith('코딩'))\n",
    "print(str1.find('파이썬'))\n",
    "\n",
    "      "
   ]
  },
  {
   "cell_type": "code",
   "execution_count": 32,
   "id": "6a92b8e9-4ce2-42f8-8071-0618be2c1ac3",
   "metadata": {},
   "outputs": [
    {
     "name": "stdout",
     "output_type": "stream",
     "text": [
      "Python Python\n",
      "파이썬 파이썬\n"
     ]
    }
   ],
   "source": [
    "#8\n",
    "ss='Python 파이썬'\n",
    "#ss.change('파이썬','Python')\n",
    "ss='Python 파이썬'\n",
    "print(ss.replace('파이썬','Python'))\n",
    "ss='Python 파이썬'\n",
    "#print(ss.change('Python','파이썬'))\n",
    "ss='Python 파이썬'\n",
    "print(ss.replace('Python','파이썬'))"
   ]
  },
  {
   "cell_type": "code",
   "execution_count": 35,
   "id": "c74005e8-f862-47a5-9649-0b6c68300735",
   "metadata": {},
   "outputs": [
    {
     "name": "stdout",
     "output_type": "stream",
     "text": [
      "내용을 거꾸로 출력 --> nohtyp\n"
     ]
    }
   ],
   "source": [
    "#9\n",
    "inStr, outStr = \"python\",\"\"\n",
    "strLen=(len(inStr))\n",
    "\n",
    "for i in range(0,strLen):\n",
    "    outStr+=inStr[strLen-i-1]\n",
    "print(\"내용을 거꾸로 출력 --> %s\"%outStr)"
   ]
  },
  {
   "cell_type": "code",
   "execution_count": 38,
   "id": "c236bba3-7716-4844-a81e-9ce3ce031bd6",
   "metadata": {},
   "outputs": [
    {
     "data": {
      "text/plain": [
       "'I#T#_#C#o#o#k#B#o#o#k'"
      ]
     },
     "execution_count": 38,
     "metadata": {},
     "output_type": "execute_result"
    }
   ],
   "source": [
    "#10\n",
    "ss =\"IT_CookBook\"\n",
    "'#'.join(ss)"
   ]
  },
  {
   "cell_type": "code",
   "execution_count": 3,
   "id": "709f4ad2-a23c-4e83-8eb4-e5b44791969c",
   "metadata": {},
   "outputs": [
    {
     "name": "stdin",
     "output_type": "stream",
     "text": [
      " 파이썬 ### CookBook $$$ @@@ 열공중 1234\n"
     ]
    },
    {
     "name": "stdout",
     "output_type": "stream",
     "text": [
      "파이썬CookBook열공중\n"
     ]
    }
   ],
   "source": [
    "# 11\n",
    "n = input()\n",
    "a =''\n",
    "for i in range(len(n)):\n",
    "    if n[i].isalpha() ==True:\n",
    "        a+=n[i]\n",
    "print(a)"
   ]
  },
  {
   "cell_type": "code",
   "execution_count": 19,
   "id": "cc3a15e4-d75c-4867-8b93-c9ca06e02914",
   "metadata": {},
   "outputs": [
    {
     "name": "stdin",
     "output_type": "stream",
     "text": [
      "문자열을 입력하세요 :  IT CookBook 파이썬을 365일 공부하고 있습니다. ^__^\n"
     ]
    },
    {
     "name": "stdout",
     "output_type": "stream",
     "text": [
      "대문자 : ITCB\n",
      "소문자 : ookook\n",
      "숫자 : 365\n",
      "한글 : 파이썬을일공부하고있습니다\n",
      "기타 :      . ^__^\n"
     ]
    }
   ],
   "source": [
    "# 12 \n",
    "n = input('문자열을 입력하세요 : ')\n",
    "a=''\n",
    "b=''\n",
    "c=''\n",
    "d=''\n",
    "e=''\n",
    "for i in range(len(n)):\n",
    "    if n[i].isdigit()==True:\n",
    "        c+=n[i]\n",
    "    elif n[i].isupper()==True:\n",
    "        a+=n[i]\n",
    "    elif n[i].islower()==True:\n",
    "        b+=n[i]\n",
    "    elif n[i].isalnum()==True:\n",
    "        d+=n[i]\n",
    "    else:\n",
    "        e+=n[i]\n",
    "print(f\"대문자 : {a}\\n소문자 : {b}\\n숫자 : {c}\\n한글 : {d}\\n기타 : {e}\")"
   ]
  },
  {
   "cell_type": "code",
   "execution_count": 25,
   "id": "f3d68d03-3afe-45c6-9367-8dba8bde9d83",
   "metadata": {},
   "outputs": [
    {
     "name": "stdin",
     "output_type": "stream",
     "text": [
      "문자열을 입력하세요 :  IT CookBook 파이썬을 365일 공부하고 있습니다. ^__^\n"
     ]
    },
    {
     "name": "stdout",
     "output_type": "stream",
     "text": [
      "대문자 : ITCB\n",
      "소문자 : ookook\n",
      "숫자 : 365\n",
      "한글 : 파이썬을일공부하고있습니다\n",
      "기타 :      . ^__^\n"
     ]
    }
   ],
   "source": [
    "# 12 -2\n",
    "n = input('문자열을 입력하세요 : ')\n",
    "a=''\n",
    "b=''\n",
    "c=''\n",
    "d=''\n",
    "e=''\n",
    "for i in range(len(n)):\n",
    "    if ord(n[i])>=ord(\"A\") and ord(n[i])<=ord(\"Z\"):\n",
    "        a+=n[i]\n",
    "    elif ord(n[i])>=ord(\"a\") and ord(n[i])<=ord(\"z\"):\n",
    "        b+=n[i]\n",
    "    elif ord(n[i])>=ord(\"0\") and ord(n[i])<=ord(\"9\"):\n",
    "        c+=n[i]\n",
    "    elif ord(n[i])>=ord(\"가\") and ord(n[i])<=ord(\"힣\"):\n",
    "        d+=n[i]\n",
    "    else:\n",
    "        e+=n[i]\n",
    "print(f\"대문자 : {a}\\n소문자 : {b}\\n숫자 : {c}\\n한글 : {d}\\n기타 : {e}\")"
   ]
  },
  {
   "cell_type": "code",
   "execution_count": null,
   "id": "7936ca97-b6a9-4b85-855f-f67cd81ff210",
   "metadata": {},
   "outputs": [],
   "source": []
  }
 ],
 "metadata": {
  "kernelspec": {
   "display_name": "Python 3 (ipykernel)",
   "language": "python",
   "name": "python3"
  },
  "language_info": {
   "codemirror_mode": {
    "name": "ipython",
    "version": 3
   },
   "file_extension": ".py",
   "mimetype": "text/x-python",
   "name": "python",
   "nbconvert_exporter": "python",
   "pygments_lexer": "ipython3",
   "version": "3.9.7"
  }
 },
 "nbformat": 4,
 "nbformat_minor": 5
}
