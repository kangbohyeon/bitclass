{
  "nbformat": 4,
  "nbformat_minor": 0,
  "metadata": {
    "colab": {
      "name": "numpy.ipynb",
      "provenance": [],
      "collapsed_sections": []
    },
    "kernelspec": {
      "name": "python3",
      "display_name": "Python 3"
    },
    "language_info": {
      "name": "python"
    }
  },
  "cells": [
    {
      "cell_type": "markdown",
      "source": [
        "# Numpy 라이브러리\n",
        "메뉴얼 사이트 : https://numpy.org"
      ],
      "metadata": {
        "id": "uYVOu33jIijh"
      }
    },
    {
      "cell_type": "code",
      "source": [
        "import numpy as np"
      ],
      "metadata": {
        "id": "Z2Dw-ct2JmnI"
      },
      "execution_count": 3,
      "outputs": []
    },
    {
      "cell_type": "code",
      "source": [
        "ls = [1,2,5,6,7]\n",
        "arr = np.array(ls)\n",
        "print(arr)"
      ],
      "metadata": {
        "id": "EHGwdg_0IXyW",
        "colab": {
          "base_uri": "https://localhost:8080/"
        },
        "outputId": "c85175df-5b83-4b59-926e-0ed72917e021"
      },
      "execution_count": 5,
      "outputs": [
        {
          "output_type": "stream",
          "name": "stdout",
          "text": [
            "[1 2 5 6 7]\n"
          ]
        }
      ]
    },
    {
      "cell_type": "code",
      "source": [
        "ls2 = [1,'a',2,3]\n",
        "arr2 = np.array(ls2)\n",
        "print(type(ls[0]),type(ls[1]),type(ls2[2]))\n",
        "print(type(arr2[0]),type(arr2[1]),type(arr2[2]))\n",
        "print(arr2)"
      ],
      "metadata": {
        "id": "Q3mInccaIad4",
        "colab": {
          "base_uri": "https://localhost:8080/"
        },
        "outputId": "714730d0-a5ef-4e57-adf3-ac1e31bbb271"
      },
      "execution_count": 14,
      "outputs": [
        {
          "output_type": "stream",
          "name": "stdout",
          "text": [
            "<class 'int'> <class 'int'> <class 'int'>\n",
            "<class 'numpy.str_'> <class 'numpy.str_'> <class 'numpy.str_'>\n",
            "['1' 'a' '2' '3']\n"
          ]
        }
      ]
    },
    {
      "cell_type": "code",
      "source": [
        "ls3 = [[1,2,3],[2,3],[4,5,6,7]]\n",
        "#arr3 = np.array(ls3) #numpy의 배령은 원소 형식이 같아야 한다.\n",
        "arr3 =np.array([[1,2],[3,4],[5,6]])\n",
        "print(arr3)"
      ],
      "metadata": {
        "colab": {
          "base_uri": "https://localhost:8080/"
        },
        "id": "L0Vjk0yMJ894",
        "outputId": "761c4485-2f01-4548-b45c-bf18c66a4361"
      },
      "execution_count": 19,
      "outputs": [
        {
          "output_type": "stream",
          "name": "stdout",
          "text": [
            "[[1 2]\n",
            " [3 4]\n",
            " [5 6]]\n"
          ]
        }
      ]
    },
    {
      "cell_type": "code",
      "source": [
        "ls4=list(range(10))\n",
        "arr4=np.arange(10)\n",
        "print(arr4)"
      ],
      "metadata": {
        "colab": {
          "base_uri": "https://localhost:8080/"
        },
        "id": "M0SNmrOwK5x_",
        "outputId": "e775b651-3a5e-4345-c9ab-0cef9ec5f20d"
      },
      "execution_count": 23,
      "outputs": [
        {
          "output_type": "stream",
          "name": "stdout",
          "text": [
            "[0 1 2 3 4 5 6 7 8 9]\n"
          ]
        }
      ]
    },
    {
      "cell_type": "code",
      "source": [
        "ls5=ls4*2 # numpy 배열은 행렬 연산을 제공한다.\n",
        "arr5=arr4*2\n",
        "print(ls5)\n",
        "print('-------------')\n",
        "print(arr5)"
      ],
      "metadata": {
        "colab": {
          "base_uri": "https://localhost:8080/"
        },
        "id": "a429eaZrL1y4",
        "outputId": "a566dd14-9e16-4efa-8811-2276503febd0"
      },
      "execution_count": 25,
      "outputs": [
        {
          "output_type": "stream",
          "name": "stdout",
          "text": [
            "[0, 1, 2, 3, 4, 5, 6, 7, 8, 9, 0, 1, 2, 3, 4, 5, 6, 7, 8, 9]\n",
            "-------------\n",
            "[ 0  2  4  6  8 10 12 14 16 18]\n"
          ]
        }
      ]
    },
    {
      "cell_type": "markdown",
      "source": [
        "# 다차원 배열"
      ],
      "metadata": {
        "id": "ZfSFOSHGNFy4"
      }
    },
    {
      "cell_type": "code",
      "source": [
        " arr = np.array([1,2,3])\n",
        " arr.shape"
      ],
      "metadata": {
        "colab": {
          "base_uri": "https://localhost:8080/"
        },
        "id": "QVQPXr4CNHJg",
        "outputId": "5dab3d76-e6cb-4e97-d0f6-6a61aa6db14e"
      },
      "execution_count": 26,
      "outputs": [
        {
          "output_type": "execute_result",
          "data": {
            "text/plain": [
              "(3,)"
            ]
          },
          "metadata": {},
          "execution_count": 26
        }
      ]
    },
    {
      "cell_type": "code",
      "source": [
        "arr2 = np.array([[1,2,3],[4,5,6]])\n",
        "arr2.shape"
      ],
      "metadata": {
        "colab": {
          "base_uri": "https://localhost:8080/"
        },
        "id": "6L8yRzFoNKWf",
        "outputId": "3cf88096-84c3-4b36-e872-c3412ae844fe"
      },
      "execution_count": 28,
      "outputs": [
        {
          "output_type": "execute_result",
          "data": {
            "text/plain": [
              "(2, 3)"
            ]
          },
          "metadata": {},
          "execution_count": 28
        }
      ]
    },
    {
      "cell_type": "code",
      "source": [
        "arr3=np.random.randn(2,3)\n",
        "print(arr3.shape)\n",
        "print(arr3)"
      ],
      "metadata": {
        "colab": {
          "base_uri": "https://localhost:8080/"
        },
        "id": "1EhmWHBYNQPn",
        "outputId": "6bba7459-9406-4d82-898a-43bf4cee8f24"
      },
      "execution_count": 29,
      "outputs": [
        {
          "output_type": "stream",
          "name": "stdout",
          "text": [
            "(2, 3)\n",
            "[[-1.40105623  0.67045693  0.31490356]\n",
            " [-0.20168715  0.09458088 -1.09031306]]\n"
          ]
        }
      ]
    },
    {
      "cell_type": "code",
      "source": [
        "arr1=np.array([[1,2],[3,4]])\n",
        "arr2=np.array([[5,2],[1,3]])\n",
        "arr3=arr1+arr2\n",
        "print(arr3)"
      ],
      "metadata": {
        "colab": {
          "base_uri": "https://localhost:8080/"
        },
        "id": "OMIA23TVNwqf",
        "outputId": "5614fb24-f41f-49bb-8c0c-515628b6cf33"
      },
      "execution_count": 30,
      "outputs": [
        {
          "output_type": "stream",
          "name": "stdout",
          "text": [
            "[[6 4]\n",
            " [4 7]]\n"
          ]
        }
      ]
    },
    {
      "cell_type": "code",
      "source": [
        "arr = np.array([1,2,'a',3.23])\n",
        "arr.dtype"
      ],
      "metadata": {
        "colab": {
          "base_uri": "https://localhost:8080/"
        },
        "id": "ms0AqG8kOV8s",
        "outputId": "6c28e1e4-956b-4c89-a19d-ca1decb8a343"
      },
      "execution_count": 31,
      "outputs": [
        {
          "output_type": "execute_result",
          "data": {
            "text/plain": [
              "dtype('<U32')"
            ]
          },
          "metadata": {},
          "execution_count": 31
        }
      ]
    },
    {
      "cell_type": "code",
      "source": [
        "arr = np.array([1,2,3,4])\n",
        "arr.dtype"
      ],
      "metadata": {
        "colab": {
          "base_uri": "https://localhost:8080/"
        },
        "id": "T-wKN9SFOdxE",
        "outputId": "020a1d9d-3f0c-4e20-bce8-c61b57504883"
      },
      "execution_count": 32,
      "outputs": [
        {
          "output_type": "execute_result",
          "data": {
            "text/plain": [
              "dtype('int64')"
            ]
          },
          "metadata": {},
          "execution_count": 32
        }
      ]
    },
    {
      "cell_type": "code",
      "source": [
        "arr = np.array([1,2,3,4.0])\n",
        "arr.dtype"
      ],
      "metadata": {
        "colab": {
          "base_uri": "https://localhost:8080/"
        },
        "id": "vVJku1lpOqYf",
        "outputId": "856049d2-357c-4e5b-d8b3-8941c2e59695"
      },
      "execution_count": 33,
      "outputs": [
        {
          "output_type": "execute_result",
          "data": {
            "text/plain": [
              "dtype('float64')"
            ]
          },
          "metadata": {},
          "execution_count": 33
        }
      ]
    },
    {
      "cell_type": "code",
      "source": [
        "arr=np.array([1,'a',2,3])\n",
        "print(type(arr[0]),type(arr[1]),type(arr[2]))\n",
        "print(arr.dtype)"
      ],
      "metadata": {
        "colab": {
          "base_uri": "https://localhost:8080/"
        },
        "id": "Z3PRtgh1Ot6P",
        "outputId": "e288097c-0431-4bbd-ea50-dc4d619caf50"
      },
      "execution_count": 36,
      "outputs": [
        {
          "output_type": "stream",
          "name": "stdout",
          "text": [
            "<class 'numpy.str_'> <class 'numpy.str_'> <class 'numpy.str_'>\n",
            "<U21\n"
          ]
        }
      ]
    },
    {
      "cell_type": "markdown",
      "source": [
        "#  배열 생성"
      ],
      "metadata": {
        "id": "cOGxbGZZPsTZ"
      }
    },
    {
      "cell_type": "code",
      "source": [
        "arr=np.array([1,2,3])#리스트를 입력 인자로 배열 개체 생성\n",
        "print(arr)\n"
      ],
      "metadata": {
        "colab": {
          "base_uri": "https://localhost:8080/"
        },
        "id": "QYpKdWanPuHX",
        "outputId": "d6100cb5-7ecd-45dd-aca4-148a8954c78f"
      },
      "execution_count": 37,
      "outputs": [
        {
          "output_type": "stream",
          "name": "stdout",
          "text": [
            "[1 2 3]\n"
          ]
        }
      ]
    },
    {
      "cell_type": "code",
      "source": [
        "arr2=np.array([[1,2,3],[4,5,6]])#리스트를 입력 인자로 배열 개체 생성(다차원 배열)\n",
        "print(arr2)"
      ],
      "metadata": {
        "colab": {
          "base_uri": "https://localhost:8080/"
        },
        "id": "856pLpfqP2lf",
        "outputId": "784b6075-9293-456f-d635-a0cfab2921b7"
      },
      "execution_count": 38,
      "outputs": [
        {
          "output_type": "stream",
          "name": "stdout",
          "text": [
            "[[1 2 3]\n",
            " [4 5 6]]\n"
          ]
        }
      ]
    },
    {
      "cell_type": "code",
      "source": [
        "print(\"차원 : \", arr2.ndim)\n",
        "print(\"구조 : \", arr2.shape)"
      ],
      "metadata": {
        "colab": {
          "base_uri": "https://localhost:8080/"
        },
        "id": "1PA8Y4y7P_WH",
        "outputId": "9ef2ccdf-a47a-4348-9da6-e46ef42530be"
      },
      "execution_count": 39,
      "outputs": [
        {
          "output_type": "stream",
          "name": "stdout",
          "text": [
            "차원 :  2\n",
            "구조 :  (2, 3)\n"
          ]
        }
      ]
    },
    {
      "cell_type": "code",
      "source": [
        "arr3 = np.zeros(10) #0을 원소로 하는 배열\n",
        "print(arr3)"
      ],
      "metadata": {
        "colab": {
          "base_uri": "https://localhost:8080/"
        },
        "id": "V90Tzv7_QFNo",
        "outputId": "e5d1a910-1245-43b8-85a2-ba9e26faf94d"
      },
      "execution_count": 40,
      "outputs": [
        {
          "output_type": "stream",
          "name": "stdout",
          "text": [
            "[0. 0. 0. 0. 0. 0. 0. 0. 0. 0.]\n"
          ]
        }
      ]
    },
    {
      "cell_type": "code",
      "source": [
        "arr4 = np.zeros((4,5))#0을 원소로 4*5 구조의 배열 생성\n",
        "print(arr4)"
      ],
      "metadata": {
        "colab": {
          "base_uri": "https://localhost:8080/"
        },
        "id": "T3Kyr8N-Qqvw",
        "outputId": "03e25f32-8238-42cc-b425-abfd82049856"
      },
      "execution_count": 41,
      "outputs": [
        {
          "output_type": "stream",
          "name": "stdout",
          "text": [
            "[[0. 0. 0. 0. 0.]\n",
            " [0. 0. 0. 0. 0.]\n",
            " [0. 0. 0. 0. 0.]\n",
            " [0. 0. 0. 0. 0.]]\n"
          ]
        }
      ]
    },
    {
      "cell_type": "code",
      "source": [
        "arr5=np.ones(10)  #0을 모든원소로 하는배열 \n",
        "print(arr5)\n",
        "arr6=np.ones((2,3))\n",
        "print(arr6)"
      ],
      "metadata": {
        "colab": {
          "base_uri": "https://localhost:8080/"
        },
        "id": "RC_l2sdkQw1P",
        "outputId": "8ccc3e3c-5f05-4b24-f30a-f1af6079f5b4"
      },
      "execution_count": 44,
      "outputs": [
        {
          "output_type": "stream",
          "name": "stdout",
          "text": [
            "[1. 1. 1. 1. 1. 1. 1. 1. 1. 1.]\n",
            "[[1. 1. 1.]\n",
            " [1. 1. 1.]]\n"
          ]
        }
      ]
    },
    {
      "cell_type": "code",
      "source": [
        "arr7=np.arange(5,100,3)\n",
        "print(arr7)"
      ],
      "metadata": {
        "colab": {
          "base_uri": "https://localhost:8080/"
        },
        "id": "izD_vN1qRwvY",
        "outputId": "5be894a8-73db-4776-ad4d-4aa2bef23e71"
      },
      "execution_count": 45,
      "outputs": [
        {
          "output_type": "stream",
          "name": "stdout",
          "text": [
            "[ 5  8 11 14 17 20 23 26 29 32 35 38 41 44 47 50 53 56 59 62 65 68 71 74\n",
            " 77 80 83 86 89 92 95 98]\n"
          ]
        }
      ]
    },
    {
      "cell_type": "markdown",
      "source": [
        "# 원소 타입"
      ],
      "metadata": {
        "id": "vu7sqbqXWaYH"
      }
    },
    {
      "cell_type": "code",
      "source": [
        "arr=np.array([1,2,3])\n",
        "print(arr.dtype)"
      ],
      "metadata": {
        "colab": {
          "base_uri": "https://localhost:8080/"
        },
        "id": "KuxMSJ5jWb0N",
        "outputId": "6a2c68b7-d26c-4625-a721-39c2a35ec0c7"
      },
      "execution_count": 48,
      "outputs": [
        {
          "output_type": "stream",
          "name": "stdout",
          "text": [
            "int64\n"
          ]
        }
      ]
    },
    {
      "cell_type": "code",
      "source": [
        "arr3 = np.array([1,2,3,4],dtype=np.float64)\n",
        "print(arr3.dtype)"
      ],
      "metadata": {
        "colab": {
          "base_uri": "https://localhost:8080/"
        },
        "id": "n85qbx-RWegO",
        "outputId": "881412d5-4f09-4b8d-afd5-e1f21ff3ad65"
      },
      "execution_count": 50,
      "outputs": [
        {
          "output_type": "stream",
          "name": "stdout",
          "text": [
            "float64\n"
          ]
        }
      ]
    },
    {
      "cell_type": "code",
      "source": [
        "arr3 = np.array([1,2,3,4],dtype=np.float64)\n",
        "print(arr3)\n",
        "arr4 = arr3.astype(int)\n",
        "print(arr3)\n",
        "print(arr4)"
      ],
      "metadata": {
        "colab": {
          "base_uri": "https://localhost:8080/"
        },
        "id": "BaTCmmurW5x9",
        "outputId": "86282100-38b2-4cff-fe4f-507f2c305c8d"
      },
      "execution_count": 52,
      "outputs": [
        {
          "output_type": "stream",
          "name": "stdout",
          "text": [
            "[1. 2. 3. 4.]\n",
            "[1. 2. 3. 4.]\n",
            "[1 2 3 4]\n"
          ]
        }
      ]
    },
    {
      "cell_type": "markdown",
      "source": [
        "#산술 연산"
      ],
      "metadata": {
        "id": "xuCxqnx9XhqX"
      }
    },
    {
      "cell_type": "code",
      "source": [
        "arr1 = np.array([[1,2,3],[3,4,5]])\n",
        "arr2 = np.array([[2,1,0],[1,2,3]])\n",
        "print(\"arr1\\n\",arr1)\n",
        "print(\"arr2\\n\",arr2)"
      ],
      "metadata": {
        "colab": {
          "base_uri": "https://localhost:8080/"
        },
        "id": "CYe3d4xnXjDX",
        "outputId": "e4b2ebb9-b866-45a1-f705-18287ee0d9bd"
      },
      "execution_count": 54,
      "outputs": [
        {
          "output_type": "stream",
          "name": "stdout",
          "text": [
            "arr1\n",
            " [[1 2 3]\n",
            " [3 4 5]]\n",
            "arr2\n",
            " [[2 1 0]\n",
            " [1 2 3]]\n"
          ]
        }
      ]
    },
    {
      "cell_type": "code",
      "source": [
        "arr3 = arr1 + arr2\n",
        "print(\"arr1+arr2\\n\",arr3)"
      ],
      "metadata": {
        "colab": {
          "base_uri": "https://localhost:8080/"
        },
        "id": "AvcFd8cUXxql",
        "outputId": "1d8dc763-cf06-4596-da73-904d8c1e06fc"
      },
      "execution_count": 55,
      "outputs": [
        {
          "output_type": "stream",
          "name": "stdout",
          "text": [
            "arr1+arr2\n",
            " [[3 3 3]\n",
            " [4 6 8]]\n"
          ]
        }
      ]
    },
    {
      "cell_type": "code",
      "source": [
        "arr4 = arr1 - arr2\n",
        "print(\"arr1-arr2\\n\",arr4)"
      ],
      "metadata": {
        "colab": {
          "base_uri": "https://localhost:8080/"
        },
        "id": "xN4NvJOOX72k",
        "outputId": "c2177322-7c3b-4fca-ebd7-e42b0ef42442"
      },
      "execution_count": 56,
      "outputs": [
        {
          "output_type": "stream",
          "name": "stdout",
          "text": [
            "arr1-arr2\n",
            " [[-1  1  3]\n",
            " [ 2  2  2]]\n"
          ]
        }
      ]
    },
    {
      "cell_type": "code",
      "source": [
        "arr5 = arr1 * arr2\n",
        "print(\"arr1+arr2\\n\",arr5)"
      ],
      "metadata": {
        "colab": {
          "base_uri": "https://localhost:8080/"
        },
        "id": "drudrZ6iYFO-",
        "outputId": "85d81818-7c82-42bc-c161-332a568c61f8"
      },
      "execution_count": 57,
      "outputs": [
        {
          "output_type": "stream",
          "name": "stdout",
          "text": [
            "arr1+arr2\n",
            " [[ 2  2  0]\n",
            " [ 3  8 15]]\n"
          ]
        }
      ]
    },
    {
      "cell_type": "code",
      "source": [
        "#arr6 = np.dot(arr1,arr2) 내적은 앞쪽 행렬의 열과 뒤쪽 행렬의 행의 크기가 같아야 한다\n",
        "print(arr6)"
      ],
      "metadata": {
        "colab": {
          "base_uri": "https://localhost:8080/",
          "height": 229
        },
        "id": "T226vLojYItF",
        "outputId": "212268a5-4f7a-4362-b604-6be0281ec6d4"
      },
      "execution_count": 58,
      "outputs": [
        {
          "output_type": "error",
          "ename": "ValueError",
          "evalue": "ignored",
          "traceback": [
            "\u001b[0;31m---------------------------------------------------------------------------\u001b[0m",
            "\u001b[0;31mValueError\u001b[0m                                Traceback (most recent call last)",
            "\u001b[0;32m<ipython-input-58-0df2f8b7ea11>\u001b[0m in \u001b[0;36m<module>\u001b[0;34m()\u001b[0m\n\u001b[0;32m----> 1\u001b[0;31m \u001b[0marr6\u001b[0m \u001b[0;34m=\u001b[0m \u001b[0mnp\u001b[0m\u001b[0;34m.\u001b[0m\u001b[0mdot\u001b[0m\u001b[0;34m(\u001b[0m\u001b[0marr1\u001b[0m\u001b[0;34m,\u001b[0m\u001b[0marr2\u001b[0m\u001b[0;34m)\u001b[0m\u001b[0;34m\u001b[0m\u001b[0;34m\u001b[0m\u001b[0m\n\u001b[0m\u001b[1;32m      2\u001b[0m \u001b[0mprint\u001b[0m\u001b[0;34m(\u001b[0m\u001b[0marr6\u001b[0m\u001b[0;34m)\u001b[0m\u001b[0;34m\u001b[0m\u001b[0;34m\u001b[0m\u001b[0m\n",
            "\u001b[0;32m<__array_function__ internals>\u001b[0m in \u001b[0;36mdot\u001b[0;34m(*args, **kwargs)\u001b[0m\n",
            "\u001b[0;31mValueError\u001b[0m: shapes (2,3) and (2,3) not aligned: 3 (dim 1) != 2 (dim 0)"
          ]
        }
      ]
    },
    {
      "cell_type": "code",
      "source": [
        "arr7 = arr1/3.0\n",
        "print(\"arr1/3.0\\n\",arr7)"
      ],
      "metadata": {
        "colab": {
          "base_uri": "https://localhost:8080/"
        },
        "id": "hI-THxZvYyE0",
        "outputId": "c3a612d9-c9b0-4025-d4a8-4f7dcf390294"
      },
      "execution_count": 59,
      "outputs": [
        {
          "output_type": "stream",
          "name": "stdout",
          "text": [
            "arr1/3.0\n",
            " [[0.33333333 0.66666667 1.        ]\n",
            " [1.         1.33333333 1.66666667]]\n"
          ]
        }
      ]
    },
    {
      "cell_type": "code",
      "source": [
        "arr8 = arr1*3.0\n",
        "print(\"arr1*3.0\\n\",arr8)"
      ],
      "metadata": {
        "colab": {
          "base_uri": "https://localhost:8080/"
        },
        "id": "1QgvHdN9ZI-v",
        "outputId": "166ffb26-5253-4db2-bada-9621d0c94217"
      },
      "execution_count": 61,
      "outputs": [
        {
          "output_type": "stream",
          "name": "stdout",
          "text": [
            "arr1*3.0\n",
            " [[ 3.  6.  9.]\n",
            " [ 9. 12. 15.]]\n"
          ]
        }
      ]
    },
    {
      "cell_type": "markdown",
      "source": [
        "# 간단한 활용 예"
      ],
      "metadata": {
        "id": "RoCgF8tMZRqc"
      }
    },
    {
      "cell_type": "code",
      "source": [
        "heights = np.random.normal(172.5,scale=5,size=1000)\n",
        "print(sum(heights/len(heights)))"
      ],
      "metadata": {
        "colab": {
          "base_uri": "https://localhost:8080/"
        },
        "id": "wN8MCwbhZNSN",
        "outputId": "d1da4b70-3cfb-4133-d019-8eb1b323844b"
      },
      "execution_count": 63,
      "outputs": [
        {
          "output_type": "stream",
          "name": "stdout",
          "text": [
            "172.42705777009903\n"
          ]
        }
      ]
    },
    {
      "cell_type": "code",
      "source": [
        "from matplotlib import pyplot as plt\n",
        "plt.plot(heights)\n",
        "plt.show()"
      ],
      "metadata": {
        "colab": {
          "base_uri": "https://localhost:8080/",
          "height": 266
        },
        "id": "OAnj2nb-ZsW1",
        "outputId": "0e1e4cf9-f764-498c-f1ce-61f19532df3e"
      },
      "execution_count": 68,
      "outputs": [
        {
          "output_type": "display_data",
          "data": {
            "text/plain": [
              "<Figure size 432x288 with 1 Axes>"
            ],
            "image/png": "[encoded data removed]"
          },
          "metadata": {
            "needs_background": "light"
          }
        }
      ]
    },
    {
      "cell_type": "code",
      "source": [
        "plt.hist(heights,bins=50)\n",
        "plt.show()"
      ],
      "metadata": {
        "colab": {
          "base_uri": "https://localhost:8080/",
          "height": 265
        },
        "id": "Dg0innmKbnpI",
        "outputId": "fdced48a-6a5a-4147-cf16-8402d5f8a306"
      },
      "execution_count": 96,
      "outputs": [
        {
          "output_type": "display_data",
          "data": {
            "text/plain": [
              "<Figure size 432x288 with 1 Axes>"
            ],
            "image/png": "[encoded data removed]"
          },
          "metadata": {
            "needs_background": "light"
          }
        }
      ]
    },
    {
      "cell_type": "code",
      "source": [
        "bins = np.zeros(45)\n",
        "for height in heights :\n",
        "  index = int(height)- 150\n",
        "  bins[index]=bins[index]+1\n",
        "print(bins)"
      ],
      "metadata": {
        "colab": {
          "base_uri": "https://localhost:8080/"
        },
        "id": "DNnhwyj5aQEd",
        "outputId": "7527abdd-1403-43d8-bda0-08e4c46feee6"
      },
      "execution_count": 70,
      "outputs": [
        {
          "output_type": "stream",
          "name": "stdout",
          "text": [
            "[ 0.  0.  0.  0.  0.  0.  0.  1.  3.  4.  6.  7. 10. 20. 19. 35. 40. 58.\n",
            " 50. 77. 60. 70. 99. 63. 75. 77. 43. 44. 33. 27. 21. 15. 17. 14.  4.  5.\n",
            "  1.  0.  1.  1.  0.  0.  0.  0.  0.]\n"
          ]
        }
      ]
    },
    {
      "cell_type": "code",
      "source": [
        "plt.plot(bins,'.')\n",
        "plt.show()"
      ],
      "metadata": {
        "colab": {
          "base_uri": "https://localhost:8080/",
          "height": 265
        },
        "id": "0HGYlYUpbRYV",
        "outputId": "d83d92cb-393b-42de-e7d7-7ef952bb4051"
      },
      "execution_count": 71,
      "outputs": [
        {
          "output_type": "display_data",
          "data": {
            "text/plain": [
              "<Figure size 432x288 with 1 Axes>"
            ],
            "image/png": "[encoded data removed]"
          },
          "metadata": {
            "needs_background": "light"
          }
        }
      ]
    },
    {
      "cell_type": "code",
      "source": [
        "bmis = np.random.normal(22,scale=2,size=1000)\n",
        "print(sum(bmis/len(bmis)))"
      ],
      "metadata": {
        "colab": {
          "base_uri": "https://localhost:8080/"
        },
        "id": "vbX-8QLMbdq9",
        "outputId": "b5701291-a1ee-45a4-8524-fa20909386be"
      },
      "execution_count": 80,
      "outputs": [
        {
          "output_type": "stream",
          "name": "stdout",
          "text": [
            "21.9643841262356\n"
          ]
        }
      ]
    },
    {
      "cell_type": "code",
      "source": [
        "bins2=np.zeros(200)\n",
        "for bmi in bmis:\n",
        "  index=int(bmi*10)-120\n",
        "  bins2[index]=bins2[index]+1\n",
        "plt.plot(bins2,'.')\n",
        "plt.show()"
      ],
      "metadata": {
        "colab": {
          "base_uri": "https://localhost:8080/",
          "height": 265
        },
        "id": "GMmRHaCOcBzV",
        "outputId": "27144a50-991b-4a8b-be3e-8fbdcd6499fd"
      },
      "execution_count": 83,
      "outputs": [
        {
          "output_type": "display_data",
          "data": {
            "text/plain": [
              "<Figure size 432x288 with 1 Axes>"
            ],
            "image/png": "[encoded data removed]"
          },
          "metadata": {
            "needs_background": "light"
          }
        }
      ]
    },
    {
      "cell_type": "code",
      "source": [
        "plt.hist(bmis,bins=50)\n",
        "plt.show()"
      ],
      "metadata": {
        "colab": {
          "base_uri": "https://localhost:8080/",
          "height": 265
        },
        "id": "N4ZNE6rbkgVt",
        "outputId": "634762d7-91b7-4494-f79f-2d84d4ea8325"
      },
      "execution_count": 95,
      "outputs": [
        {
          "output_type": "display_data",
          "data": {
            "text/plain": [
              "<Figure size 432x288 with 1 Axes>"
            ],
            "image/png": "[encoded data removed]"
          },
          "metadata": {
            "needs_background": "light"
          }
        }
      ]
    },
    {
      "cell_type": "code",
      "source": [
        "weights = bmi * heights*heights/10000\n",
        "print(sum(weights)/len(weights))"
      ],
      "metadata": {
        "colab": {
          "base_uri": "https://localhost:8080/"
        },
        "id": "SkHjsKTgchTF",
        "outputId": "2c1fa483-71a4-426b-cc91-9c6461df2bf8"
      },
      "execution_count": 86,
      "outputs": [
        {
          "output_type": "stream",
          "name": "stdout",
          "text": [
            "68.78849296636052\n"
          ]
        }
      ]
    },
    {
      "cell_type": "code",
      "source": [
        "std_heights = np.std(heights)\n",
        "avg_heights = np.average(heights)\n",
        "print(\"표준 편차 : \",std_heights)\n",
        "print(\"평균 : \",avg_heights)"
      ],
      "metadata": {
        "colab": {
          "base_uri": "https://localhost:8080/"
        },
        "id": "XwPWyUoYdaM5",
        "outputId": "0c76a7f1-cc01-43c7-efb2-9648459cfab6"
      },
      "execution_count": 88,
      "outputs": [
        {
          "output_type": "stream",
          "name": "stdout",
          "text": [
            "표준 편차 :  5.191292932612577\n",
            "평균 :  172.42705777009903\n"
          ]
        }
      ]
    },
    {
      "cell_type": "code",
      "source": [
        "heights2 = (heights-avg_heights)/std_heights\n",
        "std_heights2 = np.std(heights2)\n",
        "avg_heights2 = np.average(heights2)\n",
        "print(\"표준 편차 : \",std_heights2)\n",
        "print(\"평균 : \",avg_heights2)"
      ],
      "metadata": {
        "colab": {
          "base_uri": "https://localhost:8080/"
        },
        "id": "i8Yk4POEeYZV",
        "outputId": "7c7bc4f2-916b-4ab7-d6f1-09c622de21d4"
      },
      "execution_count": 89,
      "outputs": [
        {
          "output_type": "stream",
          "name": "stdout",
          "text": [
            "표준 편차 :  1.0\n",
            "평균 :  3.0020430585864235e-16\n"
          ]
        }
      ]
    },
    {
      "cell_type": "markdown",
      "source": [
        "#슬라이스"
      ],
      "metadata": {
        "id": "C08YJX1wkah9"
      }
    },
    {
      "cell_type": "code",
      "source": [
        "arr = np.arange(1000)\n",
        "print(arr[0])"
      ],
      "metadata": {
        "colab": {
          "base_uri": "https://localhost:8080/"
        },
        "id": "XpRd_nhZez2C",
        "outputId": "625cbc21-1eb6-4984-d081-1d4d9d1915ae"
      },
      "execution_count": 98,
      "outputs": [
        {
          "output_type": "stream",
          "name": "stdout",
          "text": [
            "0\n"
          ]
        }
      ]
    },
    {
      "cell_type": "code",
      "source": [
        "arr[-2]"
      ],
      "metadata": {
        "colab": {
          "base_uri": "https://localhost:8080/"
        },
        "id": "-JV2lpOrlZNW",
        "outputId": "abc32633-84a4-491e-e56c-371fce2599c9"
      },
      "execution_count": 99,
      "outputs": [
        {
          "output_type": "execute_result",
          "data": {
            "text/plain": [
              "998"
            ]
          },
          "metadata": {},
          "execution_count": 99
        }
      ]
    },
    {
      "cell_type": "code",
      "source": [
        "arr2=arr[0:8]\n",
        "print(arr2)"
      ],
      "metadata": {
        "colab": {
          "base_uri": "https://localhost:8080/"
        },
        "id": "4rYTLOD8ldFF",
        "outputId": "8ac234a2-e151-4918-a0e8-b2bab347b786"
      },
      "execution_count": 101,
      "outputs": [
        {
          "output_type": "stream",
          "name": "stdout",
          "text": [
            "[0 1 2 3 4 5 6 7]\n"
          ]
        }
      ]
    },
    {
      "cell_type": "code",
      "source": [
        "arr[:5]"
      ],
      "metadata": {
        "colab": {
          "base_uri": "https://localhost:8080/"
        },
        "id": "qutJmuqalfw1",
        "outputId": "c3431611-76e3-4287-ad41-b343f26fbfb9"
      },
      "execution_count": 102,
      "outputs": [
        {
          "output_type": "execute_result",
          "data": {
            "text/plain": [
              "array([0, 1, 2, 3, 4])"
            ]
          },
          "metadata": {},
          "execution_count": 102
        }
      ]
    },
    {
      "cell_type": "code",
      "source": [
        "arr[980:]"
      ],
      "metadata": {
        "colab": {
          "base_uri": "https://localhost:8080/"
        },
        "id": "qBDpo8pOlnEd",
        "outputId": "33adc787-5e7a-4776-c54c-00709732bc88"
      },
      "execution_count": 103,
      "outputs": [
        {
          "output_type": "execute_result",
          "data": {
            "text/plain": [
              "array([980, 981, 982, 983, 984, 985, 986, 987, 988, 989, 990, 991, 992,\n",
              "       993, 994, 995, 996, 997, 998, 999])"
            ]
          },
          "metadata": {},
          "execution_count": 103
        }
      ]
    },
    {
      "cell_type": "code",
      "source": [
        "arr2 = np.array([[1,2,3],[4,5,6]])\n",
        "print(arr2[0])"
      ],
      "metadata": {
        "colab": {
          "base_uri": "https://localhost:8080/"
        },
        "id": "-HgIemq1lpuN",
        "outputId": "65edf001-9f7f-45aa-f6e8-980cb6410807"
      },
      "execution_count": 105,
      "outputs": [
        {
          "output_type": "stream",
          "name": "stdout",
          "text": [
            "[1 2 3]\n"
          ]
        }
      ]
    },
    {
      "cell_type": "code",
      "source": [
        "arr2[0][1]"
      ],
      "metadata": {
        "colab": {
          "base_uri": "https://localhost:8080/"
        },
        "id": "zfxwGC3jl2uu",
        "outputId": "12520bf5-aaca-48a5-fcdb-8904bf0e50ce"
      },
      "execution_count": 106,
      "outputs": [
        {
          "output_type": "execute_result",
          "data": {
            "text/plain": [
              "2"
            ]
          },
          "metadata": {},
          "execution_count": 106
        }
      ]
    },
    {
      "cell_type": "code",
      "source": [
        "arr2[:][1]"
      ],
      "metadata": {
        "colab": {
          "base_uri": "https://localhost:8080/"
        },
        "id": "z3fRK0nZl6h1",
        "outputId": "120b2923-3010-4630-cc74-80208d5ba867"
      },
      "execution_count": 107,
      "outputs": [
        {
          "output_type": "execute_result",
          "data": {
            "text/plain": [
              "array([4, 5, 6])"
            ]
          },
          "metadata": {},
          "execution_count": 107
        }
      ]
    },
    {
      "cell_type": "markdown",
      "source": [
        "# 필터 선택"
      ],
      "metadata": {
        "id": "pILYEj-mmKq2"
      }
    },
    {
      "cell_type": "code",
      "source": [
        "arr = np.array([1,3,2,5,4,8])\n",
        "print(arr)"
      ],
      "metadata": {
        "colab": {
          "base_uri": "https://localhost:8080/"
        },
        "id": "W00RY63RmBP2",
        "outputId": "d7dda084-4fc6-4b5c-dfed-a53416925950"
      },
      "execution_count": 108,
      "outputs": [
        {
          "output_type": "stream",
          "name": "stdout",
          "text": [
            "[1 3 2 5 4 8]\n"
          ]
        }
      ]
    },
    {
      "cell_type": "code",
      "source": [
        "filter = arr%2==0\n",
        "print(filter)"
      ],
      "metadata": {
        "colab": {
          "base_uri": "https://localhost:8080/"
        },
        "id": "pHprW9ghmQh-",
        "outputId": "3b7767d7-01a4-466f-c505-f7d458d3483e"
      },
      "execution_count": 109,
      "outputs": [
        {
          "output_type": "stream",
          "name": "stdout",
          "text": [
            "[False False  True False  True  True]\n"
          ]
        }
      ]
    },
    {
      "cell_type": "code",
      "source": [
        "even_arr = arr[filter]\n",
        "even_arr"
      ],
      "metadata": {
        "colab": {
          "base_uri": "https://localhost:8080/"
        },
        "id": "iXL9uEgvmWQW",
        "outputId": "2a4e9148-9293-48cb-c1d9-d414dd680a58"
      },
      "execution_count": 110,
      "outputs": [
        {
          "output_type": "execute_result",
          "data": {
            "text/plain": [
              "array([2, 4, 8])"
            ]
          },
          "metadata": {},
          "execution_count": 110
        }
      ]
    },
    {
      "cell_type": "markdown",
      "source": [
        "#구조 변경"
      ],
      "metadata": {
        "id": "S3cXpXQPm9k1"
      }
    },
    {
      "cell_type": "code",
      "source": [
        "arr = np.array(np.arange(7*2*5))\n",
        "print(arr)"
      ],
      "metadata": {
        "colab": {
          "base_uri": "https://localhost:8080/"
        },
        "id": "4EAyK6lMmfLm",
        "outputId": "71c529c8-254b-4880-c7d0-f5e569970760"
      },
      "execution_count": 120,
      "outputs": [
        {
          "output_type": "stream",
          "name": "stdout",
          "text": [
            "[ 0  1  2  3  4  5  6  7  8  9 10 11 12 13 14 15 16 17 18 19 20 21 22 23\n",
            " 24 25 26 27 28 29 30 31 32 33 34 35 36 37 38 39 40 41 42 43 44 45 46 47\n",
            " 48 49 50 51 52 53 54 55 56 57 58 59 60 61 62 63 64 65 66 67 68 69]\n"
          ]
        }
      ]
    },
    {
      "cell_type": "code",
      "source": [
        "print(arr.shape)"
      ],
      "metadata": {
        "colab": {
          "base_uri": "https://localhost:8080/"
        },
        "id": "J1EMTwHjnKB-",
        "outputId": "423ae25f-5f4e-48b9-fcbe-c1b61afcf0d9"
      },
      "execution_count": 121,
      "outputs": [
        {
          "output_type": "stream",
          "name": "stdout",
          "text": [
            "(70,)\n"
          ]
        }
      ]
    },
    {
      "cell_type": "code",
      "source": [
        "arr2 = arr.reshape((7,-1))\n",
        "print(arr2.shape)"
      ],
      "metadata": {
        "colab": {
          "base_uri": "https://localhost:8080/"
        },
        "id": "tR6pVV7enN5e",
        "outputId": "6b3afaae-d779-4523-9e2d-27e29f109e80"
      },
      "execution_count": 122,
      "outputs": [
        {
          "output_type": "stream",
          "name": "stdout",
          "text": [
            "(7, 10)\n"
          ]
        }
      ]
    },
    {
      "cell_type": "code",
      "source": [
        "arr3 = arr.reshape((7,-1,5))\n",
        "print(arr3.shape)\n",
        "print(arr3)"
      ],
      "metadata": {
        "colab": {
          "base_uri": "https://localhost:8080/"
        },
        "id": "WE9nhCfnnXW2",
        "outputId": "d8780c35-6f86-4892-dcf6-ab613afe53a5"
      },
      "execution_count": 123,
      "outputs": [
        {
          "output_type": "stream",
          "name": "stdout",
          "text": [
            "(7, 2, 5)\n",
            "[[[ 0  1  2  3  4]\n",
            "  [ 5  6  7  8  9]]\n",
            "\n",
            " [[10 11 12 13 14]\n",
            "  [15 16 17 18 19]]\n",
            "\n",
            " [[20 21 22 23 24]\n",
            "  [25 26 27 28 29]]\n",
            "\n",
            " [[30 31 32 33 34]\n",
            "  [35 36 37 38 39]]\n",
            "\n",
            " [[40 41 42 43 44]\n",
            "  [45 46 47 48 49]]\n",
            "\n",
            " [[50 51 52 53 54]\n",
            "  [55 56 57 58 59]]\n",
            "\n",
            " [[60 61 62 63 64]\n",
            "  [65 66 67 68 69]]]\n"
          ]
        }
      ]
    },
    {
      "cell_type": "code",
      "source": [
        "#arr3 = arr.reshape((7,-1,6)) 원하는 구조로 만들지 못할때 valueError 발생"
      ],
      "metadata": {
        "colab": {
          "base_uri": "https://localhost:8080/",
          "height": 174
        },
        "id": "0-tSXKYYnpGO",
        "outputId": "39a49847-1857-4058-a1c4-d9020c13d72b"
      },
      "execution_count": 125,
      "outputs": [
        {
          "output_type": "error",
          "ename": "ValueError",
          "evalue": "ignored",
          "traceback": [
            "\u001b[0;31m---------------------------------------------------------------------------\u001b[0m",
            "\u001b[0;31mValueError\u001b[0m                                Traceback (most recent call last)",
            "\u001b[0;32m<ipython-input-125-8d5e8ba571d6>\u001b[0m in \u001b[0;36m<module>\u001b[0;34m()\u001b[0m\n\u001b[0;32m----> 1\u001b[0;31m \u001b[0marr3\u001b[0m \u001b[0;34m=\u001b[0m \u001b[0marr\u001b[0m\u001b[0;34m.\u001b[0m\u001b[0mreshape\u001b[0m\u001b[0;34m(\u001b[0m\u001b[0;34m(\u001b[0m\u001b[0;36m7\u001b[0m\u001b[0;34m,\u001b[0m\u001b[0;34m-\u001b[0m\u001b[0;36m1\u001b[0m\u001b[0;34m,\u001b[0m\u001b[0;36m6\u001b[0m\u001b[0;34m)\u001b[0m\u001b[0;34m)\u001b[0m \u001b[0;31m#원하는 구조로 만들지 못할때 valueError 발생\u001b[0m\u001b[0;34m\u001b[0m\u001b[0;34m\u001b[0m\u001b[0m\n\u001b[0m",
            "\u001b[0;31mValueError\u001b[0m: cannot reshape array of size 70 into shape (7,newaxis,6)"
          ]
        }
      ]
    },
    {
      "cell_type": "markdown",
      "source": [
        "# 전치"
      ],
      "metadata": {
        "id": "-R4rYqTvpg4O"
      }
    },
    {
      "cell_type": "code",
      "source": [
        "arr= np.array([[1,2,3],[4,5,6]])\n",
        "print(arr)"
      ],
      "metadata": {
        "colab": {
          "base_uri": "https://localhost:8080/"
        },
        "id": "R1thgLi1pWRW",
        "outputId": "a7c1f900-54ad-43b1-9c8a-68c046a295a7"
      },
      "execution_count": 126,
      "outputs": [
        {
          "output_type": "stream",
          "name": "stdout",
          "text": [
            "[[1 2 3]\n",
            " [4 5 6]]\n"
          ]
        }
      ]
    },
    {
      "cell_type": "code",
      "source": [
        "arr2 = arr.T\n",
        "print(arr2)"
      ],
      "metadata": {
        "colab": {
          "base_uri": "https://localhost:8080/"
        },
        "id": "eWqtuuVCplod",
        "outputId": "cef38df9-94e1-4e92-c31d-8bf988055ee0"
      },
      "execution_count": 127,
      "outputs": [
        {
          "output_type": "stream",
          "name": "stdout",
          "text": [
            "[[1 4]\n",
            " [2 5]\n",
            " [3 6]]\n"
          ]
        }
      ]
    },
    {
      "cell_type": "code",
      "source": [
        "arr3 = arr.transpose()\n",
        "print(arr3)"
      ],
      "metadata": {
        "colab": {
          "base_uri": "https://localhost:8080/"
        },
        "id": "FNgVz5jTponN",
        "outputId": "f92bd4c5-fb7d-4a0e-82d8-fc35aafaedda"
      },
      "execution_count": 128,
      "outputs": [
        {
          "output_type": "stream",
          "name": "stdout",
          "text": [
            "[[1 4]\n",
            " [2 5]\n",
            " [3 6]]\n"
          ]
        }
      ]
    },
    {
      "cell_type": "markdown",
      "source": [
        "# 자잘한 함수"
      ],
      "metadata": {
        "id": "cxrbMpxIqnEG"
      }
    },
    {
      "cell_type": "code",
      "source": [
        "arr = np.random.randint(0,100,5)\n",
        "print(arr)"
      ],
      "metadata": {
        "colab": {
          "base_uri": "https://localhost:8080/"
        },
        "id": "mGH_Y6OVqPw9",
        "outputId": "1fa54939-e9fc-4289-fbe9-538499d0f939"
      },
      "execution_count": 129,
      "outputs": [
        {
          "output_type": "stream",
          "name": "stdout",
          "text": [
            "[38 92 22 15  0]\n"
          ]
        }
      ]
    },
    {
      "cell_type": "code",
      "source": [
        "arr2 = np.sqrt(arr)\n",
        "print(arr2)"
      ],
      "metadata": {
        "colab": {
          "base_uri": "https://localhost:8080/"
        },
        "id": "IO_iCVMJqrK2",
        "outputId": "bf3bb90e-e0c8-439d-8f7f-8682cdfe49f8"
      },
      "execution_count": 130,
      "outputs": [
        {
          "output_type": "stream",
          "name": "stdout",
          "text": [
            "[6.164414   9.59166305 4.69041576 3.87298335 0.        ]\n"
          ]
        }
      ]
    },
    {
      "cell_type": "code",
      "source": [
        "arr3 = np.random.randint(0,100,5)\n",
        "print(arr3)"
      ],
      "metadata": {
        "colab": {
          "base_uri": "https://localhost:8080/"
        },
        "id": "D2tmYVnbq4l8",
        "outputId": "ba98e850-198d-45bd-f2e2-fecf24d2ba99"
      },
      "execution_count": 131,
      "outputs": [
        {
          "output_type": "stream",
          "name": "stdout",
          "text": [
            "[26 71 26 18 32]\n"
          ]
        }
      ]
    },
    {
      "cell_type": "code",
      "source": [
        "arr4 = np.maximum(arr,arr3)\n",
        "print(arr4)"
      ],
      "metadata": {
        "colab": {
          "base_uri": "https://localhost:8080/"
        },
        "id": "QTaS5g6UrA6d",
        "outputId": "1da97a1a-93b8-4c1a-f588-b4fb29d3d5ec"
      },
      "execution_count": 132,
      "outputs": [
        {
          "output_type": "stream",
          "name": "stdout",
          "text": [
            "[38 92 26 18 32]\n"
          ]
        }
      ]
    },
    {
      "cell_type": "code",
      "source": [
        "import math\n",
        "SQRT_TWO_PI=math.sqrt(2*math.pi) # 루트 2파이\n",
        "def normal_pdf(x,mu=0,sigma=1): #정규분포(mu:평균, sigma: 표준편차)\n",
        "  pre=1(sigma*SQRT_TWO_PI)\n",
        "  post = math.exp(-((x-mu)**2)/(2*(sigma**2)))\n",
        "  return pre*post"
      ],
      "metadata": {
        "id": "dzo39fd5rFrF"
      },
      "execution_count": 140,
      "outputs": []
    },
    {
      "cell_type": "code",
      "source": [
        "xs = [x/10.0 for x in range(-50,50)]\n",
        "ys1 = [normal_pdf(x) for x in xs]\n",
        "ys2 = [normal_pdf(x,mu=1) for x in xs]\n",
        "ys3 = [normal_pdf(x,sigma=2) for x in xs]\n",
        "ys4 = [normal_pdf(x,sigma=0.5) for x in xs]\n",
        "\n",
        "plt.plot(xs,ys1, '-',label='mu=0,sigma=1')\n",
        "plt.plot(xs,ys2, '--',label='mu=0,sigma=1')\n",
        "plt.plot(xs,ys3, ':',label='mu=0,sigma=2')\n",
        "plt.plot(xs,ys4, '-',label='mu=0,sigma=0.5')\n",
        "plt.legend()\n",
        "plt.show()"
      ],
      "metadata": {
        "colab": {
          "base_uri": "https://localhost:8080/",
          "height": 265
        },
        "id": "LaJsGXr_Bvz6",
        "outputId": "c9d766a2-9c8d-48df-dbf7-5e84056adfde"
      },
      "execution_count": 144,
      "outputs": [
        {
          "output_type": "display_data",
          "data": {
            "text/plain": [
              "<Figure size 432x288 with 1 Axes>"
            ],
            "image/png": "[encoded data removed]"
          },
          "metadata": {
            "needs_background": "light"
          }
        }
      ]
    },
    {
      "cell_type": "code",
      "source": [
        "import random\n",
        "def bernoulli_trial(p):\n",
        "  return 1 if random.random()<p else 0"
      ],
      "metadata": {
        "id": "p3jCSGzKCUm_"
      },
      "execution_count": 148,
      "outputs": []
    },
    {
      "cell_type": "code",
      "source": [
        "do_ts = []\n",
        "for _ in range(100):\n",
        "  do_ts.append(bernoulli_trial(1/6))\n",
        "print(do_ts)\n",
        "print(sum(do_ts))"
      ],
      "metadata": {
        "colab": {
          "base_uri": "https://localhost:8080/"
        },
        "id": "VA9nmD1BDac_",
        "outputId": "6710c57e-46ea-41b3-c9a7-f7cbb0ef7d7f"
      },
      "execution_count": 153,
      "outputs": [
        {
          "output_type": "stream",
          "name": "stdout",
          "text": [
            "[1, 0, 0, 0, 1, 1, 1, 0, 0, 0, 1, 0, 0, 0, 0, 0, 1, 0, 0, 1, 0, 0, 0, 0, 0, 0, 0, 0, 0, 0, 0, 1, 1, 0, 0, 0, 0, 1, 0, 0, 1, 0, 0, 0, 0, 0, 0, 0, 0, 0, 0, 0, 0, 0, 0, 0, 0, 0, 0, 0, 0, 1, 0, 0, 1, 0, 0, 0, 0, 0, 0, 1, 0, 1, 1, 0, 0, 1, 0, 1, 0, 0, 0, 0, 0, 0, 1, 0, 0, 0, 0, 0, 0, 1, 0, 0, 0, 0, 0, 0]\n",
            "20\n"
          ]
        }
      ]
    },
    {
      "cell_type": "code",
      "source": [
        "def draw_dice(n,p):\n",
        "  return sum(bernoulli_trial(1/6) for _ in range(n))\n",
        "print(draw_dice(1000,1/6))"
      ],
      "metadata": {
        "colab": {
          "base_uri": "https://localhost:8080/"
        },
        "id": "8-tcDMI1D7nu",
        "outputId": "d17f48e5-858c-437b-90f8-192a760a6006"
      },
      "execution_count": 154,
      "outputs": [
        {
          "output_type": "stream",
          "name": "stdout",
          "text": [
            "165\n"
          ]
        }
      ]
    },
    {
      "cell_type": "code",
      "source": [
        "for _ in range(100):\n",
        "  print(draw_dice(1000,1/6),end = ',')"
      ],
      "metadata": {
        "colab": {
          "base_uri": "https://localhost:8080/"
        },
        "id": "UE86qxTXEe9H",
        "outputId": "f913678b-b259-49a2-8013-ee1247418c7d"
      },
      "execution_count": 155,
      "outputs": [
        {
          "output_type": "stream",
          "name": "stdout",
          "text": [
            "168,162,153,186,176,166,142,177,165,169,171,159,174,177,167,166,158,174,160,162,157,158,175,162,188,166,160,167,180,184,188,178,152,150,167,155,141,174,201,167,189,149,180,163,155,172,152,171,172,171,157,163,160,154,176,188,175,166,148,165,178,155,149,178,172,161,167,155,174,163,162,184,180,124,160,162,156,154,150,191,186,174,169,165,173,174,160,158,175,182,169,160,172,158,188,175,156,160,175,163,"
          ]
        }
      ]
    },
    {
      "cell_type": "code",
      "source": [
        "from collections import Counter"
      ],
      "metadata": {
        "id": "oU1yHLZNEx-X"
      },
      "execution_count": 156,
      "outputs": []
    },
    {
      "cell_type": "code",
      "source": [
        "sample_data = [1,2,3,2,1,2,1,2,3,4,2,2,1,2,3,2]\n",
        "h = Counter(sample_data)\n",
        "print(h)"
      ],
      "metadata": {
        "colab": {
          "base_uri": "https://localhost:8080/"
        },
        "id": "RUPJcHcUFn7C",
        "outputId": "035ea38c-0214-4adf-95d9-9bcfd342206d"
      },
      "execution_count": 161,
      "outputs": [
        {
          "output_type": "stream",
          "name": "stdout",
          "text": [
            "Counter({2: 8, 1: 4, 3: 3, 4: 1})\n"
          ]
        }
      ]
    },
    {
      "cell_type": "code",
      "source": [
        "def binominal_hist(p,n,nps) : #p:확률, n:시도 횟수 nps:(p,n)을 시도할 횟수\n",
        "  data=[draw_dice(n,p) for _ in range(nps)]\n",
        "  histogram=Counter(data)\n",
        "  mu = p*n #평균\n",
        "  sigma = math.sqrt(n*p*(1-p)) #표준편차, 시그마\n",
        "  xs = range(min(data),max(data)+1)\n",
        "  ys = [normal_pdf(i,mu,sigma)for i in xs]\n",
        "  plt.bar(histogram.keys(),[v/nps for v in histogram.values()])\n",
        "  plt.plot(xs,ys,color='r')\n",
        "  plt.show()"
      ],
      "metadata": {
        "id": "kj1VA-68FEp4"
      },
      "execution_count": 174,
      "outputs": []
    },
    {
      "cell_type": "code",
      "source": [
        "binominal_hist(1/6,100,10) #1/6확률(주사위 던지기), 100번 시행, 10번 기록"
      ],
      "metadata": {
        "colab": {
          "base_uri": "https://localhost:8080/",
          "height": 265
        },
        "id": "6hOfzKq4FNnR",
        "outputId": "0c4f58dc-5e01-4d9f-d91e-32b2f8c4d3f1"
      },
      "execution_count": 175,
      "outputs": [
        {
          "output_type": "display_data",
          "data": {
            "text/plain": [
              "<Figure size 432x288 with 1 Axes>"
            ],
            "image/png": "[encoded data removed]"
          },
          "metadata": {
            "needs_background": "light"
          }
        }
      ]
    },
    {
      "cell_type": "code",
      "source": [
        "binominal_hist(1/6,100,500) #1/6확률(주사위 던지기), 100번 시행, 500번 기록"
      ],
      "metadata": {
        "colab": {
          "base_uri": "https://localhost:8080/",
          "height": 265
        },
        "id": "w_qyFzBgHX_3",
        "outputId": "823f3cf7-83bf-4430-8cb8-b26da78737d0"
      },
      "execution_count": 176,
      "outputs": [
        {
          "output_type": "display_data",
          "data": {
            "text/plain": [
              "<Figure size 432x288 with 1 Axes>"
            ],
            "image/png": "[encoded data removed]"
          },
          "metadata": {
            "needs_background": "light"
          }
        }
      ]
    },
    {
      "cell_type": "code",
      "source": [
        "import cv2 #opencv 라이브러리\n",
        "from google.colab.patches import cv2_imshow #코랩에서 시각화를 위해 필요한 구문"
      ],
      "metadata": {
        "id": "8tX4UYzEIS5f"
      },
      "execution_count": 185,
      "outputs": []
    },
    {
      "cell_type": "code",
      "source": [
        "path = '/content/sample_data/eh.jpg'\n",
        "image = cv2.imread(path,cv2.IMREAD_COLOR)\n",
        "cv2_imshow(image)"
      ],
      "metadata": {
        "colab": {
          "base_uri": "https://localhost:8080/",
          "height": 737
        },
        "id": "sgQEosoSMI0S",
        "outputId": "8c41974d-ce58-43b5-81cc-9d0dd7c65d3b"
      },
      "execution_count": 189,
      "outputs": [
        {
          "output_type": "display_data",
          "data": {
            "text/plain": [
              "<PIL.Image.Image image mode=RGB size=495x720 at 0x7F0B973E4810>"
            ],
            "image/png": "[encoded data removed]"
          },
          "metadata": {}
        }
      ]
    },
    {
      "cell_type": "code",
      "source": [
        "print(type(image))"
      ],
      "metadata": {
        "colab": {
          "base_uri": "https://localhost:8080/"
        },
        "id": "Pq7i5OIsNB8n",
        "outputId": "d518f5c9-a8c2-4f16-f7ba-10114060b959"
      },
      "execution_count": 190,
      "outputs": [
        {
          "output_type": "stream",
          "name": "stdout",
          "text": [
            "<class 'numpy.ndarray'>\n"
          ]
        }
      ]
    },
    {
      "cell_type": "code",
      "source": [
        "print(image.ndim)"
      ],
      "metadata": {
        "colab": {
          "base_uri": "https://localhost:8080/"
        },
        "id": "Mn6a0EiZN2vX",
        "outputId": "3fe750c0-3a18-4b1e-b280-aefa0a49d333"
      },
      "execution_count": 191,
      "outputs": [
        {
          "output_type": "stream",
          "name": "stdout",
          "text": [
            "3\n"
          ]
        }
      ]
    },
    {
      "cell_type": "code",
      "source": [
        "print(image.shape)"
      ],
      "metadata": {
        "colab": {
          "base_uri": "https://localhost:8080/"
        },
        "id": "0ST7_-K-N4An",
        "outputId": "f6f52a17-bc86-4180-ad1d-c524a52ddbff"
      },
      "execution_count": 192,
      "outputs": [
        {
          "output_type": "stream",
          "name": "stdout",
          "text": [
            "(720, 495, 3)\n"
          ]
        }
      ]
    },
    {
      "cell_type": "code",
      "source": [
        "image = np.zeros((28,28,3),np.uint8)\n",
        "cv2_imshow(image)"
      ],
      "metadata": {
        "colab": {
          "base_uri": "https://localhost:8080/",
          "height": 45
        },
        "id": "da-6b2dZN5Sf",
        "outputId": "a8b204c2-6e40-4092-da56-c0ba72797ee8"
      },
      "execution_count": 193,
      "outputs": [
        {
          "output_type": "display_data",
          "data": {
            "text/plain": [
              "<PIL.Image.Image image mode=RGB size=28x28 at 0x7F0B9712ED90>"
            ],
            "image/png": "[encoded data removed]"
          },
          "metadata": {}
        }
      ]
    },
    {
      "cell_type": "code",
      "source": [
        "image[:,:,0]=255\n",
        "cv2_imshow(image)"
      ],
      "metadata": {
        "colab": {
          "base_uri": "https://localhost:8080/",
          "height": 45
        },
        "id": "ZeBDz588OCGX",
        "outputId": "63ce2d6b-2e10-4fbc-acc1-5499e15bc7fb"
      },
      "execution_count": 194,
      "outputs": [
        {
          "output_type": "display_data",
          "data": {
            "text/plain": [
              "<PIL.Image.Image image mode=RGB size=28x28 at 0x7F0B973DC8D0>"
            ],
            "image/png": "[encoded data removed]"
          },
          "metadata": {}
        }
      ]
    },
    {
      "cell_type": "code",
      "source": [
        "image[:,:,2]=255\n",
        "cv2_imshow(image)"
      ],
      "metadata": {
        "colab": {
          "base_uri": "https://localhost:8080/",
          "height": 45
        },
        "id": "kWj9n0EnOYoG",
        "outputId": "3e1c6c99-a6e7-485b-a65d-348c2bff31a5"
      },
      "execution_count": 195,
      "outputs": [
        {
          "output_type": "display_data",
          "data": {
            "text/plain": [
              "<PIL.Image.Image image mode=RGB size=28x28 at 0x7F0B9700CC50>"
            ],
            "image/png": "[encoded data removed]"
          },
          "metadata": {}
        }
      ]
    },
    {
      "cell_type": "code",
      "source": [
        "from tensorflow import keras"
      ],
      "metadata": {
        "id": "Qw4gq-8ROzEO"
      },
      "execution_count": 196,
      "outputs": []
    },
    {
      "cell_type": "code",
      "source": [
        "data = keras.datasets.mnist.load_data()"
      ],
      "metadata": {
        "colab": {
          "base_uri": "https://localhost:8080/"
        },
        "id": "Gqs_LT1_PDHf",
        "outputId": "f029b061-6908-4425-bc83-d58f1b0f4730"
      },
      "execution_count": 197,
      "outputs": [
        {
          "output_type": "stream",
          "name": "stdout",
          "text": [
            "Downloading data from https://storage.googleapis.com/tensorflow/tf-keras-datasets/mnist.npz\n",
            "11493376/11490434 [==============================] - 0s 0us/step\n",
            "11501568/11490434 [==============================] - 0s 0us/step\n"
          ]
        }
      ]
    },
    {
      "cell_type": "code",
      "source": [
        "print(type(data))"
      ],
      "metadata": {
        "colab": {
          "base_uri": "https://localhost:8080/"
        },
        "id": "zvYnrGL3PJw3",
        "outputId": "306ac74f-2269-4999-d793-61a69f9afac6"
      },
      "execution_count": 198,
      "outputs": [
        {
          "output_type": "stream",
          "name": "stdout",
          "text": [
            "<class 'tuple'>\n"
          ]
        }
      ]
    },
    {
      "cell_type": "code",
      "source": [
        "print(len(data))"
      ],
      "metadata": {
        "colab": {
          "base_uri": "https://localhost:8080/"
        },
        "id": "HjguE1H-Ph6H",
        "outputId": "45a22ae6-191a-4f81-c189-7bf4c867b18c"
      },
      "execution_count": 199,
      "outputs": [
        {
          "output_type": "stream",
          "name": "stdout",
          "text": [
            "2\n"
          ]
        }
      ]
    },
    {
      "cell_type": "code",
      "source": [
        "train_data, test_data = data\n",
        "print(type(train_data))\n",
        "print(len(train_data))\n",
        "print(type(test_data))\n",
        "print(len(test_data))"
      ],
      "metadata": {
        "colab": {
          "base_uri": "https://localhost:8080/"
        },
        "id": "IPnhfZisPkRH",
        "outputId": "f50449b9-f381-47ba-fe60-f950dac98bae"
      },
      "execution_count": 200,
      "outputs": [
        {
          "output_type": "stream",
          "name": "stdout",
          "text": [
            "<class 'tuple'>\n",
            "2\n",
            "<class 'tuple'>\n",
            "2\n"
          ]
        }
      ]
    },
    {
      "cell_type": "code",
      "source": [
        "x_train, y_train = train_data\n",
        "x_test,y_test = test_data\n",
        "print(type(x_train), type(y_train))\n",
        "print(type(x_test), type(y_test))"
      ],
      "metadata": {
        "colab": {
          "base_uri": "https://localhost:8080/"
        },
        "id": "i_NKF5IOPyp3",
        "outputId": "cec6c98f-0b07-47ba-c8c9-64b7f8cdd30a"
      },
      "execution_count": 201,
      "outputs": [
        {
          "output_type": "stream",
          "name": "stdout",
          "text": [
            "<class 'numpy.ndarray'> <class 'numpy.ndarray'>\n",
            "<class 'numpy.ndarray'> <class 'numpy.ndarray'>\n"
          ]
        }
      ]
    },
    {
      "cell_type": "code",
      "source": [
        "print(x_train.shape, y_train.shape)\n",
        "print(x_test.shape, y_test.shape)\n"
      ],
      "metadata": {
        "colab": {
          "base_uri": "https://localhost:8080/"
        },
        "id": "zlbZL_JHQAWg",
        "outputId": "b176e86f-e8a2-4d18-b598-cf1d3aa9cf0c"
      },
      "execution_count": 202,
      "outputs": [
        {
          "output_type": "stream",
          "name": "stdout",
          "text": [
            "(60000, 28, 28) (60000,)\n",
            "(10000, 28, 28) (10000,)\n"
          ]
        }
      ]
    },
    {
      "cell_type": "code",
      "source": [
        "for i in range(10):\n",
        "  image = x_train[i]\n",
        "  print(y_train[i])\n",
        "  cv2_imshow(image)"
      ],
      "metadata": {
        "colab": {
          "base_uri": "https://localhost:8080/",
          "height": 481
        },
        "id": "bYvUjm12QP2X",
        "outputId": "ce690731-7d46-4fa6-e8d7-4cf8fc78a648"
      },
      "execution_count": 203,
      "outputs": [
        {
          "output_type": "stream",
          "name": "stdout",
          "text": [
            "5\n"
          ]
        },
        {
          "output_type": "display_data",
          "data": {
            "text/plain": [
              "<PIL.Image.Image image mode=L size=28x28 at 0x7F0B157AE390>"
            ],
            "image/png": "[encoded data removed]"
          },
          "metadata": {}
        },
        {
          "output_type": "stream",
          "name": "stdout",
          "text": [
            "0\n"
          ]
        },
        {
          "output_type": "display_data",
          "data": {
            "text/plain": [
              "<PIL.Image.Image image mode=L size=28x28 at 0x7F0B157AE510>"
            ],
            "image/png": "[encoded data removed]"
          },
          "metadata": {}
        },
        {
          "output_type": "stream",
          "name": "stdout",
          "text": [
            "4\n"
          ]
        },
        {
          "output_type": "display_data",
          "data": {
            "text/plain": [
              "<PIL.Image.Image image mode=L size=28x28 at 0x7F0B157A03D0>"
            ],
            "image/png": "[encoded data removed]"
          },
          "metadata": {}
        },
        {
          "output_type": "stream",
          "name": "stdout",
          "text": [
            "1\n"
          ]
        },
        {
          "output_type": "display_data",
          "data": {
            "text/plain": [
              "<PIL.Image.Image image mode=L size=28x28 at 0x7F0B157AE390>"
            ],
            "image/png": "[encoded data removed]"
          },
          "metadata": {}
        },
        {
          "output_type": "stream",
          "name": "stdout",
          "text": [
            "9\n"
          ]
        },
        {
          "output_type": "display_data",
          "data": {
            "text/plain": [
              "<PIL.Image.Image image mode=L size=28x28 at 0x7F0B157C8810>"
            ],
            "image/png": "[encoded data removed]"
          },
          "metadata": {}
        },
        {
          "output_type": "stream",
          "name": "stdout",
          "text": [
            "2\n"
          ]
        },
        {
          "output_type": "display_data",
          "data": {
            "text/plain": [
              "<PIL.Image.Image image mode=L size=28x28 at 0x7F0B157AE910>"
            ],
            "image/png": "[encoded data removed]"
          },
          "metadata": {}
        },
        {
          "output_type": "stream",
          "name": "stdout",
          "text": [
            "1\n"
          ]
        },
        {
          "output_type": "display_data",
          "data": {
            "text/plain": [
              "<PIL.Image.Image image mode=L size=28x28 at 0x7F0B15798E50>"
            ],
            "image/png": "[encoded data removed]"
          },
          "metadata": {}
        },
        {
          "output_type": "stream",
          "name": "stdout",
          "text": [
            "3\n"
          ]
        },
        {
          "output_type": "display_data",
          "data": {
            "text/plain": [
              "<PIL.Image.Image image mode=L size=28x28 at 0x7F0B15798FD0>"
            ],
            "image/png": "[encoded data removed]"
          },
          "metadata": {}
        },
        {
          "output_type": "stream",
          "name": "stdout",
          "text": [
            "1\n"
          ]
        },
        {
          "output_type": "display_data",
          "data": {
            "text/plain": [
              "<PIL.Image.Image image mode=L size=28x28 at 0x7F0B15798ED0>"
            ],
            "image/png": "[encoded data removed]"
          },
          "metadata": {}
        },
        {
          "output_type": "stream",
          "name": "stdout",
          "text": [
            "4\n"
          ]
        },
        {
          "output_type": "display_data",
          "data": {
            "text/plain": [
              "<PIL.Image.Image image mode=L size=28x28 at 0x7F0B15798F10>"
            ],
            "image/png": "[encoded data removed]"
          },
          "metadata": {}
        }
      ]
    },
    {
      "cell_type": "code",
      "source": [
        "arr = np.random.randint(5,100,20)\n",
        "print(arr)"
      ],
      "metadata": {
        "colab": {
          "base_uri": "https://localhost:8080/"
        },
        "id": "6ysfbKSMQ1Qx",
        "outputId": "c9ed2bb3-6d8d-49a3-ce5b-7e0778f9c4f9"
      },
      "execution_count": 204,
      "outputs": [
        {
          "output_type": "stream",
          "name": "stdout",
          "text": [
            "[22 19 18 32 24 16 62 37 40 74  7 57 62 97 68 70 66 39 39 75]\n"
          ]
        }
      ]
    },
    {
      "cell_type": "code",
      "source": [
        "arr2 = arr.reshape(4,-1)\n",
        "print(arr2)"
      ],
      "metadata": {
        "colab": {
          "base_uri": "https://localhost:8080/"
        },
        "id": "LIp-aqH_SFZg",
        "outputId": "8bfea6f5-9401-4b52-e5c3-05663629e073"
      },
      "execution_count": 205,
      "outputs": [
        {
          "output_type": "stream",
          "name": "stdout",
          "text": [
            "[[22 19 18 32 24]\n",
            " [16 62 37 40 74]\n",
            " [ 7 57 62 97 68]\n",
            " [70 66 39 39 75]]\n"
          ]
        }
      ]
    },
    {
      "cell_type": "code",
      "source": [
        "print(\"평균:\",arr2.mean())\n",
        "print(\"평균(축1) : \",arr2.mean(axis=1)) #컬럼\n",
        "print(\"평균(축0) : \",arr2.mean(axis=0)) #로우"
      ],
      "metadata": {
        "colab": {
          "base_uri": "https://localhost:8080/"
        },
        "id": "Che5SxLjSOzA",
        "outputId": "36f9bc8f-45be-48d8-c741-dd9e2442199f"
      },
      "execution_count": 212,
      "outputs": [
        {
          "output_type": "stream",
          "name": "stdout",
          "text": [
            "평균: 46.2\n",
            "평균(축1) :  [23.  45.8 58.2 57.8]\n",
            "평균(축0) :  [28.75 51.   39.   52.   60.25]\n"
          ]
        }
      ]
    },
    {
      "cell_type": "code",
      "source": [
        "print(\"합계 : \",arr2.sum())\n",
        "print(\"합계(축1) : \",arr2.sum(axis=1))\n",
        "print(\"합계(축0) : \",arr2.sum(axis=0))"
      ],
      "metadata": {
        "colab": {
          "base_uri": "https://localhost:8080/"
        },
        "id": "NDqOkSOuSrZn",
        "outputId": "b825fee1-a75f-4fda-e496-ce4386441586"
      },
      "execution_count": 214,
      "outputs": [
        {
          "output_type": "stream",
          "name": "stdout",
          "text": [
            "합계 :  924\n",
            "합계(축1) :  [115 229 291 289]\n",
            "합계(축0) :  [115 204 156 208 241]\n"
          ]
        }
      ]
    },
    {
      "cell_type": "code",
      "source": [
        "print(\"표준편차 : \", arr2.std())\n",
        "print(\"분산 : \", arr2.var())\n",
        "print(\"최솟값 : \", arr2.min())\n",
        "print(\"최대값 : \", arr2.max())"
      ],
      "metadata": {
        "colab": {
          "base_uri": "https://localhost:8080/"
        },
        "id": "ZKpHZZYLTGkn",
        "outputId": "c84b6e51-d933-4281-ed39-fcba44f3f06d"
      },
      "execution_count": 215,
      "outputs": [
        {
          "output_type": "stream",
          "name": "stdout",
          "text": [
            "표준편차 :  24.21074141780875\n",
            "분산 :  586.1600000000001\n",
            "최솟값 :  7\n",
            "최대값 :  97\n"
          ]
        }
      ]
    },
    {
      "cell_type": "code",
      "source": [
        "arr = np.array([1,3,2,4,56,5,-2,3])\n",
        "print(\"최댓값 인덱스 : \", arr.argmax())\n",
        "print(\"최소값 인덱스 : \", arr.argmin())"
      ],
      "metadata": {
        "colab": {
          "base_uri": "https://localhost:8080/"
        },
        "id": "i2hXQD44Te53",
        "outputId": "ddd29a50-c745-48fc-9a6e-8a5e6730351c"
      },
      "execution_count": 216,
      "outputs": [
        {
          "output_type": "stream",
          "name": "stdout",
          "text": [
            "최댓값 인덱스 :  4\n",
            "최소값 인덱스 :  6\n"
          ]
        }
      ]
    },
    {
      "cell_type": "code",
      "source": [
        "arr= np.array([1,2,3,2,4,5])\n",
        "cs = arr.cumsum() #누적합\n",
        "print(cs)"
      ],
      "metadata": {
        "colab": {
          "base_uri": "https://localhost:8080/"
        },
        "id": "2JG3v7B1TwjY",
        "outputId": "e6d40576-0ebe-4d28-fe58-88ac694ff232"
      },
      "execution_count": 217,
      "outputs": [
        {
          "output_type": "stream",
          "name": "stdout",
          "text": [
            "[ 1  3  6  8 12 17]\n"
          ]
        }
      ]
    },
    {
      "cell_type": "code",
      "source": [
        "arr.sort()\n",
        "print(arr)"
      ],
      "metadata": {
        "colab": {
          "base_uri": "https://localhost:8080/"
        },
        "id": "_j8jvczwT4PT",
        "outputId": "8149da5b-0d7a-4dcb-d564-a93b2f78d239"
      },
      "execution_count": 218,
      "outputs": [
        {
          "output_type": "stream",
          "name": "stdout",
          "text": [
            "[1 2 2 3 4 5]\n"
          ]
        }
      ]
    },
    {
      "cell_type": "code",
      "source": [
        "arr = [1,2,34,2,2,4,23,2,3,2,4,1,1,2,1]\n",
        "sa = np.unique(arr)\n",
        "print(sa)"
      ],
      "metadata": {
        "colab": {
          "base_uri": "https://localhost:8080/"
        },
        "id": "3HwNtwirUUWn",
        "outputId": "ec3ef290-0577-4914-bb71-5e63fd8902ad"
      },
      "execution_count": 219,
      "outputs": [
        {
          "output_type": "stream",
          "name": "stdout",
          "text": [
            "[ 1  2  3  4 23 34]\n"
          ]
        }
      ]
    },
    {
      "cell_type": "code",
      "source": [
        "s={1,2,3,1,1,2,3,1,2,2,1,3}\n",
        "print(s)"
      ],
      "metadata": {
        "colab": {
          "base_uri": "https://localhost:8080/"
        },
        "id": "RDUE7aE4UdK4",
        "outputId": "17ef3766-97ad-4b99-8a24-cf2faf7dbd9e"
      },
      "execution_count": 220,
      "outputs": [
        {
          "output_type": "stream",
          "name": "stdout",
          "text": [
            "{1, 2, 3}\n"
          ]
        }
      ]
    },
    {
      "cell_type": "markdown",
      "source": [
        "# 선형대수 - inside numpy"
      ],
      "metadata": {
        "id": "tOXMKKjPaVDY"
      }
    },
    {
      "cell_type": "code",
      "source": [
        "def add_list(ls1,ls2):\n",
        "  re = []\n",
        "  assert len(ls1)==len(ls2), \"두개의 리스트 원소 개수는 같아야 합니다\"\n",
        "  for i,e in enumerate(ls1):\n",
        "    re.append(ls1[i]+ls2[i])\n",
        "  return re"
      ],
      "metadata": {
        "id": "NaXxOfzyVEUY"
      },
      "execution_count": 222,
      "outputs": []
    },
    {
      "cell_type": "code",
      "source": [
        "re = add_list([1,2,3],[4,6,7])\n",
        "print(re)"
      ],
      "metadata": {
        "colab": {
          "base_uri": "https://localhost:8080/"
        },
        "id": "RgCRKK_vazdn",
        "outputId": "b88dd283-1245-47bf-aaf9-a332f4de6b9a"
      },
      "execution_count": 224,
      "outputs": [
        {
          "output_type": "stream",
          "name": "stdout",
          "text": [
            "[5, 8, 10]\n"
          ]
        }
      ]
    },
    {
      "cell_type": "code",
      "source": [
        "def add_list2(ls1,ls2):\n",
        "  assert len(ls1)==len(ls2), \"두개의 리스트 원소 개수는 같아야 합니다\"\n",
        "  return [ls1[i]+ls2[i] for i in range(len(ls1))]"
      ],
      "metadata": {
        "id": "naEMoyk5bA1_"
      },
      "execution_count": 226,
      "outputs": []
    },
    {
      "cell_type": "code",
      "source": [
        "assert add_list([1,2,3],[4,6,7]) == [5,8,10]"
      ],
      "metadata": {
        "id": "Dz_mmIBlcVjM"
      },
      "execution_count": 228,
      "outputs": []
    },
    {
      "cell_type": "code",
      "source": [
        "re = add_list2([1,2,3],[4,6,7])\n",
        "print(re)"
      ],
      "metadata": {
        "colab": {
          "base_uri": "https://localhost:8080/"
        },
        "id": "aSoErz06bebY",
        "outputId": "296ff1f3-398c-4c86-dda2-bba5fc45d7ea"
      },
      "execution_count": 229,
      "outputs": [
        {
          "output_type": "stream",
          "name": "stdout",
          "text": [
            "[5, 8, 10]\n"
          ]
        }
      ]
    },
    {
      "cell_type": "code",
      "source": [
        "def subtract(ls1,ls2):\n",
        "  assert len(ls1)==len(ls2), \"두개의 리스트 원소 개수는 같아야 합니다\"\n",
        "  return [ls1[i] - ls2[i] for i in range(len(ls1))]"
      ],
      "metadata": {
        "id": "rpdrowfic2iP"
      },
      "execution_count": 233,
      "outputs": []
    },
    {
      "cell_type": "code",
      "source": [
        "assert subtract([4,2,8],[1,3,5])== [3,-1,3]"
      ],
      "metadata": {
        "id": "2k3V1E9zdtx4"
      },
      "execution_count": 236,
      "outputs": []
    },
    {
      "cell_type": "code",
      "source": [
        "def scalar_multiply(ls1,num):\n",
        "  return [num*ls1[i] for i in range(len(ls1))]"
      ],
      "metadata": {
        "id": "XHdUHxzAdyGw"
      },
      "execution_count": 237,
      "outputs": []
    },
    {
      "cell_type": "code",
      "source": [
        "assert scalar_multiply([2,3,4],3)==[6,9,12]"
      ],
      "metadata": {
        "id": "1RpsBIn0eI6H"
      },
      "execution_count": 240,
      "outputs": []
    },
    {
      "cell_type": "code",
      "source": [
        "arr1 = [[1,2],[3,4]]\n",
        "arr2 = [[2,3],[1,2]]\n",
        "re = np.dot(arr1,arr2)\n",
        "print(re)"
      ],
      "metadata": {
        "colab": {
          "base_uri": "https://localhost:8080/"
        },
        "id": "RX-FKJaqeOGH",
        "outputId": "4fd666c7-d9f9-4045-fe15-a3778ac381bc"
      },
      "execution_count": 241,
      "outputs": [
        {
          "output_type": "stream",
          "name": "stdout",
          "text": [
            "[[ 4  7]\n",
            " [10 17]]\n"
          ]
        }
      ]
    },
    {
      "cell_type": "code",
      "source": [
        "def dot(ls1,ls2):\n",
        "  return sum(v_i*w_i for v_i, w_i in zip(ls1,ls2))"
      ],
      "metadata": {
        "id": "MgLRXvsiefjA"
      },
      "execution_count": 243,
      "outputs": []
    },
    {
      "cell_type": "code",
      "source": [
        "print(dot([1,2,3],[4,5,6]))"
      ],
      "metadata": {
        "colab": {
          "base_uri": "https://localhost:8080/"
        },
        "id": "dV9TjeX5e2iX",
        "outputId": "dc6cd2a5-5cf5-4c50-9046-5a000320c1b7"
      },
      "execution_count": 244,
      "outputs": [
        {
          "output_type": "stream",
          "name": "stdout",
          "text": [
            "32\n"
          ]
        }
      ]
    },
    {
      "cell_type": "code",
      "source": [
        "np.dot(np.array([1,2,3]),np.array([4,5,6]))"
      ],
      "metadata": {
        "colab": {
          "base_uri": "https://localhost:8080/"
        },
        "id": "f5JStsbJe8JX",
        "outputId": "7c0aa950-3183-4c3e-f7c9-66814d737e9e"
      },
      "execution_count": 245,
      "outputs": [
        {
          "output_type": "execute_result",
          "data": {
            "text/plain": [
              "32"
            ]
          },
          "metadata": {},
          "execution_count": 245
        }
      ]
    },
    {
      "cell_type": "code",
      "source": [
        "arr = np.diag((3,3,1,3,5,7))\n",
        "print(arr)"
      ],
      "metadata": {
        "colab": {
          "base_uri": "https://localhost:8080/"
        },
        "id": "4kM7aANEfN0d",
        "outputId": "9bf445bb-2424-4df1-aae7-4457a79fd3b2"
      },
      "execution_count": 247,
      "outputs": [
        {
          "output_type": "stream",
          "name": "stdout",
          "text": [
            "[[3 0 0 0 0 0]\n",
            " [0 3 0 0 0 0]\n",
            " [0 0 1 0 0 0]\n",
            " [0 0 0 3 0 0]\n",
            " [0 0 0 0 5 0]\n",
            " [0 0 0 0 0 7]]\n"
          ]
        }
      ]
    },
    {
      "cell_type": "code",
      "source": [
        "for _ in range(10):\n",
        "  print(np.random.rand())"
      ],
      "metadata": {
        "colab": {
          "base_uri": "https://localhost:8080/"
        },
        "id": "OuzyshC3fZ0_",
        "outputId": "1578a71f-b2f5-44bf-d9f7-88c26a879a37"
      },
      "execution_count": 248,
      "outputs": [
        {
          "output_type": "stream",
          "name": "stdout",
          "text": [
            "0.054714305072229186\n",
            "0.12891907270431868\n",
            "0.8603599170459776\n",
            "0.11429854968178843\n",
            "0.8454901266221505\n",
            "0.8755882561812635\n",
            "0.3297442272936172\n",
            "0.2636231092540632\n",
            "0.10926240083380778\n",
            "0.757754899196268\n"
          ]
        }
      ]
    },
    {
      "cell_type": "code",
      "source": [
        "for _ in range(10):\n",
        "  print(np.random.random(size=3))"
      ],
      "metadata": {
        "colab": {
          "base_uri": "https://localhost:8080/"
        },
        "id": "Lwgspt_chKsQ",
        "outputId": "9e368788-1537-49ad-e25f-df94c61f7cc5"
      },
      "execution_count": 250,
      "outputs": [
        {
          "output_type": "stream",
          "name": "stdout",
          "text": [
            "[0.64919255 0.07282857 0.76642199]\n",
            "[0.9151719  0.61734686 0.79705326]\n",
            "[0.95010445 0.39630343 0.91647023]\n",
            "[0.0036941  0.02592277 0.72385671]\n",
            "[0.61389801 0.06230162 0.25974276]\n",
            "[0.53215158 0.08147935 0.28179808]\n",
            "[0.97435201 0.71679152 0.76544478]\n",
            "[0.02794995 0.78604604 0.80080279]\n",
            "[0.01285365 0.79529905 0.96209109]\n",
            "[0.74801245 0.52155551 0.0198911 ]\n"
          ]
        }
      ]
    },
    {
      "cell_type": "code",
      "source": [
        "for _ in range(10):\n",
        "  print(np.random.uniform(-2,3))"
      ],
      "metadata": {
        "colab": {
          "base_uri": "https://localhost:8080/"
        },
        "id": "g69uCC6Uhm44",
        "outputId": "116f2c2e-e6c5-43f4-ce6c-c122b2845fc0"
      },
      "execution_count": 252,
      "outputs": [
        {
          "output_type": "stream",
          "name": "stdout",
          "text": [
            "-0.8289210453203382\n",
            "-1.5248096281349914\n",
            "1.7824809406188913\n",
            "2.3892930988723124\n",
            "-1.3187191660566016\n",
            "-1.728374195015399\n",
            "1.8335480075154167\n",
            "2.9023681296060264\n",
            "-1.5281365738424817\n",
            "-1.92972718969451\n"
          ]
        }
      ]
    },
    {
      "cell_type": "code",
      "source": [
        "for _ in range(10):\n",
        "  print(np.random.randint(10))"
      ],
      "metadata": {
        "colab": {
          "base_uri": "https://localhost:8080/"
        },
        "id": "oZ_sEGIXiAuv",
        "outputId": "805e3b4b-2c56-4cea-9c6e-dd97057f5e66"
      },
      "execution_count": 255,
      "outputs": [
        {
          "output_type": "stream",
          "name": "stdout",
          "text": [
            "0\n",
            "1\n",
            "1\n",
            "4\n",
            "6\n",
            "8\n",
            "0\n",
            "5\n",
            "8\n",
            "7\n"
          ]
        }
      ]
    },
    {
      "cell_type": "code",
      "source": [
        "for _ in range(20):\n",
        "  print(np.random.randint(1,7),end=' ')"
      ],
      "metadata": {
        "colab": {
          "base_uri": "https://localhost:8080/"
        },
        "id": "RggqSr_RiJQY",
        "outputId": "d3c1d799-442b-4387-a703-4c5cbc0640b8"
      },
      "execution_count": 257,
      "outputs": [
        {
          "output_type": "stream",
          "name": "stdout",
          "text": [
            "4 6 5 3 3 2 1 3 6 6 3 6 6 5 2 2 5 6 4 1 "
          ]
        }
      ]
    },
    {
      "cell_type": "code",
      "source": [
        "for _ in range(20):\n",
        "  print(np.random.choice([1.3,2,8]), end =' ')"
      ],
      "metadata": {
        "colab": {
          "base_uri": "https://localhost:8080/"
        },
        "id": "iEqFml6DihM4",
        "outputId": "96e66ce4-f316-4971-8e23-e941547e71ec"
      },
      "execution_count": 260,
      "outputs": [
        {
          "output_type": "stream",
          "name": "stdout",
          "text": [
            "8.0 8.0 1.3 1.3 1.3 1.3 8.0 2.0 8.0 1.3 8.0 1.3 8.0 1.3 8.0 8.0 2.0 1.3 1.3 1.3 "
          ]
        }
      ]
    },
    {
      "cell_type": "code",
      "source": [
        "position = 0\n",
        "walk = [position]\n",
        "steps = 1000\n",
        "for i in range(steps):\n",
        "  step = 1 if random.randint(0,1) else -1\n",
        "  position +=step\n",
        "  walk.append(position)"
      ],
      "metadata": {
        "id": "ve6RRfydi-pH"
      },
      "execution_count": 263,
      "outputs": []
    },
    {
      "cell_type": "code",
      "source": [
        "print(walk)"
      ],
      "metadata": {
        "colab": {
          "base_uri": "https://localhost:8080/"
        },
        "id": "Ypj3CSYIkGQY",
        "outputId": "42553936-844f-428a-9e00-524b26deeb9b"
      },
      "execution_count": 264,
      "outputs": [
        {
          "output_type": "stream",
          "name": "stdout",
          "text": [
            "[0, -1, -2, -3, -2, -1, 0, -1, -2, -3, -4, -3, -4, -5, -4, -5, -4, -5, -4, -3, -4, -3, -4, -5, -4, -3, -2, -3, -4, -3, -4, -3, -2, -1, -2, -3, -4, -3, -4, -5, -6, -7, -6, -7, -6, -5, -4, -5, -4, -5, -4, -3, -2, -1, 0, -1, 0, 1, 2, 3, 4, 5, 4, 3, 2, 3, 4, 5, 6, 5, 4, 3, 2, 3, 2, 3, 4, 5, 6, 7, 6, 5, 6, 7, 6, 5, 4, 5, 4, 3, 2, 1, 2, 1, 2, 1, 0, -1, -2, -3, -2, -1, -2, -3, -4, -5, -6, -7, -8, -9, -10, -9, -8, -9, -10, -9, -8, -7, -8, -9, -8, -9, -8, -7, -8, -7, -6, -7, -6, -7, -8, -7, -6, -7, -6, -7, -6, -5, -6, -7, -8, -9, -8, -9, -8, -7, -6, -5, -6, -5, -6, -7, -6, -7, -8, -9, -8, -9, -8, -9, -10, -9, -10, -11, -12, -11, -12, -13, -14, -13, -12, -11, -10, -11, -10, -9, -8, -9, -10, -9, -8, -7, -6, -7, -8, -9, -8, -9, -8, -7, -6, -7, -6, -7, -6, -5, -6, -5, -6, -7, -8, -7, -8, -7, -8, -7, -8, -9, -8, -7, -6, -7, -6, -5, -6, -5, -6, -5, -6, -7, -8, -7, -6, -5, -6, -5, -4, -3, -2, -1, -2, -1, -2, -1, 0, 1, 0, -1, 0, 1, 0, -1, -2, -3, -4, -3, -4, -3, -2, -1, 0, -1, 0, -1, 0, -1, -2, -1, -2, -1, 0, 1, 0, 1, 0, -1, -2, -1, 0, 1, 2, 3, 2, 3, 2, 3, 4, 5, 4, 3, 4, 5, 6, 7, 8, 7, 6, 7, 6, 5, 6, 5, 6, 5, 6, 5, 6, 5, 6, 5, 6, 5, 4, 3, 2, 1, 0, 1, 0, -1, -2, -3, -4, -5, -6, -5, -4, -5, -6, -5, -4, -5, -4, -3, -4, -3, -4, -5, -6, -7, -8, -9, -8, -9, -10, -9, -8, -7, -6, -5, -4, -5, -4, -5, -6, -7, -6, -5, -6, -5, -6, -5, -4, -3, -2, -3, -2, -1, 0, 1, 0, 1, 0, -1, 0, -1, -2, -1, -2, -1, 0, 1, 2, 1, 0, -1, -2, -1, 0, -1, -2, -1, -2, -1, 0, 1, 0, -1, -2, -3, -4, -5, -4, -3, -2, -1, -2, -3, -4, -3, -2, -3, -2, -1, -2, -1, 0, -1, -2, -1, -2, -1, -2, -3, -4, -3, -2, -1, 0, -1, -2, -3, -2, -1, -2, -3, -4, -5, -6, -5, -6, -5, -4, -3, -4, -5, -4, -5, -4, -5, -6, -5, -6, -5, -4, -3, -4, -5, -6, -7, -8, -7, -6, -5, -4, -5, -6, -5, -4, -5, -4, -5, -6, -7, -8, -9, -10, -11, -10, -9, -10, -9, -8, -9, -8, -9, -10, -11, -12, -13, -14, -13, -14, -13, -12, -13, -12, -13, -12, -13, -14, -15, -16, -15, -16, -15, -16, -17, -18, -17, -18, -17, -18, -19, -20, -19, -18, -17, -16, -15, -14, -15, -14, -13, -14, -15, -14, -15, -16, -17, -16, -17, -18, -17, -16, -15, -14, -15, -16, -17, -18, -19, -18, -19, -20, -19, -20, -19, -20, -21, -22, -21, -22, -23, -24, -25, -26, -27, -28, -27, -26, -27, -28, -29, -28, -27, -28, -27, -26, -27, -28, -27, -26, -27, -26, -25, -26, -27, -28, -27, -26, -25, -24, -25, -26, -27, -28, -29, -30, -31, -32, -33, -34, -33, -34, -33, -32, -31, -32, -31, -30, -31, -30, -31, -32, -31, -32, -31, -30, -29, -30, -29, -30, -31, -30, -29, -30, -29, -28, -29, -30, -29, -28, -27, -28, -27, -26, -25, -26, -25, -26, -25, -26, -27, -26, -27, -28, -29, -28, -29, -30, -29, -28, -29, -28, -29, -30, -31, -32, -33, -34, -33, -34, -33, -34, -35, -34, -33, -34, -35, -34, -33, -34, -33, -32, -33, -34, -33, -34, -33, -32, -33, -34, -35, -36, -37, -36, -35, -34, -35, -34, -35, -36, -35, -36, -37, -36, -35, -34, -35, -34, -33, -34, -35, -34, -33, -34, -33, -34, -35, -36, -37, -36, -35, -34, -33, -32, -31, -32, -31, -30, -31, -32, -31, -32, -33, -32, -31, -30, -29, -28, -29, -28, -29, -30, -31, -30, -31, -30, -29, -28, -27, -26, -27, -26, -27, -28, -29, -28, -29, -28, -27, -26, -25, -26, -25, -24, -25, -26, -27, -28, -29, -30, -29, -28, -29, -30, -31, -32, -31, -32, -31, -30, -31, -32, -33, -34, -35, -36, -37, -36, -35, -36, -37, -36, -37, -38, -37, -38, -39, -40, -39, -38, -39, -40, -39, -40, -41, -42, -43, -44, -45, -44, -45, -44, -43, -44, -43, -44, -43, -42, -41, -42, -43, -44, -45, -44, -43, -44, -45, -44, -45, -46, -45, -46, -47, -46, -47, -46, -45, -46, -47, -48, -47, -46, -45, -46, -45, -46, -47, -46, -47, -46, -45, -46, -47, -48, -49, -50, -51, -50, -49, -50, -49, -50, -51, -52, -53, -52, -53, -52, -51, -50, -49, -50, -49, -48, -49, -48, -47, -46, -47, -46, -45, -44, -43, -44, -43, -42, -43, -44, -43, -44, -45, -44, -45, -44, -43, -44, -43, -44, -45, -44, -43, -42, -43, -44, -43, -44, -43, -44, -43, -42, -43, -44, -45, -46, -47, -46, -45, -44, -45, -46, -45, -46, -47, -48, -47, -48, -49, -48, -47, -48, -49, -48, -47, -46, -45, -46, -45, -44, -45, -46, -47, -48, -47, -48, -47, -46, -47, -46, -47, -48, -49, -48, -49, -48, -49, -48, -47, -48, -49, -48, -49, -48, -47, -48, -47, -48, -49, -48, -49, -48, -47, -46, -47, -46, -45, -46, -45, -44, -45, -44, -45, -44, -45, -44, -43, -42, -41, -42, -41, -42, -41, -42, -41, -40, -41, -42, -41, -40, -39, -40, -39, -38, -39, -38, -39, -38, -37, -38, -39, -40, -39, -38, -39, -38, -37, -38, -39, -40, -41, -40, -39, -38, -37, -36, -37, -38, -37, -36]\n"
          ]
        }
      ]
    },
    {
      "cell_type": "markdown",
      "source": [
        "# 대표값\n",
        "1. 평균\n",
        "2. 중간값\n",
        "3. 최솟값\n",
        "4. 최댓값\n",
        "5. 분산\n",
        "6. 표준편차\n",
        "7. 1/4 분위값\n",
        "8. 3/4 분위값\n",
        "9. 최빈값"
      ],
      "metadata": {
        "id": "69XIuuzuks18"
      }
    },
    {
      "cell_type": "code",
      "source": [
        ""
      ],
      "metadata": {
        "id": "6pW9WhJvoU-o"
      },
      "execution_count": null,
      "outputs": []
    }
  ]
}