{
 "cells": [
  {
   "cell_type": "code",
   "execution_count": 2,
   "id": "88f7950d",
   "metadata": {},
   "outputs": [],
   "source": [
    "# 1\n",
    "#4번"
   ]
  },
  {
   "cell_type": "code",
   "execution_count": 3,
   "id": "82cf7715",
   "metadata": {},
   "outputs": [],
   "source": [
    "# 2\n",
    "# 5번"
   ]
  },
  {
   "cell_type": "code",
   "execution_count": 7,
   "id": "93137d04",
   "metadata": {},
   "outputs": [],
   "source": [
    "# 3\n",
    "# num%2!=0"
   ]
  },
  {
   "cell_type": "code",
   "execution_count": 8,
   "id": "07947b2a",
   "metadata": {},
   "outputs": [
    {
     "name": "stdout",
     "output_type": "stream",
     "text": [
      "점수를 입력하세요 :80\n",
      "합격입니다.^^\n"
     ]
    }
   ],
   "source": [
    "# 4\n",
    "score=int(input(\"점수를 입력하세요 :\"))\n",
    "if score >= 90:\n",
    "    print(\"장학생\",end='')    \n",
    "elif score >=60:\n",
    "    print(\"합격\",end='')    \n",
    "else :\n",
    "    print(\"불합격\",end='')\n",
    "print(\"입니다.^^\")"
   ]
  },
  {
   "cell_type": "code",
   "execution_count": 9,
   "id": "75accf6c",
   "metadata": {},
   "outputs": [
    {
     "name": "stdout",
     "output_type": "stream",
     "text": [
      "짝수\n"
     ]
    }
   ],
   "source": [
    "# 5\n",
    "# 3번\n",
    "\n",
    "\n",
    "num = 4\n",
    "\n",
    "res ='짝수' if num%2==0 else'홀수'\n",
    "\n",
    "print(res)\n"
   ]
  },
  {
   "cell_type": "code",
   "execution_count": 10,
   "id": "7712d033",
   "metadata": {},
   "outputs": [
    {
     "name": "stdout",
     "output_type": "stream",
     "text": [
      "1\n",
      "17\n",
      "8\n",
      "13\n",
      "8\n",
      "19\n",
      "13\n",
      "1\n",
      "11\n",
      "17\n",
      "11\n",
      "11\n",
      "4\n",
      "4\n",
      "4\n",
      "17\n",
      "17\n",
      "1\n",
      "4\n",
      "9\n",
      "생성된 리스트[1, 17, 8, 13, 8, 19, 13, 1, 11, 17, 11, 11, 4, 4, 4, 17, 17, 1, 4, 9]\n",
      "숫자 1는(은) 뽑혔습니다.\n",
      "숫자 4는(은) 뽑혔습니다.\n",
      "숫자 8는(은) 뽑혔습니다.\n",
      "숫자 9는(은) 뽑혔습니다.\n",
      "숫자 11는(은) 뽑혔습니다.\n",
      "숫자 13는(은) 뽑혔습니다.\n",
      "숫자 17는(은) 뽑혔습니다.\n",
      "숫자 19는(은) 뽑혔습니다.\n"
     ]
    }
   ],
   "source": [
    "# 6\n",
    "a = []\n",
    "for i in range(20):\n",
    "    n=int(input())\n",
    "    a.append(n)\n",
    "b = []\n",
    "for i in range(1,21):\n",
    "    f=0\n",
    "    for j in range(20):\n",
    "        if a[j]==i:\n",
    "            f=1\n",
    "            break\n",
    "    if f==1:\n",
    "        b.append(i)\n",
    "\n",
    "print(\"생성된 리스트\",end='')\n",
    "print(a)\n",
    "for i in range(len(b)):\n",
    "    print(\"숫자 %d는(은) 뽑혔습니다.\"%b[i])"
   ]
  },
  {
   "cell_type": "code",
   "execution_count": 67,
   "id": "10077bbd-6605-40fe-89bb-cd662dfc9368",
   "metadata": {},
   "outputs": [
    {
     "name": "stdout",
     "output_type": "stream",
     "text": [
      "[13, 7, 5, 13, 6, 7, 2, 3, 11, 6, 1, 5, 2, 8, 14, 16, 16, 20, 5, 10]\n",
      "[1, 2, 3, 5, 6, 7, 8, 10, 11, 13, 14, 16, 20]\n"
     ]
    }
   ],
   "source": [
    "#6 -2\n",
    "import random\n",
    "a=[]\n",
    "for i in range (20):\n",
    "    a.append(random.randint(1,20))\n",
    "b = []\n",
    "print(a)\n",
    "for i in a:\n",
    "    if i not in b:\n",
    "        b.append(i)\n",
    "print(sorted(b))"
   ]
  },
  {
   "cell_type": "code",
   "execution_count": null,
   "id": "6e1e9b5f-7166-44a0-a554-ad14508f3f4c",
   "metadata": {},
   "outputs": [],
   "source": [
    "#6- 3\n",
    "import random\n",
    "a=[]\n",
    "for i in range (20):\n",
    "    a.append(random.randint(1,20))\n",
    "b = []\n",
    "print(a)\n",
    "for i in range (20):\n",
    "    if a[i] not in b:\n",
    "        b.append(a[i])\n",
    "print(sorted(b))"
   ]
  },
  {
   "cell_type": "code",
   "execution_count": null,
   "id": "f0536c9a-265b-466f-8aec-a91403faf260",
   "metadata": {},
   "outputs": [],
   "source": []
  }
 ],
 "metadata": {
  "kernelspec": {
   "display_name": "Python 3 (ipykernel)",
   "language": "python",
   "name": "python3"
  },
  "language_info": {
   "codemirror_mode": {
    "name": "ipython",
    "version": 3
   },
   "file_extension": ".py",
   "mimetype": "text/x-python",
   "name": "python",
   "nbconvert_exporter": "python",
   "pygments_lexer": "ipython3",
   "version": "3.9.7"
  }
 },
 "nbformat": 4,
 "nbformat_minor": 5
}
