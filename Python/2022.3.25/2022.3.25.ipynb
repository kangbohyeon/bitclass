{
 "cells": [
  {
   "cell_type": "code",
   "execution_count": null,
   "id": "bc256006-1aba-438c-818b-290590bd4660",
   "metadata": {},
   "outputs": [],
   "source": [
    "from tkinter import *\n",
    "\n",
    "window = Tk()\n",
    "window.title(\"윈도우 연습\")\n",
    "window.geometry(\"800x400\")\n",
    "#window.resizable(width = False,height = False)\n",
    "label1 = Label(window, text = \"COOKBOOK~~ Python을\")\n",
    "label2 = Label(window, text = \"열심히\", font = (\"궁서체\", 30), fg = \"blue\")\n",
    "label3 = Label(window, text = \"공부 중입니다.\", bg = \"magenta\", width = 20, height = 5, anchor = SE)\n",
    "\n",
    "label1.pack()\n",
    "label2.pack()\n",
    "label3.pack()\n",
    "\n",
    "window.mainloop()"
   ]
  },
  {
   "cell_type": "code",
   "execution_count": 3,
   "id": "66fed3ea-9203-42df-bbb4-d8c8656fa368",
   "metadata": {},
   "outputs": [],
   "source": [
    "from tkinter import *\n",
    "\n",
    "window = Tk()\n",
    "window.title(\"윈도우 연습\")\n",
    "window.geometry(\"800x400\")\n",
    "photo = PhotoImage(file = \"source/GIF/dog10.gif\")\n",
    "button1 = Button(window, text = \"파이썬 종료\", fg = \"red\", command = quit)\n",
    "\n",
    "label1 = Label(window, image = photo)\n",
    "\n",
    "label1.pack();\n",
    "\n",
    "window.mainloop()\n"
   ]
  },
  {
   "cell_type": "code",
   "execution_count": 4,
   "id": "08d1af1e-3bcf-43d6-b745-ebb90d7b5282",
   "metadata": {},
   "outputs": [],
   "source": [
    "from tkinter import *\n",
    "from tkinter import messagebox\n",
    "\n",
    "\n",
    "## 함수 선언 부분 ##\n",
    "def myFunc() :\n",
    "    messagebox.showinfo(\"강아지 버튼\", \"강아지가 귀엽죠? ^^\")\n",
    "\n",
    "\n",
    "window = Tk()\n",
    "window.title(\"윈도우 연습\")\n",
    "window.geometry(\"800x400\")\n",
    "photo = PhotoImage(file = \"source/GIF/dog10.gif\")\n",
    "#button1 = Button(window, text = \"파이썬 종료\", fg = \"red\", command = quit)\n",
    "button1 = Button(window, image = photo, command = myFunc)\n",
    "\n",
    "button1.pack()\n",
    "\n",
    "window.mainloop()\n"
   ]
  },
  {
   "cell_type": "code",
   "execution_count": 22,
   "id": "f6a70aaf-cd63-4ca5-8648-be72ded9ceac",
   "metadata": {},
   "outputs": [],
   "source": [
    "#10-7\n",
    "from tkinter import *\n",
    "from tkinter import messagebox\n",
    "window = Tk()\n",
    "\n",
    "## 함수 선언 부분 ##\n",
    "def  myFunc() :\n",
    "    if chk.get() == 0 :\n",
    "        messagebox.showinfo(\"\", \"체크버튼이 꺼졌어요.\")\n",
    "    else :\n",
    "        messagebox.showinfo(\"\", \"체크버튼이 켜졌어요.\")\n",
    "    \n",
    "## 메인 코드 부분 ##\n",
    "window.geometry(\"800x400\")\n",
    "chk = IntVar()\n",
    "cb1 = Checkbutton(window, text = \"클릭하세요\", variable = chk, command = myFunc)\n",
    "\n",
    "cb1.pack()\n",
    "\n",
    "window.mainloop()\n"
   ]
  },
  {
   "cell_type": "code",
   "execution_count": 23,
   "id": "e7cbfb02-31b2-4400-bc50-94b72b7f6eb1",
   "metadata": {},
   "outputs": [],
   "source": [
    "#10-8\n",
    "from tkinter import *\n",
    "window = Tk()\n",
    "\n",
    "## 함수 선언 부분 ##\n",
    "def  myFunc() :\n",
    "    if var.get() == 1 :\n",
    "        label1.configure(text = \"파이썬\")\n",
    "    elif var.get() == 2 :\n",
    "        label1.configure(text = \"C++\")\n",
    "    else :\n",
    "        label1.configure(text = \"Java\")\n",
    "    \n",
    "## 메인 코드 부분 ##\n",
    "window.geometry(\"800x400\")\n",
    "var = IntVar()\n",
    "rb1 = Radiobutton(window, text = \"파이썬\", variable = var, value = 1, command = myFunc)\n",
    "rb2 = Radiobutton(window, text = \"C++\", variable = var, value = 2, command = myFunc)\n",
    "rb3 = Radiobutton(window, text = \"Java\", variable = var, value = 3, command = myFunc)\n",
    "\n",
    "label1 = Label(window, text=\"선택한 언어 : \", fg=\"red\")\n",
    "\n",
    "rb1.pack()\n",
    "rb2.pack()\n",
    "rb3.pack()\n",
    "label1.pack()\n",
    "\n",
    "window.mainloop()\n"
   ]
  },
  {
   "cell_type": "code",
   "execution_count": null,
   "id": "dd111d38-74d0-4995-bf7f-e57108f45056",
   "metadata": {},
   "outputs": [],
   "source": []
  },
  {
   "cell_type": "markdown",
   "id": "13ac5e23-efa9-47d7-b1b5-dc2ccee78c65",
   "metadata": {},
   "source": [
    "# 위젯 배치!!"
   ]
  },
  {
   "cell_type": "code",
   "execution_count": 4,
   "id": "874eb420-8ac2-4b8f-8162-50ede30cdc87",
   "metadata": {},
   "outputs": [],
   "source": [
    "from tkinter import *\n",
    "window = Tk()\n",
    "window.geometry(\"800x400\")\n",
    "button1 = Button(window, text = \"버튼1\")\n",
    "button2 = Button(window, text = \"버튼2\")\n",
    "button3 = Button(window, text = \"버튼3\")\n",
    "\n",
    "button1.pack(side = LEFT)\n",
    "button2.pack(side = LEFT)\n",
    "button3.pack(side = LEFT)\n",
    "\n",
    "window.mainloop()"
   ]
  },
  {
   "cell_type": "code",
   "execution_count": 3,
   "id": "89639689-ec34-4257-a0e8-23404c92816b",
   "metadata": {},
   "outputs": [],
   "source": [
    "#11-12\n",
    "from tkinter import *\n",
    "from time import *\n",
    "import glob\n",
    "#fnameList = glob.glob('source\\\\GIF\\\\*.gif')\n",
    "#print(image)\n",
    "\n",
    "## 전역  변수 선언 부분 ## \n",
    "fnameList = [\"jeju1.gif\", \"jeju2.gif\", \"jeju3.gif\", \"jeju4.gif\", \"jeju5.gif\", \"jeju6.gif\", \"jeju7.gif\", \"jeju8.gif\", \"jeju9.gif\"]\n",
    "#fnameList = glob.glob('source\\\\GIF\\\\*.gif')\n",
    "photoList = [None] * 9\n",
    "num = 0\n",
    "\n",
    "## 함수 선언 부분 ## \n",
    "def clickNext() :\n",
    "    global num\n",
    "    num += 1\n",
    "    if num > 8 :\n",
    "        num = 0\n",
    "    photo = PhotoImage(file = \"source/GIF/\" + fnameList[num])\n",
    "    pLabel.configure(image = photo)\n",
    "    pLabel.image = photo\n",
    "    \n",
    "def clickPrev() :\n",
    "    global num\n",
    "    num -= 1\n",
    "    if num < 0 :\n",
    "        num = 8\n",
    "    photo = PhotoImage(file = \"source/GIF/\" + fnameList[num])\n",
    "    pLabel.configure(image = photo)\n",
    "    pLabel.image=photo\n",
    "    \n",
    "## 메인 코드 부분\n",
    "window = Tk()\n",
    "window.geometry(\"700x500\")\n",
    "window.title(\"사진 앨범 보기\")\n",
    "\n",
    "btnPrev = Button(window, text = \"<< 이전\", command = clickPrev)\n",
    "btnNext = Button(window, text = \"다음 >>\", command = clickNext)\n",
    "\n",
    "photo = PhotoImage(file = \"source/GIF/\" + fnameList[0])\n",
    "pLabel = Label(window, image = photo)  \n",
    "\n",
    "btnPrev.place(x = 250, y = 10)\n",
    "btnNext.place(x = 400, y = 10)\n",
    "pLabel.place(x = 15, y = 50)\n",
    "\n",
    "window.mainloop()"
   ]
  },
  {
   "cell_type": "code",
   "execution_count": 24,
   "id": "5054c403-7761-495b-830b-ebc140257e8b",
   "metadata": {},
   "outputs": [
    {
     "name": "stdin",
     "output_type": "stream",
     "text": [
      " 100\n",
      " 50\n"
     ]
    },
    {
     "name": "stdout",
     "output_type": "stream",
     "text": [
      "100 50 150\n"
     ]
    }
   ],
   "source": [
    "n1 = input()\n",
    "n2 = input()\n",
    "\n",
    "res = int(n1)+int(n2)\n",
    "\n",
    "print(n1,n2,res)"
   ]
  },
  {
   "cell_type": "code",
   "execution_count": 25,
   "id": "89acedbe-6f40-4aea-af67-ae5c4e8a1b7f",
   "metadata": {},
   "outputs": [
    {
     "name": "stdout",
     "output_type": "stream",
     "text": [
      "5 / 10 = 0\n"
     ]
    }
   ],
   "source": [
    "print('%d / %d = %d'%(5,10,5/10))"
   ]
  },
  {
   "cell_type": "code",
   "execution_count": 27,
   "id": "0284b1dc-25bd-41da-9c54-6cdf42d6efe5",
   "metadata": {},
   "outputs": [
    {
     "name": "stdout",
     "output_type": "stream",
     "text": [
      "123.5\n"
     ]
    }
   ],
   "source": [
    "print('%1.1f'%123.45)"
   ]
  },
  {
   "cell_type": "code",
   "execution_count": 29,
   "id": "9515eb02-3cc8-477f-bdfc-0b15bcb2b1d4",
   "metadata": {},
   "outputs": [
    {
     "data": {
      "text/plain": [
       "False"
      ]
     },
     "execution_count": 29,
     "metadata": {},
     "output_type": "execute_result"
    }
   ],
   "source": [
    "False and False"
   ]
  },
  {
   "cell_type": "code",
   "execution_count": null,
   "id": "cfc5ae1b-26d8-414a-91c5-47b38da247a7",
   "metadata": {},
   "outputs": [],
   "source": [
    "()\n",
    "+\n",
    "\n",
    "<<\n",
    "&\n",
    "\n",
    ">=\n",
    "==\n",
    "and"
   ]
  },
  {
   "cell_type": "code",
   "execution_count": null,
   "id": "cd079006-c355-453f-84df-a5886b874e41",
   "metadata": {},
   "outputs": [],
   "source": [
    "# 8\n",
    "# 8-1 ()\n",
    "# 8-2 +\n",
    "# 8-3 <<\n",
    "# 8-4 &\n",
    "# 8-5 '>='\n",
    "# 8-6 '''=='''\n",
    "# 8-7 and"
   ]
  },
  {
   "cell_type": "code",
   "execution_count": null,
   "id": "7b4558a0-8188-4710-9f89-256dfb615ef4",
   "metadata": {},
   "outputs": [],
   "source": []
  },
  {
   "cell_type": "code",
   "execution_count": 40,
   "id": "48512f15-0212-452e-bbc9-8e75740f90ba",
   "metadata": {},
   "outputs": [
    {
     "name": "stdout",
     "output_type": "stream",
     "text": [
      "1\n",
      "0\n",
      "0\n",
      "0\n",
      "1\n",
      "0\n",
      "0\n",
      "0\n",
      "1\n",
      "0\n",
      "0\n",
      "0\n"
     ]
    }
   ],
   "source": [
    "for i in range(3):\n",
    "    print('1')\n",
    "    for j in range(3):\n",
    "        # if j ==0:\n",
    "        #     #print('2')\n",
    "        #     continue\n",
    "        print('0')\n",
    "        "
   ]
  },
  {
   "cell_type": "code",
   "execution_count": 42,
   "id": "f9843020-3cfe-4f85-a88a-942750751731",
   "metadata": {},
   "outputs": [
    {
     "data": {
      "text/plain": [
       "[500, 300, 100]"
      ]
     },
     "execution_count": 42,
     "metadata": {},
     "output_type": "execute_result"
    }
   ],
   "source": [
    "#5\n",
    "nn = [100,200,300,400,500]\n",
    "\n",
    "# 1. nn[4] = 500\n",
    "# 2. nn[-1] = 500\n",
    "# 3. nn[-2] = 400\n",
    "# 4. nn[1:4] = [200, 300, 400]\n",
    "# 5. nn[0:1] = [100]\n",
    "# 6. nn[2:-1] = [300, 400]\n",
    "# 7. nn[0:2] = [100, 200]\n",
    "# 8. nn[::-1] = [500 ,400 ,300 ,200 ,100]\n",
    "# 9. \n",
    "nn[::-2]"
   ]
  },
  {
   "cell_type": "code",
   "execution_count": null,
   "id": "f6be6e1a-a194-48a4-89dc-337ed38d15cd",
   "metadata": {},
   "outputs": [],
   "source": []
  }
 ],
 "metadata": {
  "kernelspec": {
   "display_name": "Python 3 (ipykernel)",
   "language": "python",
   "name": "python3"
  },
  "language_info": {
   "codemirror_mode": {
    "name": "ipython",
    "version": 3
   },
   "file_extension": ".py",
   "mimetype": "text/x-python",
   "name": "python",
   "nbconvert_exporter": "python",
   "pygments_lexer": "ipython3",
   "version": "3.9.7"
  }
 },
 "nbformat": 4,
 "nbformat_minor": 5
}
