{
 "cells": [
  {
   "cell_type": "code",
   "execution_count": 41,
   "id": "3e3aacf6-9a75-42bc-b04c-006401e10506",
   "metadata": {},
   "outputs": [],
   "source": [
    "a = [1,2,3]"
   ]
  },
  {
   "cell_type": "code",
   "execution_count": 47,
   "id": "8bfe748a-3259-41ef-8320-ebc8d1b6acca",
   "metadata": {},
   "outputs": [
    {
     "ename": "NameError",
     "evalue": "name 'o0123' is not defined",
     "output_type": "error",
     "traceback": [
      "\u001b[1;31m---------------------------------------------------------------------------\u001b[0m",
      "\u001b[1;31mNameError\u001b[0m                                 Traceback (most recent call last)",
      "Input \u001b[1;32mIn [47]\u001b[0m, in \u001b[0;36m<cell line: 1>\u001b[1;34m()\u001b[0m\n\u001b[1;32m----> 1\u001b[0m \u001b[43mo0123\u001b[49m\n",
      "\u001b[1;31mNameError\u001b[0m: name 'o0123' is not defined"
     ]
    }
   ],
   "source": []
  },
  {
   "cell_type": "code",
   "execution_count": 2,
   "id": "6f80de28-137a-4c08-b744-88b14848890f",
   "metadata": {},
   "outputs": [],
   "source": [
    "# 1\n",
    "# inFp = open(\"Module1.py\", \"r\")\n",
    "inFp = open(\"Module1_cp949.py\", \"r\", encoding='utf-8')"
   ]
  },
  {
   "cell_type": "code",
   "execution_count": 8,
   "id": "3aa1c9c4-e870-4b82-ac50-f5dd0b265844",
   "metadata": {},
   "outputs": [],
   "source": [
    "inFp = open('테스트.txt', 'r', encoding='cp949')"
   ]
  },
  {
   "cell_type": "code",
   "execution_count": 9,
   "id": "883ec3d6-8075-4393-8c68-ffda345dd909",
   "metadata": {},
   "outputs": [
    {
     "data": {
      "text/plain": [
       "<_io.TextIOWrapper name='테스트.txt' mode='r' encoding='cp949'>"
      ]
     },
     "execution_count": 9,
     "metadata": {},
     "output_type": "execute_result"
    }
   ],
   "source": [
    "inFp"
   ]
  },
  {
   "cell_type": "code",
   "execution_count": 6,
   "id": "934fb4aa-273c-465d-b405-ddfb277fa708",
   "metadata": {},
   "outputs": [
    {
     "name": "stdout",
     "output_type": "stream",
     "text": [
      "Python 3.8.12\n"
     ]
    }
   ],
   "source": [
    "!python -V"
   ]
  },
  {
   "cell_type": "code",
   "execution_count": 119,
   "id": "42bbd393-4046-4155-83c4-2c02764dad58",
   "metadata": {},
   "outputs": [
    {
     "data": {
      "text/plain": [
       "''"
      ]
     },
     "execution_count": 119,
     "metadata": {},
     "output_type": "execute_result"
    }
   ],
   "source": [
    "inStr = inFp.readline()\n",
    "inStr"
   ]
  },
  {
   "cell_type": "code",
   "execution_count": 120,
   "id": "11883197-0a7c-42ab-ab91-73abae964c1d",
   "metadata": {},
   "outputs": [],
   "source": [
    "inFp.close()"
   ]
  },
  {
   "cell_type": "code",
   "execution_count": null,
   "id": "81379e08-3569-4ef5-a4c6-6fd3d1be7bd3",
   "metadata": {},
   "outputs": [],
   "source": []
  },
  {
   "cell_type": "code",
   "execution_count": null,
   "id": "a9fbd90d-a27e-446a-b329-36f4ea022db7",
   "metadata": {},
   "outputs": [],
   "source": []
  },
  {
   "cell_type": "markdown",
   "id": "2d792471-284b-467a-9b66-d32342afb330",
   "metadata": {},
   "source": []
  },
  {
   "cell_type": "code",
   "execution_count": 17,
   "id": "db8571c5-9751-4717-b5f8-80a8ec46c2dd",
   "metadata": {},
   "outputs": [],
   "source": [
    "inFp = open(\"Module1_cp949.py\", \"r\")"
   ]
  },
  {
   "cell_type": "code",
   "execution_count": 18,
   "id": "cee57e10-cc18-4993-a5a2-38a15b162ba9",
   "metadata": {},
   "outputs": [
    {
     "data": {
      "text/plain": [
       "'# 한글\\ndef func1():\\n    print(\"module1.py func1()\")\\n    \\ndef func2():\\n    print(\"module1.py func2()\")\\n    \\ndef func3():\\n    print(\"module1.py func3()\")\\n    \\n    \\nPI = 3.14'"
      ]
     },
     "execution_count": 18,
     "metadata": {},
     "output_type": "execute_result"
    }
   ],
   "source": [
    "inFp.read()"
   ]
  },
  {
   "cell_type": "code",
   "execution_count": 19,
   "id": "339d9bd9-3900-4b16-9b52-349b056c9346",
   "metadata": {},
   "outputs": [],
   "source": [
    "inFp = open(\"Module1_cp949.py\", \"r\")"
   ]
  },
  {
   "cell_type": "code",
   "execution_count": 26,
   "id": "fadd291f-bc63-4f62-8ac4-2f322206c68b",
   "metadata": {},
   "outputs": [
    {
     "data": {
      "text/plain": [
       "'    \\n'"
      ]
     },
     "execution_count": 26,
     "metadata": {},
     "output_type": "execute_result"
    }
   ],
   "source": [
    "inFp.readline()"
   ]
  },
  {
   "cell_type": "code",
   "execution_count": 27,
   "id": "f29a94fe-fe9e-49aa-a64c-8e0cf8c0d65d",
   "metadata": {},
   "outputs": [],
   "source": [
    "inFp = open(\"Module1_cp949.py\", \"r\")"
   ]
  },
  {
   "cell_type": "code",
   "execution_count": 33,
   "id": "aa07f091-7b63-4acb-b338-dc52b3fd386b",
   "metadata": {},
   "outputs": [
    {
     "data": {
      "text/plain": [
       "[]"
      ]
     },
     "execution_count": 33,
     "metadata": {},
     "output_type": "execute_result"
    }
   ],
   "source": [
    "inFp.readlines()"
   ]
  },
  {
   "cell_type": "code",
   "execution_count": 34,
   "id": "00cda4c0-022c-422b-855a-45fa9a4adf1a",
   "metadata": {},
   "outputs": [],
   "source": [
    "inFp.close()"
   ]
  },
  {
   "cell_type": "markdown",
   "id": "ee7b3d0f-e6d6-4b17-80ef-187d8d8f7ef2",
   "metadata": {},
   "source": [
    "p353 파일 전체 내용 일기"
   ]
  },
  {
   "cell_type": "code",
   "execution_count": 27,
   "id": "4269e331-5bee-43c0-a18c-889991009d02",
   "metadata": {},
   "outputs": [],
   "source": [
    "inFp = open(\"Module1_cp949.py\", \"r\")\n",
    "\n",
    "while True:\n",
    "    str = inFp.readline()\n",
    "    if str == '':  # end\n",
    "        break\n",
    "    print(str)\n",
    "    \n",
    "inFp.close()"
   ]
  },
  {
   "cell_type": "markdown",
   "id": "139399e9-a42f-4c2b-91da-945ee15949c2",
   "metadata": {},
   "source": [
    "with ... as"
   ]
  },
  {
   "cell_type": "code",
   "execution_count": 35,
   "id": "c43560ea-b1c4-4eb1-990a-c3b330ecda62",
   "metadata": {},
   "outputs": [
    {
     "name": "stdout",
     "output_type": "stream",
     "text": [
      "# 한글\n",
      "\n",
      "def func1():\n",
      "\n",
      "    print(\"module1.py func1()\")\n",
      "\n",
      "    \n",
      "\n",
      "def func2():\n",
      "\n",
      "    print(\"module1.py func2()\")\n",
      "\n",
      "    \n",
      "\n",
      "def func3():\n",
      "\n",
      "    print(\"module1.py func3()\")\n",
      "\n",
      "    \n",
      "\n",
      "    \n",
      "\n",
      "PI = 3.14\n"
     ]
    }
   ],
   "source": [
    "with open(\"Module1_cp949.py\", \"r\") as f:\n",
    "    while True:\n",
    "        str = f.readline()\n",
    "        if str == '':  # end\n",
    "            break\n",
    "        print(str)"
   ]
  },
  {
   "cell_type": "code",
   "execution_count": null,
   "id": "e971c1e3-fbf1-4907-b083-8fcd826cded0",
   "metadata": {},
   "outputs": [],
   "source": []
  },
  {
   "cell_type": "code",
   "execution_count": null,
   "id": "20feb6f5-0bb1-4dfe-859b-c2ead6ee446d",
   "metadata": {},
   "outputs": [],
   "source": []
  },
  {
   "cell_type": "code",
   "execution_count": null,
   "id": "8c0809f3-1dd8-4c95-a157-fa30838e8248",
   "metadata": {},
   "outputs": [],
   "source": [
    "1 + ''\n",
    "2 + ''\n",
    "3 + ''\n",
    "4 + ''\n",
    "5 + ''"
   ]
  }
 ],
 "metadata": {
  "kernelspec": {
   "display_name": "Python 3 (ipykernel)",
   "language": "python",
   "name": "python3"
  },
  "language_info": {
   "codemirror_mode": {
    "name": "ipython",
    "version": 3
   },
   "file_extension": ".py",
   "mimetype": "text/x-python",
   "name": "python",
   "nbconvert_exporter": "python",
   "pygments_lexer": "ipython3",
   "version": "3.8.12"
  }
 },
 "nbformat": 4,
 "nbformat_minor": 5
}
