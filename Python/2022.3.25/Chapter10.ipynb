{
 "cells": [
  {
   "cell_type": "code",
   "execution_count": 1,
   "id": "52ff6613-73bd-4144-b333-4af26918bde9",
   "metadata": {},
   "outputs": [],
   "source": [
    "from tkinter import *\n",
    "\n",
    "window = Tk()\n",
    "window.title('윈도우 창')\n",
    "window.geometry('200x600')\n",
    "window.resizable(width=FALSE, height=FALSE)\n",
    "window.mainloop()"
   ]
  },
  {
   "cell_type": "code",
   "execution_count": 8,
   "id": "7c1da9c1-4834-4d67-ad0b-80e803dd9267",
   "metadata": {},
   "outputs": [],
   "source": [
    "from tkinter import *\n",
    "\n",
    "window = Tk()\n",
    "window.title('윈도우 창')\n",
    "window.geometry('400x300')\n",
    "\n",
    "label1 = Label(window, text='안녕하세요. TKinter')\n",
    "label2 = Label(window, text='글씨체', font=('굴림', 30), fg='blue')\n",
    "label3 = Label(window, text='위치', fg='blue', width=20, height=5, anchor = NE)\n",
    "\n",
    "label1.pack()\n",
    "label2.pack()\n",
    "label3.pack()\n",
    "\n",
    "window.mainloop()"
   ]
  },
  {
   "cell_type": "markdown",
   "id": "a764e319-7562-4b9e-810c-112b93dd2539",
   "metadata": {},
   "source": [
    "p304 이미지"
   ]
  },
  {
   "cell_type": "code",
   "execution_count": 9,
   "id": "9bc096ef-33ce-46cc-8d5a-ae8328c001c9",
   "metadata": {},
   "outputs": [],
   "source": [
    "window = Tk()\n",
    "\n",
    "photo = PhotoImage(file='gif/' + 'puppy.gif')\n",
    "label1 = Label(window, image = photo)\n",
    "\n",
    "label1.pack()\n",
    "\n",
    "window.mainloop()"
   ]
  },
  {
   "cell_type": "markdown",
   "id": "f4df7e6a-63c0-43ea-8323-787ce8610354",
   "metadata": {},
   "source": [
    "p305 버튼"
   ]
  },
  {
   "cell_type": "code",
   "execution_count": 3,
   "id": "c2d26c76-4a76-4485-bb0f-919dade3194c",
   "metadata": {},
   "outputs": [],
   "source": [
    "from tkinter import *\n",
    "from tkinter import messagebox\n",
    "window = Tk()\n",
    "window.geometry('400x400')\n",
    "\n",
    "def  myFunc() :\n",
    "    if chk.get() == 0 :\n",
    "        messagebox.showinfo(\"\", \"체크버튼이 꺼졌어요.\")\n",
    "    else :\n",
    "        messagebox.showinfo(\"\", \"체크버튼이 켜졌어요.\")\n",
    "    \n",
    "## 메인 코드 부분 ##\n",
    "chk = IntVar()\n",
    "cb1 = Checkbutton(window, text = \"클릭하세요\", variable = chk, command = myFunc)\n",
    "\n",
    "cb1.pack()\n",
    "\n",
    "window.mainloop()\n"
   ]
  },
  {
   "cell_type": "markdown",
   "id": "82f2c564-493c-4160-80be-833eaf90f13c",
   "metadata": {},
   "source": [
    "p308 라디오버튼"
   ]
  },
  {
   "cell_type": "code",
   "execution_count": 4,
   "id": "2c3d9159-906a-4f57-8009-f3f780a17160",
   "metadata": {},
   "outputs": [],
   "source": [
    "from tkinter import *\n",
    "window = Tk()\n",
    "window.geometry('400x400')\n",
    "\n",
    "def  myFunc() :\n",
    "    if var.get() == 1 :\n",
    "        label1.configure(text = \"파이썬\")\n",
    "    elif var.get() == 2 :\n",
    "        label1.configure(text = \"C++\")\n",
    "    else :\n",
    "        label1.configure(text = \"Java\")\n",
    "    \n",
    "var = IntVar()\n",
    "rb1 = Radiobutton(window, text = \"파이썬\", variable = var, value = 1, command = myFunc)\n",
    "rb2 = Radiobutton(window, text = \"C++\", variable = var, value = 2, command = myFunc)\n",
    "rb3 = Radiobutton(window, text = \"Java\", variable = var, value = 3, command = myFunc)\n",
    "\n",
    "label1 = Label(window, text=\"선택한 언어 : \", fg=\"red\")\n",
    "\n",
    "rb1.pack()\n",
    "rb2.pack()\n",
    "rb3.pack()\n",
    "label1.pack()\n",
    "window.mainloop()"
   ]
  },
  {
   "cell_type": "code",
   "execution_count": null,
   "id": "c13fa380-cabb-44d5-89d9-f7592aeb736b",
   "metadata": {},
   "outputs": [],
   "source": []
  },
  {
   "cell_type": "markdown",
   "id": "52887042-bf25-43e1-b731-6bb0745d1484",
   "metadata": {},
   "source": [
    "## 위젯 배치!!!"
   ]
  },
  {
   "cell_type": "code",
   "execution_count": 10,
   "id": "bf6d0432-b875-473d-a7e0-184ba6520461",
   "metadata": {},
   "outputs": [],
   "source": [
    "#side=LEFT\n",
    "window = Tk()\n",
    "window.geometry('400x400')\n",
    "\n",
    "button1 = Button(window, text = \"버튼1\")\n",
    "button2 = Button(window, text = \"버튼2\")\n",
    "button3 = Button(window, text = \"버튼3\")\n",
    "\n",
    "button1.pack(side = TOP)\n",
    "button2.pack(side = LEFT)\n",
    "button3.pack(side = LEFT)\n",
    "\n",
    "window.mainloop()\n"
   ]
  },
  {
   "cell_type": "markdown",
   "id": "b4a56d1b-4f07-4315-b22c-b0cb7f1bc1c7",
   "metadata": {},
   "source": [
    "p313 프로그램1 실습"
   ]
  },
  {
   "cell_type": "code",
   "execution_count": 1,
   "id": "7fab511f-12e4-4636-ac8d-fa8a73c929bc",
   "metadata": {},
   "outputs": [],
   "source": [
    "from tkinter import *\n",
    "from time import *\n",
    "\n",
    "fnameList = [\"jeju1.gif\", \"jeju2.gif\", \"jeju3.gif\", \"jeju4.gif\", \"jeju5.gif\", \n",
    "             \"jeju6.gif\", \"jeju7.gif\", \"jeju8.gif\", \"jeju9.gif\"]\n",
    "photoList = [None] * 9\n",
    "num = 0\n",
    "\n",
    "def clickNext() :\n",
    "    global num\n",
    "    num += 1\n",
    "    if num > 8 :\n",
    "        num = 0\n",
    "    photo = PhotoImage(file = \"gif/\" + fnameList[num])\n",
    "    pLabel.configure(image = photo)\n",
    "    pLabel.image = photo\n",
    "    \n",
    "def clickPrev() :\n",
    "    global num\n",
    "    num -= 1\n",
    "    if num < 0 :\n",
    "        num = 8\n",
    "    photo = PhotoImage(file = \"gif/\" + fnameList[num])\n",
    "    pLabel.configure(image = photo)\n",
    "    pLabel.image=photo\n",
    "    \n",
    "window = Tk()\n",
    "window.geometry(\"700x500\")\n",
    "window.title(\"사진 앨범 보기\")\n",
    "\n",
    "btnPrev = Button(window, text = \"<< 이전\", command = clickPrev)\n",
    "btnNext = Button(window, text = \"다음 >>\", command = clickNext)\n",
    "\n",
    "photo = PhotoImage(file = \"gif/\" + fnameList[0])\n",
    "pLabel = Label(window, image = photo)  \n",
    "\n",
    "btnPrev.place(x = 250, y = 10)\n",
    "btnNext.place(x = 400, y = 10)\n",
    "pLabel.place(x = 15, y = 50)\n",
    "\n",
    "window.mainloop()\n"
   ]
  },
  {
   "cell_type": "code",
   "execution_count": null,
   "id": "49dd5459-d33f-4cf6-82fe-633ef91d75e3",
   "metadata": {},
   "outputs": [],
   "source": []
  }
 ],
 "metadata": {
  "kernelspec": {
   "display_name": "Python 3 (ipykernel)",
   "language": "python",
   "name": "python3"
  },
  "language_info": {
   "codemirror_mode": {
    "name": "ipython",
    "version": 3
   },
   "file_extension": ".py",
   "mimetype": "text/x-python",
   "name": "python",
   "nbconvert_exporter": "python",
   "pygments_lexer": "ipython3",
   "version": "3.8.12"
  }
 },
 "nbformat": 4,
 "nbformat_minor": 5
}
