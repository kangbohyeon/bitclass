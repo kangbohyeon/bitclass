{
 "cells": [
  {
   "cell_type": "code",
   "execution_count": null,
   "id": "63808a8f",
   "metadata": {},
   "outputs": [],
   "source": [
    "#final_data_processing\n",
    "\n",
    "import pandas as pd\n",
    "import random\n",
    "path ='/Users/bohyenkang/Desktop/data/second_data/new_data.csv'\n",
    "df = pd.read_csv(path)\n",
    "df = df.drop(df.columns[[1,2]],axis=1)\n",
    "\n",
    "\n",
    "df = df.rename(columns={'Unnamed: 0' : 'movie_id'})\n",
    "df = df.rename(columns={'영화명' : 'title'})\n",
    "df = df.rename(columns={'장르' : 'genre'})\n",
    "df = df.rename(columns={'제작국가' : 'country'})\n",
    "df = df.rename(columns={'감독' : 'director'})\n",
    "df = df.rename(columns={'제작국가' : 'country'})\n",
    "df = df.rename(columns={'평점' : 'avg_rating'})\n",
    "df = df.rename(columns={'배우' : 'actor'})\n",
    "df = df.rename(columns={'제작연도' : 'year'})\n",
    "\n",
    "a = []\n",
    "b = []\n",
    "\n",
    "for i in range(len(df)):\n",
    "    x = random.randint(1,1000)\n",
    "    y = random.randint(1,5)\n",
    "    a.append(x)\n",
    "    b.append(y)\n",
    "\n",
    "data = {\n",
    "    'user_id':a,\n",
    "    'rating': b\n",
    "}\n",
    "\n",
    "df4 = pd.DataFrame(data)  \n",
    "\n",
    "new_df3 = pd.concat([df,df4],axis=1)\n",
    "\n",
    "new_df3 = new_df3.drop(index=new_df3[new_df3['avg_rating']==10].index)\n",
    "new_df3 = new_df3.drop(index=new_df3[new_df3['avg_rating']==0].index)\n",
    "\n",
    "new_df3.to_csv('df1000.csv',index=True)"
   ]
  },
  {
   "cell_type": "code",
   "execution_count": null,
   "id": "e9ad0e37",
   "metadata": {},
   "outputs": [],
   "source": []
  },
  {
   "cell_type": "code",
   "execution_count": null,
   "id": "98f839a3",
   "metadata": {},
   "outputs": [],
   "source": []
  },
  {
   "cell_type": "code",
   "execution_count": null,
   "id": "8261f150",
   "metadata": {},
   "outputs": [],
   "source": []
  },
  {
   "cell_type": "code",
   "execution_count": null,
   "id": "a6343abf",
   "metadata": {},
   "outputs": [],
   "source": [
    "import pandas as pd\n",
    "data =pd.read_csv('/Users/bohyenkang/df1000.csv')\n",
    "data =data.drop(data.columns[0],axis=1)\n",
    "\n",
    "from surprise import SVD, Dataset, Reader, accuracy\n",
    "from surprise.model_selection import train_test_split\n",
    "# reader 생성\n",
    "reader = Reader(rating_scale = (1,5))\n",
    "\n",
    "# 데이터를 생성한다. \n",
    "a1 = data[[\"user_id\", \"movie_id\", \"rating\"]]\n",
    "data2 = Dataset.load_from_df(a1, reader)\n",
    "train_data = data2.build_full_trainset()\n",
    "\n",
    "# 모델 생성 및 학습\n",
    "model = SVD()\n",
    "model.fit(train_data)"
   ]
  },
  {
   "cell_type": "code",
   "execution_count": null,
   "id": "49e720a3",
   "metadata": {},
   "outputs": [],
   "source": []
  },
  {
   "cell_type": "code",
   "execution_count": null,
   "id": "bc124854",
   "metadata": {},
   "outputs": [],
   "source": []
  },
  {
   "cell_type": "code",
   "execution_count": null,
   "id": "87571e1b",
   "metadata": {},
   "outputs": [],
   "source": [
    "#예측할 사용자를 선정하도록 하자. \n",
    "#user_id가 2번인 유저의 영화 평가 데이터를 타겟으로 설정하자. 2\n",
    "#2번 유저의 데이터를 새로운 데이터 프레임에 저장한다.\n",
    "target_user_id = 2\n",
    "target_user_data = data.query(f\"user_id == {target_user_id}\")\n",
    "target_user_data"
   ]
  },
  {
   "cell_type": "code",
   "execution_count": null,
   "id": "7efad437",
   "metadata": {},
   "outputs": [],
   "source": [
    "#다음은 user_id가 2인 평가한 영화 번호와 평점을 가져온다. \n",
    "#iterrows()를 사용하면 칼럼의 값을 시리즈로 출력해줄 수 있다. \n",
    "a1 = target_user_data[ [\"movie_id\", \"rating\"] ]\n",
    "\n",
    "# user_id가 4인 평점을 딕셔너리에 저장한다.\n",
    "target_user_movie_rating_dict = {}\n",
    "\n",
    "for idx, row in a1.iterrows() :\n",
    "\t# 영화 id를 가져온다.\n",
    "    movie_id = row[\"movie_id\"]\n",
    "    target_user_movie_rating_dict[movie_id] = row[\"rating\"]\n",
    "    \n",
    "target_user_movie_rating_dict"
   ]
  },
  {
   "cell_type": "code",
   "execution_count": null,
   "id": "d9f43c47",
   "metadata": {},
   "outputs": [],
   "source": [
    "#마지막으로 4번 사용자가 아직 보지 않은 영화의 인덱스를 가져온다.\n",
    "test_data = []\n",
    "\n",
    "a1 = list(target_user_movie_rating_dict.keys())"
   ]
  },
  {
   "cell_type": "code",
   "execution_count": null,
   "id": "5f35b916",
   "metadata": {},
   "outputs": [],
   "source": [
    "#영화의 수만큼 반복하면서 for문을 돌리고 영화 id를 가져온다. \n",
    "for movie_id in data[\"movie_id\"] : \n",
    "    if movie_id not in a1 :\n",
    "    \t# 현재 영화를 담는다.\n",
    "        test_data.append((target_user_id, movie_id, 0))  # 튜플로 담는다.\n",
    "        \n",
    "test_data"
   ]
  },
  {
   "cell_type": "code",
   "execution_count": null,
   "id": "15744393",
   "metadata": {},
   "outputs": [],
   "source": [
    "#Surprise 형식에 맞게 데이터가 준비되었다. 이제 점수를 예측하는 모델을 만들고 학습을 시킨다.\n",
    "target_user_predictions = model.test(test_data)\n",
    "#target_user_predictions\n",
    "accuracy.rmse(predictions)"
   ]
  },
  {
   "cell_type": "code",
   "execution_count": null,
   "id": "267ab004",
   "metadata": {},
   "outputs": [],
   "source": [
    "#예상 영화 평점만 출력한다.\n",
    "for uid, iid, r_ui, est, _ in target_user_predictions : \n",
    "\tprint(f\"{iid} : {round(est, 1)}\")"
   ]
  },
  {
   "cell_type": "code",
   "execution_count": null,
   "id": "00ce68de",
   "metadata": {},
   "outputs": [],
   "source": [
    "# 데이터는 완성되었으니 이제 상위 10개 데이터만 보기 좋게 출력하도록 하자.\n",
    "# 먼저 예측된 점수를 담을 딕셔너리를 생성하고, 원하는 데이터(movie_id, rating)만을 추출해 담는다.\n",
    "predict_dict = {\n",
    "\t\"movie_id\" : [],\n",
    "    \"rating\" : []\n",
    "}\n",
    "\n",
    "# 원하는 데이터 추출\n",
    "for _, movie_id, _, rating, _ in target_user_predictions :\n",
    "    predict_dict[\"movie_id\"].append(movie_id)\n",
    "    predict_dict[\"rating\"].append(round(rating, 1))\n",
    "\n",
    "# 데이터프레임 저장\n",
    "predict_df = pd.DataFrame(predict_dict)\n",
    "predict_df.sort_values(by = \"rating\", inplace=True, ascending=False)\n",
    "predict_df"
   ]
  },
  {
   "cell_type": "code",
   "execution_count": null,
   "id": "deab14af",
   "metadata": {},
   "outputs": [],
   "source": [
    "#상위 10개 데이터만 추출한다. \n",
    "a2 = predict_df.head(10)\n",
    "a2"
   ]
  },
  {
   "cell_type": "code",
   "execution_count": null,
   "id": "9c66d152",
   "metadata": {},
   "outputs": [],
   "source": [
    "#영화 제목과 평점 정보를 출력하기 위해 rating_data의 인덱스 값과 movie_data의 index 값이 일치하는 것을 가져온다. \n",
    "for mid in a2[\"movie_id\"] : \n",
    "\t# 영화 제목을 가져온다.\n",
    "    str_expr = 'movie_id =='+str(mid)\n",
    "    idx1 = data.query(str_expr).index\n",
    "    movie_title = data.loc[idx1, \"title\"]\n",
    "    \n",
    "    # 평점 정보를 가져온다.\n",
    "    idx2 = a2.query(str_expr).index\n",
    "    movie_rating = a2.loc[idx2, \"rating\"]\n",
    "    \n",
    "    print(f\"영화 제목 : {movie_title.values[0]}\")\n",
    "    print(f\"장르 : {data.loc[movie_title.index[0]][2]}\")\n",
    "    print(f\"국가 : {data.loc[movie_title.index[0]][3]}\")\n",
    "    print(f\"배우 : {data.loc[movie_title.index[0]][6]}\")\n",
    "    print(f\"평균 평점 : {data.loc[movie_title.index[0]][5]}\")\n",
    "    print(f\"예상 평점 : {movie_rating.values[0]}\")"
   ]
  },
  {
   "cell_type": "markdown",
   "id": "f5c9d4da",
   "metadata": {},
   "source": [
    "출처 : https://moojuksublime.tistory.com/13?category=1203704"
   ]
  }
 ],
 "metadata": {
  "kernelspec": {
   "display_name": "Python 3 (ipykernel)",
   "language": "python",
   "name": "python3"
  },
  "language_info": {
   "codemirror_mode": {
    "name": "ipython",
    "version": 3
   },
   "file_extension": ".py",
   "mimetype": "text/x-python",
   "name": "python",
   "nbconvert_exporter": "python",
   "pygments_lexer": "ipython3",
   "version": "3.9.7"
  }
 },
 "nbformat": 4,
 "nbformat_minor": 5
}
